{
 "cells": [
  {
   "cell_type": "markdown",
   "metadata": {
    "id": "caN7N4vBCaT2"
   },
   "source": [
    "# What is this about?\n",
    "This notebook is the basis of the Week Zero Python bootcamp for all students participating in **OIT248**. "
   ]
  },
  {
   "cell_type": "markdown",
   "metadata": {
    "id": "cIhtwtjVYRO1"
   },
   "source": [
    "To start, try running the code cell in the **Comments** section below. Specifically:\n",
    "\n",
    " 1. Because the cell is \"hidden\", let's first open it. You can do this either by clicking the \" > \" immediately to the left of the section title (**Comments**) or by clicking the grey bar with the text _\"1 cell hidden\"_  \n",
    "\n",
    " 2. Let's now run the code inside the cell. You can do this by:\n",
    "    \n",
    "  (i) hovering with your mouse on top of the code cell and clicking the little \"Play button\" that will appear on the left or <br>\n",
    "  (ii) clicking inside the code cell and hitting `Shift`+`Enter` on your keyboard.\n",
    "\n",
    "If everything works properly, you should a welcome message displayed immediately below the code cell that also includes a calculation of the total number of minutes in a leap year..."
   ]
  },
  {
   "cell_type": "markdown",
   "metadata": {
    "id": "4e2QzVgcEdPq"
   },
   "source": [
    "# Comments\n",
    "Comments in Python start with a `#` like directly below"
   ]
  },
  {
   "cell_type": "code",
   "execution_count": null,
   "metadata": {
    "collapsed": true,
    "id": "dngXKf6QEctO",
    "jupyter": {
     "outputs_hidden": true
    }
   },
   "outputs": [],
   "source": [
    "# this line and the line below it are comments and Python will ignore them\n",
    "# print(\"Something interesting\")\n",
    "\n",
    "# instead, the line below this will print a welcome message\n",
    "print(\"Welcome to OIT 248! The number of minutes in a leap year is:\", 366*24*60)"
   ]
  },
  {
   "cell_type": "markdown",
   "metadata": {},
   "source": [
    "## In a Jupyter notebook, it's easy to add comments and notes, like this one. This particular type of cell is a Markdown cell, which allows us to comment and document our notebooks.\n",
    "### You can also see the effect of using one or multiple # signs: these create sections, sub-sections, sub-sub-sections, etc.\n",
    "\n",
    "#### Click the Run button above of hit `Shift+Enter` on your keyboard to finish this cell and move on to the next one."
   ]
  },
  {
   "cell_type": "markdown",
   "metadata": {},
   "source": [
    "#### Here are a few reminders as we get started using python through Jupyter:\n",
    "* Don't forget to save your work by hitting the save button above (far left) periodically\n",
    "* We will mostly be using \"Markdown\" and \"Code\" cells - you can switch between them with the pulldown menu above\n",
    "* If you want to clear all of the output and re-run a notebook, go to the \"Kernel\" menu above, and select \"Restart and clear output'\n",
    "* We will mostly just be using the Run button today, but some of the other buttons will be useful to you as we progress: Stop, Copy, Paste, etc.\n",
    "\n",
    "<font color=blue>**NOTE**: Throughout this class, we will not always code something in the most efficient way possible, and there are almost always multiple ways of achieving the same thing. We'll try to suggest a combination of best-practice and intuitive/simple code, but don't hesitate to ask us to check your work if you decided to take a different approach.</font>"
   ]
  },
  {
   "cell_type": "code",
   "execution_count": null,
   "metadata": {
    "collapsed": true,
    "jupyter": {
     "outputs_hidden": true
    }
   },
   "outputs": [],
   "source": [
    "# This is a code cell - if you want to add a comment in a code cell, just put a pound sign in front of it\n",
    "# Let's do some simple calculations\n",
    "6*9 + 41"
   ]
  },
  {
   "cell_type": "code",
   "execution_count": null,
   "metadata": {
    "collapsed": true,
    "jupyter": {
     "outputs_hidden": true
    }
   },
   "outputs": [],
   "source": [
    "2**10"
   ]
  },
  {
   "cell_type": "code",
   "execution_count": null,
   "metadata": {
    "collapsed": true,
    "jupyter": {
     "outputs_hidden": true
    }
   },
   "outputs": [],
   "source": [
    "600/34 - 5"
   ]
  },
  {
   "cell_type": "markdown",
   "metadata": {
    "jp-MarkdownHeadingCollapsed": true
   },
   "source": [
    "# Variables\n",
    "Let's create some simple variables. The equals sign `=` **assigns** a value to the variable.\n",
    "We will also use a double equals sign `==` later, which **tests for equality**."
   ]
  },
  {
   "cell_type": "code",
   "execution_count": null,
   "metadata": {
    "collapsed": true,
    "jupyter": {
     "outputs_hidden": true
    }
   },
   "outputs": [],
   "source": [
    "# Assign the value 10 to the variable NumStudents\n",
    "NumStudents = 10"
   ]
  },
  {
   "cell_type": "code",
   "execution_count": null,
   "metadata": {
    "collapsed": true,
    "jupyter": {
     "outputs_hidden": true
    }
   },
   "outputs": [],
   "source": [
    "# IMPORTANT NOTE: Variable names are case-sensitive\n",
    "# This works:\n",
    "NumStudents"
   ]
  },
  {
   "cell_type": "code",
   "execution_count": null,
   "metadata": {
    "collapsed": true,
    "jupyter": {
     "outputs_hidden": true
    }
   },
   "outputs": [],
   "source": [
    "# This will give you an error, because the n is not capitalized:\n",
    "numStudents"
   ]
  },
  {
   "cell_type": "markdown",
   "metadata": {},
   "source": [
    "<font color=blue>**Remark.** As you are executing code cells, note how the number next to each input code cell and corresponding output is increasing: your first cell had `In [1]` and `Out[1]`, then `In[2]` and `Out[2]`, and so on. That counter keeps track of the latest instruction that was run. In a Jupyter Notebook, you can actually go back and run older segments of code or even jump ahead and skip some code, so the progression is not sequential. To see this, try running the first line of code again! Assuming that you did not run something twice so far, you should see the counter changing to `In[7]` and `Out[7]`. Being able to jump back and forth is useful because it allows you to play/test different things, without having to run the entire code linearly from top to bottom. **But you have to be careful, because running an older instruction or skipping code could result in unintended things.** For instance, consider the piece of code below: </font>"
   ]
  },
  {
   "cell_type": "code",
   "execution_count": null,
   "metadata": {
    "collapsed": true,
    "jupyter": {
     "outputs_hidden": true
    }
   },
   "outputs": [],
   "source": [
    "NumStudents = NumStudents + 1\n",
    "\n",
    "NumStudents"
   ]
  },
  {
   "cell_type": "markdown",
   "metadata": {},
   "source": [
    "<font color=blue>This increases the value of the `NumStudents` variable by one. When you run it for the first time, it should print 11 (because that variable was initially assigned a value of 10 in `In[4]`). But if you run this code again, it will print 12, and then 13, etc. </font><br>\n",
    "    \n",
    "<font color=blue>**Useful tip**: sometimes, it is helpful to re-run all the instructions in the notebook from top to bottom up to some point. (For instance, suppose we want to re-run everything from the top to this section of the notebook). To do so:<br></font>\n",
    "  1. <font color=blue> restart the Kernel: either from **\"Kernel > Restart\"** or by clicking the button with the little clockwise turning arrow that says \"restart the kernel (with dialog)\"</font>\n",
    "  2. <font color=blue> select the cell immediately below the point where you want the code to stop </font>\n",
    "  3. <font color=blue> from the **\"Cell\"** menu, select **\"Run All Above\"**</font>\n",
    "</font>\n",
    "\n",
    "<font color=blue> Feel free to try this right now! Select this cell of text, and execute the steps above! You will see that the notebook will re-run, but the counter will not make it all the way here! The reason is the (intentional) error in `In[6]`: **the execution thread will stop when it encounters an error!** So you will need to run everything after that manually.</font>"
   ]
  },
  {
   "cell_type": "markdown",
   "metadata": {},
   "source": [
    "Note that above, we printed the value of a variable by simply typing its name, i.e., `NumStudents`. That works fine if it's the last instruction in the code. But if you have some other instructions (like new variable assignments) following that, the printing would not work. For instance, consider this piece of code:"
   ]
  },
  {
   "cell_type": "code",
   "execution_count": null,
   "metadata": {
    "collapsed": true,
    "jupyter": {
     "outputs_hidden": true
    }
   },
   "outputs": [],
   "source": [
    "NumStudents\n",
    "\n",
    "aux = 5"
   ]
  },
  {
   "cell_type": "markdown",
   "metadata": {},
   "source": [
    "As you can see, the code above is not displaying the value of `NumStudents` anymore! In this case, to display the value, use the function `print`, like below:"
   ]
  },
  {
   "cell_type": "code",
   "execution_count": null,
   "metadata": {
    "collapsed": true,
    "jupyter": {
     "outputs_hidden": true
    }
   },
   "outputs": [],
   "source": [
    "print(NumStudents)\n",
    "aux = 5"
   ]
  },
  {
   "cell_type": "markdown",
   "metadata": {},
   "source": [
    "Above, `print` is a **function** that simply displays its given **argument** (i.e., the variable `StudentName`). We will see many more functions as we go along. Note that the arguments to a function are always surrounded by parentheses `(...)`.\n",
    "\n",
    "Now let's set the number of students back to 10, because that's useful later!"
   ]
  },
  {
   "cell_type": "code",
   "execution_count": null,
   "metadata": {
    "collapsed": true,
    "jupyter": {
     "outputs_hidden": true
    }
   },
   "outputs": [],
   "source": [
    "NumStudents = 10\n",
    "print(NumStudents)"
   ]
  },
  {
   "cell_type": "markdown",
   "metadata": {
    "jp-MarkdownHeadingCollapsed": true
   },
   "source": [
    "# Data Types\n",
    "The main kinds of data that we'll be using in OIT 248 are `int` (integers), `float` (floating point values), `str` (string), boolean (`bool`), and some more advanced Python-specific data types (lists and dictionaries, which we'll discuss a bit later). "
   ]
  },
  {
   "cell_type": "code",
   "execution_count": null,
   "metadata": {
    "collapsed": true,
    "jupyter": {
     "outputs_hidden": true
    }
   },
   "outputs": [],
   "source": [
    "# integers (int)\n",
    "x = 10\n",
    "\n",
    "# floating point numbers (float)\n",
    "z = 4.5\n",
    "\n",
    "# boolean (bool)\n",
    "is_OIT248_amazing = True"
   ]
  },
  {
   "cell_type": "markdown",
   "metadata": {},
   "source": [
    "You can create strings either using single quotation `'` or using double-quotation `\"`. Each of these is useful depending on the case: you should use double quotes if there is an apostrophe in the string and single quotes if there is a double-quote in the string..."
   ]
  },
  {
   "cell_type": "code",
   "execution_count": null,
   "metadata": {},
   "outputs": [],
   "source": [
    "# strings (str) can be created with either ` or \"\"\n",
    "one_string = \"Why does Arbuckle not have salmon today?\"\n",
    "another_string = 'I LOVE THE GSB!'\n",
    "\n",
    "# if a string has an apostrophe in it, you must use \" when creating it\n",
    "a_string_with_apostrophe = \"Jack's IPhone\"\n",
    "print(a_string_with_apostrophe)\n",
    "\n",
    "# similarly, if a string has a quotation mark in it, you must use the apostrophe to create it '\n",
    "a_string_with_quotation = 'An example of string is \"Jack\"'\n",
    "print(a_string_with_quotation)"
   ]
  },
  {
   "cell_type": "markdown",
   "metadata": {
    "jp-MarkdownHeadingCollapsed": true
   },
   "source": [
    "# Printing\n",
    "We already saw the `print` function, which allows printing variables. Let's dive a bit deeper and print some more complex messages. "
   ]
  },
  {
   "cell_type": "code",
   "execution_count": null,
   "metadata": {
    "collapsed": true,
    "jupyter": {
     "outputs_hidden": true
    }
   },
   "outputs": [],
   "source": [
    "print(\"We have 10 students in our class.\")\n",
    "# Better approach:\n",
    "print(\"We have %d students in our class.\" % NumStudents)"
   ]
  },
  {
   "cell_type": "markdown",
   "metadata": {},
   "source": [
    "The '%' symbol is used to put a dynamic object in a print statement. It may look familiar to those of you with C/C++ or MATLAB background. \n",
    "\n",
    "The letter afterwards specifies the type of data: %d (for integers), %s (for strings), %f (for \"floating point\" values)"
   ]
  },
  {
   "cell_type": "markdown",
   "metadata": {},
   "source": [
    "<font color=blue>__Remark.__ Although the % approach works, there better way to print in Python is using **`f-strings`**. Here is how the code immediately above would look with an f-string:"
   ]
  },
  {
   "cell_type": "code",
   "execution_count": null,
   "metadata": {
    "collapsed": true,
    "jupyter": {
     "outputs_hidden": true
    }
   },
   "outputs": [],
   "source": [
    "# print the same thing with f-strings\n",
    "print(f\"We have {NumStudents:d} students.\")"
   ]
  },
  {
   "cell_type": "markdown",
   "metadata": {},
   "source": [
    "With the f-string approach, you can print many types of variables and combine text and variables. \n",
    "\n",
    "For instance, let's print several values with different formatting."
   ]
  },
  {
   "cell_type": "code",
   "execution_count": null,
   "metadata": {
    "collapsed": true,
    "jupyter": {
     "outputs_hidden": true
    }
   },
   "outputs": [],
   "source": [
    "name = \"Linwei\"        # a string\n",
    "age = 32               # an integer\n",
    "gpa = 3.92             # a float\n",
    "income = 245894.242    # a large float\n",
    "\n",
    "print(f\"The person named {name:<10s} with age {age} and GPA {gpa:.2f} has income of {income:,.3f}\")\n",
    "print(f\"The person named {'Jonathan':<10s} with age {age*2} and GPA {gpa:.2f} has income of {income*3:,.3f}\")"
   ]
  },
  {
   "cell_type": "markdown",
   "metadata": {
    "jp-MarkdownHeadingCollapsed": true
   },
   "source": [
    "# If-Else Statements\n",
    "You can implement \"if-else statements\" in Python using the following syntax:\n",
    "> if `logical_condition_1`:<br>\n",
    "> $ \\qquad$ first instruction if logical_condition_1 is True<br>\n",
    "> $ \\qquad$ second instruction if logical_condition_1 is True<br>\n",
    "> elif `logical_condition_2`:<br>\n",
    "> $ \\qquad$ instructions if logical_condition_1 is False and logical_condition_2 is True <br>\n",
    "> ...<br>\n",
    "> else:<br>\n",
    "> $ \\qquad$ instructions if all logical conditions above are False\n",
    "\n",
    "Some examples:"
   ]
  },
  {
   "cell_type": "code",
   "execution_count": null,
   "metadata": {
    "collapsed": true,
    "jupyter": {
     "outputs_hidden": true
    }
   },
   "outputs": [],
   "source": [
    "a = 15\n",
    "b = 17\n",
    "if (a > b):\n",
    "    print(\"a is bigger than b\")\n",
    "elif (a == b):\n",
    "    print(\"a is equal to b\")\n",
    "else:\n",
    "    print(\"a is smaller than b\")"
   ]
  },
  {
   "cell_type": "markdown",
   "metadata": {},
   "source": [
    "<font color=blue>**A few critical things to note in the code for `if-else` above:** </font><br>\n",
    " <font color=blue>1. the colon `:` is critical on the first line. </font><br> \n",
    " <font color=blue>2. the intendation on the second line (and for any instructions in that block) is critical you can use as many spaces as you like or use tabs </font>\n",
    "\n",
    "The colon and indentation are how python knows what to do. The colon indicates the start of the instructions corresponding to the case when the `if` statement is true, and all following indented lines will be considered part of that code block. As soon as you unindent a line, it is no longer part of the loop.\n",
    "\n",
    "For instance, consider the following code:"
   ]
  },
  {
   "cell_type": "code",
   "execution_count": null,
   "metadata": {
    "collapsed": true,
    "jupyter": {
     "outputs_hidden": true
    }
   },
   "outputs": [],
   "source": [
    "# an if statement to show the effect of indentation\n",
    "if a > b:\n",
    "    print(\"I am only printing this if a is bigger than b\")\n",
    "print(\"I am printing this regardless of a and b\")"
   ]
  },
  {
   "cell_type": "markdown",
   "metadata": {},
   "source": [
    "Also, forgetting the colon or the indentation can result in errors:"
   ]
  },
  {
   "cell_type": "code",
   "execution_count": null,
   "metadata": {
    "collapsed": true,
    "jupyter": {
     "outputs_hidden": true
    }
   },
   "outputs": [],
   "source": [
    "# forgetting the colon :\n",
    "if (a > b)\n",
    "    print(\"a is bigger than b\")"
   ]
  },
  {
   "cell_type": "code",
   "execution_count": null,
   "metadata": {
    "collapsed": true,
    "jupyter": {
     "outputs_hidden": true
    }
   },
   "outputs": [],
   "source": [
    "# forgetting the indentation :\n",
    "if (a > b):\n",
    "print(\"a is bigger than b\")"
   ]
  },
  {
   "cell_type": "markdown",
   "metadata": {},
   "source": [
    "The logical conditions that appear in the `if-else` statement are constructed with logical operators like `<=`, `>=`, `<`, `>`, `==`, `!=` and \n",
    "boolean operators `and`, `or`, `not` that allow you to combine conditions. We'll practice with those soon..."
   ]
  },
  {
   "cell_type": "markdown",
   "metadata": {
    "jp-MarkdownHeadingCollapsed": true
   },
   "source": [
    "# For Loops\n",
    "A `for` loop is used to iterate over a sequence. Syntax:\n",
    "> for `variable` in `sequence`:<br>\n",
    "> $ \\qquad$ instructions line 1<br>\n",
    "> $ \\qquad$ instructions line 2"
   ]
  },
  {
   "cell_type": "markdown",
   "metadata": {},
   "source": [
    "<font color=blue>**Just like with `if` statements, the colon `:` and indentation are critical in a `for` loop.**</font>\n",
    "\n",
    "For now, we don't have very nice examples, but they are coming up shortly..."
   ]
  },
  {
   "cell_type": "markdown",
   "metadata": {
    "id": "oNQKp0XoaeFG",
    "jp-MarkdownHeadingCollapsed": true
   },
   "source": [
    "# Ranges\n",
    "The `range` function in Python returns a sequence of numbers. It syntax is:\n",
    ">  `range(start,stop,step)`\n",
    "\n",
    "- `start` is optional and is an **integer** that specifies at which position to start. If you omit this, the default value is 0.\n",
    "- `stop` is required and is an **integer** that specifies at which position to end.  This value will not be included, so the range will actually end with the value `stop-1`.\n",
    "- `step` is an optional **integer** and specifies the increment. If you omit it, the default is 1.\n",
    "\n",
    "This function will be very useful, so please familiarize yourself with the examples below."
   ]
  },
  {
   "cell_type": "markdown",
   "metadata": {
    "id": "URwa6nI4skiv"
   },
   "source": [
    "Create a range with a single argument."
   ]
  },
  {
   "cell_type": "code",
   "execution_count": null,
   "metadata": {
    "colab": {
     "base_uri": "https://localhost:8080/"
    },
    "collapsed": true,
    "id": "rbIko_OgYcJd",
    "jupyter": {
     "outputs_hidden": true
    },
    "outputId": "3f3ee38d-ed63-477c-90ac-37a13b1c9831"
   },
   "outputs": [],
   "source": [
    "range(5)"
   ]
  },
  {
   "cell_type": "markdown",
   "metadata": {
    "id": "SuQ_t2PusvUv"
   },
   "source": [
    "By itself, this is not terribly useful. But we can loop through it using a `for` statement."
   ]
  },
  {
   "cell_type": "code",
   "execution_count": null,
   "metadata": {
    "colab": {
     "base_uri": "https://localhost:8080/"
    },
    "collapsed": true,
    "id": "o0-lAa-HsuZD",
    "jupyter": {
     "outputs_hidden": true
    },
    "outputId": "31871022-05fd-4b37-efd7-cef51f36efad"
   },
   "outputs": [],
   "source": [
    "for i in range(5):\n",
    "    print(i)"
   ]
  },
  {
   "cell_type": "markdown",
   "metadata": {
    "id": "kVMz6XGStNCt"
   },
   "source": [
    "Now to play with the other versions of `range`"
   ]
  },
  {
   "cell_type": "code",
   "execution_count": null,
   "metadata": {
    "colab": {
     "base_uri": "https://localhost:8080/"
    },
    "collapsed": true,
    "id": "afbHALrctQ_6",
    "jupyter": {
     "outputs_hidden": true
    },
    "outputId": "f87f05a1-9109-4fd1-d2df-1bb4217c60ba"
   },
   "outputs": [],
   "source": [
    "print(\"Here are all the integers from 5 to 10, INCLUDING 10\")\n",
    "for i in range(5,11):\n",
    "     print(i)\n",
    "\n",
    "print(\"\\nAnd here are all the even numbers less than 10\")\n",
    "for i in range(0,10,2):\n",
    "     print(i)"
   ]
  },
  {
   "cell_type": "markdown",
   "metadata": {
    "jp-MarkdownHeadingCollapsed": true
   },
   "source": [
    "# Lists\n",
    "\n",
    "## Fundamentals\n",
    "Lists are used to store multiple items in a single variable. Lists can be created using square brackets `[.]`.\n",
    "\n",
    "Let's create a list of student names..."
   ]
  },
  {
   "cell_type": "code",
   "execution_count": null,
   "metadata": {
    "collapsed": true,
    "jupyter": {
     "outputs_hidden": true
    }
   },
   "outputs": [],
   "source": [
    "# List of 10 student names\n",
    "StudentName = [\"Ann\", \"Bob\", \"Carl\", \"Dan\", \"Eva\", \"Fiona\", \"Gabe\", \"Hal\", \"Irene\", \"Jack\"]\n",
    "\n",
    "# print it out\n",
    "print(StudentName)"
   ]
  },
  {
   "cell_type": "markdown",
   "metadata": {},
   "source": [
    "The square brackets and commas are what define this as a list. "
   ]
  },
  {
   "cell_type": "markdown",
   "metadata": {},
   "source": [
    "<font color=blue>__Remark.__ **In Python, a list can contain many kinds of data.** This might be surprising to someone with coding background in other languages... Here's an example of a list that contains a string, a float, another list, and some numbers. </font>"
   ]
  },
  {
   "cell_type": "code",
   "execution_count": null,
   "metadata": {
    "collapsed": true,
    "jupyter": {
     "outputs_hidden": true
    }
   },
   "outputs": [],
   "source": [
    "# crazy list containing a string, a float, another list (!), and several 5s\n",
    "crazy_list = [\"a string\", 4.75, ['Federer', 'Nadal', 'Djokovic'], 5, 5, 5]\n",
    "print(crazy_list)"
   ]
  },
  {
   "cell_type": "markdown",
   "metadata": {},
   "source": [
    "You can check the **length** of the list (i.e., how many elements are in the list) using the `len` function"
   ]
  },
  {
   "cell_type": "code",
   "execution_count": null,
   "metadata": {
    "collapsed": true,
    "jupyter": {
     "outputs_hidden": true
    }
   },
   "outputs": [],
   "source": [
    "# Check the length of the list\n",
    "len(StudentName)"
   ]
  },
  {
   "cell_type": "markdown",
   "metadata": {},
   "source": [
    "The elements in the list are ordered and you can recover elements at specific locations in the list using the bracket indexing. \n",
    "\n",
    "Python uses \"zero-indexing\", which means that the first element has index 0 and the last one has index `len(list)-1`.\n",
    "\n",
    "Let's print out the first element in the list:"
   ]
  },
  {
   "cell_type": "code",
   "execution_count": null,
   "metadata": {
    "collapsed": true,
    "jupyter": {
     "outputs_hidden": true
    }
   },
   "outputs": [],
   "source": [
    "StudentName[0]"
   ]
  },
  {
   "cell_type": "markdown",
   "metadata": {},
   "source": [
    "You can also access several contiguous items in the list using a **range** of indices specified with `:`"
   ]
  },
  {
   "cell_type": "code",
   "execution_count": null,
   "metadata": {
    "collapsed": true,
    "jupyter": {
     "outputs_hidden": true
    }
   },
   "outputs": [],
   "source": [
    "StudentName[1:3]"
   ]
  },
  {
   "cell_type": "markdown",
   "metadata": {},
   "source": [
    "<font color=blue>**Important!** The syntax `1:3` works just like `range(1,3)`, so it creates the values `1,2`. In other words, starting at the first number and up to but __not__ including the last number.</font> "
   ]
  },
  {
   "cell_type": "code",
   "execution_count": null,
   "metadata": {
    "collapsed": true,
    "jupyter": {
     "outputs_hidden": true
    }
   },
   "outputs": [],
   "source": [
    "# This one will print Ann, Bob, and Carl\n",
    "StudentName[0:3]"
   ]
  },
  {
   "cell_type": "code",
   "execution_count": null,
   "metadata": {
    "collapsed": true,
    "jupyter": {
     "outputs_hidden": true
    }
   },
   "outputs": [],
   "source": [
    "# If you want to go all the way to the end of the string, just leave out the last digit\n",
    "StudentName[6:]"
   ]
  },
  {
   "cell_type": "markdown",
   "metadata": {},
   "source": [
    "To change an element at a specific location of a list, you can just use the `=` sign with the right indexing. \n",
    "\n",
    "For instance, let's print the list and then change the element in the second position and print it again to see the results:"
   ]
  },
  {
   "cell_type": "code",
   "execution_count": null,
   "metadata": {
    "collapsed": true,
    "jupyter": {
     "outputs_hidden": true
    }
   },
   "outputs": [],
   "source": [
    "print(StudentName)\n",
    "StudentName[1] = \"Bobby\"\n",
    "print(StudentName)"
   ]
  },
  {
   "cell_type": "markdown",
   "metadata": {
    "id": "6WIS2Dmwiuje"
   },
   "source": [
    "<font color=red>**You should be careful with the _assignment_ operator `=` for a list!**<br></font>\n",
    "<font color=red>The assignment operator will **NOT** create a copy of a list; rather, it will create a new/alternative name for the list</font>"
   ]
  },
  {
   "cell_type": "code",
   "execution_count": null,
   "metadata": {
    "colab": {
     "base_uri": "https://localhost:8080/"
    },
    "collapsed": true,
    "id": "L_JUkcrHitxs",
    "jupyter": {
     "outputs_hidden": true
    },
    "outputId": "92336b5a-1010-4a12-de6c-f438d72f04d6"
   },
   "outputs": [],
   "source": [
    "# are we creating a copy of `StudentName` stored in the new variable `new_list`?\n",
    "new_list = StudentName\n",
    "\n",
    "# print both lists\n",
    "print(\"Here are the two lists\")\n",
    "print(StudentName)\n",
    "print(new_list)\n",
    "\n",
    "# let's change the first element in this \"new\" list\n",
    "new_list[0] = \"Georgia\"\n",
    "\n",
    "# print both lists\n",
    "print(\"Here are the two lists after changing\")\n",
    "print(StudentName)\n",
    "print(new_list)\n",
    "# Note how BOTH lists are changing (because the new list just points to the old one)"
   ]
  },
  {
   "cell_type": "markdown",
   "metadata": {},
   "source": [
    "If you want to create a genuine **copy** of a list, you can use the `copy` method. Details under the list methods section."
   ]
  },
  {
   "cell_type": "markdown",
   "metadata": {
    "id": "0jMi85dmoQoc"
   },
   "source": [
    "## Looping through lists\n",
    "There are several ways to loop through lists"
   ]
  },
  {
   "cell_type": "markdown",
   "metadata": {
    "id": "DWIrojd7pVKa"
   },
   "source": [
    "**Option 1.**<br>\n",
    "If you just care about the elements in the list **but not** their indices/locations, you can use a `for` loop through the elements themselves"
   ]
  },
  {
   "cell_type": "code",
   "execution_count": null,
   "metadata": {
    "colab": {
     "base_uri": "https://localhost:8080/"
    },
    "collapsed": true,
    "id": "mU-I0CsdoQot",
    "jupyter": {
     "outputs_hidden": true
    },
    "outputId": "d783f3ad-9f7d-416c-a7bc-3fc583759ba5"
   },
   "outputs": [],
   "source": [
    "# loop through the elements in `crazy_list` and store them in 'v'\n",
    "for v in crazy_list:\n",
    "    # 'v` now stores an element from the list; let's print 'v'\n",
    "    print(v)"
   ]
  },
  {
   "cell_type": "markdown",
   "metadata": {},
   "source": [
    "<font color=blue>**Remark**. The `for` loop above may seem surprising if you have a background in other programming languages. Note that we are actually **looping through the elements of the list directly**, without any need to index them numerically. This kind of flexibility is what makes Python powerful and we encourage you to get used to it quickly! </blue>\n",
    "\n",
    "Instead, you can loop using a numeric index. To loop through **all** the elements in the list, you need to create the numeric indicies 0, 1, 2, ..., len(list)-1. You can do that using `range`, as follows."
   ]
  },
  {
   "cell_type": "markdown",
   "metadata": {
    "id": "r6jsyqZpp_U0"
   },
   "source": [
    "**Option 2.**<br>\n",
    "If you need the elements in the list **as well as** their indices, you can write a \"classic\" for loop. Specifically, for a list, we actually know what the indices are: they are 0, 1, 2, ..., number of elements-1. So we can get these using the `range(.)` and `len(.)` functions:"
   ]
  },
  {
   "cell_type": "code",
   "execution_count": null,
   "metadata": {
    "colab": {
     "base_uri": "https://localhost:8080/"
    },
    "collapsed": true,
    "id": "PFu_zvMxp_U1",
    "jupyter": {
     "outputs_hidden": true
    },
    "outputId": "4605e813-f54e-4f88-fdc7-b6373584803e"
   },
   "outputs": [],
   "source": [
    "# calculate the number of elements in the list\n",
    "num_elements_in_list = len(crazy_list)\n",
    "\n",
    "# produce the range 0 .. num_elements_in_list - 1\n",
    "indices = range(num_elements_in_list)\n",
    "\n",
    "# and now let's loop through the elements, printing them as well as their index\n",
    "for i in indices:\n",
    "    print(\"At location\", i, \"we can find:\", crazy_list[i])"
   ]
  },
  {
   "cell_type": "markdown",
   "metadata": {
    "id": "JnjAUZXhxNFp"
   },
   "source": [
    "Normally, you would not define all of those variables above and instead use this compact form:"
   ]
  },
  {
   "cell_type": "code",
   "execution_count": null,
   "metadata": {
    "colab": {
     "base_uri": "https://localhost:8080/"
    },
    "collapsed": true,
    "id": "VYpxEUOWxUrF",
    "jupyter": {
     "outputs_hidden": true
    },
    "outputId": "00847881-1f61-4860-a04c-c5921a3f32cf"
   },
   "outputs": [],
   "source": [
    "# let's loop through the elements, printing them as well as their index\n",
    "for i in range(len(crazy_list)):\n",
    "    print(\"At location\", i, \"we can find:\", crazy_list[i])"
   ]
  },
  {
   "cell_type": "markdown",
   "metadata": {},
   "source": [
    "**Option 3.**<br>\n",
    "The cleanest option that gives you access to both the index of elements and the evalues themselves is to use the **enumerate** function:"
   ]
  },
  {
   "cell_type": "code",
   "execution_count": null,
   "metadata": {
    "collapsed": true,
    "jupyter": {
     "outputs_hidden": true
    }
   },
   "outputs": [],
   "source": [
    "for idx, val in enumerate(crazy_list):\n",
    "    print(idx, val)"
   ]
  },
  {
   "cell_type": "markdown",
   "metadata": {},
   "source": [
    "## Basic Operations"
   ]
  },
  {
   "cell_type": "markdown",
   "metadata": {
    "id": "bTT1TQvuuT97"
   },
   "source": [
    "To calculate the length of a list or the minimum or maximum values in the list, use the `len(.)`, `min(.)` and `max(.)` functions."
   ]
  },
  {
   "cell_type": "code",
   "execution_count": null,
   "metadata": {
    "colab": {
     "base_uri": "https://localhost:8080/"
    },
    "collapsed": true,
    "id": "owgRtmb_gvun",
    "jupyter": {
     "outputs_hidden": true
    },
    "outputId": "66366e8c-11e1-43ef-a49c-758965571e79"
   },
   "outputs": [],
   "source": [
    "# create a list of numbers\n",
    "list_of_numbers = [3, 6, 9, 1, -5, 34, 23, 99]\n",
    "\n",
    "# print the length\n",
    "print(len(list_of_numbers))\n",
    "\n",
    "# print the smallest value\n",
    "print(min(list_of_numbers))\n",
    "\n",
    "# print the largest value\n",
    "print(max(list_of_numbers))"
   ]
  },
  {
   "cell_type": "markdown",
   "metadata": {},
   "source": [
    "Now let's give each of the students an ID number."
   ]
  },
  {
   "cell_type": "code",
   "execution_count": null,
   "metadata": {
    "collapsed": true,
    "jupyter": {
     "outputs_hidden": true
    }
   },
   "outputs": [],
   "source": [
    "# Give each of the students an ID number from 1000 up\n",
    "StudentID = list(range(1000,1010))"
   ]
  },
  {
   "cell_type": "code",
   "execution_count": null,
   "metadata": {
    "collapsed": true,
    "jupyter": {
     "outputs_hidden": true
    }
   },
   "outputs": [],
   "source": [
    "# What did we just create?\n",
    "print(StudentID)"
   ]
  },
  {
   "cell_type": "markdown",
   "metadata": {},
   "source": [
    "Let's say we also wanted to create a variable for which section each student is in. "
   ]
  },
  {
   "cell_type": "code",
   "execution_count": null,
   "metadata": {
    "collapsed": true,
    "jupyter": {
     "outputs_hidden": true
    }
   },
   "outputs": [],
   "source": [
    "# If all 10 were in the same section:\n",
    "Section = ['Section 1'] * len(StudentName)"
   ]
  },
  {
   "cell_type": "code",
   "execution_count": null,
   "metadata": {
    "collapsed": true,
    "jupyter": {
     "outputs_hidden": true
    }
   },
   "outputs": [],
   "source": [
    "Section"
   ]
  },
  {
   "cell_type": "code",
   "execution_count": null,
   "metadata": {
    "collapsed": true,
    "jupyter": {
     "outputs_hidden": true
    }
   },
   "outputs": [],
   "source": [
    "# If the first 5 were in Section 1, and the next 5 were in Section 2\n",
    "Section = ['Section 1'] * 5 + ['Section 2'] * 5"
   ]
  },
  {
   "cell_type": "code",
   "execution_count": null,
   "metadata": {
    "collapsed": true,
    "jupyter": {
     "outputs_hidden": true
    }
   },
   "outputs": [],
   "source": [
    "Section"
   ]
  },
  {
   "cell_type": "markdown",
   "metadata": {},
   "source": [
    "<font color=blue>**The example above show how to use `+` and `*` with a list.** If you want to create a list with repetitions of the same value, you can use `*` **applied to a list** containing just the one value. The operator '+' can be applied to lists: it will just concatenate the list elements.</font>\n",
    "\n",
    "Note that you need to make sure you operate with **lists**. To understand that, note that adding a string to the list of names creates an error:"
   ]
  },
  {
   "cell_type": "code",
   "execution_count": null,
   "metadata": {
    "collapsed": true,
    "jupyter": {
     "outputs_hidden": true
    }
   },
   "outputs": [],
   "source": [
    "# adding a string to the list of names:\n",
    "StudentName = StudentName + \"Joe\""
   ]
  },
  {
   "cell_type": "markdown",
   "metadata": {},
   "source": [
    "But adding a **list** with the string \"Joe\" works:"
   ]
  },
  {
   "cell_type": "code",
   "execution_count": null,
   "metadata": {
    "collapsed": true,
    "jupyter": {
     "outputs_hidden": true
    }
   },
   "outputs": [],
   "source": [
    "# adding a string to the list of names:\n",
    "StudentName = StudentName + [\"Joe\"]\n",
    "print(StudentName)"
   ]
  },
  {
   "cell_type": "markdown",
   "metadata": {},
   "source": [
    "Now let's get rid of the last element in the list, because we only want 10 students... You can remove an element by simply reassigning the list with the right indexing:"
   ]
  },
  {
   "cell_type": "code",
   "execution_count": null,
   "metadata": {
    "collapsed": true,
    "jupyter": {
     "outputs_hidden": true
    }
   },
   "outputs": [],
   "source": [
    "StudentName = StudentName[0:len(StudentName)-1]\n",
    "print(StudentName)"
   ]
  },
  {
   "cell_type": "markdown",
   "metadata": {},
   "source": [
    "Now let's create some salary figures for these 10 students (in thousands of dollars...)"
   ]
  },
  {
   "cell_type": "code",
   "execution_count": null,
   "metadata": {
    "collapsed": true,
    "jupyter": {
     "outputs_hidden": true
    }
   },
   "outputs": [],
   "source": [
    "Salaries = [175, 189, 168, 196, 182, 188, 198, 162, 191, 143]"
   ]
  },
  {
   "cell_type": "markdown",
   "metadata": {},
   "source": [
    "Let's find out who makes the most and who makes the least..."
   ]
  },
  {
   "cell_type": "code",
   "execution_count": null,
   "metadata": {
    "collapsed": true,
    "jupyter": {
     "outputs_hidden": true
    }
   },
   "outputs": [],
   "source": [
    "# Maximum value\n",
    "max(Salaries)"
   ]
  },
  {
   "cell_type": "code",
   "execution_count": null,
   "metadata": {
    "collapsed": true,
    "jupyter": {
     "outputs_hidden": true
    }
   },
   "outputs": [],
   "source": [
    "min(Salaries)"
   ]
  },
  {
   "cell_type": "markdown",
   "metadata": {},
   "source": [
    "What if we wanted to know which students the maximum/minimum salaries belong to? We can use the `index` function."
   ]
  },
  {
   "cell_type": "code",
   "execution_count": null,
   "metadata": {
    "collapsed": true,
    "jupyter": {
     "outputs_hidden": true
    }
   },
   "outputs": [],
   "source": [
    "Salaries.index(198)"
   ]
  },
  {
   "cell_type": "code",
   "execution_count": null,
   "metadata": {
    "collapsed": true,
    "jupyter": {
     "outputs_hidden": true
    }
   },
   "outputs": [],
   "source": [
    "Salaries.index(143)"
   ]
  },
  {
   "cell_type": "markdown",
   "metadata": {},
   "source": [
    "The `index` function simply returns the index (i.e., location) in the list corresponding to a given value.\n",
    "\n",
    "<font color=blue>Note that the `index` \"function\" is called a bit differently that what we did so far. We are using the variable name `Salaries` and the dot `.` and then using the function `index`. This kind of function is called a `method`. It's really like any other function, but the key difference is that it \"lives\" inside the variable that appears before the dot `.` symbol. So when it is called, it is applied and acting upon that variable. (This has to do with object-oriented programming, but we will not dive it that much more deeply because it's not critical for our class...) </font>"
   ]
  },
  {
   "cell_type": "markdown",
   "metadata": {},
   "source": [
    "Now let's find out which student has the highest salary..."
   ]
  },
  {
   "cell_type": "code",
   "execution_count": null,
   "metadata": {
    "collapsed": true,
    "jupyter": {
     "outputs_hidden": true
    }
   },
   "outputs": [],
   "source": [
    "# Which STUDENT has the max salary?\n",
    "StudentName[Salaries.index(max(Salaries))]"
   ]
  },
  {
   "cell_type": "markdown",
   "metadata": {},
   "source": [
    "## List Comprehensions\n",
    "One of the most frequent operations that we'll deal with is to create one list based on some other information. \n",
    "\n",
    "For instance, suppose we want to create a list of the students whose names start with the letter 'G'. We can do that using a `for` loop:"
   ]
  },
  {
   "cell_type": "code",
   "execution_count": null,
   "metadata": {
    "collapsed": true,
    "jupyter": {
     "outputs_hidden": true
    }
   },
   "outputs": [],
   "source": [
    "students_with_g = []                              # create an empty list  \n",
    "\n",
    "for s in StudentName:                             # loop through all the student names\n",
    "    if s[0] == 'G':                               # check if the string 's' starts with the letter 'G'\n",
    "        students_with_g = students_with_g + [s]   # add 's' to the list\n",
    "\n",
    "print(students_with_g)"
   ]
  },
  {
   "cell_type": "markdown",
   "metadata": {},
   "source": [
    "The most elegant way to do that in Python is using a **list comprehension**. This can make life a lot easier and it is worth getting used to list comprehensions!"
   ]
  },
  {
   "cell_type": "code",
   "execution_count": null,
   "metadata": {
    "collapsed": true,
    "jupyter": {
     "outputs_hidden": true
    }
   },
   "outputs": [],
   "source": [
    "# create a list using a list comprehension\n",
    "students_with_g = [s for s in StudentName if s[0]=='G']"
   ]
  },
  {
   "cell_type": "markdown",
   "metadata": {
    "id": "ZIS9QCArFFeh"
   },
   "source": [
    "**List comprehensions** offer a very simple way to create a new list based on some existing lists. The syntax is:\n",
    "\n",
    "> `newlist = [`_expression_ `for` _item_ `in` _iterable_ `if` _condition_ `== True]`\n",
    "\n",
    "_iterable_ can be another list or a range (more broadly, any iterable type). The return value is a new list, leaving the old list unchanged."
   ]
  },
  {
   "cell_type": "code",
   "execution_count": null,
   "metadata": {
    "colab": {
     "base_uri": "https://localhost:8080/"
    },
    "collapsed": true,
    "id": "NBrsiK7eFFei",
    "jupyter": {
     "outputs_hidden": true
    },
    "outputId": "6922a24f-cabf-49a7-80e3-90c1d32c3b63"
   },
   "outputs": [],
   "source": [
    "# let's create a list with some fruits\n",
    "fruits = [\"apple\", \"banana\", \"cherry\", \"kiwi\", \"mango\"]\n",
    "\n",
    "# now suppose we want to create a list with all the fruit names ** except apple **\n",
    "fruits_no_apple = [v for v in fruits if v!= \"apple\"]\n",
    "print(fruits_no_apple)"
   ]
  },
  {
   "cell_type": "markdown",
   "metadata": {
    "id": "LJzFVd4pGoyt"
   },
   "source": [
    "If you want to embed an `if-else` condition, you need to switch the order of the `if` and the `for` loop, as follows:"
   ]
  },
  {
   "cell_type": "code",
   "execution_count": null,
   "metadata": {
    "colab": {
     "base_uri": "https://localhost:8080/"
    },
    "collapsed": true,
    "id": "7rKsDfgBHD8F",
    "jupyter": {
     "outputs_hidden": true
    },
    "outputId": "fb407d35-e7d4-4129-a861-6c43ac8117e7"
   },
   "outputs": [],
   "source": [
    "# a copy of the original list where every occurrence of *apple* is replaced with *walnut*\n",
    "fruits_apple_walnut = [v if v!= \"apple\" else \"walnut\" for v in fruits]\n",
    "print(fruits_apple_walnut)"
   ]
  },
  {
   "cell_type": "markdown",
   "metadata": {},
   "source": [
    "## EXERCISE.\n",
    "**<font color=green>1. Create and then print a list with all the students with salaries of 150 or below.</font>**<br>\n",
    "**<font color=green>2. Create and then print a list where all the students with salaries of 150 or below have their salaries changed to a value 999.</font>**"
   ]
  },
  {
   "cell_type": "markdown",
   "metadata": {
    "id": "dvOlucWfcS7b",
    "jp-MarkdownHeadingCollapsed": true
   },
   "source": [
    "# Tuples\n",
    "Tuples allow storing several items in a single variable. They are defined using round brackets `(.)`."
   ]
  },
  {
   "cell_type": "code",
   "execution_count": null,
   "metadata": {
    "colab": {
     "base_uri": "https://localhost:8080/"
    },
    "collapsed": true,
    "id": "SCi2rsqrcS7x",
    "jupyter": {
     "outputs_hidden": true
    },
    "outputId": "4078469d-884c-41de-cf1a-3236d4ef5f6c"
   },
   "outputs": [],
   "source": [
    "# define a tuple with a string, a float, and a list\n",
    "my_tuple = (\"apples\", 3.14, [1, 2, 3])\n",
    "\n",
    "print(my_tuple)"
   ]
  },
  {
   "cell_type": "markdown",
   "metadata": {
    "id": "IifIhw1Rcsel"
   },
   "source": [
    "You might think that the tuple is quite similar to a list, but the fundamental difference is that tuples and **unchangeable**: once you created a tuple, you cannot change its contents.<br>\n",
    "\n",
    "We won't be using tuples directly but many functions in Python return tuples, so you should not be surprised to see them!"
   ]
  },
  {
   "cell_type": "markdown",
   "metadata": {
    "jp-MarkdownHeadingCollapsed": true
   },
   "source": [
    "# Dictionaries\n",
    "Dictionaries are a widely used data structure in python. A dictionary is just a set of key/value pairs and the data is organized so that we can look up the value based on the key. As such, the `keys` have to be unique (but the values can be repeated). For instance, a dictionary could be used to implement a phonebook: you would have the `name` as a key, and the `value` could be the phone number (and other contact information for that person). \n",
    "\n",
    "Let's construct a dictionary in our case. Recall that we had 10 student names, 10 ID numbers, and the corresponding salaries: "
   ]
  },
  {
   "cell_type": "code",
   "execution_count": null,
   "metadata": {
    "collapsed": true,
    "jupyter": {
     "outputs_hidden": true
    }
   },
   "outputs": [],
   "source": [
    "print(StudentName)\n",
    "print(StudentID)\n",
    "print(Salaries)"
   ]
  },
  {
   "cell_type": "markdown",
   "metadata": {},
   "source": [
    "What if we want to create a dictionary where we can look up students based on the name and recover the salary?\n",
    "\n",
    "We could do something like this:"
   ]
  },
  {
   "cell_type": "code",
   "execution_count": null,
   "metadata": {
    "collapsed": true,
    "jupyter": {
     "outputs_hidden": true
    }
   },
   "outputs": [],
   "source": [
    "Salary_dict = {\n",
    "    StudentName[0] : 175,\n",
    "    StudentName[1] : 189,\n",
    "    StudentName[2] : 168,\n",
    "    StudentName[3] : 196,\n",
    "    StudentName[4] : 182,\n",
    "    StudentName[5] : 188,\n",
    "    StudentName[6] : 198,\n",
    "    StudentName[7] : 162,\n",
    "    StudentName[8] : 191,\n",
    "    StudentName[9] : 143\n",
    "}"
   ]
  },
  {
   "cell_type": "markdown",
   "metadata": {},
   "source": [
    "The curly braces `{...}` tell Python that we are creating a dictionary, and the way we are doing it above is through (key,value) pairs separated by a colon `:`\n",
    "\n",
    "Let's print this out for a look:"
   ]
  },
  {
   "cell_type": "code",
   "execution_count": null,
   "metadata": {
    "collapsed": true,
    "jupyter": {
     "outputs_hidden": true
    }
   },
   "outputs": [],
   "source": [
    "# print it\n",
    "print(Salary_dict)"
   ]
  },
  {
   "cell_type": "markdown",
   "metadata": {},
   "source": [
    "We can now retrieve the salary for a given name quite quickly! Let's print Dan's salary:"
   ]
  },
  {
   "cell_type": "code",
   "execution_count": null,
   "metadata": {
    "collapsed": true,
    "jupyter": {
     "outputs_hidden": true
    }
   },
   "outputs": [],
   "source": [
    "# retrieve Dan's salary\n",
    "Salary_dict[\"Dan\"]"
   ]
  },
  {
   "cell_type": "markdown",
   "metadata": {},
   "source": [
    "You can also change the value associated with a key with a simple assignment."
   ]
  },
  {
   "cell_type": "code",
   "execution_count": null,
   "metadata": {
    "collapsed": true,
    "jupyter": {
     "outputs_hidden": true
    }
   },
   "outputs": [],
   "source": [
    "# change Dan's salary\n",
    "Salary_dict[\"Dan\"] = 1000000\n",
    "print(Salary_dict)"
   ]
  },
  {
   "cell_type": "markdown",
   "metadata": {},
   "source": [
    "Of course, the way we created the dictionary above was very manual and error prone. \n",
    "\n",
    "The best way would be to do it programmatically - something like this:"
   ]
  },
  {
   "cell_type": "code",
   "execution_count": null,
   "metadata": {
    "collapsed": true,
    "jupyter": {
     "outputs_hidden": true
    }
   },
   "outputs": [],
   "source": [
    "# A different way to create this dictionary:\n",
    "\n",
    "# Initialize the dictionary to be empty\n",
    "Salary_dict2 = {}\n",
    "\n",
    "# Add the elements with a for loop\n",
    "for i in range(len(StudentName)):\n",
    "    Salary_dict2[StudentName[i]] = Salaries[i]\n",
    "\n",
    "print(Salary_dict2)"
   ]
  },
  {
   "cell_type": "markdown",
   "metadata": {},
   "source": [
    "There are many other functions in Python that directly create dictionaries from lists of keys and values, or from other data structures. For our purposes, the above should pretty much be enough."
   ]
  },
  {
   "cell_type": "markdown",
   "metadata": {
    "jp-MarkdownHeadingCollapsed": true
   },
   "source": [
    "## EXERCISE.\n",
    "<font color=green>**Suppose we are worried that two students have the same name... Create a dictionary with keys corresponding to IDs and values corresponding to a list containing the name and the student's salary. Once done, print out the dictionary.**"
   ]
  },
  {
   "cell_type": "markdown",
   "metadata": {
    "id": "gOLtAzIak-SQ",
    "jp-MarkdownHeadingCollapsed": true
   },
   "source": [
    "# Functions\n",
    "Functions allow organizing the code in blocks that can be called separately (and many times). A function can take several arguments and can return data as a result. In Python, functions are defined using the `def` keyword."
   ]
  },
  {
   "cell_type": "markdown",
   "metadata": {
    "id": "N0RLciM8lRWy"
   },
   "source": [
    "Define several versions of functions, with different levels sophistication "
   ]
  },
  {
   "cell_type": "code",
   "execution_count": null,
   "metadata": {
    "colab": {
     "base_uri": "https://localhost:8080/"
    },
    "collapsed": true,
    "id": "IVtALsAalQXd",
    "jupyter": {
     "outputs_hidden": true
    },
    "outputId": "a8dccc3f-ee5c-4416-a7b4-b1ba391fa4eb"
   },
   "outputs": [],
   "source": [
    "# a function without any arguments\n",
    "def hello():\n",
    "    print(\"Hello again!\")\n",
    "\n",
    "# test this\n",
    "hello()"
   ]
  },
  {
   "cell_type": "markdown",
   "metadata": {},
   "source": [
    "Define another function that adds its two arguments and returns the sum."
   ]
  },
  {
   "cell_type": "code",
   "execution_count": null,
   "metadata": {
    "collapsed": true,
    "jupyter": {
     "outputs_hidden": true
    }
   },
   "outputs": [],
   "source": [
    "def my_smart_addition(a,b):\n",
    "    return a+b\n",
    "\n",
    "# this function returns something; let's store and print the result!\n",
    "result = my_smart_addition(4,7)\n",
    "print(result)"
   ]
  },
  {
   "cell_type": "markdown",
   "metadata": {},
   "source": [
    "When calling the function, it is possible to assign the variables using their names. These are called `keyword arguments`."
   ]
  },
  {
   "cell_type": "code",
   "execution_count": null,
   "metadata": {
    "collapsed": true,
    "jupyter": {
     "outputs_hidden": true
    }
   },
   "outputs": [],
   "source": [
    "print(my_smart_addition(a=4, b=7))\n",
    "\n",
    "# you can even mix keyword arguments with positional arguments, but positional arguments must go first\n",
    "print(my_smart_addition(4, b=7))"
   ]
  },
  {
   "cell_type": "markdown",
   "metadata": {},
   "source": [
    "It is possible to return multiple values. For instance, we define a function that returns two values and another function the packs the values in a list and returns the list."
   ]
  },
  {
   "cell_type": "code",
   "execution_count": null,
   "metadata": {
    "collapsed": true,
    "jupyter": {
     "outputs_hidden": true
    }
   },
   "outputs": [],
   "source": [
    "# a function returning the sum and the different of its arguments\n",
    "def return_sum_and_difference(a,b):\n",
    "    a_plus_b = my_smart_addition(a,b)\n",
    "    a_minus_b = a-b\n",
    "    return a_plus_b, a_minus_b\n",
    "\n",
    "# this returns TWO things; we can store these in a single variable, which will be a tuple\n",
    "result = return_sum_and_difference(2,5)\n",
    "print(result)\n",
    "\n",
    "# you can also assign the two values separately\n",
    "sum_v, diff_v = return_sum_and_difference(2,5)\n",
    "print(f\"The sum is {sum_v} and the difference is {diff_v}\")\n",
    "\n",
    "# we can also have the function return a list\n",
    "def return_sum_and_difference_as_list(a,b):\n",
    "    a_plus_b = my_smart_addition(a,b)\n",
    "    a_minus_b = a-b\n",
    "    return [a_plus_b, a_minus_b]\n",
    "\n",
    "# test\n",
    "print(return_sum_and_difference_as_list(2,5))"
   ]
  },
  {
   "cell_type": "markdown",
   "metadata": {},
   "source": [
    "Lastly, it is possible to assign default values to some arguments and then omit them from the function call."
   ]
  },
  {
   "cell_type": "code",
   "execution_count": null,
   "metadata": {
    "collapsed": true,
    "jupyter": {
     "outputs_hidden": true
    }
   },
   "outputs": [],
   "source": [
    "# Lastly, define a function whose arguments take default values\n",
    "def a_function_with_default_arguments(a, b=20):\n",
    "    return a+b\n",
    "\n",
    "print(a_function_with_default_arguments(5))"
   ]
  },
  {
   "cell_type": "markdown",
   "metadata": {
    "id": "7Hl_vmKflsFm"
   },
   "source": [
    "<font color=blue>A few important things to remember about defining functions:</font>\n",
    " - <font color=blue> The colon `:` is critical in the syntax (just like with `if` and `for`)</font>\n",
    " - <font color=blue> Functions can take arguments</font><br>\n",
    "   <font color=blue> _for instance, the second function takes as arguments two things a, b. These could be any data type._</font>\n",
    " - <font color=blue> The keyword `return` tells the function what value to return </font><br>\n",
    "   <font color=blue>_for instance, the second function returns the sum of its arguments, a + b_</font>\n",
    " - <font color=blue>You can return several values; you should be careful to have the correct number of variables to match these return values!</font><br>\n",
    " - <font color=blue>You can use keyword arguments when calling the function.</font>"
   ]
  },
  {
   "cell_type": "markdown",
   "metadata": {
    "id": "FLPRZLmFkw5U",
    "jp-MarkdownHeadingCollapsed": true
   },
   "source": [
    "# Importing modules\n",
    "A module is essentially a library with lots of functions. By \"importing\" a module with the function `import`, you can use all the functions inside it."
   ]
  },
  {
   "cell_type": "markdown",
   "metadata": {
    "id": "kRRWbTUFtJ-l"
   },
   "source": [
    "For instance, in this class we will use the `pandas` module a lot (for some reasons, see the separate section covering it!) To import it, you could do any of the following:\n",
    "\n",
    "> ``import pandas``\n",
    "\n",
    "This imports the \"pandas\" module, and allows us to use the functions it contains; to use the function `read_csv()`, we would have to use the syntax ``pandas.read_csv()``.\n",
    "\n",
    "Because this requires typing the word `pandas` all the time, we can assign it a 'short name' as follows:\n",
    "\n",
    "> ``import pandas as pd``\n",
    "\n",
    "This also imports the full \"pandas\" module, but now we could call the `fname` function using ``pd.read_csv()``. Saving a few characters could mean a lot if you're typing this thousands of times :-)\n",
    "\n",
    "Lastly, there is one more option that we could use:\n",
    "\n",
    "> ``from pandas import *``\n",
    "\n",
    "This imports everything in the pandas module and makes it so that we can just refer to the function using ``read_csv()``. This is useful if the functions are specific enough that you don't think the same name might be defined/used elsewhere, but it could be dangerous if you think there might be overlap."
   ]
  },
  {
   "cell_type": "markdown",
   "metadata": {
    "id": "hMQ4xKVnjfMf",
    "jp-MarkdownHeadingCollapsed": true
   },
   "source": [
    "# Pandas module\n",
    "Pandas is a Python library used for working with data sets. It has very useful functions for analyzing, cleaning, exploring, and manipulating data, and we will be using it a lot throughout our class. (And in case you're wondering, the name is **not** about an animal -- it's actually short for \"panel data\"!) Over coverage here will be very brief, but for more details check this resource: <a href=\"https://www.w3schools.com/python/pandas/default.asp\">https://www.w3schools.com/python/pandas/default.asp.</a>\n",
    "\n",
    "First, let's import the pandas library."
   ]
  },
  {
   "cell_type": "code",
   "execution_count": null,
   "metadata": {
    "collapsed": true,
    "id": "96K3U_YezCUL",
    "jupyter": {
     "outputs_hidden": true
    }
   },
   "outputs": [],
   "source": [
    "# import the module\n",
    "import pandas as pd"
   ]
  },
  {
   "cell_type": "markdown",
   "metadata": {
    "id": "96o22Bao-biJ"
   },
   "source": [
    "In `pandas`, data is organized and stored as **DataFrames**. You can think of a DataFrame in close analogy with a table in Excel: it is a two-dimensional table that has data on its columns, and each column may have a header/name."
   ]
  },
  {
   "cell_type": "markdown",
   "metadata": {
    "id": "p2rM0JsYC30r"
   },
   "source": [
    "Normally we read DataFrames from files, but here we will just create a DataFrame from a dictionary. \n",
    "\n",
    "Let's first create a dictionary with some data."
   ]
  },
  {
   "cell_type": "code",
   "execution_count": null,
   "metadata": {
    "collapsed": true,
    "id": "ywB2WTFj-bif",
    "jupyter": {
     "outputs_hidden": true
    }
   },
   "outputs": [],
   "source": [
    "# create a dictionary that stores some data\n",
    "dictionary_with_data = {\n",
    "    'Name': ['Alice', 'Bob', 'Charlie', 'David', 'Juan', 'Chenxi'],\n",
    "    'Age': [25, 30, 22, 28, 27, 30],\n",
    "    'Id' : [10001, 10002, 10003, 10004, 10005, 10006],\n",
    "    'City': ['New York', 'San Francisco', 'Los Angeles', 'Chicago', 'Guadalajara', 'Singapore']\n",
    "}\n",
    "\n",
    "print(dictionary_with_data)"
   ]
  },
  {
   "cell_type": "markdown",
   "metadata": {},
   "source": [
    "Now, let's turn this into a dataframe where the `keys` of the dictionary with be the column names and the `values` in the dictionary go on separate rows of the dataframe."
   ]
  },
  {
   "cell_type": "code",
   "execution_count": null,
   "metadata": {
    "collapsed": true,
    "jupyter": {
     "outputs_hidden": true
    }
   },
   "outputs": [],
   "source": [
    "# create a DataFrame from the dictionary\n",
    "df = pd.DataFrame(dictionary_with_data)\n",
    "\n",
    "# display it\n",
    "display(df)"
   ]
  },
  {
   "cell_type": "markdown",
   "metadata": {
    "id": "O429TrsX-big"
   },
   "source": [
    "As you can see, the DataFrame is basically a table with rows and columns. \n",
    "\n",
    "The column labels/names here are \"Name\", \"Age\", \"Id\", and \"City\". \n",
    "\n",
    "The rows are labeled with 0, 1, 2, 3, which is simply a unique identifier/label that pandas assigned to each row. This is called an `index` and this `index` is not really a part of our DataFrame, so **the first actual column of data is \"Name\"**. \n",
    "\n",
    "The function `display(.)`, which we used above, is great for visualizing DataFrames. In a large DataFrame, you may want to only display a few rows, which you can do with the `head(.)` method:"
   ]
  },
  {
   "cell_type": "code",
   "execution_count": null,
   "metadata": {
    "collapsed": true,
    "id": "xTpSyhKwJcRA",
    "jupyter": {
     "outputs_hidden": true
    }
   },
   "outputs": [],
   "source": [
    "# display the first 2 rows\n",
    "df.head(2)"
   ]
  },
  {
   "cell_type": "markdown",
   "metadata": {
    "id": "fR9aYyAL8ncW"
   },
   "source": [
    "To find out the number of rows, use `len(.)`"
   ]
  },
  {
   "cell_type": "code",
   "execution_count": null,
   "metadata": {
    "collapsed": true,
    "id": "57EoI3C68qt8",
    "jupyter": {
     "outputs_hidden": true
    }
   },
   "outputs": [],
   "source": [
    "# print the number of rows in the DataFrame\n",
    "print(len(df))"
   ]
  },
  {
   "cell_type": "markdown",
   "metadata": {
    "id": "kB_EjOT-BPO3"
   },
   "source": [
    "If you need both the number of rows and the number of columns, use `shape`"
   ]
  },
  {
   "cell_type": "code",
   "execution_count": null,
   "metadata": {
    "collapsed": true,
    "id": "Aow_V08DBT3Z",
    "jupyter": {
     "outputs_hidden": true
    }
   },
   "outputs": [],
   "source": [
    "df.shape"
   ]
  },
  {
   "cell_type": "markdown",
   "metadata": {
    "id": "usyuuaoqNHuf"
   },
   "source": [
    "### Column operations"
   ]
  },
  {
   "cell_type": "markdown",
   "metadata": {
    "id": "AczO9D9HI1Bv"
   },
   "source": [
    "You can see a specific column using the syntax `df[column_name]`:"
   ]
  },
  {
   "cell_type": "code",
   "execution_count": null,
   "metadata": {
    "collapsed": true,
    "id": "5vCUGSjwIkoE",
    "jupyter": {
     "outputs_hidden": true
    }
   },
   "outputs": [],
   "source": [
    "# check out the column \"Age\"\n",
    "df[\"Age\"]"
   ]
  },
  {
   "cell_type": "markdown",
   "metadata": {
    "id": "wfBLqTPPJT6Q"
   },
   "source": [
    "To obtain the names of all the columns, use the attribute `df.columns`."
   ]
  },
  {
   "cell_type": "code",
   "execution_count": null,
   "metadata": {
    "collapsed": true,
    "id": "EuAFJ_YeI0ng",
    "jupyter": {
     "outputs_hidden": true
    }
   },
   "outputs": [],
   "source": [
    "# get all the column names\n",
    "df.columns"
   ]
  },
  {
   "cell_type": "markdown",
   "metadata": {
    "id": "r1X2VJ6TLdeq"
   },
   "source": [
    "As you can see, this returns an `Index` object (which we have not discussed), but you can iterate through it with a usual `for` loop or you can transform it into a regular Python List with the function `list`."
   ]
  },
  {
   "cell_type": "code",
   "execution_count": null,
   "metadata": {
    "collapsed": true,
    "id": "fOfUGtZdJyxI",
    "jupyter": {
     "outputs_hidden": true
    }
   },
   "outputs": [],
   "source": [
    "# let's iterate through the names of the columns with a for loop\n",
    "for c in df.columns:\n",
    "     print(c)\n",
    "\n",
    "# let's store the columns in a list and display the list\n",
    "column_names = list(df.columns)\n",
    "print(column_names)"
   ]
  },
  {
   "cell_type": "markdown",
   "metadata": {
    "id": "-RrpCWyKJzKE"
   },
   "source": [
    "<font color=red>**Warning!**</font>`df.columns` **is not a method**! If you use round brackets, you will get an error."
   ]
  },
  {
   "cell_type": "code",
   "execution_count": null,
   "metadata": {
    "collapsed": true,
    "id": "rfUATKyXLWKN",
    "jupyter": {
     "outputs_hidden": true
    }
   },
   "outputs": [],
   "source": [
    "# the following would generate an error!\n",
    "df.columns()"
   ]
  },
  {
   "cell_type": "markdown",
   "metadata": {
    "id": "9qmr877by_Lv"
   },
   "source": [
    "### Row operations"
   ]
  },
  {
   "cell_type": "markdown",
   "metadata": {
    "id": "wjd4n-X_KN4n"
   },
   "source": [
    "Each row in a dataframe has a unique identifier or label, which makes it possible to refer to specific elements in the dataframe. \n",
    "\n",
    "You can get all the row identifiers using `df.index`."
   ]
  },
  {
   "cell_type": "code",
   "execution_count": null,
   "metadata": {
    "collapsed": true,
    "id": "bBPGyTRBKaqA",
    "jupyter": {
     "outputs_hidden": true
    }
   },
   "outputs": [],
   "source": [
    "# get all the row labels\n",
    "df.index"
   ]
  },
  {
   "cell_type": "markdown",
   "metadata": {
    "id": "TbTZ1u5yKmWx"
   },
   "source": [
    "This also returns an object (a `RangeIndex`), but you can readily loop through it with a `for` or store it as a list."
   ]
  },
  {
   "cell_type": "code",
   "execution_count": null,
   "metadata": {
    "collapsed": true,
    "id": "5P-FGaHOKw7L",
    "jupyter": {
     "outputs_hidden": true
    }
   },
   "outputs": [],
   "source": [
    "# let's iterate through the indices of all the rows\n",
    "for i in df.index:\n",
    "     print(i)\n",
    "\n",
    "# let's store the columns in a list and display the list\n",
    "row_idx = list(df.index)\n",
    "print(row_idx)"
   ]
  },
  {
   "cell_type": "markdown",
   "metadata": {
    "id": "2lxLso3rM5nN"
   },
   "source": [
    "Sometimes, the `index` used for the DataFrame may not be 0,1,2... \n",
    "\n",
    "For instance, let's change the row identifiers. You can do that using a python list with **unique** values, by simply setting the `index`:"
   ]
  },
  {
   "cell_type": "code",
   "execution_count": null,
   "metadata": {
    "collapsed": true,
    "id": "iG6WNZkA8RVd",
    "jupyter": {
     "outputs_hidden": true
    }
   },
   "outputs": [],
   "source": [
    "# change the index to 0, 1, ...\n",
    "df.index = list(['a','b','c','d','e','e'])\n",
    "\n",
    "display(df)"
   ]
  },
  {
   "cell_type": "markdown",
   "metadata": {
    "id": "GPQRmi7p9sHB"
   },
   "source": [
    "### Retrieve elements\n",
    "One of the most important operations with a DataFrame is to retrieve an element located at a certain row and column."
   ]
  },
  {
   "cell_type": "markdown",
   "metadata": {
    "id": "N1pTsjOS9RS4"
   },
   "source": [
    "If you know the row and column labels, there are two approaches:\n",
    " 1. use `df[column_label][row_label]`\n",
    " 2. use `df.loc[row_label, column_label]`\n",
    "\n",
    "First time you see option (1) above, it might look a bit confusing because in mathematics, we write $M_{i,j}$ or $M[i,j]$ for row $i$ and column $j$ of a matrix $M$, so that syntax seems to reverse the order or rows and columns. But recall that `df[column_label]` actually returns the entire column named `column_label` (so all the rows). Then, applying `[row_label]` to that simply returns the element at the `[row_label]` location. \n",
    "\n",
    "In contrast, option (2) is the (arguably more natural) approach of indexing first with the row and then the column. Let's see them in action:"
   ]
  },
  {
   "cell_type": "code",
   "execution_count": null,
   "metadata": {
    "colab": {
     "base_uri": "https://localhost:8080/"
    },
    "collapsed": true,
    "id": "cknhcMss-XzM",
    "jupyter": {
     "outputs_hidden": true
    },
    "outputId": "9859f27b-b437-475a-8451-0d14e73e26ea"
   },
   "outputs": [],
   "source": [
    "# let's get the element on row 'c' and column \"Name\"\n",
    "print(df[\"Name\"]['c'])       # approach 1\n",
    "print(df.loc['c',\"Name\"])    # approach 2"
   ]
  },
  {
   "cell_type": "markdown",
   "metadata": {
    "id": "VMhlBu5I_44a"
   },
   "source": [
    "`df.loc` actually allows you to recover several rows and columns (i.e., an entire sub-table) of the DataFrame"
   ]
  },
  {
   "cell_type": "code",
   "execution_count": null,
   "metadata": {
    "colab": {
     "base_uri": "https://localhost:8080/",
     "height": 0
    },
    "collapsed": true,
    "id": "V-1FWwCi_4IS",
    "jupyter": {
     "outputs_hidden": true
    },
    "outputId": "e8db1cc1-7e07-4032-c2df-3563cea09a7a"
   },
   "outputs": [],
   "source": [
    "df.loc['c':'e',[\"Name\", \"City\"]]"
   ]
  },
  {
   "cell_type": "markdown",
   "metadata": {
    "id": "8XTlzm0MHOdW"
   },
   "source": [
    "Another option is to index using **entirely numeric indices**, using `iloc`, with syntax:\n",
    "> `df.iloc[numeric_row_index, numeric_column_index]`\n",
    "\n",
    "This is similar to what we do in math when we write $M_{i,j}$ or $M[i,j]$ for a matrix $M$.\n",
    "\n",
    "To not get confused here, remember that **Python uses 0-based indexing** and **the very first column that has the index does not count as a proper column** (so in other words, column 0 is the one immediately to the right of the index!)"
   ]
  },
  {
   "cell_type": "code",
   "execution_count": null,
   "metadata": {
    "colab": {
     "base_uri": "https://localhost:8080/",
     "height": 0
    },
    "collapsed": true,
    "id": "OYGcKwhwGeW1",
    "jupyter": {
     "outputs_hidden": true
    },
    "outputId": "22368fbd-83a3-4f56-dbb7-295931af6dce"
   },
   "outputs": [],
   "source": [
    "# let's retrieve the element in row 1 and column 1\n",
    "df.iloc[0, 0]"
   ]
  },
  {
   "cell_type": "markdown",
   "metadata": {
    "id": "NJ9Hg79qAWBX"
   },
   "source": [
    "### Looping\n",
    "To loop through the elements in a row or a column (or a subsection of the dataframe), you can just use a regular `for` loop"
   ]
  },
  {
   "cell_type": "code",
   "execution_count": null,
   "metadata": {
    "collapsed": true,
    "id": "_R6RczF8Af-7",
    "jupyter": {
     "outputs_hidden": true
    }
   },
   "outputs": [],
   "source": [
    "# let's loop through the entire DataFrame on columns and print the name of the column and the contents:\n",
    "for c in list(df.columns):\n",
    "    # for every column\n",
    "    print(f\"Column '{c}' contains:\")\n",
    "    for r in list(df.index):\n",
    "        # for every row\n",
    "        print(f\"In location {r} : {df.loc[r,c]}\")"
   ]
  },
  {
   "cell_type": "markdown",
   "metadata": {
    "id": "vhFaZvbvC0DZ"
   },
   "source": [
    "## Reading data files\n",
    "We will read data files using panda's `read_csv` or `read_excel` functions. The former reads files with `.csv` (Comma-Separated-Values) extension, whereas the latter reads `.xlsx` (Excel) files.\n",
    "\n",
    "Let's read in a csv file, and store it as the data frame Grades."
   ]
  },
  {
   "attachments": {},
   "cell_type": "markdown",
   "metadata": {},
   "source": [
    "<span style=\"font-size: 2em;\">**NAVIGATE TO THE FOLLOWING SITE TO DOWNLOAD THE FILE:**</span>\n",
    "<span style=\"font-size: 2em;\">https://tinyurl.com/3ac9rwz5</span>\n",
    "\n",
    " "
   ]
  },
  {
   "cell_type": "code",
   "execution_count": null,
   "metadata": {
    "collapsed": true,
    "jupyter": {
     "outputs_hidden": true
    }
   },
   "outputs": [],
   "source": [
    "# Read in our csv file and store it as the data frame Grades\n",
    "Grades = pd.read_csv(\"Gradebook.csv\")"
   ]
  },
  {
   "cell_type": "markdown",
   "metadata": {},
   "source": [
    "Note the syntax for reading CSV files. Above, we used \n",
    "> `df = pd.read_csv(full_file_name)`<br>\n",
    "\n",
    "where `full_file_name` is the complete filename, including a path if needed."
   ]
  },
  {
   "cell_type": "code",
   "execution_count": null,
   "metadata": {
    "collapsed": true,
    "jupyter": {
     "outputs_hidden": true
    }
   },
   "outputs": [],
   "source": [
    "# Let's take a look at the first 5 rows of our data frame Grades\n",
    "display(Grades.head(5))"
   ]
  },
  {
   "cell_type": "markdown",
   "metadata": {},
   "source": [
    "Note that here, Pandas automatically assigned an `index` to the DataFrame that goes from 0 to 49. \n",
    "\n",
    "But in this case, maybe a better index should be the `student ID`, which presumably is unique. We could change that index, but we can actually specify when reading the file that Pandas should use a specific column as an index. The syntax is:\n",
    "> `df = pd.read_csv(full_file_name, index_col)`<br>\n",
    "\n",
    "where now `index_col` is a **numeric index** of the column to use to construct the index (i.e., the row labels).\n",
    "\n",
    "Let's try it again, using the `StudentID` (which has column index 0) as our row labels: "
   ]
  },
  {
   "cell_type": "code",
   "execution_count": null,
   "metadata": {
    "collapsed": true,
    "jupyter": {
     "outputs_hidden": true
    }
   },
   "outputs": [],
   "source": [
    "# Read in our csv file with StudentID as index\n",
    "Grades = pd.read_csv(\"Gradebook.csv\", index_col=0)\n",
    "\n",
    "# display the first 5 rows\n",
    "Grades.head(5)"
   ]
  },
  {
   "cell_type": "markdown",
   "metadata": {},
   "source": [
    "If our data was instead in an Excel file (.xlsx), we would just use the ``read_excel`` function instead of the ``read_csv`` function. We'll see example of this later."
   ]
  },
  {
   "cell_type": "markdown",
   "metadata": {},
   "source": [
    "## EXERCISE.\n",
    "<font color=green>**1. Calculate and print the average grade on the midterm for the entire class.**<br>\n",
    "<font color=green>**2. Calculate and print the GPA (equally-weighted average of the midterm, homework, and participation) for the following students: Xin, Zeb, Iris.**<br>\n",
    "<font color=green>**3. Calculate and print the GPA assuming a weight of 35% for the midterm, 45% for the final, and 30% for participation, for all the students in the class.**<br>\n",
    "<font color=green>**4. Under the weighting in #3, who is the student with the largest GPA in the class?**<br>"
   ]
  }
 ],
 "metadata": {
  "kernelspec": {
   "display_name": "Python 3 (ipykernel)",
   "language": "python",
   "name": "python3"
  },
  "language_info": {
   "codemirror_mode": {
    "name": "ipython",
    "version": 3
   },
   "file_extension": ".py",
   "mimetype": "text/x-python",
   "name": "python",
   "nbconvert_exporter": "python",
   "pygments_lexer": "ipython3",
   "version": "3.12.2"
  }
 },
 "nbformat": 4,
 "nbformat_minor": 4
}
