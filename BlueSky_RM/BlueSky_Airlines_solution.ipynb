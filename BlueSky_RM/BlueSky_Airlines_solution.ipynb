{
  "cells": [
    {
      "cell_type": "markdown",
      "metadata": {
        "id": "view-in-github",
        "colab_type": "text"
      },
      "source": [
        "<a href=\"https://colab.research.google.com/github/dan-a-iancu/OIT248/blob/main/BlueSky_RM/BlueSky_Airlines_solution.ipynb\" target=\"_parent\"><img src=\"https://colab.research.google.com/assets/colab-badge.svg\" alt=\"Open In Colab\"/></a>"
      ]
    },
    {
      "cell_type": "markdown",
      "metadata": {
        "id": "PmfzIhbFDj12"
      },
      "source": [
        "# Blue Sky Airlines mini-case"
      ]
    },
    {
      "cell_type": "markdown",
      "metadata": {
        "id": "vb4A3Z6sy5J_"
      },
      "source": [
        "____\n",
        "# Basic Setup\n",
        "\n",
        "Import useful modules, read the data and store it in data frames, and set up some useful Python lists. You may want to expand this section and make sure you understand how the data is organized, and also read the last part where the Python lists are created, as these may be very useful when you build your model."
      ]
    },
    {
      "cell_type": "code",
      "metadata": {
        "colab": {
          "base_uri": "https://localhost:8080/"
        },
        "id": "WcFPypqhXbcv",
        "cellView": "form",
        "outputId": "3cb4baa5-8e38-4d84-9906-1290b4b30197"
      },
      "source": [
        "#@markdown We first import some useful modules.\n",
        "\n",
        "# Python ≥3.5 is required\n",
        "import sys\n",
        "assert sys.version_info >= (3, 5)\n",
        "\n",
        "# import numpy\n",
        "import numpy as np\n",
        "import urllib.request  # for file downloading\n",
        "\n",
        "# Import pandas for data-frames\n",
        "import pandas as pd\n",
        "pd.options.display.max_rows = 15\n",
        "pd.options.display.float_format = \"{:,.2f}\".format\n",
        "\n",
        "from IPython.display import display\n",
        "\n",
        "# Make sure Matplotlib runs inline, for nice figures\n",
        "%matplotlib inline\n",
        "import matplotlib as mpl\n",
        "import matplotlib.pyplot as plt\n",
        "mpl.rc('axes', labelsize=14)\n",
        "mpl.rc('xtick', labelsize=12)\n",
        "mpl.rc('ytick', labelsize=12)\n",
        "import matplotlib.ticker as ticker\n",
        "\n",
        "# install Gurobi (our linear optimization solver)\n",
        "!pip install -i https://pypi.gurobi.com gurobipy\n",
        "from gurobipy import *\n",
        "\n",
        "print(\"Completed successfully!\")"
      ],
      "execution_count": 1,
      "outputs": [
        {
          "output_type": "stream",
          "name": "stdout",
          "text": [
            "Looking in indexes: https://pypi.gurobi.com\n",
            "Collecting gurobipy\n",
            "  Downloading gurobipy-10.0.3-cp310-cp310-manylinux2014_x86_64.whl (12.7 MB)\n",
            "\u001b[2K     \u001b[90m━━━━━━━━━━━━━━━━━━━━━━━━━━━━━━━━━━━━━━━━\u001b[0m \u001b[32m12.7/12.7 MB\u001b[0m \u001b[31m81.6 MB/s\u001b[0m eta \u001b[36m0:00:00\u001b[0m\n",
            "\u001b[?25hInstalling collected packages: gurobipy\n",
            "Successfully installed gurobipy-10.0.3\n",
            "Completed successfully!\n"
          ]
        }
      ]
    },
    {
      "cell_type": "markdown",
      "metadata": {
        "id": "Aqf-EBXAAgn1"
      },
      "source": [
        "## Load the case data into Pandas data frames"
      ]
    },
    {
      "cell_type": "markdown",
      "metadata": {
        "id": "17bUiOG3EYfu"
      },
      "source": [
        "We first download an Excel file with all the data from Github."
      ]
    },
    {
      "cell_type": "code",
      "metadata": {
        "colab": {
          "base_uri": "https://localhost:8080/"
        },
        "id": "oO9JJFpMEX8K",
        "outputId": "ddbb60ec-21ab-4938-813c-c459b8da613d"
      },
      "source": [
        "#@markdown Download the entire data as an Excel file from Github\n",
        "\n",
        "url_Excel = 'https://github.com/dan-a-iancu/airm/blob/master/BlueSky_RM/BlueSky_Data.xlsx?raw=true'\n",
        "local_file = \"BlueSky_Data.xlsx\"   # name of local file where you want to store the downloaded file\n",
        "urllib.request.urlretrieve(url_Excel, local_file)    # download from website and save it locally"
      ],
      "execution_count": null,
      "outputs": [
        {
          "output_type": "execute_result",
          "data": {
            "text/plain": [
              "('BlueSky_Data.xlsx', <http.client.HTTPMessage at 0x7f310e991050>)"
            ]
          },
          "metadata": {
            "tags": []
          },
          "execution_count": 2
        }
      ]
    },
    {
      "cell_type": "markdown",
      "metadata": {
        "id": "nb7NvPyuyoGh"
      },
      "source": [
        "Read in and store the data in suitable dataframes."
      ]
    },
    {
      "cell_type": "code",
      "metadata": {
        "colab": {
          "base_uri": "https://localhost:8080/"
        },
        "id": "EUxSwrdEyJDs",
        "cellView": "form",
        "outputId": "99668483-351f-4bd9-a3da-d379e9bc0e7d"
      },
      "source": [
        "#@markdown Create dataframes based on the Excel file\n",
        "\n",
        "# Read in all the information about the itinerarys sold, and the aircraft capacities\n",
        "itineraryData = pd.read_excel(\"BlueSky_Data.xlsx\", sheet_name = \"Itinerary_data\", index_col=0)\n",
        "display(itineraryData)\n",
        "\n",
        "aircraftData = pd.read_excel(\"BlueSky_Data.xlsx\", sheet_name = \"Aircraft_data\", index_col=0)\n",
        "display(aircraftData)"
      ],
      "execution_count": null,
      "outputs": [
        {
          "output_type": "display_data",
          "data": {
            "text/html": [
              "<div>\n",
              "<style scoped>\n",
              "    .dataframe tbody tr th:only-of-type {\n",
              "        vertical-align: middle;\n",
              "    }\n",
              "\n",
              "    .dataframe tbody tr th {\n",
              "        vertical-align: top;\n",
              "    }\n",
              "\n",
              "    .dataframe thead th {\n",
              "        text-align: right;\n",
              "    }\n",
              "</style>\n",
              "<table border=\"1\" class=\"dataframe\">\n",
              "  <thead>\n",
              "    <tr style=\"text-align: right;\">\n",
              "      <th></th>\n",
              "      <th>Q_Fare</th>\n",
              "      <th>Y_Fare</th>\n",
              "      <th>Q_Demand</th>\n",
              "      <th>Y_Demand</th>\n",
              "      <th>BOS_ORD_Flight</th>\n",
              "      <th>JFK_ORD_Flight</th>\n",
              "      <th>ORD_SFO_Flight</th>\n",
              "      <th>ORD_LAX_Flight</th>\n",
              "    </tr>\n",
              "  </thead>\n",
              "  <tbody>\n",
              "    <tr>\n",
              "      <th>BOS_ORD</th>\n",
              "      <td>200</td>\n",
              "      <td>220</td>\n",
              "      <td>25</td>\n",
              "      <td>20</td>\n",
              "      <td>1</td>\n",
              "      <td>0</td>\n",
              "      <td>0</td>\n",
              "      <td>0</td>\n",
              "    </tr>\n",
              "    <tr>\n",
              "      <th>BOS_SFO</th>\n",
              "      <td>320</td>\n",
              "      <td>420</td>\n",
              "      <td>55</td>\n",
              "      <td>40</td>\n",
              "      <td>1</td>\n",
              "      <td>0</td>\n",
              "      <td>1</td>\n",
              "      <td>0</td>\n",
              "    </tr>\n",
              "    <tr>\n",
              "      <th>BOS_LAX</th>\n",
              "      <td>400</td>\n",
              "      <td>490</td>\n",
              "      <td>65</td>\n",
              "      <td>25</td>\n",
              "      <td>1</td>\n",
              "      <td>0</td>\n",
              "      <td>0</td>\n",
              "      <td>1</td>\n",
              "    </tr>\n",
              "    <tr>\n",
              "      <th>JFK_ORD</th>\n",
              "      <td>250</td>\n",
              "      <td>290</td>\n",
              "      <td>24</td>\n",
              "      <td>16</td>\n",
              "      <td>0</td>\n",
              "      <td>1</td>\n",
              "      <td>0</td>\n",
              "      <td>0</td>\n",
              "    </tr>\n",
              "    <tr>\n",
              "      <th>JFK_SFO</th>\n",
              "      <td>410</td>\n",
              "      <td>540</td>\n",
              "      <td>65</td>\n",
              "      <td>50</td>\n",
              "      <td>0</td>\n",
              "      <td>1</td>\n",
              "      <td>1</td>\n",
              "      <td>0</td>\n",
              "    </tr>\n",
              "    <tr>\n",
              "      <th>JFK_LAX</th>\n",
              "      <td>450</td>\n",
              "      <td>550</td>\n",
              "      <td>40</td>\n",
              "      <td>35</td>\n",
              "      <td>0</td>\n",
              "      <td>1</td>\n",
              "      <td>0</td>\n",
              "      <td>1</td>\n",
              "    </tr>\n",
              "    <tr>\n",
              "      <th>ORD_SFO</th>\n",
              "      <td>210</td>\n",
              "      <td>230</td>\n",
              "      <td>21</td>\n",
              "      <td>50</td>\n",
              "      <td>0</td>\n",
              "      <td>0</td>\n",
              "      <td>1</td>\n",
              "      <td>0</td>\n",
              "    </tr>\n",
              "    <tr>\n",
              "      <th>ORD_LAX</th>\n",
              "      <td>260</td>\n",
              "      <td>300</td>\n",
              "      <td>25</td>\n",
              "      <td>14</td>\n",
              "      <td>0</td>\n",
              "      <td>0</td>\n",
              "      <td>0</td>\n",
              "      <td>1</td>\n",
              "    </tr>\n",
              "  </tbody>\n",
              "</table>\n",
              "</div>"
            ],
            "text/plain": [
              "         Q_Fare  Y_Fare  ...  ORD_SFO_Flight  ORD_LAX_Flight\n",
              "BOS_ORD     200     220  ...               0               0\n",
              "BOS_SFO     320     420  ...               1               0\n",
              "BOS_LAX     400     490  ...               0               1\n",
              "JFK_ORD     250     290  ...               0               0\n",
              "JFK_SFO     410     540  ...               1               0\n",
              "JFK_LAX     450     550  ...               0               1\n",
              "ORD_SFO     210     230  ...               1               0\n",
              "ORD_LAX     260     300  ...               0               1\n",
              "\n",
              "[8 rows x 8 columns]"
            ]
          },
          "metadata": {
            "tags": []
          }
        },
        {
          "output_type": "display_data",
          "data": {
            "text/html": [
              "<div>\n",
              "<style scoped>\n",
              "    .dataframe tbody tr th:only-of-type {\n",
              "        vertical-align: middle;\n",
              "    }\n",
              "\n",
              "    .dataframe tbody tr th {\n",
              "        vertical-align: top;\n",
              "    }\n",
              "\n",
              "    .dataframe thead th {\n",
              "        text-align: right;\n",
              "    }\n",
              "</style>\n",
              "<table border=\"1\" class=\"dataframe\">\n",
              "  <thead>\n",
              "    <tr style=\"text-align: right;\">\n",
              "      <th></th>\n",
              "      <th>Capacity</th>\n",
              "    </tr>\n",
              "  </thead>\n",
              "  <tbody>\n",
              "    <tr>\n",
              "      <th>BOS_ORD_Flight</th>\n",
              "      <td>200</td>\n",
              "    </tr>\n",
              "    <tr>\n",
              "      <th>JFK_ORD_Flight</th>\n",
              "      <td>200</td>\n",
              "    </tr>\n",
              "    <tr>\n",
              "      <th>ORD_SFO_Flight</th>\n",
              "      <td>200</td>\n",
              "    </tr>\n",
              "    <tr>\n",
              "      <th>ORD_LAX_Flight</th>\n",
              "      <td>200</td>\n",
              "    </tr>\n",
              "  </tbody>\n",
              "</table>\n",
              "</div>"
            ],
            "text/plain": [
              "                Capacity\n",
              "BOS_ORD_Flight       200\n",
              "JFK_ORD_Flight       200\n",
              "ORD_SFO_Flight       200\n",
              "ORD_LAX_Flight       200"
            ]
          },
          "metadata": {
            "tags": []
          }
        }
      ]
    },
    {
      "cell_type": "markdown",
      "metadata": {
        "id": "8yhR3xIVyJ13"
      },
      "source": [
        "## Create Python lists based on the data-frames\n",
        "\n",
        "__NOTE__: Make sure you understand what the __lists__ created here are! These will be very helpful when creating the model."
      ]
    },
    {
      "cell_type": "code",
      "metadata": {
        "id": "oi5sktA8j3PF",
        "colab": {
          "base_uri": "https://localhost:8080/"
        },
        "outputId": "6eae8615-2034-4c65-b003-12123a58bc25"
      },
      "source": [
        "#@markdown Create useful lists\n",
        "numODPairs = len(itineraryData)               # number of origin-destination (O-D) pairs used for itinerarys\n",
        "allODPairs = list(itineraryData.index)        # a list with all the O-D pairs (rows in itineraryData)\n",
        "numFlights = len(aircraftData)             # number of distinct flights/legs operated by the Airline\n",
        "allFlights = list(aircraftData.index)      # a list with all the flights operated (rows in aircraftData)\n",
        "\n",
        "# have a look\n",
        "print(allODPairs)\n",
        "print(allFlights)"
      ],
      "execution_count": null,
      "outputs": [
        {
          "output_type": "stream",
          "text": [
            "['BOS_ORD', 'BOS_SFO', 'BOS_LAX', 'JFK_ORD', 'JFK_SFO', 'JFK_LAX', 'ORD_SFO', 'ORD_LAX']\n",
            "['BOS_ORD_Flight', 'JFK_ORD_Flight', 'ORD_SFO_Flight', 'ORD_LAX_Flight']\n"
          ],
          "name": "stdout"
        }
      ]
    },
    {
      "cell_type": "markdown",
      "metadata": {
        "id": "JWIygWXt2SNi"
      },
      "source": [
        "<font color=red>**IMPORTANT HINT.**</font> When defining your **decision variables** in this model, you may want to consider *matrices* (or grids) of decision variables instead of a simple list like we've created before. Specifically, you may want to add a decision variable for every pair of elements where the first element is from one list and the second element is from another list.\n",
        "\n",
        "When the decision variables are organized in a grid, it's significantly easier to use the ``addVars`` function to add all of the decision variables to the model at once. The function ``addVars`` can take as arguments several lists, e.g., `addVars(list1, list2, list3,...)`, in which case it will return one decision variable for every possible tuple of values. These decision variables will be stored as a dictionary, with the dictionary keys corresponding to the tuple of values.\n",
        "\n",
        "For instance, suppose `list1 = [\"Paris\", \"Budapest\", \"Beijing\"]` and `list2= [1,2]`. Then `myDecisions = addVars(list1,list2)` would return a dictionary containing one decision for every pair, i.e., (\"Paris\",1), (\"Paris\",2), (\"Budapest\",1), (\"Budapest\",2), etc. To access the decision corresponding to the pair (\"Paris\",1), we can simply use `myDecisions[(\"Paris\",1)]` or `myDecisions[\"Paris\",1]`."
      ]
    },
    {
      "cell_type": "markdown",
      "metadata": {
        "id": "6k1YgKPXDj19"
      },
      "source": [
        "# Q1.\n",
        "## Model"
      ]
    },
    {
      "cell_type": "code",
      "execution_count": null,
      "metadata": {
        "id": "hXaSalieDj1-",
        "outputId": "d88cf25c-4383-4adf-81a9-e724132502d5"
      },
      "outputs": [
        {
          "name": "stdout",
          "output_type": "stream",
          "text": [
            "Set parameter Username\n",
            "Academic license - for non-commercial use only - expires 2024-10-01\n"
          ]
        }
      ],
      "source": [
        "m = Model(\"Blue Sky Airline Model\")"
      ]
    },
    {
      "cell_type": "markdown",
      "metadata": {
        "id": "MqBq_54PDj1-"
      },
      "source": [
        "## Decision Variables\n",
        "We have one decision for every possible \"ticket type\" sold, i.e., every origin-destination-fare class. We can denote these by $Q[i]$ and $Y[i]$ respectively, for the number of tickets sold in Q-class and Y-class, respectively, on the itinerary $i$, where $i$ belongs to the list of itineraries, ['BOS_ORD', 'BOS_SFO', 'BOS_LAX', 'JFK_ORD', 'JFK_SFO', 'JFK_LAX', 'ORD_SFO', 'ORD_LAX']"
      ]
    },
    {
      "cell_type": "code",
      "execution_count": null,
      "metadata": {
        "id": "6J_2Vy3FDj1-"
      },
      "outputs": [],
      "source": [
        "# one decision for each booking limit, i.e., how many itinerarys of each type to sell (these are 'sales')\n",
        "Q_tickets_sold = m.addVars( all_itineraries, name =\"Q_sales\" )\n",
        "Y_tickets_sold = m.addVars( all_itineraries, name =\"Y_sales\" )"
      ]
    },
    {
      "cell_type": "markdown",
      "metadata": {
        "id": "ysShtEnIDj1-"
      },
      "source": [
        "## Objective\n",
        "The objective is to maximize total revenue."
      ]
    },
    {
      "cell_type": "code",
      "execution_count": null,
      "metadata": {
        "id": "B5jrbr1GDj1-"
      },
      "outputs": [],
      "source": [
        "# revenues are given by sales of all the itinerarys at correct fares\n",
        "revenue = quicksum( Q_tickets_sold[i]*itineraryData.loc[i,\"Q_Fare\"] for i in all_itineraries ) + \\\n",
        "quicksum( Y_tickets_sold[i]*itineraryData.loc[i,\"Y_Fare\"] for i in all_itineraries )\n",
        "\n",
        "# set the objective\n",
        "m.setObjective(revenue, GRB.MAXIMIZE)"
      ]
    },
    {
      "cell_type": "markdown",
      "metadata": {
        "id": "woBzFwstDj1-"
      },
      "source": [
        "## Constraints\n",
        "The first set of constraints is that the tickets sold on a specific itinerary cannot exceed the demand for that itinerary. Mathematically:\n",
        "\\begin{align}\n",
        "  Q[i] \\leq \\text{Q_demand}[i] \\\\\n",
        "  Y[i] \\leq \\text{Y_demand}[i]\n",
        "\\end{align}\n",
        "where $\\text{Q_demand}[i]$ and $\\text{Y_demand}[i]$ correspond to the Q-class and Y-class demand for tickets given in the itinerary data."
      ]
    },
    {
      "cell_type": "code",
      "execution_count": null,
      "metadata": {
        "id": "wox1FKSnDj1-"
      },
      "outputs": [],
      "source": [
        "# demand constraints: cannot sell more than the demand for each itinerary - fare class\n",
        "demand_constraints = {}\n",
        "for i in all_itineraries:\n",
        "    # Q-class\n",
        "    cons_name = \"itineraries_\" + i + \"_Q\"\n",
        "    demand_constraints[cons_name] = m.addConstr( Q_tickets_sold[i] <= itineraryData.loc[i,\"Q_Demand\"], \\\n",
        "                                                name = cons_name)\n",
        "\n",
        "    # Y-class\n",
        "    cons_name = \"itineraries_\" + i + \"_Y\"\n",
        "    demand_constraints[cons_name] = m.addConstr( Y_tickets_sold[i] <= itineraryData.loc[i,\"Y_Demand\"], \\\n",
        "                                                name = cons_name )"
      ]
    },
    {
      "cell_type": "markdown",
      "metadata": {
        "id": "r4_wtJM9Dj1-"
      },
      "source": [
        "The second set of constraints correspond to having enough seats on the flights to accomodate all the passengers with tickets. We have 4 flights, and we need to write one constraint for each flight, i.e., for each element of the list `all_flights`. For a given flight, we need to add all the tickets/itineraries that utilize that flight, and the total sum must not exceed the plane capacity.\n",
        "\n",
        "One option is to do the summation in a very careful way. For instance, for the flight **BOS-ORD**, we would need to add up all the itineraries that use this flight, i.e., **BOS-ORD**, **BOS-SFO**, **BOS-LAX**, in both Q-class and Y-class.\n",
        "\n",
        "A second option (far simpler!!) is to use the columns `BOS_ORD_Flight`,\t`JFK_ORD_Flight`, `ORD_SFO_Flight`, `ORD_LAX_Flight` from the `itineraryData` DataFrame, which contain 1 for the rows/itineraries that use the flight and 0 otherwise. With this, we can simply add over all the rows/itineraries and multiply with these 0/1 indicators, which allows us to sum up only the terms/tickets that actually use up the respective flight."
      ]
    },
    {
      "cell_type": "code",
      "execution_count": null,
      "metadata": {
        "id": "N_Q5bel8Dj1_"
      },
      "outputs": [],
      "source": [
        "# capacity constraints: one for each individual flight operated\n",
        "flight_constraints = {}\n",
        "for f in all_flights :\n",
        "    # f denotes a particular flight, i.e., a row in 'aircraftData'\n",
        "\n",
        "    # calculate how many itineraries were sold that require seats on that flight\n",
        "    # NOTE. Here, we just add over ALL itineraries, but we multiply with the 0/1 indicators\n",
        "    m.addConstr( quicksum( (Q_tickets_sold[i] + Y_tickets_sold[i])*itineraryData.loc[i,f] \\\n",
        "                          for i in all_itineraries ) \\\n",
        "                           <= aircraftData.loc[f,\"Capacity\"], name = f )"
      ]
    },
    {
      "cell_type": "markdown",
      "metadata": {
        "id": "TBvrVEcTDj1_"
      },
      "source": [
        "## Print out and inspect the model"
      ]
    },
    {
      "cell_type": "code",
      "execution_count": null,
      "metadata": {
        "id": "AivOZj8xDj1_",
        "outputId": "09c7a349-3bfa-4573-c0ee-1719f0c72541"
      },
      "outputs": [
        {
          "name": "stdout",
          "output_type": "stream",
          "text": [
            "\\ Model Blue Sky Airline Model\n",
            "\\ LP format - for model browsing. Use MPS format to capture full model detail.\n",
            "Maximize\n",
            "  200 Q_sales[BOS_ORD] + 320 Q_sales[BOS_SFO] + 400 Q_sales[BOS_LAX]\n",
            "   + 250 Q_sales[JFK_ORD] + 410 Q_sales[JFK_SFO] + 450 Q_sales[JFK_LAX]\n",
            "   + 210 Q_sales[ORD_SFO] + 260 Q_sales[ORD_LAX] + 220 Y_sales[BOS_ORD]\n",
            "   + 420 Y_sales[BOS_SFO] + 490 Y_sales[BOS_LAX] + 290 Y_sales[JFK_ORD]\n",
            "   + 540 Y_sales[JFK_SFO] + 550 Y_sales[JFK_LAX] + 230 Y_sales[ORD_SFO]\n",
            "   + 300 Y_sales[ORD_LAX]\n",
            "Subject To\n",
            " itineraries_BOS_ORD_Q: Q_sales[BOS_ORD] <= 25\n",
            " itineraries_BOS_ORD_Y: Y_sales[BOS_ORD] <= 20\n",
            " itineraries_BOS_SFO_Q: Q_sales[BOS_SFO] <= 55\n",
            " itineraries_BOS_SFO_Y: Y_sales[BOS_SFO] <= 40\n",
            " itineraries_BOS_LAX_Q: Q_sales[BOS_LAX] <= 65\n",
            " itineraries_BOS_LAX_Y: Y_sales[BOS_LAX] <= 25\n",
            " itineraries_JFK_ORD_Q: Q_sales[JFK_ORD] <= 24\n",
            " itineraries_JFK_ORD_Y: Y_sales[JFK_ORD] <= 16\n",
            " itineraries_JFK_SFO_Q: Q_sales[JFK_SFO] <= 65\n",
            " itineraries_JFK_SFO_Y: Y_sales[JFK_SFO] <= 50\n",
            " itineraries_JFK_LAX_Q: Q_sales[JFK_LAX] <= 40\n",
            " itineraries_JFK_LAX_Y: Y_sales[JFK_LAX] <= 35\n",
            " itineraries_ORD_SFO_Q: Q_sales[ORD_SFO] <= 21\n",
            " itineraries_ORD_SFO_Y: Y_sales[ORD_SFO] <= 50\n",
            " itineraries_ORD_LAX_Q: Q_sales[ORD_LAX] <= 25\n",
            " itineraries_ORD_LAX_Y: Y_sales[ORD_LAX] <= 14\n",
            " BOS_ORD_Flight: Q_sales[BOS_ORD] + Q_sales[BOS_SFO] + Q_sales[BOS_LAX]\n",
            "   + Y_sales[BOS_ORD] + Y_sales[BOS_SFO] + Y_sales[BOS_LAX] <= 200\n",
            " JFK_ORD_Flight: Q_sales[JFK_ORD] + Q_sales[JFK_SFO] + Q_sales[JFK_LAX]\n",
            "   + Y_sales[JFK_ORD] + Y_sales[JFK_SFO] + Y_sales[JFK_LAX] <= 200\n",
            " ORD_SFO_Flight: Q_sales[BOS_SFO] + Q_sales[JFK_SFO] + Q_sales[ORD_SFO]\n",
            "   + Y_sales[BOS_SFO] + Y_sales[JFK_SFO] + Y_sales[ORD_SFO] <= 200\n",
            " ORD_LAX_Flight: Q_sales[BOS_LAX] + Q_sales[JFK_LAX] + Q_sales[ORD_LAX]\n",
            "   + Y_sales[BOS_LAX] + Y_sales[JFK_LAX] + Y_sales[ORD_LAX] <= 200\n",
            "Bounds\n",
            "End\n",
            "\n"
          ]
        }
      ],
      "source": [
        "m.write(\"BlueSky.lp\")  # write model information to an .ilp file\n",
        "f = open(\"BlueSky.lp\", 'r')    # open a file handle\n",
        "print( f.read() )           # read the contents and print them\n",
        "f.close()              # close the file handle"
      ]
    },
    {
      "cell_type": "markdown",
      "metadata": {
        "id": "n9xCxjWmDj1_"
      },
      "source": [
        "## Solve the model"
      ]
    },
    {
      "cell_type": "code",
      "execution_count": null,
      "metadata": {
        "scrolled": true,
        "id": "EDb71rVjDj1_",
        "outputId": "a6ab2c46-1702-4fb1-9e96-f38a4416fa02"
      },
      "outputs": [
        {
          "name": "stdout",
          "output_type": "stream",
          "text": [
            "Gurobi Optimizer version 10.0.3 build v10.0.3rc0 (win64)\n",
            "\n",
            "CPU model: Intel(R) Core(TM) i9-10980XE CPU @ 3.00GHz, instruction set [SSE2|AVX|AVX2|AVX512]\n",
            "Thread count: 18 physical cores, 36 logical processors, using up to 18 threads\n",
            "\n",
            "Optimize a model with 20 rows, 16 columns and 40 nonzeros\n",
            "Model fingerprint: 0xcc49b0a9\n",
            "Coefficient statistics:\n",
            "  Matrix range     [1e+00, 1e+00]\n",
            "  Objective range  [2e+02, 6e+02]\n",
            "  Bounds range     [0e+00, 0e+00]\n",
            "  RHS range        [1e+01, 2e+02]\n",
            "Presolve removed 16 rows and 0 columns\n",
            "Presolve time: 0.01s\n",
            "Presolved: 4 rows, 16 columns, 24 nonzeros\n",
            "\n",
            "Iteration    Objective       Primal Inf.    Dual Inf.      Time\n",
            "       0    2.3461000e+05   7.237500e+01   0.000000e+00      0s\n",
            "       7    1.8285000e+05   0.000000e+00   0.000000e+00      0s\n",
            "\n",
            "Solved in 7 iterations and 0.02 seconds (0.00 work units)\n",
            "Optimal objective  1.828500000e+05\n"
          ]
        }
      ],
      "source": [
        "m.optimize()"
      ]
    },
    {
      "cell_type": "markdown",
      "metadata": {
        "id": "gxSZ72uNDj1_"
      },
      "source": [
        "## Print the solution"
      ]
    },
    {
      "cell_type": "code",
      "execution_count": null,
      "metadata": {
        "scrolled": true,
        "id": "r3_Ydo1LDj1_",
        "outputId": "e7bd5ac5-35ab-41c5-e688-b49c1331d52a"
      },
      "outputs": [
        {
          "name": "stdout",
          "output_type": "stream",
          "text": [
            "Route BOS_ORD         Q-class: 25.00 \t  Y-class: 20.00\n",
            "Route BOS_SFO         Q-class: 25.00 \t  Y-class: 40.00\n",
            "Route BOS_LAX         Q-class: 65.00 \t  Y-class: 25.00\n",
            "Route JFK_ORD         Q-class: 24.00 \t  Y-class: 16.00\n",
            "Route JFK_SFO         Q-class: 35.00 \t  Y-class: 50.00\n",
            "Route JFK_LAX         Q-class: 40.00 \t  Y-class: 35.00\n",
            "Route ORD_SFO         Q-class: 0.00 \t  Y-class: 50.00\n",
            "Route ORD_LAX         Q-class: 21.00 \t  Y-class: 14.00\n"
          ]
        }
      ],
      "source": [
        "for i in all_itineraries:\n",
        "    print(f\"Route {i:<15s} Q-class: {Q_tickets_sold[i].X:.2f} \\t  Y-class: {Y_tickets_sold[i].X:.2f}\")"
      ]
    },
    {
      "cell_type": "markdown",
      "metadata": {
        "id": "2UaAvjLHDj1_"
      },
      "source": [
        "# Q2.\n",
        "Let's extract the information on all the constraints."
      ]
    },
    {
      "cell_type": "code",
      "execution_count": null,
      "metadata": {
        "id": "QyuZdGCcDj1_",
        "outputId": "ec8b97ba-07dc-486d-d195-c23e386f6b98"
      },
      "outputs": [
        {
          "data": {
            "text/html": [
              "<div>\n",
              "<style scoped>\n",
              "    .dataframe tbody tr th:only-of-type {\n",
              "        vertical-align: middle;\n",
              "    }\n",
              "\n",
              "    .dataframe tbody tr th {\n",
              "        vertical-align: top;\n",
              "    }\n",
              "\n",
              "    .dataframe thead th {\n",
              "        text-align: right;\n",
              "    }\n",
              "</style>\n",
              "<table border=\"1\" class=\"dataframe\">\n",
              "  <thead>\n",
              "    <tr style=\"text-align: right;\">\n",
              "      <th></th>\n",
              "      <th>Constraint Name</th>\n",
              "      <th>LHS Value</th>\n",
              "      <th>Sense</th>\n",
              "      <th>RHS Value</th>\n",
              "      <th>Slack</th>\n",
              "      <th>Shadow Price</th>\n",
              "      <th>Lower Limit RHS</th>\n",
              "      <th>Upper Limit RHS</th>\n",
              "    </tr>\n",
              "  </thead>\n",
              "  <tbody>\n",
              "    <tr>\n",
              "      <th>0</th>\n",
              "      <td>itineraries_BOS_ORD_Q</td>\n",
              "      <td>25.0</td>\n",
              "      <td>&lt;</td>\n",
              "      <td>25.0</td>\n",
              "      <td>0.0</td>\n",
              "      <td>100.0</td>\n",
              "      <td>25.0</td>\n",
              "      <td>29.0</td>\n",
              "    </tr>\n",
              "    <tr>\n",
              "      <th>1</th>\n",
              "      <td>itineraries_BOS_ORD_Y</td>\n",
              "      <td>20.0</td>\n",
              "      <td>&lt;</td>\n",
              "      <td>20.0</td>\n",
              "      <td>0.0</td>\n",
              "      <td>120.0</td>\n",
              "      <td>20.0</td>\n",
              "      <td>24.0</td>\n",
              "    </tr>\n",
              "    <tr>\n",
              "      <th>2</th>\n",
              "      <td>itineraries_BOS_SFO_Q</td>\n",
              "      <td>25.0</td>\n",
              "      <td>&lt;</td>\n",
              "      <td>55.0</td>\n",
              "      <td>30.0</td>\n",
              "      <td>0.0</td>\n",
              "      <td>25.0</td>\n",
              "      <td>inf</td>\n",
              "    </tr>\n",
              "    <tr>\n",
              "      <th>3</th>\n",
              "      <td>itineraries_BOS_SFO_Y</td>\n",
              "      <td>40.0</td>\n",
              "      <td>&lt;</td>\n",
              "      <td>40.0</td>\n",
              "      <td>0.0</td>\n",
              "      <td>100.0</td>\n",
              "      <td>10.0</td>\n",
              "      <td>65.0</td>\n",
              "    </tr>\n",
              "    <tr>\n",
              "      <th>4</th>\n",
              "      <td>itineraries_BOS_LAX_Q</td>\n",
              "      <td>65.0</td>\n",
              "      <td>&lt;</td>\n",
              "      <td>65.0</td>\n",
              "      <td>0.0</td>\n",
              "      <td>40.0</td>\n",
              "      <td>65.0</td>\n",
              "      <td>90.0</td>\n",
              "    </tr>\n",
              "    <tr>\n",
              "      <th>5</th>\n",
              "      <td>itineraries_BOS_LAX_Y</td>\n",
              "      <td>25.0</td>\n",
              "      <td>&lt;</td>\n",
              "      <td>25.0</td>\n",
              "      <td>0.0</td>\n",
              "      <td>130.0</td>\n",
              "      <td>25.0</td>\n",
              "      <td>50.0</td>\n",
              "    </tr>\n",
              "    <tr>\n",
              "      <th>6</th>\n",
              "      <td>itineraries_JFK_ORD_Q</td>\n",
              "      <td>24.0</td>\n",
              "      <td>&lt;</td>\n",
              "      <td>24.0</td>\n",
              "      <td>0.0</td>\n",
              "      <td>60.0</td>\n",
              "      <td>24.0</td>\n",
              "      <td>28.0</td>\n",
              "    </tr>\n",
              "    <tr>\n",
              "      <th>7</th>\n",
              "      <td>itineraries_JFK_ORD_Y</td>\n",
              "      <td>16.0</td>\n",
              "      <td>&lt;</td>\n",
              "      <td>16.0</td>\n",
              "      <td>0.0</td>\n",
              "      <td>100.0</td>\n",
              "      <td>16.0</td>\n",
              "      <td>20.0</td>\n",
              "    </tr>\n",
              "    <tr>\n",
              "      <th>8</th>\n",
              "      <td>itineraries_JFK_SFO_Q</td>\n",
              "      <td>35.0</td>\n",
              "      <td>&lt;</td>\n",
              "      <td>65.0</td>\n",
              "      <td>30.0</td>\n",
              "      <td>0.0</td>\n",
              "      <td>35.0</td>\n",
              "      <td>inf</td>\n",
              "    </tr>\n",
              "    <tr>\n",
              "      <th>9</th>\n",
              "      <td>itineraries_JFK_SFO_Y</td>\n",
              "      <td>50.0</td>\n",
              "      <td>&lt;</td>\n",
              "      <td>50.0</td>\n",
              "      <td>0.0</td>\n",
              "      <td>130.0</td>\n",
              "      <td>20.0</td>\n",
              "      <td>85.0</td>\n",
              "    </tr>\n",
              "    <tr>\n",
              "      <th>10</th>\n",
              "      <td>itineraries_JFK_LAX_Q</td>\n",
              "      <td>40.0</td>\n",
              "      <td>&lt;</td>\n",
              "      <td>40.0</td>\n",
              "      <td>0.0</td>\n",
              "      <td>0.0</td>\n",
              "      <td>40.0</td>\n",
              "      <td>inf</td>\n",
              "    </tr>\n",
              "    <tr>\n",
              "      <th>11</th>\n",
              "      <td>itineraries_JFK_LAX_Y</td>\n",
              "      <td>35.0</td>\n",
              "      <td>&lt;</td>\n",
              "      <td>35.0</td>\n",
              "      <td>0.0</td>\n",
              "      <td>100.0</td>\n",
              "      <td>35.0</td>\n",
              "      <td>75.0</td>\n",
              "    </tr>\n",
              "    <tr>\n",
              "      <th>12</th>\n",
              "      <td>itineraries_ORD_SFO_Q</td>\n",
              "      <td>0.0</td>\n",
              "      <td>&lt;</td>\n",
              "      <td>21.0</td>\n",
              "      <td>21.0</td>\n",
              "      <td>0.0</td>\n",
              "      <td>0.0</td>\n",
              "      <td>inf</td>\n",
              "    </tr>\n",
              "    <tr>\n",
              "      <th>13</th>\n",
              "      <td>itineraries_ORD_SFO_Y</td>\n",
              "      <td>50.0</td>\n",
              "      <td>&lt;</td>\n",
              "      <td>50.0</td>\n",
              "      <td>0.0</td>\n",
              "      <td>10.0</td>\n",
              "      <td>46.0</td>\n",
              "      <td>50.0</td>\n",
              "    </tr>\n",
              "    <tr>\n",
              "      <th>14</th>\n",
              "      <td>itineraries_ORD_LAX_Q</td>\n",
              "      <td>21.0</td>\n",
              "      <td>&lt;</td>\n",
              "      <td>25.0</td>\n",
              "      <td>4.0</td>\n",
              "      <td>0.0</td>\n",
              "      <td>21.0</td>\n",
              "      <td>inf</td>\n",
              "    </tr>\n",
              "    <tr>\n",
              "      <th>15</th>\n",
              "      <td>itineraries_ORD_LAX_Y</td>\n",
              "      <td>14.0</td>\n",
              "      <td>&lt;</td>\n",
              "      <td>14.0</td>\n",
              "      <td>0.0</td>\n",
              "      <td>40.0</td>\n",
              "      <td>10.0</td>\n",
              "      <td>35.0</td>\n",
              "    </tr>\n",
              "    <tr>\n",
              "      <th>16</th>\n",
              "      <td>BOS_ORD_Flight</td>\n",
              "      <td>200.0</td>\n",
              "      <td>&lt;</td>\n",
              "      <td>200.0</td>\n",
              "      <td>0.0</td>\n",
              "      <td>100.0</td>\n",
              "      <td>196.0</td>\n",
              "      <td>200.0</td>\n",
              "    </tr>\n",
              "    <tr>\n",
              "      <th>17</th>\n",
              "      <td>JFK_ORD_Flight</td>\n",
              "      <td>200.0</td>\n",
              "      <td>&lt;</td>\n",
              "      <td>200.0</td>\n",
              "      <td>0.0</td>\n",
              "      <td>190.0</td>\n",
              "      <td>196.0</td>\n",
              "      <td>200.0</td>\n",
              "    </tr>\n",
              "    <tr>\n",
              "      <th>18</th>\n",
              "      <td>ORD_SFO_Flight</td>\n",
              "      <td>200.0</td>\n",
              "      <td>&lt;</td>\n",
              "      <td>200.0</td>\n",
              "      <td>0.0</td>\n",
              "      <td>220.0</td>\n",
              "      <td>200.0</td>\n",
              "      <td>204.0</td>\n",
              "    </tr>\n",
              "    <tr>\n",
              "      <th>19</th>\n",
              "      <td>ORD_LAX_Flight</td>\n",
              "      <td>200.0</td>\n",
              "      <td>&lt;</td>\n",
              "      <td>200.0</td>\n",
              "      <td>0.0</td>\n",
              "      <td>260.0</td>\n",
              "      <td>179.0</td>\n",
              "      <td>204.0</td>\n",
              "    </tr>\n",
              "  </tbody>\n",
              "</table>\n",
              "</div>"
            ],
            "text/plain": [
              "          Constraint Name  LHS Value Sense  RHS Value  Slack  Shadow Price  \\\n",
              "0   itineraries_BOS_ORD_Q       25.0     <       25.0    0.0         100.0   \n",
              "1   itineraries_BOS_ORD_Y       20.0     <       20.0    0.0         120.0   \n",
              "2   itineraries_BOS_SFO_Q       25.0     <       55.0   30.0           0.0   \n",
              "3   itineraries_BOS_SFO_Y       40.0     <       40.0    0.0         100.0   \n",
              "4   itineraries_BOS_LAX_Q       65.0     <       65.0    0.0          40.0   \n",
              "5   itineraries_BOS_LAX_Y       25.0     <       25.0    0.0         130.0   \n",
              "6   itineraries_JFK_ORD_Q       24.0     <       24.0    0.0          60.0   \n",
              "7   itineraries_JFK_ORD_Y       16.0     <       16.0    0.0         100.0   \n",
              "8   itineraries_JFK_SFO_Q       35.0     <       65.0   30.0           0.0   \n",
              "9   itineraries_JFK_SFO_Y       50.0     <       50.0    0.0         130.0   \n",
              "10  itineraries_JFK_LAX_Q       40.0     <       40.0    0.0           0.0   \n",
              "11  itineraries_JFK_LAX_Y       35.0     <       35.0    0.0         100.0   \n",
              "12  itineraries_ORD_SFO_Q        0.0     <       21.0   21.0           0.0   \n",
              "13  itineraries_ORD_SFO_Y       50.0     <       50.0    0.0          10.0   \n",
              "14  itineraries_ORD_LAX_Q       21.0     <       25.0    4.0           0.0   \n",
              "15  itineraries_ORD_LAX_Y       14.0     <       14.0    0.0          40.0   \n",
              "16         BOS_ORD_Flight      200.0     <      200.0    0.0         100.0   \n",
              "17         JFK_ORD_Flight      200.0     <      200.0    0.0         190.0   \n",
              "18         ORD_SFO_Flight      200.0     <      200.0    0.0         220.0   \n",
              "19         ORD_LAX_Flight      200.0     <      200.0    0.0         260.0   \n",
              "\n",
              "    Lower Limit RHS  Upper Limit RHS  \n",
              "0              25.0             29.0  \n",
              "1              20.0             24.0  \n",
              "2              25.0              inf  \n",
              "3              10.0             65.0  \n",
              "4              65.0             90.0  \n",
              "5              25.0             50.0  \n",
              "6              24.0             28.0  \n",
              "7              16.0             20.0  \n",
              "8              35.0              inf  \n",
              "9              20.0             85.0  \n",
              "10             40.0              inf  \n",
              "11             35.0             75.0  \n",
              "12              0.0              inf  \n",
              "13             46.0             50.0  \n",
              "14             21.0              inf  \n",
              "15             10.0             35.0  \n",
              "16            196.0            200.0  \n",
              "17            196.0            200.0  \n",
              "18            200.0            204.0  \n",
              "19            179.0            204.0  "
            ]
          },
          "metadata": {},
          "output_type": "display_data"
        }
      ],
      "source": [
        "# display information on all the constraints\n",
        "allConstraints = m.getConstrs()\n",
        "\n",
        "all_constr_data = [ [c.ConstrName, m.getRow(c).getValue(), c.Sense, c.RHS, c.Slack, \\\n",
        "                     c.Pi, c.SARHSLow, c.SARHSUp ] for c in allConstraints ]\n",
        "\n",
        "# convert into a dataframe and print\n",
        "df = pd.DataFrame(all_constr_data, columns=[\"Constraint Name\", \"LHS Value\", \"Sense\", \"RHS Value\", \"Slack\", \"Shadow Price\",\\\n",
        "                                           \"Lower Limit RHS\", \"Upper Limit RHS\"])\n",
        "display(df)"
      ]
    },
    {
      "cell_type": "code",
      "execution_count": null,
      "metadata": {
        "id": "aDOkBC0gDj1_"
      },
      "outputs": [],
      "source": []
    }
  ],
  "metadata": {
    "kernelspec": {
      "display_name": "Python 3 (ipykernel)",
      "language": "python",
      "name": "python3"
    },
    "language_info": {
      "codemirror_mode": {
        "name": "ipython",
        "version": 3
      },
      "file_extension": ".py",
      "mimetype": "text/x-python",
      "name": "python",
      "nbconvert_exporter": "python",
      "pygments_lexer": "ipython3",
      "version": "3.9.13"
    },
    "colab": {
      "provenance": [],
      "toc_visible": true,
      "include_colab_link": true
    }
  },
  "nbformat": 4,
  "nbformat_minor": 0
}