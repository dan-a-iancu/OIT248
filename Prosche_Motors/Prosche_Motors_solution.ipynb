{
  "cells": [
    {
      "cell_type": "markdown",
      "metadata": {
        "id": "view-in-github",
        "colab_type": "text"
      },
      "source": [
        "<a href=\"https://colab.research.google.com/github/dan-a-iancu/OIT248/blob/main/Prosche_Motors/Prosche_Motors_solution.ipynb\" target=\"_parent\"><img src=\"https://colab.research.google.com/assets/colab-badge.svg\" alt=\"Open In Colab\"/></a>"
      ]
    },
    {
      "cell_type": "markdown",
      "metadata": {
        "id": "7VtkH-sn3oBT"
      },
      "source": [
        "This notebook implements the solution to the **Prosche Motors** mini-case. It assumes you are familiar with the case and the model."
      ]
    },
    {
      "cell_type": "markdown",
      "metadata": {
        "id": "vb4A3Z6sy5J_"
      },
      "source": [
        "____\n",
        "# Basic Setup\n",
        "\n",
        "Import useful modules, read the data and store it in data frames, and set up some useful Python lists. Have a close look at the code that creates the Python lists, as these may be very useful when defining your decision variables."
      ]
    },
    {
      "cell_type": "code",
      "execution_count": null,
      "metadata": {
        "cellView": "form",
        "colab": {
          "base_uri": "https://localhost:8080/"
        },
        "id": "WcFPypqhXbcv",
        "outputId": "bf36f2b1-43ba-4e34-e68e-b0911c650fa1"
      },
      "outputs": [
        {
          "name": "stdout",
          "output_type": "stream",
          "text": [
            "Completed successfully!\n"
          ]
        }
      ],
      "source": [
        "#@markdown We first import some useful modules.\n",
        "\n",
        "# Python ≥3.5 is required\n",
        "import sys\n",
        "assert sys.version_info >= (3, 5)\n",
        "\n",
        "# import numpy\n",
        "import numpy as np\n",
        "import urllib.request  # for file downloading\n",
        "\n",
        "# Import pandas for data-frames\n",
        "import pandas as pd\n",
        "#pd.options.display.max_rows = 15\n",
        "pd.options.display.float_format = \"{:,.2f}\".format\n",
        "\n",
        "from IPython.display import display\n",
        "\n",
        "# Make sure Matplotlib runs inline, for nice figures\n",
        "%matplotlib inline\n",
        "import matplotlib as mpl\n",
        "import matplotlib.pyplot as plt\n",
        "mpl.rc('axes', labelsize=14)\n",
        "mpl.rc('xtick', labelsize=12)\n",
        "mpl.rc('ytick', labelsize=12)\n",
        "import matplotlib.ticker as ticker\n",
        "\n",
        "# install Gurobi (our linear optimization solver)\n",
        "#!pip install -i https://pypi.gurobi.com gurobipy\n",
        "from gurobipy import *\n",
        "\n",
        "# some modules to create local directories for CBC (to avoid issues with solving multiple models)\n",
        "import os\n",
        "def new_local_directory(name):\n",
        "    full_path = os.path.join(\".\", name)\n",
        "    os.makedirs(full_path, exist_ok=True)\n",
        "    return full_path\n",
        "\n",
        "# install the latest version of seaborn for nicer graphics\n",
        "import seaborn as sns\n",
        "\n",
        "# Ignore useless some warnings\n",
        "import warnings\n",
        "warnings.simplefilter(action=\"ignore\")\n",
        "\n",
        "print(\"Completed successfully!\")"
      ]
    },
    {
      "cell_type": "markdown",
      "metadata": {
        "id": "Aqf-EBXAAgn1"
      },
      "source": [
        "## Load the case data into Pandas data frames"
      ]
    },
    {
      "cell_type": "markdown",
      "metadata": {
        "id": "17bUiOG3EYfu"
      },
      "source": [
        "We first download an Excel file with all the data from Github."
      ]
    },
    {
      "cell_type": "code",
      "execution_count": null,
      "metadata": {
        "cellView": "form",
        "colab": {
          "base_uri": "https://localhost:8080/"
        },
        "id": "oO9JJFpMEX8K",
        "outputId": "39eb65dc-aff6-4b15-c0db-de50cab9c778"
      },
      "outputs": [
        {
          "ename": "HTTPError",
          "evalue": "HTTP Error 404: Not Found",
          "output_type": "error",
          "traceback": [
            "\u001b[0;31m---------------------------------------------------------------------------\u001b[0m",
            "\u001b[0;31mHTTPError\u001b[0m                                 Traceback (most recent call last)",
            "Cell \u001b[0;32mIn[27], line 5\u001b[0m\n\u001b[1;32m      3\u001b[0m url_Excel \u001b[38;5;241m=\u001b[39m \u001b[38;5;124m'\u001b[39m\u001b[38;5;124mhttps://raw.githubusercontent.com/dan-a-iancu/OIT248/master/Prosche_Motors/Prosche_Motors_Data.xlsx?raw=true\u001b[39m\u001b[38;5;124m'\u001b[39m\n\u001b[1;32m      4\u001b[0m local_file \u001b[38;5;241m=\u001b[39m \u001b[38;5;124m\"\u001b[39m\u001b[38;5;124mProsche_Motors_Data.xlsx\u001b[39m\u001b[38;5;124m\"\u001b[39m   \u001b[38;5;66;03m# name of local file where you want to store the downloaded file\u001b[39;00m\n\u001b[0;32m----> 5\u001b[0m urllib\u001b[38;5;241m.\u001b[39mrequest\u001b[38;5;241m.\u001b[39murlretrieve(url_Excel, local_file)\n",
            "File \u001b[0;32m~/anaconda3/lib/python3.11/urllib/request.py:241\u001b[0m, in \u001b[0;36murlretrieve\u001b[0;34m(url, filename, reporthook, data)\u001b[0m\n\u001b[1;32m    224\u001b[0m \u001b[38;5;250m\u001b[39m\u001b[38;5;124;03m\"\"\"\u001b[39;00m\n\u001b[1;32m    225\u001b[0m \u001b[38;5;124;03mRetrieve a URL into a temporary location on disk.\u001b[39;00m\n\u001b[1;32m    226\u001b[0m \n\u001b[0;32m   (...)\u001b[0m\n\u001b[1;32m    237\u001b[0m \u001b[38;5;124;03mdata file as well as the resulting HTTPMessage object.\u001b[39;00m\n\u001b[1;32m    238\u001b[0m \u001b[38;5;124;03m\"\"\"\u001b[39;00m\n\u001b[1;32m    239\u001b[0m url_type, path \u001b[38;5;241m=\u001b[39m _splittype(url)\n\u001b[0;32m--> 241\u001b[0m \u001b[38;5;28;01mwith\u001b[39;00m contextlib\u001b[38;5;241m.\u001b[39mclosing(urlopen(url, data)) \u001b[38;5;28;01mas\u001b[39;00m fp:\n\u001b[1;32m    242\u001b[0m     headers \u001b[38;5;241m=\u001b[39m fp\u001b[38;5;241m.\u001b[39minfo()\n\u001b[1;32m    244\u001b[0m     \u001b[38;5;66;03m# Just return the local path and the \"headers\" for file://\u001b[39;00m\n\u001b[1;32m    245\u001b[0m     \u001b[38;5;66;03m# URLs. No sense in performing a copy unless requested.\u001b[39;00m\n",
            "File \u001b[0;32m~/anaconda3/lib/python3.11/urllib/request.py:216\u001b[0m, in \u001b[0;36murlopen\u001b[0;34m(url, data, timeout, cafile, capath, cadefault, context)\u001b[0m\n\u001b[1;32m    214\u001b[0m \u001b[38;5;28;01melse\u001b[39;00m:\n\u001b[1;32m    215\u001b[0m     opener \u001b[38;5;241m=\u001b[39m _opener\n\u001b[0;32m--> 216\u001b[0m \u001b[38;5;28;01mreturn\u001b[39;00m opener\u001b[38;5;241m.\u001b[39mopen(url, data, timeout)\n",
            "File \u001b[0;32m~/anaconda3/lib/python3.11/urllib/request.py:525\u001b[0m, in \u001b[0;36mOpenerDirector.open\u001b[0;34m(self, fullurl, data, timeout)\u001b[0m\n\u001b[1;32m    523\u001b[0m \u001b[38;5;28;01mfor\u001b[39;00m processor \u001b[38;5;129;01min\u001b[39;00m \u001b[38;5;28mself\u001b[39m\u001b[38;5;241m.\u001b[39mprocess_response\u001b[38;5;241m.\u001b[39mget(protocol, []):\n\u001b[1;32m    524\u001b[0m     meth \u001b[38;5;241m=\u001b[39m \u001b[38;5;28mgetattr\u001b[39m(processor, meth_name)\n\u001b[0;32m--> 525\u001b[0m     response \u001b[38;5;241m=\u001b[39m meth(req, response)\n\u001b[1;32m    527\u001b[0m \u001b[38;5;28;01mreturn\u001b[39;00m response\n",
            "File \u001b[0;32m~/anaconda3/lib/python3.11/urllib/request.py:634\u001b[0m, in \u001b[0;36mHTTPErrorProcessor.http_response\u001b[0;34m(self, request, response)\u001b[0m\n\u001b[1;32m    631\u001b[0m \u001b[38;5;66;03m# According to RFC 2616, \"2xx\" code indicates that the client's\u001b[39;00m\n\u001b[1;32m    632\u001b[0m \u001b[38;5;66;03m# request was successfully received, understood, and accepted.\u001b[39;00m\n\u001b[1;32m    633\u001b[0m \u001b[38;5;28;01mif\u001b[39;00m \u001b[38;5;129;01mnot\u001b[39;00m (\u001b[38;5;241m200\u001b[39m \u001b[38;5;241m<\u001b[39m\u001b[38;5;241m=\u001b[39m code \u001b[38;5;241m<\u001b[39m \u001b[38;5;241m300\u001b[39m):\n\u001b[0;32m--> 634\u001b[0m     response \u001b[38;5;241m=\u001b[39m \u001b[38;5;28mself\u001b[39m\u001b[38;5;241m.\u001b[39mparent\u001b[38;5;241m.\u001b[39merror(\n\u001b[1;32m    635\u001b[0m         \u001b[38;5;124m'\u001b[39m\u001b[38;5;124mhttp\u001b[39m\u001b[38;5;124m'\u001b[39m, request, response, code, msg, hdrs)\n\u001b[1;32m    637\u001b[0m \u001b[38;5;28;01mreturn\u001b[39;00m response\n",
            "File \u001b[0;32m~/anaconda3/lib/python3.11/urllib/request.py:563\u001b[0m, in \u001b[0;36mOpenerDirector.error\u001b[0;34m(self, proto, *args)\u001b[0m\n\u001b[1;32m    561\u001b[0m \u001b[38;5;28;01mif\u001b[39;00m http_err:\n\u001b[1;32m    562\u001b[0m     args \u001b[38;5;241m=\u001b[39m (\u001b[38;5;28mdict\u001b[39m, \u001b[38;5;124m'\u001b[39m\u001b[38;5;124mdefault\u001b[39m\u001b[38;5;124m'\u001b[39m, \u001b[38;5;124m'\u001b[39m\u001b[38;5;124mhttp_error_default\u001b[39m\u001b[38;5;124m'\u001b[39m) \u001b[38;5;241m+\u001b[39m orig_args\n\u001b[0;32m--> 563\u001b[0m     \u001b[38;5;28;01mreturn\u001b[39;00m \u001b[38;5;28mself\u001b[39m\u001b[38;5;241m.\u001b[39m_call_chain(\u001b[38;5;241m*\u001b[39margs)\n",
            "File \u001b[0;32m~/anaconda3/lib/python3.11/urllib/request.py:496\u001b[0m, in \u001b[0;36mOpenerDirector._call_chain\u001b[0;34m(self, chain, kind, meth_name, *args)\u001b[0m\n\u001b[1;32m    494\u001b[0m \u001b[38;5;28;01mfor\u001b[39;00m handler \u001b[38;5;129;01min\u001b[39;00m handlers:\n\u001b[1;32m    495\u001b[0m     func \u001b[38;5;241m=\u001b[39m \u001b[38;5;28mgetattr\u001b[39m(handler, meth_name)\n\u001b[0;32m--> 496\u001b[0m     result \u001b[38;5;241m=\u001b[39m func(\u001b[38;5;241m*\u001b[39margs)\n\u001b[1;32m    497\u001b[0m     \u001b[38;5;28;01mif\u001b[39;00m result \u001b[38;5;129;01mis\u001b[39;00m \u001b[38;5;129;01mnot\u001b[39;00m \u001b[38;5;28;01mNone\u001b[39;00m:\n\u001b[1;32m    498\u001b[0m         \u001b[38;5;28;01mreturn\u001b[39;00m result\n",
            "File \u001b[0;32m~/anaconda3/lib/python3.11/urllib/request.py:643\u001b[0m, in \u001b[0;36mHTTPDefaultErrorHandler.http_error_default\u001b[0;34m(self, req, fp, code, msg, hdrs)\u001b[0m\n\u001b[1;32m    642\u001b[0m \u001b[38;5;28;01mdef\u001b[39;00m \u001b[38;5;21mhttp_error_default\u001b[39m(\u001b[38;5;28mself\u001b[39m, req, fp, code, msg, hdrs):\n\u001b[0;32m--> 643\u001b[0m     \u001b[38;5;28;01mraise\u001b[39;00m HTTPError(req\u001b[38;5;241m.\u001b[39mfull_url, code, msg, hdrs, fp)\n",
            "\u001b[0;31mHTTPError\u001b[0m: HTTP Error 404: Not Found"
          ]
        }
      ],
      "source": [
        "#@markdown Download the entire data as an Excel file from Github\n",
        "\n",
        "url_Excel = 'https://raw.githubusercontent.com/dan-a-iancu/OIT248/master/Prosche_Motors/Prosche_Motors_Data.xlsx?raw=true'\n",
        "local_file = \"Prosche_Motors_Data.xlsx\"   # name of local file where you want to store the downloaded file\n",
        "urllib.request.urlretrieve(url_Excel, local_file)    # download from website and save it locally"
      ]
    },
    {
      "cell_type": "markdown",
      "metadata": {
        "id": "nb7NvPyuyoGh"
      },
      "source": [
        "Read in and store the data in suitable dataframes."
      ]
    },
    {
      "cell_type": "code",
      "execution_count": null,
      "metadata": {
        "cellView": "form",
        "colab": {
          "base_uri": "https://localhost:8080/"
        },
        "id": "EUxSwrdEyJDs",
        "outputId": "c2ebb83d-9321-403a-a335-7177d2eb607a"
      },
      "outputs": [
        {
          "data": {
            "text/html": [
              "<div>\n",
              "<style scoped>\n",
              "    .dataframe tbody tr th:only-of-type {\n",
              "        vertical-align: middle;\n",
              "    }\n",
              "\n",
              "    .dataframe tbody tr th {\n",
              "        vertical-align: top;\n",
              "    }\n",
              "\n",
              "    .dataframe thead th {\n",
              "        text-align: right;\n",
              "    }\n",
              "</style>\n",
              "<table border=\"1\" class=\"dataframe\">\n",
              "  <thead>\n",
              "    <tr style=\"text-align: right;\">\n",
              "      <th></th>\n",
              "      <th>Cost</th>\n",
              "      <th>Capacity</th>\n",
              "    </tr>\n",
              "    <tr>\n",
              "      <th>Factory</th>\n",
              "      <th></th>\n",
              "      <th></th>\n",
              "    </tr>\n",
              "  </thead>\n",
              "  <tbody>\n",
              "    <tr>\n",
              "      <th>Zuffe</th>\n",
              "      <td>54000</td>\n",
              "      <td>5000</td>\n",
              "    </tr>\n",
              "    <tr>\n",
              "      <th>Leip</th>\n",
              "      <td>58500</td>\n",
              "      <td>2000</td>\n",
              "    </tr>\n",
              "  </tbody>\n",
              "</table>\n",
              "</div>"
            ],
            "text/plain": [
              "          Cost  Capacity\n",
              "Factory                 \n",
              "Zuffe    54000      5000\n",
              "Leip     58500      2000"
            ]
          },
          "metadata": {},
          "output_type": "display_data"
        },
        {
          "data": {
            "text/html": [
              "<div>\n",
              "<style scoped>\n",
              "    .dataframe tbody tr th:only-of-type {\n",
              "        vertical-align: middle;\n",
              "    }\n",
              "\n",
              "    .dataframe tbody tr th {\n",
              "        vertical-align: top;\n",
              "    }\n",
              "\n",
              "    .dataframe thead th {\n",
              "        text-align: right;\n",
              "    }\n",
              "</style>\n",
              "<table border=\"1\" class=\"dataframe\">\n",
              "  <thead>\n",
              "    <tr style=\"text-align: right;\">\n",
              "      <th></th>\n",
              "      <th>C1</th>\n",
              "      <th>C2</th>\n",
              "      <th>C3</th>\n",
              "    </tr>\n",
              "  </thead>\n",
              "  <tbody>\n",
              "    <tr>\n",
              "      <th>Zuffe</th>\n",
              "      <td>1000</td>\n",
              "      <td>2500</td>\n",
              "      <td>2000</td>\n",
              "    </tr>\n",
              "    <tr>\n",
              "      <th>Leip</th>\n",
              "      <td>2000</td>\n",
              "      <td>1500</td>\n",
              "      <td>1800</td>\n",
              "    </tr>\n",
              "  </tbody>\n",
              "</table>\n",
              "</div>"
            ],
            "text/plain": [
              "         C1    C2    C3\n",
              "Zuffe  1000  2500  2000\n",
              "Leip   2000  1500  1800"
            ]
          },
          "metadata": {},
          "output_type": "display_data"
        },
        {
          "data": {
            "text/html": [
              "<div>\n",
              "<style scoped>\n",
              "    .dataframe tbody tr th:only-of-type {\n",
              "        vertical-align: middle;\n",
              "    }\n",
              "\n",
              "    .dataframe tbody tr th {\n",
              "        vertical-align: top;\n",
              "    }\n",
              "\n",
              "    .dataframe thead th {\n",
              "        text-align: right;\n",
              "    }\n",
              "</style>\n",
              "<table border=\"1\" class=\"dataframe\">\n",
              "  <thead>\n",
              "    <tr style=\"text-align: right;\">\n",
              "      <th></th>\n",
              "      <th>Staffing_Cost</th>\n",
              "      <th>Capacity</th>\n",
              "    </tr>\n",
              "  </thead>\n",
              "  <tbody>\n",
              "    <tr>\n",
              "      <th>C1</th>\n",
              "      <td>3000</td>\n",
              "      <td>2000</td>\n",
              "    </tr>\n",
              "    <tr>\n",
              "      <th>C2</th>\n",
              "      <td>6000</td>\n",
              "      <td>2200</td>\n",
              "    </tr>\n",
              "    <tr>\n",
              "      <th>C3</th>\n",
              "      <td>7500</td>\n",
              "      <td>3300</td>\n",
              "    </tr>\n",
              "  </tbody>\n",
              "</table>\n",
              "</div>"
            ],
            "text/plain": [
              "    Staffing_Cost  Capacity\n",
              "C1           3000      2000\n",
              "C2           6000      2200\n",
              "C3           7500      3300"
            ]
          },
          "metadata": {},
          "output_type": "display_data"
        },
        {
          "data": {
            "text/html": [
              "<div>\n",
              "<style scoped>\n",
              "    .dataframe tbody tr th:only-of-type {\n",
              "        vertical-align: middle;\n",
              "    }\n",
              "\n",
              "    .dataframe tbody tr th {\n",
              "        vertical-align: top;\n",
              "    }\n",
              "\n",
              "    .dataframe thead th {\n",
              "        text-align: right;\n",
              "    }\n",
              "</style>\n",
              "<table border=\"1\" class=\"dataframe\">\n",
              "  <thead>\n",
              "    <tr style=\"text-align: right;\">\n",
              "      <th></th>\n",
              "      <th>Pre-orders</th>\n",
              "      <th>Price</th>\n",
              "    </tr>\n",
              "  </thead>\n",
              "  <tbody>\n",
              "    <tr>\n",
              "      <th>OO</th>\n",
              "      <td>5000</td>\n",
              "      <td>71000</td>\n",
              "    </tr>\n",
              "    <tr>\n",
              "      <th>FL</th>\n",
              "      <td>2500</td>\n",
              "      <td>74000</td>\n",
              "    </tr>\n",
              "    <tr>\n",
              "      <th>SH</th>\n",
              "      <td>1600</td>\n",
              "      <td>69000</td>\n",
              "    </tr>\n",
              "    <tr>\n",
              "      <th>WW</th>\n",
              "      <td>550</td>\n",
              "      <td>71000</td>\n",
              "    </tr>\n",
              "  </tbody>\n",
              "</table>\n",
              "</div>"
            ],
            "text/plain": [
              "    Pre-orders  Price\n",
              "OO        5000  71000\n",
              "FL        2500  74000\n",
              "SH        1600  69000\n",
              "WW         550  71000"
            ]
          },
          "metadata": {},
          "output_type": "display_data"
        },
        {
          "data": {
            "text/html": [
              "<div>\n",
              "<style scoped>\n",
              "    .dataframe tbody tr th:only-of-type {\n",
              "        vertical-align: middle;\n",
              "    }\n",
              "\n",
              "    .dataframe tbody tr th {\n",
              "        vertical-align: top;\n",
              "    }\n",
              "\n",
              "    .dataframe thead th {\n",
              "        text-align: right;\n",
              "    }\n",
              "</style>\n",
              "<table border=\"1\" class=\"dataframe\">\n",
              "  <thead>\n",
              "    <tr style=\"text-align: right;\">\n",
              "      <th></th>\n",
              "      <th>OO</th>\n",
              "      <th>FL</th>\n",
              "      <th>SH</th>\n",
              "      <th>WW</th>\n",
              "    </tr>\n",
              "  </thead>\n",
              "  <tbody>\n",
              "    <tr>\n",
              "      <th>C1</th>\n",
              "      <td>4000</td>\n",
              "      <td>6000</td>\n",
              "      <td>3000</td>\n",
              "      <td>5000</td>\n",
              "    </tr>\n",
              "    <tr>\n",
              "      <th>C2</th>\n",
              "      <td>6000</td>\n",
              "      <td>6000</td>\n",
              "      <td>2000</td>\n",
              "      <td>4500</td>\n",
              "    </tr>\n",
              "    <tr>\n",
              "      <th>C3</th>\n",
              "      <td>4500</td>\n",
              "      <td>7000</td>\n",
              "      <td>6000</td>\n",
              "      <td>3000</td>\n",
              "    </tr>\n",
              "  </tbody>\n",
              "</table>\n",
              "</div>"
            ],
            "text/plain": [
              "      OO    FL    SH    WW\n",
              "C1  4000  6000  3000  5000\n",
              "C2  6000  6000  2000  4500\n",
              "C3  4500  7000  6000  3000"
            ]
          },
          "metadata": {},
          "output_type": "display_data"
        }
      ],
      "source": [
        "#@markdown Create dataframes based on the Excel file\n",
        "\n",
        "# data on factories (Table 1); \"index_col=0\" just assigns the first column as the row names of the data frame\n",
        "factoriesDF = pd.read_excel(\"Prosche_Motors_Data.xlsx\", sheet_name = \"Factories\", index_col=0)\n",
        "display(factoriesDF)\n",
        "\n",
        "# costs from factories to customization centers (Table 2)\n",
        "costsFactoriesToCentersDF = pd.read_excel(\"Prosche_Motors_Data.xlsx\", \\\n",
        "                                    sheet_name = \"Factories_to_Centers\", index_col=0)\n",
        "display(costsFactoriesToCentersDF)\n",
        "\n",
        "# customization center data (Table 3)\n",
        "customizationCentersDF = pd.read_excel(\"Prosche_Motors_Data.xlsx\", sheet_name = \"Customization_Centers\", index_col=0)\n",
        "display(customizationCentersDF)\n",
        "\n",
        "# customer pre-order data (Table 4)\n",
        "retailersDF = pd.read_excel(\"Prosche_Motors_Data.xlsx\", sheet_name = \"Retailer_Preorders\", index_col=0)\n",
        "display(retailersDF)\n",
        "\n",
        "# costs from customization centers to clients (Table 5)\n",
        "costsCentersToRetailersDF = pd.read_excel(\"Prosche_Motors_Data.xlsx\", \\\n",
        "                              sheet_name = \"Centers_to_Retailers\", index_col=0)\n",
        "display(costsCentersToRetailersDF)"
      ]
    },
    {
      "cell_type": "markdown",
      "metadata": {
        "id": "8yhR3xIVyJ13"
      },
      "source": [
        "## Create Python lists based on the data-frames\n",
        "\n",
        "__NOTE__: Make sure you understand what the __lists__ created here are! These will be very helpful when creating the model."
      ]
    },
    {
      "cell_type": "code",
      "execution_count": null,
      "metadata": {
        "cellView": "form",
        "colab": {
          "base_uri": "https://localhost:8080/"
        },
        "id": "oi5sktA8j3PF",
        "outputId": "c62b4d83-e55a-45b1-da32-9531da1311e4"
      },
      "outputs": [
        {
          "name": "stdout",
          "output_type": "stream",
          "text": [
            "The list of factories:\n",
            "['Zuffe', 'Leip']\n",
            "The list of centers:\n",
            "['C1', 'C2', 'C3']\n",
            "The list of retail clients:\n",
            "['OO', 'FL', 'SH', 'WW']\n"
          ]
        }
      ],
      "source": [
        "#@markdown Create useful lists with the factories, centers, clients\n",
        "# Calculate some useful lists: the factories, the customization centers, the clients\n",
        "factories = list( factoriesDF.index )              # the list of factories\n",
        "centers = list( customizationCentersDF.index )     # the list of customization centers\n",
        "retailers = list( retailersDF.index )              # the list of retailers\n",
        "\n",
        "# Take a look at the lists\n",
        "print(\"The list of factories:\")\n",
        "print(factories)\n",
        "\n",
        "print(\"The list of centers:\")\n",
        "print(centers)\n",
        "\n",
        "print(\"The list of retail clients:\")\n",
        "print(retailers)"
      ]
    },
    {
      "cell_type": "markdown",
      "metadata": {
        "id": "JWIygWXt2SNi"
      },
      "source": [
        "<font color=red>**IMPORTANT HINT.**</font> When defining your **decision variables** in this model, you may want to consider *matrices* (or grids) of decision variables instead of a simple list like we've created before. Specifically, you may want to add a decision variable for every pair of elements where the first element is from one list and the second element is from another list.\n",
        "\n",
        "When the decision variables are organized in a grid, it's significantly easier to use the ``addVars`` function to add all of the decision variables to the model at once. The function ``addVars`` can take as arguments several lists, e.g., `addVars(list1, list2, list3,...)`, in which case it will return one decision variable for every possible tuple of values. These decision variables will be stored as a dictionary, with the dictionary keys corresponding to the tuple of values.\n",
        "\n",
        "For instance, suppose `list1 = [\"Paris\", \"Budapest\", \"Beijing\"]` and `list2= [1,2]`. Then `myDecisions = addVars(list1,list2)` would return a dictionary containing one decision for every pair, i.e., (\"Paris\",1), (\"Paris\",2), (\"Budapest\",1), (\"Budapest\",2), etc. To access the decision corresponding to the pair (\"Paris\",1), we can simply use `myDecisions[(\"Paris\",1)]` or `myDecisions[\"Paris\",1]`."
      ]
    },
    {
      "cell_type": "markdown",
      "metadata": {
        "id": "z1Fz9Viqj3Oz"
      },
      "source": [
        "_____\n",
        "# **Q1**"
      ]
    },
    {
      "cell_type": "markdown",
      "metadata": {
        "id": "QbmO9_Taj3PH"
      },
      "source": [
        "##  Create an empty model"
      ]
    },
    {
      "cell_type": "code",
      "execution_count": null,
      "metadata": {
        "colab": {
          "base_uri": "https://localhost:8080/"
        },
        "id": "PuwdY_79j3PI",
        "outputId": "0310635e-b47e-48b3-ef4b-f3e25fe32560",
        "scrolled": true
      },
      "outputs": [
        {
          "name": "stdout",
          "output_type": "stream",
          "text": [
            "Restricted license - for non-production use only - expires 2024-10-28\n"
          ]
        }
      ],
      "source": [
        "# Gurobi model\n",
        "m = Model(\"Prosche Motors Supply Chain Model\")"
      ]
    },
    {
      "cell_type": "markdown",
      "metadata": {
        "id": "Q2T_Zf2nj3PI"
      },
      "source": [
        "## Define the Decision Variables\n",
        "In this problem, we would like to create a decision variable for every pair of (factory,center) and also for every pair of (center,client). Let's introduce a bit of notation:\n",
        " - let $F = \\{\\text{Zuffe, Leip}\\}$ denote the set of factories, indexed by $f$\n",
        " - let $C = \\{\\text{C1,C2,C4}\\}$ denote the set of centers, indexed by $c$\n",
        " - let $R=\\{\\text{OO,FL,SH,WW}\\}$ denote the set of retailers, indexed by $r$.\n",
        "\n",
        "We want to introduce decisions $S[f,c]$ for the shipments from factories to centers, for every possible pair $(f,c)$ with $f \\in F$ and $c \\in C$; and we also want decisions $S[c,r]$ for the shipments from centers to retailers, for every possible pair $(c,r)$ with $c\\in C$ and $r \\in R$. We can define these decisions very easily using Gurobi's ``addVars`` method."
      ]
    },
    {
      "cell_type": "code",
      "execution_count": null,
      "metadata": {
        "colab": {
          "base_uri": "https://localhost:8080/"
        },
        "id": "BU14XQ9zj3PL",
        "outputId": "bce36732-8f65-4472-cf17-c2de3608308c"
      },
      "outputs": [
        {
          "name": "stdout",
          "output_type": "stream",
          "text": [
            "{('Zuffe', 'C1'): <gurobi.Var *Awaiting Model Update*>, ('Zuffe', 'C2'): <gurobi.Var *Awaiting Model Update*>, ('Zuffe', 'C3'): <gurobi.Var *Awaiting Model Update*>, ('Leip', 'C1'): <gurobi.Var *Awaiting Model Update*>, ('Leip', 'C2'): <gurobi.Var *Awaiting Model Update*>, ('Leip', 'C3'): <gurobi.Var *Awaiting Model Update*>}\n",
            "{('C1', 'OO'): <gurobi.Var *Awaiting Model Update*>, ('C1', 'FL'): <gurobi.Var *Awaiting Model Update*>, ('C1', 'SH'): <gurobi.Var *Awaiting Model Update*>, ('C1', 'WW'): <gurobi.Var *Awaiting Model Update*>, ('C2', 'OO'): <gurobi.Var *Awaiting Model Update*>, ('C2', 'FL'): <gurobi.Var *Awaiting Model Update*>, ('C2', 'SH'): <gurobi.Var *Awaiting Model Update*>, ('C2', 'WW'): <gurobi.Var *Awaiting Model Update*>, ('C3', 'OO'): <gurobi.Var *Awaiting Model Update*>, ('C3', 'FL'): <gurobi.Var *Awaiting Model Update*>, ('C3', 'SH'): <gurobi.Var *Awaiting Model Update*>, ('C3', 'WW'): <gurobi.Var *Awaiting Model Update*>}\n"
          ]
        }
      ],
      "source": [
        "# decision variables for how much to ship from each factory to each customization center\n",
        "factoriesToCenters = m.addVars( factories, centers , name = \"Ship\")\n",
        "\n",
        "print(factoriesToCenters)\n",
        "\n",
        "# decision variables for how much to ship from each customization center to each client\n",
        "centersToRetailers = m.addVars( centers, retailers , name=\"Ship\")\n",
        "\n",
        "print(centersToRetailers)"
      ]
    },
    {
      "cell_type": "markdown",
      "metadata": {
        "id": "dMLkUyKMj3PV"
      },
      "source": [
        "## Calculate and add the objective function"
      ]
    },
    {
      "cell_type": "code",
      "execution_count": null,
      "metadata": {
        "id": "JmgtMKfaj3PW"
      },
      "outputs": [],
      "source": [
        "# Calculate the revenues\n",
        "revenue = quicksum( centersToRetailers[c,r] * retailersDF.loc[r,\"Price\"] for c in centers for r in retailers )\n",
        "\n",
        "# Calculate the costs\n",
        "# there are four terms:\n",
        "# - production costs (at factories)\n",
        "prodCost = quicksum( factoriesToCenters[f,c] * factoriesDF.loc[f,\"Cost\"] for f in factories for c in centers )\n",
        "\n",
        "# - handling & transportation costs factories to customization centers\n",
        "transCost_FC = quicksum( factoriesToCenters[f,c] * costsFactoriesToCentersDF.loc[f,c] \\\n",
        "                        for f in factories for c in centers )\n",
        "\n",
        "# - customization cost (incurred at the customization centers)\n",
        "customizationCost = quicksum( centersToRetailers[c,r] * customizationCentersDF.loc[c,\"Staffing_Cost\"] \\\n",
        "                             for c in centers for r in retailers )\n",
        "\n",
        "# - transportation costs customization centers to retail stores\n",
        "transCost_CR = quicksum( centersToRetailers[c,r] * costsCentersToRetailersDF.loc[c,r] \\\n",
        "                        for c in centers for r in retailers )\n",
        "\n",
        "# total\n",
        "totalCost =  prodCost + transCost_FC + customizationCost + transCost_CR     # total cost is the sum"
      ]
    },
    {
      "cell_type": "code",
      "execution_count": null,
      "metadata": {
        "id": "eFfHec5xj3Pa"
      },
      "outputs": [],
      "source": [
        "# objective: minimize the gross profit = revenue - cost\n",
        "m.setObjective(revenue - totalCost, GRB.MAXIMIZE)"
      ]
    },
    {
      "cell_type": "markdown",
      "metadata": {
        "id": "z9kO1tqvj3Pc"
      },
      "source": [
        "## Add All Constraints\n",
        "\n",
        "We want several types of constraints. First:\n",
        " - Capacities at factories: $\\sum_{c \\in C} S[f,c] \\leq \\text{Capacity}[f]$ for every factory $f \\in F$\n",
        " - Capacities at centers: $\\sum_{r \\in R} S[c,r] \\leq \\text{Capacity}[c]$ for every center $c \\in C$\n",
        " - Flow conservation at centers: $\\sum_{f \\in F} S[f,c] = \\sum_{r \\in R} S[c,r]$ for every center $c \\in C$\n",
        " - Cannot ship more than demand at each retailer: $\\sum_{c \\in C} S[c,r] \\leq \\text{Pre-order}[r]$ for every factory $r \\in R$"
      ]
    },
    {
      "cell_type": "code",
      "execution_count": null,
      "metadata": {
        "id": "NMVLe80qj3Pd"
      },
      "outputs": [],
      "source": [
        "# capacity constraints due to production at each factory\n",
        "for f in factories :\n",
        "    m.addConstr( quicksum(factoriesToCenters[f,c] for c in centers) \\\n",
        "                <= factoriesDF.loc[f,\"Capacity\"], name = \"Cap_\" + f)\n",
        "\n",
        "# capacity constraints at customization centers\n",
        "for c in centers :\n",
        "    m.addConstr( quicksum(centersToRetailers[c,r] for r in retailers) \\\n",
        "                <= customizationCentersDF.loc[c,\"Capacity\"], name = \"Cap_\" + c)\n",
        "\n",
        "# flow conservation at each customization center: cars going in = cars going out\n",
        "for c in centers :\n",
        "    m.addConstr( quicksum(factoriesToCenters[f,c] for f in factories) == \\\n",
        "                         quicksum(centersToRetailers[c,r] for r in retailers), \\\n",
        "                name = \"Flow_cons_\" + c )\n",
        "\n",
        "# cannot ship more than demand at each store\n",
        "for r in retailers :\n",
        "    m.addConstr( quicksum(centersToRetailers[c,r] for c in centers) \\\n",
        "                <= retailersDF.loc[r,\"Pre-orders\"], name = \"Preorder_\" + r)"
      ]
    },
    {
      "cell_type": "markdown",
      "metadata": {
        "id": "IjtI8X9dj3Pl"
      },
      "source": [
        "## Solve the model"
      ]
    },
    {
      "cell_type": "code",
      "execution_count": null,
      "metadata": {
        "cellView": "form",
        "colab": {
          "base_uri": "https://localhost:8080/"
        },
        "id": "OqPDbVEFj3Pm",
        "outputId": "f984b46c-0888-4463-ecb6-77aff5c9f813",
        "scrolled": true
      },
      "outputs": [
        {
          "name": "stdout",
          "output_type": "stream",
          "text": [
            "Gurobi Optimizer version 10.0.3 build v10.0.3rc0 (mac64[arm])\n",
            "\n",
            "CPU model: Apple M2\n",
            "Thread count: 8 physical cores, 8 logical processors, using up to 8 threads\n",
            "\n",
            "Optimize a model with 12 rows, 18 columns and 48 nonzeros\n",
            "Model fingerprint: 0xed99e870\n",
            "Coefficient statistics:\n",
            "  Matrix range     [1e+00, 1e+00]\n",
            "  Objective range  [6e+04, 6e+04]\n",
            "  Bounds range     [0e+00, 0e+00]\n",
            "  RHS range        [6e+02, 5e+03]\n",
            "Presolve time: 0.00s\n",
            "Presolved: 12 rows, 18 columns, 48 nonzeros\n",
            "\n",
            "Iteration    Objective       Primal Inf.    Dual Inf.      Time\n",
            "       0    7.3200000e+35   3.600000e+31   7.320000e+05      0s\n",
            "      10    3.3625000e+07   0.000000e+00   0.000000e+00      0s\n",
            "\n",
            "Solved in 10 iterations and 0.00 seconds (0.00 work units)\n",
            "Optimal objective  3.362500000e+07\n",
            "\n",
            "Solved the optimization problem...\n"
          ]
        }
      ],
      "source": [
        "#@markdown Select whether to run the [Gurobi](https://www.gurobi.com/) optimization algorithms silently (no output details)\n",
        "run_silently = False #@param {type:\"boolean\"}\n",
        "\n",
        "if run_silently:\n",
        "    m.setParam('OutputFlag',0)\n",
        "else:\n",
        "    m.setParam('OutputFlag',1)\n",
        "\n",
        "m.optimize()\n",
        "print('\\nSolved the optimization problem...')"
      ]
    },
    {
      "cell_type": "markdown",
      "metadata": {
        "id": "3UvnyEhh5yN_"
      },
      "source": [
        "## Print the optimal profit and optimal plan"
      ]
    },
    {
      "cell_type": "code",
      "execution_count": null,
      "metadata": {
        "cellView": "form",
        "colab": {
          "base_uri": "https://localhost:8080/"
        },
        "id": "z0ONlW2Aj3Pp",
        "outputId": "da3b5495-61c0-4238-da3c-2c7fb2cea1ae",
        "scrolled": true
      },
      "outputs": [
        {
          "name": "stdout",
          "output_type": "stream",
          "text": [
            "Optimal gross profit: 33,625,000\n",
            "Total revenue: 362,500,000\n",
            "Total production costs: 270,000,000\n",
            "Total transportation costs factories-centers: 9,100,000\n",
            "Total costs at customization centers: 25,200,000\n",
            "Total transportation costs centers-retailers: 24,575,000\n"
          ]
        }
      ],
      "source": [
        "#@markdown The optimal KPIs\n",
        "print(f\"Optimal gross profit: {m.objval:,.0f}\")\n",
        "\n",
        "# also print the revenues and costs separately\n",
        "print(f\"Total revenue: {revenue.getValue():,.0f}\")\n",
        "print(f\"Total production costs: {prodCost.getValue():,.0f}\")\n",
        "print(f\"Total transportation costs factories-centers: {transCost_FC.getValue():,.0f}\")\n",
        "print(f\"Total costs at customization centers: {customizationCost.getValue():,.0f}\")\n",
        "print(f\"Total transportation costs centers-retailers: {transCost_CR.getValue():,.0f}\")"
      ]
    },
    {
      "cell_type": "code",
      "execution_count": null,
      "metadata": {
        "cellView": "form",
        "colab": {
          "base_uri": "https://localhost:8080/"
        },
        "id": "oc7GHRAuj3Ps",
        "outputId": "5fc52a4d-930f-4d31-df5d-85298ee558ca",
        "scrolled": false
      },
      "outputs": [
        {
          "name": "stdout",
          "output_type": "stream",
          "text": [
            "==================================================\n",
            "Production at factories:\n",
            "   Zuffe  : 5,000.00\n",
            "   Leip   : 0.00\n",
            "==================================================\n",
            "Shipping from factories to customization centers:\n",
            "   Zuffe  to C1  : 2,000.00\n",
            "   Zuffe  to C2  : 2,200.00\n",
            "   Zuffe  to C3  : 800.00\n",
            "   Leip   to C1  : 0.00\n",
            "   Leip   to C2  : 0.00\n",
            "   Leip   to C3  : 0.00\n",
            "==================================================\n",
            "Processing at customization centers:\n",
            "   C1 : 2,000.00 \n",
            "   C2 : 2,200.00 \n",
            "   C3 : 800.00 \n",
            "==================================================\n",
            "Shipping from customization centers:\n",
            "   C1 to OO : 1,700.00\n",
            "   C1 to FL : 300.00\n",
            "   C1 to SH : 0.00\n",
            "   C1 to WW : 0.00\n",
            "   C2 to OO : 0.00\n",
            "   C2 to FL : 2,200.00\n",
            "   C2 to SH : 0.00\n",
            "   C2 to WW : 0.00\n",
            "   C3 to OO : 250.00\n",
            "   C3 to FL : 0.00\n",
            "   C3 to SH : 0.00\n",
            "   C3 to WW : 550.00\n",
            "==================================================\n",
            "Pre-orders and fill rates at retailers/clients:\n",
            "   OO : 1,950.00 i.e., 39.00 \\% of pre-orders.\n",
            "   FL : 2,500.00 i.e., 100.00 \\% of pre-orders.\n",
            "   SH : 0.00 i.e., 0.00 \\% of pre-orders.\n",
            "   WW : 550.00 i.e., 100.00 \\% of pre-orders.\n"
          ]
        }
      ],
      "source": [
        "#@markdown The optimal production plan\n",
        "# production at factories\n",
        "print('{:<50}\\nProduction at factories:'.format(\"=\"*50))\n",
        "for f in factories:\n",
        "    print(\"   {:<6} : {:,.2f}\".format(f, sum(factoriesToCenters[f,c].X for c in centers)) )\n",
        "\n",
        "# shipping factories to centers\n",
        "print(\"{:<50s}\\nShipping from factories to customization centers:\".format(\"=\"*50))\n",
        "for f in factories :\n",
        "    for c in centers :\n",
        "        print(\"   {:<6s} to {:<3s} : {:,.2f}\".format(f,c,factoriesToCenters[f,c].X))\n",
        "\n",
        "# processing at customization centers\n",
        "print(\"{:<50s}\\nProcessing at customization centers:\".format(\"=\"*50))\n",
        "for c in centers:\n",
        "    print(\"   {:<2s} : {:,.2f} \".format(c,sum( centersToRetailers[c,r].X for r in retailers)) )\n",
        "\n",
        "# shipping from centers to retailers\n",
        "print(\"{:<50s}\\nShipping from customization centers:\".format(\"=\"*50))\n",
        "for c in centers :\n",
        "    for r in retailers :\n",
        "        print(\"   {:<2s} to {:<2s} : {:,.2f}\".format(c,r,centersToRetailers[c,r].X))\n",
        "\n",
        "# pre-orders fulfilled at each retailer\n",
        "print(\"{:<50}\\nPre-orders and fill rates at retailers/clients:\".format(\"=\"*50))\n",
        "for r in retailers:\n",
        "    print(\"   {:<2s} : {:<,.2f} i.e., {:<,.2f} \\% of pre-orders.\"\\\n",
        "          .format(r,sum( centersToRetailers[c,r].X for c in centers),\\\n",
        "                 sum(centersToRetailers[c,r].X for c in centers)/retailersDF.loc[r,\"Pre-orders\"]*100))"
      ]
    },
    {
      "cell_type": "markdown",
      "metadata": {
        "id": "sCRFqPOxQe_A"
      },
      "source": [
        "#### Also display the status of all constraints"
      ]
    },
    {
      "cell_type": "code",
      "execution_count": null,
      "metadata": {
        "id": "zutzzpkqQe_A",
        "outputId": "61161569-e619-4f61-ed0b-89321d154668"
      },
      "outputs": [
        {
          "data": {
            "text/html": [
              "<div>\n",
              "<style scoped>\n",
              "    .dataframe tbody tr th:only-of-type {\n",
              "        vertical-align: middle;\n",
              "    }\n",
              "\n",
              "    .dataframe tbody tr th {\n",
              "        vertical-align: top;\n",
              "    }\n",
              "\n",
              "    .dataframe thead th {\n",
              "        text-align: right;\n",
              "    }\n",
              "</style>\n",
              "<table border=\"1\" class=\"dataframe\">\n",
              "  <thead>\n",
              "    <tr style=\"text-align: right;\">\n",
              "      <th></th>\n",
              "      <th>Constraint Name</th>\n",
              "      <th>LHS</th>\n",
              "      <th>Sense</th>\n",
              "      <th>RHS</th>\n",
              "      <th>Slack</th>\n",
              "    </tr>\n",
              "  </thead>\n",
              "  <tbody>\n",
              "    <tr>\n",
              "      <th>0</th>\n",
              "      <td>Cap_Zuffe</td>\n",
              "      <td>5,000.00</td>\n",
              "      <td>&lt;</td>\n",
              "      <td>5,000.00</td>\n",
              "      <td>0.00</td>\n",
              "    </tr>\n",
              "    <tr>\n",
              "      <th>1</th>\n",
              "      <td>Cap_Leip</td>\n",
              "      <td>0.00</td>\n",
              "      <td>&lt;</td>\n",
              "      <td>2,000.00</td>\n",
              "      <td>2,000.00</td>\n",
              "    </tr>\n",
              "    <tr>\n",
              "      <th>2</th>\n",
              "      <td>Cap_C1</td>\n",
              "      <td>2,000.00</td>\n",
              "      <td>&lt;</td>\n",
              "      <td>2,000.00</td>\n",
              "      <td>0.00</td>\n",
              "    </tr>\n",
              "    <tr>\n",
              "      <th>3</th>\n",
              "      <td>Cap_C2</td>\n",
              "      <td>2,200.00</td>\n",
              "      <td>&lt;</td>\n",
              "      <td>2,200.00</td>\n",
              "      <td>0.00</td>\n",
              "    </tr>\n",
              "    <tr>\n",
              "      <th>4</th>\n",
              "      <td>Cap_C3</td>\n",
              "      <td>800.00</td>\n",
              "      <td>&lt;</td>\n",
              "      <td>3,300.00</td>\n",
              "      <td>2,500.00</td>\n",
              "    </tr>\n",
              "    <tr>\n",
              "      <th>5</th>\n",
              "      <td>Flow_cons_C1</td>\n",
              "      <td>0.00</td>\n",
              "      <td>=</td>\n",
              "      <td>0.00</td>\n",
              "      <td>0.00</td>\n",
              "    </tr>\n",
              "    <tr>\n",
              "      <th>6</th>\n",
              "      <td>Flow_cons_C2</td>\n",
              "      <td>0.00</td>\n",
              "      <td>=</td>\n",
              "      <td>0.00</td>\n",
              "      <td>0.00</td>\n",
              "    </tr>\n",
              "    <tr>\n",
              "      <th>7</th>\n",
              "      <td>Flow_cons_C3</td>\n",
              "      <td>0.00</td>\n",
              "      <td>=</td>\n",
              "      <td>0.00</td>\n",
              "      <td>0.00</td>\n",
              "    </tr>\n",
              "    <tr>\n",
              "      <th>8</th>\n",
              "      <td>Preorder_OO</td>\n",
              "      <td>1,950.00</td>\n",
              "      <td>&lt;</td>\n",
              "      <td>5,000.00</td>\n",
              "      <td>3,050.00</td>\n",
              "    </tr>\n",
              "    <tr>\n",
              "      <th>9</th>\n",
              "      <td>Preorder_FL</td>\n",
              "      <td>2,500.00</td>\n",
              "      <td>&lt;</td>\n",
              "      <td>2,500.00</td>\n",
              "      <td>0.00</td>\n",
              "    </tr>\n",
              "    <tr>\n",
              "      <th>10</th>\n",
              "      <td>Preorder_SH</td>\n",
              "      <td>0.00</td>\n",
              "      <td>&lt;</td>\n",
              "      <td>1,600.00</td>\n",
              "      <td>1,600.00</td>\n",
              "    </tr>\n",
              "    <tr>\n",
              "      <th>11</th>\n",
              "      <td>Preorder_WW</td>\n",
              "      <td>550.00</td>\n",
              "      <td>&lt;</td>\n",
              "      <td>550.00</td>\n",
              "      <td>0.00</td>\n",
              "    </tr>\n",
              "  </tbody>\n",
              "</table>\n",
              "</div>"
            ],
            "text/plain": [
              "   Constraint Name      LHS Sense      RHS    Slack\n",
              "0        Cap_Zuffe 5,000.00     < 5,000.00     0.00\n",
              "1         Cap_Leip     0.00     < 2,000.00 2,000.00\n",
              "2           Cap_C1 2,000.00     < 2,000.00     0.00\n",
              "3           Cap_C2 2,200.00     < 2,200.00     0.00\n",
              "4           Cap_C3   800.00     < 3,300.00 2,500.00\n",
              "5     Flow_cons_C1     0.00     =     0.00     0.00\n",
              "6     Flow_cons_C2     0.00     =     0.00     0.00\n",
              "7     Flow_cons_C3     0.00     =     0.00     0.00\n",
              "8      Preorder_OO 1,950.00     < 5,000.00 3,050.00\n",
              "9      Preorder_FL 2,500.00     < 2,500.00     0.00\n",
              "10     Preorder_SH     0.00     < 1,600.00 1,600.00\n",
              "11     Preorder_WW   550.00     <   550.00     0.00"
            ]
          },
          "metadata": {},
          "output_type": "display_data"
        }
      ],
      "source": [
        "# get all the constraints\n",
        "allConstraints = m.getConstrs()\n",
        "constraint_status = [ [c.ConstrName, m.getRow(c).getValue(), c.Sense, c.RHS, c.Slack] for c in allConstraints ]\n",
        "\n",
        "# convert into a dataframe and print\n",
        "df = pd.DataFrame(constraint_status, columns=[\"Constraint Name\", \"LHS\", \"Sense\", \"RHS\", \"Slack\"])\n",
        "display(df)"
      ]
    },
    {
      "cell_type": "markdown",
      "metadata": {
        "id": "JB6siv6V6fjE"
      },
      "source": [
        "Store the optimal profit obtained in **Q1** for later use."
      ]
    },
    {
      "cell_type": "code",
      "execution_count": null,
      "metadata": {
        "id": "em3DFFjU6c-u"
      },
      "outputs": [],
      "source": [
        "gross_profit_Q1 = m.objVal  # optimal profit Q1"
      ]
    },
    {
      "cell_type": "markdown",
      "metadata": {
        "id": "qu1eJhBgB7aM"
      },
      "source": [
        "## Create a few functions that will help subsequently\n",
        "\n",
        "To help with subsequent parts of the problem, we add all the steps above inside a **function** that returns a generic model like the one we created in **Q1**, together with all the decision variables.<br>\n",
        "\n",
        "**NOTE**. You do not have to do this! Another option is to simply save your model from **Q1** into a new notebook called **Q2**, etc. We use the approach with defining a function because it is a bit more elegant and it works better in Colab."
      ]
    },
    {
      "cell_type": "code",
      "execution_count": null,
      "metadata": {
        "cellView": "form",
        "id": "FR_fXXdaCmob"
      },
      "outputs": [],
      "source": [
        "#@title A function that generates a model like the one in **Q1**\n",
        "def create_model_like_in_Q1():\n",
        "    # empty Gurobi model\n",
        "    m = Model(\"Prosche Motors Supply Chain Model\")\n",
        "\n",
        "    #@markdown Decision variables\n",
        "    # decision variables for how much to ship from each factory to each customization center\n",
        "    factoriesToCenters = m.addVars( factories, centers , name = \"Ship\")\n",
        "\n",
        "    # decision variables for how much to ship from each customization center to each client\n",
        "    centersToRetailers = m.addVars( centers, retailers , name=\"Ship\")\n",
        "\n",
        "    #@markdown Objective\n",
        "    # revenues\n",
        "    revenues = quicksum( centersToRetailers[c,r] * retailersDF.loc[r,\"Price\"] \\\n",
        "                        for c in centers for r in retailers )\n",
        "\n",
        "    # costs\n",
        "    # there are four terms:\n",
        "    # - production costs (at factories)\n",
        "    prodCost = quicksum( factoriesToCenters[f,c] * factoriesDF.loc[f,\"Cost\"]\\\n",
        "                        for f in factories for c in centers )\n",
        "\n",
        "    # - handling & transportation costs factories to customization centers\n",
        "    transCost_FC = quicksum( factoriesToCenters[f,c] * \\\n",
        "                            costsFactoriesToCentersDF.loc[f,c] for f in factories for c in centers )\n",
        "\n",
        "    # - customization cost (incurred at the customization centers)\n",
        "    customizationCost = quicksum( centersToRetailers[c,r] * \\\n",
        "                                 customizationCentersDF.loc[c,\"Staffing_Cost\"] \\\n",
        "                                 for c in centers for r in retailers )\n",
        "\n",
        "    # - transportation costs customization centers to retail stores\n",
        "    transCost_CR = quicksum( centersToRetailers[c,r] * \\\n",
        "                            costsCentersToRetailersDF.loc[c,r] for c in centers for r in retailers )\n",
        "\n",
        "    # total costs\n",
        "    totalCost =  prodCost + transCost_FC + customizationCost + transCost_CR     # total cost is the sum\n",
        "\n",
        "    # gross profit\n",
        "    gross_profit = revenues - totalCost\n",
        "\n",
        "    # set the objective: maximize gross profit\n",
        "    m.setObjective( gross_profit, GRB.MAXIMIZE )\n",
        "\n",
        "    #@markdown Constraints\n",
        "    constraints = {}  # will store all the constraints\n",
        "\n",
        "    # capacity constraints due to production at each factory\n",
        "    constraints[\"factory_cap\"] = {}\n",
        "    for f in factories :\n",
        "        constraints[\"factory_cap\"][f] = \\\n",
        "        m.addConstr( quicksum(factoriesToCenters[f,c] for c in centers) \\\n",
        "                    <= factoriesDF.loc[f,\"Capacity\"], name = \"Cap_\" + f)\n",
        "\n",
        "    # capacity constraints at customization centers\n",
        "    constraints[\"center_cap\"] = {}\n",
        "    for c in centers :\n",
        "        constraints[\"center_cap\"][c] = \\\n",
        "        m.addConstr( quicksum(centersToRetailers[c,r] for r in retailers) \\\n",
        "                    <= customizationCentersDF.loc[c,\"Capacity\"], name = \"Cap_\" + c)\n",
        "\n",
        "    # flow conservation at each customization center: cars going in = cars going out\n",
        "    for c in centers :\n",
        "        m.addConstr( quicksum(factoriesToCenters[f,c] for f in factories) == \\\n",
        "                            quicksum(centersToRetailers[c,r] for r in retailers), name = \"Flow_cons_\" + c )\n",
        "\n",
        "    # cannot ship more than pre-orders at each store\n",
        "    constraints[\"preorder_cap\"] = {}\n",
        "    for r in retailers :\n",
        "        constraints[\"preorder_cap\"][r] = \\\n",
        "        m.addConstr( quicksum(centersToRetailers[c,r] for c in centers) \\\n",
        "                    <= retailersDF.loc[r,\"Pre-orders\"], name = \"Preorder_\" + r)\n",
        "\n",
        "    # return the model, the decision variables and the formula for the objective\n",
        "    return m, factoriesToCenters, centersToRetailers, gross_profit,\\\n",
        "    constraints"
      ]
    },
    {
      "cell_type": "code",
      "execution_count": null,
      "metadata": {
        "cellView": "form",
        "id": "SLcdwNtZXpqN"
      },
      "outputs": [],
      "source": [
        "#@title A function to print the performance in a model compared to **Q1**\n",
        "def print_and_compare_Q1(model, centersToRetailers_decisions):\n",
        "    print(\"=\"*60)\n",
        "    print(\"{:<50s} : {:,.2f}\".\\\n",
        "          format(\"The gross profit with these considerations\",model.objVal))\n",
        "    print(\"{:<50s} : {:,.2f}\".\\\n",
        "          format(\"Profit difference compared to Q1:\",model.objVal-gross_profit_Q1))\n",
        "    print(\"{:<50s} : {:,.2f}\".\\\n",
        "          format(\"Profit loss (%):\",(model.objVal/gross_profit_Q1-1.0)*100))\n",
        "\n",
        "    #@markdown Print the number of orders and the fill rate achieved at each customer\n",
        "    print(\"{:<60s}\\nThe number of orders and the fill rate at each retailer:\\n\".format(\"=\"*60))\n",
        "    print(\"   {:<6s} \\t {:<3s} \\t {:<5s}\".format(\"Retailer\",\"Orders\",\"Fill rate\"))\n",
        "    for r in retailers:\n",
        "        orders = sum(centersToRetailers_decisions[c,r].X for c in centers)\n",
        "        print(\"   {:<6s} \\t {:<.0f} \\t\\t {:<,.2f}%\".\\\n",
        "              format(r,orders, orders/retailersDF[\"Pre-orders\"][r]*100))"
      ]
    },
    {
      "cell_type": "markdown",
      "metadata": {
        "id": "4TE_yA_h6WVj"
      },
      "source": [
        "______\n",
        "# **Q2**\n",
        "Before running this section, make sure you have run all the previous sections of the Colab file."
      ]
    },
    {
      "cell_type": "code",
      "execution_count": null,
      "metadata": {
        "id": "v7oJ1c_0Ivl0"
      },
      "outputs": [],
      "source": [
        "# set up a variable for the retailer we are focusing on\n",
        "retailer_to_focus = \"OO\""
      ]
    },
    {
      "cell_type": "markdown",
      "metadata": {
        "id": "8CbzVStt7ykl"
      },
      "source": [
        "Re-recreate an identical model to the one from **Q1** and store the expression for model, the decision variables and the objective."
      ]
    },
    {
      "cell_type": "code",
      "execution_count": null,
      "metadata": {
        "id": "BKvDyjWbFmyA"
      },
      "outputs": [],
      "source": [
        "# create a model like the one in Q1 using the function\n",
        "m_Q2, factoriesToCenters_Q2, centersToRetailers_Q2, gross_profit_Q2, constr_Q2 = \\\n",
        "       create_model_like_in_Q1()"
      ]
    },
    {
      "cell_type": "markdown",
      "metadata": {
        "id": "nLrrRn3WFsvB"
      },
      "source": [
        "Add a constraint that the gross profit in Q2 should be at least as large as the profit in Q1 (we could set this either as an inequality or with equality, since the profit obtained in Q1 is the largest possible profit anyway)."
      ]
    },
    {
      "cell_type": "code",
      "execution_count": null,
      "metadata": {
        "cellView": "form",
        "colab": {
          "base_uri": "https://localhost:8080/"
        },
        "id": "Pcxu8ojc6X8Y",
        "outputId": "0e3a1bf6-ea6d-4661-b1eb-d8438afb2ba2"
      },
      "outputs": [
        {
          "data": {
            "text/plain": [
              "<gurobi.Constr *Awaiting Model Update*>"
            ]
          },
          "execution_count": 19,
          "metadata": {},
          "output_type": "execute_result"
        }
      ],
      "source": [
        "#@markdown Constraint on profit compared to Q1\n",
        "m_Q2.addConstr( gross_profit_Q2 >= gross_profit_Q1 )"
      ]
    },
    {
      "cell_type": "markdown",
      "metadata": {
        "id": "54vtBd9eGAA-"
      },
      "source": [
        "Set the objective in the new model to maximize the total orders received by OO, and solve the new model."
      ]
    },
    {
      "cell_type": "code",
      "execution_count": null,
      "metadata": {
        "cellView": "form",
        "colab": {
          "base_uri": "https://localhost:8080/"
        },
        "id": "v-yNNowxAALx",
        "outputId": "fadf8fba-a96d-4ecc-cc9e-83be9692fedc"
      },
      "outputs": [
        {
          "name": "stdout",
          "output_type": "stream",
          "text": [
            "\n",
            "Solved the optimization problem...\n",
            "The maximum number of orders that can be filled at OO while achieving maximum profit is: 1,950\n"
          ]
        }
      ],
      "source": [
        "#@title Update objective to maximize OO orders\n",
        "m_Q2.setObjective( quicksum( centersToRetailers_Q2[c,retailer_to_focus] for c in centers ), GRB.MAXIMIZE )\n",
        "\n",
        "#@markdown Select whether to run the [Gurobi](https://www.gurobi.com/) optimization algorithms silently (no output details)\n",
        "run_silently = True #@param {type:\"boolean\"}\n",
        "\n",
        "if run_silently:\n",
        "    m_Q2.setParam('OutputFlag',0)\n",
        "else:\n",
        "    m_Q2.setParam('OutputFlag',1)\n",
        "\n",
        "m_Q2.optimize()\n",
        "print('\\nSolved the optimization problem...')\n",
        "\n",
        "#@markdown Print the max number of orders\n",
        "print(\"The maximum number of orders that can be filled at {} while achieving maximum profit is: {:,.0f}\".\\\n",
        "      format(retailer_to_focus,m_Q2.objVal))"
      ]
    },
    {
      "cell_type": "markdown",
      "metadata": {
        "id": "IE1UrKQ1GfON"
      },
      "source": [
        "Now repeat the same steps but for the problem of minimizing the number of orders."
      ]
    },
    {
      "cell_type": "code",
      "execution_count": null,
      "metadata": {
        "cellView": "form",
        "colab": {
          "base_uri": "https://localhost:8080/"
        },
        "id": "iEDZl3c2Gglz",
        "outputId": "f1d8584d-ed40-450d-97e7-91a43c692cf9"
      },
      "outputs": [
        {
          "name": "stdout",
          "output_type": "stream",
          "text": [
            "\n",
            "Solved the optimization problem...\n",
            "The maximum number of orders that can be filled at OO while achieving maximum profit is: 350\n"
          ]
        }
      ],
      "source": [
        "#@title Update objective to minimize OO orders\n",
        "m_Q2.setObjective( quicksum( centersToRetailers_Q2[c,retailer_to_focus] for c in centers ), GRB.MINIMIZE )\n",
        "\n",
        "#@markdown Select whether to run the [Gurobi](https://www.gurobi.com/) optimization algorithms silently (no output details)\n",
        "run_silently = True #@param {type:\"boolean\"}\n",
        "\n",
        "if run_silently:\n",
        "    m_Q2.setParam('OutputFlag',0)\n",
        "else:\n",
        "    m_Q2.setParam('OutputFlag',1)\n",
        "\n",
        "m_Q2.optimize()\n",
        "print('\\nSolved the optimization problem...')\n",
        "\n",
        "#@markdown Print the max number of orders\n",
        "print(\"The maximum number of orders that can be filled at {} while achieving maximum profit is: {:,.0f}\".\\\n",
        "      format(retailer_to_focus,m_Q2.objVal))"
      ]
    },
    {
      "cell_type": "markdown",
      "metadata": {
        "id": "15oDqs2YPbU_"
      },
      "source": [
        "### Additional analysis (not required in the mini-case).\n",
        "Repeat the analysis above for each of the retail clients, to identify all potential client \"bottlenecks\"."
      ]
    },
    {
      "cell_type": "code",
      "execution_count": null,
      "metadata": {
        "cellView": "form",
        "colab": {
          "base_uri": "https://localhost:8080/"
        },
        "id": "fG37ydnYQGgZ",
        "outputId": "fcee4929-e7e4-4a34-d43d-1dafa3a8f6fb"
      },
      "outputs": [
        {
          "data": {
            "text/html": [
              "<div>\n",
              "<style scoped>\n",
              "    .dataframe tbody tr th:only-of-type {\n",
              "        vertical-align: middle;\n",
              "    }\n",
              "\n",
              "    .dataframe tbody tr th {\n",
              "        vertical-align: top;\n",
              "    }\n",
              "\n",
              "    .dataframe thead th {\n",
              "        text-align: right;\n",
              "    }\n",
              "</style>\n",
              "<table border=\"1\" class=\"dataframe\">\n",
              "  <thead>\n",
              "    <tr style=\"text-align: right;\">\n",
              "      <th></th>\n",
              "      <th>Pre-orders</th>\n",
              "      <th>Min orders</th>\n",
              "      <th>Max orders</th>\n",
              "    </tr>\n",
              "  </thead>\n",
              "  <tbody>\n",
              "    <tr>\n",
              "      <th>OO</th>\n",
              "      <td>5000</td>\n",
              "      <td>350.00</td>\n",
              "      <td>1,950.00</td>\n",
              "    </tr>\n",
              "    <tr>\n",
              "      <th>FL</th>\n",
              "      <td>2500</td>\n",
              "      <td>2,500.00</td>\n",
              "      <td>2,500.00</td>\n",
              "    </tr>\n",
              "    <tr>\n",
              "      <th>SH</th>\n",
              "      <td>1600</td>\n",
              "      <td>0.00</td>\n",
              "      <td>1,600.00</td>\n",
              "    </tr>\n",
              "    <tr>\n",
              "      <th>WW</th>\n",
              "      <td>550</td>\n",
              "      <td>550.00</td>\n",
              "      <td>550.00</td>\n",
              "    </tr>\n",
              "  </tbody>\n",
              "</table>\n",
              "</div>"
            ],
            "text/plain": [
              "    Pre-orders  Min orders  Max orders\n",
              "OO        5000      350.00    1,950.00\n",
              "FL        2500    2,500.00    2,500.00\n",
              "SH        1600        0.00    1,600.00\n",
              "WW         550      550.00      550.00"
            ]
          },
          "metadata": {},
          "output_type": "display_data"
        }
      ],
      "source": [
        "#@markdown Determine the maximum and minimum number of orders that can be filled at each retailer while achieving maximum profit\n",
        "# set up some arrays to store the max/min orders that can be filled\n",
        "max_orders = [0]*len(retailers)\n",
        "min_orders = [0]*len(retailers)\n",
        "\n",
        "for i in range(len(retailers)):\n",
        "    retailer_to_focus = retailers[i]\n",
        "\n",
        "    # create a model like the one in Q1 using the function\n",
        "    m_Q2, factoriesToCenters_Q2, centersToRetailers_Q2, gross_profit_Q2, constr_Q2 = \\\n",
        "          create_model_like_in_Q1()\n",
        "\n",
        "    # Constraint that profit >= optimal profit in Q1\n",
        "    m_Q2.addConstr( gross_profit_Q2 >= gross_profit_Q1 )\n",
        "\n",
        "    # Update objective to maximize orders to that retailer\n",
        "    m_Q2.setObjective( quicksum( centersToRetailers_Q2[c,retailer_to_focus] for c in centers ), GRB.MAXIMIZE )\n",
        "\n",
        "    # solve the model\n",
        "    m_Q2.setParam('OutputFlag',0)\n",
        "    m_Q2.optimize()\n",
        "\n",
        "    # store the maximum number of orders\n",
        "    max_orders[i] = m_Q2.objVal\n",
        "\n",
        "    # Update objective to minimize # of orders\n",
        "    m_Q2.setObjective( quicksum( centersToRetailers_Q2[c,retailer_to_focus] for c in centers ), GRB.MINIMIZE )\n",
        "\n",
        "    # solve again\n",
        "    m_Q2.optimize()\n",
        "\n",
        "    # store the min number of orders\n",
        "    min_orders[i] = m_Q2.objVal\n",
        "\n",
        "# print the results as a data-frame, together with the pre-orders of each retailer\n",
        "full_results_Q2 = pd.DataFrame( {\"Pre-orders\" : retailersDF[\"Pre-orders\"], \\\n",
        "                                 \"Min orders\" : min_orders, \\\n",
        "                                 \"Max orders\" : max_orders}, index=retailers )\n",
        "display(full_results_Q2)"
      ]
    },
    {
      "cell_type": "markdown",
      "metadata": {
        "id": "UETm_Y0UXHOu"
      },
      "source": [
        "______\n",
        "# **Q3**\n",
        "Before running this section, make sure you have run all the previous sections of the Colab file."
      ]
    },
    {
      "cell_type": "markdown",
      "metadata": {
        "id": "UbEeb8y2USNe"
      },
      "source": [
        "## OPTION 1\n",
        "The model here requires that the **fill rates** at distinct retailers do not differ too much. (The fill rate is defined as the ratio of filled orders divided by demand/preorders.) Specifically, if $F[r]$ denotes the fill rate at retailer $r$ , we are imposing the constraints:<br>\n",
        "> $ F[r_1] - F[r_2] \\leq \\Delta$, for every possible pair $r_1,r_2$,\n",
        "\n",
        "where $\\Delta$ is some pre-specified value for the maximum allowed difference."
      ]
    },
    {
      "cell_type": "code",
      "execution_count": null,
      "metadata": {
        "cellView": "form",
        "colab": {
          "base_uri": "https://localhost:8080/"
        },
        "id": "j9dxCI8wUSNe",
        "outputId": "171f907e-6c0b-41f8-c19c-2b82a31b166d"
      },
      "outputs": [
        {
          "name": "stdout",
          "output_type": "stream",
          "text": [
            "\n",
            "Solved the optimization problem...\n",
            "\n",
            "============================================================\n",
            "The gross profit with these considerations         : 31,995,121.95\n",
            "Profit difference compared to Q1:                  : -1,629,878.05\n",
            "Profit loss (%):                                   : -4.85\n",
            "============================================================\n",
            "The number of orders and the fill rate at each retailer:\n",
            "\n",
            "   Retailer \t Orders \t Fill rate\n",
            "   OO     \t 2683 \t\t 53.66%\n",
            "   FL     \t 1341 \t\t 53.66%\n",
            "   SH     \t 859 \t\t 53.66%\n",
            "   WW     \t 295 \t\t 53.66%\n"
          ]
        }
      ],
      "source": [
        "#@markdown Select the maximum allowed difference in fill rates (as a percentage)\n",
        "max_difference_fill_rates = 0 #@param {type:\"number\"}\n",
        "max_difference_fill_rates = max_difference_fill_rates/100\n",
        "\n",
        "#markdown Create a model like the one in Q1\n",
        "model, factoriesToCenters, centersToRetailers, gross_profit, constr = \\\n",
        "       create_model_like_in_Q1()\n",
        "\n",
        "# #@markdown Constrain the fill rate at each retailer\n",
        "for r1 in retailers:\n",
        "   for r2 in retailers:\n",
        "      model.addConstr(\n",
        "          quicksum( centersToRetailers[c,r1] for c in centers )/retailersDF[\"Pre-orders\"][r1] - \\\n",
        "          quicksum( centersToRetailers[c,r2] for c in centers )/retailersDF[\"Pre-orders\"][r2] <= \\\n",
        "          max_difference_fill_rates )\n",
        "\n",
        "# #@markdown Solve the new model\n",
        "#@markdown Select whether to run the [Gurobi](https://www.gurobi.com/) optimization algorithms silently (no output details)\n",
        "run_silently = True #@param {type:\"boolean\"}\n",
        "\n",
        "if run_silently:\n",
        "    model.setParam('OutputFlag',0)\n",
        "else:\n",
        "    model.setParam('OutputFlag',1)\n",
        "\n",
        "model.optimize()\n",
        "print('\\nSolved the optimization problem...\\n')\n",
        "\n",
        "if model.status in [GRB.INFEASIBLE, GRB.INF_OR_UNBD]:\n",
        "    # the model is infeasible\n",
        "    print(\"It is infeasible to achieve this fill rate at all retailers.\")\n",
        "\n",
        "elif model.status==GRB.OPTIMAL:\n",
        "    # the model was solved to optimality\n",
        "    # #@markdown Print the gross profit and the difference from Q1\n",
        "    print_and_compare_Q1(model, centersToRetailers)"
      ]
    },
    {
      "cell_type": "code",
      "execution_count": null,
      "metadata": {
        "cellView": "form",
        "colab": {
          "base_uri": "https://localhost:8080/",
          "height": 369
        },
        "id": "OGhPhuYCfyw0",
        "outputId": "db84d7cc-a54d-49a4-d890-2a10674860ab",
        "scrolled": true
      },
      "outputs": [
        {
          "data": {
            "image/png": "[encoded data removed]",
            "text/plain": [
              "<Figure size 1000x500 with 2 Axes>"
            ]
          },
          "metadata": {},
          "output_type": "display_data"
        }
      ],
      "source": [
        "#@title Examine how the gross profit losses and achieved fill-rates depend on the allowed difference\n",
        "\n",
        "# set up values for the differente in fill rates (in %)\n",
        "delta_vals = list(np.arange(0,100,5))\n",
        "\n",
        "# the objective values and the loss compared to Q1\n",
        "objValues = [0]*len(delta_vals)\n",
        "loss_Q1 = [0]*len(delta_vals)\n",
        "\n",
        "# a dictionary with a list for each customer, that stores the realized fill rate at that customer\n",
        "individual_fillrates = {}\n",
        "for r in retailers:\n",
        "    individual_fillrates[r] = [0]*len(delta_vals)\n",
        "\n",
        "for i in range(len(delta_vals)):\n",
        "\n",
        "    # create new model from scratch\n",
        "    model, factoriesToCenters, centersToRetailers, gross_profit, constr = \\\n",
        "          create_model_like_in_Q1()\n",
        "\n",
        "    model.setParam('OutputFlag',0)\n",
        "\n",
        "    # change the fill rate constraint\n",
        "    for r1 in retailers:\n",
        "      for r2 in retailers:\n",
        "          model.addConstr(\n",
        "              quicksum( centersToRetailers[c,r1] for c in centers )/retailersDF[\"Pre-orders\"][r1] - \\\n",
        "              quicksum( centersToRetailers[c,r2] for c in centers )/retailersDF[\"Pre-orders\"][r2] <= \\\n",
        "              delta_vals[i]/100 )\n",
        "\n",
        "    model.optimize()\n",
        "    objValues[i] = model.objVal\n",
        "    loss_Q1[i] = (1.0 - objValues[i]/gross_profit_Q1)*100\n",
        "    for r in retailers:\n",
        "        individual_fillrates[r][i] = (sum(centersToRetailers[c,r].X for c in centers) / retailersDF[\"Pre-orders\"][r])*100\n",
        "\n",
        "#@markdown Do a single plot for everything\n",
        "# first settings are good for Powerpoint plots; second set is good in Colab\n",
        "#fontsize = 15\n",
        "#fig, ax1 = plt.subplots(figsize=(15,8))\n",
        "#markersize = 10\n",
        "#linewidth = 3\n",
        "fontsize = 12\n",
        "fig, ax1 = plt.subplots(figsize=(10,5))\n",
        "markersize = 5\n",
        "linewidth = 2\n",
        "color1 = 'black'\n",
        "\n",
        "# plot only a few markers for each plot (that way one can disambiguate)\n",
        "markevery = [2, 3, 2, 3]\n",
        "markers = ['o', 's', '*', 'd']\n",
        "\n",
        "for i in range(len(retailers)):\n",
        "    plt.plot(delta_vals, individual_fillrates[retailers[i]], linestyle='solid', \\\n",
        "             linewidth=linewidth,marker=markers[i],\\\n",
        "             markersize=markersize, markevery=markevery[i])\n",
        "\n",
        "plt.xlabel(\"Delta value (%)\", fontsize=fontsize)\n",
        "plt.ylabel(\"Fill rates (%)\", color=color1, fontsize=fontsize)\n",
        "ax1.tick_params(axis='y', labelcolor=color1)\n",
        "plt.yticks(fontsize=fontsize)\n",
        "plt.xticks(fontsize=fontsize)\n",
        "ax1.legend(retailers, fontsize=fontsize, loc=\"lower left\")\n",
        "\n",
        "ax2 = ax1.twinx()  # instantiate a second axes that shares the same x-axis\n",
        "color2 = 'magenta'\n",
        "ax2.set_ylabel('Profit loss from Q1 (%)', color=color2, fontsize=fontsize)  # we already handled the x-label with ax1\n",
        "ax2.plot(delta_vals, loss_Q1, color='magenta', linestyle='--', linewidth=linewidth)\n",
        "ax2.tick_params(axis='y', labelcolor=color2)\n",
        "plt.yticks(fontsize=fontsize)\n",
        "plt.xticks(fontsize=fontsize)\n",
        "\n",
        "plt.tight_layout()\n",
        "plt.show()"
      ]
    },
    {
      "cell_type": "markdown",
      "metadata": {
        "id": "qNjGwuecYk6X"
      },
      "source": [
        "______\n",
        "## OPTION 2\n",
        "This model requires that the **fill rate** for each retailer is at least as large as some pre-specified lower bound. (Recall that the fill rate is defined as the ratio of filled orders divided by demand/preorders.) That is, if $F[r]$ denotes the fill rate achieved at retailer $r$, we are imposing the constraints:<br>\n",
        "> $ F[r] \\geq f$ for every retailer $r$\n",
        "\n",
        "where $f$ is the minimum required fill-rate (a value between 0 and 1)."
      ]
    },
    {
      "cell_type": "markdown",
      "metadata": {
        "id": "Dyv6NOcxYk6w"
      },
      "source": []
    },
    {
      "cell_type": "code",
      "execution_count": null,
      "metadata": {
        "cellView": "form",
        "colab": {
          "base_uri": "https://localhost:8080/"
        },
        "id": "xAwdwaCzYk6x",
        "outputId": "14f7ec2b-7f72-4b9f-d2e4-c054b12ac0bc"
      },
      "outputs": [
        {
          "name": "stdout",
          "output_type": "stream",
          "text": [
            "\n",
            "Solved the optimization problem...\n",
            "\n",
            "============================================================\n",
            "The gross profit with these considerations         : 31,716,250.00\n",
            "Profit difference compared to Q1:                  : -1,908,750.00\n",
            "Profit loss (%):                                   : -5.68\n",
            "============================================================\n",
            "The number of orders and the fill rate at each retailer:\n",
            "\n",
            "   Retailer \t Orders \t Fill rate\n",
            "   OO     \t 3625 \t\t 72.50%\n",
            "   FL     \t 1812 \t\t 72.50%\n",
            "   SH     \t 1160 \t\t 72.50%\n",
            "   WW     \t 403 \t\t 73.18%\n"
          ]
        }
      ],
      "source": [
        "#@title Solve a single problem instance with a minimum fill rate requirement\n",
        "#@markdown Select the desired minimum fill rate (as a percentage)\n",
        "min_fill_rate = 72.5 #@param {type:\"number\"}\n",
        "min_fill_rate = min_fill_rate/100\n",
        "\n",
        "#markdown Create a model like the one in Q1\n",
        "model, factoriesToCenters, centersToRetailers, gross_profit, constr = \\\n",
        "       create_model_like_in_Q1()\n",
        "\n",
        "# Constrain the fill rate at each retailer\n",
        "fill_rate_constraint = {}  # store the fill rate constraints in a dictionary, to make it easy to recall them\n",
        "for r in retailers :\n",
        "    fill_rate_constraint[r] = \\\n",
        "    model.addConstr( quicksum(centersToRetailers[c,r] for c in centers) / retailersDF[\"Pre-orders\"][r] >= min_fill_rate)\n",
        "\n",
        "# Solve the new model\n",
        "#@markdown Select whether to run the [Gurobi](https://www.gurobi.com/) optimization algorithms silently (no output details)\n",
        "run_silently = True #@param {type:\"boolean\"}\n",
        "\n",
        "if run_silently:\n",
        "    model.setParam('OutputFlag',0)\n",
        "else:\n",
        "    model.setParam('OutputFlag',1)\n",
        "\n",
        "model.optimize()\n",
        "print('\\nSolved the optimization problem...\\n')\n",
        "\n",
        "if model.status in [GRB.INFEASIBLE, GRB.INF_OR_UNBD]:\n",
        "    # the model is infeasible\n",
        "    print(\"It is infeasible to achieve this fill rate at all retailers.\")\n",
        "\n",
        "elif model.status==GRB.OPTIMAL:\n",
        "    # the model was solved to optimality\n",
        "    # Print the gross profit and the difference from Q1\n",
        "    print_and_compare_Q1(model, centersToRetailers)"
      ]
    },
    {
      "cell_type": "code",
      "execution_count": null,
      "metadata": {
        "cellView": "form",
        "colab": {
          "base_uri": "https://localhost:8080/",
          "height": 369
        },
        "id": "7BYM7llCaJfD",
        "outputId": "23932b9c-9421-4b73-e808-8a605bc9cc63",
        "scrolled": true
      },
      "outputs": [
        {
          "ename": "NameError",
          "evalue": "name 'AlsetModel' is not defined",
          "output_type": "error",
          "traceback": [
            "\u001b[0;31m---------------------------------------------------------------------------\u001b[0m",
            "\u001b[0;31mNameError\u001b[0m                                 Traceback (most recent call last)",
            "Cell \u001b[0;32mIn[26], line 18\u001b[0m\n\u001b[1;32m     15\u001b[0m \u001b[38;5;28;01mfor\u001b[39;00m r \u001b[38;5;129;01min\u001b[39;00m retailers :\n\u001b[1;32m     16\u001b[0m     fill_rate_constraint[r]\u001b[38;5;241m.\u001b[39msetAttr(\u001b[38;5;124m'\u001b[39m\u001b[38;5;124mrhs\u001b[39m\u001b[38;5;124m'\u001b[39m, fill_rate_vals[i]\u001b[38;5;241m/\u001b[39m\u001b[38;5;241m100\u001b[39m)\n\u001b[0;32m---> 18\u001b[0m AlsetModel\u001b[38;5;241m.\u001b[39moptimize()   \n\u001b[1;32m     19\u001b[0m objValues[i] \u001b[38;5;241m=\u001b[39m AlsetModel\u001b[38;5;241m.\u001b[39mobjVal\n\u001b[1;32m     20\u001b[0m loss_Q1[i] \u001b[38;5;241m=\u001b[39m (\u001b[38;5;241m1.0\u001b[39m \u001b[38;5;241m-\u001b[39m objValues[i]\u001b[38;5;241m/\u001b[39mgross_profit_Q1)\u001b[38;5;241m*\u001b[39m\u001b[38;5;241m100\u001b[39m\n",
            "\u001b[0;31mNameError\u001b[0m: name 'AlsetModel' is not defined"
          ]
        }
      ],
      "source": [
        "#@title Examine how the gross profit losses and the achieved fill rates depend on the minimum fill rate requirement\n",
        "fill_rate_vals = list(np.arange(0,72.6,0.1))      # set up values for the fill rate (in percentage terms)\n",
        "\n",
        "# the objective values and the loss compared to Q1\n",
        "objValues = [0]*len(fill_rate_vals)\n",
        "loss_Q1 = [0]*len(fill_rate_vals)\n",
        "\n",
        "# a dictionary with a list for each customer, that stores the realized fill rate at that customer\n",
        "individual_fillrates = {}\n",
        "for r in retailers:\n",
        "    individual_fillrates[r] = [0]*len(fill_rate_vals)\n",
        "\n",
        "for i in range(len(fill_rate_vals)):\n",
        "    # change the fill rate constraint\n",
        "    for r in retailers :\n",
        "        fill_rate_constraint[r].setAttr('rhs', fill_rate_vals[i]/100)\n",
        "\n",
        "    AlsetModel.optimize()\n",
        "    objValues[i] = AlsetModel.objVal\n",
        "    loss_Q1[i] = (1.0 - objValues[i]/gross_profit_Q1)*100\n",
        "    for r in retailers:\n",
        "        individual_fillrates[r][i] = (sum(centersToRetailers[c,r].X for c in centers) / retailersDF[\"Pre-orders\"][r])*100\n",
        "\n",
        "#@markdown Do a single plot for everything\n",
        "#fontsize = 30\n",
        "#fig, ax1 = plt.subplots(figsize=(15,8))\n",
        "#markersize = 10\n",
        "#linewidth = 3\n",
        "fontsize = 12\n",
        "fig, ax1 = plt.subplots(figsize=(10,5))\n",
        "markersize = 5\n",
        "linewidth = 2\n",
        "\n",
        "color1 = 'black'\n",
        "\n",
        "# plot only a few markers for each plot (that way one can disambiguate)\n",
        "markevery = [20, 30, 20, 30]\n",
        "markers = ['o', 's', '*', 'd']\n",
        "\n",
        "for i in range(len(retailers)):\n",
        "    plt.plot(fill_rate_vals, individual_fillrates[retailers[i]], linestyle='solid', \\\n",
        "             linewidth=linewidth,\\\n",
        "             marker=markers[i], markersize=markersize, markevery=markevery[i])\n",
        "\n",
        "plt.xlabel(\"Minimum required fill-rate (%)\", fontsize=fontsize)\n",
        "plt.ylabel(\"Fill rates (%)\", color=color1, fontsize=fontsize)\n",
        "ax1.tick_params(axis='y', labelcolor=color1)\n",
        "plt.yticks(fontsize=fontsize)\n",
        "plt.xticks(fontsize=fontsize)\n",
        "plt.legend(retailers, fontsize=fontsize)\n",
        "\n",
        "ax2 = ax1.twinx()  # instantiate a second axes that shares the same x-axis\n",
        "color2 = 'magenta'\n",
        "ax2.set_ylabel('Profit loss from Q1 (%)', color=color2, fontsize=fontsize)  # we already handled the x-label with ax1\n",
        "ax2.plot(fill_rate_vals, loss_Q1, color='magenta', linestyle='--', linewidth=linewidth)\n",
        "ax2.tick_params(axis='y', labelcolor=color2)\n",
        "plt.yticks(fontsize=fontsize)\n",
        "plt.xticks(fontsize=fontsize)\n",
        "\n",
        "plt.tight_layout()\n",
        "plt.show()"
      ]
    },
    {
      "cell_type": "markdown",
      "metadata": {
        "id": "ESrQ0be6pb83"
      },
      "source": [
        "______\n",
        "# **Q4**\n",
        "Before running this section, make sure you have run all the previous sections of the Colab file."
      ]
    },
    {
      "cell_type": "markdown",
      "metadata": {
        "id": "EKH9fwZqpb9K"
      },
      "source": [
        "Here, we change the capacity in each facility (one at a time), resolve the problem, and record the difference in gross profits compared to **Q1**."
      ]
    },
    {
      "cell_type": "code",
      "execution_count": null,
      "metadata": {
        "cellView": "form",
        "id": "1VdV-o7lxQb8"
      },
      "outputs": [],
      "source": [
        "#@title Increase capacity **in each facility at a time** by some amount:\n",
        "\n",
        "capacity_increase = 1 #@param {type:\"number\"}\n",
        "\n",
        "for facility in [\"Zuffe\", \"Leip\", \"C1\", \"C2\", \"C3\"]:\n",
        "    #markdown Create a model like the one in Q1\n",
        "    model, factoriesToCenters, centersToRetailers, gross_profit, constr = \\\n",
        "          create_model_like_in_Q1()\n",
        "\n",
        "    if facility in factories:\n",
        "        constr[\"factory_cap\"][facility].setAttr('rhs', factoriesDF[\"Capacity\"][facility] + capacity_increase)\n",
        "\n",
        "    elif facility in centers:\n",
        "        constr[\"center_cap\"][facility].setAttr('rhs', customizationCentersDF[\"Capacity\"][facility] + capacity_increase)\n",
        "\n",
        "    # run Gurobi silently\n",
        "    model.setParam('OutputFlag',0)\n",
        "    model.optimize()\n",
        "\n",
        "    if model.status in [GRB.INFEASIBLE, GRB.INF_OR_UNBD]:\n",
        "        # the model is infeasible\n",
        "        print(\"The model is infeasible.\")\n",
        "\n",
        "    elif model.status==GRB.OPTIMAL:\n",
        "        # the model was solved to optimality\n",
        "        print(\"By increasing the capacity at {} by {} unit(s), the profit difference compared to Q1 is: {:,.2f}\".\\\n",
        "              format(facility, capacity_increase, model.objVal - gross_profit_Q1))"
      ]
    },
    {
      "cell_type": "code",
      "execution_count": null,
      "metadata": {
        "cellView": "form",
        "id": "DnAl3_nPpb9L"
      },
      "outputs": [],
      "source": [
        "#@title The code below allows you to calculate how the profit changes as a function of the capacity increase\n",
        "\n",
        "#@markdown Select one of the facilities\n",
        "facility = 'C1' #@param [\"Zuffe\", \"Leip\", \"C1\", \"C2\", \"C3\"] {allow-input: false}\n",
        "\n",
        "#@markdown Select by how much to change the capacity at the facility (positive or negative changes allowed)\n",
        "capacity_change = 1 #@param {type:\"number\"}\n",
        "\n",
        "#markdown Create a model like the one in Q1\n",
        "model, factoriesToCenters, centersToRetailers, gross_profit, constr = \\\n",
        "       create_model_like_in_Q1()\n",
        "\n",
        "if facility in factories:\n",
        "    constr[\"factory_cap\"][facility].setAttr('rhs', factoriesDF[\"Capacity\"][facility] + capacity_change)\n",
        "\n",
        "elif facility in centers:\n",
        "    constr[\"center_cap\"][facility].setAttr('rhs', customizationCentersDF[\"Capacity\"][facility] + capacity_change)\n",
        "\n",
        "# #@markdown Solve the new model\n",
        "#@markdown Select whether to run the [Gurobi](https://www.gurobi.com/) optimization algorithms silently (no output details)\n",
        "run_silently = True #@param {type:\"boolean\"}\n",
        "\n",
        "if run_silently:\n",
        "    model.setParam('OutputFlag',0)\n",
        "else:\n",
        "    model.setParam('OutputFlag',1)\n",
        "\n",
        "model.optimize()\n",
        "print('\\nSolved the new optimization problem...\\n')\n",
        "\n",
        "if model.status in [GRB.INFEASIBLE, GRB.INF_OR_UNBD]:\n",
        "    # the model is infeasible\n",
        "    print(\"The model is infeasible.\")\n",
        "\n",
        "elif model.status==GRB.OPTIMAL:\n",
        "    # the model was solved to optimality\n",
        "    print(\"The profit difference compared to Q1: {:,.2f}\".\\\n",
        "          format(model.objVal - gross_profit_Q1))"
      ]
    },
    {
      "cell_type": "code",
      "execution_count": null,
      "metadata": {
        "cellView": "form",
        "id": "LyXK-JMwyjZo"
      },
      "outputs": [],
      "source": [
        "#@title The code below allows you to visualize how the **profit change** depends on the **capacity increase** in a facility\n",
        "\n",
        "#@markdown Select one of the facilities\n",
        "facility = 'C2' #@param [\"Zuffe\", \"Leip\", \"C1\", \"C2\", \"C3\"] {allow-input: false}\n",
        "\n",
        "# set up values for the capacity increase\n",
        "step = 100\n",
        "max_increase = 5000\n",
        "cap_increase = list(np.arange(0,max_increase+step,step))\n",
        "\n",
        "# the objective values and the loss compared to Q1\n",
        "objValues = [0]*len(cap_increase)\n",
        "change_Q1 = [0]*len(cap_increase)\n",
        "\n",
        "# Create a model like the one in Q1\n",
        "AlsetModel, factoriesToCenters, centersToRetailers, gross_profit, constr = \\\n",
        "       create_model_like_in_Q1()\n",
        "\n",
        "AlsetModel.setParam('OutputFlag', 0)   # supress Gurobi's output\n",
        "\n",
        "for i in range(len(cap_increase)):\n",
        "\n",
        "    # change capacity at the facility\n",
        "    if facility in factories:\n",
        "        constr[\"factory_cap\"][facility].setAttr('rhs', factoriesDF[\"Capacity\"][facility] + cap_increase[i])\n",
        "\n",
        "    elif facility in centers:\n",
        "        constr[\"center_cap\"][facility].setAttr('rhs', customizationCentersDF[\"Capacity\"][facility] + cap_increase[i])\n",
        "\n",
        "    # solve the model\n",
        "    AlsetModel.optimize()\n",
        "\n",
        "    #print(\"{:10.2f} : {:10.2f} \".format(cap_increase[i],center_cap_constraints[\"C1\"].pi))\n",
        "\n",
        "    objValues[i] = AlsetModel.objVal\n",
        "    #change_Q1[i] = (objValues[i]/gross_profit_Q1 - 1.0)*100\n",
        "    change_Q1[i] = (objValues[i] - gross_profit_Q1)/1e6\n",
        "\n",
        "#@markdown Visualize the dependency\n",
        "# first set of settings are useful for Powerpoint\n",
        "#fontsize = 20\n",
        "#fig, ax1 = plt.subplots(figsize=(18,8))\n",
        "fontsize = 10\n",
        "fig, ax1 = plt.subplots(figsize=(10,5))\n",
        "\n",
        "# plot the gross profits changes\n",
        "plt.plot(cap_increase, change_Q1, linestyle='solid', linewidth=3, color='blue')\n",
        "\n",
        "plt.xlabel(\"Capacity increase in \" + facility, fontsize=fontsize)\n",
        "plt.ylabel(\"Gross profit change from Q1 (Million EUR)\", fontsize=fontsize)\n",
        "plt.yticks(fontsize=fontsize)\n",
        "\n",
        "mark_every = 5\n",
        "plt.xticks(ticks=cap_increase[0:len(cap_increase):mark_every], rotation=90)\n",
        "plt.xticks(fontsize=fontsize)\n",
        "\n",
        "# calculate the required payments\n",
        "#plt.legend((\"Gross profit change from Q1\",\"Payments for new capacity\"),fontsize=30,loc=\"lower center\")\n",
        "plt.tight_layout()\n",
        "plt.show()"
      ]
    },
    {
      "cell_type": "code",
      "execution_count": null,
      "metadata": {
        "cellView": "form",
        "id": "fWhxVPUig-tA"
      },
      "outputs": [],
      "source": [
        "#@title The code below allows you to visualize how the **gross profit** depends on the **total installed capacity** in a facility\n",
        "\n",
        "#@markdown Select one of the facilities\n",
        "facility = 'Zuffe' #@param [\"Zuffe\", \"Leip\", \"C1\", \"C2\", \"C3\"] {allow-input: false}\n",
        "\n",
        "# set up values for the capacity increase\n",
        "cap_values = list(np.arange(0,10100,1))\n",
        "\n",
        "# the objective values and the loss compared to Q1\n",
        "objValues = [0]*len(cap_values)\n",
        "#change_Q1 = [0]*len(cap_values)\n",
        "shadow_prices = [0]*len(cap_values)\n",
        "\n",
        "# Create a model like the one in Q1\n",
        "model, factoriesToCenters, centersToRetailers, gross_profit, constr = \\\n",
        "       create_model_like_in_Q1()\n",
        "\n",
        "model.setParam('OutputFlag', 0)   # supress Gurobi's output\n",
        "\n",
        "for i in range(len(cap_values)):\n",
        "\n",
        "    # change capacity at the facility\n",
        "    if facility in factories:\n",
        "        con_changing = constr[\"factory_cap\"][facility]\n",
        "\n",
        "    elif facility in centers:\n",
        "        con_changing = constr[\"center_cap\"][facility]\n",
        "\n",
        "    con_changing.setAttr('rhs', cap_values[i])\n",
        "\n",
        "\n",
        "    # solve the model\n",
        "    model.optimize()\n",
        "\n",
        "    #print(\"{:10.2f} : {:10.2f} \".format(cap_increase[i],center_cap_constraints[\"C1\"].pi))\n",
        "\n",
        "    objValues[i] = model.objVal/1e6\n",
        "    #change_Q1[i] = (objValues[i]/gross_profit_Q1 - 1.0)*100\n",
        "    #change_Q1[i] = (objValues[i] - gross_profit_Q1)/1e6\n",
        "\n",
        "    # store the shadow price\n",
        "    shadow_prices[i] = con_changing.Pi\n",
        "\n",
        "#@markdown Visualize the dependency\n",
        "# first set of settings are useful for Powerpoint\n",
        "#fontsize = 20\n",
        "#fig, ax1 = plt.subplots(figsize=(20,10))\n",
        "fontsize = 10\n",
        "fig, ax1 = plt.subplots(figsize=(10,5))\n",
        "\n",
        "# plot the gross profits changes\n",
        "color1 = 'blue'\n",
        "plt.plot(cap_values, objValues, linestyle='solid', linewidth=3, color=color1)\n",
        "\n",
        "plt.xlabel(\"Total capacity in \" + facility, fontsize=fontsize)\n",
        "plt.ylabel(\"Gross profit (Million EUR)\", fontsize=fontsize, color=color1)\n",
        "ax1.yaxis.set_label_coords(0.02,0.5)\n",
        "ax1.tick_params(axis='y', labelcolor=color1)\n",
        "plt.yticks(fontsize=fontsize)\n",
        "\n",
        "mark_every = 200\n",
        "plt.xticks(ticks=cap_values[0:len(cap_values):mark_every], rotation=90)\n",
        "plt.xticks(fontsize=fontsize)\n",
        "\n",
        "show_shadow_prices = True\n",
        "\n",
        "if show_shadow_prices:\n",
        "    ax2 = ax1.twinx()  # instantiate a second axes that shares the same x-axis\n",
        "    color2 = 'magenta'\n",
        "    ax2.set_ylabel('Slope of gross profit function (EUR/unit)', color=color2, fontsize=fontsize)  # we already handled the x-label with ax1\n",
        "    ax2.yaxis.set_label_coords(0.98,0.5)\n",
        "    ax2.plot(cap_values, shadow_prices, color='magenta', linestyle='--', linewidth=3)\n",
        "    ax2.tick_params(axis='y', labelcolor=color2)\n",
        "    plt.yticks(ticks=np.unique(shadow_prices), fontsize=fontsize)\n",
        "    plt.xticks(fontsize=fontsize)\n",
        "\n",
        "plt.tight_layout()\n",
        "plt.show()"
      ]
    },
    {
      "cell_type": "code",
      "execution_count": null,
      "metadata": {
        "id": "I0UbduH_wDR4"
      },
      "outputs": [],
      "source": []
    }
  ],
  "metadata": {
    "colab": {
      "collapsed_sections": [
        "vb4A3Z6sy5J_",
        "8yhR3xIVyJ13",
        "z1Fz9Viqj3Oz",
        "QbmO9_Taj3PH",
        "Q2T_Zf2nj3PI",
        "dMLkUyKMj3PV",
        "z9kO1tqvj3Pc",
        "IjtI8X9dj3Pl",
        "3UvnyEhh5yN_",
        "qu1eJhBgB7aM",
        "4TE_yA_h6WVj",
        "15oDqs2YPbU_",
        "UETm_Y0UXHOu",
        "GFjmgL2USxFZ",
        "qNjGwuecYk6X",
        "ESrQ0be6pb83"
      ],
      "provenance": [],
      "toc_visible": true,
      "include_colab_link": true
    },
    "kernelspec": {
      "display_name": "Python 3 (ipykernel)",
      "language": "python",
      "name": "python3"
    },
    "language_info": {
      "codemirror_mode": {
        "name": "ipython",
        "version": 3
      },
      "file_extension": ".py",
      "mimetype": "text/x-python",
      "name": "python",
      "nbconvert_exporter": "python",
      "pygments_lexer": "ipython3",
      "version": "3.11.4"
    }
  },
  "nbformat": 4,
  "nbformat_minor": 0
}