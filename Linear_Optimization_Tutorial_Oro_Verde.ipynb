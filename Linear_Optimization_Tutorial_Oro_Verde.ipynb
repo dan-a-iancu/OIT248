{
  "cells": [
    {
      "cell_type": "markdown",
      "metadata": {
        "id": "view-in-github",
        "colab_type": "text"
      },
      "source": [
        "<a href=\"https://colab.research.google.com/github/dan-a-iancu/OIT248/blob/main/Linear_Optimization_Tutorial_Oro_Verde.ipynb\" target=\"_parent\"><img src=\"https://colab.research.google.com/assets/colab-badge.svg\" alt=\"Open In Colab\"/></a>"
      ]
    },
    {
      "cell_type": "markdown",
      "source": [
        "# Quick Note on Colab vs. Jupyter\n",
        "Please run the code here to make sure the Colab file works well. You can also expand and read this briefly."
      ],
      "metadata": {
        "id": "H5epUYTOU501"
      }
    },
    {
      "cell_type": "markdown",
      "source": [
        "**The following small segment of code only needs to be run in COLAB. You do not need to worry about running this on your own computer!**"
      ],
      "metadata": {
        "id": "97h2w1EPPTNE"
      }
    },
    {
      "cell_type": "code",
      "source": [
        "# first install Gurobi, our linear optimization solver\n",
        "# you do NOT need to do this on your machines, as you already installed Gurobi\n",
        "!pip install -i https://pypi.gurobi.com gurobipy\n",
        "\n",
        "# we import a library that allows reading a file from the web (a URL)\n",
        "import urllib\n",
        "from urllib import request\n",
        "\n",
        "# import the Oro_Verde data file from a Github account\n",
        "url_Q1 = \"https://raw.githubusercontent.com/dan-a-iancu/airm/master/Oro_Verde/Oro_Verde_data.csv\"\n",
        "local_file_Q1 = \"Oro_Verde_data.csv\"   # name of local file where you want to store the downloaded file\n",
        "aux = urllib.request.urlretrieve(url_Q1, local_file_Q1)    # download from website and save it locally"
      ],
      "metadata": {
        "colab": {
          "base_uri": "https://localhost:8080/"
        },
        "id": "tEussBtrKq7T",
        "outputId": "79485a7b-2046-4c03-d34b-453d3db55277"
      },
      "execution_count": 1,
      "outputs": [
        {
          "output_type": "stream",
          "name": "stdout",
          "text": [
            "Looking in indexes: https://pypi.gurobi.com\n",
            "Requirement already satisfied: gurobipy in /usr/local/lib/python3.10/dist-packages (10.0.3)\n"
          ]
        }
      ]
    },
    {
      "cell_type": "markdown",
      "source": [
        "**If you like COLAB and prefer running our in-class exercises in COLAB rather than Jupyter, here is what you can do:**\n",
        " - you can upload the Jupyter Notebook template that is provided with each case using **File > Upload Notebook** (from the Colab **File** menu)\n",
        " - to upload any data files that we might be using for a specific case, there are a few options:\n",
        "   1. From the left sidebar in Colab, choose **Files** (this is to the left of the Table of contents, and it's the fourth icon, which looks like a folder). There, you will have the option to **Upload to session storage**, which will allow you to upload a single file to the current session. Alternatively, you can also select **Mount Drive**, which will allow you to mount your Google drive (which will give you access to all your files there!)\n",
        "   2. Run one of the snippets of code below, which will essentially complete the steps in (1), depending on what you prefer."
      ],
      "metadata": {
        "id": "LpZKR9eFRLo8"
      }
    },
    {
      "cell_type": "code",
      "source": [
        "### FIRST OPTION: Upload a file to the local session\n",
        "#from google.colab import files\n",
        "#uploaded = files.upload()  # upload a single file from your hard drive\n",
        "\n",
        "### SECOND OPTION: Mount your Google drive\n",
        "#from google.colab import drive\n",
        "#drive.mount('/content/drive')"
      ],
      "metadata": {
        "id": "4hV98VBBSDqS"
      },
      "execution_count": 2,
      "outputs": []
    },
    {
      "cell_type": "markdown",
      "metadata": {
        "id": "3bENG5H4Jua8"
      },
      "source": [
        "<a id=\"intro\"></a>\n",
        "# Expanded Tutorial on Linear Optimization\n",
        "This Jupyter notebook complements the **Handout on Linear Optimization**, available as a PDF on the course Canvas site. If you are not familiar with the handout, please read the first two sections of the PDF and then return here. This notebook has two related goals:\n",
        " 1. To show you how to solve the simpler version of the Oro Verde tree planting problem using Python and Gurobi;\n",
        " 2. To provide several hints for how to construct good models in practice.\n"
      ]
    },
    {
      "cell_type": "markdown",
      "source": [
        "\n",
        "The notebook is structured as a broader tutorial and will be a useful reference for future problems.\n",
        "\n",
        "A small note on the color coding used. We will tend to use <font color=red>**red font for things that are critical**</font>, i.e., things you __have to understand__ to build a model. We will use <font color=blue>**blue font for things that relate to \"good practice,\"**</font> i.e., that can __make your life easier when building (real-world) models__.\n",
        "___\n",
        "\n",
        "Gurobi has its own Python module with several functions that allow you to quickly build an optimization model. Here is an outline of the main steps and associated important Gurobi functions (to navigate to a section, use the **Table of Contents** on the left!)\n",
        " - [#1](#params_data) : import data using __pandas__. [`pandas.read_excel(...), pandas.read_csv(...)`]\n",
        " - [#2](#create_model) : create an empty __Model__ in Gurobi. [`Model(...)`]\n",
        " - [#3](#decisions) : create and add decision variables in the model. [`Model.addVar(...), Model.addVars(...)`]\n",
        " - [#4](#objective) : formulate and add an objective in the model. [`quicksum(), Model.setObjective(...)`]\n",
        " - [#5](#constraints) : formulate and add constraints in the model. [`Model.addConstr(...)`]\n",
        " - [#6](#inspecting_model) : inspect the Gurobi model; [update it](#model_update) and [write it](#write_model) to a file. [ ``Model.update(), Model.write(...)`` ]\n",
        " - [#7](#solve) : optimize the model. [`Model.optimize()`]\n",
        " - [#8](#printing) : extract the results of the optimization. [`DecisionVariable.X , Model.objVal`]\n",
        " - [#9](#evaluating_constraints) : extract information about constraints [`Model.getConstrs(), Model.getRow(...), Expression.getValue(), Constraint.RHS, Constraint.Sense, Constraint.Slack`]\n",
        " - [#10](#Gurobi_messages) : output messages in Gurobi\n",
        "   - a model [solved to optimality](#solved_optimality) [`Model.Status`, `GRB.OPTIMAL`]\n",
        "   - an [infeasibile](#infeasible) model [`Model.computeIIS(), Constraint.IISConstr`, `GRB.INFEASIBLE`]\n",
        "  - an [unbounded](#unbounded) model [`GRB.UNBOUNDED, GRB.INF_OR_UNBD`]\n",
        " - [#11](#change_model) : sensitivity analysis and shadow prices [`Model.getConstrByName(), Constraint.Pi, Constraint.SARHSLow, Constraint.SARHSUp`]\n",
        "_______\n",
        "\n",
        "<a id=\"basic_model\"></a>\n",
        "The notebook assumes that you are familiar with the Oro Verde case and have understood the optimization model, i.e., the choice of **decision variables** and the expressions for the **objective** and **constraints**. For convenience, here is a formulation of the model taken from the handout :\n",
        "\n",
        "Find values for the decision variables __${\\color{red} M}, {\\color{red} E}, {\\color{red} S}$__ to: <br>\n",
        "\n",
        "\\begin{align*}\n",
        "\\text{minimize} \\qquad & 5.40 \\cdot {\\color{red} M} + 3.20 \\cdot {\\color{red} E} + 4.50 \\cdot {\\color{red} S} &&\\text{(cost objective)} \\notag \\\\\n",
        "\\text{subject to} \\qquad\n",
        "& 130 \\cdot {\\color{red} M} + 3,600 \\cdot {\\color{red} E} + 400 \\cdot {\\color{red} S} \\leq 150,000 && \\text{(land constraint)} ~ (1)\\\\\n",
        "& 76 \\cdot {\\color{red} M} + 48 \\cdot {\\color{red} E} + 34 \\cdot {\\color{red} S} \\leq 50,000 && \\text{(water constraint)} ~ (2)\\\\\n",
        "& {\\color{red} M} \\leq 1,000 && \\text{(Maple seedling constraint)} ~ (3)\\\\\n",
        "& {\\color{red} E} \\leq 500 &&  \\text{(Elm seedling constraint)} ~ (4)\\\\\n",
        "& {\\color{red} S} \\leq 1,500 && \\text{(Spruce seedling constraint)} ~ (5)\\\\\n",
        "& {\\color{red} E} \\geq 15 && \\text{(enough Elms constraint)} ~ (6)\\\\\n",
        "& 0.70 \\cdot 4.3 \\cdot {\\color{red} M} + 0.60 \\cdot 3.7 \\cdot {\\color{red} E} + 0.80 \\cdot 2.80 \\cdot {\\color{red} S}  \\geq 1,800 && \\text{(sequestration constraint)} ~ (7)\\\\\n",
        "& {\\color{red} M} \\geq 0\\text{, } {\\color{red} E} \\geq 0 \\text{, and } {\\color{red} S} \\geq 0. && \\text{(non-negativity constraints)} ~ (8)\n",
        "\\end{align*}\n",
        "_______"
      ],
      "metadata": {
        "id": "5n6nBrn0ORSk"
      }
    },
    {
      "cell_type": "markdown",
      "metadata": {
        "id": "Fpn6nkIVJubB"
      },
      "source": [
        "# Importing modules\n",
        "First step in any file that builds an optimization model using Gurobi is to include the Gurobi package, through the command line:"
      ]
    },
    {
      "cell_type": "code",
      "execution_count": 3,
      "metadata": {
        "id": "p1GOJ__wJubC"
      },
      "outputs": [],
      "source": [
        "# import everything from gurobi\n",
        "from gurobipy import *"
      ]
    },
    {
      "cell_type": "markdown",
      "metadata": {
        "id": "rFl-QvakJubE"
      },
      "source": [
        "You can also import any other modules that you might need. We will use the _pandas_ module to read in data."
      ]
    },
    {
      "cell_type": "code",
      "execution_count": 4,
      "metadata": {
        "id": "9QKM5zqeJubE"
      },
      "outputs": [],
      "source": [
        "import pandas as pd"
      ]
    },
    {
      "cell_type": "markdown",
      "metadata": {
        "id": "4XNjhcr7JubF"
      },
      "source": [
        "________\n",
        "<a id=\"params_data\"></a>\n",
        "# #1. Parameters and data"
      ]
    },
    {
      "cell_type": "markdown",
      "metadata": {
        "id": "Cchu0hxYJubF"
      },
      "source": [
        "All our models require some data to define the relevant problem parameters. In simple cases, you can directly define some of the parameters by assigning suitable python variable names, as below:"
      ]
    },
    {
      "cell_type": "code",
      "execution_count": 5,
      "metadata": {
        "id": "SCj1If-2JubF"
      },
      "outputs": [],
      "source": [
        "land_avail = 150000              # available land area (in square feet)\n",
        "water_avail = 50000              # available water (in gallons)\n",
        "horizon = 10              # start time for commitment (in years)\n",
        "annual_seq_commit = 1800              # annual sequestration commitment\n",
        "min_elms = 15   # minimum requirement on elm trees"
      ]
    },
    {
      "cell_type": "markdown",
      "metadata": {
        "id": "dMHVA8MaJubF"
      },
      "source": [
        "For larger and more structured data, we will use the `pandas` module to create suitable data frames by reading in csv or xlsx files, as we already learned in class. For instance, we use `read.excel(...)` to read the Excel file and create a data table **that has as index the name of the tree species**."
      ]
    },
    {
      "cell_type": "code",
      "execution_count": 6,
      "metadata": {
        "scrolled": true,
        "colab": {
          "base_uri": "https://localhost:8080/",
          "height": 0
        },
        "id": "vloGN2EWJubG",
        "outputId": "07734065-e41b-420a-9c8b-c38afa1b66b0"
      },
      "outputs": [
        {
          "output_type": "display_data",
          "data": {
            "text/plain": [
              "          SequestrationRate  WaterRequirement   Width  SurvivalRate  \\\n",
              "TreeType                                                              \n",
              "Maple                   4.3              76.0   130.0           0.7   \n",
              "Elm                     3.7              48.0  3600.0           0.6   \n",
              "Spruce                  2.8              34.0   400.0           0.8   \n",
              "\n",
              "          SeedlingCost  SeedlingsAvailable  \n",
              "TreeType                                    \n",
              "Maple              5.4              1000.0  \n",
              "Elm                3.2               500.0  \n",
              "Spruce             4.5              1500.0  "
            ],
            "text/html": [
              "\n",
              "  <div id=\"df-aca68e9b-f702-4dc7-a267-16ec2d4d8de4\" class=\"colab-df-container\">\n",
              "    <div>\n",
              "<style scoped>\n",
              "    .dataframe tbody tr th:only-of-type {\n",
              "        vertical-align: middle;\n",
              "    }\n",
              "\n",
              "    .dataframe tbody tr th {\n",
              "        vertical-align: top;\n",
              "    }\n",
              "\n",
              "    .dataframe thead th {\n",
              "        text-align: right;\n",
              "    }\n",
              "</style>\n",
              "<table border=\"1\" class=\"dataframe\">\n",
              "  <thead>\n",
              "    <tr style=\"text-align: right;\">\n",
              "      <th></th>\n",
              "      <th>SequestrationRate</th>\n",
              "      <th>WaterRequirement</th>\n",
              "      <th>Width</th>\n",
              "      <th>SurvivalRate</th>\n",
              "      <th>SeedlingCost</th>\n",
              "      <th>SeedlingsAvailable</th>\n",
              "    </tr>\n",
              "    <tr>\n",
              "      <th>TreeType</th>\n",
              "      <th></th>\n",
              "      <th></th>\n",
              "      <th></th>\n",
              "      <th></th>\n",
              "      <th></th>\n",
              "      <th></th>\n",
              "    </tr>\n",
              "  </thead>\n",
              "  <tbody>\n",
              "    <tr>\n",
              "      <th>Maple</th>\n",
              "      <td>4.3</td>\n",
              "      <td>76.0</td>\n",
              "      <td>130.0</td>\n",
              "      <td>0.7</td>\n",
              "      <td>5.4</td>\n",
              "      <td>1000.0</td>\n",
              "    </tr>\n",
              "    <tr>\n",
              "      <th>Elm</th>\n",
              "      <td>3.7</td>\n",
              "      <td>48.0</td>\n",
              "      <td>3600.0</td>\n",
              "      <td>0.6</td>\n",
              "      <td>3.2</td>\n",
              "      <td>500.0</td>\n",
              "    </tr>\n",
              "    <tr>\n",
              "      <th>Spruce</th>\n",
              "      <td>2.8</td>\n",
              "      <td>34.0</td>\n",
              "      <td>400.0</td>\n",
              "      <td>0.8</td>\n",
              "      <td>4.5</td>\n",
              "      <td>1500.0</td>\n",
              "    </tr>\n",
              "  </tbody>\n",
              "</table>\n",
              "</div>\n",
              "    <div class=\"colab-df-buttons\">\n",
              "\n",
              "  <div class=\"colab-df-container\">\n",
              "    <button class=\"colab-df-convert\" onclick=\"convertToInteractive('df-aca68e9b-f702-4dc7-a267-16ec2d4d8de4')\"\n",
              "            title=\"Convert this dataframe to an interactive table.\"\n",
              "            style=\"display:none;\">\n",
              "\n",
              "  <svg xmlns=\"http://www.w3.org/2000/svg\" height=\"24px\" viewBox=\"0 -960 960 960\">\n",
              "    <path d=\"M120-120v-720h720v720H120Zm60-500h600v-160H180v160Zm220 220h160v-160H400v160Zm0 220h160v-160H400v160ZM180-400h160v-160H180v160Zm440 0h160v-160H620v160ZM180-180h160v-160H180v160Zm440 0h160v-160H620v160Z\"/>\n",
              "  </svg>\n",
              "    </button>\n",
              "\n",
              "  <style>\n",
              "    .colab-df-container {\n",
              "      display:flex;\n",
              "      gap: 12px;\n",
              "    }\n",
              "\n",
              "    .colab-df-convert {\n",
              "      background-color: #E8F0FE;\n",
              "      border: none;\n",
              "      border-radius: 50%;\n",
              "      cursor: pointer;\n",
              "      display: none;\n",
              "      fill: #1967D2;\n",
              "      height: 32px;\n",
              "      padding: 0 0 0 0;\n",
              "      width: 32px;\n",
              "    }\n",
              "\n",
              "    .colab-df-convert:hover {\n",
              "      background-color: #E2EBFA;\n",
              "      box-shadow: 0px 1px 2px rgba(60, 64, 67, 0.3), 0px 1px 3px 1px rgba(60, 64, 67, 0.15);\n",
              "      fill: #174EA6;\n",
              "    }\n",
              "\n",
              "    .colab-df-buttons div {\n",
              "      margin-bottom: 4px;\n",
              "    }\n",
              "\n",
              "    [theme=dark] .colab-df-convert {\n",
              "      background-color: #3B4455;\n",
              "      fill: #D2E3FC;\n",
              "    }\n",
              "\n",
              "    [theme=dark] .colab-df-convert:hover {\n",
              "      background-color: #434B5C;\n",
              "      box-shadow: 0px 1px 3px 1px rgba(0, 0, 0, 0.15);\n",
              "      filter: drop-shadow(0px 1px 2px rgba(0, 0, 0, 0.3));\n",
              "      fill: #FFFFFF;\n",
              "    }\n",
              "  </style>\n",
              "\n",
              "    <script>\n",
              "      const buttonEl =\n",
              "        document.querySelector('#df-aca68e9b-f702-4dc7-a267-16ec2d4d8de4 button.colab-df-convert');\n",
              "      buttonEl.style.display =\n",
              "        google.colab.kernel.accessAllowed ? 'block' : 'none';\n",
              "\n",
              "      async function convertToInteractive(key) {\n",
              "        const element = document.querySelector('#df-aca68e9b-f702-4dc7-a267-16ec2d4d8de4');\n",
              "        const dataTable =\n",
              "          await google.colab.kernel.invokeFunction('convertToInteractive',\n",
              "                                                    [key], {});\n",
              "        if (!dataTable) return;\n",
              "\n",
              "        const docLinkHtml = 'Like what you see? Visit the ' +\n",
              "          '<a target=\"_blank\" href=https://colab.research.google.com/notebooks/data_table.ipynb>data table notebook</a>'\n",
              "          + ' to learn more about interactive tables.';\n",
              "        element.innerHTML = '';\n",
              "        dataTable['output_type'] = 'display_data';\n",
              "        await google.colab.output.renderOutput(dataTable, element);\n",
              "        const docLink = document.createElement('div');\n",
              "        docLink.innerHTML = docLinkHtml;\n",
              "        element.appendChild(docLink);\n",
              "      }\n",
              "    </script>\n",
              "  </div>\n",
              "\n",
              "\n",
              "<div id=\"df-64e74d3f-6b8b-4d68-9be9-b49711a54fe7\">\n",
              "  <button class=\"colab-df-quickchart\" onclick=\"quickchart('df-64e74d3f-6b8b-4d68-9be9-b49711a54fe7')\"\n",
              "            title=\"Suggest charts.\"\n",
              "            style=\"display:none;\">\n",
              "\n",
              "<svg xmlns=\"http://www.w3.org/2000/svg\" height=\"24px\"viewBox=\"0 0 24 24\"\n",
              "     width=\"24px\">\n",
              "    <g>\n",
              "        <path d=\"M19 3H5c-1.1 0-2 .9-2 2v14c0 1.1.9 2 2 2h14c1.1 0 2-.9 2-2V5c0-1.1-.9-2-2-2zM9 17H7v-7h2v7zm4 0h-2V7h2v10zm4 0h-2v-4h2v4z\"/>\n",
              "    </g>\n",
              "</svg>\n",
              "  </button>\n",
              "\n",
              "<style>\n",
              "  .colab-df-quickchart {\n",
              "      --bg-color: #E8F0FE;\n",
              "      --fill-color: #1967D2;\n",
              "      --hover-bg-color: #E2EBFA;\n",
              "      --hover-fill-color: #174EA6;\n",
              "      --disabled-fill-color: #AAA;\n",
              "      --disabled-bg-color: #DDD;\n",
              "  }\n",
              "\n",
              "  [theme=dark] .colab-df-quickchart {\n",
              "      --bg-color: #3B4455;\n",
              "      --fill-color: #D2E3FC;\n",
              "      --hover-bg-color: #434B5C;\n",
              "      --hover-fill-color: #FFFFFF;\n",
              "      --disabled-bg-color: #3B4455;\n",
              "      --disabled-fill-color: #666;\n",
              "  }\n",
              "\n",
              "  .colab-df-quickchart {\n",
              "    background-color: var(--bg-color);\n",
              "    border: none;\n",
              "    border-radius: 50%;\n",
              "    cursor: pointer;\n",
              "    display: none;\n",
              "    fill: var(--fill-color);\n",
              "    height: 32px;\n",
              "    padding: 0;\n",
              "    width: 32px;\n",
              "  }\n",
              "\n",
              "  .colab-df-quickchart:hover {\n",
              "    background-color: var(--hover-bg-color);\n",
              "    box-shadow: 0 1px 2px rgba(60, 64, 67, 0.3), 0 1px 3px 1px rgba(60, 64, 67, 0.15);\n",
              "    fill: var(--button-hover-fill-color);\n",
              "  }\n",
              "\n",
              "  .colab-df-quickchart-complete:disabled,\n",
              "  .colab-df-quickchart-complete:disabled:hover {\n",
              "    background-color: var(--disabled-bg-color);\n",
              "    fill: var(--disabled-fill-color);\n",
              "    box-shadow: none;\n",
              "  }\n",
              "\n",
              "  .colab-df-spinner {\n",
              "    border: 2px solid var(--fill-color);\n",
              "    border-color: transparent;\n",
              "    border-bottom-color: var(--fill-color);\n",
              "    animation:\n",
              "      spin 1s steps(1) infinite;\n",
              "  }\n",
              "\n",
              "  @keyframes spin {\n",
              "    0% {\n",
              "      border-color: transparent;\n",
              "      border-bottom-color: var(--fill-color);\n",
              "      border-left-color: var(--fill-color);\n",
              "    }\n",
              "    20% {\n",
              "      border-color: transparent;\n",
              "      border-left-color: var(--fill-color);\n",
              "      border-top-color: var(--fill-color);\n",
              "    }\n",
              "    30% {\n",
              "      border-color: transparent;\n",
              "      border-left-color: var(--fill-color);\n",
              "      border-top-color: var(--fill-color);\n",
              "      border-right-color: var(--fill-color);\n",
              "    }\n",
              "    40% {\n",
              "      border-color: transparent;\n",
              "      border-right-color: var(--fill-color);\n",
              "      border-top-color: var(--fill-color);\n",
              "    }\n",
              "    60% {\n",
              "      border-color: transparent;\n",
              "      border-right-color: var(--fill-color);\n",
              "    }\n",
              "    80% {\n",
              "      border-color: transparent;\n",
              "      border-right-color: var(--fill-color);\n",
              "      border-bottom-color: var(--fill-color);\n",
              "    }\n",
              "    90% {\n",
              "      border-color: transparent;\n",
              "      border-bottom-color: var(--fill-color);\n",
              "    }\n",
              "  }\n",
              "</style>\n",
              "\n",
              "  <script>\n",
              "    async function quickchart(key) {\n",
              "      const quickchartButtonEl =\n",
              "        document.querySelector('#' + key + ' button');\n",
              "      quickchartButtonEl.disabled = true;  // To prevent multiple clicks.\n",
              "      quickchartButtonEl.classList.add('colab-df-spinner');\n",
              "      try {\n",
              "        const charts = await google.colab.kernel.invokeFunction(\n",
              "            'suggestCharts', [key], {});\n",
              "      } catch (error) {\n",
              "        console.error('Error during call to suggestCharts:', error);\n",
              "      }\n",
              "      quickchartButtonEl.classList.remove('colab-df-spinner');\n",
              "      quickchartButtonEl.classList.add('colab-df-quickchart-complete');\n",
              "    }\n",
              "    (() => {\n",
              "      let quickchartButtonEl =\n",
              "        document.querySelector('#df-64e74d3f-6b8b-4d68-9be9-b49711a54fe7 button');\n",
              "      quickchartButtonEl.style.display =\n",
              "        google.colab.kernel.accessAllowed ? 'block' : 'none';\n",
              "    })();\n",
              "  </script>\n",
              "</div>\n",
              "    </div>\n",
              "  </div>\n"
            ]
          },
          "metadata": {}
        }
      ],
      "source": [
        "# create a data frame called \"mydata\" by reading the sheet called \"Data\" from an Excel file\n",
        "mydata = pd.read_csv(\"Oro_Verde_data.csv\", index_col = 0)\n",
        "\n",
        "# print out the data frame to have a quick look\n",
        "display(mydata)"
      ]
    },
    {
      "cell_type": "markdown",
      "metadata": {
        "id": "qzW8QMT2JubH"
      },
      "source": [
        "<font color=red>Choosing to have the index correspond to the tree types is **not coincidental**</font>. **In our optimization model, we have one decision for each tree type, so one decision for every row of the Data Frame we just created**. Having the tree types as the index of the Data Frame will make it extremely convenient to quickly index/search the data based on the tree type, and will also provide a nice name for each decision in the model. In fact, let's create a list with the labels for the rows, i.e., the names of the trees!"
      ]
    },
    {
      "cell_type": "code",
      "execution_count": 7,
      "metadata": {
        "colab": {
          "base_uri": "https://localhost:8080/"
        },
        "id": "aRfUUfkcJubI",
        "outputId": "5959d0c0-50ec-4e84-f980-05c5d9e66e90"
      },
      "outputs": [
        {
          "output_type": "stream",
          "name": "stdout",
          "text": [
            "['Maple', 'Elm', 'Spruce']\n"
          ]
        }
      ],
      "source": [
        "tree_types = list(mydata.index)\n",
        "print(tree_types)"
      ]
    },
    {
      "cell_type": "markdown",
      "metadata": {
        "id": "tKGZ9-eHJubI"
      },
      "source": [
        "<font color=blue>**GOOD PRACTICE.** In virtually every linear optimization model, there is a natural relationship between **the data** and **the decisions in your model**. Recall from the PDF tutorial that the objective and all the left- and right-hand sides of constraints in a linear optimization model must be of the form $\\sum_{i} C_i \\cdot x_i$, where $C_i$ is a coefficient that only depends on data and $x_i$ is a decision. Therefore, **the way the coefficients $C_i$ (or the data needed to obtain them) is stored in the Data Frames can give hints** about (1) a good choice of decision variables in the model and (2) a good way to encode the decisions in Python. For instance, even though the choice of decisions was simple in the Oro Verde case, the data gives you hints for (1): note how to express the cost objective, the coefficients $C_i$ (for seedling cost) are stored as a column of the Data Frame, and similarly, the coefficients needed to express the water or land requirement are stored as the columns **WaterRequirement** and **Width**, respectively. So this suggests that you probably want one decision for each row! As for (2), you will typically encounter one of two cases:</font>\n",
        " - <font color=blue> **each row of a Data Frame corresponds to a decision in your problem.** Like here, with Oro Verde. In that case, you should try to see if there is a specific column of data that stores a unique name that you could use to identify the decisions. Almost always, that will be the case and then **you probably want that column of data to become the index (i.e., row labels) for your Data Frame**, which you can do by specifying a suitable `index_col=...` when reading the data into the Data Frame. That is precisely why we used `index_col=0` in the call to `read_excel` above! </font>\n",
        " - <font color=blue> **some columns in a DataFrame correspond to some of your decisions.** In that case, you will probably want to create a list with the names of those columns, because they can help identify the corresponding decisions.</font> <br>\n"
      ]
    },
    {
      "cell_type": "markdown",
      "metadata": {
        "id": "EIqcjJmhJubJ"
      },
      "source": [
        "______\n",
        "<a id=\"create_model\"></a>\n",
        "# #2. Create a Gurobi model"
      ]
    },
    {
      "cell_type": "markdown",
      "metadata": {
        "id": "nI58B05QJubK"
      },
      "source": [
        "The first step in building our optimization model in Gurobi is to create a Gurobi object that will literally serve as a \"placeholder\" for all the model ingredients (decision variables, objective, constraints). <font color=red>__To create a new model, use the function ``Model(...)`` found in the Gurobi module,__</font> with the syntax:\n",
        "> `m = Model(model_name)`\n",
        "\n",
        "`m` is the Python variable corresponding to the model object that we will need to use henceforth. `modelname` is simply a name that you can give to your model to make more \"human interpretable.\"\n"
      ]
    },
    {
      "cell_type": "code",
      "execution_count": 8,
      "metadata": {
        "scrolled": true,
        "id": "JkngumdpJubK",
        "colab": {
          "base_uri": "https://localhost:8080/"
        },
        "outputId": "0bff91ed-40fe-4423-a74d-cb28a8882d7d"
      },
      "outputs": [
        {
          "output_type": "stream",
          "name": "stdout",
          "text": [
            "Restricted license - for non-production use only - expires 2024-10-28\n"
          ]
        }
      ],
      "source": [
        "mymodel = Model(\"Simple Tree Planting Model\")"
      ]
    },
    {
      "cell_type": "markdown",
      "metadata": {
        "id": "wrUpUSB7JubK"
      },
      "source": [
        "<font color=blue> __GOOD PRACTICE.__ As we start adding elements into our model, it is a good idea to occasionally inspect it to make sure that everything is OK. This is good __for debugging purposes__, as it allows checking step-by-step whether the changes we intend to make are actually correctly reflected in the Gurobi model. We will show you how to display and check the model ingredients after constructing the entire model, in [Section 6](#inspecting_model). But once you understand those ideas, it might be good to return here and start using those techniques throughout the entire model-building process, rather than waiting until the very end.</font> <br>"
      ]
    },
    {
      "cell_type": "markdown",
      "metadata": {
        "id": "R6B8BfO8JubL"
      },
      "source": [
        "_____\n",
        "<a id=\"decisions\"></a>\n",
        "# #3. Create and add decision variables\n",
        "Having constructed an empty Gurobi model, next step is to define and add the decision variables. <br>"
      ]
    },
    {
      "cell_type": "markdown",
      "metadata": {
        "id": "6ZYCHjhDJubL"
      },
      "source": [
        "## Adding One Variable At a Time\n",
        "The **simplest** possible way, which we will **not** use very frequently, is to add decision variables one at a time. <font color=red>**To add a single decision variable in a Gurobi model, use the [`addVar`(...)](https://www.gurobi.com/documentation/current/refman/py_model_addvar.html) method of the model**</font>, with syntax:\n",
        "\n",
        "> `decision_var = Model.addVar ( lb=0.0, ub=float('inf'), obj=0.0, vtype=GRB.CONTINUOUS, name=\"\" )`\n",
        "\n",
        "Here, `Model` is the Gurobi model object. The function does two things:\n",
        " 1. It returns a Python object (`decision_var`) that corresponds to the newly created decision variable;\n",
        " 2. It formally adds this decision variable in our Gurobi model.\n",
        "\n",
        "All the arguments for the function are optional and have the following meaning:\n",
        " - __lb__ : a lower bound on the value of the decision; the default value is 0, so <font color=red>**by omitting a lower bound, Gurobi will automatically add a lower bound of 0, which means it will assume the decision is non-negative**</font>. Most of our models will involve non-negative variables, but if you ever want to make sure that there is no lower bound, use `lb=-float('inf')`\n",
        " - __ub__ : an upper bound on the value of the decision; the default value is `float('inf')`, which means $+\\infty$ <br>\n",
        " - __obj__ : the objective coefficient for the decision variable, i.e., the number that multiplies this decision in the objective\n",
        " - __vtype__ : the types of values that the decision can take; we will use __GRB.CONTINUOUS__ for real numbers (i.e., floats), __GRB.INTEGER__ for integers, and __GRB.BINARY__ for decisions that can only take values 0 and 1\n",
        " - __name__ : an internal Gurobi name. This it really useful when you try to write the model to a file and visualize/interpret it.\n",
        "\n",
        "<font color=red>**Specifying lower or upper bounds when defining decision variables is equivalent to adding constraints on the allowable values of the decisions.**</font><br> For instance, `` X = mymodel.addVar( lb=5.0, ub=10.0)`` would create a new decision variable $X$ constrained to satisfy:  $5.0 \\leq X \\leq 10.0$."
      ]
    },
    {
      "cell_type": "markdown",
      "metadata": {
        "id": "gzPQixcQJubM"
      },
      "source": [
        "### Applying this in Oro-Verde\n",
        "In Oro Verde, we have one decision for each tree type (\"Maple\", \"Elm\", \"Spruce\"), that is, one decision for each element of the list `tree_types`. We can define all the decisions with a `for` loop and we will need to store them in some kind of Python structure for future reference. You could use a list for this, but instead we will use a Python dictionary because this is closer to how Gurobi will store things when we define all the decisions at once, so it's useful to start doing it that way!"
      ]
    },
    {
      "cell_type": "code",
      "execution_count": 9,
      "metadata": {
        "scrolled": false,
        "colab": {
          "base_uri": "https://localhost:8080/"
        },
        "id": "zv2a52SQJubM",
        "outputId": "5cdde567-e6d5-4fb8-f864-376cc807862e"
      },
      "outputs": [
        {
          "output_type": "stream",
          "name": "stdout",
          "text": [
            "{'Maple': <gurobi.Var *Awaiting Model Update*>, 'Elm': <gurobi.Var *Awaiting Model Update*>, 'Spruce': <gurobi.Var *Awaiting Model Update*>}\n"
          ]
        }
      ],
      "source": [
        "# we will store the decisions in a dictionary called \"trees_to_plant\"\n",
        "trees_to_plant = {}\n",
        "\n",
        "# define the decisions with a for loop: one for each tree type\n",
        "for t in tree_types:\n",
        "    trees_to_plant[t] = mymodel.addVar(lb = 0, name = t)\n",
        "\n",
        "print(trees_to_plant)"
      ]
    },
    {
      "cell_type": "markdown",
      "metadata": {
        "id": "zY3GyZKXJubM"
      },
      "source": [
        "__SOME OBSERVATIONS.__\n",
        "\n",
        " 1. When printing, note that the dictionary has a key corresponding to each tree type and a value saying `<gurobi.Var *Awaiting Model Update*>`. That is because Gurobi does not immediately update your model and it actually awaits for an explicit command to update (see immediately below, in `In[8]`).\n",
        "\n",
        " 2. Specifying a lower bound of 0 (`lb = 0`) for each decision means that we effectively added all the non-negativity constraints from [our model](#basic_model), i.e., constraints (8). Since no upper bound was included, Gurobi will default to `ub` $=+\\infty$.<br>\n",
        "\n",
        " 3. We did not include an objective coefficient. Instead, we will calculate and add the objective in the next step, which is what you typically need to do in complex models, where it's hard to know the objective coefficients apriori. (In the simple Oro Verde model, we could have specified the objective coefficients directly as `mydata.loc[t,\"SeedlingCost\"]`.)\n",
        "\n",
        " 4. Our choice of Gurobi names was __\"Maple,\" \"Elm\", \"Spruce\"__ rather than **M, E, S** as in the [model formulation](#basic_model). (If you really want to have the names **M,E,S**, you can change the syntax to: `name = t[0]`.)"
      ]
    },
    {
      "cell_type": "markdown",
      "metadata": {
        "id": "lyS8VNw0JubN"
      },
      "source": [
        "Gurobi automatically updates your model when it solves it, but <font color=red>to force Gurobi to update the model while you construct it (so that you can inspect it), you can use the `update` method</font>, as below."
      ]
    },
    {
      "cell_type": "code",
      "execution_count": 10,
      "metadata": {
        "colab": {
          "base_uri": "https://localhost:8080/"
        },
        "id": "FkPhzEKjJubN",
        "outputId": "d4a2c949-21b9-48b0-8527-557bfb87988e"
      },
      "outputs": [
        {
          "output_type": "stream",
          "name": "stdout",
          "text": [
            "<gurobi.Model Continuous instance Simple Tree Planting Model: 0 constrs, 3 vars, No parameter changes>\n"
          ]
        }
      ],
      "source": [
        "# force Gurobi to update the model\n",
        "mymodel.update()\n",
        "\n",
        "# print the model\n",
        "print(mymodel)"
      ]
    },
    {
      "cell_type": "markdown",
      "metadata": {
        "id": "kSkAhYkFJubN"
      },
      "source": [
        "Note that this does not actually give a lot of useful information: it just says that there are 3 variables. As we add elements, it will become more useful.\n",
        "\n",
        "For now, because we will actually add the decision variables again with the second method below, we remove them. (If we did not remove them, we would end up having duplicate variables in Gurobi - this is not a tragedy, and the model should still run correctly, but it's cleanest to just remove them before adding again.) **To remove a variable, you can use the `remove` method**, as below."
      ]
    },
    {
      "cell_type": "code",
      "execution_count": 11,
      "metadata": {
        "colab": {
          "base_uri": "https://localhost:8080/"
        },
        "id": "bfk3TsaBJubO",
        "outputId": "fce7ae65-a136-4c99-ab09-5c10f0df44d6"
      },
      "outputs": [
        {
          "output_type": "stream",
          "name": "stdout",
          "text": [
            "<gurobi.Model Continuous instance Simple Tree Planting Model: 0 constrs, 0 vars, No parameter changes>\n"
          ]
        }
      ],
      "source": [
        "# loop through all the tree types\n",
        "for t in tree_types:\n",
        "    mymodel.remove(trees_to_plant[t])  # remove each decision variable\n",
        "\n",
        "# force Gurobi to update the model\n",
        "mymodel.update()\n",
        "\n",
        "# print the model\n",
        "print(mymodel)"
      ]
    },
    {
      "cell_type": "markdown",
      "metadata": {
        "id": "NLLBKrI-JubO"
      },
      "source": [
        "## Adding All Variables In One Shot\n",
        "Because our models almost always involve many decisions, the **most efficient** way is to add several decision variables in one shot. The most general case is when we have **one or more** Python lists and we want decisions corresponding to every combination (i.e., cross product) of elements from those lists.\n",
        "\n",
        "<font color=red>**If we have lists stored in the Python variables `list_1`, `list_2`, ..., `list_n`, to add a decision variable for every cross product from these lists, use the [`addVars`(...)](https://www.gurobi.com/documentation/current/refman/py_model_addvars.html) method of the model**</font>, with syntax:\n",
        "\n",
        "> `dictionary_of_decisions = Model.addVars( list_1, list_2, ..., list_n, lb=0.0, ub=float('inf'), obj=0.0, vtype=GRB.CONTINUOUS, name=\"\" )`\n",
        "\n",
        "This adds all the decision variables in the Gurobi model `Model` and returns a **dictionary** `dictionary_of_decisions` that contains all the newly created decision variables. This dictionary has **keys** corresponding to every tuple of the form `(v1,v2,...,vn)` where `v1` is any element from `list_1`, `v2` is any element from `list_2`, etc. You can access any decision using the syntax <br>\n",
        "  > `dictionary_of_decisions[(v1,v2,...,vn)]`\n",
        "  \n",
        "The other arguments for `addVars` have the same meaning as for `addVar`. However, these could take several forms here:\n",
        " - If you provide a **scalar** value (or use the default) for `lb`, `ub` or `obj`, then that will apply for every variable. For example, lb=1.0 will give every created decision variable a lower bound of 1.0. Using a scalar for `name` is a bit different: this will be used as a prefix and the rest of the name will be derived in the form \"[v1,v2,...,vn]\" where `v1` is any element from `list_1`, `v2` is any element from `list_2`, etc.\n",
        " - If you provide a Python **dictionary** as the argument, that dictionary should have exactly the same keys as `dictionary_of_decisions` (i.e., every tuple of the form `(v1,v2,...,vn)` where `v1` is any element from `list_1`, `v2` is any element from `list_2`, etc.) and values corresponding to the desired argument, i.e., lower bounds, upper bounds, objective coefficients, or names."
      ]
    },
    {
      "cell_type": "markdown",
      "metadata": {
        "id": "Wz5PK62MJubP"
      },
      "source": [
        "___\n",
        "It might be best to consider a simple example here. Imagine we have a list of names:\n",
        "> `list_1 = [\"John\", \"Mary\", \"Charles\"]`\n",
        "\n",
        "and we also have a list of different companies whose stock could be bought:\n",
        "> `list_2 = [\"Apple\", \"Microsoft\", \"Google\", \"Tesla\", \"Pepsi\"]`\n",
        "\n",
        "and we want decisions for every pair of the form (name, company) corresponding to how many stocks the respective name holds for the respective company. Let's create a \"mock\" Gurobi model so that we don't inadvertently change our Oro Verde model, add these decisions, and print them."
      ]
    },
    {
      "cell_type": "code",
      "execution_count": 12,
      "metadata": {
        "scrolled": true,
        "colab": {
          "base_uri": "https://localhost:8080/"
        },
        "id": "7_OXtG9uJubP",
        "outputId": "7ef9943b-9030-4e77-89f7-0617c90ff2d5"
      },
      "outputs": [
        {
          "output_type": "stream",
          "name": "stdout",
          "text": [
            "{('John', 'Apple'): <gurobi.Var *Awaiting Model Update*>, ('John', 'Microsoft'): <gurobi.Var *Awaiting Model Update*>, ('John', 'Google'): <gurobi.Var *Awaiting Model Update*>, ('John', 'Tesla'): <gurobi.Var *Awaiting Model Update*>, ('John', 'Pepsi'): <gurobi.Var *Awaiting Model Update*>, ('Mary', 'Apple'): <gurobi.Var *Awaiting Model Update*>, ('Mary', 'Microsoft'): <gurobi.Var *Awaiting Model Update*>, ('Mary', 'Google'): <gurobi.Var *Awaiting Model Update*>, ('Mary', 'Tesla'): <gurobi.Var *Awaiting Model Update*>, ('Mary', 'Pepsi'): <gurobi.Var *Awaiting Model Update*>, ('Charles', 'Apple'): <gurobi.Var *Awaiting Model Update*>, ('Charles', 'Microsoft'): <gurobi.Var *Awaiting Model Update*>, ('Charles', 'Google'): <gurobi.Var *Awaiting Model Update*>, ('Charles', 'Tesla'): <gurobi.Var *Awaiting Model Update*>, ('Charles', 'Pepsi'): <gurobi.Var *Awaiting Model Update*>}\n"
          ]
        }
      ],
      "source": [
        "# create a mock model\n",
        "silly_model = Model(\"Stock example with many lists\")\n",
        "\n",
        "# define all the decision variables\n",
        "stock_holdings = silly_model.addVars([\"John\", \"Mary\", \"Charles\"], [\"Apple\", \"Microsoft\", \"Google\", \"Tesla\", \"Pepsi\"], \\\n",
        "                                     name=\"stocks\")\n",
        "\n",
        "# print them\n",
        "print(stock_holdings)"
      ]
    },
    {
      "cell_type": "markdown",
      "metadata": {
        "id": "se2KWr6SJubQ"
      },
      "source": [
        "Note how we have a decision for every pair, and the keys in the dictionary are tuples. However, you cannot see the **names** that we defined! The only place where you will see those names is when you [write it to a file](#write_model)."
      ]
    },
    {
      "cell_type": "markdown",
      "metadata": {
        "id": "w2nQjNZcJubQ"
      },
      "source": [
        "____\n",
        "### Applying this in Oro-Verde\n",
        "In Oro Verde, we have one decision for every element of the list `tree_types`, which we can add very easily in one shot:"
      ]
    },
    {
      "cell_type": "code",
      "execution_count": 13,
      "metadata": {
        "scrolled": false,
        "colab": {
          "base_uri": "https://localhost:8080/"
        },
        "id": "SjGTlrIfJubR",
        "outputId": "b553be25-5a79-4b93-cd69-87fbcecec986"
      },
      "outputs": [
        {
          "output_type": "stream",
          "name": "stdout",
          "text": [
            "{'Maple': <gurobi.Var *Awaiting Model Update*>, 'Elm': <gurobi.Var *Awaiting Model Update*>, 'Spruce': <gurobi.Var *Awaiting Model Update*>}\n"
          ]
        }
      ],
      "source": [
        "# add one decision for each element of the list 'tree_types' and return the dictionary\n",
        "trees_to_plant = mymodel.addVars(tree_types, lb = 0, name=tree_types)\n",
        "\n",
        "# print the dictionary to see\n",
        "print(trees_to_plant)"
      ]
    },
    {
      "cell_type": "markdown",
      "metadata": {
        "id": "ZvzT80QcJubS"
      },
      "source": [
        "Note that we specified as name for our decision variables exactly the list `tree_types`, which means the names will be \"Maple\", \"Elm\", \"Spruce\". You can see this in Section 6, when we [write the model to a file](#write_model) to inspect it. You can feel free to experiment with adding a different prefix for the name above and checking the effect in Section 6. (For instance, using `name=\"plant\"` above would result in the names `plant[Maple], plant[Elm], plant[Spruce]`.)"
      ]
    },
    {
      "cell_type": "markdown",
      "metadata": {
        "id": "VtYkw5sUJubS"
      },
      "source": [
        "____________\n",
        "<a id=\"objective\"></a>\n",
        "# #4. Formulate and add the objective"
      ]
    },
    {
      "cell_type": "markdown",
      "metadata": {
        "id": "LlFW5uhyJubS"
      },
      "source": [
        "We need to construct an expression for the objective. We will store this in a new python variable, which we call ``planting_cost``. There are many ways to construct the correct expression. For instance, we could just rely on a plain ``for`` loop, as in:\n",
        "\n",
        "> `planting_cost = 0.0` <br>\n",
        "> `for t in tree_types : `<br>\n",
        ">  $\\qquad$     `planting_cost += trees_to_plant[t] * mydata.loc[t][\"SeedlingCost\"]`\n",
        "\n",
        "Instead, we will use the Gurobi __quicksum(...)__ function, which is very similar to Python's traditional __sum(...)__ function but is more efficient when summing over decision variables. <font color=red>__We will use this often in our class, so make sure you understand how it works!__</font>"
      ]
    },
    {
      "cell_type": "code",
      "execution_count": 14,
      "metadata": {
        "id": "-BpRpeGbJubT"
      },
      "outputs": [],
      "source": [
        "# calculate the cost with Gurobi's quicksum(.) function\n",
        "planting_cost = quicksum(trees_to_plant[t] * mydata.loc[t,\"SeedlingCost\"] for t in tree_types)"
      ]
    },
    {
      "cell_type": "markdown",
      "metadata": {
        "id": "mdlJi_AkJubT"
      },
      "source": [
        "If you force Gurobi to update the model (using `.update()`), you can even print the expression for the objective with a regular print function. This will allow you to see what this expression looks like in Gurobi, using the variable names that you defined."
      ]
    },
    {
      "cell_type": "code",
      "execution_count": 15,
      "metadata": {
        "colab": {
          "base_uri": "https://localhost:8080/"
        },
        "id": "1oRGMcVZJubT",
        "outputId": "32a0d1f1-fc09-475b-e46f-6e70326759b2"
      },
      "outputs": [
        {
          "output_type": "stream",
          "name": "stdout",
          "text": [
            "5.4 Maple + 3.2 Elm + 4.5 Spruce\n"
          ]
        }
      ],
      "source": [
        "# force Gurobi to update (just so that we can see things later)\n",
        "mymodel.update()\n",
        "\n",
        "# print the expression for the objective\n",
        "print(planting_cost)"
      ]
    },
    {
      "cell_type": "markdown",
      "metadata": {
        "id": "0VU9ZVdMJubU"
      },
      "source": [
        "<font color=red>**To add the objective inside a Gurobi model, use the `setObjective(...)` method of the model.**\n",
        "</font> The syntax is:\n",
        "\n",
        "> ``Model.setObjective ( expression, sense )``\n",
        "\n",
        "The arguments have a straightforward meaning:\n",
        " - __expression__ : the expression for the objective (this could also just be a python variable containing the expression)\n",
        " - __sense__ : the \"sense\" in which to optimize; two options are possible, __GRB.MAXIMIZE__ or __GRB.MINIMIZE__"
      ]
    },
    {
      "cell_type": "code",
      "execution_count": 16,
      "metadata": {
        "id": "Yn34Fu2sJube"
      },
      "outputs": [],
      "source": [
        "# set the objective in our Gurobi model\n",
        "mymodel.setObjective(planting_cost, GRB.MINIMIZE)"
      ]
    },
    {
      "cell_type": "markdown",
      "metadata": {
        "id": "3q6I0B_eJubf"
      },
      "source": [
        "________\n",
        "<a id=\"constraints\"></a>\n",
        "# #5. Formulate and add the constraints\n",
        "\n",
        "We will add the constraints one at a time for clarity.\n",
        "<font color=red>\n",
        "__To add one constraint, use the `addConstr(...)` method of the model.__\n",
        "</font> The typical syntax can take two forms:\n",
        "> `con = Model.addConstr ( lhs, sense=None, rhs=None, name=\"\" )` <br>\n",
        "> `con = Model.addConstr ( expression, name=\"\" )`\n",
        "\n",
        "This returns the constraint in the object `con`. The meaning of the arguments is :\n",
        " - __lhs__ : the left-hand-side of the constraint\n",
        " - __sense__ : the type of the constraint (\">=\" or \"=\" or \"<=\")\n",
        " - __rhs__ : the right-hand-side of the constraint\n",
        " - __expression__ : a full expression of the constraint that includes the left-hand-side, the sense, and the right-hand-side\n",
        " - __name__ : a Gurobi name for the constraint\n",
        "\n",
        "The first syntax above is a more detailed one, where we can specify separately each ingredient of the constraint. The second syntax is more compact, and we will be using it more frequently. But these two are clearly equivalent, meaning that every correct specification of a constraint must include all three elements: left-hand-side, sense, and right-hand-side. For more details, see the [Gurobi manual](https://www.gurobi.com/documentation/10.0/refman/cs_model_addconstr.html)."
      ]
    },
    {
      "cell_type": "markdown",
      "metadata": {
        "id": "Go6VZwQ1Jubf"
      },
      "source": [
        "<font color=blue>**GOOD PRACTICE**. Two small observations here. <br>\n",
        "(1) There are many ways to express the same constraint logic, e.g., $a \\leq b$ is the same as $b \\geq a$ or $a - b \\leq 0$ or $b-a \\geq 0$. We recommend adding constraints so that __the right-hand-side is a problem parameter / data__. This gives each constraint a more clear physical interpretation, and will be helpful later when we discuss sensitivity analysis.<br>\n",
        "(2) We suggest storing each constraint in some Python data structure (e.g., in a dictionary) so that you can refer to it easily later if you need to. </font>"
      ]
    },
    {
      "cell_type": "code",
      "execution_count": 17,
      "metadata": {
        "id": "MI6bbIgTJubf"
      },
      "outputs": [],
      "source": [
        "# a dictionary where we will store all the constraints\n",
        "all_constr = {}"
      ]
    },
    {
      "cell_type": "markdown",
      "metadata": {
        "id": "oxQTZAbYJubg"
      },
      "source": [
        "#### Constraint 1: land availability\n",
        "Below, we first create the constraint in a variable `con` and then add it to our dictionary. You can obviously do this with just a single instruction. (We saved the separate variable `con` because we need to use it afterwards, a few times.)"
      ]
    },
    {
      "cell_type": "code",
      "execution_count": 18,
      "metadata": {
        "id": "onXBQT6OJubg"
      },
      "outputs": [],
      "source": [
        "# create the constraint\n",
        "con = mymodel.addConstr( quicksum(trees_to_plant[t] * mydata.loc[t,\"Width\"] \\\n",
        "                                  for t in tree_types) <= land_avail , \"land_avail\" )\n",
        "\n",
        "# add it to the dictionary\n",
        "all_constr[\"land_avail\"] = con"
      ]
    },
    {
      "cell_type": "markdown",
      "metadata": {
        "id": "GdwP6_TvJubg"
      },
      "source": [
        "Just as with the objective, if you force Gurobi to update the model (using `.update()`), you can actually check what the expression for a constraint looks like, which is very useful for debugging purposes.\n",
        "\n",
        "<font color=red>**After updating the model, you can obtain useful information about a specific constraint. For a constraint `con` from model `model`, you can obtain all the relevant attributes as follows:**</font>\n",
        "  - <font color=red>to get the **expression of the constraint left-hand-side**, use `model.getRow(con)`</font>\n",
        "  - <font color=red>to get the **sense**, use `con.Sense`  </font>\n",
        "  - <font color=red>to get its Gurobi **name**, use `con.ConstrName` </font>\n",
        "  - <font color=red>to get the **constraint right-hand-side**, use `con.RHS`</font>\n",
        "  \n",
        "<font color=red>All of the attributes above are actually **not** case-sensitive, so, e.g., `sense` and `Sense` both work!</font>"
      ]
    },
    {
      "cell_type": "code",
      "execution_count": 19,
      "metadata": {
        "colab": {
          "base_uri": "https://localhost:8080/"
        },
        "id": "02Dt-DE_Jubh",
        "outputId": "d8636bbd-0975-40d1-afe7-29462a7ca484"
      },
      "outputs": [
        {
          "output_type": "stream",
          "name": "stdout",
          "text": [
            "Constraint name : land_avail\n",
            " 130.0 Maple + 3600.0 Elm + 400.0 Spruce < 150000.0\n"
          ]
        }
      ],
      "source": [
        "# force Gurobi to update\n",
        "mymodel.update()\n",
        "\n",
        "# now let's print some information about the constraint\n",
        "print(f\"Constraint name : {con.ConstrName}\\n {mymodel.getRow(con)} {con.Sense} {con.RHS}\")"
      ]
    },
    {
      "cell_type": "markdown",
      "metadata": {
        "id": "_QT65vA7Jubh"
      },
      "source": [
        "#### Constraint 2: water availability"
      ]
    },
    {
      "cell_type": "code",
      "execution_count": 20,
      "metadata": {
        "colab": {
          "base_uri": "https://localhost:8080/"
        },
        "id": "QVvMilmhJubi",
        "outputId": "596c81ed-9637-443e-f56c-a00203851a0a"
      },
      "outputs": [
        {
          "output_type": "stream",
          "name": "stdout",
          "text": [
            "Constraint name : water_avail\n",
            " 76.0 Maple + 48.0 Elm + 34.0 Spruce < 50000.0\n"
          ]
        }
      ],
      "source": [
        "con = mymodel.addConstr( quicksum( trees_to_plant[t] * mydata.loc[t,\"WaterRequirement\"] \\\n",
        "                                  for t in tree_types) <= water_avail, \"water_avail\" )\n",
        "all_constr[\"water_avail\"] = con\n",
        "\n",
        "# force Gurobi to update so we can print this one, too\n",
        "mymodel.update()\n",
        "\n",
        "# now let's print some information about the constraint\n",
        "print(f\"Constraint name : {con.ConstrName}\\n {mymodel.getRow(con)} {con.Sense} {con.RHS}\")"
      ]
    },
    {
      "cell_type": "markdown",
      "metadata": {
        "id": "dkb3kqUMJubi"
      },
      "source": [
        "#### Constraints 3-5: seedling availability for each tree type"
      ]
    },
    {
      "cell_type": "code",
      "execution_count": 21,
      "metadata": {
        "id": "eoAWW9c8Jubi"
      },
      "outputs": [],
      "source": [
        "# one constraint for each tree type\n",
        "for t in tree_types:\n",
        "    constr_name = f\"{t}_seedlings\"  # set up a good name for the constraint, using the tree type\n",
        "    all_constr[constr_name] = mymodel.addConstr( trees_to_plant[t] <= mydata.loc[t,\"SeedlingsAvailable\"], constr_name )"
      ]
    },
    {
      "cell_type": "markdown",
      "metadata": {
        "id": "ve0kTPrAJubj"
      },
      "source": [
        "#### Constraint 6: minimum number of elm trees"
      ]
    },
    {
      "cell_type": "code",
      "execution_count": 22,
      "metadata": {
        "id": "GrTs8uD7Jubj"
      },
      "outputs": [],
      "source": [
        "# we should plant at least some minimum number of Elm trees\n",
        "all_constr[\"min_elms\"] = mymodel.addConstr( trees_to_plant[\"Elm\"] >= min_elms, \"min_elms\" )"
      ]
    },
    {
      "cell_type": "markdown",
      "metadata": {
        "id": "1iLnbdxzJubj"
      },
      "source": [
        "#### Constraint 7: minimum carbon sequestration commitment"
      ]
    },
    {
      "cell_type": "code",
      "execution_count": 23,
      "metadata": {
        "id": "9sI4JY2VJubk"
      },
      "outputs": [],
      "source": [
        "all_constr[\"carbon_seq\"] = mymodel.addConstr( quicksum( trees_to_plant[t] * mydata.loc[t,\"SurvivalRate\"] * \\\n",
        "                                                       mydata.loc[t,\"SequestrationRate\"]  for t in tree_types ) \\\n",
        "                                             >= annual_seq_commit , \"carbon_seq\")"
      ]
    },
    {
      "cell_type": "markdown",
      "metadata": {
        "id": "JF-0cgtDJubk"
      },
      "source": [
        "Let's print our dictionary of constraints, to see what it looks like."
      ]
    },
    {
      "cell_type": "code",
      "execution_count": 24,
      "metadata": {
        "colab": {
          "base_uri": "https://localhost:8080/"
        },
        "id": "U-ThgRldJubk",
        "outputId": "7ddab77e-946d-4128-b4c2-0ffe2368f587"
      },
      "outputs": [
        {
          "output_type": "stream",
          "name": "stdout",
          "text": [
            "{'land_avail': <gurobi.Constr land_avail>, 'water_avail': <gurobi.Constr water_avail>, 'Maple_seedlings': <gurobi.Constr *Awaiting Model Update*>, 'Elm_seedlings': <gurobi.Constr *Awaiting Model Update*>, 'Spruce_seedlings': <gurobi.Constr *Awaiting Model Update*>, 'min_elms': <gurobi.Constr *Awaiting Model Update*>, 'carbon_seq': <gurobi.Constr *Awaiting Model Update*>}\n"
          ]
        }
      ],
      "source": [
        "print(all_constr)"
      ]
    },
    {
      "cell_type": "markdown",
      "metadata": {
        "id": "ijZh05BcJubl"
      },
      "source": [
        "<a id=\"inspecting_model\"></a>\n",
        "# #6. Inspect the model"
      ]
    },
    {
      "cell_type": "markdown",
      "metadata": {
        "id": "_Vy5c4CbJubl"
      },
      "source": [
        "<font color=blue> __GOOD PRACTICE.__ Now that we have added all the ingredients, __it is quite critical to check the model and make sure it is actually correct.__</font>\n",
        "\n",
        "One way to do this is simply to __print the model__. Here is the output we would get by printing right now:"
      ]
    },
    {
      "cell_type": "code",
      "execution_count": 25,
      "metadata": {
        "scrolled": true,
        "colab": {
          "base_uri": "https://localhost:8080/"
        },
        "id": "AnM3DMLaJubl",
        "outputId": "005b7000-03a8-4920-aa14-00914e4a2763"
      },
      "outputs": [
        {
          "output_type": "execute_result",
          "data": {
            "text/plain": [
              "<gurobi.Model Continuous instance Simple Tree Planting Model: 2 constrs, 3 vars, No parameter changes>"
            ]
          },
          "metadata": {},
          "execution_count": 25
        }
      ],
      "source": [
        "mymodel"
      ]
    },
    {
      "cell_type": "markdown",
      "metadata": {
        "id": "OAAL8i7RJubl"
      },
      "source": [
        "This might seem like a mistake: the model still looks \"empty,\" although we just added everything! But **this is not an error**! It is related to Gurobi's 'lazy updating' feature, which means that Gurobi will not process any updates to the model until we run some specific commands that force it to do that. There are three methods that do this, and we will talk about each subsequently. These are:\n",
        " - the __update()__ method : as the name says, this simply updates the model\n",
        " - the __write(...)__ method : this writes the model to a file\n",
        " - the __optimize()__ method : this solves the model"
      ]
    },
    {
      "cell_type": "markdown",
      "metadata": {
        "id": "GrSHYFLnJubl"
      },
      "source": [
        "<a id=\"model_update\"></a>\n",
        "### Update the model\n",
        "\n",
        "To update a Gurobi model so it reflects all the changes made (with no additional action), run the __update()__ method."
      ]
    },
    {
      "cell_type": "code",
      "execution_count": 26,
      "metadata": {
        "colab": {
          "base_uri": "https://localhost:8080/"
        },
        "id": "vhuCCwOgJubm",
        "outputId": "1df576bc-642d-4338-adba-4f598993e5c2"
      },
      "outputs": [
        {
          "output_type": "stream",
          "name": "stdout",
          "text": [
            "<gurobi.Model Continuous instance Simple Tree Planting Model: 7 constrs, 3 vars, No parameter changes>\n"
          ]
        }
      ],
      "source": [
        "# force Gurobi to update the model\n",
        "mymodel.update()\n",
        "\n",
        "# print the model\n",
        "print(mymodel)"
      ]
    },
    {
      "cell_type": "markdown",
      "metadata": {
        "id": "iyfnkoi1Jubm"
      },
      "source": [
        "Gurobi now correctly recognizes and displays that our model has 3 variables and 7 constraints. But beyond that, this output is not terribly useful for finding __errors__ in the model..."
      ]
    },
    {
      "cell_type": "markdown",
      "metadata": {
        "id": "ugKinB1OJubm"
      },
      "source": [
        "<a id=\"write_model\"></a>\n",
        "### Write the model for inspection"
      ]
    },
    {
      "cell_type": "markdown",
      "metadata": {
        "id": "5TGU7dZcJubn"
      },
      "source": [
        "Perhaps the best way to visualize and \"debug\" our model is to write it to a file using a special (LP) format, which is designed to output optimization models in a \"human-readable\" form. (As a side note, this process will also update your model to reflect any pending changes!) Here is how this works."
      ]
    },
    {
      "cell_type": "code",
      "execution_count": 27,
      "metadata": {
        "scrolled": true,
        "id": "deru_VNdJubn"
      },
      "outputs": [],
      "source": [
        "# write the model to a file with extension \".lp\"\n",
        "mymodel.write(\"my_model.lp\")"
      ]
    },
    {
      "cell_type": "markdown",
      "metadata": {
        "id": "5Joi6gYIJubn"
      },
      "source": [
        "Now you can open this file with any text viewer and read it. Alternatively, the code below reads it and prints it in Jupyter, to save you the trouble..."
      ]
    },
    {
      "cell_type": "code",
      "execution_count": 28,
      "metadata": {
        "scrolled": true,
        "colab": {
          "base_uri": "https://localhost:8080/"
        },
        "id": "v1XwnSArJubn",
        "outputId": "3ffde861-4011-4379-e6f6-595b4c10dcb9"
      },
      "outputs": [
        {
          "output_type": "stream",
          "name": "stdout",
          "text": [
            "\\ Model Simple Tree Planting Model\n",
            "\\ LP format - for model browsing. Use MPS format to capture full model detail.\n",
            "Minimize\n",
            "  5.4 Maple + 3.2 Elm + 4.5 Spruce\n",
            "Subject To\n",
            " land_avail: 130 Maple + 3600 Elm + 400 Spruce <= 150000\n",
            " water_avail: 76 Maple + 48 Elm + 34 Spruce <= 50000\n",
            " Maple_seedlings: Maple <= 1000\n",
            " Elm_seedlings: Elm <= 500\n",
            " Spruce_seedlings: Spruce <= 1500\n",
            " min_elms: Elm >= 15\n",
            " carbon_seq: 3.01 Maple + 2.22 Elm + 2.24 Spruce >= 1800\n",
            "Bounds\n",
            "End\n",
            "\n"
          ]
        }
      ],
      "source": [
        "# open a file handle\n",
        "f = open(\"my_model.lp\", 'r')\n",
        "\n",
        "# read the contents and print them\n",
        "print( f.read() )\n",
        "\n",
        "# close the file handle\n",
        "f.close()"
      ]
    },
    {
      "cell_type": "markdown",
      "metadata": {
        "id": "MXJUSCR2Jubo"
      },
      "source": [
        "This output should look similar to our basic model formulation in [the introduction](#basic_model). The only differences are the decision variable names (__Maple__, __Elm__ and __Spruce__ instead of __M__, __E__ and __S__) and that the LP model does not include the non-negativity constraints (8) explicitly. The latter happens because these were added as bounds on the decision variables in [Step 3](#decisions). You may notice that these (non-negativity) bounds also do not appear in the ``Bounds`` portion of the output above; this is by design, since non-negativity is assumed by default in the LP format. In other words, __an LP model always includes the constraints \"__``decisions >= 0``__\" by default, and does not display them__. For more details on the LP format, you can refer to the [Gurobi manual](https://www.gurobi.com/documentation/10.0/refman/lp_format.html)."
      ]
    },
    {
      "cell_type": "markdown",
      "metadata": {
        "id": "Sb3Y7r1QJubo"
      },
      "source": [
        "<font color=blue> __GOOD PRACTICE.__ If we detect a mistake when inspecting the model, the cleanest way to proceed would be to restart the entire notebook, by clicking the __Kernel__ button in Jupyter and selecting  __Restart__. This allows revisiting each step of the process to identify and fix the mistake(s). This is also why __it is very helpful to print out the model at intermediate steps__, so that we do not wait until the very end to identify potential issues! </font>\n",
        "\n",
        "As a side note, in very large models, it may be too costly to rerun the entire notebook/process. Gurobi has functionality that allows changing a model by removing constraints or decision variables, using the `remove` function -- just like we did in `In[8]`, when we remove the three decision variables. But we do not advocate using this as a procedure to fix mistakes, because your notebook would essentially always first _make_ mistakes and then _fix_ them..."
      ]
    },
    {
      "cell_type": "markdown",
      "metadata": {
        "id": "t4sziL73Jubo"
      },
      "source": [
        "____\n",
        "<a id=\"solve\"></a>\n",
        "# #7. Optimize the model"
      ]
    },
    {
      "cell_type": "markdown",
      "metadata": {
        "id": "EXDAlodzJubp"
      },
      "source": [
        "<font color=red>**To solve/optimize our Gurobi model, use the `optimize()` method of the model object.**</font><br>\n",
        "(__Note:__ This function also updates your model to reflect any pending changes.)"
      ]
    },
    {
      "cell_type": "code",
      "execution_count": 29,
      "metadata": {
        "colab": {
          "base_uri": "https://localhost:8080/"
        },
        "id": "SsoAI1rZJubp",
        "outputId": "cd91ba8f-9f32-4666-e73f-8eb25c06a3cf"
      },
      "outputs": [
        {
          "output_type": "stream",
          "name": "stdout",
          "text": [
            "Gurobi Optimizer version 10.0.3 build v10.0.3rc0 (linux64)\n",
            "\n",
            "CPU model: Intel(R) Xeon(R) CPU @ 2.20GHz, instruction set [SSE2|AVX|AVX2]\n",
            "Thread count: 1 physical cores, 2 logical processors, using up to 2 threads\n",
            "\n",
            "Optimize a model with 7 rows, 3 columns and 13 nonzeros\n",
            "Model fingerprint: 0x017ecc2f\n",
            "Coefficient statistics:\n",
            "  Matrix range     [1e+00, 4e+03]\n",
            "  Objective range  [3e+00, 5e+00]\n",
            "  Bounds range     [0e+00, 0e+00]\n",
            "  RHS range        [2e+01, 2e+05]\n",
            "Presolve removed 4 rows and 0 columns\n",
            "Presolve time: 0.02s\n",
            "Presolved: 3 rows, 3 columns, 9 nonzeros\n",
            "\n",
            "Iteration    Objective       Primal Inf.    Dual Inf.      Time\n",
            "       0    3.1965890e+03   1.154615e+03   0.000000e+00      0s\n",
            "       1    3.2130952e+03   0.000000e+00   0.000000e+00      0s\n",
            "\n",
            "Solved in 1 iterations and 0.03 seconds (0.00 work units)\n",
            "Optimal objective  3.213095170e+03\n"
          ]
        }
      ],
      "source": [
        "# solve the model to optimality\n",
        "mymodel.optimize()"
      ]
    },
    {
      "cell_type": "markdown",
      "metadata": {
        "id": "hKvjvzRfJubp"
      },
      "source": [
        "**If everything is OK, Gurobi should stop and report a finite value \"Optimal objective\" on the last line above.** We will discuss other potential messages you might encounter here in a separate section on [Gurobi output messages](#Gurobi_messages)."
      ]
    },
    {
      "cell_type": "markdown",
      "metadata": {
        "id": "fMRSx6MhJubp"
      },
      "source": [
        "____\n",
        "<a id=\"printing\"></a>\n",
        "# #8. Extract the optimized results"
      ]
    },
    {
      "cell_type": "markdown",
      "metadata": {
        "id": "BG4pyIDuJubp"
      },
      "source": [
        "Once Gurobi has finished optimizing the model, we will likely want to extract some information concerning the solution and its properties. (**IMPORTANT! The functions here can only be used _after_ Gurobi is done optimizing!**)\n",
        "\n",
        "<font color=red> __We can recover the optimal value of a decision variable using its .X attribute.__</font><br>\n",
        "We print the optimal solution here with a _for loop_, but depending on the (size of your) model, you may want to do this differently."
      ]
    },
    {
      "cell_type": "code",
      "execution_count": 30,
      "metadata": {
        "scrolled": true,
        "colab": {
          "base_uri": "https://localhost:8080/"
        },
        "id": "afikR7KeJubq",
        "outputId": "78deacd6-64e2-4811-97bd-b45e60ae44f6"
      },
      "outputs": [
        {
          "output_type": "stream",
          "name": "stdout",
          "text": [
            "Optimal solution is to plant:\n",
            "Maple      : 582.80\n",
            "Elm        : 20.62\n",
            "Spruce     : 0.00\n"
          ]
        }
      ],
      "source": [
        "# print solution with a for loop\n",
        "print(\"Optimal solution is to plant:\")\n",
        "for t in tree_types :\n",
        "    print(f\"{t:10s} : {trees_to_plant[t].X:.2f}\")"
      ]
    },
    {
      "cell_type": "markdown",
      "metadata": {
        "id": "laf6qXu6Jubq"
      },
      "source": [
        "Note that the optimal solution involves fractional values, e.g., 582.80 Maple trees. Because we allowed Gurobi to use continuous variables, this is natural. If we really needed the solutions to be **integral**, we should have specified this when defining the variables. However, as we will learn later on in the course, integrality makes the optimization problems **a lot harder to solve**, so whenever this is not critical, it is best to avoid it."
      ]
    },
    {
      "cell_type": "markdown",
      "metadata": {
        "id": "8WHmGh3-Jubq"
      },
      "source": [
        "<font color=red> __We can recover the optimal objective value in the model using the __.objVal__ attribute.__ </font>"
      ]
    },
    {
      "cell_type": "code",
      "execution_count": 31,
      "metadata": {
        "colab": {
          "base_uri": "https://localhost:8080/"
        },
        "id": "Mhhi7JbpJubr",
        "outputId": "d98a9e0a-dbfc-4029-c700-0f8a4fcf3888"
      },
      "outputs": [
        {
          "output_type": "stream",
          "name": "stdout",
          "text": [
            "Optimal cost is: $3213.095\n"
          ]
        }
      ],
      "source": [
        "# print the value of the objective\n",
        "print(f\"Optimal cost is: ${mymodel.objVal:.3f}\")"
      ]
    },
    {
      "cell_type": "markdown",
      "metadata": {
        "id": "rNpp8BjnJubr"
      },
      "source": [
        "____\n",
        "<a id=\"evaluating_constraints\"></a>\n",
        "# #9. Extract information on constraints"
      ]
    },
    {
      "cell_type": "markdown",
      "metadata": {
        "id": "RdA9DxntJubr"
      },
      "source": [
        "#### Printing useful information/attributes:\n",
        "Once we solve the model, it is very useful to extract information for each constraint. For instance, you may wonder which constraints are **binding**, i.e., hold with equality at the optimal solution. (Intuitively, these are the \"important\" constraints in the model.)\n",
        "\n",
        "Recall from our earlier discussion that for a constraint `con` from model `model`, you can use the following approach to recover important information:\n",
        " - __model.getRow(con)__ : the expression of the constraint left-hand-side\n",
        " - __con.ConstrName__  : the name specified when defining the constraint\n",
        " - __con.RHS__    : the value of the right-hand-side of the constraint\n",
        " - __con.Sense__ : the type of constraint ( <= or = or >= )\n",
        " - __con.Slack__  : (value of right-hand-side) - (value of left-hand-side), available after Gurobi finished optimizing.\n",
        "\n",
        "\n",
        "<font color=red>**IMPORTANT!** If the left-hand-side or right-hand-side of a constraint is an expression of Gurobi decision variables, then printing it would simply print out the formula/expression, just like in `In[17]` (when we printed the constraint when adding it to the model). **To find out __the value__ of the LHS/RHS evaluated at the optimal solution, you need to use the `getValue()` method.**\n",
        "    \n",
        "To appreciate this point, let's collect the left-hand-side of the water availability constraint. We can use the name `water_avail` to recover this constraint from our dictionary and then use `model.getRow(.)` to get its LHS."
      ]
    },
    {
      "cell_type": "code",
      "execution_count": 32,
      "metadata": {
        "colab": {
          "base_uri": "https://localhost:8080/"
        },
        "id": "J-tGNYW3Jubr",
        "outputId": "ac6f3e2f-99be-4faf-e71d-15b097423a58"
      },
      "outputs": [
        {
          "output_type": "stream",
          "name": "stdout",
          "text": [
            "76.0 Maple + 48.0 Elm + 34.0 Spruce\n",
            "45282.43927413391\n"
          ]
        }
      ],
      "source": [
        "# get the water availability constraint from the dictionary using its name\n",
        "water_avail_con = all_constr[\"water_avail\"]\n",
        "\n",
        "# get the LHS of the constraint\n",
        "LHS_water = mymodel.getRow(water_avail_con)\n",
        "\n",
        "# now let's print the LHS as is\n",
        "print(LHS_water)\n",
        "\n",
        "# instead, we now **evaluate** the expression for the LHS using the getValue() method\n",
        "print(LHS_water.getValue())"
      ]
    },
    {
      "cell_type": "markdown",
      "metadata": {
        "id": "F5vElR9VJubs"
      },
      "source": [
        "#### Getting access to all the constraints\n",
        "We already saved all the constraints in a nice dictionary. However, if you forget to do that and want to obtain a list of all the linear constraints in your model, you can use the **`getConstrs()`** method:"
      ]
    },
    {
      "cell_type": "code",
      "execution_count": 33,
      "metadata": {
        "scrolled": false,
        "colab": {
          "base_uri": "https://localhost:8080/"
        },
        "id": "Y9oZ2Xw8Jubs",
        "outputId": "5f82cc41-bc50-4b81-f52b-426834bf3d97"
      },
      "outputs": [
        {
          "output_type": "stream",
          "name": "stdout",
          "text": [
            "[<gurobi.Constr land_avail>, <gurobi.Constr water_avail>, <gurobi.Constr Maple_seedlings>, <gurobi.Constr Elm_seedlings>, <gurobi.Constr Spruce_seedlings>, <gurobi.Constr min_elms>, <gurobi.Constr carbon_seq>]\n"
          ]
        }
      ],
      "source": [
        "allConstraints = mymodel.getConstrs()\n",
        "print(allConstraints)"
      ]
    },
    {
      "cell_type": "markdown",
      "metadata": {
        "id": "lIKdfe3LJubt"
      },
      "source": [
        "Let's use all of the above to print out useful information about all the constraints."
      ]
    },
    {
      "cell_type": "code",
      "execution_count": 34,
      "metadata": {
        "colab": {
          "base_uri": "https://localhost:8080/",
          "height": 0
        },
        "id": "SgOcYiULJubt",
        "outputId": "ee5364f4-965f-44f1-d38c-c7e517b49547"
      },
      "outputs": [
        {
          "output_type": "display_data",
          "data": {
            "text/plain": [
              "    Constraint Name      LHS Value Sense  RHS Value        Slack\n",
              "0        land_avail  150000.000000     <   150000.0     0.000000\n",
              "1       water_avail   45282.439274     <    50000.0  4717.560726\n",
              "2   Maple_seedlings     582.797656     <     1000.0   417.202344\n",
              "3     Elm_seedlings      20.621196     <      500.0   479.378804\n",
              "4  Spruce_seedlings       0.000000     <     1500.0  1500.000000\n",
              "5          min_elms      20.621196     >       15.0    -5.621196\n",
              "6        carbon_seq    1800.000000     >     1800.0     0.000000"
            ],
            "text/html": [
              "\n",
              "  <div id=\"df-0c818960-0401-4cd3-8b0f-98f304cb66b5\" class=\"colab-df-container\">\n",
              "    <div>\n",
              "<style scoped>\n",
              "    .dataframe tbody tr th:only-of-type {\n",
              "        vertical-align: middle;\n",
              "    }\n",
              "\n",
              "    .dataframe tbody tr th {\n",
              "        vertical-align: top;\n",
              "    }\n",
              "\n",
              "    .dataframe thead th {\n",
              "        text-align: right;\n",
              "    }\n",
              "</style>\n",
              "<table border=\"1\" class=\"dataframe\">\n",
              "  <thead>\n",
              "    <tr style=\"text-align: right;\">\n",
              "      <th></th>\n",
              "      <th>Constraint Name</th>\n",
              "      <th>LHS Value</th>\n",
              "      <th>Sense</th>\n",
              "      <th>RHS Value</th>\n",
              "      <th>Slack</th>\n",
              "    </tr>\n",
              "  </thead>\n",
              "  <tbody>\n",
              "    <tr>\n",
              "      <th>0</th>\n",
              "      <td>land_avail</td>\n",
              "      <td>150000.000000</td>\n",
              "      <td>&lt;</td>\n",
              "      <td>150000.0</td>\n",
              "      <td>0.000000</td>\n",
              "    </tr>\n",
              "    <tr>\n",
              "      <th>1</th>\n",
              "      <td>water_avail</td>\n",
              "      <td>45282.439274</td>\n",
              "      <td>&lt;</td>\n",
              "      <td>50000.0</td>\n",
              "      <td>4717.560726</td>\n",
              "    </tr>\n",
              "    <tr>\n",
              "      <th>2</th>\n",
              "      <td>Maple_seedlings</td>\n",
              "      <td>582.797656</td>\n",
              "      <td>&lt;</td>\n",
              "      <td>1000.0</td>\n",
              "      <td>417.202344</td>\n",
              "    </tr>\n",
              "    <tr>\n",
              "      <th>3</th>\n",
              "      <td>Elm_seedlings</td>\n",
              "      <td>20.621196</td>\n",
              "      <td>&lt;</td>\n",
              "      <td>500.0</td>\n",
              "      <td>479.378804</td>\n",
              "    </tr>\n",
              "    <tr>\n",
              "      <th>4</th>\n",
              "      <td>Spruce_seedlings</td>\n",
              "      <td>0.000000</td>\n",
              "      <td>&lt;</td>\n",
              "      <td>1500.0</td>\n",
              "      <td>1500.000000</td>\n",
              "    </tr>\n",
              "    <tr>\n",
              "      <th>5</th>\n",
              "      <td>min_elms</td>\n",
              "      <td>20.621196</td>\n",
              "      <td>&gt;</td>\n",
              "      <td>15.0</td>\n",
              "      <td>-5.621196</td>\n",
              "    </tr>\n",
              "    <tr>\n",
              "      <th>6</th>\n",
              "      <td>carbon_seq</td>\n",
              "      <td>1800.000000</td>\n",
              "      <td>&gt;</td>\n",
              "      <td>1800.0</td>\n",
              "      <td>0.000000</td>\n",
              "    </tr>\n",
              "  </tbody>\n",
              "</table>\n",
              "</div>\n",
              "    <div class=\"colab-df-buttons\">\n",
              "\n",
              "  <div class=\"colab-df-container\">\n",
              "    <button class=\"colab-df-convert\" onclick=\"convertToInteractive('df-0c818960-0401-4cd3-8b0f-98f304cb66b5')\"\n",
              "            title=\"Convert this dataframe to an interactive table.\"\n",
              "            style=\"display:none;\">\n",
              "\n",
              "  <svg xmlns=\"http://www.w3.org/2000/svg\" height=\"24px\" viewBox=\"0 -960 960 960\">\n",
              "    <path d=\"M120-120v-720h720v720H120Zm60-500h600v-160H180v160Zm220 220h160v-160H400v160Zm0 220h160v-160H400v160ZM180-400h160v-160H180v160Zm440 0h160v-160H620v160ZM180-180h160v-160H180v160Zm440 0h160v-160H620v160Z\"/>\n",
              "  </svg>\n",
              "    </button>\n",
              "\n",
              "  <style>\n",
              "    .colab-df-container {\n",
              "      display:flex;\n",
              "      gap: 12px;\n",
              "    }\n",
              "\n",
              "    .colab-df-convert {\n",
              "      background-color: #E8F0FE;\n",
              "      border: none;\n",
              "      border-radius: 50%;\n",
              "      cursor: pointer;\n",
              "      display: none;\n",
              "      fill: #1967D2;\n",
              "      height: 32px;\n",
              "      padding: 0 0 0 0;\n",
              "      width: 32px;\n",
              "    }\n",
              "\n",
              "    .colab-df-convert:hover {\n",
              "      background-color: #E2EBFA;\n",
              "      box-shadow: 0px 1px 2px rgba(60, 64, 67, 0.3), 0px 1px 3px 1px rgba(60, 64, 67, 0.15);\n",
              "      fill: #174EA6;\n",
              "    }\n",
              "\n",
              "    .colab-df-buttons div {\n",
              "      margin-bottom: 4px;\n",
              "    }\n",
              "\n",
              "    [theme=dark] .colab-df-convert {\n",
              "      background-color: #3B4455;\n",
              "      fill: #D2E3FC;\n",
              "    }\n",
              "\n",
              "    [theme=dark] .colab-df-convert:hover {\n",
              "      background-color: #434B5C;\n",
              "      box-shadow: 0px 1px 3px 1px rgba(0, 0, 0, 0.15);\n",
              "      filter: drop-shadow(0px 1px 2px rgba(0, 0, 0, 0.3));\n",
              "      fill: #FFFFFF;\n",
              "    }\n",
              "  </style>\n",
              "\n",
              "    <script>\n",
              "      const buttonEl =\n",
              "        document.querySelector('#df-0c818960-0401-4cd3-8b0f-98f304cb66b5 button.colab-df-convert');\n",
              "      buttonEl.style.display =\n",
              "        google.colab.kernel.accessAllowed ? 'block' : 'none';\n",
              "\n",
              "      async function convertToInteractive(key) {\n",
              "        const element = document.querySelector('#df-0c818960-0401-4cd3-8b0f-98f304cb66b5');\n",
              "        const dataTable =\n",
              "          await google.colab.kernel.invokeFunction('convertToInteractive',\n",
              "                                                    [key], {});\n",
              "        if (!dataTable) return;\n",
              "\n",
              "        const docLinkHtml = 'Like what you see? Visit the ' +\n",
              "          '<a target=\"_blank\" href=https://colab.research.google.com/notebooks/data_table.ipynb>data table notebook</a>'\n",
              "          + ' to learn more about interactive tables.';\n",
              "        element.innerHTML = '';\n",
              "        dataTable['output_type'] = 'display_data';\n",
              "        await google.colab.output.renderOutput(dataTable, element);\n",
              "        const docLink = document.createElement('div');\n",
              "        docLink.innerHTML = docLinkHtml;\n",
              "        element.appendChild(docLink);\n",
              "      }\n",
              "    </script>\n",
              "  </div>\n",
              "\n",
              "\n",
              "<div id=\"df-79f6c946-c78a-43da-b503-25d6a0def5ad\">\n",
              "  <button class=\"colab-df-quickchart\" onclick=\"quickchart('df-79f6c946-c78a-43da-b503-25d6a0def5ad')\"\n",
              "            title=\"Suggest charts.\"\n",
              "            style=\"display:none;\">\n",
              "\n",
              "<svg xmlns=\"http://www.w3.org/2000/svg\" height=\"24px\"viewBox=\"0 0 24 24\"\n",
              "     width=\"24px\">\n",
              "    <g>\n",
              "        <path d=\"M19 3H5c-1.1 0-2 .9-2 2v14c0 1.1.9 2 2 2h14c1.1 0 2-.9 2-2V5c0-1.1-.9-2-2-2zM9 17H7v-7h2v7zm4 0h-2V7h2v10zm4 0h-2v-4h2v4z\"/>\n",
              "    </g>\n",
              "</svg>\n",
              "  </button>\n",
              "\n",
              "<style>\n",
              "  .colab-df-quickchart {\n",
              "      --bg-color: #E8F0FE;\n",
              "      --fill-color: #1967D2;\n",
              "      --hover-bg-color: #E2EBFA;\n",
              "      --hover-fill-color: #174EA6;\n",
              "      --disabled-fill-color: #AAA;\n",
              "      --disabled-bg-color: #DDD;\n",
              "  }\n",
              "\n",
              "  [theme=dark] .colab-df-quickchart {\n",
              "      --bg-color: #3B4455;\n",
              "      --fill-color: #D2E3FC;\n",
              "      --hover-bg-color: #434B5C;\n",
              "      --hover-fill-color: #FFFFFF;\n",
              "      --disabled-bg-color: #3B4455;\n",
              "      --disabled-fill-color: #666;\n",
              "  }\n",
              "\n",
              "  .colab-df-quickchart {\n",
              "    background-color: var(--bg-color);\n",
              "    border: none;\n",
              "    border-radius: 50%;\n",
              "    cursor: pointer;\n",
              "    display: none;\n",
              "    fill: var(--fill-color);\n",
              "    height: 32px;\n",
              "    padding: 0;\n",
              "    width: 32px;\n",
              "  }\n",
              "\n",
              "  .colab-df-quickchart:hover {\n",
              "    background-color: var(--hover-bg-color);\n",
              "    box-shadow: 0 1px 2px rgba(60, 64, 67, 0.3), 0 1px 3px 1px rgba(60, 64, 67, 0.15);\n",
              "    fill: var(--button-hover-fill-color);\n",
              "  }\n",
              "\n",
              "  .colab-df-quickchart-complete:disabled,\n",
              "  .colab-df-quickchart-complete:disabled:hover {\n",
              "    background-color: var(--disabled-bg-color);\n",
              "    fill: var(--disabled-fill-color);\n",
              "    box-shadow: none;\n",
              "  }\n",
              "\n",
              "  .colab-df-spinner {\n",
              "    border: 2px solid var(--fill-color);\n",
              "    border-color: transparent;\n",
              "    border-bottom-color: var(--fill-color);\n",
              "    animation:\n",
              "      spin 1s steps(1) infinite;\n",
              "  }\n",
              "\n",
              "  @keyframes spin {\n",
              "    0% {\n",
              "      border-color: transparent;\n",
              "      border-bottom-color: var(--fill-color);\n",
              "      border-left-color: var(--fill-color);\n",
              "    }\n",
              "    20% {\n",
              "      border-color: transparent;\n",
              "      border-left-color: var(--fill-color);\n",
              "      border-top-color: var(--fill-color);\n",
              "    }\n",
              "    30% {\n",
              "      border-color: transparent;\n",
              "      border-left-color: var(--fill-color);\n",
              "      border-top-color: var(--fill-color);\n",
              "      border-right-color: var(--fill-color);\n",
              "    }\n",
              "    40% {\n",
              "      border-color: transparent;\n",
              "      border-right-color: var(--fill-color);\n",
              "      border-top-color: var(--fill-color);\n",
              "    }\n",
              "    60% {\n",
              "      border-color: transparent;\n",
              "      border-right-color: var(--fill-color);\n",
              "    }\n",
              "    80% {\n",
              "      border-color: transparent;\n",
              "      border-right-color: var(--fill-color);\n",
              "      border-bottom-color: var(--fill-color);\n",
              "    }\n",
              "    90% {\n",
              "      border-color: transparent;\n",
              "      border-bottom-color: var(--fill-color);\n",
              "    }\n",
              "  }\n",
              "</style>\n",
              "\n",
              "  <script>\n",
              "    async function quickchart(key) {\n",
              "      const quickchartButtonEl =\n",
              "        document.querySelector('#' + key + ' button');\n",
              "      quickchartButtonEl.disabled = true;  // To prevent multiple clicks.\n",
              "      quickchartButtonEl.classList.add('colab-df-spinner');\n",
              "      try {\n",
              "        const charts = await google.colab.kernel.invokeFunction(\n",
              "            'suggestCharts', [key], {});\n",
              "      } catch (error) {\n",
              "        console.error('Error during call to suggestCharts:', error);\n",
              "      }\n",
              "      quickchartButtonEl.classList.remove('colab-df-spinner');\n",
              "      quickchartButtonEl.classList.add('colab-df-quickchart-complete');\n",
              "    }\n",
              "    (() => {\n",
              "      let quickchartButtonEl =\n",
              "        document.querySelector('#df-79f6c946-c78a-43da-b503-25d6a0def5ad button');\n",
              "      quickchartButtonEl.style.display =\n",
              "        google.colab.kernel.accessAllowed ? 'block' : 'none';\n",
              "    })();\n",
              "  </script>\n",
              "</div>\n",
              "    </div>\n",
              "  </div>\n"
            ]
          },
          "metadata": {}
        }
      ],
      "source": [
        "# Below, we create a nice data-frame to print useful information about constraints\n",
        "# we'll store all the data in a list of lists (!):\n",
        "#  - the outer list contains one list for each constraint\n",
        "#  - the inner list (for a given constraint) has the name, value of the LHS, RHS, sense and slack\n",
        "all_constr_data = [ [c.ConstrName, mymodel.getRow(c).getValue(), c.Sense, c.RHS, c.Slack] for c in allConstraints ]\n",
        "\n",
        "# convert into a dataframe and print\n",
        "df = pd.DataFrame(all_constr_data, columns=[\"Constraint Name\", \"LHS Value\", \"Sense\", \"RHS Value\", \"Slack\"])\n",
        "display(df)"
      ]
    },
    {
      "cell_type": "markdown",
      "metadata": {
        "id": "x88yhCGkJubt"
      },
      "source": [
        "The constraints with **Slack=0** are the **binding constraints** (and all the other ones are non-binding)."
      ]
    },
    {
      "cell_type": "markdown",
      "metadata": {
        "id": "pjZxdllnJubt"
      },
      "source": [
        "_____\n",
        "<a id=\"Gurobi_messages\"></a>\n",
        "# #10. Output messages in Gurobi.\n",
        "You may encounter several types of messages in Gurobi, depending on what happens in your optimization model. We briefly survey some of the most common ones here."
      ]
    },
    {
      "cell_type": "markdown",
      "metadata": {
        "id": "kM_d5GuYJubt"
      },
      "source": [
        "<a id=\"solved_optimality\"></a>\n",
        "## Model solved to optimality\n",
        "When everything is \"alright\" and Gurobi is able to solve your model to optimality, the output should look like like what we got after `In[27]`: it should report finding an **Optimal objective** with a finite value on the last line.\n",
        "\n",
        "**IMPORTANT!** Sometimes, you want to determine programatically whether Gurobi was able to solve a model to optimality (e.g., imagine you are solving many versions of the same model, with different parameters!) We can check whether Gurobi successfully solved a model to optimality using the model's `status` attribute. This can take several values (details [here](https://www.gurobi.com/documentation/current/refman/optimization_status_codes.html)); when optimality is achieved, the status should be **GRB.OPTIMAL**.\n",
        "\n",
        "Let's solve our base model one more time and print its status!"
      ]
    },
    {
      "cell_type": "code",
      "execution_count": 35,
      "metadata": {
        "scrolled": true,
        "colab": {
          "base_uri": "https://localhost:8080/"
        },
        "id": "KhOC4pF-Jubu",
        "outputId": "972f70ee-ba89-439c-f652-b265326045d1"
      },
      "outputs": [
        {
          "output_type": "stream",
          "name": "stdout",
          "text": [
            "Gurobi Optimizer version 10.0.3 build v10.0.3rc0 (linux64)\n",
            "\n",
            "CPU model: Intel(R) Xeon(R) CPU @ 2.20GHz, instruction set [SSE2|AVX|AVX2]\n",
            "Thread count: 1 physical cores, 2 logical processors, using up to 2 threads\n",
            "\n",
            "Optimize a model with 7 rows, 3 columns and 13 nonzeros\n",
            "Coefficient statistics:\n",
            "  Matrix range     [1e+00, 4e+03]\n",
            "  Objective range  [3e+00, 5e+00]\n",
            "  Bounds range     [0e+00, 0e+00]\n",
            "  RHS range        [2e+01, 2e+05]\n",
            "\n",
            "Solved in 0 iterations and 0.01 seconds (0.00 work units)\n",
            "Optimal objective  3.213095170e+03\n",
            "\n",
            "\n",
            "The optimality status is: 2. If optimal, the status should be 2.\n"
          ]
        }
      ],
      "source": [
        "# solve the model\n",
        "mymodel.optimize()\n",
        "\n",
        "# print the status\n",
        "print(f\"\\n\\nThe optimality status is: {mymodel.status}. If optimal, the status should be {GRB.OPTIMAL}.\")"
      ]
    },
    {
      "cell_type": "markdown",
      "metadata": {
        "id": "IwuMncWaJubu"
      },
      "source": [
        "<a id=\"infeasible\"></a>\n",
        "## Infeasible model"
      ]
    },
    {
      "cell_type": "markdown",
      "metadata": {
        "id": "V3BGVSDZJubu"
      },
      "source": [
        "As it turns out, if we required planting at least 1000 Elms (instead of just 15), the model would become __infeasible__, i.e., it would be impossible to find values for __M__, __E__ and __S__ to satisfy all the constraints. Let us see what happens in Gurobi when this is the case."
      ]
    },
    {
      "cell_type": "code",
      "execution_count": 36,
      "metadata": {
        "colab": {
          "base_uri": "https://localhost:8080/"
        },
        "id": "LpOwx6HBJubu",
        "outputId": "7e116c2c-13aa-4468-a6a3-d6f075061b80"
      },
      "outputs": [
        {
          "output_type": "stream",
          "name": "stdout",
          "text": [
            "Original constraint for Elms:\n",
            " min_elms \t Elm > 15.0 \n",
            "\n",
            "New constraint for Elms:\n",
            " min_elms \t Elm > 1000.0 \n",
            "\n",
            "Gurobi Optimizer version 10.0.3 build v10.0.3rc0 (linux64)\n",
            "\n",
            "CPU model: Intel(R) Xeon(R) CPU @ 2.20GHz, instruction set [SSE2|AVX|AVX2]\n",
            "Thread count: 1 physical cores, 2 logical processors, using up to 2 threads\n",
            "\n",
            "Optimize a model with 7 rows, 3 columns and 13 nonzeros\n",
            "Coefficient statistics:\n",
            "  Matrix range     [1e+00, 4e+03]\n",
            "  Objective range  [3e+00, 5e+00]\n",
            "  Bounds range     [0e+00, 0e+00]\n",
            "  RHS range        [5e+02, 2e+05]\n",
            "Iteration    Objective       Primal Inf.    Dual Inf.      Time\n",
            "       0    3.2130952e+03   6.268024e+04   0.000000e+00      0s\n",
            "\n",
            "Solved in 0 iterations and 0.02 seconds (0.00 work units)\n",
            "Infeasible model\n",
            "\n",
            "\n",
            "The optimality status is: 3. If infeasible, the status should be 3.\n"
          ]
        }
      ],
      "source": [
        "# recall what the constraint for Elm trees was originally -- let's print it here quickly\n",
        "c = all_constr[\"min_elms\"]\n",
        "print(f'Original constraint for Elms:\\n {c.ConstrName:} \\t {mymodel.getRow(c)} {c.Sense} {c.RHS} \\n')\n",
        "\n",
        "# let's CHANGE the constraint - we can do that with the setAttr(.) function\n",
        "c.RHS = 1000\n",
        "\n",
        "# force Gurobi to update\n",
        "mymodel.update()\n",
        "\n",
        "# print again to see the change\n",
        "print(f'New constraint for Elms:\\n {c.ConstrName:} \\t {mymodel.getRow(c)} {c.Sense} {c.RHS} \\n')\n",
        "\n",
        "# solve the new model\n",
        "mymodel.optimize()\n",
        "\n",
        "# print the status\n",
        "print(f\"\\n\\nThe optimality status is: {mymodel.status}. If infeasible, the status should be {GRB.INFEASIBLE}.\")"
      ]
    },
    {
      "cell_type": "markdown",
      "metadata": {
        "id": "jwzbwbHCJubu"
      },
      "source": [
        "Note the last few lines: Gurobi now reports __\"Infeasible model\"__, and when we print the optimality status 3, which exactly corresponds to **GRB.INFEASIBLE**."
      ]
    },
    {
      "cell_type": "markdown",
      "metadata": {
        "id": "cauGok3cJubv"
      },
      "source": [
        "### How to resolve infeasibilities?"
      ]
    },
    {
      "cell_type": "markdown",
      "metadata": {
        "id": "upw0KUCxJubv"
      },
      "source": [
        "<font color=blue> In a real-world model, we may not know where the infeasibilities are coming from. For instance, our model could contain a very large number of constraints and it may be hard to guess apriori which the culprits are. To narrow things down, it is very useful **to isolate a small set of constraints that taken together already make the model infeasible. We can do this using the model's `IIS()`** method, which stands for \"irreducible inconsistent subsystem\". This is a set of $n$ constraints with two important properties: </font>\n",
        " - <font color=blue> these $n$ constraints alone are impossible to satisfy </font>\n",
        " - <font color=blue> removing one of the constraints leaves the other $n-1$ constraints feasible </font>"
      ]
    },
    {
      "cell_type": "code",
      "execution_count": 37,
      "metadata": {
        "colab": {
          "base_uri": "https://localhost:8080/"
        },
        "id": "bcsRDABEJubv",
        "outputId": "cc1bfcbc-4fa5-4fa8-9b6d-8779a868acdd"
      },
      "outputs": [
        {
          "output_type": "stream",
          "name": "stdout",
          "text": [
            "\n",
            "IIS computed: 2 constraints and 0 bounds\n",
            "IIS runtime: 0.00 seconds (0.00 work units)\n"
          ]
        }
      ],
      "source": [
        "# compute the IIS\n",
        "mymodel.computeIIS()"
      ]
    },
    {
      "cell_type": "markdown",
      "metadata": {
        "id": "VKA8Vb7GJubv"
      },
      "source": [
        "According to this output, there is an IIS consisting of 2 constraints. To get more details, the easiest way is to write the model to an __ILP__ file. This file format is specifically designed to display IIS information, and is as easy to read/interpret as the __LP__ format we saw earlier. Here is how this would work."
      ]
    },
    {
      "cell_type": "code",
      "execution_count": 38,
      "metadata": {
        "colab": {
          "base_uri": "https://localhost:8080/"
        },
        "id": "F5DMd2scJubv",
        "outputId": "1bdba7f5-052c-42c7-b59d-a53cd7736550"
      },
      "outputs": [
        {
          "output_type": "stream",
          "name": "stdout",
          "text": [
            "\\ Model Simple Tree Planting Model_copy\n",
            "\\ LP format - for model browsing. Use MPS format to capture full model detail.\n",
            "Minimize\n",
            " \n",
            "Subject To\n",
            " Elm_seedlings: Elm <= 500\n",
            " min_elms: Elm >= 1000\n",
            "Bounds\n",
            " Elm free\n",
            "End\n",
            "\n"
          ]
        }
      ],
      "source": [
        "# write model information to an .ilp file\n",
        "mymodel.write(\"output_infeasible.ilp\")\n",
        "\n",
        "# open a file handle\n",
        "f = open(\"output_infeasible.ilp\", 'r')\n",
        "\n",
        "# read the contents and print them\n",
        "print( f.read() )\n",
        "\n",
        "# close the file handle\n",
        "f.close()"
      ]
    },
    {
      "cell_type": "markdown",
      "metadata": {
        "id": "Gy4sugl9Jubv"
      },
      "source": [
        "According to the output above, the 2 problematic constraints are '__Elm_seedling_avail__' and '__min_elms__'. In practice, this information would then allow you to revisit the constraints and think of ways to \"relax\" or change them.\n",
        "\n",
        "<font color=blue>**Good practice.** In models with lots of decisions, it may be hard to read things from the file. So alternatively, instead of printing the IIS to the file, you can obtain extra information about the constraints included in the IIS system using the `IISConstr` attribute. The following code shows how you can (i) print the entire set of constraints, highlighting the ones that are in the IIS, and (ii) print just the constraints in the IIS system.</font>"
      ]
    },
    {
      "cell_type": "code",
      "execution_count": 39,
      "metadata": {
        "colab": {
          "base_uri": "https://localhost:8080/",
          "height": 0
        },
        "id": "BAsTTsS-Jubv",
        "outputId": "e305ef3c-7fbe-4277-d4ae-c92b57b15bf0"
      },
      "outputs": [
        {
          "output_type": "stream",
          "name": "stdout",
          "text": [
            "Information on ALL the constraints. Last column shows which are in IIS.\n"
          ]
        },
        {
          "output_type": "display_data",
          "data": {
            "text/plain": [
              "    Constraint Name   LHS Value Sense  RHS Value        Slack  IIS\n",
              "0        land_avail   92.112082     <   150000.0     0.000000    0\n",
              "1       water_avail  347.969346     <    50000.0  4717.560726    0\n",
              "2   Maple_seedlings  582.797656     <     1000.0   417.202344    0\n",
              "3     Elm_seedlings   20.621196     <      500.0   479.378804    1\n",
              "4  Spruce_seedlings    0.000000     <     1500.0  1500.000000    0\n",
              "5          min_elms   20.621196     >     1000.0   979.378804    1\n",
              "6        carbon_seq  441.416427     >     1800.0     0.000000    0"
            ],
            "text/html": [
              "\n",
              "  <div id=\"df-ab83ef7f-bc60-4178-abba-5de7a19021bf\" class=\"colab-df-container\">\n",
              "    <div>\n",
              "<style scoped>\n",
              "    .dataframe tbody tr th:only-of-type {\n",
              "        vertical-align: middle;\n",
              "    }\n",
              "\n",
              "    .dataframe tbody tr th {\n",
              "        vertical-align: top;\n",
              "    }\n",
              "\n",
              "    .dataframe thead th {\n",
              "        text-align: right;\n",
              "    }\n",
              "</style>\n",
              "<table border=\"1\" class=\"dataframe\">\n",
              "  <thead>\n",
              "    <tr style=\"text-align: right;\">\n",
              "      <th></th>\n",
              "      <th>Constraint Name</th>\n",
              "      <th>LHS Value</th>\n",
              "      <th>Sense</th>\n",
              "      <th>RHS Value</th>\n",
              "      <th>Slack</th>\n",
              "      <th>IIS</th>\n",
              "    </tr>\n",
              "  </thead>\n",
              "  <tbody>\n",
              "    <tr>\n",
              "      <th>0</th>\n",
              "      <td>land_avail</td>\n",
              "      <td>92.112082</td>\n",
              "      <td>&lt;</td>\n",
              "      <td>150000.0</td>\n",
              "      <td>0.000000</td>\n",
              "      <td>0</td>\n",
              "    </tr>\n",
              "    <tr>\n",
              "      <th>1</th>\n",
              "      <td>water_avail</td>\n",
              "      <td>347.969346</td>\n",
              "      <td>&lt;</td>\n",
              "      <td>50000.0</td>\n",
              "      <td>4717.560726</td>\n",
              "      <td>0</td>\n",
              "    </tr>\n",
              "    <tr>\n",
              "      <th>2</th>\n",
              "      <td>Maple_seedlings</td>\n",
              "      <td>582.797656</td>\n",
              "      <td>&lt;</td>\n",
              "      <td>1000.0</td>\n",
              "      <td>417.202344</td>\n",
              "      <td>0</td>\n",
              "    </tr>\n",
              "    <tr>\n",
              "      <th>3</th>\n",
              "      <td>Elm_seedlings</td>\n",
              "      <td>20.621196</td>\n",
              "      <td>&lt;</td>\n",
              "      <td>500.0</td>\n",
              "      <td>479.378804</td>\n",
              "      <td>1</td>\n",
              "    </tr>\n",
              "    <tr>\n",
              "      <th>4</th>\n",
              "      <td>Spruce_seedlings</td>\n",
              "      <td>0.000000</td>\n",
              "      <td>&lt;</td>\n",
              "      <td>1500.0</td>\n",
              "      <td>1500.000000</td>\n",
              "      <td>0</td>\n",
              "    </tr>\n",
              "    <tr>\n",
              "      <th>5</th>\n",
              "      <td>min_elms</td>\n",
              "      <td>20.621196</td>\n",
              "      <td>&gt;</td>\n",
              "      <td>1000.0</td>\n",
              "      <td>979.378804</td>\n",
              "      <td>1</td>\n",
              "    </tr>\n",
              "    <tr>\n",
              "      <th>6</th>\n",
              "      <td>carbon_seq</td>\n",
              "      <td>441.416427</td>\n",
              "      <td>&gt;</td>\n",
              "      <td>1800.0</td>\n",
              "      <td>0.000000</td>\n",
              "      <td>0</td>\n",
              "    </tr>\n",
              "  </tbody>\n",
              "</table>\n",
              "</div>\n",
              "    <div class=\"colab-df-buttons\">\n",
              "\n",
              "  <div class=\"colab-df-container\">\n",
              "    <button class=\"colab-df-convert\" onclick=\"convertToInteractive('df-ab83ef7f-bc60-4178-abba-5de7a19021bf')\"\n",
              "            title=\"Convert this dataframe to an interactive table.\"\n",
              "            style=\"display:none;\">\n",
              "\n",
              "  <svg xmlns=\"http://www.w3.org/2000/svg\" height=\"24px\" viewBox=\"0 -960 960 960\">\n",
              "    <path d=\"M120-120v-720h720v720H120Zm60-500h600v-160H180v160Zm220 220h160v-160H400v160Zm0 220h160v-160H400v160ZM180-400h160v-160H180v160Zm440 0h160v-160H620v160ZM180-180h160v-160H180v160Zm440 0h160v-160H620v160Z\"/>\n",
              "  </svg>\n",
              "    </button>\n",
              "\n",
              "  <style>\n",
              "    .colab-df-container {\n",
              "      display:flex;\n",
              "      gap: 12px;\n",
              "    }\n",
              "\n",
              "    .colab-df-convert {\n",
              "      background-color: #E8F0FE;\n",
              "      border: none;\n",
              "      border-radius: 50%;\n",
              "      cursor: pointer;\n",
              "      display: none;\n",
              "      fill: #1967D2;\n",
              "      height: 32px;\n",
              "      padding: 0 0 0 0;\n",
              "      width: 32px;\n",
              "    }\n",
              "\n",
              "    .colab-df-convert:hover {\n",
              "      background-color: #E2EBFA;\n",
              "      box-shadow: 0px 1px 2px rgba(60, 64, 67, 0.3), 0px 1px 3px 1px rgba(60, 64, 67, 0.15);\n",
              "      fill: #174EA6;\n",
              "    }\n",
              "\n",
              "    .colab-df-buttons div {\n",
              "      margin-bottom: 4px;\n",
              "    }\n",
              "\n",
              "    [theme=dark] .colab-df-convert {\n",
              "      background-color: #3B4455;\n",
              "      fill: #D2E3FC;\n",
              "    }\n",
              "\n",
              "    [theme=dark] .colab-df-convert:hover {\n",
              "      background-color: #434B5C;\n",
              "      box-shadow: 0px 1px 3px 1px rgba(0, 0, 0, 0.15);\n",
              "      filter: drop-shadow(0px 1px 2px rgba(0, 0, 0, 0.3));\n",
              "      fill: #FFFFFF;\n",
              "    }\n",
              "  </style>\n",
              "\n",
              "    <script>\n",
              "      const buttonEl =\n",
              "        document.querySelector('#df-ab83ef7f-bc60-4178-abba-5de7a19021bf button.colab-df-convert');\n",
              "      buttonEl.style.display =\n",
              "        google.colab.kernel.accessAllowed ? 'block' : 'none';\n",
              "\n",
              "      async function convertToInteractive(key) {\n",
              "        const element = document.querySelector('#df-ab83ef7f-bc60-4178-abba-5de7a19021bf');\n",
              "        const dataTable =\n",
              "          await google.colab.kernel.invokeFunction('convertToInteractive',\n",
              "                                                    [key], {});\n",
              "        if (!dataTable) return;\n",
              "\n",
              "        const docLinkHtml = 'Like what you see? Visit the ' +\n",
              "          '<a target=\"_blank\" href=https://colab.research.google.com/notebooks/data_table.ipynb>data table notebook</a>'\n",
              "          + ' to learn more about interactive tables.';\n",
              "        element.innerHTML = '';\n",
              "        dataTable['output_type'] = 'display_data';\n",
              "        await google.colab.output.renderOutput(dataTable, element);\n",
              "        const docLink = document.createElement('div');\n",
              "        docLink.innerHTML = docLinkHtml;\n",
              "        element.appendChild(docLink);\n",
              "      }\n",
              "    </script>\n",
              "  </div>\n",
              "\n",
              "\n",
              "<div id=\"df-82525561-ef2a-49be-88e6-e0826b992d1b\">\n",
              "  <button class=\"colab-df-quickchart\" onclick=\"quickchart('df-82525561-ef2a-49be-88e6-e0826b992d1b')\"\n",
              "            title=\"Suggest charts.\"\n",
              "            style=\"display:none;\">\n",
              "\n",
              "<svg xmlns=\"http://www.w3.org/2000/svg\" height=\"24px\"viewBox=\"0 0 24 24\"\n",
              "     width=\"24px\">\n",
              "    <g>\n",
              "        <path d=\"M19 3H5c-1.1 0-2 .9-2 2v14c0 1.1.9 2 2 2h14c1.1 0 2-.9 2-2V5c0-1.1-.9-2-2-2zM9 17H7v-7h2v7zm4 0h-2V7h2v10zm4 0h-2v-4h2v4z\"/>\n",
              "    </g>\n",
              "</svg>\n",
              "  </button>\n",
              "\n",
              "<style>\n",
              "  .colab-df-quickchart {\n",
              "      --bg-color: #E8F0FE;\n",
              "      --fill-color: #1967D2;\n",
              "      --hover-bg-color: #E2EBFA;\n",
              "      --hover-fill-color: #174EA6;\n",
              "      --disabled-fill-color: #AAA;\n",
              "      --disabled-bg-color: #DDD;\n",
              "  }\n",
              "\n",
              "  [theme=dark] .colab-df-quickchart {\n",
              "      --bg-color: #3B4455;\n",
              "      --fill-color: #D2E3FC;\n",
              "      --hover-bg-color: #434B5C;\n",
              "      --hover-fill-color: #FFFFFF;\n",
              "      --disabled-bg-color: #3B4455;\n",
              "      --disabled-fill-color: #666;\n",
              "  }\n",
              "\n",
              "  .colab-df-quickchart {\n",
              "    background-color: var(--bg-color);\n",
              "    border: none;\n",
              "    border-radius: 50%;\n",
              "    cursor: pointer;\n",
              "    display: none;\n",
              "    fill: var(--fill-color);\n",
              "    height: 32px;\n",
              "    padding: 0;\n",
              "    width: 32px;\n",
              "  }\n",
              "\n",
              "  .colab-df-quickchart:hover {\n",
              "    background-color: var(--hover-bg-color);\n",
              "    box-shadow: 0 1px 2px rgba(60, 64, 67, 0.3), 0 1px 3px 1px rgba(60, 64, 67, 0.15);\n",
              "    fill: var(--button-hover-fill-color);\n",
              "  }\n",
              "\n",
              "  .colab-df-quickchart-complete:disabled,\n",
              "  .colab-df-quickchart-complete:disabled:hover {\n",
              "    background-color: var(--disabled-bg-color);\n",
              "    fill: var(--disabled-fill-color);\n",
              "    box-shadow: none;\n",
              "  }\n",
              "\n",
              "  .colab-df-spinner {\n",
              "    border: 2px solid var(--fill-color);\n",
              "    border-color: transparent;\n",
              "    border-bottom-color: var(--fill-color);\n",
              "    animation:\n",
              "      spin 1s steps(1) infinite;\n",
              "  }\n",
              "\n",
              "  @keyframes spin {\n",
              "    0% {\n",
              "      border-color: transparent;\n",
              "      border-bottom-color: var(--fill-color);\n",
              "      border-left-color: var(--fill-color);\n",
              "    }\n",
              "    20% {\n",
              "      border-color: transparent;\n",
              "      border-left-color: var(--fill-color);\n",
              "      border-top-color: var(--fill-color);\n",
              "    }\n",
              "    30% {\n",
              "      border-color: transparent;\n",
              "      border-left-color: var(--fill-color);\n",
              "      border-top-color: var(--fill-color);\n",
              "      border-right-color: var(--fill-color);\n",
              "    }\n",
              "    40% {\n",
              "      border-color: transparent;\n",
              "      border-right-color: var(--fill-color);\n",
              "      border-top-color: var(--fill-color);\n",
              "    }\n",
              "    60% {\n",
              "      border-color: transparent;\n",
              "      border-right-color: var(--fill-color);\n",
              "    }\n",
              "    80% {\n",
              "      border-color: transparent;\n",
              "      border-right-color: var(--fill-color);\n",
              "      border-bottom-color: var(--fill-color);\n",
              "    }\n",
              "    90% {\n",
              "      border-color: transparent;\n",
              "      border-bottom-color: var(--fill-color);\n",
              "    }\n",
              "  }\n",
              "</style>\n",
              "\n",
              "  <script>\n",
              "    async function quickchart(key) {\n",
              "      const quickchartButtonEl =\n",
              "        document.querySelector('#' + key + ' button');\n",
              "      quickchartButtonEl.disabled = true;  // To prevent multiple clicks.\n",
              "      quickchartButtonEl.classList.add('colab-df-spinner');\n",
              "      try {\n",
              "        const charts = await google.colab.kernel.invokeFunction(\n",
              "            'suggestCharts', [key], {});\n",
              "      } catch (error) {\n",
              "        console.error('Error during call to suggestCharts:', error);\n",
              "      }\n",
              "      quickchartButtonEl.classList.remove('colab-df-spinner');\n",
              "      quickchartButtonEl.classList.add('colab-df-quickchart-complete');\n",
              "    }\n",
              "    (() => {\n",
              "      let quickchartButtonEl =\n",
              "        document.querySelector('#df-82525561-ef2a-49be-88e6-e0826b992d1b button');\n",
              "      quickchartButtonEl.style.display =\n",
              "        google.colab.kernel.accessAllowed ? 'block' : 'none';\n",
              "    })();\n",
              "  </script>\n",
              "</div>\n",
              "    </div>\n",
              "  </div>\n"
            ]
          },
          "metadata": {}
        },
        {
          "output_type": "stream",
          "name": "stdout",
          "text": [
            "Printing ONLY the constraints in the IIS subsystem.\n"
          ]
        },
        {
          "output_type": "display_data",
          "data": {
            "text/plain": [
              "  Constraint Name  LHS Value Sense  RHS Value       Slack  IIS\n",
              "3   Elm_seedlings  20.621196     <      500.0  479.378804    1\n",
              "5        min_elms  20.621196     >     1000.0  979.378804    1"
            ],
            "text/html": [
              "\n",
              "  <div id=\"df-404cf28a-8555-49d4-88e4-96b64251da27\" class=\"colab-df-container\">\n",
              "    <div>\n",
              "<style scoped>\n",
              "    .dataframe tbody tr th:only-of-type {\n",
              "        vertical-align: middle;\n",
              "    }\n",
              "\n",
              "    .dataframe tbody tr th {\n",
              "        vertical-align: top;\n",
              "    }\n",
              "\n",
              "    .dataframe thead th {\n",
              "        text-align: right;\n",
              "    }\n",
              "</style>\n",
              "<table border=\"1\" class=\"dataframe\">\n",
              "  <thead>\n",
              "    <tr style=\"text-align: right;\">\n",
              "      <th></th>\n",
              "      <th>Constraint Name</th>\n",
              "      <th>LHS Value</th>\n",
              "      <th>Sense</th>\n",
              "      <th>RHS Value</th>\n",
              "      <th>Slack</th>\n",
              "      <th>IIS</th>\n",
              "    </tr>\n",
              "  </thead>\n",
              "  <tbody>\n",
              "    <tr>\n",
              "      <th>3</th>\n",
              "      <td>Elm_seedlings</td>\n",
              "      <td>20.621196</td>\n",
              "      <td>&lt;</td>\n",
              "      <td>500.0</td>\n",
              "      <td>479.378804</td>\n",
              "      <td>1</td>\n",
              "    </tr>\n",
              "    <tr>\n",
              "      <th>5</th>\n",
              "      <td>min_elms</td>\n",
              "      <td>20.621196</td>\n",
              "      <td>&gt;</td>\n",
              "      <td>1000.0</td>\n",
              "      <td>979.378804</td>\n",
              "      <td>1</td>\n",
              "    </tr>\n",
              "  </tbody>\n",
              "</table>\n",
              "</div>\n",
              "    <div class=\"colab-df-buttons\">\n",
              "\n",
              "  <div class=\"colab-df-container\">\n",
              "    <button class=\"colab-df-convert\" onclick=\"convertToInteractive('df-404cf28a-8555-49d4-88e4-96b64251da27')\"\n",
              "            title=\"Convert this dataframe to an interactive table.\"\n",
              "            style=\"display:none;\">\n",
              "\n",
              "  <svg xmlns=\"http://www.w3.org/2000/svg\" height=\"24px\" viewBox=\"0 -960 960 960\">\n",
              "    <path d=\"M120-120v-720h720v720H120Zm60-500h600v-160H180v160Zm220 220h160v-160H400v160Zm0 220h160v-160H400v160ZM180-400h160v-160H180v160Zm440 0h160v-160H620v160ZM180-180h160v-160H180v160Zm440 0h160v-160H620v160Z\"/>\n",
              "  </svg>\n",
              "    </button>\n",
              "\n",
              "  <style>\n",
              "    .colab-df-container {\n",
              "      display:flex;\n",
              "      gap: 12px;\n",
              "    }\n",
              "\n",
              "    .colab-df-convert {\n",
              "      background-color: #E8F0FE;\n",
              "      border: none;\n",
              "      border-radius: 50%;\n",
              "      cursor: pointer;\n",
              "      display: none;\n",
              "      fill: #1967D2;\n",
              "      height: 32px;\n",
              "      padding: 0 0 0 0;\n",
              "      width: 32px;\n",
              "    }\n",
              "\n",
              "    .colab-df-convert:hover {\n",
              "      background-color: #E2EBFA;\n",
              "      box-shadow: 0px 1px 2px rgba(60, 64, 67, 0.3), 0px 1px 3px 1px rgba(60, 64, 67, 0.15);\n",
              "      fill: #174EA6;\n",
              "    }\n",
              "\n",
              "    .colab-df-buttons div {\n",
              "      margin-bottom: 4px;\n",
              "    }\n",
              "\n",
              "    [theme=dark] .colab-df-convert {\n",
              "      background-color: #3B4455;\n",
              "      fill: #D2E3FC;\n",
              "    }\n",
              "\n",
              "    [theme=dark] .colab-df-convert:hover {\n",
              "      background-color: #434B5C;\n",
              "      box-shadow: 0px 1px 3px 1px rgba(0, 0, 0, 0.15);\n",
              "      filter: drop-shadow(0px 1px 2px rgba(0, 0, 0, 0.3));\n",
              "      fill: #FFFFFF;\n",
              "    }\n",
              "  </style>\n",
              "\n",
              "    <script>\n",
              "      const buttonEl =\n",
              "        document.querySelector('#df-404cf28a-8555-49d4-88e4-96b64251da27 button.colab-df-convert');\n",
              "      buttonEl.style.display =\n",
              "        google.colab.kernel.accessAllowed ? 'block' : 'none';\n",
              "\n",
              "      async function convertToInteractive(key) {\n",
              "        const element = document.querySelector('#df-404cf28a-8555-49d4-88e4-96b64251da27');\n",
              "        const dataTable =\n",
              "          await google.colab.kernel.invokeFunction('convertToInteractive',\n",
              "                                                    [key], {});\n",
              "        if (!dataTable) return;\n",
              "\n",
              "        const docLinkHtml = 'Like what you see? Visit the ' +\n",
              "          '<a target=\"_blank\" href=https://colab.research.google.com/notebooks/data_table.ipynb>data table notebook</a>'\n",
              "          + ' to learn more about interactive tables.';\n",
              "        element.innerHTML = '';\n",
              "        dataTable['output_type'] = 'display_data';\n",
              "        await google.colab.output.renderOutput(dataTable, element);\n",
              "        const docLink = document.createElement('div');\n",
              "        docLink.innerHTML = docLinkHtml;\n",
              "        element.appendChild(docLink);\n",
              "      }\n",
              "    </script>\n",
              "  </div>\n",
              "\n",
              "\n",
              "<div id=\"df-cef79b0d-3add-4cb5-b01f-aa8909729f12\">\n",
              "  <button class=\"colab-df-quickchart\" onclick=\"quickchart('df-cef79b0d-3add-4cb5-b01f-aa8909729f12')\"\n",
              "            title=\"Suggest charts.\"\n",
              "            style=\"display:none;\">\n",
              "\n",
              "<svg xmlns=\"http://www.w3.org/2000/svg\" height=\"24px\"viewBox=\"0 0 24 24\"\n",
              "     width=\"24px\">\n",
              "    <g>\n",
              "        <path d=\"M19 3H5c-1.1 0-2 .9-2 2v14c0 1.1.9 2 2 2h14c1.1 0 2-.9 2-2V5c0-1.1-.9-2-2-2zM9 17H7v-7h2v7zm4 0h-2V7h2v10zm4 0h-2v-4h2v4z\"/>\n",
              "    </g>\n",
              "</svg>\n",
              "  </button>\n",
              "\n",
              "<style>\n",
              "  .colab-df-quickchart {\n",
              "      --bg-color: #E8F0FE;\n",
              "      --fill-color: #1967D2;\n",
              "      --hover-bg-color: #E2EBFA;\n",
              "      --hover-fill-color: #174EA6;\n",
              "      --disabled-fill-color: #AAA;\n",
              "      --disabled-bg-color: #DDD;\n",
              "  }\n",
              "\n",
              "  [theme=dark] .colab-df-quickchart {\n",
              "      --bg-color: #3B4455;\n",
              "      --fill-color: #D2E3FC;\n",
              "      --hover-bg-color: #434B5C;\n",
              "      --hover-fill-color: #FFFFFF;\n",
              "      --disabled-bg-color: #3B4455;\n",
              "      --disabled-fill-color: #666;\n",
              "  }\n",
              "\n",
              "  .colab-df-quickchart {\n",
              "    background-color: var(--bg-color);\n",
              "    border: none;\n",
              "    border-radius: 50%;\n",
              "    cursor: pointer;\n",
              "    display: none;\n",
              "    fill: var(--fill-color);\n",
              "    height: 32px;\n",
              "    padding: 0;\n",
              "    width: 32px;\n",
              "  }\n",
              "\n",
              "  .colab-df-quickchart:hover {\n",
              "    background-color: var(--hover-bg-color);\n",
              "    box-shadow: 0 1px 2px rgba(60, 64, 67, 0.3), 0 1px 3px 1px rgba(60, 64, 67, 0.15);\n",
              "    fill: var(--button-hover-fill-color);\n",
              "  }\n",
              "\n",
              "  .colab-df-quickchart-complete:disabled,\n",
              "  .colab-df-quickchart-complete:disabled:hover {\n",
              "    background-color: var(--disabled-bg-color);\n",
              "    fill: var(--disabled-fill-color);\n",
              "    box-shadow: none;\n",
              "  }\n",
              "\n",
              "  .colab-df-spinner {\n",
              "    border: 2px solid var(--fill-color);\n",
              "    border-color: transparent;\n",
              "    border-bottom-color: var(--fill-color);\n",
              "    animation:\n",
              "      spin 1s steps(1) infinite;\n",
              "  }\n",
              "\n",
              "  @keyframes spin {\n",
              "    0% {\n",
              "      border-color: transparent;\n",
              "      border-bottom-color: var(--fill-color);\n",
              "      border-left-color: var(--fill-color);\n",
              "    }\n",
              "    20% {\n",
              "      border-color: transparent;\n",
              "      border-left-color: var(--fill-color);\n",
              "      border-top-color: var(--fill-color);\n",
              "    }\n",
              "    30% {\n",
              "      border-color: transparent;\n",
              "      border-left-color: var(--fill-color);\n",
              "      border-top-color: var(--fill-color);\n",
              "      border-right-color: var(--fill-color);\n",
              "    }\n",
              "    40% {\n",
              "      border-color: transparent;\n",
              "      border-right-color: var(--fill-color);\n",
              "      border-top-color: var(--fill-color);\n",
              "    }\n",
              "    60% {\n",
              "      border-color: transparent;\n",
              "      border-right-color: var(--fill-color);\n",
              "    }\n",
              "    80% {\n",
              "      border-color: transparent;\n",
              "      border-right-color: var(--fill-color);\n",
              "      border-bottom-color: var(--fill-color);\n",
              "    }\n",
              "    90% {\n",
              "      border-color: transparent;\n",
              "      border-bottom-color: var(--fill-color);\n",
              "    }\n",
              "  }\n",
              "</style>\n",
              "\n",
              "  <script>\n",
              "    async function quickchart(key) {\n",
              "      const quickchartButtonEl =\n",
              "        document.querySelector('#' + key + ' button');\n",
              "      quickchartButtonEl.disabled = true;  // To prevent multiple clicks.\n",
              "      quickchartButtonEl.classList.add('colab-df-spinner');\n",
              "      try {\n",
              "        const charts = await google.colab.kernel.invokeFunction(\n",
              "            'suggestCharts', [key], {});\n",
              "      } catch (error) {\n",
              "        console.error('Error during call to suggestCharts:', error);\n",
              "      }\n",
              "      quickchartButtonEl.classList.remove('colab-df-spinner');\n",
              "      quickchartButtonEl.classList.add('colab-df-quickchart-complete');\n",
              "    }\n",
              "    (() => {\n",
              "      let quickchartButtonEl =\n",
              "        document.querySelector('#df-cef79b0d-3add-4cb5-b01f-aa8909729f12 button');\n",
              "      quickchartButtonEl.style.display =\n",
              "        google.colab.kernel.accessAllowed ? 'block' : 'none';\n",
              "    })();\n",
              "  </script>\n",
              "</div>\n",
              "    </div>\n",
              "  </div>\n"
            ]
          },
          "metadata": {}
        }
      ],
      "source": [
        "# Create a nice data-frame to print useful information about constraints\n",
        "allConstraints = mymodel.getConstrs()\n",
        "all_constr_data = [ [c.ConstrName, mymodel.getRow(c).getValue(), c.Sense, \\\n",
        "                     c.RHS, c.Slack, c.IISConstr] for c in allConstraints ]\n",
        "\n",
        "# convert into a dataframe and print\n",
        "df = pd.DataFrame(all_constr_data, columns=[\"Constraint Name\", \"LHS Value\", \\\n",
        "                                            \"Sense\", \"RHS Value\", \"Slack\", \"IIS\"])\n",
        "print(\"Information on ALL the constraints. Last column shows which are in IIS.\")\n",
        "display(df)\n",
        "\n",
        "# if you want, you can display ONLY the constraints in the IIS system\n",
        "print(\"Printing ONLY the constraints in the IIS subsystem.\")\n",
        "display(df[df[\"IIS\"]==1])"
      ]
    },
    {
      "cell_type": "markdown",
      "metadata": {
        "id": "tKjgVWRLJubw"
      },
      "source": [
        "Let's revert back the min_elms constraint so that we return the model to its original form."
      ]
    },
    {
      "cell_type": "code",
      "execution_count": 40,
      "metadata": {
        "id": "ap6eHqruJubw"
      },
      "outputs": [],
      "source": [
        "# recall what the constraint for Elm trees was originally -- let's print it here quickly\n",
        "c = all_constr[\"min_elms\"]\n",
        "c.RHS = min_elms\n",
        "\n",
        "# force Gurobi to update\n",
        "mymodel.update()"
      ]
    },
    {
      "cell_type": "markdown",
      "metadata": {
        "id": "GhKp-Y6OJubw"
      },
      "source": [
        "<a id=\"unbounded\"></a>\n",
        "## Unbounded model\n",
        "In some cases, you may see a message from Gurobi that the movel is **Infeasible or unbounded**. First, let's understand how that could happen. Imagine that in our mode, we remove the carbon sequestration constraint and we allow the Maple decision to take negative values. (This is, of course, a silly example because it's not clear what the means physically...) But mathematically, it so happens that this means the model could continue to decrease the number of Maple trees to $-\\infty$ and thus obtain a cost of $-\\infty$ (the best cost you could ever hope for...)"
      ]
    },
    {
      "cell_type": "code",
      "execution_count": 41,
      "metadata": {
        "colab": {
          "base_uri": "https://localhost:8080/"
        },
        "id": "woe0QImDJubw",
        "outputId": "127f1542-3cf4-431f-cea1-61e824de82d3"
      },
      "outputs": [
        {
          "output_type": "stream",
          "name": "stdout",
          "text": [
            "Gurobi Optimizer version 10.0.3 build v10.0.3rc0 (linux64)\n",
            "\n",
            "CPU model: Intel(R) Xeon(R) CPU @ 2.20GHz, instruction set [SSE2|AVX|AVX2]\n",
            "Thread count: 1 physical cores, 2 logical processors, using up to 2 threads\n",
            "\n",
            "Optimize a model with 6 rows, 3 columns and 10 nonzeros\n",
            "Model fingerprint: 0x960b6889\n",
            "Coefficient statistics:\n",
            "  Matrix range     [1e+00, 4e+03]\n",
            "  Objective range  [3e+00, 5e+00]\n",
            "  Bounds range     [0e+00, 0e+00]\n",
            "  RHS range        [2e+01, 2e+05]\n",
            "Presolve time: 0.01s\n",
            "\n",
            "Solved in 0 iterations and 0.01 seconds (0.00 work units)\n",
            "Infeasible or unbounded model\n",
            "\n",
            "\n",
            "The optimality status is: 4. If unbounded or infeasible, status should be 4. If unbounded, status should be 5.\n"
          ]
        }
      ],
      "source": [
        "# remove the carbon sequestration constraint\n",
        "mymodel.remove(all_constr[\"carbon_seq\"])\n",
        "\n",
        "# allow the Maple decision to take negative values: we do this by changing the lower bound from 0 to -$\\infty$\n",
        "trees_to_plant[\"Maple\"].setAttr(\"LB\", -GRB.INFINITY)\n",
        "\n",
        "# solve the new model\n",
        "mymodel.optimize()\n",
        "\n",
        "# also print the optimality status\n",
        "print(f\"\\n\\nThe optimality status is: {mymodel.status}. If unbounded or infeasible, status should be {GRB.INF_OR_UNBD}. If unbounded, status should be {GRB.UNBOUNDED}.\")"
      ]
    },
    {
      "cell_type": "markdown",
      "metadata": {
        "id": "iaFNU47lJubw"
      },
      "source": [
        "The last line identifies the model as being **Infeasible or unbounded.** (If you need a more definitive answer, you will need to set the **DualReductions** parameter to 0 and reoptimize; see below for details.) Real-world models should never be unbounded, so if you ever encouter this, it likely means that either you forgot to include all the relevant constraints or you included them erroneously."
      ]
    },
    {
      "cell_type": "markdown",
      "source": [
        "To disambiguate when you are getting this **infeasible or unbounded** error, you should use the following code:"
      ],
      "metadata": {
        "id": "gNbF5MYbg7T8"
      }
    },
    {
      "cell_type": "code",
      "source": [
        "# set the dual reductions parameter to 0\n",
        "mymodel.setParam('DualReductions', 0)\n",
        "\n",
        "# reset the optimal status of the model\n",
        "mymodel.reset()\n",
        "\n",
        "# resolve\n",
        "mymodel.optimize()"
      ],
      "metadata": {
        "colab": {
          "base_uri": "https://localhost:8080/"
        },
        "id": "SNHlKH0JhEqV",
        "outputId": "cc7e1a52-eee0-443d-dafb-b8f96de49a86"
      },
      "execution_count": 42,
      "outputs": [
        {
          "output_type": "stream",
          "name": "stdout",
          "text": [
            "Set parameter DualReductions to value 0\n",
            "Discarded solution information\n",
            "Gurobi Optimizer version 10.0.3 build v10.0.3rc0 (linux64)\n",
            "\n",
            "CPU model: Intel(R) Xeon(R) CPU @ 2.20GHz, instruction set [SSE2|AVX|AVX2]\n",
            "Thread count: 1 physical cores, 2 logical processors, using up to 2 threads\n",
            "\n",
            "Optimize a model with 6 rows, 3 columns and 10 nonzeros\n",
            "Model fingerprint: 0x960b6889\n",
            "Coefficient statistics:\n",
            "  Matrix range     [1e+00, 4e+03]\n",
            "  Objective range  [3e+00, 5e+00]\n",
            "  Bounds range     [0e+00, 0e+00]\n",
            "  RHS range        [2e+01, 2e+05]\n",
            "Presolve time: 0.01s\n",
            "Presolved: 2 rows, 3 columns, 6 nonzeros\n",
            "\n",
            "Iteration    Objective       Primal Inf.    Dual Inf.      Time\n",
            "       0   -1.3500000e+30   0.000000e+00   1.350000e+00      0s\n",
            "\n",
            "Solved in 0 iterations and 0.01 seconds (0.00 work units)\n",
            "Unbounded model\n"
          ]
        }
      ]
    },
    {
      "cell_type": "markdown",
      "source": [
        "Note that above, we are now getting a report that the model is really unbounded.\n",
        "\n",
        "Let's reverse the changes that we made! Let's add back the constraint on carbon sequestration and the lower bound on Maple trees."
      ],
      "metadata": {
        "id": "wwUdmDGxhieX"
      }
    },
    {
      "cell_type": "code",
      "execution_count": 43,
      "metadata": {
        "id": "rRshyNuuJubx"
      },
      "outputs": [],
      "source": [
        "# add the constraint back\n",
        "all_constr[\"carbon_seq\"] = mymodel.addConstr( quicksum( trees_to_plant[t] * mydata.loc[t,\"SurvivalRate\"] * \\\n",
        "                                                       mydata.loc[t,\"SequestrationRate\"]  for t in tree_types ) \\\n",
        "                                             >= annual_seq_commit , \"carbon_seq\")\n",
        "\n",
        "# reset the lower bound\n",
        "trees_to_plant[\"Maple\"].setAttr(\"LB\", 0)\n",
        "\n",
        "# update the model\n",
        "mymodel.update()"
      ]
    },
    {
      "cell_type": "markdown",
      "metadata": {
        "id": "azhdJSGjJubx"
      },
      "source": [
        "_____\n",
        "<a id=\"change_model\"></a>\n",
        "# #11. Sensivity Analysis & Shadow Prices"
      ]
    },
    {
      "cell_type": "markdown",
      "metadata": {
        "id": "Du98G-tHJubx"
      },
      "source": [
        "The parameters / data in a problem are almost always imprecise, e.g., they are often estimated through some statistical procedure. It is therefore critical to understand how the results of the optimization would change when the data changes. This is known as __sensitivity analysis__, and is a critical step in understanding the model outputs and generating credible recommendations. More importantly though, this also allows calculating **shadow prices** for various resources or constraints in the system, which allows quantifying their ($) impact on the model. This is critically important and we'll discuss some real-world examples in class that leverage this for various pricing tasks. To illustrate the concepts, consider the following motivating question:\n",
        "\n",
        "<font color=blue>_Suppose that Oro Verde is considering changing its commitment for carbon sequestration: instead of 1,800, they are considering values from 1,500 to 2,100. We would like to know how Oro Verde's optimal costs would change when this commitment changes._</font>"
      ]
    },
    {
      "cell_type": "markdown",
      "metadata": {
        "id": "ulQdC7ubJubx"
      },
      "source": [
        "#### Doing Sensitivity \"Manually\"\n",
        "In some cases, it's most useful to do sensitivity manually, by changing parameters and resolving the model. The following code shows how to do that when changes occur in a constraint right-hand-side."
      ]
    },
    {
      "cell_type": "markdown",
      "metadata": {
        "id": "JFNbzhoQJubx"
      },
      "source": [
        "__Step 1.__ We start by creating a list of all the values that we want to test. We could manually construct a list with these values, but it is easier to rely on a python function called `arange` found in the `numpy` package. You can read more about it in [this documentation page](https://docs.scipy.org/doc/numpy-1.15.0/reference/generated/numpy.arange.html). This is similar - but more general - then the familiar `range` function. Its syntax is :\n",
        " > `arange(init_value, final_value, step)`\n",
        "\n",
        "where `init_value, final_value` and `step` can all be float values, i.e., they do not have to be integers. This returns the list of all values between `init_value` and `final_value` in increments of size `step`. __(Similar to `range`, this list includes `init_value` but excludes `final_value`.)__"
      ]
    },
    {
      "cell_type": "code",
      "execution_count": 44,
      "metadata": {
        "colab": {
          "base_uri": "https://localhost:8080/"
        },
        "id": "YGCFkf0eJubx",
        "outputId": "b572561b-ebba-4f17-e3bb-200ffd183753"
      },
      "outputs": [
        {
          "output_type": "stream",
          "name": "stdout",
          "text": [
            "[1600, 1650, 1700, 1750, 1800, 1850, 1900, 1950, 2000]\n"
          ]
        }
      ],
      "source": [
        "from numpy import arange   # import the function `arange` from the numpy package\n",
        "\n",
        "carbon_seq_values = list(arange(1600,2050,50))  # we use 21500 instead of 2100 so as to include the latter in the list\n",
        "print(carbon_seq_values)"
      ]
    },
    {
      "cell_type": "markdown",
      "metadata": {
        "id": "qhHYBWCpJubx"
      },
      "source": [
        "__Step 2.__ We need to obtain a handle on the constraint that we want to change. We already have our handy dictionary that allows doing that using the constraint name. (If you do not have a dictionary, you can use the method `getConstrByName` from the model, which allows recovering a constraint using its name.)"
      ]
    },
    {
      "cell_type": "code",
      "execution_count": 45,
      "metadata": {
        "scrolled": true,
        "colab": {
          "base_uri": "https://localhost:8080/"
        },
        "id": "ySQ9krNoJuby",
        "outputId": "5612df39-b92f-48e5-99c4-3edb01ca6f72"
      },
      "outputs": [
        {
          "output_type": "stream",
          "name": "stdout",
          "text": [
            "New constraint for CO2 seq:\n",
            " carbon_seq \t 3.01 Maple + 2.22 Elm + 2.2399999999999998 Spruce > 1800.0 \n",
            "\n"
          ]
        }
      ],
      "source": [
        "# recover the constraint with the name\n",
        "c = all_constr[\"carbon_seq\"]\n",
        "\n",
        "print(f'New constraint for CO2 seq:\\n {c.ConstrName:} \\t {mymodel.getRow(c)} {c.Sense} {c.RHS} \\n')"
      ]
    },
    {
      "cell_type": "markdown",
      "metadata": {
        "id": "I7eooSMNJuby"
      },
      "source": [
        "__Step 3.__ Within a `for` loop, change the constraint right-hand-side using the `setAttr` method, resolve the model, and store the objective."
      ]
    },
    {
      "cell_type": "code",
      "execution_count": 46,
      "metadata": {
        "scrolled": true,
        "colab": {
          "base_uri": "https://localhost:8080/"
        },
        "id": "RjiRYhpFJuby",
        "outputId": "28a24b50-3d00-4c9a-b369-012a4335e2cf"
      },
      "outputs": [
        {
          "output_type": "stream",
          "name": "stdout",
          "text": [
            "New constraint for CO2 seq:\n",
            " carbon_seq \t 3.01 Maple + 2.22 Elm + 2.2399999999999998 Spruce > 1600.0 \n",
            "\n",
            "Gurobi Optimizer version 10.0.3 build v10.0.3rc0 (linux64)\n",
            "\n",
            "CPU model: Intel(R) Xeon(R) CPU @ 2.20GHz, instruction set [SSE2|AVX|AVX2]\n",
            "Thread count: 1 physical cores, 2 logical processors, using up to 2 threads\n",
            "\n",
            "Optimize a model with 7 rows, 3 columns and 13 nonzeros\n",
            "Model fingerprint: 0x9139441d\n",
            "Coefficient statistics:\n",
            "  Matrix range     [1e+00, 4e+03]\n",
            "  Objective range  [3e+00, 5e+00]\n",
            "  Bounds range     [0e+00, 0e+00]\n",
            "  RHS range        [2e+01, 2e+05]\n",
            "Presolve time: 0.01s\n",
            "Presolved: 3 rows, 3 columns, 9 nonzeros\n",
            "\n",
            "Iteration    Objective       Primal Inf.    Dual Inf.      Time\n",
            "       0    2.8377850e+03   1.019648e+03   0.000000e+00      0s\n",
            "       1    2.8523617e+03   0.000000e+00   0.000000e+00      0s\n",
            "\n",
            "Solved in 1 iterations and 0.01 seconds (0.00 work units)\n",
            "Optimal objective  2.852361719e+03\n",
            "New constraint for CO2 seq:\n",
            " carbon_seq \t 3.01 Maple + 2.22 Elm + 2.2399999999999998 Spruce > 1650.0 \n",
            "\n",
            "Gurobi Optimizer version 10.0.3 build v10.0.3rc0 (linux64)\n",
            "\n",
            "CPU model: Intel(R) Xeon(R) CPU @ 2.20GHz, instruction set [SSE2|AVX|AVX2]\n",
            "Thread count: 1 physical cores, 2 logical processors, using up to 2 threads\n",
            "\n",
            "Optimize a model with 7 rows, 3 columns and 13 nonzeros\n",
            "Coefficient statistics:\n",
            "  Matrix range     [1e+00, 4e+03]\n",
            "  Objective range  [3e+00, 5e+00]\n",
            "  Bounds range     [0e+00, 0e+00]\n",
            "  RHS range        [2e+01, 2e+05]\n",
            "Iteration    Objective       Primal Inf.    Dual Inf.      Time\n",
            "       0    2.9425451e+03   0.000000e+00   0.000000e+00      0s\n",
            "\n",
            "Solved in 0 iterations and 0.01 seconds (0.00 work units)\n",
            "Optimal objective  2.942545082e+03\n",
            "New constraint for CO2 seq:\n",
            " carbon_seq \t 3.01 Maple + 2.22 Elm + 2.2399999999999998 Spruce > 1700.0 \n",
            "\n",
            "Gurobi Optimizer version 10.0.3 build v10.0.3rc0 (linux64)\n",
            "\n",
            "CPU model: Intel(R) Xeon(R) CPU @ 2.20GHz, instruction set [SSE2|AVX|AVX2]\n",
            "Thread count: 1 physical cores, 2 logical processors, using up to 2 threads\n",
            "\n",
            "Optimize a model with 7 rows, 3 columns and 13 nonzeros\n",
            "Coefficient statistics:\n",
            "  Matrix range     [1e+00, 4e+03]\n",
            "  Objective range  [3e+00, 5e+00]\n",
            "  Bounds range     [0e+00, 0e+00]\n",
            "  RHS range        [2e+01, 2e+05]\n",
            "Iteration    Objective       Primal Inf.    Dual Inf.      Time\n",
            "       0    3.0327284e+03   0.000000e+00   0.000000e+00      0s\n",
            "\n",
            "Solved in 0 iterations and 0.01 seconds (0.00 work units)\n",
            "Optimal objective  3.032728445e+03\n",
            "New constraint for CO2 seq:\n",
            " carbon_seq \t 3.01 Maple + 2.22 Elm + 2.2399999999999998 Spruce > 1750.0 \n",
            "\n",
            "Gurobi Optimizer version 10.0.3 build v10.0.3rc0 (linux64)\n",
            "\n",
            "CPU model: Intel(R) Xeon(R) CPU @ 2.20GHz, instruction set [SSE2|AVX|AVX2]\n",
            "Thread count: 1 physical cores, 2 logical processors, using up to 2 threads\n",
            "\n",
            "Optimize a model with 7 rows, 3 columns and 13 nonzeros\n",
            "Coefficient statistics:\n",
            "  Matrix range     [1e+00, 4e+03]\n",
            "  Objective range  [3e+00, 5e+00]\n",
            "  Bounds range     [0e+00, 0e+00]\n",
            "  RHS range        [2e+01, 2e+05]\n",
            "Iteration    Objective       Primal Inf.    Dual Inf.      Time\n",
            "       0    3.1229118e+03   0.000000e+00   0.000000e+00      0s\n",
            "\n",
            "Solved in 0 iterations and 0.01 seconds (0.00 work units)\n",
            "Optimal objective  3.122911808e+03\n",
            "New constraint for CO2 seq:\n",
            " carbon_seq \t 3.01 Maple + 2.22 Elm + 2.2399999999999998 Spruce > 1800.0 \n",
            "\n",
            "Gurobi Optimizer version 10.0.3 build v10.0.3rc0 (linux64)\n",
            "\n",
            "CPU model: Intel(R) Xeon(R) CPU @ 2.20GHz, instruction set [SSE2|AVX|AVX2]\n",
            "Thread count: 1 physical cores, 2 logical processors, using up to 2 threads\n",
            "\n",
            "Optimize a model with 7 rows, 3 columns and 13 nonzeros\n",
            "Coefficient statistics:\n",
            "  Matrix range     [1e+00, 4e+03]\n",
            "  Objective range  [3e+00, 5e+00]\n",
            "  Bounds range     [0e+00, 0e+00]\n",
            "  RHS range        [2e+01, 2e+05]\n",
            "Iteration    Objective       Primal Inf.    Dual Inf.      Time\n",
            "       0    3.2130952e+03   0.000000e+00   0.000000e+00      0s\n",
            "\n",
            "Solved in 0 iterations and 0.01 seconds (0.00 work units)\n",
            "Optimal objective  3.213095170e+03\n",
            "New constraint for CO2 seq:\n",
            " carbon_seq \t 3.01 Maple + 2.22 Elm + 2.2399999999999998 Spruce > 1850.0 \n",
            "\n",
            "Gurobi Optimizer version 10.0.3 build v10.0.3rc0 (linux64)\n",
            "\n",
            "CPU model: Intel(R) Xeon(R) CPU @ 2.20GHz, instruction set [SSE2|AVX|AVX2]\n",
            "Thread count: 1 physical cores, 2 logical processors, using up to 2 threads\n",
            "\n",
            "Optimize a model with 7 rows, 3 columns and 13 nonzeros\n",
            "Coefficient statistics:\n",
            "  Matrix range     [1e+00, 4e+03]\n",
            "  Objective range  [3e+00, 5e+00]\n",
            "  Bounds range     [0e+00, 0e+00]\n",
            "  RHS range        [2e+01, 2e+05]\n",
            "Iteration    Objective       Primal Inf.    Dual Inf.      Time\n",
            "       0    3.3032785e+03   0.000000e+00   0.000000e+00      0s\n",
            "\n",
            "Solved in 0 iterations and 0.01 seconds (0.00 work units)\n",
            "Optimal objective  3.303278533e+03\n",
            "New constraint for CO2 seq:\n",
            " carbon_seq \t 3.01 Maple + 2.22 Elm + 2.2399999999999998 Spruce > 1900.0 \n",
            "\n",
            "Gurobi Optimizer version 10.0.3 build v10.0.3rc0 (linux64)\n",
            "\n",
            "CPU model: Intel(R) Xeon(R) CPU @ 2.20GHz, instruction set [SSE2|AVX|AVX2]\n",
            "Thread count: 1 physical cores, 2 logical processors, using up to 2 threads\n",
            "\n",
            "Optimize a model with 7 rows, 3 columns and 13 nonzeros\n",
            "Coefficient statistics:\n",
            "  Matrix range     [1e+00, 4e+03]\n",
            "  Objective range  [3e+00, 5e+00]\n",
            "  Bounds range     [0e+00, 0e+00]\n",
            "  RHS range        [2e+01, 2e+05]\n",
            "Iteration    Objective       Primal Inf.    Dual Inf.      Time\n",
            "       0    3.3934619e+03   0.000000e+00   0.000000e+00      0s\n",
            "\n",
            "Solved in 0 iterations and 0.01 seconds (0.00 work units)\n",
            "Optimal objective  3.393461896e+03\n",
            "New constraint for CO2 seq:\n",
            " carbon_seq \t 3.01 Maple + 2.22 Elm + 2.2399999999999998 Spruce > 1950.0 \n",
            "\n",
            "Gurobi Optimizer version 10.0.3 build v10.0.3rc0 (linux64)\n",
            "\n",
            "CPU model: Intel(R) Xeon(R) CPU @ 2.20GHz, instruction set [SSE2|AVX|AVX2]\n",
            "Thread count: 1 physical cores, 2 logical processors, using up to 2 threads\n",
            "\n",
            "Optimize a model with 7 rows, 3 columns and 13 nonzeros\n",
            "Coefficient statistics:\n",
            "  Matrix range     [1e+00, 4e+03]\n",
            "  Objective range  [3e+00, 5e+00]\n",
            "  Bounds range     [0e+00, 0e+00]\n",
            "  RHS range        [2e+01, 2e+05]\n",
            "Iteration    Objective       Primal Inf.    Dual Inf.      Time\n",
            "       0    3.4836453e+03   0.000000e+00   0.000000e+00      0s\n",
            "\n",
            "Solved in 0 iterations and 0.01 seconds (0.00 work units)\n",
            "Optimal objective  3.483645259e+03\n",
            "New constraint for CO2 seq:\n",
            " carbon_seq \t 3.01 Maple + 2.22 Elm + 2.2399999999999998 Spruce > 2000.0 \n",
            "\n",
            "Gurobi Optimizer version 10.0.3 build v10.0.3rc0 (linux64)\n",
            "\n",
            "CPU model: Intel(R) Xeon(R) CPU @ 2.20GHz, instruction set [SSE2|AVX|AVX2]\n",
            "Thread count: 1 physical cores, 2 logical processors, using up to 2 threads\n",
            "\n",
            "Optimize a model with 7 rows, 3 columns and 13 nonzeros\n",
            "Coefficient statistics:\n",
            "  Matrix range     [1e+00, 4e+03]\n",
            "  Objective range  [3e+00, 5e+00]\n",
            "  Bounds range     [0e+00, 0e+00]\n",
            "  RHS range        [2e+01, 2e+05]\n",
            "Iteration    Objective       Primal Inf.    Dual Inf.      Time\n",
            "       0    3.5738286e+03   4.401559e+01   0.000000e+00      0s\n",
            "       1    3.5826737e+03   0.000000e+00   0.000000e+00      0s\n",
            "\n",
            "Solved in 1 iterations and 0.01 seconds (0.00 work units)\n",
            "Optimal objective  3.582673689e+03\n"
          ]
        }
      ],
      "source": [
        "# an empty list where we will store the values of the objective\n",
        "all_cost_values = []\n",
        "\n",
        "# set a flag to determine whether to run Gurobi silently\n",
        "run_silently = False\n",
        "if run_silently:\n",
        "    mymodel.setParam('OutputFlag',0)\n",
        "else:\n",
        "    mymodel.setParam('OutputFlag',1)\n",
        "\n",
        "# loop over all the values to test\n",
        "for min_seq in carbon_seq_values:\n",
        "\n",
        "    # change the RHS for the constraint\n",
        "    c.RHS = min_seq\n",
        "\n",
        "    # if you want to visualize the constraint, feel free to print it by uncommenting the code below\n",
        "    mymodel.update()\n",
        "    print(f'New constraint for CO2 seq:\\n {c.ConstrName:} \\t {mymodel.getRow(c)} {c.Sense} {c.RHS} \\n')\n",
        "\n",
        "    # resolve the model\n",
        "    mymodel.optimize()\n",
        "\n",
        "    # check the optimality status! if this is NOT GRB.OPTIMAL, it means the model was INFEASIBLE!\n",
        "    # in that case, we set the cost to -99999 (technically, it should be -infinity...)\n",
        "\n",
        "    if mymodel.status != GRB.OPTIMAL:\n",
        "        print(f\"When the minimum carbon sequestation is {min_seq}, the model is infeasible.\")\n",
        "    else:\n",
        "        # let's adjust the\n",
        "        all_cost_values += [mymodel.objVal]  # store the objective"
      ]
    },
    {
      "cell_type": "markdown",
      "metadata": {
        "id": "gOsaoDyqJuby"
      },
      "source": [
        "__Step 4.__ To visualize the dependency, it is useful to do a plot. We use the function `pyplot` from `matploblib`, which we import below. (See the tutorial for Class 2 for more details!)"
      ]
    },
    {
      "cell_type": "code",
      "execution_count": 47,
      "metadata": {
        "id": "xdgXzDggJuby"
      },
      "outputs": [],
      "source": [
        "import matplotlib.pyplot as plt"
      ]
    },
    {
      "cell_type": "code",
      "execution_count": 48,
      "metadata": {
        "colab": {
          "base_uri": "https://localhost:8080/",
          "height": 0
        },
        "id": "Zur-gv4rJubz",
        "outputId": "edc70531-aff9-4d47-dc19-93f58569b9ae"
      },
      "outputs": [
        {
          "output_type": "execute_result",
          "data": {
            "text/plain": [
              "Text(0, 0.5, 'Total costs for Oro Verde ($)')"
            ]
          },
          "metadata": {},
          "execution_count": 48
        },
        {
          "output_type": "display_data",
          "data": {
            "text/plain": [
              "<Figure size 640x480 with 1 Axes>"
            ],
            "image/png": "[encoded data removed]"
          },
          "metadata": {}
        }
      ],
      "source": [
        "plt.plot(carbon_seq_values, all_cost_values, marker='o', linestyle='solid', linewidth=2, markersize=4)\n",
        "plt.xlabel(\"Minimum sequestration (pounds CO2)\")\n",
        "plt.ylabel(\"Total costs for Oro Verde ($)\")"
      ]
    },
    {
      "cell_type": "markdown",
      "metadata": {
        "id": "gM4mIXMxJubz"
      },
      "source": [
        "Note that the dependency is actually __linear__! This is always the case in linear optimization problems when parameter changes occur in a limited range. (We will discuss what happens if we examined a wider range in class!)\n",
        "\n",
        "We can actually calculate the slope of the line above:"
      ]
    },
    {
      "cell_type": "code",
      "execution_count": 49,
      "metadata": {
        "scrolled": true,
        "colab": {
          "base_uri": "https://localhost:8080/"
        },
        "id": "5ddO2ruPJubz",
        "outputId": "960b63e2-60df-4d13-ae87-ad3a19981d27"
      },
      "outputs": [
        {
          "output_type": "stream",
          "name": "stdout",
          "text": [
            "The slope above is: 1.8037\n"
          ]
        }
      ],
      "source": [
        "print(f\"The slope above is: {(all_cost_values[1]-all_cost_values[0])/(carbon_seq_values[1]-carbon_seq_values[0]):.4f}\")"
      ]
    },
    {
      "cell_type": "markdown",
      "metadata": {
        "id": "0v-0zJ-FJubz"
      },
      "source": [
        "### Obtaining Sensitivity Information from Gurobi"
      ]
    },
    {
      "cell_type": "markdown",
      "metadata": {
        "id": "MwZSVsA5Jubz"
      },
      "source": [
        "The slope in the graph above actually bears a name in optimization: __shadow price__. More formally, __the shadow price of a constraint__ is the rate of change (i.e., slope) if you plotted the **optimal objective value** as a function on the **right-hand-side of one constraint**. Gurobi **calculates the shadow prices** as well the **allowable increase/decrease** range, which tells you for the range of changes in the right-hand-side within which the same shadow price value applies.\n",
        "\n",
        "<font color=red>**To obtain the shadow price and allowable increase/decrease for a constraint `con` after solving the model, use:**</font>\n",
        " - <font color=red>`con.Pi` to recover the shadow price (at the current value of the constraint right-hand-side) </font>\n",
        " - <font color=red>`con.SARHSLow` to recover the smallest value of the right-hand-side for which the same shadow price applies</font>\n",
        " - <font color=red>`con.SARHSUp` to recover the largest value of the right-hand-side for which the same shadow price applies.</font>\n",
        "  \n",
        "To see this, let's first resolve our original model (with the sequestration commitment equal to 1,800)."
      ]
    },
    {
      "cell_type": "code",
      "execution_count": 50,
      "metadata": {
        "colab": {
          "base_uri": "https://localhost:8080/"
        },
        "id": "3Es8T-uuJub0",
        "outputId": "33926c10-b1aa-4b20-dd19-fa958e8adbbb"
      },
      "outputs": [
        {
          "output_type": "stream",
          "name": "stdout",
          "text": [
            "Gurobi Optimizer version 10.0.3 build v10.0.3rc0 (linux64)\n",
            "\n",
            "CPU model: Intel(R) Xeon(R) CPU @ 2.20GHz, instruction set [SSE2|AVX|AVX2]\n",
            "Thread count: 1 physical cores, 2 logical processors, using up to 2 threads\n",
            "\n",
            "Optimize a model with 7 rows, 3 columns and 13 nonzeros\n",
            "Coefficient statistics:\n",
            "  Matrix range     [1e+00, 4e+03]\n",
            "  Objective range  [3e+00, 5e+00]\n",
            "  Bounds range     [0e+00, 0e+00]\n",
            "  RHS range        [2e+01, 2e+05]\n",
            "Iteration    Objective       Primal Inf.    Dual Inf.      Time\n",
            "       0    3.0945941e+03   6.905474e+03   0.000000e+00      0s\n",
            "       1    3.2130952e+03   0.000000e+00   0.000000e+00      0s\n",
            "\n",
            "Solved in 1 iterations and 0.01 seconds (0.00 work units)\n",
            "Optimal objective  3.213095170e+03\n",
            "The shadow price for the carbon_seq constraint is 1.8037.\n",
            "This shadow price applies down to a value of 92.5000 and up to a value of 1986.1086 for the RHS.\n"
          ]
        }
      ],
      "source": [
        "# let's obtain the constraint corresponding to carbon seq\n",
        "c = all_constr[\"carbon_seq\"]\n",
        "\n",
        "# reset the value to the original one\n",
        "c.RHS = annual_seq_commit\n",
        "\n",
        "# resolve the model\n",
        "mymodel.optimize()\n",
        "\n",
        "# get the shadow price and allowable increase-decrease\n",
        "print(f\"The shadow price for the carbon_seq constraint is {c.Pi:.4f}.\")\n",
        "print(f\"This shadow price applies down to a value of {c.SARHSLow:.4f} and up to a value of {c.SARHSUp:.4f} for the RHS.\")"
      ]
    },
    {
      "cell_type": "markdown",
      "metadata": {
        "id": "TMi78U06Jub0"
      },
      "source": [
        "We can display this information nicely for all the constraints with the following code. This creates a DataFrame with all the relevant information and displays it."
      ]
    },
    {
      "cell_type": "code",
      "execution_count": 51,
      "metadata": {
        "colab": {
          "base_uri": "https://localhost:8080/",
          "height": 269
        },
        "id": "8r3PEfI9Jub0",
        "outputId": "55f669b5-42f2-4e6c-e0be-3a4fb71683d0"
      },
      "outputs": [
        {
          "output_type": "display_data",
          "data": {
            "text/plain": [
              "    Constraint Name      LHS Value Sense  RHS Value        Slack  \\\n",
              "0        land_avail  150000.000000     <   150000.0     0.000000   \n",
              "1       water_avail   45282.439274     <    50000.0  4717.560726   \n",
              "2   Maple_seedlings     582.797656     <     1000.0   417.202344   \n",
              "3     Elm_seedlings      20.621196     <      500.0   479.378804   \n",
              "4  Spruce_seedlings       0.000000     <     1500.0  1500.000000   \n",
              "5          min_elms      20.621196     >       15.0    -5.621196   \n",
              "6        carbon_seq    1800.000000     >     1800.0     0.000000   \n",
              "\n",
              "   Shadow Price  Lower Limit RHS  Upper Limit RHS  \n",
              "0     -0.000223     1.303027e+05     1.829801e+06  \n",
              "1      0.000000     4.528244e+04              inf  \n",
              "2      0.000000     5.827977e+02              inf  \n",
              "3      0.000000     2.062120e+01              inf  \n",
              "4      0.000000     0.000000e+00              inf  \n",
              "5      0.000000             -inf     2.062120e+01  \n",
              "6      1.803667     9.250000e+01     1.986109e+03  "
            ],
            "text/html": [
              "\n",
              "  <div id=\"df-1cdabdab-15f4-465d-9d24-796d8d58dc13\" class=\"colab-df-container\">\n",
              "    <div>\n",
              "<style scoped>\n",
              "    .dataframe tbody tr th:only-of-type {\n",
              "        vertical-align: middle;\n",
              "    }\n",
              "\n",
              "    .dataframe tbody tr th {\n",
              "        vertical-align: top;\n",
              "    }\n",
              "\n",
              "    .dataframe thead th {\n",
              "        text-align: right;\n",
              "    }\n",
              "</style>\n",
              "<table border=\"1\" class=\"dataframe\">\n",
              "  <thead>\n",
              "    <tr style=\"text-align: right;\">\n",
              "      <th></th>\n",
              "      <th>Constraint Name</th>\n",
              "      <th>LHS Value</th>\n",
              "      <th>Sense</th>\n",
              "      <th>RHS Value</th>\n",
              "      <th>Slack</th>\n",
              "      <th>Shadow Price</th>\n",
              "      <th>Lower Limit RHS</th>\n",
              "      <th>Upper Limit RHS</th>\n",
              "    </tr>\n",
              "  </thead>\n",
              "  <tbody>\n",
              "    <tr>\n",
              "      <th>0</th>\n",
              "      <td>land_avail</td>\n",
              "      <td>150000.000000</td>\n",
              "      <td>&lt;</td>\n",
              "      <td>150000.0</td>\n",
              "      <td>0.000000</td>\n",
              "      <td>-0.000223</td>\n",
              "      <td>1.303027e+05</td>\n",
              "      <td>1.829801e+06</td>\n",
              "    </tr>\n",
              "    <tr>\n",
              "      <th>1</th>\n",
              "      <td>water_avail</td>\n",
              "      <td>45282.439274</td>\n",
              "      <td>&lt;</td>\n",
              "      <td>50000.0</td>\n",
              "      <td>4717.560726</td>\n",
              "      <td>0.000000</td>\n",
              "      <td>4.528244e+04</td>\n",
              "      <td>inf</td>\n",
              "    </tr>\n",
              "    <tr>\n",
              "      <th>2</th>\n",
              "      <td>Maple_seedlings</td>\n",
              "      <td>582.797656</td>\n",
              "      <td>&lt;</td>\n",
              "      <td>1000.0</td>\n",
              "      <td>417.202344</td>\n",
              "      <td>0.000000</td>\n",
              "      <td>5.827977e+02</td>\n",
              "      <td>inf</td>\n",
              "    </tr>\n",
              "    <tr>\n",
              "      <th>3</th>\n",
              "      <td>Elm_seedlings</td>\n",
              "      <td>20.621196</td>\n",
              "      <td>&lt;</td>\n",
              "      <td>500.0</td>\n",
              "      <td>479.378804</td>\n",
              "      <td>0.000000</td>\n",
              "      <td>2.062120e+01</td>\n",
              "      <td>inf</td>\n",
              "    </tr>\n",
              "    <tr>\n",
              "      <th>4</th>\n",
              "      <td>Spruce_seedlings</td>\n",
              "      <td>0.000000</td>\n",
              "      <td>&lt;</td>\n",
              "      <td>1500.0</td>\n",
              "      <td>1500.000000</td>\n",
              "      <td>0.000000</td>\n",
              "      <td>0.000000e+00</td>\n",
              "      <td>inf</td>\n",
              "    </tr>\n",
              "    <tr>\n",
              "      <th>5</th>\n",
              "      <td>min_elms</td>\n",
              "      <td>20.621196</td>\n",
              "      <td>&gt;</td>\n",
              "      <td>15.0</td>\n",
              "      <td>-5.621196</td>\n",
              "      <td>0.000000</td>\n",
              "      <td>-inf</td>\n",
              "      <td>2.062120e+01</td>\n",
              "    </tr>\n",
              "    <tr>\n",
              "      <th>6</th>\n",
              "      <td>carbon_seq</td>\n",
              "      <td>1800.000000</td>\n",
              "      <td>&gt;</td>\n",
              "      <td>1800.0</td>\n",
              "      <td>0.000000</td>\n",
              "      <td>1.803667</td>\n",
              "      <td>9.250000e+01</td>\n",
              "      <td>1.986109e+03</td>\n",
              "    </tr>\n",
              "  </tbody>\n",
              "</table>\n",
              "</div>\n",
              "    <div class=\"colab-df-buttons\">\n",
              "\n",
              "  <div class=\"colab-df-container\">\n",
              "    <button class=\"colab-df-convert\" onclick=\"convertToInteractive('df-1cdabdab-15f4-465d-9d24-796d8d58dc13')\"\n",
              "            title=\"Convert this dataframe to an interactive table.\"\n",
              "            style=\"display:none;\">\n",
              "\n",
              "  <svg xmlns=\"http://www.w3.org/2000/svg\" height=\"24px\" viewBox=\"0 -960 960 960\">\n",
              "    <path d=\"M120-120v-720h720v720H120Zm60-500h600v-160H180v160Zm220 220h160v-160H400v160Zm0 220h160v-160H400v160ZM180-400h160v-160H180v160Zm440 0h160v-160H620v160ZM180-180h160v-160H180v160Zm440 0h160v-160H620v160Z\"/>\n",
              "  </svg>\n",
              "    </button>\n",
              "\n",
              "  <style>\n",
              "    .colab-df-container {\n",
              "      display:flex;\n",
              "      gap: 12px;\n",
              "    }\n",
              "\n",
              "    .colab-df-convert {\n",
              "      background-color: #E8F0FE;\n",
              "      border: none;\n",
              "      border-radius: 50%;\n",
              "      cursor: pointer;\n",
              "      display: none;\n",
              "      fill: #1967D2;\n",
              "      height: 32px;\n",
              "      padding: 0 0 0 0;\n",
              "      width: 32px;\n",
              "    }\n",
              "\n",
              "    .colab-df-convert:hover {\n",
              "      background-color: #E2EBFA;\n",
              "      box-shadow: 0px 1px 2px rgba(60, 64, 67, 0.3), 0px 1px 3px 1px rgba(60, 64, 67, 0.15);\n",
              "      fill: #174EA6;\n",
              "    }\n",
              "\n",
              "    .colab-df-buttons div {\n",
              "      margin-bottom: 4px;\n",
              "    }\n",
              "\n",
              "    [theme=dark] .colab-df-convert {\n",
              "      background-color: #3B4455;\n",
              "      fill: #D2E3FC;\n",
              "    }\n",
              "\n",
              "    [theme=dark] .colab-df-convert:hover {\n",
              "      background-color: #434B5C;\n",
              "      box-shadow: 0px 1px 3px 1px rgba(0, 0, 0, 0.15);\n",
              "      filter: drop-shadow(0px 1px 2px rgba(0, 0, 0, 0.3));\n",
              "      fill: #FFFFFF;\n",
              "    }\n",
              "  </style>\n",
              "\n",
              "    <script>\n",
              "      const buttonEl =\n",
              "        document.querySelector('#df-1cdabdab-15f4-465d-9d24-796d8d58dc13 button.colab-df-convert');\n",
              "      buttonEl.style.display =\n",
              "        google.colab.kernel.accessAllowed ? 'block' : 'none';\n",
              "\n",
              "      async function convertToInteractive(key) {\n",
              "        const element = document.querySelector('#df-1cdabdab-15f4-465d-9d24-796d8d58dc13');\n",
              "        const dataTable =\n",
              "          await google.colab.kernel.invokeFunction('convertToInteractive',\n",
              "                                                    [key], {});\n",
              "        if (!dataTable) return;\n",
              "\n",
              "        const docLinkHtml = 'Like what you see? Visit the ' +\n",
              "          '<a target=\"_blank\" href=https://colab.research.google.com/notebooks/data_table.ipynb>data table notebook</a>'\n",
              "          + ' to learn more about interactive tables.';\n",
              "        element.innerHTML = '';\n",
              "        dataTable['output_type'] = 'display_data';\n",
              "        await google.colab.output.renderOutput(dataTable, element);\n",
              "        const docLink = document.createElement('div');\n",
              "        docLink.innerHTML = docLinkHtml;\n",
              "        element.appendChild(docLink);\n",
              "      }\n",
              "    </script>\n",
              "  </div>\n",
              "\n",
              "\n",
              "<div id=\"df-aaaaf29f-1d1f-4e2f-be01-96282eb4cae3\">\n",
              "  <button class=\"colab-df-quickchart\" onclick=\"quickchart('df-aaaaf29f-1d1f-4e2f-be01-96282eb4cae3')\"\n",
              "            title=\"Suggest charts.\"\n",
              "            style=\"display:none;\">\n",
              "\n",
              "<svg xmlns=\"http://www.w3.org/2000/svg\" height=\"24px\"viewBox=\"0 0 24 24\"\n",
              "     width=\"24px\">\n",
              "    <g>\n",
              "        <path d=\"M19 3H5c-1.1 0-2 .9-2 2v14c0 1.1.9 2 2 2h14c1.1 0 2-.9 2-2V5c0-1.1-.9-2-2-2zM9 17H7v-7h2v7zm4 0h-2V7h2v10zm4 0h-2v-4h2v4z\"/>\n",
              "    </g>\n",
              "</svg>\n",
              "  </button>\n",
              "\n",
              "<style>\n",
              "  .colab-df-quickchart {\n",
              "      --bg-color: #E8F0FE;\n",
              "      --fill-color: #1967D2;\n",
              "      --hover-bg-color: #E2EBFA;\n",
              "      --hover-fill-color: #174EA6;\n",
              "      --disabled-fill-color: #AAA;\n",
              "      --disabled-bg-color: #DDD;\n",
              "  }\n",
              "\n",
              "  [theme=dark] .colab-df-quickchart {\n",
              "      --bg-color: #3B4455;\n",
              "      --fill-color: #D2E3FC;\n",
              "      --hover-bg-color: #434B5C;\n",
              "      --hover-fill-color: #FFFFFF;\n",
              "      --disabled-bg-color: #3B4455;\n",
              "      --disabled-fill-color: #666;\n",
              "  }\n",
              "\n",
              "  .colab-df-quickchart {\n",
              "    background-color: var(--bg-color);\n",
              "    border: none;\n",
              "    border-radius: 50%;\n",
              "    cursor: pointer;\n",
              "    display: none;\n",
              "    fill: var(--fill-color);\n",
              "    height: 32px;\n",
              "    padding: 0;\n",
              "    width: 32px;\n",
              "  }\n",
              "\n",
              "  .colab-df-quickchart:hover {\n",
              "    background-color: var(--hover-bg-color);\n",
              "    box-shadow: 0 1px 2px rgba(60, 64, 67, 0.3), 0 1px 3px 1px rgba(60, 64, 67, 0.15);\n",
              "    fill: var(--button-hover-fill-color);\n",
              "  }\n",
              "\n",
              "  .colab-df-quickchart-complete:disabled,\n",
              "  .colab-df-quickchart-complete:disabled:hover {\n",
              "    background-color: var(--disabled-bg-color);\n",
              "    fill: var(--disabled-fill-color);\n",
              "    box-shadow: none;\n",
              "  }\n",
              "\n",
              "  .colab-df-spinner {\n",
              "    border: 2px solid var(--fill-color);\n",
              "    border-color: transparent;\n",
              "    border-bottom-color: var(--fill-color);\n",
              "    animation:\n",
              "      spin 1s steps(1) infinite;\n",
              "  }\n",
              "\n",
              "  @keyframes spin {\n",
              "    0% {\n",
              "      border-color: transparent;\n",
              "      border-bottom-color: var(--fill-color);\n",
              "      border-left-color: var(--fill-color);\n",
              "    }\n",
              "    20% {\n",
              "      border-color: transparent;\n",
              "      border-left-color: var(--fill-color);\n",
              "      border-top-color: var(--fill-color);\n",
              "    }\n",
              "    30% {\n",
              "      border-color: transparent;\n",
              "      border-left-color: var(--fill-color);\n",
              "      border-top-color: var(--fill-color);\n",
              "      border-right-color: var(--fill-color);\n",
              "    }\n",
              "    40% {\n",
              "      border-color: transparent;\n",
              "      border-right-color: var(--fill-color);\n",
              "      border-top-color: var(--fill-color);\n",
              "    }\n",
              "    60% {\n",
              "      border-color: transparent;\n",
              "      border-right-color: var(--fill-color);\n",
              "    }\n",
              "    80% {\n",
              "      border-color: transparent;\n",
              "      border-right-color: var(--fill-color);\n",
              "      border-bottom-color: var(--fill-color);\n",
              "    }\n",
              "    90% {\n",
              "      border-color: transparent;\n",
              "      border-bottom-color: var(--fill-color);\n",
              "    }\n",
              "  }\n",
              "</style>\n",
              "\n",
              "  <script>\n",
              "    async function quickchart(key) {\n",
              "      const quickchartButtonEl =\n",
              "        document.querySelector('#' + key + ' button');\n",
              "      quickchartButtonEl.disabled = true;  // To prevent multiple clicks.\n",
              "      quickchartButtonEl.classList.add('colab-df-spinner');\n",
              "      try {\n",
              "        const charts = await google.colab.kernel.invokeFunction(\n",
              "            'suggestCharts', [key], {});\n",
              "      } catch (error) {\n",
              "        console.error('Error during call to suggestCharts:', error);\n",
              "      }\n",
              "      quickchartButtonEl.classList.remove('colab-df-spinner');\n",
              "      quickchartButtonEl.classList.add('colab-df-quickchart-complete');\n",
              "    }\n",
              "    (() => {\n",
              "      let quickchartButtonEl =\n",
              "        document.querySelector('#df-aaaaf29f-1d1f-4e2f-be01-96282eb4cae3 button');\n",
              "      quickchartButtonEl.style.display =\n",
              "        google.colab.kernel.accessAllowed ? 'block' : 'none';\n",
              "    })();\n",
              "  </script>\n",
              "</div>\n",
              "    </div>\n",
              "  </div>\n"
            ]
          },
          "metadata": {}
        }
      ],
      "source": [
        "# Create a data-frame to print everything\n",
        "allConstraints = mymodel.getConstrs()\n",
        "\n",
        "all_constr_data = [ [c.ConstrName, mymodel.getRow(c).getValue(), c.Sense, c.RHS, c.Slack, c.Pi, c.SARHSLow, c.SARHSUp ] \\\n",
        "                   for c in allConstraints ]\n",
        "\n",
        "# convert into a dataframe and print\n",
        "df = pd.DataFrame(all_constr_data, columns=[\"Constraint Name\", \"LHS Value\", \"Sense\", \"RHS Value\", \"Slack\", \"Shadow Price\",\\\n",
        "                                           \"Lower Limit RHS\", \"Upper Limit RHS\"])\n",
        "display(df)"
      ]
    },
    {
      "cell_type": "code",
      "execution_count": 51,
      "metadata": {
        "id": "wrPCZFOTJub0"
      },
      "outputs": [],
      "source": []
    }
  ],
  "metadata": {
    "kernelspec": {
      "display_name": "Python 3 (ipykernel)",
      "language": "python",
      "name": "python3"
    },
    "language_info": {
      "codemirror_mode": {
        "name": "ipython",
        "version": 3
      },
      "file_extension": ".py",
      "mimetype": "text/x-python",
      "name": "python",
      "nbconvert_exporter": "python",
      "pygments_lexer": "ipython3",
      "version": "3.11.4"
    },
    "colab": {
      "provenance": [],
      "collapsed_sections": [
        "H5epUYTOU501",
        "3bENG5H4Jua8",
        "Fpn6nkIVJubB",
        "4XNjhcr7JubF",
        "EIqcjJmhJubJ",
        "R6B8BfO8JubL",
        "6ZYCHjhDJubL",
        "gzPQixcQJubM",
        "NLLBKrI-JubO",
        "VtYkw5sUJubS",
        "3q6I0B_eJubf",
        "ijZh05BcJubl",
        "GrSHYFLnJubl",
        "ugKinB1OJubm",
        "t4sziL73Jubo",
        "fMRSx6MhJubp",
        "rNpp8BjnJubr",
        "RdA9DxntJubr",
        "pjZxdllnJubt",
        "kM_d5GuYJubt",
        "cauGok3cJubv",
        "GhKp-Y6OJubw",
        "ulQdC7ubJubx"
      ],
      "toc_visible": true,
      "include_colab_link": true
    }
  },
  "nbformat": 4,
  "nbformat_minor": 0
}