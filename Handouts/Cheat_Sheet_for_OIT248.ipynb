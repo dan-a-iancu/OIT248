{
  "cells": [
    {
      "cell_type": "markdown",
      "metadata": {
        "id": "view-in-github",
        "colab_type": "text"
      },
      "source": [
        "<a href=\"https://colab.research.google.com/github/dan-a-iancu/OIT248/blob/main/Handouts/Cheat_Sheet_for_OIT248.ipynb\" target=\"_parent\"><img src=\"https://colab.research.google.com/assets/colab-badge.svg\" alt=\"Open In Colab\"/></a>"
      ]
    },
    {
      "cell_type": "markdown",
      "metadata": {
        "id": "caN7N4vBCaT2"
      },
      "source": [
        "# What is this about?\n",
        "This notebook serve as a useful “cheat-sheet” for all students attending OIT 248. You can navigate to the various sections using the `Table of contents` from the left.\n",
        "\n"
      ]
    },
    {
      "cell_type": "markdown",
      "metadata": {
        "id": "4e2QzVgcEdPq"
      },
      "source": [
        "# Comments\n",
        "Comments in Python start with a `#` like directly below"
      ]
    },
    {
      "cell_type": "code",
      "execution_count": null,
      "metadata": {
        "colab": {
          "base_uri": "https://localhost:8080/"
        },
        "id": "dngXKf6QEctO",
        "outputId": "d6d14c94-9032-4bdb-b3d3-ff649a85ac4e"
      },
      "outputs": [
        {
          "name": "stdout",
          "output_type": "stream",
          "text": [
            "Welcome to OIT 248! The number of minutes in a leap year is: 527040\n"
          ]
        }
      ],
      "source": [
        "# this line and the line below it are comments and Python will ignore them\n",
        "# print(\"Something interesting\")\n",
        "\n",
        "# instead, the line below this will print a welcome message\n",
        "print(\"Welcome to OIT 248! The number of minutes in a leap year is:\", 366*24*60)"
      ]
    },
    {
      "cell_type": "markdown",
      "metadata": {
        "id": "SFSimwR-FtwC"
      },
      "source": [
        "# Variables\n",
        "A **variable** in Python is a container for storing data. The variable is created the moment you first assign a value to it."
      ]
    },
    {
      "cell_type": "code",
      "execution_count": null,
      "metadata": {
        "id": "GsMo2bXSCMIR"
      },
      "outputs": [],
      "source": [
        "# create a variable named 'x' that stores the value 10\n",
        "x = 10\n",
        "\n",
        "# another variable named 'y' that stores the string \"Mary\"\n",
        "y = \"Mary\""
      ]
    },
    {
      "cell_type": "markdown",
      "metadata": {
        "id": "Olam8qV0Ij7J"
      },
      "source": [
        "Once the variable is created, you can use it in code. For instance, let's calculate $x^2$ <br>"
      ]
    },
    {
      "cell_type": "code",
      "execution_count": null,
      "metadata": {
        "colab": {
          "base_uri": "https://localhost:8080/"
        },
        "id": "CcfzF8WEIrjB",
        "outputId": "090db8f6-6187-4601-81e9-170f53293ba4"
      },
      "outputs": [
        {
          "data": {
            "text/plain": [
              "100"
            ]
          },
          "execution_count": 3,
          "metadata": {},
          "output_type": "execute_result"
        }
      ],
      "source": [
        "x**2"
      ]
    },
    {
      "cell_type": "markdown",
      "metadata": {
        "id": "UidJXGRrI1gd"
      },
      "source": [
        "Variable names are case-sensitive"
      ]
    },
    {
      "cell_type": "code",
      "execution_count": null,
      "metadata": {
        "id": "wXgyHAiIKCvK"
      },
      "outputs": [],
      "source": [
        "little_john = 10\n",
        "\n",
        "# the next line would create an error if you uncomment and run it!\n",
        "# Little_john"
      ]
    },
    {
      "cell_type": "markdown",
      "metadata": {
        "id": "qZ3CRTSjK5S2"
      },
      "source": [
        "# Data Types (int, float, bool, list, etc.)\n"
      ]
    },
    {
      "cell_type": "markdown",
      "metadata": {
        "id": "ZQ0GAOIFGP9g"
      },
      "source": [
        "Each variable stores a certain type of data. You can read more about data types <a href=\"https://www.w3schools.com/python/python_datatypes.asp\">here</a>. The data types that we'll encounter most often in OIT 248 are: integers, floats, strings, booleans, lists, tuples, dictionaries."
      ]
    },
    {
      "cell_type": "code",
      "execution_count": null,
      "metadata": {
        "id": "epVGfPhJG7Ck"
      },
      "outputs": [],
      "source": [
        "# integers (int)\n",
        "x = 10\n",
        "\n",
        "# floating point numbers (float)\n",
        "z = 4.5\n",
        "\n",
        "# strings (str) - can be created with either ` or \"\"\n",
        "one_string = \"Why does Arbuckle not have salmon today?\"\n",
        "another_string = 'I LOVE THE GSB!'\n",
        "\n",
        "# boolean (bool)\n",
        "is_OIT248_amazing = True\n",
        "\n",
        "# list - can be created in several ways:\n",
        "my_list = list((\"apples\",\"oranges\",\"bananas\"))   # using the `list` function - here, we create a list with strings\n",
        "another_list = [1,2,3,4]                         # using the [] operator - here, we create a list with integers\n",
        "\n",
        "# dictionary (dict)\n",
        "tennis_trophies = {}\n",
        "tennis_trophies[\"Federer\"] = 20\n",
        "tennis_trophies[\"Nadal\"] = 22          # at least as of 2023...\n",
        "tennis_trophies[\"Djokovic\"] = 24       # at least as of 2023..."
      ]
    },
    {
      "cell_type": "markdown",
      "metadata": {
        "id": "hMAiPPCEIgg7"
      },
      "source": [
        "This is not likely, but if you ever need to, you can find out the type of a variable with the command `type(.)`"
      ]
    },
    {
      "cell_type": "code",
      "execution_count": null,
      "metadata": {
        "colab": {
          "base_uri": "https://localhost:8080/"
        },
        "id": "Aft5wmIvLL0c",
        "outputId": "3abed9a8-556c-4637-f557-e42afd661e66"
      },
      "outputs": [
        {
          "data": {
            "text/plain": [
              "float"
            ]
          },
          "execution_count": 6,
          "metadata": {},
          "output_type": "execute_result"
        }
      ],
      "source": [
        "type(z)"
      ]
    },
    {
      "cell_type": "markdown",
      "metadata": {
        "id": "qIQKMyeHTC7P"
      },
      "source": [
        "Also likely not needed in OIT248, but you can convert a data type into another type by casting it as below"
      ]
    },
    {
      "cell_type": "code",
      "execution_count": null,
      "metadata": {
        "colab": {
          "base_uri": "https://localhost:8080/"
        },
        "id": "JYYljxPySdKv",
        "outputId": "e580e54a-4035-47b8-e818-9a462a76c0ac"
      },
      "outputs": [
        {
          "data": {
            "text/plain": [
              "4"
            ]
          },
          "execution_count": 7,
          "metadata": {},
          "output_type": "execute_result"
        }
      ],
      "source": [
        "int(z)"
      ]
    },
    {
      "cell_type": "markdown",
      "metadata": {
        "id": "qRvUJ7zrSehw"
      },
      "source": [
        "We will cover the more complex data types (lists, dictionaries) separately.  <br>"
      ]
    },
    {
      "cell_type": "markdown",
      "metadata": {
        "id": "AjTVm_8WPFSr"
      },
      "source": [
        "# Operators\n",
        "We have already been using several operators above. The most common ones you will see in OIT 248 are:"
      ]
    },
    {
      "cell_type": "markdown",
      "metadata": {
        "id": "3g7mhPSFTXnC"
      },
      "source": [
        "## Arithmetic (+,-,*, etc.)"
      ]
    },
    {
      "cell_type": "code",
      "execution_count": null,
      "metadata": {
        "colab": {
          "base_uri": "https://localhost:8080/"
        },
        "id": "g1wgWCnEPN_k",
        "outputId": "ed1b4bf3-5e30-41df-bf69-99173c74274c"
      },
      "outputs": [
        {
          "name": "stdout",
          "output_type": "stream",
          "text": [
            "4\n",
            "1\n",
            "12\n",
            "33.0\n",
            "2\n",
            "16\n",
            "3\n"
          ]
        }
      ],
      "source": [
        "print(2 + 2)       # addition\n",
        "print(3 - 2)       # subtraction\n",
        "print(2 * 6)       # multiplication\n",
        "print(66 / 2)      # division\n",
        "print(8 % 3)       # modulus\n",
        "print(2**4)        # exponentiation\n",
        "print(10 // 3)     # floor division"
      ]
    },
    {
      "cell_type": "markdown",
      "metadata": {
        "id": "E9kagT2cTaNi"
      },
      "source": [
        "## Assignment (=, +=, -+, etc.)\n"
      ]
    },
    {
      "cell_type": "code",
      "execution_count": null,
      "metadata": {
        "id": "lobmJN3cTeHm"
      },
      "outputs": [],
      "source": [
        "x = 5               # simple assignment\n",
        "x += 3              # this is the same as x = x + 3\n",
        "x -= 3              # this is the same as x = x - 3\n",
        "x *= 3              # this is the same as x = x * 3\n",
        "x /= 3              # this is the same as x = x / 3\n",
        "x **= 3             # this is the same as x = x**3"
      ]
    },
    {
      "cell_type": "markdown",
      "metadata": {
        "id": "REAspWUQT9nl"
      },
      "source": [
        "## Comparison (==, !=, >=, etc.)"
      ]
    },
    {
      "cell_type": "code",
      "execution_count": null,
      "metadata": {
        "colab": {
          "base_uri": "https://localhost:8080/"
        },
        "id": "kZIs_d-nUAG5",
        "outputId": "a1336ec4-87e3-4b7e-ba7f-6a18c9443d6c"
      },
      "outputs": [
        {
          "name": "stdout",
          "output_type": "stream",
          "text": [
            "False\n",
            "True\n",
            "False\n",
            "True\n",
            "True\n",
            "True\n"
          ]
        }
      ],
      "source": [
        "print(5 == 6)        #  a==b checks if a is equal to b\n",
        "print(5 != 6)        #  a!=b checks if a is different from b\n",
        "print(5 > 5)         #  a > b checks if a is strictly bigger than b\n",
        "print(5 < 9)         #  a < b checks if a is strictly less than b\n",
        "print(5 >= 5)        #  a >= b checks if a is at least as large as b\n",
        "print(5 <= 6)        #  a <= b checks if a is at least as large as b"
      ]
    },
    {
      "cell_type": "markdown",
      "metadata": {
        "id": "TYU2bJtwWFM0"
      },
      "source": [
        "## Logical (and, or, not)"
      ]
    },
    {
      "cell_type": "code",
      "execution_count": null,
      "metadata": {
        "colab": {
          "base_uri": "https://localhost:8080/"
        },
        "id": "qbvwmNxSWHJ7",
        "outputId": "ba2a49d6-bba3-403b-b41a-fe2f9ef81e0d"
      },
      "outputs": [
        {
          "name": "stdout",
          "output_type": "stream",
          "text": [
            "False\n",
            "True\n",
            "False\n"
          ]
        }
      ],
      "source": [
        "print((5 < 6) and (7 < 5))  #  'a and b' returns True is both 'a' and 'b' are true\n",
        "print((5 < 6) or (7 < 5))   #  'a or b' returns True is at least one of 'a','b' is true\n",
        "print(not (5 < 6))          #  'not a' reverses 'a'"
      ]
    },
    {
      "cell_type": "markdown",
      "metadata": {
        "id": "E2qtjD3UXT9t"
      },
      "source": [
        "## Membership"
      ]
    },
    {
      "cell_type": "code",
      "execution_count": null,
      "metadata": {
        "colab": {
          "base_uri": "https://localhost:8080/"
        },
        "id": "OKrhUjdfXTIa",
        "outputId": "605cfe06-cf0b-4862-eb35-d786848d334c"
      },
      "outputs": [
        {
          "name": "stdout",
          "output_type": "stream",
          "text": [
            "True\n",
            "False\n"
          ]
        }
      ],
      "source": [
        "print(5 in [3,4,5])        #  'a in b' returns True if 'a' is contained in 'b'\n",
        "print(5 not in [3,4,5])    #  'a not in b' returns True if 'a' is not contained in 'b'"
      ]
    },
    {
      "cell_type": "markdown",
      "metadata": {
        "id": "oNQKp0XoaeFG"
      },
      "source": [
        "# Ranges\n",
        "The `range` function in Python returns a sequence of numbers. It syntax is:\n",
        ">  `range(start,stop,step)`\n",
        "\n",
        "- `start` is optional and is an **integer** that specifies at which position to start. If you omit this, the default value is 0.\n",
        "- `stop` is required and is an **integer** that specifies at which position to end.  This value will not be included, so the range will actually end with the value `stop-1`.\n",
        "- `step` is an optional **integer** and specifies the increment. If you omit it, the default is 1.\n",
        "\n",
        "This function will be very useful, so please familiarize yourself with the examples below."
      ]
    },
    {
      "cell_type": "markdown",
      "metadata": {
        "id": "URwa6nI4skiv"
      },
      "source": [
        "Create a range with a single argument."
      ]
    },
    {
      "cell_type": "code",
      "execution_count": null,
      "metadata": {
        "colab": {
          "base_uri": "https://localhost:8080/"
        },
        "id": "rbIko_OgYcJd",
        "outputId": "3f3ee38d-ed63-477c-90ac-37a13b1c9831"
      },
      "outputs": [
        {
          "data": {
            "text/plain": [
              "range(0, 5)"
            ]
          },
          "execution_count": 13,
          "metadata": {},
          "output_type": "execute_result"
        }
      ],
      "source": [
        "range(5)"
      ]
    },
    {
      "cell_type": "markdown",
      "metadata": {
        "id": "SuQ_t2PusvUv"
      },
      "source": [
        "By itself, this is not terribly useful. But we can loop through it using a `for` statement (if you're unfamiliar with `for` loops, check the later section)"
      ]
    },
    {
      "cell_type": "code",
      "execution_count": null,
      "metadata": {
        "colab": {
          "base_uri": "https://localhost:8080/"
        },
        "id": "o0-lAa-HsuZD",
        "outputId": "31871022-05fd-4b37-efd7-cef51f36efad"
      },
      "outputs": [
        {
          "name": "stdout",
          "output_type": "stream",
          "text": [
            "0\n",
            "1\n",
            "2\n",
            "3\n",
            "4\n"
          ]
        }
      ],
      "source": [
        "for i in range(5):\n",
        "    print(i)"
      ]
    },
    {
      "cell_type": "markdown",
      "metadata": {
        "id": "kVMz6XGStNCt"
      },
      "source": [
        "Now to play with the other versions of `range`"
      ]
    },
    {
      "cell_type": "code",
      "execution_count": null,
      "metadata": {
        "colab": {
          "base_uri": "https://localhost:8080/"
        },
        "id": "afbHALrctQ_6",
        "outputId": "f87f05a1-9109-4fd1-d2df-1bb4217c60ba"
      },
      "outputs": [
        {
          "name": "stdout",
          "output_type": "stream",
          "text": [
            "Here are all the integers from 5 to 10, INCLUDING 10\n",
            "5\n",
            "6\n",
            "7\n",
            "8\n",
            "9\n",
            "10\n",
            "\n",
            "And here are all the even numbers less than 10\n",
            "0\n",
            "2\n",
            "4\n",
            "6\n",
            "8\n"
          ]
        }
      ],
      "source": [
        "print(\"Here are all the integers from 5 to 10, INCLUDING 10\")\n",
        "for i in range(5,11):\n",
        "     print(i)\n",
        "\n",
        "print(\"\\nAnd here are all the even numbers less than 10\")\n",
        "for i in range(0,10,2):\n",
        "     print(i)"
      ]
    },
    {
      "cell_type": "markdown",
      "metadata": {
        "id": "GyFY-Qk87Vq4"
      },
      "source": [
        "# If-Else Statements\n",
        "An \"if statement\" allows implementing a logical condition. Syntax:\n",
        "> if `logical_condition_1`:<br>\n",
        "> $ \\qquad$ instructions if logical_condition_1 is True<br>\n",
        "> elif `logical_condition_2`:<br>\n",
        "> $ \\qquad$ instructions if logical_condition_1 is False and logical_condition_2 is True <br>\n",
        "> ...<br>\n",
        "> else:<br>\n",
        "> $ \\qquad$ instructions if all logical conditions above are False"
      ]
    },
    {
      "cell_type": "code",
      "execution_count": null,
      "metadata": {
        "colab": {
          "base_uri": "https://localhost:8080/"
        },
        "id": "XKgLbe1r7Vq5",
        "outputId": "75f1de0c-7f02-41d5-d667-35fced3fec22"
      },
      "outputs": [
        {
          "name": "stdout",
          "output_type": "stream",
          "text": [
            "a is smaller than b\n"
          ]
        }
      ],
      "source": [
        "a = 15\n",
        "b = 17\n",
        "if (a > b):\n",
        "    print(\"a is bigger than b\")\n",
        "elif (a == b):\n",
        "    print(\"a is equal to b\")\n",
        "else:\n",
        "    print(\"a is smaller than b\")"
      ]
    },
    {
      "cell_type": "markdown",
      "metadata": {
        "id": "IJHqBu-H8PYB"
      },
      "source": [
        "<font color=red>**As with \"for\" loops, the colon ':` and the indentation are critical.**</font><br>\n",
        "The following code would lead to errors if uncommented:"
      ]
    },
    {
      "cell_type": "code",
      "execution_count": null,
      "metadata": {
        "id": "j_IOOPiN-OGu"
      },
      "outputs": [],
      "source": [
        "# # forgetting the colon - this would create an error if uncommented!\n",
        "#if (a > b)\n",
        "#   print(\"a\")"
      ]
    },
    {
      "cell_type": "code",
      "execution_count": null,
      "metadata": {
        "id": "XQ21xoir-acC"
      },
      "outputs": [],
      "source": [
        "# # forgetting the indentation\n",
        "#if (a>b) :\n",
        "#print(\"a\")"
      ]
    },
    {
      "cell_type": "code",
      "execution_count": null,
      "metadata": {
        "colab": {
          "base_uri": "https://localhost:8080/"
        },
        "id": "iiBSNB5B-gxX",
        "outputId": "25c598e4-1b64-4ed2-bda1-cea8439a9a03"
      },
      "outputs": [
        {
          "name": "stdout",
          "output_type": "stream",
          "text": [
            "b\n"
          ]
        }
      ],
      "source": [
        "# the parenthesis around the logical condition is not critical but it's highly recommended\n",
        "if a > b :\n",
        "    print(\"a\")\n",
        "else:\n",
        "    print(\"b\")"
      ]
    },
    {
      "cell_type": "markdown",
      "metadata": {
        "id": "tIMzHTcErHd7"
      },
      "source": [
        "# For Loops\n",
        "A `for` loop is used to iterate over a sequence (that could be a range, a list, a dictionary, etc.). Syntax:\n",
        "> for `variable` in `sequence`:<br>\n",
        "> $ \\qquad$ instructions line 1<br>\n",
        "> $ \\qquad$ instructions line 2"
      ]
    },
    {
      "cell_type": "code",
      "execution_count": null,
      "metadata": {
        "colab": {
          "base_uri": "https://localhost:8080/"
        },
        "id": "FB3iWNr2rHd8",
        "outputId": "41d6da61-9295-43d2-fd9b-75410cf74053"
      },
      "outputs": [
        {
          "name": "stdout",
          "output_type": "stream",
          "text": [
            "0\n",
            "1\n",
            "2\n",
            "3\n",
            "4\n"
          ]
        }
      ],
      "source": [
        "# use a for loop to iterate through a numeric range\n",
        "for i in range(5):\n",
        "    print(i)"
      ]
    },
    {
      "cell_type": "markdown",
      "metadata": {
        "id": "iH3LMEgO8e1x"
      },
      "source": [
        "<font color=red>**Two elements are worth emphasizing in the syntax above:**</red>\n",
        "- the colon `:` is critical on the first line\n",
        "- the intendation is also critical, and must come on the second line (you can use as many spaces as you like!)\n",
        "\n",
        "For instance, the following code would generate errors if you uncomment and run it!"
      ]
    },
    {
      "cell_type": "code",
      "execution_count": null,
      "metadata": {
        "id": "25sKvJto8xHJ"
      },
      "outputs": [],
      "source": [
        "# # forgetting the colon :\n",
        "#for i in range(5)\n",
        "#    print(i)"
      ]
    },
    {
      "cell_type": "code",
      "execution_count": null,
      "metadata": {
        "id": "t4W6zCcG82LN"
      },
      "outputs": [],
      "source": [
        "# # forgetting the indentation :\n",
        "#for i in range(5):\n",
        "#print(i)"
      ]
    },
    {
      "cell_type": "code",
      "execution_count": null,
      "metadata": {
        "colab": {
          "base_uri": "https://localhost:8080/"
        },
        "id": "OZJnMJe79R0K",
        "outputId": "3545ee1e-d808-4059-fd80-a872639c4b52"
      },
      "outputs": [
        {
          "name": "stdout",
          "output_type": "stream",
          "text": [
            "0\n",
            "1\n",
            "2\n",
            "3\n",
            "4\n"
          ]
        }
      ],
      "source": [
        "# you can, however, put everything on one line! (this looks ugly and is NOT advised!)\n",
        "for i in range(5): print(i)"
      ]
    },
    {
      "cell_type": "markdown",
      "metadata": {
        "id": "BY4ZcTkW9jmB"
      },
      "source": [
        "Nested for loops are quite straightforward:"
      ]
    },
    {
      "cell_type": "code",
      "execution_count": null,
      "metadata": {
        "colab": {
          "base_uri": "https://localhost:8080/"
        },
        "id": "sfZMdgbP9m-k",
        "outputId": "3b718a16-44ac-4b77-d6b7-5e01ed939a0a"
      },
      "outputs": [
        {
          "name": "stdout",
          "output_type": "stream",
          "text": [
            "1 99\n",
            "1 100\n",
            "1 101\n",
            "2 99\n",
            "2 100\n",
            "2 101\n"
          ]
        }
      ],
      "source": [
        "for i in range(1,3,1):\n",
        "    for j in range(99,102,1):\n",
        "        print(i,j)"
      ]
    },
    {
      "cell_type": "markdown",
      "metadata": {
        "id": "Y0f2vEzg3SvS"
      },
      "source": [
        "# Lists\n",
        "Lists are used to store multiple items in a single variable. Lists can be created using square brackets `[.]`."
      ]
    },
    {
      "cell_type": "markdown",
      "metadata": {
        "id": "S4hRkG2uOVVb"
      },
      "source": [
        "## Basics\n"
      ]
    },
    {
      "cell_type": "markdown",
      "metadata": {
        "id": "Iq10CrmFBoxh"
      },
      "source": [
        "Let's create some simple lists.\n"
      ]
    },
    {
      "cell_type": "code",
      "execution_count": null,
      "metadata": {
        "id": "T-UbUjpWNv-u"
      },
      "outputs": [],
      "source": [
        "# a list with integers, created with the brackets [ ]\n",
        "my_list = [1,2,3,4]"
      ]
    },
    {
      "cell_type": "markdown",
      "metadata": {
        "id": "cbpSdYMAYdiR"
      },
      "source": [
        "The data types contained in a list do not have to be the same and you can repeat the values several times"
      ]
    },
    {
      "cell_type": "code",
      "execution_count": null,
      "metadata": {
        "colab": {
          "base_uri": "https://localhost:8080/"
        },
        "id": "Hi-2OhHoYnry",
        "outputId": "39abc2b0-03b1-4c3b-8a22-4ba5ff8cdf58"
      },
      "outputs": [
        {
          "name": "stdout",
          "output_type": "stream",
          "text": [
            "['a string', 4.75, [1, 2, 3, 4], 5, 5, 5]\n"
          ]
        }
      ],
      "source": [
        "# crazy list containing a string, a float, another list (!), and several 5s\n",
        "crazy_list = [\"a string\", 4.75, [1,2,3,4], 5, 5, 5]\n",
        "print(crazy_list)"
      ]
    },
    {
      "cell_type": "markdown",
      "metadata": {
        "id": "QDaCucC4Yyaq"
      },
      "source": [
        "The items in a list are ordered. You can access the first item using the index `[0]`, the second item using the index `[1]`, etc."
      ]
    },
    {
      "cell_type": "code",
      "execution_count": null,
      "metadata": {
        "colab": {
          "base_uri": "https://localhost:8080/"
        },
        "id": "QGNSCW6wYxut",
        "outputId": "c9927401-d69b-424d-b457-f7127f16ad37"
      },
      "outputs": [
        {
          "data": {
            "text/plain": [
              "'a string'"
            ]
          },
          "execution_count": 27,
          "metadata": {},
          "output_type": "execute_result"
        }
      ],
      "source": [
        "crazy_list[0]"
      ]
    },
    {
      "cell_type": "markdown",
      "metadata": {
        "id": "r7bpLcCyZlAw"
      },
      "source": [
        "You can also access several items in the list using a **range** of indices specified with `:`"
      ]
    },
    {
      "cell_type": "code",
      "execution_count": null,
      "metadata": {
        "colab": {
          "base_uri": "https://localhost:8080/"
        },
        "id": "Gi_GiUrwZkZ0",
        "outputId": "26cc7fe3-7890-4ddb-8e42-fc2d1cd8b8d1"
      },
      "outputs": [
        {
          "data": {
            "text/plain": [
              "[4.75, [1, 2, 3, 4]]"
            ]
          },
          "execution_count": 28,
          "metadata": {},
          "output_type": "execute_result"
        }
      ],
      "source": [
        "#  using i:j returns the elements at index i,i+1,...,j-1  (j is NOT included!)\n",
        "crazy_list[1:3]"
      ]
    },
    {
      "cell_type": "markdown",
      "metadata": {
        "id": "37osu_-Iap3I"
      },
      "source": [
        "You can change the value at a certain location in a list using the correct index"
      ]
    },
    {
      "cell_type": "code",
      "execution_count": null,
      "metadata": {
        "colab": {
          "base_uri": "https://localhost:8080/"
        },
        "id": "3k89YtvZauSY",
        "outputId": "f700833a-fdd4-4fca-ac3a-48a920f1b7bf"
      },
      "outputs": [
        {
          "name": "stdout",
          "output_type": "stream",
          "text": [
            "['a string', 4.75, 'take out the list from the list', 5, 5, 5]\n"
          ]
        }
      ],
      "source": [
        "crazy_list[2] = \"take out the list from the list\"\n",
        "print(crazy_list)"
      ]
    },
    {
      "cell_type": "markdown",
      "metadata": {
        "id": "wwi8L2rxa8tf"
      },
      "source": [
        "You can even change several items using the range again"
      ]
    },
    {
      "cell_type": "code",
      "execution_count": null,
      "metadata": {
        "colab": {
          "base_uri": "https://localhost:8080/"
        },
        "id": "wHYmCGaUbBHe",
        "outputId": "59ae5ef6-ec78-42aa-a1c8-441c013a0fc4"
      },
      "outputs": [
        {
          "name": "stdout",
          "output_type": "stream",
          "text": [
            "['Barcelona', 'Madrid', 'take out the list from the list', 5, 5, 5]\n"
          ]
        }
      ],
      "source": [
        "# note that the right-hand-side in this assignment is a list - elements will be matched location-wise\n",
        "crazy_list[0:2] = ['Barcelona','Madrid']\n",
        "print(crazy_list)"
      ]
    },
    {
      "cell_type": "markdown",
      "metadata": {
        "id": "rDQMbBdzczlA"
      },
      "source": [
        "If your range has fewer indices than the items you want to change, this will expand the list"
      ]
    },
    {
      "cell_type": "code",
      "execution_count": null,
      "metadata": {
        "colab": {
          "base_uri": "https://localhost:8080/"
        },
        "id": "Ti3QZmELc5Ws",
        "outputId": "fa50bf16-1fa1-470b-fd4f-aeb679ac9932"
      },
      "outputs": [
        {
          "name": "stdout",
          "output_type": "stream",
          "text": [
            "[1, 2, 3, 'take out the list from the list', 5, 5, 5]\n"
          ]
        }
      ],
      "source": [
        "crazy_list[0:2] = [1,2,3]\n",
        "print(crazy_list)"
      ]
    },
    {
      "cell_type": "markdown",
      "metadata": {
        "id": "OOKOAWDRe7Br"
      },
      "source": [
        "Conversely, if the range has more indices that the items you are inserting, this will shrink the list"
      ]
    },
    {
      "cell_type": "code",
      "execution_count": null,
      "metadata": {
        "colab": {
          "base_uri": "https://localhost:8080/"
        },
        "id": "C40U_38ZgMy2",
        "outputId": "3d793e52-4454-411d-9557-3530394d309c"
      },
      "outputs": [
        {
          "name": "stdout",
          "output_type": "stream",
          "text": [
            "['Hey', 3.3333, 5, 5]\n"
          ]
        }
      ],
      "source": [
        "crazy_list[0:5] = [\"Hey\", 3.3333]\n",
        "print(crazy_list)"
      ]
    },
    {
      "cell_type": "markdown",
      "metadata": {
        "id": "D3kDZqDHiYUV"
      },
      "source": [
        "You can concatenate two lists using the `+` operator (this is also an easy way to add more elements at the end of a given list)"
      ]
    },
    {
      "cell_type": "code",
      "execution_count": null,
      "metadata": {
        "colab": {
          "base_uri": "https://localhost:8080/"
        },
        "id": "tj0oJYAjeboO",
        "outputId": "ae0e6551-f884-4c03-ba36-3f3022cdac37"
      },
      "outputs": [
        {
          "name": "stdout",
          "output_type": "stream",
          "text": [
            "['Hey', 3.3333, 5, 5, 'mango', 'kiwi']\n"
          ]
        }
      ],
      "source": [
        "crazy_list_with_plus = crazy_list + [\"mango\", \"kiwi\"]\n",
        "print(crazy_list_with_plus)"
      ]
    },
    {
      "cell_type": "markdown",
      "metadata": {
        "id": "ZM6RLT2IeXFo"
      },
      "source": [
        "You can also duplicate a list many times using the `*` operator"
      ]
    },
    {
      "cell_type": "code",
      "execution_count": null,
      "metadata": {
        "colab": {
          "base_uri": "https://localhost:8080/"
        },
        "id": "3q5ZdGgtedjh",
        "outputId": "d71ad205-4924-4e5e-edd2-d18e083bcedd"
      },
      "outputs": [
        {
          "name": "stdout",
          "output_type": "stream",
          "text": [
            "['We love OIT248!', 'We love OIT248!', 'We love OIT248!', 'We love OIT248!', 'We love OIT248!']\n"
          ]
        }
      ],
      "source": [
        "# create a list with the string \"We love OIT 248!\" repeated 5 times\n",
        "my_list = [\"We love OIT248!\"] * 5\n",
        "\n",
        "print(my_list)"
      ]
    },
    {
      "cell_type": "markdown",
      "metadata": {
        "id": "6WIS2Dmwiuje"
      },
      "source": [
        "**You should be careful with the _assignment_ operator `=` for a list!**<br>\n",
        "The assignment operator will **NOT** create a copy of a list; rather, it will create a new/alternative name for the list"
      ]
    },
    {
      "cell_type": "code",
      "execution_count": null,
      "metadata": {
        "colab": {
          "base_uri": "https://localhost:8080/"
        },
        "id": "L_JUkcrHitxs",
        "outputId": "92336b5a-1010-4a12-de6c-f438d72f04d6"
      },
      "outputs": [
        {
          "name": "stdout",
          "output_type": "stream",
          "text": [
            "Here are the two lists\n",
            "['Hey', 3.3333, 5, 5]\n",
            "['Hey', 3.3333, 5, 5]\n",
            "Here are the two lists after changing\n",
            "['I am changing the start', 3.3333, 5, 5]\n",
            "['I am changing the start', 3.3333, 5, 5]\n"
          ]
        }
      ],
      "source": [
        "# are we creating a copy of `crazy_list` stored in the new variable `a_new_list`?\n",
        "new_list = crazy_list\n",
        "\n",
        "# print both lists\n",
        "print(\"Here are the two lists\")\n",
        "print(crazy_list)\n",
        "print(new_list)\n",
        "\n",
        "# let's change the first element in this \"new\" list\n",
        "new_list[0] = \"I am changing the start\"\n",
        "\n",
        "# print both lists\n",
        "print(\"Here are the two lists after changing\")\n",
        "print(crazy_list)\n",
        "print(new_list)\n",
        "# Note how BOTH lists are changing (because the new list just points to the old one)"
      ]
    },
    {
      "cell_type": "markdown",
      "metadata": {
        "id": "CEZuRoxvjyBh"
      },
      "source": [
        "If you want to create a genuine **copy** of a list, you can use the `copy` method. Details under the list methods section."
      ]
    },
    {
      "cell_type": "markdown",
      "metadata": {
        "id": "bTT1TQvuuT97"
      },
      "source": [
        "## The length, min, max of a list\n",
        "To calculate the length of a list or the minimum or maximum values in the list, use the `len(.)`, `min(.)` and `max(.)` functions."
      ]
    },
    {
      "cell_type": "code",
      "execution_count": null,
      "metadata": {
        "colab": {
          "base_uri": "https://localhost:8080/"
        },
        "id": "owgRtmb_gvun",
        "outputId": "66366e8c-11e1-43ef-a49c-758965571e79"
      },
      "outputs": [
        {
          "name": "stdout",
          "output_type": "stream",
          "text": [
            "8\n",
            "-5\n",
            "99\n"
          ]
        }
      ],
      "source": [
        "# create a list of numbers\n",
        "list_of_numbers = [3, 6, 9, 1, -5, 34, 23, 99]\n",
        "\n",
        "# print the length\n",
        "print(len(list_of_numbers))\n",
        "\n",
        "# print the smallest value\n",
        "print(min(list_of_numbers))\n",
        "\n",
        "# print the largest value\n",
        "print(max(list_of_numbers))"
      ]
    },
    {
      "cell_type": "markdown",
      "metadata": {
        "id": "eiNAtEd7kND7"
      },
      "source": [
        "## Fancy methods for a list\n",
        "The list data structure already has a couple of pre-defined useful `methods` that allow you to conduct specific manipulations."
      ]
    },
    {
      "cell_type": "markdown",
      "metadata": {
        "id": "2mzrDgPxulej"
      },
      "source": [
        "The full list of list (sic!) methods is:\n",
        "- `append()`\tAdds an element at the end of the list\n",
        "- `clear()`\tRemoves all the elements from the list\n",
        "- `copy()`\tReturns a copy of the list\n",
        "- `count()`\tReturns the number of elements with the specified value\n",
        "- `extend()`\tAdd the elements of a list (or any iterable), to the end of the current list\n",
        "- `index()`\tReturns the index of the first element with the specified value\n",
        "- `insert()`\tAdds an element at the specified position\n",
        "- `pop()`\tRemoves the element at the specified position\n",
        "- `remove()`\tRemoves the item with the specified value\n",
        "- `reverse()`\tReverses the order of the list\n",
        "- `sort()`\tSorts the list\n",
        "\n",
        "For our purposes, the most useful methods are `index` and `copy`, which we exemplify below.\n"
      ]
    },
    {
      "cell_type": "markdown",
      "metadata": {
        "id": "XE546gYJ4ro6"
      },
      "source": [
        "Index allows you to retrieve the location of a specific element. It returns the first location or `ValueError` if the element is not found."
      ]
    },
    {
      "cell_type": "code",
      "execution_count": null,
      "metadata": {
        "colab": {
          "base_uri": "https://localhost:8080/"
        },
        "id": "LwAvdbPk41t9",
        "outputId": "c8dcb34c-a218-4bde-a83c-2635c678b82c"
      },
      "outputs": [
        {
          "name": "stdout",
          "output_type": "stream",
          "text": [
            "The index where the string `apples` appears: 0\n"
          ]
        }
      ],
      "source": [
        "# create another list to play with\n",
        "crazy_list = [\"apples\", \"oranges\", \"bananas\", \"OIT248\" ]\n",
        "\n",
        "# figure out the index where the element 'apples' appears\n",
        "index_for_apples = crazy_list.index(\"apples\")\n",
        "print(f\"The index where the string `apples` appears: {index_for_apples}\")\n",
        "\n",
        "#### The following code would generate an error because we try to find some element that doesn't exist; if you want to see it, remove the comment\n",
        "# index_for_smth_new = crazy_list.index(\"The Wire Show\")\n",
        "# print(index_for_smth_new)"
      ]
    },
    {
      "cell_type": "markdown",
      "metadata": {
        "id": "1wV5JbF85zXI"
      },
      "source": [
        "The `copy` method does what the name suggests..."
      ]
    },
    {
      "cell_type": "code",
      "execution_count": null,
      "metadata": {
        "colab": {
          "base_uri": "https://localhost:8080/"
        },
        "id": "UDm1Y50DkNEN",
        "outputId": "63595236-b628-4a25-88bc-c8d9b1bb8410"
      },
      "outputs": [
        {
          "name": "stdout",
          "output_type": "stream",
          "text": [
            "Here are the two lists\n",
            "['apples', 'oranges', 'bananas', 'OIT248']\n",
            "['apples', 'oranges', 'bananas', 'OIT248']\n",
            "Here are the lists after changing\n",
            "['apples', 'oranges', 'bananas', 'OIT248']\n",
            "['Michael Jackson', 'oranges', 'bananas', 'OIT248']\n"
          ]
        }
      ],
      "source": [
        "# let's create an actual copy of `crazy_list` stored in a new variable `new_list`\n",
        "new_list = crazy_list.copy()\n",
        "\n",
        "# print both lists\n",
        "print(\"Here are the two lists\")\n",
        "print(crazy_list)\n",
        "print(new_list)\n",
        "\n",
        "# To see that this is a copy, let's change the first element in the \"new\" list and print both\n",
        "new_list[0] = \"Michael Jackson\"\n",
        "\n",
        "print(\"Here are the lists after changing\")\n",
        "print(crazy_list)\n",
        "print(new_list)"
      ]
    },
    {
      "cell_type": "markdown",
      "metadata": {
        "id": "mWu1F0dHvQ-0"
      },
      "source": [
        "We likely won't use a lot of these methods in OIT 248, but they are useful to know about. For a detailed coverage, you can check <a href=\"https://www.w3schools.com/python/python_lists_methods.asp\">this link</a>."
      ]
    },
    {
      "cell_type": "markdown",
      "metadata": {
        "id": "0jMi85dmoQoc"
      },
      "source": [
        "## Looping through lists\n",
        "There are several ways to loop through lists"
      ]
    },
    {
      "cell_type": "markdown",
      "metadata": {
        "id": "DWIrojd7pVKa"
      },
      "source": [
        "**Option 1.**<br>\n",
        "If you just care about the elements in the list **but not** their indices/locations, the most elegant way is to use a `for` loop through the elements themselves"
      ]
    },
    {
      "cell_type": "code",
      "execution_count": null,
      "metadata": {
        "colab": {
          "base_uri": "https://localhost:8080/"
        },
        "id": "mU-I0CsdoQot",
        "outputId": "d783f3ad-9f7d-416c-a7bc-3fc583759ba5"
      },
      "outputs": [
        {
          "name": "stdout",
          "output_type": "stream",
          "text": [
            "apples\n",
            "oranges\n",
            "bananas\n",
            "OIT248\n"
          ]
        }
      ],
      "source": [
        "# loop through the elements in `crazy_list` and store them in 'v'\n",
        "for v in crazy_list:\n",
        "    # 'v` now stores an element from the list; let's print 'v'\n",
        "    print(v)"
      ]
    },
    {
      "cell_type": "markdown",
      "metadata": {
        "id": "UkNuMDP2xiOO"
      },
      "source": [
        "**Option 2.**<br>\n",
        "An alternative, also useful when you just care about the elements, is to use a \"list comprehension\"."
      ]
    },
    {
      "cell_type": "code",
      "execution_count": null,
      "metadata": {
        "colab": {
          "base_uri": "https://localhost:8080/"
        },
        "id": "5Pp-OVgBxiOk",
        "outputId": "54ce228f-7d14-4906-d618-f289b607f42a"
      },
      "outputs": [
        {
          "name": "stdout",
          "output_type": "stream",
          "text": [
            "apples\n",
            "oranges\n",
            "bananas\n",
            "OIT248\n"
          ]
        }
      ],
      "source": [
        "[print(v) for v in crazy_list];"
      ]
    },
    {
      "cell_type": "markdown",
      "metadata": {
        "id": "zXkChIuPzCtP"
      },
      "source": [
        "This is a very compact syntax, but it might confuse you a bit at first so don't worry if you don't fully get it on the first try!..."
      ]
    },
    {
      "cell_type": "markdown",
      "metadata": {
        "id": "r6jsyqZpp_U0"
      },
      "source": [
        "**Option 3.**<br>\n",
        "If you need the elements in the list **as well as** their indices, you can write classic\" for loop. Specifically, for a list, we actually know what the indices are: they are 0, 1, 2, ..., number of elements-1. So we can get these using the `range(.)` and `len(.)` functions:"
      ]
    },
    {
      "cell_type": "code",
      "execution_count": null,
      "metadata": {
        "colab": {
          "base_uri": "https://localhost:8080/"
        },
        "id": "PFu_zvMxp_U1",
        "outputId": "4605e813-f54e-4f88-fdc7-b6373584803e"
      },
      "outputs": [
        {
          "name": "stdout",
          "output_type": "stream",
          "text": [
            "At location 0 we can find: apples\n",
            "At location 1 we can find: oranges\n",
            "At location 2 we can find: bananas\n",
            "At location 3 we can find: OIT248\n"
          ]
        }
      ],
      "source": [
        "# calculate the number of elements in the list\n",
        "num_elements_in_list = len(crazy_list)\n",
        "\n",
        "# produce the range 0 .. num_elements_in_list - 1\n",
        "indices = range(num_elements_in_list)\n",
        "\n",
        "# and now let's loop through the elements, printing them as well as their index\n",
        "for i in indices:\n",
        "    print(\"At location\", i, \"we can find:\", crazy_list[i])"
      ]
    },
    {
      "cell_type": "markdown",
      "metadata": {
        "id": "JnjAUZXhxNFp"
      },
      "source": [
        "Normally, you would not define all of those variables above and instead use this compact form:"
      ]
    },
    {
      "cell_type": "code",
      "execution_count": null,
      "metadata": {
        "colab": {
          "base_uri": "https://localhost:8080/"
        },
        "id": "VYpxEUOWxUrF",
        "outputId": "00847881-1f61-4860-a04c-c5921a3f32cf"
      },
      "outputs": [
        {
          "name": "stdout",
          "output_type": "stream",
          "text": [
            "At location 0 we can find: apples\n",
            "At location 1 we can find: oranges\n",
            "At location 2 we can find: bananas\n",
            "At location 3 we can find: OIT248\n"
          ]
        }
      ],
      "source": [
        "# let's loop through the elements, printing them as well as their index\n",
        "for i in range(len(crazy_list)):\n",
        "    print(\"At location\", i, \"we can find:\", crazy_list[i])"
      ]
    },
    {
      "cell_type": "markdown",
      "metadata": {
        "id": "ZIS9QCArFFeh"
      },
      "source": [
        "## List comprehensions\n",
        "List comprehensions offer a very simple way to create a new list based on some existing lists. The syntax is:\n",
        "\n",
        "> `newlist = [`_expression_ `for` _item_ `in` _iterable_ `if` _condition_ `== True]`\n",
        "\n",
        "_iterable_ can be another list or a range (more broadly, any iterable type). The return value is a new list, leaving the old list unchanged."
      ]
    },
    {
      "cell_type": "code",
      "execution_count": null,
      "metadata": {
        "colab": {
          "base_uri": "https://localhost:8080/"
        },
        "id": "NBrsiK7eFFei",
        "outputId": "6922a24f-cabf-49a7-80e3-90c1d32c3b63"
      },
      "outputs": [
        {
          "name": "stdout",
          "output_type": "stream",
          "text": [
            "['banana', 'cherry', 'kiwi', 'mango']\n"
          ]
        }
      ],
      "source": [
        "# let's create a list with some fruits\n",
        "fruits = [\"apple\", \"banana\", \"cherry\", \"kiwi\", \"mango\"]\n",
        "\n",
        "# now suppose we want to create a list with all the fruit names *except apple*\n",
        "fruits_no_apple = [v for v in fruits if v!= \"apple\"]\n",
        "print(fruits_no_apple)"
      ]
    },
    {
      "cell_type": "markdown",
      "metadata": {
        "id": "LJzFVd4pGoyt"
      },
      "source": [
        "If you want to embed an `if-else` condition, you need to switch the order of the `if` and the `for` loop, as follows:"
      ]
    },
    {
      "cell_type": "code",
      "execution_count": null,
      "metadata": {
        "colab": {
          "base_uri": "https://localhost:8080/"
        },
        "id": "7rKsDfgBHD8F",
        "outputId": "fb407d35-e7d4-4129-a861-6c43ac8117e7"
      },
      "outputs": [
        {
          "name": "stdout",
          "output_type": "stream",
          "text": [
            "['walnut', 'banana', 'cherry', 'kiwi', 'mango']\n"
          ]
        }
      ],
      "source": [
        "# a copy of the original list where every occurrence of *apple* is replaced with *walnut*\n",
        "fruits_apple_walnut = [v if v!= \"apple\" else \"walnut\" for v in fruits]\n",
        "print(fruits_apple_walnut)"
      ]
    },
    {
      "cell_type": "markdown",
      "metadata": {
        "id": "dvOlucWfcS7b"
      },
      "source": [
        "# Tuples\n",
        "Tuples allow storing several items in a single variable. They are defined using round brackets `(.)`."
      ]
    },
    {
      "cell_type": "code",
      "execution_count": null,
      "metadata": {
        "colab": {
          "base_uri": "https://localhost:8080/"
        },
        "id": "SCi2rsqrcS7x",
        "outputId": "4078469d-884c-41de-cf1a-3236d4ef5f6c"
      },
      "outputs": [
        {
          "name": "stdout",
          "output_type": "stream",
          "text": [
            "('apples', 3.14, [1, 2, 3])\n"
          ]
        }
      ],
      "source": [
        "# define a tuple with a string, a float, and a list\n",
        "my_tuple = (\"apples\", 3.14, [1, 2, 3])\n",
        "\n",
        "print(my_tuple)"
      ]
    },
    {
      "cell_type": "markdown",
      "metadata": {
        "id": "IifIhw1Rcsel"
      },
      "source": [
        "You might think that the tuple is quite similar to a list, but the fundamental difference is that tuples and **unchangeable**: once you created a tuple, you cannot change its contents.<br>\n",
        "\n",
        "We won't be using tuples directly but many functions in Python return tuples, so you should not be surprised to see them!"
      ]
    },
    {
      "cell_type": "markdown",
      "metadata": {
        "id": "DHe9-SVArwA_"
      },
      "source": [
        "# Printing\n",
        "We have already been printing messages and variables above. The typical syntax of the `print` command that we'll use most often in OIT 248 is:\n",
        "> `print`(_object(s)_, sep=_separator_)\n",
        " - _object(s)_ : one or more objects to print; each object will be converted to a string before printing\n",
        " - _sep_ : optional, specifies what separator to use between the objects"
      ]
    },
    {
      "cell_type": "markdown",
      "metadata": {
        "id": "vIYlvJYmrwBJ"
      },
      "source": [
        "Let's see a few simple examples"
      ]
    },
    {
      "cell_type": "code",
      "execution_count": null,
      "metadata": {
        "colab": {
          "base_uri": "https://localhost:8080/"
        },
        "id": "j5gC36a2rwBJ",
        "outputId": "ec3e653d-094d-4b43-f18a-af39d452f23b"
      },
      "outputs": [
        {
          "name": "stdout",
          "output_type": "stream",
          "text": [
            "5\n",
            "The value of the integer is: 5\n"
          ]
        }
      ],
      "source": [
        "# print an integer variable\n",
        "x = 5\n",
        "print(x)\n",
        "\n",
        "# print some text and an integer\n",
        "print(\"The value of the integer is:\", x)"
      ]
    },
    {
      "cell_type": "markdown",
      "metadata": {
        "id": "S9FR3W0e9aJd"
      },
      "source": [
        " The most important thing when printing is how to convert the objects into a string that satisfies the criteria you want.<br>\n",
        "\n",
        " There are many ways to do this in Python and all will be roughly equally good for our purposes!"
      ]
    },
    {
      "cell_type": "markdown",
      "metadata": {
        "id": "q0gsX1JorwBJ"
      },
      "source": [
        "## \"Old-style\" Formatting with %\n",
        "This uses the `%` operator and will look familiar to those of you with C coding experience!"
      ]
    },
    {
      "cell_type": "code",
      "execution_count": null,
      "metadata": {
        "colab": {
          "base_uri": "https://localhost:8080/"
        },
        "id": "47i3jVnlrwBJ",
        "outputId": "51d1ff7b-3acd-4651-fd5a-df1d3bc99399"
      },
      "outputs": [
        {
          "name": "stdout",
          "output_type": "stream",
          "text": [
            "The person named Linwei with age 32 has a GPA of 3.920000 and income of 2.458942e+05\n"
          ]
        }
      ],
      "source": [
        "# let's define a few different variables\n",
        "name = \"Linwei\"        # a string\n",
        "age = 32               # an integer\n",
        "gpa = 3.92             # a float\n",
        "income = 245894.242    # a large float\n",
        "\n",
        "print(\"The person named %s with age %d has a GPA of %f and income of %e\" \\\n",
        "      % (name, age, gpa, income))"
      ]
    },
    {
      "cell_type": "markdown",
      "metadata": {
        "id": "GHz_QRsorwBJ"
      },
      "source": [
        "The example above already shows the data types that we're most likely to print in OIT 248:\n",
        " - `'d'` for a signed integer (decimal, i.e., base 10)\n",
        " - `'f'` for a floating point (decimal)\n",
        " - `'e'` for a floating point in exponential format\n",
        " - `'s'` for a string\n",
        "\n",
        "In addition to these, you can also adjust the padding and how many digits of precision to print."
      ]
    },
    {
      "cell_type": "code",
      "execution_count": null,
      "metadata": {
        "colab": {
          "base_uri": "https://localhost:8080/"
        },
        "id": "uBgZJRMVrwBK",
        "outputId": "665c3513-3ec9-4304-c272-e20c1021a9a8"
      },
      "outputs": [
        {
          "name": "stdout",
          "output_type": "stream",
          "text": [
            "The person named               Linwei with age  32 has a GPA of 3.92.\n",
            "The person named           Jiawei Luo with age 104 has a GPA of 55242.43.\n"
          ]
        }
      ],
      "source": [
        "# allocate 20 characters to the name, 3 characters to the age, and print 2 digits of\n",
        "print(\"The person named %20s with age %3d has a GPA of %.2f.\" \\\n",
        "      % (name, age, gpa))\n",
        "\n",
        "# and print a more exotic example to see the difference\n",
        "print(\"The person named %20s with age %3d has a GPA of %.2f.\" \\\n",
        "      % (\"Jiawei Luo\", 104, 55242.435))"
      ]
    },
    {
      "cell_type": "markdown",
      "metadata": {
        "id": "9ror_RN5_Rti"
      },
      "source": [
        "Floating-point numbers use the format `%a.bf`. Here, `a` would be the minimum number of digits to be present in the string (padded with white space if the whole number does not have enough digits), and `b` represents how many digits to display after the decimal point.\n",
        "\n",
        "Unless you have very strong biases, **we encourage you to consider using one of the next two formatting options, which are more flexible and robust.**"
      ]
    },
    {
      "cell_type": "markdown",
      "metadata": {
        "id": "Oenoej-M_-LA"
      },
      "source": [
        "## The `format(.)` method\n",
        "The second option uses the string `format` method."
      ]
    },
    {
      "cell_type": "code",
      "execution_count": null,
      "metadata": {
        "colab": {
          "base_uri": "https://localhost:8080/"
        },
        "id": "ORTfTWGn_-LB",
        "outputId": "cff9e360-1820-4833-c6dc-816b79a108cd"
      },
      "outputs": [
        {
          "name": "stdout",
          "output_type": "stream",
          "text": [
            "Linwei has age 32 and a GPA of 3.92\n"
          ]
        }
      ],
      "source": [
        "# let's again define a few different variables\n",
        "name = \"Linwei\"        # a string\n",
        "age = 32               # an integer\n",
        "gpa = 3.92             # a float\n",
        "\n",
        "print(\"{} has age {} and a GPA of {}\".format(name, age, gpa))"
      ]
    },
    {
      "cell_type": "markdown",
      "metadata": {
        "id": "g1L8Fhhm_-LB"
      },
      "source": [
        "So you just need to put braces `{}` for any object inside the string and then use `.format()` at the end of the string to include all the objects. Just as with the `%` method, you can specify a format for the strings inside the `{...}`, with the only distinction that you should use a colon `:` instead of `%`. See below."
      ]
    },
    {
      "cell_type": "code",
      "execution_count": null,
      "metadata": {
        "colab": {
          "base_uri": "https://localhost:8080/"
        },
        "id": "KYBMJvmN_-LC",
        "outputId": "21260fe5-0954-4825-f564-e9701409fa64"
      },
      "outputs": [
        {
          "name": "stdout",
          "output_type": "stream",
          "text": [
            "Linwei               has age  32 and GPA of 3.92.\n",
            "Jiawei Luo           has age 104 and GPA of 55,242.43.\n"
          ]
        }
      ],
      "source": [
        "# allocate 20 characters to the name, 3 characters to the age, and print 2 digits of\n",
        "print(\"{:20s} has age {:3d} and GPA of {:.2f}.\".format(name, age, gpa))\n",
        "\n",
        "# and print a more exotic example to see the difference\n",
        "print(\"{:20s} has age {:3d} and GPA of {:,.2f}.\".format(\"Jiawei Luo\", 104, 55242.435))"
      ]
    },
    {
      "cell_type": "markdown",
      "metadata": {
        "id": "PWRTd2mGESne"
      },
      "source": [
        "Note that the second statement uses the format `,.2f` to print the nice comma-delimiter `,` for thousands, which is useful when printing large numbers. For more examples of formatting, check out <a href=\"https://www.pythoncheatsheet.org/cheatsheet/string-formatting\">this reference</a>."
      ]
    },
    {
      "cell_type": "markdown",
      "metadata": {
        "id": "dFZr9R2oCKAf"
      },
      "source": [
        "## The `f-string` method\n",
        "The last option uses \"formatted\" strings, a.k.a. f-strings. This is the most modern and most compact approach, so if you're learning Python for the first time, you might want to use this!"
      ]
    },
    {
      "cell_type": "code",
      "execution_count": null,
      "metadata": {
        "colab": {
          "base_uri": "https://localhost:8080/"
        },
        "id": "1BJsYDqtCKAh",
        "outputId": "8a194559-aab1-4a50-c5d3-b4c9e51e30e1"
      },
      "outputs": [
        {
          "name": "stdout",
          "output_type": "stream",
          "text": [
            "Linwei has age 32 and a GPA of 3.92\n"
          ]
        }
      ],
      "source": [
        "# let's again define a few different variables\n",
        "name = \"Linwei\"        # a string\n",
        "age = 32               # an integer\n",
        "gpa = 3.92             # a float\n",
        "\n",
        "print(f\"{name} has age {age} and a GPA of {gpa}\")"
      ]
    },
    {
      "cell_type": "markdown",
      "metadata": {
        "id": "D3OUUWasCKAi"
      },
      "source": [
        "Here, you just need to put the character `f` before the string, and then enclose in braces `{}` the actual object. Formatting is done inside the `{...} ` in a similar way to the `.format()` method, using the colon `:`"
      ]
    },
    {
      "cell_type": "code",
      "execution_count": null,
      "metadata": {
        "colab": {
          "base_uri": "https://localhost:8080/"
        },
        "id": "9KxSwA22CKAi",
        "outputId": "2392a0a7-c776-405f-e49f-732795b4d80a"
      },
      "outputs": [
        {
          "name": "stdout",
          "output_type": "stream",
          "text": [
            "Linwei               has age  32 and GPA of 3.92.\n",
            "Jiawei Luo           has age 104 and GPA of 55,242.43.\n"
          ]
        }
      ],
      "source": [
        "# allocate 20 characters to the name, 3 characters to the age, and print 2 digits of\n",
        "print(f\"{name:20s} has age {age:3d} and GPA of {gpa:.2f}.\")\n",
        "\n",
        "# and print a more exotic example to see the difference\n",
        "second_name = \"Jiawei Luo\"\n",
        "print(f\"{second_name:20s} has age {104:3d} and GPA of {55242.435:,.2f}.\")"
      ]
    },
    {
      "cell_type": "markdown",
      "metadata": {
        "id": "hO4pm0SC6OQx"
      },
      "source": [
        "# Dictionaries\n",
        "Dictionaries store data in pairs consisting of a lookup \"key\" and a corresponding \"value\". They are defined using curly brackets `{}`."
      ]
    },
    {
      "cell_type": "code",
      "execution_count": null,
      "metadata": {
        "colab": {
          "base_uri": "https://localhost:8080/"
        },
        "id": "2zWfwndx6ORH",
        "outputId": "8b042b53-043e-438d-b550-94bf1c68d20f"
      },
      "outputs": [
        {
          "name": "stdout",
          "output_type": "stream",
          "text": [
            "{'Federer': 20, 'Nadal': 22, 'Djokovic': 24}\n"
          ]
        }
      ],
      "source": [
        "GS_trophies = {}               # define an empty dictionary\n",
        "GS_trophies[\"Federer\"] = 20    # add entry with key \"Federer\" and value 20\n",
        "GS_trophies[\"Nadal\"] = 22      # at least as of 2023...\n",
        "GS_trophies[\"Djokovic\"] = 24   # at least as of 2023...\n",
        "\n",
        "print(GS_trophies)"
      ]
    },
    {
      "cell_type": "markdown",
      "metadata": {
        "id": "A5-gTxZVZmBJ"
      },
      "source": [
        "You can retrieve or change a value from a dictionary using the key"
      ]
    },
    {
      "cell_type": "code",
      "execution_count": null,
      "metadata": {
        "colab": {
          "base_uri": "https://localhost:8080/"
        },
        "id": "JKAqtZmdZlJw",
        "outputId": "30f520e9-d783-4c28-ea12-eb8c533eb24f"
      },
      "outputs": [
        {
          "name": "stdout",
          "output_type": "stream",
          "text": [
            "Nadal has: 22 trophies\n",
            "{'Federer': 20, 'Nadal': 23, 'Djokovic': 24}\n"
          ]
        }
      ],
      "source": [
        "# how many trophies does Nadal have now?\n",
        "print(f\"Nadal has: {GS_trophies['Nadal']} trophies\")\n",
        "\n",
        "# increase Nadal's trophy count by 1\n",
        "GS_trophies[\"Nadal\"] += 1\n",
        "print(GS_trophies)"
      ]
    },
    {
      "cell_type": "markdown",
      "metadata": {
        "id": "zh8JHUd0Zz6c"
      },
      "source": [
        "The keys and values do not have to have the same data type (just as with lists!)"
      ]
    },
    {
      "cell_type": "code",
      "execution_count": null,
      "metadata": {
        "colab": {
          "base_uri": "https://localhost:8080/"
        },
        "id": "cVtElGNdZhLG",
        "outputId": "7d7a1655-6870-4312-b444-a38ea914d2fb"
      },
      "outputs": [
        {
          "name": "stdout",
          "output_type": "stream",
          "text": [
            "{'Federer': 20, 'Nadal': 23, 'Djokovic': 24, 3.14: 'Something'}\n"
          ]
        }
      ],
      "source": [
        "# add a new entry with a numeric key and a string value\n",
        "GS_trophies[3.14] = \"Something\"\n",
        "print(GS_trophies)"
      ]
    },
    {
      "cell_type": "markdown",
      "metadata": {
        "id": "Wa9Hws2cgkDX"
      },
      "source": [
        "The code above also shows how to add a new item in a dictionary. To remove an item based on its key, you can use the `pop(.)` method:"
      ]
    },
    {
      "cell_type": "code",
      "execution_count": null,
      "metadata": {
        "colab": {
          "base_uri": "https://localhost:8080/"
        },
        "id": "wxFtfPz_hY3q",
        "outputId": "ad3174c7-5b57-4c6d-bfd0-1ad8cf483cd2"
      },
      "outputs": [
        {
          "name": "stdout",
          "output_type": "stream",
          "text": [
            "{'Federer': 20, 'Nadal': 23, 'Djokovic': 24}\n"
          ]
        }
      ],
      "source": [
        "# remove the weird item that we added above, with key 3.14\n",
        "GS_trophies.pop(3.14)\n",
        "print(GS_trophies)"
      ]
    },
    {
      "cell_type": "markdown",
      "metadata": {
        "id": "iBevUn4oiCB2"
      },
      "source": [
        "Loop through all the keys in the dictionary, one by one, with a `for` loop:"
      ]
    },
    {
      "cell_type": "code",
      "execution_count": null,
      "metadata": {
        "colab": {
          "base_uri": "https://localhost:8080/"
        },
        "id": "ts1-NFX4iOBn",
        "outputId": "4500fc10-1b81-482f-d54a-f0b3263eeba2"
      },
      "outputs": [
        {
          "name": "stdout",
          "output_type": "stream",
          "text": [
            "Federer\n",
            "Nadal\n",
            "Djokovic\n"
          ]
        }
      ],
      "source": [
        "for key in GS_trophies:\n",
        "    print(key)"
      ]
    },
    {
      "cell_type": "markdown",
      "metadata": {
        "id": "q02rympyiXgA"
      },
      "source": [
        "To loop through the values, you can loop through the keys and get the values:"
      ]
    },
    {
      "cell_type": "code",
      "execution_count": null,
      "metadata": {
        "colab": {
          "base_uri": "https://localhost:8080/"
        },
        "id": "Op5BOX3SieLX",
        "outputId": "dbb06529-c58d-40b2-d1eb-1d7bf9fedccc"
      },
      "outputs": [
        {
          "name": "stdout",
          "output_type": "stream",
          "text": [
            "Federer has 20 Grand Slam trophies.\n",
            "Nadal has 23 Grand Slam trophies.\n",
            "Djokovic has 24 Grand Slam trophies.\n"
          ]
        }
      ],
      "source": [
        "for key in GS_trophies:\n",
        "    print(f\"{key} has {GS_trophies[key]} Grand Slam trophies.\")"
      ]
    },
    {
      "cell_type": "markdown",
      "metadata": {
        "id": "LRkpeD1Vb7-k"
      },
      "source": [
        "To copy a dictionary, you need to use the `copy(.)` method, just like for a list. (Using `=` will **not** return a copy of the dictionary but will simply give the dictionary a second name...)"
      ]
    },
    {
      "cell_type": "code",
      "execution_count": null,
      "metadata": {
        "colab": {
          "base_uri": "https://localhost:8080/"
        },
        "id": "uwTQw9MiaJUX",
        "outputId": "5fd075a8-f465-4b87-d524-648546e27e5a"
      },
      "outputs": [
        {
          "data": {
            "text/plain": [
              "dict_keys(['Federer', 'Nadal', 'Djokovic'])"
            ]
          },
          "execution_count": 59,
          "metadata": {},
          "output_type": "execute_result"
        }
      ],
      "source": [
        "GS_trophies.keys()"
      ]
    },
    {
      "cell_type": "markdown",
      "metadata": {
        "id": "kmmhNgpAjOLN"
      },
      "source": [
        "For more details on dictionaries (including the methods available), check <a\n",
        "href=\"https://www.w3schools.com/python/python_dictionaries.asp\">this</a>."
      ]
    },
    {
      "cell_type": "markdown",
      "metadata": {
        "id": "gOLtAzIak-SQ"
      },
      "source": [
        "# Functions\n",
        "Functions allow organizing the code in blocks that can be called separately (and many times). A function can take several arguments and can return data as a result. In Python, functions are defined using the `def` keyword."
      ]
    },
    {
      "cell_type": "markdown",
      "metadata": {
        "id": "N0RLciM8lRWy"
      },
      "source": [
        "Define a function with no arguments that prints a message."
      ]
    },
    {
      "cell_type": "code",
      "execution_count": null,
      "metadata": {
        "colab": {
          "base_uri": "https://localhost:8080/"
        },
        "id": "IVtALsAalQXd",
        "outputId": "a8dccc3f-ee5c-4416-a7b4-b1ba391fa4eb"
      },
      "outputs": [
        {
          "name": "stdout",
          "output_type": "stream",
          "text": [
            "Hello again!\n",
            "7\n",
            "This is the smartest function.\n",
            "(7, -3)\n",
            "This is the smartest function.\n",
            "7 -3\n",
            "This is the smartest function.\n",
            "This is the smartest function.\n"
          ]
        },
        {
          "data": {
            "text/plain": [
              "(11, -3)"
            ]
          },
          "execution_count": 60,
          "metadata": {},
          "output_type": "execute_result"
        }
      ],
      "source": [
        "# define a function without any arguments\n",
        "def hello():\n",
        "    print(\"Hello again!\")\n",
        "\n",
        "# now define another function that adds its two arguments\n",
        "def my_smart_addition(a,b):\n",
        "    return a+b\n",
        "\n",
        "# and an even smarter function that returns a+b and a-b as a list\n",
        "def my_smartest_function(a,b):\n",
        "    print(\"This is the smartest function.\")\n",
        "    a_plus_b = my_smart_addition(a,b)\n",
        "    a_minus_b = a-b\n",
        "    return a_plus_b, a_minus_b\n",
        "\n",
        "# let's test our functions\n",
        "hello()\n",
        "\n",
        "# this function returns something; let's store and print the result!\n",
        "result = my_smart_addition(2,5)\n",
        "print(result)\n",
        "\n",
        "#### the last function returns TWO things\n",
        "# we can store these in a single variable (which will be a tuple)\n",
        "result = my_smartest_function(2,5)\n",
        "print(result)\n",
        "\n",
        "# we can also store these in two variables (must be careful so the number of variables matches the number of return values!)\n",
        "result1, result2 = my_smartest_function(2,5)\n",
        "print(result1, result2)\n",
        "\n",
        "# you can use keyword arguments in the call\n",
        "my_smartest_function(a=4, b=7)\n",
        "\n",
        "# you can even mix keyword arguments with positional arguments, but positional arguments must go first\n",
        "my_smartest_function(4, b=7)"
      ]
    },
    {
      "cell_type": "markdown",
      "metadata": {
        "id": "7Hl_vmKflsFm"
      },
      "source": [
        "<font color=blue>A few important things to remember about defining functions:</font>\n",
        " - <font color=blue> The colon `:` is critical in the syntax (just like with `if` and `for`)</font>\n",
        " - <font color=blue> Functions can take arguments</font><br>\n",
        "   <font color=blue> _for instance, the second function takes as arguments two things a, b. These could be any data type._</font>\n",
        " - <font color=blue> The keyword `return` tells the function what value to return </font><br>\n",
        "   <font color=blue>_for instance, the second function returns the sum of its arguments, a + b_</font>\n",
        " - <font color=blue>You can return several values; you should be careful to have the correct number of variables to match these return values!</font><br>\n",
        " - <font color=blue>You can use keyword arguments when calling the function.</font>"
      ]
    },
    {
      "cell_type": "markdown",
      "metadata": {
        "id": "FLPRZLmFkw5U"
      },
      "source": [
        "# Importing modules\n",
        "A module is essentially a library with lots of functions. By \"importing\" a module with the function `import`, you can use all the functions inside it."
      ]
    },
    {
      "cell_type": "markdown",
      "metadata": {
        "id": "kRRWbTUFtJ-l"
      },
      "source": [
        "For instance, in this class we will use the `pandas` module a lot (for some reasons, see the separate section covering it!) To import it, you could do any of the following:\n",
        "\n",
        "> ``import pandas``\n",
        "\n",
        "This imports the \"pandas\" module, and allows us to use the functions it contains; to use the function `read_csv()`, we would have to use the syntax ``pandas.read_csv()``.\n",
        "\n",
        "Because this requires typing the word `pandas` all the time, we can assign it a 'short name' as follows:\n",
        "\n",
        "> ``import pandas as pd``\n",
        "\n",
        "This also imports the full \"pandas\" module, but now we could call the `fname` function using ``pd.read_csv()``. Saving a few characters could mean a lot if you're typing this thousands of times :-)\n",
        "\n",
        "Lastly, there is one more option that we could use:\n",
        "\n",
        "> ``from pandas import *``\n",
        "\n",
        "This imports everything in the pandas module and makes it so that we can just refer to the function using ``read_csv()``. This is useful if the functions are specific enough that you don't think the same name might be defined/used elsewhere, but it could be dangerous if you think there might be overlap."
      ]
    },
    {
      "cell_type": "markdown",
      "metadata": {
        "id": "hMQ4xKVnjfMf"
      },
      "source": [
        "# Pandas module\n",
        "Pandas is a Python library used for working with data sets. It has very useful functions for analyzing, cleaning, exploring, and manipulating data, and we will be using it a lot throughout our class. (And in case you're wondering, the name is **not** about an animal, for a change.... It's actually short for \"panel data\"!) Over coverage here will be very brief, but if you want more, see, e.g., <a href=\"https://www.w3schools.com/python/pandas/default.asp\">this resource.</a>"
      ]
    },
    {
      "cell_type": "code",
      "execution_count": null,
      "metadata": {
        "id": "96K3U_YezCUL"
      },
      "outputs": [],
      "source": [
        "# let's first import the module\n",
        "import pandas as pd"
      ]
    },
    {
      "cell_type": "markdown",
      "metadata": {
        "id": "fm9cFukfzPq3"
      },
      "source": [
        "## Series\n",
        "The most basic object in `pandas` is a `Series`, which can be created with the `Series(.)` function. You can think of it as a column in a table (think of a column in Excel!)"
      ]
    },
    {
      "cell_type": "code",
      "execution_count": null,
      "metadata": {
        "colab": {
          "base_uri": "https://localhost:8080/"
        },
        "id": "R7vXKP0Rzfyh",
        "outputId": "aba302d6-1d64-4593-89e4-e8f3a0dd3644"
      },
      "outputs": [
        {
          "name": "stdout",
          "output_type": "stream",
          "text": [
            "0    24\n",
            "1    56\n",
            "2    99\n",
            "dtype: int64\n"
          ]
        }
      ],
      "source": [
        "my_list = [24, 56, 99]            # create a simple list\n",
        "my_series = pd.Series(my_list)    # now create a series from the list\n",
        "\n",
        "print(my_series)                  # print the series"
      ]
    },
    {
      "cell_type": "markdown",
      "metadata": {
        "id": "kvSkMHTDzRyR"
      },
      "source": [
        "Note that `pandas` assigns a label (called an **index**) to each element in the series. If you don't specify anything, these labels/indices will be the integers 0, 1, 2, ... You can also specify your own custom labels with the `index` argument, as below."
      ]
    },
    {
      "cell_type": "code",
      "execution_count": null,
      "metadata": {
        "colab": {
          "base_uri": "https://localhost:8080/"
        },
        "id": "-XVQZh0nzPVi",
        "outputId": "8d877290-2097-4f8a-d6d7-5d20dcf38488"
      },
      "outputs": [
        {
          "name": "stdout",
          "output_type": "stream",
          "text": [
            "a    24\n",
            "b    56\n",
            "c    99\n",
            "dtype: int64\n"
          ]
        }
      ],
      "source": [
        "# create a series with a given index\n",
        "my_series = pd.Series(my_list, index = [\"a\", \"b\", \"c\"])\n",
        "print(my_series)                  # print the series"
      ]
    },
    {
      "cell_type": "markdown",
      "metadata": {
        "id": "vEat5DDIy_y1"
      },
      "source": [
        "By themselves, the Series are not terribly useful, but they form the basis of DataFrames, so it's good to understand them separately."
      ]
    },
    {
      "cell_type": "markdown",
      "metadata": {
        "id": "96o22Bao-biJ"
      },
      "source": [
        "## DataFrames\n",
        "DataFrames are the fundamental way in which data is organized in `pandas.` You can think of a DataFrame in close analogy with a table in Excel: it is a two-dimensional table that has Series as its columns."
      ]
    },
    {
      "cell_type": "markdown",
      "metadata": {
        "id": "oHeCtjNMBanP"
      },
      "source": [
        "### Basics"
      ]
    },
    {
      "cell_type": "markdown",
      "metadata": {
        "id": "p2rM0JsYC30r"
      },
      "source": [
        "Normally we read DataFrames from files, but here, we will show you two ways to create a DataFrame, either from a list of lists or from a dictionary. These might be useful in their own right.\n",
        "\n",
        "First, this is how to create a DataFrame from a dictionary. The keys correspond to the column names, and the values correspond to the values of the column (for every row)."
      ]
    },
    {
      "cell_type": "code",
      "execution_count": null,
      "metadata": {
        "colab": {
          "base_uri": "https://localhost:8080/"
        },
        "id": "ywB2WTFj-bif",
        "outputId": "85e37b73-5b1a-4eae-e82c-7193f6712e5a"
      },
      "outputs": [
        {
          "data": {
            "text/html": [
              "<div>\n",
              "<style scoped>\n",
              "    .dataframe tbody tr th:only-of-type {\n",
              "        vertical-align: middle;\n",
              "    }\n",
              "\n",
              "    .dataframe tbody tr th {\n",
              "        vertical-align: top;\n",
              "    }\n",
              "\n",
              "    .dataframe thead th {\n",
              "        text-align: right;\n",
              "    }\n",
              "</style>\n",
              "<table border=\"1\" class=\"dataframe\">\n",
              "  <thead>\n",
              "    <tr style=\"text-align: right;\">\n",
              "      <th></th>\n",
              "      <th>Name</th>\n",
              "      <th>Age</th>\n",
              "      <th>Id</th>\n",
              "      <th>City</th>\n",
              "    </tr>\n",
              "  </thead>\n",
              "  <tbody>\n",
              "    <tr>\n",
              "      <th>0</th>\n",
              "      <td>Alice</td>\n",
              "      <td>25</td>\n",
              "      <td>10001</td>\n",
              "      <td>New York</td>\n",
              "    </tr>\n",
              "    <tr>\n",
              "      <th>1</th>\n",
              "      <td>Bob</td>\n",
              "      <td>30</td>\n",
              "      <td>10002</td>\n",
              "      <td>San Francisco</td>\n",
              "    </tr>\n",
              "    <tr>\n",
              "      <th>2</th>\n",
              "      <td>Charlie</td>\n",
              "      <td>22</td>\n",
              "      <td>10003</td>\n",
              "      <td>Los Angeles</td>\n",
              "    </tr>\n",
              "    <tr>\n",
              "      <th>3</th>\n",
              "      <td>David</td>\n",
              "      <td>28</td>\n",
              "      <td>10004</td>\n",
              "      <td>Chicago</td>\n",
              "    </tr>\n",
              "  </tbody>\n",
              "</table>\n",
              "</div>"
            ],
            "text/plain": [
              "      Name  Age     Id           City\n",
              "0    Alice   25  10001       New York\n",
              "1      Bob   30  10002  San Francisco\n",
              "2  Charlie   22  10003    Los Angeles\n",
              "3    David   28  10004        Chicago"
            ]
          },
          "metadata": {},
          "output_type": "display_data"
        }
      ],
      "source": [
        "# a dictionary that stores some data\n",
        "dictionary_with_data = {\n",
        "    'Name': ['Alice', 'Bob', 'Charlie', 'David'],\n",
        "    'Age': [25, 30, 22, 28],\n",
        "    'Id' : [10001, 10002, 10003, 10004],\n",
        "    'City': ['New York', 'San Francisco', 'Los Angeles', 'Chicago']\n",
        "}\n",
        "\n",
        "# create a DataFrame from the dictionary\n",
        "df = pd.DataFrame(dictionary_with_data)\n",
        "\n",
        "# display it\n",
        "display(df)"
      ]
    },
    {
      "cell_type": "markdown",
      "metadata": {
        "id": "NCl7wCTPCyjt"
      },
      "source": [
        "Next, you can create a DataFrame also from a list of lists. The outer list contains one element for each **row** of the dataframe; each element of the outer list is itself a list, that contains the values for each column (corresponding to a row). We use the same example as above for clarity."
      ]
    },
    {
      "cell_type": "code",
      "execution_count": null,
      "metadata": {
        "colab": {
          "base_uri": "https://localhost:8080/"
        },
        "id": "9DNZ2v51DOho",
        "outputId": "c2bf572e-0be1-45b4-b402-ad0e10692e2d"
      },
      "outputs": [
        {
          "data": {
            "text/html": [
              "<div>\n",
              "<style scoped>\n",
              "    .dataframe tbody tr th:only-of-type {\n",
              "        vertical-align: middle;\n",
              "    }\n",
              "\n",
              "    .dataframe tbody tr th {\n",
              "        vertical-align: top;\n",
              "    }\n",
              "\n",
              "    .dataframe thead th {\n",
              "        text-align: right;\n",
              "    }\n",
              "</style>\n",
              "<table border=\"1\" class=\"dataframe\">\n",
              "  <thead>\n",
              "    <tr style=\"text-align: right;\">\n",
              "      <th></th>\n",
              "      <th>Name</th>\n",
              "      <th>Age</th>\n",
              "      <th>Id</th>\n",
              "      <th>City</th>\n",
              "    </tr>\n",
              "  </thead>\n",
              "  <tbody>\n",
              "    <tr>\n",
              "      <th>0</th>\n",
              "      <td>Alice</td>\n",
              "      <td>25</td>\n",
              "      <td>10001</td>\n",
              "      <td>New York</td>\n",
              "    </tr>\n",
              "    <tr>\n",
              "      <th>1</th>\n",
              "      <td>Bob</td>\n",
              "      <td>30</td>\n",
              "      <td>10002</td>\n",
              "      <td>San Francisco</td>\n",
              "    </tr>\n",
              "    <tr>\n",
              "      <th>2</th>\n",
              "      <td>Charlie</td>\n",
              "      <td>22</td>\n",
              "      <td>10003</td>\n",
              "      <td>Los Angeles</td>\n",
              "    </tr>\n",
              "    <tr>\n",
              "      <th>3</th>\n",
              "      <td>David</td>\n",
              "      <td>28</td>\n",
              "      <td>10004</td>\n",
              "      <td>Chicago</td>\n",
              "    </tr>\n",
              "  </tbody>\n",
              "</table>\n",
              "</div>"
            ],
            "text/plain": [
              "      Name  Age     Id           City\n",
              "0    Alice   25  10001       New York\n",
              "1      Bob   30  10002  San Francisco\n",
              "2  Charlie   22  10003    Los Angeles\n",
              "3    David   28  10004        Chicago"
            ]
          },
          "metadata": {},
          "output_type": "display_data"
        }
      ],
      "source": [
        "# a list of lists (!) to store the data\n",
        "list_of_lists_of_data = [ ['Alice', 25, 10001, 'New York'], \\\n",
        " ['Bob', 30, 10002, 'San Francisco'], \\\n",
        " ['Charlie', 22, 10003, 'Los Angeles'], \\\n",
        " ['David', 28, 10004, 'Chicago'] ]\n",
        "\n",
        "# create a DataFrame from the dictionary\n",
        "df = pd.DataFrame(list_of_lists_of_data, columns = [\"Name\", \"Age\", \"Id\", \"City\"])\n",
        "\n",
        "# display it\n",
        "display(df)"
      ]
    },
    {
      "cell_type": "markdown",
      "metadata": {
        "id": "O429TrsX-big"
      },
      "source": [
        "As you can see, the DataFrame is basically a table with rows and columns. The column labels/names here are \"Name\", \"Age\", \"Id\", and \"City\". The rows are labeled with 0, 1, 2, 3, which you can see displayed in the first column (to be clear, that column is not really part of our DataFrame, so the first actual column is \"Name\"). Just like for a `Series`, `pandas` assigned these labels automatically when we created the DataFrame, and it used 0, 1, 2, 3 because we didn't specify custom ones (with the `index` argument).<br>\n",
        "\n",
        "The function `display(.)`, which we already used above, is great for visualizing DataFrames. In a large DataFrame, you may want to only display a few rows, which you can do with the `head(.)` method:"
      ]
    },
    {
      "cell_type": "code",
      "execution_count": null,
      "metadata": {
        "colab": {
          "base_uri": "https://localhost:8080/"
        },
        "id": "xTpSyhKwJcRA",
        "outputId": "8299368a-177d-4207-c480-ff0ce597ea2b"
      },
      "outputs": [
        {
          "data": {
            "text/html": [
              "<div>\n",
              "<style scoped>\n",
              "    .dataframe tbody tr th:only-of-type {\n",
              "        vertical-align: middle;\n",
              "    }\n",
              "\n",
              "    .dataframe tbody tr th {\n",
              "        vertical-align: top;\n",
              "    }\n",
              "\n",
              "    .dataframe thead th {\n",
              "        text-align: right;\n",
              "    }\n",
              "</style>\n",
              "<table border=\"1\" class=\"dataframe\">\n",
              "  <thead>\n",
              "    <tr style=\"text-align: right;\">\n",
              "      <th></th>\n",
              "      <th>Name</th>\n",
              "      <th>Age</th>\n",
              "      <th>Id</th>\n",
              "      <th>City</th>\n",
              "    </tr>\n",
              "  </thead>\n",
              "  <tbody>\n",
              "    <tr>\n",
              "      <th>0</th>\n",
              "      <td>Alice</td>\n",
              "      <td>25</td>\n",
              "      <td>10001</td>\n",
              "      <td>New York</td>\n",
              "    </tr>\n",
              "    <tr>\n",
              "      <th>1</th>\n",
              "      <td>Bob</td>\n",
              "      <td>30</td>\n",
              "      <td>10002</td>\n",
              "      <td>San Francisco</td>\n",
              "    </tr>\n",
              "  </tbody>\n",
              "</table>\n",
              "</div>"
            ],
            "text/plain": [
              "    Name  Age     Id           City\n",
              "0  Alice   25  10001       New York\n",
              "1    Bob   30  10002  San Francisco"
            ]
          },
          "execution_count": 66,
          "metadata": {},
          "output_type": "execute_result"
        }
      ],
      "source": [
        "# display the first 2 rows\n",
        "df.head(2)"
      ]
    },
    {
      "cell_type": "markdown",
      "metadata": {
        "id": "fR9aYyAL8ncW"
      },
      "source": [
        "To find out the number of rows, use `len(.)`"
      ]
    },
    {
      "cell_type": "code",
      "execution_count": null,
      "metadata": {
        "colab": {
          "base_uri": "https://localhost:8080/"
        },
        "id": "57EoI3C68qt8",
        "outputId": "5ce863c3-d0b2-400f-982f-b8607c6d3dc7"
      },
      "outputs": [
        {
          "name": "stdout",
          "output_type": "stream",
          "text": [
            "4\n"
          ]
        }
      ],
      "source": [
        "# print the number of rows in the DataFrame\n",
        "print(len(df))"
      ]
    },
    {
      "cell_type": "markdown",
      "metadata": {
        "id": "kB_EjOT-BPO3"
      },
      "source": [
        "If you need both the number of rows and the number of columns, use `shape`"
      ]
    },
    {
      "cell_type": "code",
      "execution_count": null,
      "metadata": {
        "colab": {
          "base_uri": "https://localhost:8080/"
        },
        "id": "Aow_V08DBT3Z",
        "outputId": "abd11ed6-6df1-49ea-b535-c3145af58852"
      },
      "outputs": [
        {
          "data": {
            "text/plain": [
              "(4, 4)"
            ]
          },
          "execution_count": 68,
          "metadata": {},
          "output_type": "execute_result"
        }
      ],
      "source": [
        "df.shape"
      ]
    },
    {
      "cell_type": "markdown",
      "metadata": {
        "id": "usyuuaoqNHuf"
      },
      "source": [
        "### Column operations"
      ]
    },
    {
      "cell_type": "markdown",
      "metadata": {
        "id": "AczO9D9HI1Bv"
      },
      "source": [
        "You can see a specific column using the syntax `df[column_name]`:"
      ]
    },
    {
      "cell_type": "code",
      "execution_count": null,
      "metadata": {
        "colab": {
          "base_uri": "https://localhost:8080/"
        },
        "id": "5vCUGSjwIkoE",
        "outputId": "ede5ed19-8070-4fc0-82de-c1864aa12b69"
      },
      "outputs": [
        {
          "data": {
            "text/plain": [
              "0    25\n",
              "1    30\n",
              "2    22\n",
              "3    28\n",
              "Name: Age, dtype: int64"
            ]
          },
          "execution_count": 69,
          "metadata": {},
          "output_type": "execute_result"
        }
      ],
      "source": [
        "# check out the column \"Age\" : this is a Series, with integer values\n",
        "df[\"Age\"]"
      ]
    },
    {
      "cell_type": "markdown",
      "metadata": {
        "id": "y9eKtGSmNMMH"
      },
      "source": [
        "To rename a column, use the `rename(.)` DataFrame method"
      ]
    },
    {
      "cell_type": "code",
      "execution_count": null,
      "metadata": {
        "colab": {
          "base_uri": "https://localhost:8080/"
        },
        "id": "m-fVwaYhNb6V",
        "outputId": "e1d3affe-e421-4a92-8e3a-111ff3f0c79b"
      },
      "outputs": [
        {
          "data": {
            "text/html": [
              "<div>\n",
              "<style scoped>\n",
              "    .dataframe tbody tr th:only-of-type {\n",
              "        vertical-align: middle;\n",
              "    }\n",
              "\n",
              "    .dataframe tbody tr th {\n",
              "        vertical-align: top;\n",
              "    }\n",
              "\n",
              "    .dataframe thead th {\n",
              "        text-align: right;\n",
              "    }\n",
              "</style>\n",
              "<table border=\"1\" class=\"dataframe\">\n",
              "  <thead>\n",
              "    <tr style=\"text-align: right;\">\n",
              "      <th></th>\n",
              "      <th>Name</th>\n",
              "      <th>Years</th>\n",
              "      <th>Id</th>\n",
              "      <th>Location</th>\n",
              "    </tr>\n",
              "  </thead>\n",
              "  <tbody>\n",
              "    <tr>\n",
              "      <th>0</th>\n",
              "      <td>Alice</td>\n",
              "      <td>25</td>\n",
              "      <td>10001</td>\n",
              "      <td>New York</td>\n",
              "    </tr>\n",
              "    <tr>\n",
              "      <th>1</th>\n",
              "      <td>Bob</td>\n",
              "      <td>30</td>\n",
              "      <td>10002</td>\n",
              "      <td>San Francisco</td>\n",
              "    </tr>\n",
              "    <tr>\n",
              "      <th>2</th>\n",
              "      <td>Charlie</td>\n",
              "      <td>22</td>\n",
              "      <td>10003</td>\n",
              "      <td>Los Angeles</td>\n",
              "    </tr>\n",
              "    <tr>\n",
              "      <th>3</th>\n",
              "      <td>David</td>\n",
              "      <td>28</td>\n",
              "      <td>10004</td>\n",
              "      <td>Chicago</td>\n",
              "    </tr>\n",
              "  </tbody>\n",
              "</table>\n",
              "</div>"
            ],
            "text/plain": [
              "      Name  Years     Id       Location\n",
              "0    Alice     25  10001       New York\n",
              "1      Bob     30  10002  San Francisco\n",
              "2  Charlie     22  10003    Los Angeles\n",
              "3    David     28  10004        Chicago"
            ]
          },
          "metadata": {},
          "output_type": "display_data"
        }
      ],
      "source": [
        "# rename the \"City\" column as 'Location' and the 'Age' as 'Years'\n",
        "df.rename(columns={'City': 'Location', 'Age': 'Years'}, inplace=True)\n",
        "display(df)"
      ]
    },
    {
      "cell_type": "markdown",
      "metadata": {
        "id": "H_sqo-Q6NqLx"
      },
      "source": [
        "The argument `inplace`=True is needed to make sure that the DataFrame is actually changed (otherwise, the `rename` method just returns a new DataFrame, without changing the existing one)."
      ]
    },
    {
      "cell_type": "markdown",
      "metadata": {
        "id": "wfBLqTPPJT6Q"
      },
      "source": [
        "To obtain the names of all the columns, use the attribute `df.columns`."
      ]
    },
    {
      "cell_type": "code",
      "execution_count": null,
      "metadata": {
        "colab": {
          "base_uri": "https://localhost:8080/"
        },
        "id": "EuAFJ_YeI0ng",
        "outputId": "dc646b92-3a3e-4ba9-c9e3-41ca4a873fe8"
      },
      "outputs": [
        {
          "data": {
            "text/plain": [
              "Index(['Name', 'Years', 'Id', 'Location'], dtype='object')"
            ]
          },
          "execution_count": 71,
          "metadata": {},
          "output_type": "execute_result"
        }
      ],
      "source": [
        "# get all the column names\n",
        "df.columns"
      ]
    },
    {
      "cell_type": "markdown",
      "metadata": {
        "id": "r1X2VJ6TLdeq"
      },
      "source": [
        "As you can see, this returns an `Index` object (which we have not discussed), but you can iterate through it with a usual `for` loop or you can transform it into a regular Python List with the function `list`."
      ]
    },
    {
      "cell_type": "code",
      "execution_count": null,
      "metadata": {
        "colab": {
          "base_uri": "https://localhost:8080/"
        },
        "id": "fOfUGtZdJyxI",
        "outputId": "52925d50-e426-4759-858c-44a10524bebd"
      },
      "outputs": [
        {
          "name": "stdout",
          "output_type": "stream",
          "text": [
            "Name\n",
            "Years\n",
            "Id\n",
            "Location\n",
            "['Name', 'Years', 'Id', 'Location']\n"
          ]
        }
      ],
      "source": [
        "# let's iterate through the names of the columns with a for loop\n",
        "for c in df.columns:\n",
        "     print(c)\n",
        "\n",
        "# let's store the columns in a list and display the list\n",
        "column_names = list(df.columns)\n",
        "print(column_names)"
      ]
    },
    {
      "cell_type": "markdown",
      "metadata": {
        "id": "-RrpCWyKJzKE"
      },
      "source": [
        "<font color=red>**Warning!**</font>`df.columns` **is not a method**! If you use round brackets, you will get an error:"
      ]
    },
    {
      "cell_type": "code",
      "execution_count": null,
      "metadata": {
        "id": "rfUATKyXLWKN"
      },
      "outputs": [],
      "source": [
        "# # the following would generate an error!\n",
        "# df.columns()"
      ]
    },
    {
      "cell_type": "markdown",
      "metadata": {
        "id": "9qmr877by_Lv"
      },
      "source": [
        "### Row operations"
      ]
    },
    {
      "cell_type": "markdown",
      "metadata": {
        "id": "wjd4n-X_KN4n"
      },
      "source": [
        "To get all the row labels, used `df.index`."
      ]
    },
    {
      "cell_type": "code",
      "execution_count": null,
      "metadata": {
        "colab": {
          "base_uri": "https://localhost:8080/"
        },
        "id": "bBPGyTRBKaqA",
        "outputId": "31ac1f1e-86d7-4624-f91f-c0470fd68c85"
      },
      "outputs": [
        {
          "data": {
            "text/plain": [
              "RangeIndex(start=0, stop=4, step=1)"
            ]
          },
          "execution_count": 74,
          "metadata": {},
          "output_type": "execute_result"
        }
      ],
      "source": [
        "# get all the row labels\n",
        "df.index"
      ]
    },
    {
      "cell_type": "markdown",
      "metadata": {
        "id": "TbTZ1u5yKmWx"
      },
      "source": [
        "This also returns an object (a `RangeIndex`), but you can readily loop through it with a `for` or store it as a list."
      ]
    },
    {
      "cell_type": "code",
      "execution_count": null,
      "metadata": {
        "colab": {
          "base_uri": "https://localhost:8080/"
        },
        "id": "5P-FGaHOKw7L",
        "outputId": "3efce69e-8e10-45b4-9755-547df1921951"
      },
      "outputs": [
        {
          "name": "stdout",
          "output_type": "stream",
          "text": [
            "0\n",
            "1\n",
            "2\n",
            "3\n",
            "[0, 1, 2, 3]\n"
          ]
        }
      ],
      "source": [
        "# let's iterate through the indices of all the rows\n",
        "for i in df.index:\n",
        "     print(i)\n",
        "\n",
        "# let's store the columns in a list and display the list\n",
        "row_idx = list(df.index)\n",
        "print(row_idx)"
      ]
    },
    {
      "cell_type": "markdown",
      "metadata": {
        "id": "2lxLso3rM5nN"
      },
      "source": [
        "To change the row labels used for the DataFrame:\n",
        " - to set these to the values of an existing column, use the `set_index` method\n",
        " - to set these to some Python list, assign the `index` attribute\n",
        "**Warning** To make sure you avoid ambiguities, the labels should always contain unique values."
      ]
    },
    {
      "cell_type": "code",
      "execution_count": null,
      "metadata": {
        "colab": {
          "base_uri": "https://localhost:8080/"
        },
        "id": "WUqCEqPX7Tf6",
        "outputId": "5a0e1fd5-5517-4918-e7c7-a0fe79f72559"
      },
      "outputs": [
        {
          "data": {
            "text/html": [
              "<div>\n",
              "<style scoped>\n",
              "    .dataframe tbody tr th:only-of-type {\n",
              "        vertical-align: middle;\n",
              "    }\n",
              "\n",
              "    .dataframe tbody tr th {\n",
              "        vertical-align: top;\n",
              "    }\n",
              "\n",
              "    .dataframe thead th {\n",
              "        text-align: right;\n",
              "    }\n",
              "</style>\n",
              "<table border=\"1\" class=\"dataframe\">\n",
              "  <thead>\n",
              "    <tr style=\"text-align: right;\">\n",
              "      <th></th>\n",
              "      <th>Name</th>\n",
              "      <th>Years</th>\n",
              "      <th>Location</th>\n",
              "    </tr>\n",
              "    <tr>\n",
              "      <th>Id</th>\n",
              "      <th></th>\n",
              "      <th></th>\n",
              "      <th></th>\n",
              "    </tr>\n",
              "  </thead>\n",
              "  <tbody>\n",
              "    <tr>\n",
              "      <th>10001</th>\n",
              "      <td>Alice</td>\n",
              "      <td>25</td>\n",
              "      <td>New York</td>\n",
              "    </tr>\n",
              "    <tr>\n",
              "      <th>10002</th>\n",
              "      <td>Bob</td>\n",
              "      <td>30</td>\n",
              "      <td>San Francisco</td>\n",
              "    </tr>\n",
              "    <tr>\n",
              "      <th>10003</th>\n",
              "      <td>Charlie</td>\n",
              "      <td>22</td>\n",
              "      <td>Los Angeles</td>\n",
              "    </tr>\n",
              "    <tr>\n",
              "      <th>10004</th>\n",
              "      <td>David</td>\n",
              "      <td>28</td>\n",
              "      <td>Chicago</td>\n",
              "    </tr>\n",
              "  </tbody>\n",
              "</table>\n",
              "</div>"
            ],
            "text/plain": [
              "          Name  Years       Location\n",
              "Id                                  \n",
              "10001    Alice     25       New York\n",
              "10002      Bob     30  San Francisco\n",
              "10003  Charlie     22    Los Angeles\n",
              "10004    David     28        Chicago"
            ]
          },
          "metadata": {},
          "output_type": "display_data"
        }
      ],
      "source": [
        "# assign the index to the column 'Id', which in our case has unique id's\n",
        "df.set_index('Id', inplace=True)\n",
        "\n",
        "display(df)"
      ]
    },
    {
      "cell_type": "markdown",
      "metadata": {
        "id": "7YuFrNBLM5ci"
      },
      "source": [
        "As you can see, the row labels are now given by the \"Id\" column. Now let's set these to a, b, c, ..."
      ]
    },
    {
      "cell_type": "code",
      "execution_count": null,
      "metadata": {
        "colab": {
          "base_uri": "https://localhost:8080/"
        },
        "id": "iG6WNZkA8RVd",
        "outputId": "e78acb04-6e77-452d-91ea-a61d4541b5e4"
      },
      "outputs": [
        {
          "data": {
            "text/html": [
              "<div>\n",
              "<style scoped>\n",
              "    .dataframe tbody tr th:only-of-type {\n",
              "        vertical-align: middle;\n",
              "    }\n",
              "\n",
              "    .dataframe tbody tr th {\n",
              "        vertical-align: top;\n",
              "    }\n",
              "\n",
              "    .dataframe thead th {\n",
              "        text-align: right;\n",
              "    }\n",
              "</style>\n",
              "<table border=\"1\" class=\"dataframe\">\n",
              "  <thead>\n",
              "    <tr style=\"text-align: right;\">\n",
              "      <th></th>\n",
              "      <th>Name</th>\n",
              "      <th>Years</th>\n",
              "      <th>Location</th>\n",
              "    </tr>\n",
              "  </thead>\n",
              "  <tbody>\n",
              "    <tr>\n",
              "      <th>a</th>\n",
              "      <td>Alice</td>\n",
              "      <td>25</td>\n",
              "      <td>New York</td>\n",
              "    </tr>\n",
              "    <tr>\n",
              "      <th>b</th>\n",
              "      <td>Bob</td>\n",
              "      <td>30</td>\n",
              "      <td>San Francisco</td>\n",
              "    </tr>\n",
              "    <tr>\n",
              "      <th>c</th>\n",
              "      <td>Charlie</td>\n",
              "      <td>22</td>\n",
              "      <td>Los Angeles</td>\n",
              "    </tr>\n",
              "    <tr>\n",
              "      <th>d</th>\n",
              "      <td>David</td>\n",
              "      <td>28</td>\n",
              "      <td>Chicago</td>\n",
              "    </tr>\n",
              "  </tbody>\n",
              "</table>\n",
              "</div>"
            ],
            "text/plain": [
              "      Name  Years       Location\n",
              "a    Alice     25       New York\n",
              "b      Bob     30  San Francisco\n",
              "c  Charlie     22    Los Angeles\n",
              "d    David     28        Chicago"
            ]
          },
          "metadata": {},
          "output_type": "display_data"
        }
      ],
      "source": [
        "# change the index to 0, 1, ...\n",
        "df.index = list(['a','b','c','d'])\n",
        "\n",
        "display(df)"
      ]
    },
    {
      "cell_type": "markdown",
      "metadata": {
        "id": "GPQRmi7p9sHB"
      },
      "source": [
        "### Retrieve elements\n",
        "One of the most important operations with a DataFrame is to retrieve an element located at a certain row and column."
      ]
    },
    {
      "cell_type": "markdown",
      "metadata": {
        "id": "N1pTsjOS9RS4"
      },
      "source": [
        "If you know the row and column labels, there are two approaches:\n",
        " 1. use `df[column_label][row_label]`\n",
        " 2. use `df.loc[row_label, column_label]`\n",
        "\n",
        "First time you see this, it might look a bit confusing, especially because the order or rows/columns is switched! Recall that `df[column_label]` from approach (1) returns the `Series` corresponding to the column named `column_label`, so then, applying `[row_label]` to that simply returns the element at the `[row_label]` location. In contrast, (2) is the (arguably more natural) approach of indexing first with the row and then the column. Let's see them in action:"
      ]
    },
    {
      "cell_type": "code",
      "execution_count": null,
      "metadata": {
        "colab": {
          "base_uri": "https://localhost:8080/"
        },
        "id": "cknhcMss-XzM",
        "outputId": "9859f27b-b437-475a-8451-0d14e73e26ea"
      },
      "outputs": [
        {
          "name": "stdout",
          "output_type": "stream",
          "text": [
            "22\n",
            "22\n"
          ]
        }
      ],
      "source": [
        "# let's get the element on row 'c' and column \"Years\"\n",
        "print(df[\"Years\"]['c'])   # approach 1\n",
        "print(df.loc['c',\"Years\"])    # approach 2"
      ]
    },
    {
      "cell_type": "markdown",
      "metadata": {
        "id": "VMhlBu5I_44a"
      },
      "source": [
        "`df.loc` actually allows you to recover several rows and columns (i.e., an entire sub-table) of the DataFrame"
      ]
    },
    {
      "cell_type": "code",
      "execution_count": null,
      "metadata": {
        "colab": {
          "base_uri": "https://localhost:8080/"
        },
        "id": "V-1FWwCi_4IS",
        "outputId": "e8db1cc1-7e07-4032-c2df-3563cea09a7a"
      },
      "outputs": [
        {
          "data": {
            "text/html": [
              "<div>\n",
              "<style scoped>\n",
              "    .dataframe tbody tr th:only-of-type {\n",
              "        vertical-align: middle;\n",
              "    }\n",
              "\n",
              "    .dataframe tbody tr th {\n",
              "        vertical-align: top;\n",
              "    }\n",
              "\n",
              "    .dataframe thead th {\n",
              "        text-align: right;\n",
              "    }\n",
              "</style>\n",
              "<table border=\"1\" class=\"dataframe\">\n",
              "  <thead>\n",
              "    <tr style=\"text-align: right;\">\n",
              "      <th></th>\n",
              "      <th>Name</th>\n",
              "      <th>Location</th>\n",
              "    </tr>\n",
              "  </thead>\n",
              "  <tbody>\n",
              "    <tr>\n",
              "      <th>c</th>\n",
              "      <td>Charlie</td>\n",
              "      <td>Los Angeles</td>\n",
              "    </tr>\n",
              "    <tr>\n",
              "      <th>d</th>\n",
              "      <td>David</td>\n",
              "      <td>Chicago</td>\n",
              "    </tr>\n",
              "  </tbody>\n",
              "</table>\n",
              "</div>"
            ],
            "text/plain": [
              "      Name     Location\n",
              "c  Charlie  Los Angeles\n",
              "d    David      Chicago"
            ]
          },
          "execution_count": 79,
          "metadata": {},
          "output_type": "execute_result"
        }
      ],
      "source": [
        "df.loc['c':'e',[\"Name\", \"Location\"]]"
      ]
    },
    {
      "cell_type": "markdown",
      "metadata": {
        "id": "8XTlzm0MHOdW"
      },
      "source": [
        "Another option is to index into the DataFrame using entirely numeric indices, using `iloc`, with syntax:\n",
        "> `df.iloc[numeric_row_index, numeric_column_index]`\n",
        "\n",
        "To not get confused here, remember that Python uses 0-based indexing (and the very first column, which lists the row labels, does not count as a proper column)."
      ]
    },
    {
      "cell_type": "code",
      "execution_count": null,
      "metadata": {
        "colab": {
          "base_uri": "https://localhost:8080/"
        },
        "id": "OYGcKwhwGeW1",
        "outputId": "22368fbd-83a3-4f56-dbb7-295931af6dce"
      },
      "outputs": [
        {
          "data": {
            "text/plain": [
              "'Alice'"
            ]
          },
          "execution_count": 80,
          "metadata": {},
          "output_type": "execute_result"
        }
      ],
      "source": [
        "# let's retrieve the element in row 1 and column 1\n",
        "df.iloc[0, 0]"
      ]
    },
    {
      "cell_type": "markdown",
      "metadata": {
        "id": "NJ9Hg79qAWBX"
      },
      "source": [
        "### Looping\n",
        "To loop through the elements in a row or a column (or a sub-table), you can just use a regular `for` loop"
      ]
    },
    {
      "cell_type": "code",
      "execution_count": null,
      "metadata": {
        "colab": {
          "base_uri": "https://localhost:8080/"
        },
        "id": "_R6RczF8Af-7",
        "outputId": "df5285cd-e40a-48de-a8bf-2fac68d67704"
      },
      "outputs": [
        {
          "name": "stdout",
          "output_type": "stream",
          "text": [
            "Alice\n",
            "Bob\n",
            "Charlie\n",
            "David\n",
            "25\n",
            "30\n",
            "22\n",
            "28\n",
            "New York\n",
            "San Francisco\n",
            "Los Angeles\n",
            "Chicago\n"
          ]
        }
      ],
      "source": [
        "# let's loop through the entire DataFrame on columns\n",
        "for c in list(df.columns):\n",
        "    # for every column\n",
        "    for r in list(df.index):\n",
        "        # for every row\n",
        "        print(df.loc[r,c])"
      ]
    },
    {
      "cell_type": "code",
      "execution_count": null,
      "metadata": {
        "colab": {
          "base_uri": "https://localhost:8080/"
        },
        "id": "XlxPDhihA2hC",
        "outputId": "d441ba5e-120d-4850-fa67-21b0795ac040"
      },
      "outputs": [
        {
          "name": "stdout",
          "output_type": "stream",
          "text": [
            "Alice\n",
            "25\n",
            "New York\n",
            "Bob\n",
            "30\n",
            "San Francisco\n",
            "Charlie\n",
            "22\n",
            "Los Angeles\n",
            "David\n",
            "28\n",
            "Chicago\n"
          ]
        }
      ],
      "source": [
        "# now let's loop on rows, and using numeric indexing\n",
        "(num_rows, num_cols) = df.shape\n",
        "for r in range(num_rows):\n",
        "    # for every row\n",
        "    for c in range(num_cols):\n",
        "        # for every column\n",
        "        print(df.iloc[r,c])"
      ]
    },
    {
      "cell_type": "markdown",
      "metadata": {
        "id": "KOQKLuBH6Ee9"
      },
      "source": [
        "Depending on what calculation you need, looping with `for` loops like above may not be the best approach; instead, we may want to use a list comprehension (something we will do often together) or one of the built-in DataFrame functions. `DataFrames` and more broadly the `pandas` module have a lot of powerful functionality built-in, and you will likely explore more of that in your D&D class. For now, if you want more details, you can check out one of the many tutorials available online (e.g., <a href=\"https://www.datacamp.com/tutorial/pandas-tutorial-dataframe-python\">the DataCamp one</a>) or <a href=\"https://pandas.pydata.org/docs/reference/frame.html\">the official Python manual</a>."
      ]
    },
    {
      "cell_type": "markdown",
      "metadata": {
        "id": "vhFaZvbvC0DZ"
      },
      "source": [
        "## Reading data files\n",
        "We will read data files using panda's `read_csv` or `read_excel` functions."
      ]
    },
    {
      "cell_type": "markdown",
      "metadata": {
        "id": "qXirwpViEOi0"
      },
      "source": [
        "This code assumes that you imported the pandas module with the command `import pandas as pd`. For reading CSV files, the most common syntax we use is:\n",
        "> `df = pd.read_csv(full_file_name, index_col)`<br>\n",
        "where:\n",
        " - `full_file_name`: complete filename, including path if needed\n",
        " - `index_col` : the name or numeric index of the column to use to construct the row labels (this is optional, and if you don't specify it, Python will use 0, 1, 2, ...)\n",
        "\n",
        "For reading CSV files, the most common syntax we use is:\n",
        "> `df = pd.read_excel(full_file_name, sheet_name, index_col)`<br>\n",
        "where:\n",
        " - `full_file_name`: complete filename, including path if needed\n",
        " - `sheet_name`: the name of the sheet\n",
        " - `index_col`: the name or numeric index of the column to use to construct the row labels; (optional, and if you don't specify it, Python will use 0, 1, 2, ...)"
      ]
    },
    {
      "cell_type": "markdown",
      "metadata": {
        "id": "5hE-vfJnCn3-"
      },
      "source": [
        "# Plotting\n",
        "We will do most of our plotting with the `pyplot` library, which is contained inside the `matplotlib` library."
      ]
    },
    {
      "cell_type": "code",
      "execution_count": null,
      "metadata": {
        "id": "6hRkRA_-HcYt"
      },
      "outputs": [],
      "source": [
        "# import pyplot library from the matplotlib library\n",
        "import matplotlib.pyplot as plt"
      ]
    },
    {
      "cell_type": "markdown",
      "metadata": {
        "id": "-efQAD4GAksV"
      },
      "source": [
        "For a histogram, use `hist`"
      ]
    },
    {
      "cell_type": "code",
      "execution_count": null,
      "metadata": {
        "colab": {
          "base_uri": "https://localhost:8080/"
        },
        "id": "pJITELPeAksV",
        "outputId": "12999521-5653-4e4b-92af-ca97426a64f5"
      },
      "outputs": [
        {
          "data": {
            "image/png": "[encoded data removed]",
            "text/plain": [
              "<Figure size 640x480 with 1 Axes>"
            ]
          },
          "metadata": {},
          "output_type": "display_data"
        }
      ],
      "source": [
        "# let's create a list with 1000 random integers taking values from 1 to 10\n",
        "import random\n",
        "random_integers = [random.randint(1, 10) for _ in range(100)]\n",
        "\n",
        "# plot a histogram of the values\n",
        "plt.hist(random_integers, bins=20, color=\"darkred\", edgecolor=\"black\")\n",
        "plt.ylabel(\"Count\", fontsize=14)\n",
        "plt.xlabel(\"Values for the variable\", fontsize=14)\n",
        "plt.title(\"Histogram of the variable\",fontsize=16)\n",
        "plt.show()"
      ]
    },
    {
      "cell_type": "markdown",
      "metadata": {
        "id": "Edf25MFwAksV"
      },
      "source": [
        "The code also shows how to change the x- and y- labels and the title. Many things could be adjusted in a plot. <a href=\"https://matplotlib.org/2.0.2/users/pyplot_tutorial.html\">This tutorial</a> could be a useful reference, but we recommend leveraging AI bots for this: with suitable prompting and a few iterations, they can typically get you very nice-looking plots!"
      ]
    },
    {
      "cell_type": "markdown",
      "metadata": {
        "id": "mBpq0oIiG5hf"
      },
      "source": [
        "For line plots, we use the `plot` function"
      ]
    },
    {
      "cell_type": "code",
      "execution_count": null,
      "metadata": {
        "colab": {
          "base_uri": "https://localhost:8080/"
        },
        "id": "Y0NdPEFXG48w",
        "outputId": "4d2ba125-e085-4f59-88df-0be1529624a0"
      },
      "outputs": [
        {
          "data": {
            "image/png": "[encoded data removed]",
            "text/plain": [
              "<Figure size 640x480 with 1 Axes>"
            ]
          },
          "metadata": {},
          "output_type": "display_data"
        }
      ],
      "source": [
        "# let's plot the function 3*x+2 for x in 0, 1, ..., 10\n",
        "xpoints = list(range(11))               # the values of x\n",
        "ypoints = [3*x+2 for x in xpoints]      # a list with the values of y = 3x+2\n",
        "\n",
        "plt.plot(xpoints, ypoints)\n",
        "plt.show()"
      ]
    },
    {
      "cell_type": "markdown",
      "metadata": {
        "id": "2HGEHyU7J2Gh"
      },
      "source": [
        "For a scatter plot, use `scatter`"
      ]
    },
    {
      "cell_type": "code",
      "execution_count": null,
      "metadata": {
        "colab": {
          "base_uri": "https://localhost:8080/"
        },
        "id": "a668mzrfJ1n5",
        "outputId": "0f03ce98-bda9-4154-8655-319a7cf840e3"
      },
      "outputs": [
        {
          "data": {
            "image/png": "[encoded data removed]",
            "text/plain": [
              "<Figure size 640x480 with 1 Axes>"
            ]
          },
          "metadata": {},
          "output_type": "display_data"
        }
      ],
      "source": [
        "# let's plot the same function as above\n",
        "plt.scatter(xpoints, ypoints)\n",
        "plt.show()"
      ]
    },
    {
      "cell_type": "markdown",
      "metadata": {
        "id": "cS7ScLy-AksV"
      },
      "source": [
        "# NumPy Basics\n",
        "NumPy is a powerful Python library used for numerical computations. It provides support for large multi-dimensional arrays and matrices, along with a collection of mathematical functions to operate on these arrays. Although numpy's functionality can be replicated in principle with lists of lists, numpy is **a lot** faster than lists (about 50 times faster) and should always be used instead of lists for large-scale computations."
      ]
    },
    {
      "cell_type": "markdown",
      "metadata": {
        "id": "vkXBohwpAksV"
      },
      "source": [
        "### Creating Arrays\n",
        "NumPy arrays can be created using the `array` function. Here's a basic example of creating an array from a list:"
      ]
    },
    {
      "cell_type": "code",
      "execution_count": null,
      "metadata": {
        "colab": {
          "base_uri": "https://localhost:8080/"
        },
        "id": "VKzLiKlQAksV",
        "outputId": "a687a618-9e36-4178-e027-bd41546b9149"
      },
      "outputs": [
        {
          "name": "stdout",
          "output_type": "stream",
          "text": [
            "[1 2 3 4 5]\n"
          ]
        }
      ],
      "source": [
        "import numpy as np\n",
        "# Creating an array\n",
        "arr = np.array([1, 2, 3, 4, 5])\n",
        "print(arr)"
      ]
    },
    {
      "cell_type": "markdown",
      "metadata": {
        "id": "KLH4ZZhzAksV"
      },
      "source": [
        "### Indexing\n",
        "You can access elements of a NumPy array using indexing, similar to lists. Remember that indexing starts at 0."
      ]
    },
    {
      "cell_type": "code",
      "execution_count": null,
      "metadata": {
        "colab": {
          "base_uri": "https://localhost:8080/"
        },
        "id": "X3YkHYqPAksW",
        "outputId": "3b0b8c76-e2e9-4a97-fa7d-9a0feec1333a"
      },
      "outputs": [
        {
          "name": "stdout",
          "output_type": "stream",
          "text": [
            "1\n",
            "3\n"
          ]
        }
      ],
      "source": [
        "# Accessing elements\n",
        "print(arr[0])  # First element\n",
        "print(arr[2])  # Third element"
      ]
    },
    {
      "cell_type": "code",
      "execution_count": null,
      "metadata": {
        "id": "B2nv7ODPAksW"
      },
      "outputs": [],
      "source": [
        "New_arr = np.zeros(100)"
      ]
    },
    {
      "cell_type": "markdown",
      "metadata": {
        "id": "ZsOhzEclAksW"
      },
      "source": [
        "This creates a NumPy array called New_arr with a length of 100. All elements in this array are initialized to 0"
      ]
    },
    {
      "cell_type": "markdown",
      "metadata": {
        "id": "U-ezRbpCAksW"
      },
      "source": [
        "### Slicing\n",
        "Slicing allows you to extract a portion of an array. The syntax is similar to Python lists: `arr[start:stop]`."
      ]
    },
    {
      "cell_type": "code",
      "execution_count": null,
      "metadata": {
        "colab": {
          "base_uri": "https://localhost:8080/"
        },
        "id": "eWzyVosQAksW",
        "outputId": "5b540763-a430-4d20-bba3-7c5ad530e9be"
      },
      "outputs": [
        {
          "name": "stdout",
          "output_type": "stream",
          "text": [
            "[2 3 4]\n"
          ]
        }
      ],
      "source": [
        "# Slicing an array\n",
        "print(arr[1:4])  # Elements from index 1 to 3"
      ]
    },
    {
      "cell_type": "markdown",
      "metadata": {
        "id": "OgRk-6m8AksW"
      },
      "source": [
        "### Iterating\n",
        "You can iterate over NumPy arrays using standard loops."
      ]
    },
    {
      "cell_type": "code",
      "execution_count": null,
      "metadata": {
        "colab": {
          "base_uri": "https://localhost:8080/"
        },
        "id": "eDLcy7oZAksW",
        "outputId": "2002b0b0-6d20-4cea-d8f8-a9f1af143fc0"
      },
      "outputs": [
        {
          "name": "stdout",
          "output_type": "stream",
          "text": [
            "1\n",
            "2\n",
            "3\n",
            "4\n",
            "5\n"
          ]
        }
      ],
      "source": [
        "# Iterating through an array\n",
        "for x in arr:\n",
        "    print(x)"
      ]
    },
    {
      "cell_type": "markdown",
      "metadata": {
        "id": "8ySHF21_AksW"
      },
      "source": [
        "### Sorting\n",
        "NumPy provides a simple way to sort arrays using the `sort` function."
      ]
    },
    {
      "cell_type": "code",
      "execution_count": null,
      "metadata": {
        "colab": {
          "base_uri": "https://localhost:8080/"
        },
        "id": "mPnjHlaHAksW",
        "outputId": "9167ac59-65cd-418a-aba4-a8c64f16578e"
      },
      "outputs": [
        {
          "name": "stdout",
          "output_type": "stream",
          "text": [
            "[1 1 3 4 5]\n"
          ]
        }
      ],
      "source": [
        "# Sorting an array\n",
        "unsorted_arr = np.array([3, 1, 4, 1, 5])\n",
        "sorted_arr = np.sort(unsorted_arr)\n",
        "print(sorted_arr)"
      ]
    },
    {
      "cell_type": "markdown",
      "metadata": {
        "id": "21TTjjGbAksW"
      },
      "source": [
        "### Max, Argmax, Min, and Argmin\n"
      ]
    },
    {
      "cell_type": "markdown",
      "metadata": {
        "id": "5--vCgrgAksW"
      },
      "source": [
        "The `numpy` library provides the **functions** `numpy.min(), numpy.max(), numpy.argmin(), numpy.argmax()`, which allow you to find the minimum and maximum value and the location (i.e. index) of the minimum and maximum, respectively, in any object passed as argument.\n",
        "\n",
        "Here is an example where we apply these functions to a list:"
      ]
    },
    {
      "cell_type": "code",
      "execution_count": null,
      "metadata": {
        "colab": {
          "base_uri": "https://localhost:8080/"
        },
        "id": "i6h-D4FVAksW",
        "outputId": "2802bc69-4e2a-4d56-970b-7afe9bb4fed4"
      },
      "outputs": [
        {
          "data": {
            "text/plain": [
              "5"
            ]
          },
          "execution_count": 93,
          "metadata": {},
          "output_type": "execute_result"
        }
      ],
      "source": [
        "np.max([2, 4, 5, 1])"
      ]
    },
    {
      "cell_type": "code",
      "execution_count": null,
      "metadata": {
        "colab": {
          "base_uri": "https://localhost:8080/"
        },
        "id": "HYcF8PBjAksW",
        "outputId": "b32d38dc-ad01-4884-87a9-630e3503be81"
      },
      "outputs": [
        {
          "data": {
            "text/plain": [
              "2"
            ]
          },
          "execution_count": 94,
          "metadata": {},
          "output_type": "execute_result"
        }
      ],
      "source": [
        "np.argmax([2, 4, 5, 1])"
      ]
    },
    {
      "cell_type": "markdown",
      "metadata": {
        "id": "wkB4slUQAksW"
      },
      "source": [
        "You can also apply these to a numpy array, to the column of a dataframe, etc."
      ]
    },
    {
      "cell_type": "markdown",
      "metadata": {
        "id": "S6amD59NAksW"
      },
      "source": [
        "### Arange Function\n",
        "Much like `range`, the `arange` function allows creating an array with evenly spaced values within a given range. But `arange` is much more flexible because it allows the `start`, `stop` or `step` to be fractional values (whereas with `range` they must be integers!)"
      ]
    },
    {
      "cell_type": "code",
      "execution_count": null,
      "metadata": {
        "colab": {
          "base_uri": "https://localhost:8080/"
        },
        "id": "Hys9I5kwAksW",
        "outputId": "b044ac39-f0e3-470b-db7a-47cbb1ee035c"
      },
      "outputs": [
        {
          "name": "stdout",
          "output_type": "stream",
          "text": [
            "[0.1 2.3 4.5 6.7 8.9]\n"
          ]
        }
      ],
      "source": [
        "# Using arange\n",
        "start = 0.1\n",
        "stop = 10.5\n",
        "step = 2.2\n",
        "range_arr = np.arange(start, stop, step)\n",
        "print(range_arr)"
      ]
    },
    {
      "cell_type": "markdown",
      "metadata": {
        "id": "5cICf_r1AksW"
      },
      "source": [
        "This creates a numpy array with values from 0.1 to 10.5 in increments of 2.2.\n",
        "\n",
        "The critical advantage of `arange` over `range` is that `arange` also works with non-integer values, like in our example."
      ]
    },
    {
      "cell_type": "markdown",
      "metadata": {
        "id": "Qwl49yKfAksW"
      },
      "source": [
        "## Simple Statistics\n",
        "The numpy library also allows calculating very simple statistics. For instance, you can quickly calculate the mean of an array with `numpy.mean(.)` and the covariance with `numpy.cov(.)`."
      ]
    },
    {
      "cell_type": "markdown",
      "metadata": {
        "id": "EQD4TAD8AksW"
      },
      "source": [
        "Let's calculate the mean market price of beans:"
      ]
    },
    {
      "cell_type": "code",
      "execution_count": null,
      "metadata": {
        "colab": {
          "base_uri": "https://localhost:8080/"
        },
        "id": "RqSYpI-eAksW",
        "outputId": "590bf300-6868-40ec-9e84-0e77cc5fd823"
      },
      "outputs": [
        {
          "name": "stdout",
          "output_type": "stream",
          "text": [
            "The mean value of the list: 2.50\n"
          ]
        }
      ],
      "source": [
        "# mean price\n",
        "mean_val = np.mean([0, 1, 2, 3, 4, 5])\n",
        "print(f'The mean value of the list: {mean_val:.2f}')"
      ]
    },
    {
      "cell_type": "markdown",
      "metadata": {
        "id": "KcxGI9RqAksW"
      },
      "source": [
        "Let's calculate the variance (i.e., squared standard deviation) of the price of cocoa powder:"
      ]
    },
    {
      "cell_type": "code",
      "execution_count": null,
      "metadata": {
        "colab": {
          "base_uri": "https://localhost:8080/"
        },
        "id": "epBnAkCRAksW",
        "outputId": "630ae465-eb68-4112-bb84-77807c464fe6"
      },
      "outputs": [
        {
          "name": "stdout",
          "output_type": "stream",
          "text": [
            "The variance of the list values: 3.50\n"
          ]
        }
      ],
      "source": [
        "# covariance matrix\n",
        "cov = np.cov([0, 1, 2, 3, 4, 5])\n",
        "print(f'The variance of the list values: {cov:.2f}')"
      ]
    },
    {
      "cell_type": "markdown",
      "metadata": {
        "id": "Pma5ARB7AksW"
      },
      "source": [
        "Using numpy, you can also calculate correlation coefficients from the covariance. However, in case your data is given as a dataframe, the `pandas` dataframe method `corr` is simpler.\n",
        "\n",
        "For instance, to calculate the correlation between **Age** and **Id** for the dataframe that we defined earlier (see Dataframe section), we would do:"
      ]
    },
    {
      "cell_type": "code",
      "execution_count": null,
      "metadata": {
        "colab": {
          "base_uri": "https://localhost:8080/",
          "height": 192
        },
        "id": "_A3BCqf5aTYU",
        "outputId": "c10e0807-9713-4f1d-f27d-b835ed2d1b4a"
      },
      "outputs": [
        {
          "data": {
            "text/html": [
              "<div>\n",
              "<style scoped>\n",
              "    .dataframe tbody tr th:only-of-type {\n",
              "        vertical-align: middle;\n",
              "    }\n",
              "\n",
              "    .dataframe tbody tr th {\n",
              "        vertical-align: top;\n",
              "    }\n",
              "\n",
              "    .dataframe thead th {\n",
              "        text-align: right;\n",
              "    }\n",
              "</style>\n",
              "<table border=\"1\" class=\"dataframe\">\n",
              "  <thead>\n",
              "    <tr style=\"text-align: right;\">\n",
              "      <th></th>\n",
              "      <th>Name</th>\n",
              "      <th>Years</th>\n",
              "      <th>Location</th>\n",
              "      <th>New_val</th>\n",
              "    </tr>\n",
              "  </thead>\n",
              "  <tbody>\n",
              "    <tr>\n",
              "      <th>a</th>\n",
              "      <td>Alice</td>\n",
              "      <td>25</td>\n",
              "      <td>New York</td>\n",
              "      <td>0</td>\n",
              "    </tr>\n",
              "    <tr>\n",
              "      <th>b</th>\n",
              "      <td>Bob</td>\n",
              "      <td>30</td>\n",
              "      <td>San Francisco</td>\n",
              "      <td>1</td>\n",
              "    </tr>\n",
              "    <tr>\n",
              "      <th>c</th>\n",
              "      <td>Charlie</td>\n",
              "      <td>22</td>\n",
              "      <td>Los Angeles</td>\n",
              "      <td>2</td>\n",
              "    </tr>\n",
              "    <tr>\n",
              "      <th>d</th>\n",
              "      <td>David</td>\n",
              "      <td>28</td>\n",
              "      <td>Chicago</td>\n",
              "      <td>3</td>\n",
              "    </tr>\n",
              "  </tbody>\n",
              "</table>\n",
              "</div>"
            ],
            "text/plain": [
              "      Name  Years       Location  New_val\n",
              "a    Alice     25       New York        0\n",
              "b      Bob     30  San Francisco        1\n",
              "c  Charlie     22    Los Angeles        2\n",
              "d    David     28        Chicago        3"
            ]
          },
          "metadata": {},
          "output_type": "display_data"
        },
        {
          "name": "stdout",
          "output_type": "stream",
          "text": [
            "Correlation coefficient: 0.037\n"
          ]
        }
      ],
      "source": [
        "# Define one more column with values and print the df\n",
        "df[\"New_val\"] = np.arange(0,len(df),1)\n",
        "display(df)\n",
        "\n",
        "# Calculate and print the correlation coefficient of the new column with the \"Years\"\n",
        "corr_coef = df[\"Years\"].corr(df[\"New_val\"])\n",
        "print(f\"Correlation coefficient: {corr_coef:.3f}\")"
      ]
    },
    {
      "cell_type": "markdown",
      "metadata": {
        "id": "dddLj2EtAksX"
      },
      "source": [
        "# Numpy Random Sub-module\n",
        "NumPy's `random` sub-module allows you to generate random numbers. We will be using this a lot when doing Monte-Carlo simulation!\n",
        "\n",
        "There are actually several ways to generate random numbers in `numpy` -- with the newer framework or with the older one -- so we show both of these here for comprehensiveness. (If you use a chatbot, you may get code that implements either of these, so you should not be surprised!)"
      ]
    },
    {
      "cell_type": "markdown",
      "metadata": {
        "id": "8pO4eOVxMK6-"
      },
      "source": [
        "## Newer Framework"
      ]
    },
    {
      "cell_type": "markdown",
      "metadata": {
        "id": "fbru1ul1MK6-"
      },
      "source": [
        "### Set up a new random number generator with a seed"
      ]
    },
    {
      "cell_type": "code",
      "execution_count": null,
      "metadata": {
        "id": "Cv4YSmllAksX"
      },
      "outputs": [],
      "source": [
        "# Set the random number seed\n",
        "rng = np.random.default_rng(seed=112423)"
      ]
    },
    {
      "cell_type": "markdown",
      "metadata": {
        "id": "USPYFAvKMK6-"
      },
      "source": [
        "### Uniform continuous number\n",
        "`rng.uniform(L,H,num_samples)` generates a total of `num_samples` float values, each distributed uniformly over the range $[L,H)$"
      ]
    },
    {
      "cell_type": "code",
      "execution_count": null,
      "metadata": {
        "id": "FGk012YBMK6-",
        "outputId": "e50367c2-e908-4e07-e8d4-262e225a00ed"
      },
      "outputs": [
        {
          "data": {
            "text/plain": [
              "array([3.32601398, 2.00327044, 1.957965  , 3.40894196, 1.94228957,\n",
              "       1.87095898, 3.74407706, 4.20483028, 2.8823835 , 2.62583069])"
            ]
          },
          "execution_count": 100,
          "metadata": {},
          "output_type": "execute_result"
        }
      ],
      "source": [
        "# generate 10 uniform floats in [0,5)\n",
        "rng.uniform(0,5,10)"
      ]
    },
    {
      "cell_type": "markdown",
      "metadata": {
        "id": "90pi1DnfMK6-"
      },
      "source": [
        "### Uniform integers\n",
        "`rng.integers(L,H,num_samples)` generates a total of `num_samples` random integers, each distributed in the range $L, L+1,\\dots, H-1$"
      ]
    },
    {
      "cell_type": "code",
      "execution_count": null,
      "metadata": {
        "id": "VK0wgSZoMK6-",
        "outputId": "2821ef2e-a860-44e3-c96c-0ec0208a08c5"
      },
      "outputs": [
        {
          "data": {
            "text/plain": [
              "array([1, 2, 6, 1, 6, 2, 5, 1, 6, 6])"
            ]
          },
          "execution_count": 101,
          "metadata": {},
          "output_type": "execute_result"
        }
      ],
      "source": [
        "# roll a die 10 times, i.e., get 10 uniform integers in {1,2,...,6}\n",
        "rng.integers(1,7,10)"
      ]
    },
    {
      "cell_type": "markdown",
      "metadata": {
        "id": "sX0NoPFtMK6_"
      },
      "source": [
        "### Normal\n",
        "`rng.normal(mu,sigma,num_samples)` generates a total of `num_samples` normally<br>\n",
        "distribution values, each with mean `mu` and standard deviation `sigma`"
      ]
    },
    {
      "cell_type": "code",
      "execution_count": null,
      "metadata": {
        "id": "GKASO5TgMK6_",
        "outputId": "94045ef5-e40b-464a-dc56-cede24029ef3"
      },
      "outputs": [
        {
          "data": {
            "text/plain": [
              "array([ 0.31608127,  1.1812604 ,  0.61317417,  0.36823813, -0.60744938,\n",
              "        0.84255146,  1.10141669,  2.92323506, -0.96181183,  0.13765779])"
            ]
          },
          "execution_count": 102,
          "metadata": {},
          "output_type": "execute_result"
        }
      ],
      "source": [
        "# get 10 normally distributed values, each with mean 0 and standard deviation 1\n",
        "rng.normal(0,1,10)"
      ]
    },
    {
      "cell_type": "markdown",
      "metadata": {
        "id": "zXocHh8TMK6_"
      },
      "source": [
        "### Binomial\n",
        "`rng.binomial(n,p,num_samples)` generates a total of `num_samples` binomial values, each with `n` trials and success probability `p`"
      ]
    },
    {
      "cell_type": "code",
      "execution_count": null,
      "metadata": {
        "id": "CgdnFbEMMK6_",
        "outputId": "5d7bc633-1282-4cb1-d0cf-c9e2b729f103"
      },
      "outputs": [
        {
          "data": {
            "text/plain": [
              "array([23, 16, 19, 19, 17, 19, 29, 21, 23, 21])"
            ]
          },
          "execution_count": 103,
          "metadata": {},
          "output_type": "execute_result"
        }
      ],
      "source": [
        "# get 10 binomially distributed values, each with 100 trials and success probability 0.2\n",
        "rng.binomial(100, 0.2, 10)"
      ]
    },
    {
      "cell_type": "markdown",
      "metadata": {
        "id": "9VB22EPXMK6_"
      },
      "source": [
        "## Older Framework"
      ]
    },
    {
      "cell_type": "markdown",
      "metadata": {
        "id": "m_pN-xTRMK6_"
      },
      "source": [
        "Instead of creating the `rng` object, you can also sample directly using built-in functions in the `random` module. This is a slightly outdated way of doing things, but it still works."
      ]
    },
    {
      "cell_type": "markdown",
      "metadata": {
        "id": "pKbkANXlMK6_"
      },
      "source": [
        "### Set up a seed\n",
        "`np.random.seed(value)` sets up a seed of `value`"
      ]
    },
    {
      "cell_type": "code",
      "execution_count": null,
      "metadata": {
        "id": "oUMHxPgNMK6_"
      },
      "outputs": [],
      "source": [
        "# set up the seed to 12345\n",
        "np.random.seed(12345)"
      ]
    },
    {
      "cell_type": "markdown",
      "metadata": {
        "id": "KR3P0kOAAksX"
      },
      "source": [
        "### Uniform Continuous Distribution\n",
        "`np.random.rand(num_samples)` generates an array of `num_samples` random samples drawn from a uniform distribution over the interval [0, 1)"
      ]
    },
    {
      "cell_type": "code",
      "execution_count": null,
      "metadata": {
        "colab": {
          "base_uri": "https://localhost:8080/"
        },
        "id": "mchmh8ONAksX",
        "outputId": "ef1fb84a-8732-4223-8aa2-3aef9fa8139d"
      },
      "outputs": [
        {
          "data": {
            "text/plain": [
              "array([0.92961609, 0.31637555, 0.18391881, 0.20456028, 0.56772503,\n",
              "       0.5955447 , 0.96451452, 0.6531771 , 0.74890664, 0.65356987])"
            ]
          },
          "execution_count": 105,
          "metadata": {},
          "output_type": "execute_result"
        }
      ],
      "source": [
        "# 10 random uniform values drawn independently, each between 0 and 1\n",
        "np.random.rand(10)"
      ]
    },
    {
      "cell_type": "markdown",
      "metadata": {
        "id": "XL_hKS0NAksX"
      },
      "source": [
        "### Random Integers In An Interval\n",
        "`np.random.randint(L, H, num_samples)` generates an array of `num_samples` random integers, each drawn from `L, L+1,..., H-1`"
      ]
    },
    {
      "cell_type": "code",
      "execution_count": null,
      "metadata": {
        "colab": {
          "base_uri": "https://localhost:8080/"
        },
        "id": "AoLOssvPAksX",
        "outputId": "c2614910-8e05-44fe-f510-56e88ce3d542"
      },
      "outputs": [
        {
          "data": {
            "text/plain": [
              "array([81, 74, 12, 78, 11, 82, 83, 39,  8, 44])"
            ]
          },
          "execution_count": 106,
          "metadata": {},
          "output_type": "execute_result"
        }
      ],
      "source": [
        "# Get 10 random integers between 1 (inclusive) and 100 (exclusive)\n",
        "np.random.randint(1, 100, 10)"
      ]
    },
    {
      "cell_type": "markdown",
      "metadata": {
        "id": "V1OokteKAksX"
      },
      "source": [
        "### Normal Distribution\n",
        "`np.random.normal(mean, stdev, num_samples)` generates an array of `num_samples` random samples, each drawn from a normal distribution with mean `mean` and standard deviation `stdev`"
      ]
    },
    {
      "cell_type": "code",
      "execution_count": null,
      "metadata": {
        "colab": {
          "base_uri": "https://localhost:8080/"
        },
        "id": "krw3YmGoAksX",
        "outputId": "c6fa2d7f-9f1e-4691-d04f-37bce6be888a"
      },
      "outputs": [
        {
          "data": {
            "text/plain": [
              "array([6.5141632 , 5.47175731, 7.40781343, 5.39948954, 4.61654121,\n",
              "       6.21497061, 3.48473479, 5.78054523, 3.99121931, 6.84758885])"
            ]
          },
          "execution_count": 107,
          "metadata": {},
          "output_type": "execute_result"
        }
      ],
      "source": [
        "# Generate 10 normally distributed values, each with mean 5 and standard deviation 2\n",
        "np.random.normal(5, 2, 10)"
      ]
    },
    {
      "cell_type": "markdown",
      "metadata": {
        "id": "XwRcrhRMAksX"
      },
      "source": [
        "### Binomial Distribution\n",
        "`np.random.binomial(n, p, num_samples)` generates an array of `num_samples` random samples from a binomial distribution with `n` trials and a probability of success `p`"
      ]
    },
    {
      "cell_type": "code",
      "execution_count": null,
      "metadata": {
        "colab": {
          "base_uri": "https://localhost:8080/"
        },
        "id": "6GonY09bAksX",
        "outputId": "822b5e3d-9f21-431b-a1aa-d41e00bc4c7d"
      },
      "outputs": [
        {
          "data": {
            "text/plain": [
              "array([22, 21, 19, 23, 22, 24, 25, 24, 25, 28])"
            ]
          },
          "execution_count": 108,
          "metadata": {},
          "output_type": "execute_result"
        }
      ],
      "source": [
        "# Generate 10 binomially distributed values, each with 100 trials and probability of success 0.2\n",
        "np.random.binomial(100, 0.2, 10)"
      ]
    },
    {
      "cell_type": "markdown",
      "metadata": {
        "id": "Q0nZBB0gVl6i"
      },
      "source": [
        "# Gurobi Basics\n",
        "Gurobi is a powerful mathematical optimization solver that can be used for solving linear, quadratic, and other types of optimization problems. Below are the key commands used for linear optimization in Python with the `gurobipy` library.\n",
        "\n",
        "In this example we will refer to a sample problem. We are tasked with maximizing profit from selling two products: Product X and Product Y. The profit per unit of Product X and Y are 20 and 30 respectively. However, there are two resource constraints:\n",
        "\n",
        "    Production Limit: The total combined production of Product X and Product Y cannot exceed 100 units.\n",
        "    Resource Limit: Each unit of Product X consumes 1 unit of resources, and each unit of Product Y consumes 2 units of resources. The total available resources for production are capped at 160 units.\n",
        "\n",
        "The objective is to determine the optimal number of units for Product X and Product Y to maximize total profit while adhering to these constraints.\n",
        "\n",
        "Let's store the data in a simple dataframe that has row labels corresponding to the product names."
      ]
    },
    {
      "cell_type": "code",
      "execution_count": null,
      "metadata": {
        "colab": {
          "base_uri": "https://localhost:8080/",
          "height": 160
        },
        "id": "fziCCLvgAksX",
        "outputId": "a8f1522c-9653-4bd2-abab-abd5e9860403"
      },
      "outputs": [
        {
          "data": {
            "text/html": [
              "<div>\n",
              "<style scoped>\n",
              "    .dataframe tbody tr th:only-of-type {\n",
              "        vertical-align: middle;\n",
              "    }\n",
              "\n",
              "    .dataframe tbody tr th {\n",
              "        vertical-align: top;\n",
              "    }\n",
              "\n",
              "    .dataframe thead th {\n",
              "        text-align: right;\n",
              "    }\n",
              "</style>\n",
              "<table border=\"1\" class=\"dataframe\">\n",
              "  <thead>\n",
              "    <tr style=\"text-align: right;\">\n",
              "      <th></th>\n",
              "      <th>Profit</th>\n",
              "      <th>Capacity_Used</th>\n",
              "      <th>Resources_Used</th>\n",
              "    </tr>\n",
              "  </thead>\n",
              "  <tbody>\n",
              "    <tr>\n",
              "      <th>Product X</th>\n",
              "      <td>20</td>\n",
              "      <td>1</td>\n",
              "      <td>1</td>\n",
              "    </tr>\n",
              "    <tr>\n",
              "      <th>Product Y</th>\n",
              "      <td>30</td>\n",
              "      <td>1</td>\n",
              "      <td>2</td>\n",
              "    </tr>\n",
              "  </tbody>\n",
              "</table>\n",
              "</div>"
            ],
            "text/plain": [
              "           Profit  Capacity_Used  Resources_Used\n",
              "Product X      20              1               1\n",
              "Product Y      30              1               2"
            ]
          },
          "metadata": {},
          "output_type": "display_data"
        },
        {
          "name": "stdout",
          "output_type": "stream",
          "text": [
            "The names of the products:\n",
            " ['Product X', 'Product Y']\n"
          ]
        }
      ],
      "source": [
        "# store the data in a dataframe\n",
        "data = { \"Profit\" : [20, 30], \"Capacity_Used\" : [1, 1], \"Resources_Used\": [1, 2] }\n",
        "index = [\"Product X\", \"Product Y\"]\n",
        "\n",
        "total_capacity = 100\n",
        "total_resources = 160\n",
        "\n",
        "import pandas as pd\n",
        "df = pd.DataFrame(data, index=index)\n",
        "display(df)\n",
        "\n",
        "# let's also create a list with the names of the products, because this helps when we define the decision variables\n",
        "product_names = list(df.index)\n",
        "print(\"The names of the products:\\n\", product_names)"
      ]
    },
    {
      "cell_type": "markdown",
      "metadata": {
        "id": "aC4t4HeUAksX"
      },
      "source": [
        "## Installing Gurobi (Colab) and Importing the Library\n",
        "If you are running in Colab, you will need to first install Gurobi, using the command below. (This is currently commented out.)"
      ]
    },
    {
      "cell_type": "code",
      "execution_count": null,
      "metadata": {
        "colab": {
          "base_uri": "https://localhost:8080/"
        },
        "id": "BBUhiwy4AksX",
        "outputId": "572b7697-025a-43e9-e2a8-fbab4867a06b"
      },
      "outputs": [
        {
          "name": "stdout",
          "output_type": "stream",
          "text": [
            "Requirement already satisfied: gurobipy in /Users/daniancu/miniconda3/envs/ds-econml/lib/python3.11/site-packages (11.0.3)\n"
          ]
        }
      ],
      "source": [
        "# Install Gurobi in Colab\n",
        "!pip install gurobipy"
      ]
    },
    {
      "cell_type": "markdown",
      "metadata": {
        "id": "jRIZqNYrAksX"
      },
      "source": [
        "Import the `gurobipy` library"
      ]
    },
    {
      "cell_type": "code",
      "execution_count": null,
      "metadata": {
        "id": "85Gi-aoBAksX"
      },
      "outputs": [],
      "source": [
        "# Import the Gurobi library\n",
        "from gurobipy import *"
      ]
    },
    {
      "cell_type": "markdown",
      "metadata": {
        "id": "BvCHD7L1AksX"
      },
      "source": [
        "## Defining a Model\n",
        "To start, import the Gurobi library and create an empty model that will literally serve as a \"placeholder\" for all the model ingredients (decision variables, objective, constraints). <font color=red>__To create a new model, use the function ``Model(...)`` found in the Gurobi module,__</font> with the syntax:\n",
        "> `m = Model(model_name)`\n",
        "\n",
        "`m` is the Python variable corresponding to the model object that we will need to use henceforth. `modelname` is simply a name that you can give to your model to make more \"human interpretable.\""
      ]
    },
    {
      "cell_type": "code",
      "execution_count": null,
      "metadata": {
        "colab": {
          "base_uri": "https://localhost:8080/"
        },
        "id": "10LCiKouAksX",
        "outputId": "d8a6ae9f-c51d-43c0-af3f-3b3b4132dba2"
      },
      "outputs": [
        {
          "name": "stdout",
          "output_type": "stream",
          "text": [
            "Set parameter Username\n",
            "Academic license - for non-commercial use only - expires 2025-10-07\n"
          ]
        }
      ],
      "source": [
        "# Create a new model\n",
        "model = Model(\"optimization_model\")"
      ]
    },
    {
      "cell_type": "markdown",
      "metadata": {
        "id": "B5YqNP5uAksX"
      },
      "source": [
        "## Create and add decision variables\n",
        "Having constructed an empty Gurobi model, next step is to define and add the decision variables. You can add decision variables either one at a time or all at once using addVar and addVars, respectively."
      ]
    },
    {
      "cell_type": "markdown",
      "metadata": {
        "id": "WWaRl9_5AksX"
      },
      "source": [
        "### Adding One Variable At a Time\n",
        "The **simplest** possible way, which we will **not** use very frequently, is to add decision variables one at a time. <font color=red>**To add a single decision variable in a Gurobi model, use the [`addVar`(...)](https://www.gurobi.com/documentation/current/refman/py_model_addvar.html) method of the model**</font>, with syntax:\n",
        "\n",
        "> `decision_var = Model.addVar ( lb=0.0, ub=float('inf'), obj=0.0, vtype=GRB.CONTINUOUS, name=\"\" )`\n",
        "\n",
        "Here, `Model` is the Gurobi model object. The function does two things:\n",
        " 1. It returns a Python object (`decision_var`) that corresponds to the newly created decision variable;\n",
        " 2. It formally adds this decision variable in our Gurobi model.\n",
        "\n",
        "All the arguments for the function are optional and have the following meaning:\n",
        " - __lb__ : a lower bound on the value of the decision; the default value is 0, so <font color=red>**by omitting a lower bound, Gurobi will automatically add a lower bound of 0, which means it will assume the decision is non-negative**</font>. Most of our models will involve non-negative variables, but if you ever want to make sure that there is no lower bound, use `lb=-float('inf')`\n",
        " - __ub__ : an upper bound on the value of the decision; the default value is `float('inf')`, which means $+\\infty$ <br>\n",
        " - __obj__ : the objective coefficient for the decision variable, i.e., the number that multiplies this decision in the objective\n",
        " - __vtype__ : the types of values that the decision can take; we will use __GRB.CONTINUOUS__ for real numbers (i.e., floats), __GRB.INTEGER__ for integers, and __GRB.BINARY__ for decisions that can only take values 0 and 1\n",
        " - __name__ : an internal Gurobi name. This it really useful when you try to write the model to a file and visualize/interpret it.\n",
        "\n",
        "<font color=red>**Specifying lower or upper bounds when defining decision variables is equivalent to adding constraints on the allowable values of the decisions.**</font><br> For instance, `` X = mymodel.addVar( lb=5.0, ub=10.0)`` would create a new decision variable $X$ constrained to satisfy:  $5.0 \\leq X \\leq 10.0$."
      ]
    },
    {
      "cell_type": "markdown",
      "metadata": {
        "id": "vD1lz2OrAksY"
      },
      "source": [
        "The code that shows this in our model is commented out below because this is NOT the best approach. Instead, we will add BOTH decisions together."
      ]
    },
    {
      "cell_type": "code",
      "execution_count": null,
      "metadata": {
        "id": "KvXGdIRvAksY"
      },
      "outputs": [],
      "source": [
        "# Add decision variables one by one\n",
        "# x = model.addVar(name=\"x\") # Decision variable for Product X\n",
        "# y = model.addVar(name=\"y\") # Decision variable for Product Y"
      ]
    },
    {
      "cell_type": "markdown",
      "metadata": {
        "id": "p-6qVayFAksY"
      },
      "source": [
        "### Adding All Variables In One Shot\n",
        "Because our models almost always involve many decisions, the **most efficient** way is to add several decision variables in one shot. The most general case is when we have **one or more** Python lists and we want decisions corresponding to every combination (i.e., cross product) of elements from those lists.\n",
        "\n",
        "<font color=red>**If we have lists stored in the Python variables `list_1`, `list_2`, ..., `list_n`, to add a decision variable for every cross product from these lists, use the [`addVars`(...)](https://www.gurobi.com/documentation/current/refman/py_model_addvars.html) method of the model**</font>, with syntax:\n",
        "\n",
        "> `dictionary_of_decisions = Model.addVars( list_1, list_2, ..., list_n, lb=0.0, ub=float('inf'), obj=0.0, vtype=GRB.CONTINUOUS, name=\"\" )`\n",
        "\n",
        "This adds all the decision variables in the Gurobi model `Model` and returns a **dictionary** `dictionary_of_decisions` that contains all the newly created decision variables. This dictionary has **keys** corresponding to every tuple of the form `(v1,v2,...,vn)` where `v1` is any element from `list_1`, `v2` is any element from `list_2`, etc. You can access any decision using the syntax <br>\n",
        "  > `dictionary_of_decisions[(v1,v2,...,vn)]`\n",
        "  \n",
        "The other arguments for `addVars` have the same meaning as for `addVar`. However, these could take several forms here:\n",
        " - If you provide a **scalar** value (or use the default) for `lb`, `ub` or `obj`, then that will apply for every variable. For example, lb=1.0 will give every created decision variable a lower bound of 1.0. Using a scalar for `name` is a bit different: this will be used as a prefix and the rest of the name will be derived in the form \"[v1,v2,...,vn]\" where `v1` is any element from `list_1`, `v2` is any element from `list_2`, etc.\n",
        " - If you provide a Python **dictionary** as the argument, that dictionary should have exactly the same keys as `dictionary_of_decisions` (i.e., every tuple of the form `(v1,v2,...,vn)` where `v1` is any element from `list_1`, `v2` is any element from `list_2`, etc.) and values corresponding to the desired argument, i.e., lower bounds, upper bounds, objective coefficients, or names."
      ]
    },
    {
      "cell_type": "code",
      "execution_count": null,
      "metadata": {
        "colab": {
          "base_uri": "https://localhost:8080/"
        },
        "id": "v4wSKAooAksY",
        "outputId": "46b32278-e0d4-4f8e-b71e-f02822ece043"
      },
      "outputs": [
        {
          "name": "stdout",
          "output_type": "stream",
          "text": [
            "{'Product X': <gurobi.Var *Awaiting Model Update*>, 'Product Y': <gurobi.Var *Awaiting Model Update*>}\n"
          ]
        }
      ],
      "source": [
        "# Add all decisions in one shot: we want one decision variable for each element in the index of the dataframe\n",
        "production_quantity = model.addVars( product_names )\n",
        "\n",
        "# you can print the dictionary to see what it looks like\n",
        "print(production_quantity)"
      ]
    },
    {
      "cell_type": "markdown",
      "metadata": {
        "id": "MXkUYQ6mAksY"
      },
      "source": [
        "___\n",
        "To understand how `addVars` works with more complex decisions, let's also consider another simple example here. Imagine we have a list of names:\n",
        "> `list_1 = [\"John\", \"Mary\", \"Charles\"]`\n",
        "\n",
        "and we also have a list of different companies whose stock could be bought:\n",
        "> `list_2 = [\"Apple\", \"Microsoft\", \"Google\", \"Tesla\", \"Pepsi\"]`\n",
        "\n",
        "and we want decisions for every pair of the form (name, company) corresponding to how many stocks the respective name holds for the respective company. Let's create a \"mock\" Gurobi model and add these decisions, and print them."
      ]
    },
    {
      "cell_type": "code",
      "execution_count": null,
      "metadata": {
        "colab": {
          "base_uri": "https://localhost:8080/"
        },
        "id": "JptTWkIlAksY",
        "outputId": "2e3551d0-ac11-4c6d-9eb7-00d9fb609472"
      },
      "outputs": [
        {
          "name": "stdout",
          "output_type": "stream",
          "text": [
            "{('John', 'Apple'): <gurobi.Var *Awaiting Model Update*>, ('John', 'Microsoft'): <gurobi.Var *Awaiting Model Update*>, ('John', 'Google'): <gurobi.Var *Awaiting Model Update*>, ('John', 'Tesla'): <gurobi.Var *Awaiting Model Update*>, ('John', 'Pepsi'): <gurobi.Var *Awaiting Model Update*>, ('Mary', 'Apple'): <gurobi.Var *Awaiting Model Update*>, ('Mary', 'Microsoft'): <gurobi.Var *Awaiting Model Update*>, ('Mary', 'Google'): <gurobi.Var *Awaiting Model Update*>, ('Mary', 'Tesla'): <gurobi.Var *Awaiting Model Update*>, ('Mary', 'Pepsi'): <gurobi.Var *Awaiting Model Update*>, ('Charles', 'Apple'): <gurobi.Var *Awaiting Model Update*>, ('Charles', 'Microsoft'): <gurobi.Var *Awaiting Model Update*>, ('Charles', 'Google'): <gurobi.Var *Awaiting Model Update*>, ('Charles', 'Tesla'): <gurobi.Var *Awaiting Model Update*>, ('Charles', 'Pepsi'): <gurobi.Var *Awaiting Model Update*>}\n"
          ]
        }
      ],
      "source": [
        "# create a mock model\n",
        "silly_model = Model(\"Stock example with many lists\")\n",
        "\n",
        "# define all the decision variables\n",
        "stock_holdings = silly_model.addVars([\"John\", \"Mary\", \"Charles\"], [\"Apple\", \"Microsoft\", \"Google\", \"Tesla\", \"Pepsi\"], \\\n",
        "                                     name=\"stocks\")\n",
        "\n",
        "# print them\n",
        "print(stock_holdings)"
      ]
    },
    {
      "cell_type": "markdown",
      "metadata": {
        "id": "u5rfhKAWAksY"
      },
      "source": [
        "## Formulate and add the objective\n",
        "We need to construct an expression for the objective. We will store this in a new python variable, which we call ``profit``.\n",
        "\n",
        "When formulation linear optimization models, we will use the Gurobi __quicksum(...)__ function, which is very similar to Python's traditional __sum(...)__ function but allows summing over decision variables. <font color=red>__We will use this often in our class, so make sure you understand how it works!__</font>"
      ]
    },
    {
      "cell_type": "code",
      "execution_count": null,
      "metadata": {
        "colab": {
          "base_uri": "https://localhost:8080/"
        },
        "id": "1_Fwc4IvAksd",
        "outputId": "49b87007-2efb-4449-f680-90c901031358"
      },
      "outputs": [
        {
          "name": "stdout",
          "output_type": "stream",
          "text": [
            "20.0 <gurobi.Var *Awaiting Model Update*> + 30.0 <gurobi.Var *Awaiting Model Update*>\n"
          ]
        }
      ],
      "source": [
        "profit = quicksum( production_quantity[i]*df[\"Profit\"][i] for i in product_names )\n",
        "\n",
        "# if you print this, you will see it's a gurobi linear expression: 20 * decision_X + 30 * decision_Y\n",
        "print(profit)"
      ]
    },
    {
      "cell_type": "markdown",
      "metadata": {
        "id": "aXJkpXsSAksd"
      },
      "source": [
        "<font color=red>**To add the objective inside a Gurobi model, use the `setObjective(...)` method of the model.**\n",
        "</font> The syntax is:\n",
        "\n",
        "> ``Model.setObjective ( expression, sense )``\n",
        "\n",
        "The arguments have a straightforward meaning:\n",
        " - __expression__ : the expression for the objective (this could also just be a python variable containing the expression)\n",
        " - __sense__ : the \"sense\" in which to optimize; two options are possible, __GRB.MAXIMIZE__ or __GRB.MINIMIZE__"
      ]
    },
    {
      "cell_type": "code",
      "execution_count": null,
      "metadata": {
        "id": "b0saCEIqAksd"
      },
      "outputs": [],
      "source": [
        "# set the objective in our Gurobi model\n",
        "model.setObjective(profit, GRB.MAXIMIZE)"
      ]
    },
    {
      "cell_type": "markdown",
      "metadata": {
        "id": "dpn7RQs-Aksd"
      },
      "source": [
        "### Formulate and add the constraints\n",
        "\n",
        "\n",
        "We will add the constraints one at a time for clarity.\n",
        "<font color=red>\n",
        "__To add one constraint, use the `addConstr(...)` method of the model.__\n",
        "</font> The typical syntax can take two forms:\n",
        "> `con = Model.addConstr ( lhs, sense=None, rhs=None, name=\"\" )` <br>\n",
        "> `con = Model.addConstr ( expression, name=\"\" )`\n",
        "\n",
        "This returns the constraint in the object `con`. The meaning of the arguments is :\n",
        " - __lhs__ : the left-hand-side of the constraint\n",
        " - __sense__ : the type of the constraint (\">=\" or \"=\" or \"<=\")\n",
        " - __rhs__ : the right-hand-side of the constraint\n",
        " - __expression__ : a full expression of the constraint that includes the left-hand-side, the sense, and the right-hand-side\n",
        " - __name__ : a Gurobi name for the constraint\n",
        "\n",
        "The first syntax above is a more detailed one, where we can specify separately each ingredient of the constraint. The second syntax is more compact, and we will be using it more frequently. But these two are clearly equivalent, meaning that every correct specification of a constraint must include all three elements: left-hand-side, sense, and right-hand-side.\n",
        "\n",
        "We will now apply to this to our simple model"
      ]
    },
    {
      "cell_type": "code",
      "execution_count": null,
      "metadata": {
        "id": "CqI0qFbEAksd"
      },
      "outputs": [],
      "source": [
        "# a dictionary where we will store all the constraints\n",
        "all_constr = {}"
      ]
    },
    {
      "cell_type": "code",
      "execution_count": null,
      "metadata": {
        "id": "Qd-Yi5jKAksd"
      },
      "outputs": [],
      "source": [
        "# Constraint 1: Total units produced of Product X and Product Y should not exceed capacity of 100\n",
        "all_constr[\"Total_Units_Constraint\"]  = model.addConstr( quicksum(production_quantity[i] * df[\"Capacity_Used\"][i] for i in product_names) <= total_capacity, name=\"Total_Capacity_Limit\")"
      ]
    },
    {
      "cell_type": "code",
      "execution_count": null,
      "metadata": {
        "id": "jBYXtvPtAksd"
      },
      "outputs": [],
      "source": [
        "# Constraint 2: Total resources consumed by Product X and Product Y should not exceed 160\n",
        "all_constr[\"Total_Resources_Constraint\"]  = model.addConstr( quicksum(production_quantity[i] * df[\"Resources_Used\"][i] for i in product_names) <= total_resources, name=\"Total_Resource_Limit\")"
      ]
    },
    {
      "cell_type": "markdown",
      "metadata": {
        "id": "SEh6ZfHYAksd"
      },
      "source": [
        "## Inspecting the model"
      ]
    },
    {
      "cell_type": "markdown",
      "metadata": {
        "id": "c0mzy-wPAksd"
      },
      "source": [
        "One way to do this is simply to __print the model__. Here is the output we would get by printing right now:"
      ]
    },
    {
      "cell_type": "code",
      "execution_count": null,
      "metadata": {
        "colab": {
          "base_uri": "https://localhost:8080/"
        },
        "id": "erB2KbMrAksd",
        "outputId": "0366c698-09df-4f91-d47e-42d2678191ae"
      },
      "outputs": [
        {
          "name": "stdout",
          "output_type": "stream",
          "text": [
            "<gurobi.Model Continuous instance optimization_model: 2 constrs, 2 vars, Parameter changes: Username=(user-defined)>\n"
          ]
        }
      ],
      "source": [
        "# force Gurobi to update the model\n",
        "model.update()\n",
        "\n",
        "# print the model\n",
        "print(model)"
      ]
    },
    {
      "cell_type": "markdown",
      "metadata": {
        "id": "reb3GvrfAksd"
      },
      "source": [
        "Gurobi now recognizes and displays that our model has 2 variables and 2 constraints"
      ]
    },
    {
      "cell_type": "markdown",
      "metadata": {
        "id": "HRVfEJdUAkse"
      },
      "source": [
        "Perhaps the best way to visualize and \"debug\" our model is to write it to a file using a special (LP) format, which is designed to output optimization models in a \"human-readable\" form. (As a side note, this process will also update your model to reflect any pending changes!) Here is how this works."
      ]
    },
    {
      "cell_type": "code",
      "execution_count": null,
      "metadata": {
        "id": "V-tjhnJNAkse"
      },
      "outputs": [],
      "source": [
        "# write the model to a file with extension \".lp\"\n",
        "model.write(\"model.lp\")"
      ]
    },
    {
      "cell_type": "markdown",
      "metadata": {
        "id": "GrFhXMKhAkse"
      },
      "source": [
        "Now you can open this file with any text viewer and read it. Alternatively, the code below reads it and prints it in Jupyter, to save you the trouble..."
      ]
    },
    {
      "cell_type": "code",
      "execution_count": null,
      "metadata": {
        "colab": {
          "base_uri": "https://localhost:8080/"
        },
        "id": "X91Wdl0VAkse",
        "outputId": "0603dd47-fb1a-424a-eea8-8033cbfb8a86"
      },
      "outputs": [
        {
          "name": "stdout",
          "output_type": "stream",
          "text": [
            "\\ Model optimization_model\n",
            "\\ LP format - for model browsing. Use MPS format to capture full model detail.\n",
            "Maximize\n",
            "  20 C0 + 30 C1\n",
            "Subject To\n",
            " Total_Capacity_Limit: C0 + C1 <= 100\n",
            " Total_Resource_Limit: C0 + 2 C1 <= 160\n",
            "Bounds\n",
            "End\n",
            "\n"
          ]
        }
      ],
      "source": [
        "# open a file handle\n",
        "f = open(\"model.lp\", 'r')\n",
        "\n",
        "# read the contents and print them\n",
        "print( f.read() )\n",
        "\n",
        "# close the file handle\n",
        "f.close()"
      ]
    },
    {
      "cell_type": "markdown",
      "metadata": {
        "id": "m6dxjwGCAkse"
      },
      "source": [
        "## Optimize the model\n",
        "<font color=red>**To solve/optimize our Gurobi model, use the `optimize()` method of the model object.**</font><br>\n",
        "(__Note:__ This function also updates your model to reflect any pending changes.)"
      ]
    },
    {
      "cell_type": "code",
      "execution_count": null,
      "metadata": {
        "colab": {
          "base_uri": "https://localhost:8080/"
        },
        "id": "x1wH5nFOAkse",
        "outputId": "9ce2d0d7-50b4-42aa-9492-334e89d22084"
      },
      "outputs": [
        {
          "name": "stdout",
          "output_type": "stream",
          "text": [
            "Gurobi Optimizer version 11.0.3 build v11.0.3rc0 (mac64[arm] - Darwin 23.6.0 23G80)\n",
            "\n",
            "CPU model: Apple M2\n",
            "Thread count: 8 physical cores, 8 logical processors, using up to 8 threads\n",
            "\n",
            "Optimize a model with 2 rows, 2 columns and 4 nonzeros\n",
            "Model fingerprint: 0xf73b0602\n",
            "Coefficient statistics:\n",
            "  Matrix range     [1e+00, 2e+00]\n",
            "  Objective range  [2e+01, 3e+01]\n",
            "  Bounds range     [0e+00, 0e+00]\n",
            "  RHS range        [1e+02, 2e+02]\n",
            "Presolve time: 0.00s\n",
            "Presolved: 2 rows, 2 columns, 4 nonzeros\n",
            "\n",
            "Iteration    Objective       Primal Inf.    Dual Inf.      Time\n",
            "       0    5.0000000e+31   3.500000e+30   5.000000e+01      0s\n",
            "       2    2.6000000e+03   0.000000e+00   0.000000e+00      0s\n",
            "\n",
            "Solved in 2 iterations and 0.01 seconds (0.00 work units)\n",
            "Optimal objective  2.600000000e+03\n"
          ]
        }
      ],
      "source": [
        "# solve the model to optimality\n",
        "model.optimize()"
      ]
    },
    {
      "cell_type": "markdown",
      "metadata": {
        "id": "XrvpCI84Akse"
      },
      "source": [
        "**If everything is OK, Gurobi should stop and report a finite value \"Optimal objective\" on the last line above.**"
      ]
    },
    {
      "cell_type": "markdown",
      "metadata": {
        "id": "cqwag46GAkse"
      },
      "source": [
        "You can also suppress solver output by setting the model to \"silent.\""
      ]
    },
    {
      "cell_type": "code",
      "execution_count": null,
      "metadata": {
        "id": "iWYHQwtQAkse"
      },
      "outputs": [],
      "source": [
        "# Set model to silent (no output while solving)\n",
        "model.setParam(\"OutputFlag\", 0)\n",
        "\n",
        "# Solve the model\n",
        "model.optimize()"
      ]
    },
    {
      "cell_type": "markdown",
      "metadata": {
        "id": "gzexTesuAkse"
      },
      "source": [
        "## Obtain the results\n",
        "Once Gurobi has finished optimizing the model, we will likely want to extract some information concerning the solution and its properties. (IMPORTANT! The functions here can only be used after Gurobi is done optimizing!)\n",
        "\n",
        "We can recover the optimal value of a decision variable using its .X attribute.\n",
        "We print the optimal solution here with a for loop, but depending on the (size of your) model, you may want to do this differently.\n"
      ]
    },
    {
      "cell_type": "code",
      "execution_count": null,
      "metadata": {
        "colab": {
          "base_uri": "https://localhost:8080/"
        },
        "id": "TEjL3Ge5Akse",
        "outputId": "30249ce1-1548-45a9-b4e9-1740f60a5b91"
      },
      "outputs": [
        {
          "name": "stdout",
          "output_type": "stream",
          "text": [
            "Value of i: 40.0\n",
            "Value of i: 60.0\n"
          ]
        }
      ],
      "source": [
        "# Check the status of the solution\n",
        "if model.status == GRB.OPTIMAL:\n",
        "    for i in product_names:\n",
        "        print(f\"Value of i: {production_quantity[i].X}\")"
      ]
    },
    {
      "cell_type": "markdown",
      "metadata": {
        "id": "IUMH9taOAkse"
      },
      "source": [
        "<font color=red> __We can recover the optimal objective value in the model using the __.objVal__ attribute.__ </font>"
      ]
    },
    {
      "cell_type": "code",
      "execution_count": null,
      "metadata": {
        "colab": {
          "base_uri": "https://localhost:8080/"
        },
        "id": "TJzXPfg0Akse",
        "outputId": "d2131874-fcbd-4f3c-aeb5-4c2582e61b64"
      },
      "outputs": [
        {
          "name": "stdout",
          "output_type": "stream",
          "text": [
            "Optimal proft is: $2600\n"
          ]
        }
      ],
      "source": [
        "#print the value of the objective\n",
        "print(f\"Optimal proft is: ${model.objVal:.0f}\")"
      ]
    },
    {
      "cell_type": "markdown",
      "metadata": {
        "id": "84rinQBwAkse"
      },
      "source": [
        "### Check for Infeasibility or unboundedness\n",
        "To check for infeasibility or unboundedness in a Gurobi model, you can examine the model's status after solving it. Gurobi provides several status codes to indicate the state of the solution. Below is an example of how to check for these conditions:\n",
        "\n",
        "- **GRB.OPTIMAL**: The model has an optimal solution.\n",
        "- **GRB.INFEASIBLE**: The model is infeasible, meaning that no solution satisfies all the constraints. The `computeIIS()` method can be used to identify the conflicting constraints that make the model infeasible.\n",
        "- **GRB.UNBOUNDED**: The model is unbounded, meaning the objective can grow infinitely without violating any constraints.\n",
        "- If the model status is neither optimal, infeasible, nor unbounded, other statuses (e.g., `GRB.TIME_LIMIT`, `GRB.INTERRUPTED`) could indicate why the optimization was stopped.\n"
      ]
    },
    {
      "cell_type": "code",
      "execution_count": null,
      "metadata": {
        "colab": {
          "base_uri": "https://localhost:8080/"
        },
        "id": "CbSbgT0UAkse",
        "outputId": "f06f26b5-886a-4ceb-9946-29b600c518c0"
      },
      "outputs": [
        {
          "name": "stdout",
          "output_type": "stream",
          "text": [
            "Optimal solution found!\n",
            "Objective Value: 2600.0\n"
          ]
        }
      ],
      "source": [
        "# Solve the model\n",
        "model.optimize()\n",
        "\n",
        "# Check the model status\n",
        "if model.status == GRB.OPTIMAL:\n",
        "    print(\"Optimal solution found!\")\n",
        "    print(f\"Objective Value: {model.objVal}\")\n",
        "elif model.status == GRB.INFEASIBLE:\n",
        "    print(\"The model is infeasible.\")\n",
        "    # Optional: Identify the infeasible constraints\n",
        "    model.computeIIS()  # Compute the Irreducible Inconsistent Subsystem (IIS)\n",
        "    model.write(\"infeasible_model.ilp\")  # Write the IIS to a file for further inspection\n",
        "elif model.status == GRB.UNBOUNDED:\n",
        "    print(\"The model is unbounded.\")\n",
        "else:\n",
        "    print(f\"Optimization was stopped with status {model.status}.\")"
      ]
    },
    {
      "cell_type": "markdown",
      "metadata": {
        "id": "YVOTP6IHAkse"
      },
      "source": [
        "### Extracting Information About Constraints\n",
        "You can obtain information about constraints, such as whether they are binding or their shadow prices:"
      ]
    },
    {
      "cell_type": "code",
      "execution_count": null,
      "metadata": {
        "colab": {
          "base_uri": "https://localhost:8080/"
        },
        "id": "ichttvEFAkse",
        "outputId": "036ce9dd-da8d-4cf9-8012-8c3520b5a8fd"
      },
      "outputs": [
        {
          "name": "stdout",
          "output_type": "stream",
          "text": [
            "[<gurobi.Constr Total_Capacity_Limit>, <gurobi.Constr Total_Resource_Limit>]\n"
          ]
        }
      ],
      "source": [
        "allConstraints = model.getConstrs()\n",
        "print(allConstraints)"
      ]
    },
    {
      "cell_type": "markdown",
      "metadata": {
        "id": "D_LE0jMtAkse"
      },
      "source": [
        "### Printing useful information/attributes:\n",
        "Once we solve the model, it is very useful to extract information for each constraint. For instance, you may wonder which constraints are **binding**, i.e., hold with equality at the optimal solution. (Intuitively, these are the \"important\" constraints in the model.)\n",
        "\n",
        "Recall from our earlier discussion that for a constraint `con` from model `model`, you can use the following approach to recover important information:\n",
        " - __model.getRow(con)__ : the expression of the constraint left-hand-side\n",
        " - __con.ConstrName__  : the name specified when defining the constraint\n",
        " - __con.RHS__    : the value of the right-hand-side of the constraint\n",
        " - __con.Sense__ : the type of constraint ( <= or = or >= )\n",
        " - __con.Slack__  : (value of right-hand-side) - (value of left-hand-side), available after Gurobi finished optimizing.\n",
        "\n",
        "\n",
        "<font color=red>**IMPORTANT!** If the left-hand-side or right-hand-side of a constraint is an expression of Gurobi decision variables, then printing it would simply print out the formula/expression, just like in `In[17]` (when we printed the constraint when adding it to the model). **To find out __the value__ of the LHS/RHS evaluated at the optimal solution, you need to use the `getValue()` method.**\n",
        "    \n",
        "To appreciate this point, let's collect the left-hand-side of the water availability constraint. We can use the name `water_avail` to recover this constraint from our dictionary and then use `model.getRow(.)` to get its LHS."
      ]
    },
    {
      "cell_type": "markdown",
      "metadata": {
        "id": "1LQFA3KzAkse"
      },
      "source": [
        "Let's use all of the above to print out useful information about all the constraints."
      ]
    },
    {
      "cell_type": "markdown",
      "metadata": {
        "id": "tPmcUTPvAkse"
      },
      "source": [
        "Let's use all of the above to print out useful information about all the constraints."
      ]
    },
    {
      "cell_type": "code",
      "execution_count": null,
      "metadata": {
        "colab": {
          "base_uri": "https://localhost:8080/",
          "height": 125
        },
        "id": "C0ujVdh3Akse",
        "outputId": "4b785ba8-3e44-4416-f8b1-0ad87de6d37b"
      },
      "outputs": [
        {
          "data": {
            "text/html": [
              "<div>\n",
              "<style scoped>\n",
              "    .dataframe tbody tr th:only-of-type {\n",
              "        vertical-align: middle;\n",
              "    }\n",
              "\n",
              "    .dataframe tbody tr th {\n",
              "        vertical-align: top;\n",
              "    }\n",
              "\n",
              "    .dataframe thead th {\n",
              "        text-align: right;\n",
              "    }\n",
              "</style>\n",
              "<table border=\"1\" class=\"dataframe\">\n",
              "  <thead>\n",
              "    <tr style=\"text-align: right;\">\n",
              "      <th></th>\n",
              "      <th>Constraint Name</th>\n",
              "      <th>LHS Value</th>\n",
              "      <th>Sense</th>\n",
              "      <th>RHS Value</th>\n",
              "      <th>Slack</th>\n",
              "    </tr>\n",
              "  </thead>\n",
              "  <tbody>\n",
              "    <tr>\n",
              "      <th>0</th>\n",
              "      <td>Total_Capacity_Limit</td>\n",
              "      <td>100.0</td>\n",
              "      <td>&lt;</td>\n",
              "      <td>100.0</td>\n",
              "      <td>0.0</td>\n",
              "    </tr>\n",
              "    <tr>\n",
              "      <th>1</th>\n",
              "      <td>Total_Resource_Limit</td>\n",
              "      <td>160.0</td>\n",
              "      <td>&lt;</td>\n",
              "      <td>160.0</td>\n",
              "      <td>0.0</td>\n",
              "    </tr>\n",
              "  </tbody>\n",
              "</table>\n",
              "</div>"
            ],
            "text/plain": [
              "        Constraint Name  LHS Value Sense  RHS Value  Slack\n",
              "0  Total_Capacity_Limit      100.0     <      100.0    0.0\n",
              "1  Total_Resource_Limit      160.0     <      160.0    0.0"
            ]
          },
          "metadata": {},
          "output_type": "display_data"
        }
      ],
      "source": [
        "# Below, we create a nice data-frame to print useful information about constraints\n",
        "# we'll store all the data in a list of lists (!):\n",
        "#  - the outer list contains one list for each constraint\n",
        "#  - the inner list (for a given constraint) has the name, value of the LHS, RHS, sense and slack\n",
        "all_constr_data = [ [c.ConstrName, model.getRow(c).getValue(), c.Sense, c.RHS, c.Slack] for c in allConstraints ]\n",
        "\n",
        "# convert into a dataframe and print\n",
        "df = pd.DataFrame(all_constr_data, columns=[\"Constraint Name\", \"LHS Value\", \"Sense\", \"RHS Value\", \"Slack\"])\n",
        "display(df)"
      ]
    },
    {
      "cell_type": "markdown",
      "metadata": {
        "id": "2hoqOutoAkse"
      },
      "source": [
        "### Obtaining Sensitivity Information from Gurobi\n",
        "\n",
        "<font color=red>**To obtain the shadow price and allowable increase/decrease for a constraint `con` after solving the model, use:**</font>\n",
        " - <font color=red>`con.Pi` to recover the shadow price (at the current value of the constraint right-hand-side) </font>\n",
        " - <font color=red>`con.SARHSLow` to recover the smallest value of the right-hand-side for which the same shadow price applies</font>\n",
        " - <font color=red>`con.SARHSUp` to recover the largest value of the right-hand-side for which the same shadow price applies.</font>\n",
        "  \n",
        "We can display this information nicely for all the constraints with the following code. This creates a DataFrame with all the relevant information and displays it."
      ]
    },
    {
      "cell_type": "code",
      "execution_count": null,
      "metadata": {
        "colab": {
          "base_uri": "https://localhost:8080/",
          "height": 125
        },
        "id": "bNT_jV6zAksf",
        "outputId": "061925d0-b17a-42b9-d633-3a7deff7b31d",
        "scrolled": true
      },
      "outputs": [
        {
          "data": {
            "text/html": [
              "<div>\n",
              "<style scoped>\n",
              "    .dataframe tbody tr th:only-of-type {\n",
              "        vertical-align: middle;\n",
              "    }\n",
              "\n",
              "    .dataframe tbody tr th {\n",
              "        vertical-align: top;\n",
              "    }\n",
              "\n",
              "    .dataframe thead th {\n",
              "        text-align: right;\n",
              "    }\n",
              "</style>\n",
              "<table border=\"1\" class=\"dataframe\">\n",
              "  <thead>\n",
              "    <tr style=\"text-align: right;\">\n",
              "      <th></th>\n",
              "      <th>Constraint Name</th>\n",
              "      <th>LHS Value</th>\n",
              "      <th>Sense</th>\n",
              "      <th>RHS Value</th>\n",
              "      <th>Slack</th>\n",
              "      <th>Shadow Price</th>\n",
              "      <th>Lower Limit RHS</th>\n",
              "      <th>Upper Limit RHS</th>\n",
              "    </tr>\n",
              "  </thead>\n",
              "  <tbody>\n",
              "    <tr>\n",
              "      <th>0</th>\n",
              "      <td>Total_Capacity_Limit</td>\n",
              "      <td>100.0</td>\n",
              "      <td>&lt;</td>\n",
              "      <td>100.0</td>\n",
              "      <td>0.0</td>\n",
              "      <td>10.0</td>\n",
              "      <td>80.0</td>\n",
              "      <td>160.0</td>\n",
              "    </tr>\n",
              "    <tr>\n",
              "      <th>1</th>\n",
              "      <td>Total_Resource_Limit</td>\n",
              "      <td>160.0</td>\n",
              "      <td>&lt;</td>\n",
              "      <td>160.0</td>\n",
              "      <td>0.0</td>\n",
              "      <td>10.0</td>\n",
              "      <td>100.0</td>\n",
              "      <td>200.0</td>\n",
              "    </tr>\n",
              "  </tbody>\n",
              "</table>\n",
              "</div>"
            ],
            "text/plain": [
              "        Constraint Name  LHS Value Sense  RHS Value  Slack  Shadow Price  \\\n",
              "0  Total_Capacity_Limit      100.0     <      100.0    0.0          10.0   \n",
              "1  Total_Resource_Limit      160.0     <      160.0    0.0          10.0   \n",
              "\n",
              "   Lower Limit RHS  Upper Limit RHS  \n",
              "0             80.0            160.0  \n",
              "1            100.0            200.0  "
            ]
          },
          "metadata": {},
          "output_type": "display_data"
        }
      ],
      "source": [
        "# Create a data-frame to print everything\n",
        "allConstraints = model.getConstrs()\n",
        "\n",
        "all_constr_data = [ [c.ConstrName, model.getRow(c).getValue(), c.Sense, c.RHS, c.Slack, c.Pi, c.SARHSLow, c.SARHSUp ] \\\n",
        "                   for c in allConstraints ]\n",
        "\n",
        "# convert into a dataframe and print\n",
        "df = pd.DataFrame(all_constr_data, columns=[\"Constraint Name\", \"LHS Value\", \"Sense\", \"RHS Value\", \"Slack\", \"Shadow Price\",\\\n",
        "                                           \"Lower Limit RHS\", \"Upper Limit RHS\"])\n",
        "display(df)"
      ]
    }
  ],
  "metadata": {
    "colab": {
      "collapsed_sections": [
        "4e2QzVgcEdPq",
        "SFSimwR-FtwC",
        "qZ3CRTSjK5S2",
        "AjTVm_8WPFSr",
        "oNQKp0XoaeFG",
        "GyFY-Qk87Vq4",
        "tIMzHTcErHd7",
        "Y0f2vEzg3SvS",
        "dvOlucWfcS7b",
        "DHe9-SVArwA_",
        "hO4pm0SC6OQx",
        "gOLtAzIak-SQ",
        "FLPRZLmFkw5U",
        "hMQ4xKVnjfMf",
        "5hE-vfJnCn3-"
      ],
      "provenance": [],
      "toc_visible": true,
      "include_colab_link": true
    },
    "kernelspec": {
      "display_name": "Python 3 (ipykernel)",
      "language": "python",
      "name": "python3"
    },
    "language_info": {
      "codemirror_mode": {
        "name": "ipython",
        "version": 3
      },
      "file_extension": ".py",
      "mimetype": "text/x-python",
      "name": "python",
      "nbconvert_exporter": "python",
      "pygments_lexer": "ipython3",
      "version": "3.11.8"
    }
  },
  "nbformat": 4,
  "nbformat_minor": 0
}