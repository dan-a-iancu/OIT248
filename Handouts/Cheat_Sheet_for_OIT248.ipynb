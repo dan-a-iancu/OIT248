{
  "cells": [
    {
      "cell_type": "markdown",
      "metadata": {
        "id": "view-in-github",
        "colab_type": "text"
      },
      "source": [
        "<a href=\"https://colab.research.google.com/github/dan-a-iancu/OIT248/blob/main/Handouts/Cheat_Sheet_for_OIT248.ipynb\" target=\"_parent\"><img src=\"https://colab.research.google.com/assets/colab-badge.svg\" alt=\"Open In Colab\"/></a>"
      ]
    },
    {
      "cell_type": "markdown",
      "metadata": {
        "id": "caN7N4vBCaT2"
      },
      "source": [
        "# What is this about?\n",
        "This notebook serve as a useful “cheat-sheet” for all students attending OIT 248. You can navigate to the various sections using the `Table of contents` from the left.\n",
        "\n"
      ]
    },
    {
      "cell_type": "markdown",
      "metadata": {
        "id": "4e2QzVgcEdPq"
      },
      "source": [
        "# Comments\n",
        "Comments in Python start with a `#` like directly below"
      ]
    },
    {
      "cell_type": "code",
      "execution_count": null,
      "metadata": {
        "id": "dngXKf6QEctO",
        "outputId": "8dbb3316-cce8-4c3a-adeb-1b9cc0514fc1"
      },
      "outputs": [
        {
          "name": "stdout",
          "output_type": "stream",
          "text": [
            "Welcome to OIT 248! The number of minutes in a leap year is: 527040\n"
          ]
        }
      ],
      "source": [
        "# this line and the line below it are comments and Python will ignore them\n",
        "# print(\"Something interesting\")\n",
        "\n",
        "# instead, the line below this will print a welcome message\n",
        "print(\"Welcome to OIT 248! The number of minutes in a leap year is:\", 366*24*60)"
      ]
    },
    {
      "cell_type": "markdown",
      "metadata": {
        "id": "SFSimwR-FtwC"
      },
      "source": [
        "# Variables\n",
        "A **variable** in Python is a container for storing data. The variable is created the moment you first assign a value to it."
      ]
    },
    {
      "cell_type": "code",
      "execution_count": null,
      "metadata": {
        "id": "GsMo2bXSCMIR"
      },
      "outputs": [],
      "source": [
        "# create a variable named 'x' that stores the value 10\n",
        "x = 10\n",
        "\n",
        "# another variable named 'y' that stores the string \"Mary\"\n",
        "y = \"Mary\""
      ]
    },
    {
      "cell_type": "markdown",
      "metadata": {
        "id": "Olam8qV0Ij7J"
      },
      "source": [
        "Once the variable is created, you can use it in code. For instance, let's calculate $x^2$ <br>"
      ]
    },
    {
      "cell_type": "code",
      "execution_count": null,
      "metadata": {
        "id": "CcfzF8WEIrjB",
        "outputId": "c48bbb2d-099e-4388-df61-20d0a3433c87"
      },
      "outputs": [
        {
          "data": {
            "text/plain": [
              "100"
            ]
          },
          "execution_count": 3,
          "metadata": {},
          "output_type": "execute_result"
        }
      ],
      "source": [
        "x**2"
      ]
    },
    {
      "cell_type": "markdown",
      "metadata": {
        "id": "UidJXGRrI1gd"
      },
      "source": [
        "Variable names are case-sensitive"
      ]
    },
    {
      "cell_type": "code",
      "execution_count": null,
      "metadata": {
        "id": "wXgyHAiIKCvK"
      },
      "outputs": [],
      "source": [
        "little_john = 10\n",
        "\n",
        "# the next line would create an error if you uncomment and run it!\n",
        "# Little_john"
      ]
    },
    {
      "cell_type": "markdown",
      "metadata": {
        "id": "qZ3CRTSjK5S2"
      },
      "source": [
        "# Data Types (int, float, bool, list, etc.)\n"
      ]
    },
    {
      "cell_type": "markdown",
      "metadata": {
        "id": "ZQ0GAOIFGP9g"
      },
      "source": [
        "Each variable stores a certain type of data. You can read more about data types <a href=\"https://www.w3schools.com/python/python_datatypes.asp\">here</a>. The data types that we'll encounter most often in OIT 248 are: integers, floats, strings, booleans, lists, tuples, dictionaries."
      ]
    },
    {
      "cell_type": "code",
      "execution_count": null,
      "metadata": {
        "id": "epVGfPhJG7Ck"
      },
      "outputs": [],
      "source": [
        "# integers (int)\n",
        "x = 10\n",
        "\n",
        "# floating point numbers (float)\n",
        "z = 4.5\n",
        "\n",
        "# strings (str) - can be created with either ` or \"\"\n",
        "one_string = \"Why does Arbuckle not have salmon today?\"\n",
        "another_string = 'I LOVE THE GSB!'\n",
        "\n",
        "# boolean (bool)\n",
        "is_OIT248_amazing = True\n",
        "\n",
        "# list - can be created in several ways:\n",
        "my_list = list((\"apples\",\"oranges\",\"bananas\"))   # using the `list` function - here, we create a list with strings\n",
        "another_list = [1,2,3,4]                         # using the [] operator - here, we create a list with integers\n",
        "\n",
        "# dictionary (dict)\n",
        "tennis_trophies = {}\n",
        "tennis_trophies[\"Federer\"] = 20\n",
        "tennis_trophies[\"Nadal\"] = 22          # at least as of 2023...\n",
        "tennis_trophies[\"Djokovic\"] = 24       # at least as of 2023..."
      ]
    },
    {
      "cell_type": "markdown",
      "metadata": {
        "id": "hMAiPPCEIgg7"
      },
      "source": [
        "This is not likely, but if you ever need to, you can find out the type of a variable with the command `type(.)`"
      ]
    },
    {
      "cell_type": "code",
      "execution_count": null,
      "metadata": {
        "id": "Aft5wmIvLL0c",
        "outputId": "cfb5e5aa-5b21-4485-81f5-f7a7addbd659"
      },
      "outputs": [
        {
          "data": {
            "text/plain": [
              "float"
            ]
          },
          "execution_count": 6,
          "metadata": {},
          "output_type": "execute_result"
        }
      ],
      "source": [
        "type(z)"
      ]
    },
    {
      "cell_type": "markdown",
      "metadata": {
        "id": "qIQKMyeHTC7P"
      },
      "source": [
        "Also likely not needed in OIT248, but you can convert a data type into another type by casting it as below"
      ]
    },
    {
      "cell_type": "code",
      "execution_count": null,
      "metadata": {
        "id": "JYYljxPySdKv",
        "outputId": "0ceeac0e-0ff5-467a-ce12-c942f94505fa"
      },
      "outputs": [
        {
          "data": {
            "text/plain": [
              "4"
            ]
          },
          "execution_count": 7,
          "metadata": {},
          "output_type": "execute_result"
        }
      ],
      "source": [
        "int(z)"
      ]
    },
    {
      "cell_type": "markdown",
      "metadata": {
        "id": "qRvUJ7zrSehw"
      },
      "source": [
        "We will cover the more complex data types (lists, dictionaries) separately.  <br>"
      ]
    },
    {
      "cell_type": "markdown",
      "metadata": {
        "id": "AjTVm_8WPFSr"
      },
      "source": [
        "# Operators\n",
        "We have already been using several operators above. The most common ones you will see in OIT 248 are:"
      ]
    },
    {
      "cell_type": "markdown",
      "metadata": {
        "id": "3g7mhPSFTXnC"
      },
      "source": [
        "## Arithmetic (+,-,*, etc.)"
      ]
    },
    {
      "cell_type": "code",
      "execution_count": null,
      "metadata": {
        "id": "g1wgWCnEPN_k",
        "outputId": "13ed08ae-ec50-4edf-92ae-52113546aa77"
      },
      "outputs": [
        {
          "name": "stdout",
          "output_type": "stream",
          "text": [
            "4\n",
            "1\n",
            "12\n",
            "33.0\n",
            "2\n",
            "16\n",
            "3\n"
          ]
        }
      ],
      "source": [
        "print(2 + 2)       # addition\n",
        "print(3 - 2)       # subtraction\n",
        "print(2 * 6)       # multiplication\n",
        "print(66 / 2)      # division\n",
        "print(8 % 3)       # modulus\n",
        "print(2**4)        # exponentiation\n",
        "print(10 // 3)     # floor division"
      ]
    },
    {
      "cell_type": "markdown",
      "metadata": {
        "id": "E9kagT2cTaNi"
      },
      "source": [
        "## Assignment (=, +=, -+, etc.)\n"
      ]
    },
    {
      "cell_type": "code",
      "execution_count": null,
      "metadata": {
        "id": "lobmJN3cTeHm"
      },
      "outputs": [],
      "source": [
        "x = 5               # simple assignment\n",
        "x += 3              # this is the same as x = x + 3\n",
        "x -= 3              # this is the same as x = x - 3\n",
        "x *= 3              # this is the same as x = x * 3\n",
        "x /= 3              # this is the same as x = x / 3\n",
        "x **= 3             # this is the same as x = x**3"
      ]
    },
    {
      "cell_type": "markdown",
      "metadata": {
        "id": "REAspWUQT9nl"
      },
      "source": [
        "## Comparison (==, !=, >=, etc.)"
      ]
    },
    {
      "cell_type": "code",
      "execution_count": null,
      "metadata": {
        "id": "kZIs_d-nUAG5",
        "outputId": "8256cb08-f926-455c-8b98-a6d8850a8851"
      },
      "outputs": [
        {
          "name": "stdout",
          "output_type": "stream",
          "text": [
            "False\n",
            "True\n",
            "False\n",
            "True\n",
            "True\n",
            "True\n"
          ]
        }
      ],
      "source": [
        "print(5 == 6)        #  a==b checks if a is equal to b\n",
        "print(5 != 6)        #  a!=b checks if a is different from b\n",
        "print(5 > 5)         #  a > b checks if a is strictly bigger than b\n",
        "print(5 < 9)         #  a < b checks if a is strictly less than b\n",
        "print(5 >= 5)        #  a >= b checks if a is at least as large as b\n",
        "print(5 <= 6)        #  a <= b checks if a is at least as large as b"
      ]
    },
    {
      "cell_type": "markdown",
      "metadata": {
        "id": "TYU2bJtwWFM0"
      },
      "source": [
        "## Logical (and, or, not)"
      ]
    },
    {
      "cell_type": "code",
      "execution_count": null,
      "metadata": {
        "id": "qbvwmNxSWHJ7",
        "outputId": "9dd1d54d-105f-41cb-ecb7-6f97c1c13a9c"
      },
      "outputs": [
        {
          "name": "stdout",
          "output_type": "stream",
          "text": [
            "False\n",
            "True\n",
            "False\n"
          ]
        }
      ],
      "source": [
        "print((5 < 6) and (7 < 5))  #  'a and b' returns True is both 'a' and 'b' are true\n",
        "print((5 < 6) or (7 < 5))   #  'a or b' returns True is at least one of 'a','b' is true\n",
        "print(not (5 < 6))          #  'not a' reverses 'a'"
      ]
    },
    {
      "cell_type": "markdown",
      "metadata": {
        "id": "E2qtjD3UXT9t"
      },
      "source": [
        "## Membership"
      ]
    },
    {
      "cell_type": "code",
      "execution_count": null,
      "metadata": {
        "id": "OKrhUjdfXTIa",
        "outputId": "eadf34c1-debe-4e8c-d24e-b853cc23a9cd"
      },
      "outputs": [
        {
          "name": "stdout",
          "output_type": "stream",
          "text": [
            "True\n",
            "False\n"
          ]
        }
      ],
      "source": [
        "print(5 in [3,4,5])        #  'a in b' returns True if 'a' is contained in 'b'\n",
        "print(5 not in [3,4,5])    #  'a not in b' returns True if 'a' is not contained in 'b'"
      ]
    },
    {
      "cell_type": "markdown",
      "metadata": {
        "id": "oNQKp0XoaeFG"
      },
      "source": [
        "# Ranges\n",
        "The `range` function in Python returns a sequence of numbers. It syntax is:\n",
        ">  `range(start,stop,step)`\n",
        "\n",
        "- `start` is optional and is an integer that specifies at which position to start. If you omit this, the default value is 0.\n",
        "- `stop` is required and is an integer that specifies at which position to end.  This value will not be included, so the range will actually end with the value `stop-1`.\n",
        "- `step` is optional and specifies the increment. If you omit it, the default is 1.\n",
        "\n",
        "This function will be very useful, so please familiarize yourself with the examples below."
      ]
    },
    {
      "cell_type": "code",
      "execution_count": null,
      "metadata": {
        "id": "l1Gt3qIqEj4A",
        "outputId": "d9d8ebea-1a69-4862-c939-94b72e5fa13f"
      },
      "outputs": [
        {
          "ename": "TypeError",
          "evalue": "'float' object cannot be interpreted as an integer",
          "output_type": "error",
          "traceback": [
            "\u001b[0;31m---------------------------------------------------------------------------\u001b[0m",
            "\u001b[0;31mTypeError\u001b[0m                                 Traceback (most recent call last)",
            "Cell \u001b[0;32mIn[3], line 1\u001b[0m\n\u001b[0;32m----> 1\u001b[0m \u001b[38;5;28;43mrange\u001b[39;49m\u001b[43m(\u001b[49m\u001b[38;5;241;43m1.2\u001b[39;49m\u001b[43m,\u001b[49m\u001b[38;5;241;43m5.6\u001b[39;49m\u001b[43m,\u001b[49m\u001b[38;5;241;43m0.4\u001b[39;49m\u001b[43m)\u001b[49m\n",
            "\u001b[0;31mTypeError\u001b[0m: 'float' object cannot be interpreted as an integer"
          ]
        }
      ],
      "source": [
        "range(1.2,5.6,0.4)"
      ]
    },
    {
      "cell_type": "markdown",
      "metadata": {
        "id": "URwa6nI4skiv"
      },
      "source": [
        "Create a range with a single argument."
      ]
    },
    {
      "cell_type": "code",
      "execution_count": null,
      "metadata": {
        "id": "rbIko_OgYcJd",
        "outputId": "1c38c11a-03be-4250-dd7a-6e57c7977698"
      },
      "outputs": [
        {
          "data": {
            "text/plain": [
              "range(0, 5)"
            ]
          },
          "execution_count": 13,
          "metadata": {},
          "output_type": "execute_result"
        }
      ],
      "source": [
        "range(5)"
      ]
    },
    {
      "cell_type": "markdown",
      "metadata": {
        "id": "SuQ_t2PusvUv"
      },
      "source": [
        "By itself, this is not terribly useful. But we can loop through it using a `for` statement (if you're unfamiliar with `for` loops, check the later section)"
      ]
    },
    {
      "cell_type": "code",
      "execution_count": null,
      "metadata": {
        "id": "o0-lAa-HsuZD",
        "outputId": "a3d920f5-97ad-415d-f7f4-f1fa69c65bdf"
      },
      "outputs": [
        {
          "name": "stdout",
          "output_type": "stream",
          "text": [
            "0\n",
            "1\n",
            "2\n",
            "3\n",
            "4\n"
          ]
        }
      ],
      "source": [
        "for i in range(5):\n",
        "    print(i)"
      ]
    },
    {
      "cell_type": "markdown",
      "metadata": {
        "id": "kVMz6XGStNCt"
      },
      "source": [
        "Now to play with the other versions of `range`"
      ]
    },
    {
      "cell_type": "code",
      "execution_count": null,
      "metadata": {
        "id": "afbHALrctQ_6",
        "outputId": "96324a7a-e926-4c52-b7d5-45089930f0d2"
      },
      "outputs": [
        {
          "name": "stdout",
          "output_type": "stream",
          "text": [
            "Here are all the integers from 5 to 10, INCLUDING 10\n",
            "5\n",
            "6\n",
            "7\n",
            "8\n",
            "9\n",
            "10\n",
            "\n",
            "And here are all the even numbers less than 10\n",
            "0\n",
            "2\n",
            "4\n",
            "6\n",
            "8\n"
          ]
        }
      ],
      "source": [
        "print(\"Here are all the integers from 5 to 10, INCLUDING 10\")\n",
        "for i in range(5,11):\n",
        "     print(i)\n",
        "\n",
        "print(\"\\nAnd here are all the even numbers less than 10\")\n",
        "for i in range(0,10,2):\n",
        "     print(i)"
      ]
    },
    {
      "cell_type": "markdown",
      "metadata": {
        "id": "GyFY-Qk87Vq4"
      },
      "source": [
        "# If-Else Statements\n",
        "An \"if statement\" allows implementing a logical condition. Syntax:\n",
        "> if `logical_condition_1`:<br>\n",
        "> $ \\qquad$ instructions if logical_condition_1 is True<br>\n",
        "> elif `logical_condition_2`:<br>\n",
        "> $ \\qquad$ instructions if logical_condition_1 is False and logical_condition_2 is True <br>\n",
        "> ...<br>\n",
        "> else:<br>\n",
        "> $ \\qquad$ instructions if all logical conditions above are False"
      ]
    },
    {
      "cell_type": "code",
      "execution_count": null,
      "metadata": {
        "id": "XKgLbe1r7Vq5",
        "outputId": "64397aa7-fa9f-4cb2-e2c8-ce7655e506cc"
      },
      "outputs": [
        {
          "name": "stdout",
          "output_type": "stream",
          "text": [
            "a is smaller than b\n"
          ]
        }
      ],
      "source": [
        "a = 15\n",
        "b = 17\n",
        "if (a > b):\n",
        "    print(\"a is bigger than b\")\n",
        "elif (a == b):\n",
        "    print(\"a is equal to b\")\n",
        "else:\n",
        "    print(\"a is smaller than b\")"
      ]
    },
    {
      "cell_type": "markdown",
      "metadata": {
        "id": "IJHqBu-H8PYB"
      },
      "source": [
        "<font color=red>**As with \"for\" loops, the colon ':` and the indentation are critical.**</font><br>\n",
        "The following code would lead to errors if uncommented:"
      ]
    },
    {
      "cell_type": "code",
      "execution_count": null,
      "metadata": {
        "id": "j_IOOPiN-OGu"
      },
      "outputs": [],
      "source": [
        "# # forgetting the colon - this would create an error if uncommented!\n",
        "#if (a > b)\n",
        "#   print(\"a\")"
      ]
    },
    {
      "cell_type": "code",
      "execution_count": null,
      "metadata": {
        "id": "XQ21xoir-acC"
      },
      "outputs": [],
      "source": [
        "# # forgetting the indentation\n",
        "#if (a>b) :\n",
        "#print(\"a\")"
      ]
    },
    {
      "cell_type": "code",
      "execution_count": null,
      "metadata": {
        "id": "iiBSNB5B-gxX",
        "outputId": "2d5d37e6-7f1c-49b9-a717-31e992803dfa"
      },
      "outputs": [
        {
          "name": "stdout",
          "output_type": "stream",
          "text": [
            "b\n"
          ]
        }
      ],
      "source": [
        "# the parenthesis around the logical condition is not critical but it's highly recommended\n",
        "if a > b :\n",
        "    print(\"a\")\n",
        "else:\n",
        "    print(\"b\")"
      ]
    },
    {
      "cell_type": "markdown",
      "metadata": {
        "id": "tIMzHTcErHd7"
      },
      "source": [
        "# For Loops\n",
        "A `for` loop is used to iterate over a sequence (that could be a range, a list, a dictionary, etc.). Syntax:\n",
        "> for `variable` in `sequence`:<br>\n",
        "> $ \\qquad$ instructions line 1<br>\n",
        "> $ \\qquad$ instructions line 2"
      ]
    },
    {
      "cell_type": "code",
      "execution_count": null,
      "metadata": {
        "id": "FB3iWNr2rHd8",
        "outputId": "c9f65fe7-6a5b-4c20-a516-744ff396e9ab"
      },
      "outputs": [
        {
          "name": "stdout",
          "output_type": "stream",
          "text": [
            "0\n",
            "1\n",
            "2\n",
            "3\n",
            "4\n"
          ]
        }
      ],
      "source": [
        "# use a for loop to iterate through a numeric range\n",
        "for i in range(5):\n",
        "    print(i)"
      ]
    },
    {
      "cell_type": "markdown",
      "metadata": {
        "id": "iH3LMEgO8e1x"
      },
      "source": [
        "<font color=red>**Two elements are worth emphasizing in the syntax above:**</red>\n",
        "- the colon `:` is critical on the first line\n",
        "- the intendation is also critical, and must come on the second line (you can use as many spaces as you like!)\n",
        "\n",
        "For instance, the following code would generate errors if you uncomment and run it!"
      ]
    },
    {
      "cell_type": "code",
      "execution_count": null,
      "metadata": {
        "id": "25sKvJto8xHJ"
      },
      "outputs": [],
      "source": [
        "# # forgetting the colon :\n",
        "#for i in range(5)\n",
        "#    print(i)"
      ]
    },
    {
      "cell_type": "code",
      "execution_count": null,
      "metadata": {
        "id": "t4W6zCcG82LN"
      },
      "outputs": [],
      "source": [
        "# # forgetting the indentation :\n",
        "#for i in range(5):\n",
        "#print(i)"
      ]
    },
    {
      "cell_type": "code",
      "execution_count": null,
      "metadata": {
        "id": "OZJnMJe79R0K",
        "outputId": "3c0d88e4-ce82-404d-ee51-30dbd7861c4a"
      },
      "outputs": [
        {
          "name": "stdout",
          "output_type": "stream",
          "text": [
            "0\n",
            "1\n",
            "2\n",
            "3\n",
            "4\n"
          ]
        }
      ],
      "source": [
        "# you can, however, put everything on one line! (this looks ugly and is NOT advised!)\n",
        "for i in range(5): print(i)"
      ]
    },
    {
      "cell_type": "markdown",
      "metadata": {
        "id": "BY4ZcTkW9jmB"
      },
      "source": [
        "Nested for loops are quite straightforward:"
      ]
    },
    {
      "cell_type": "code",
      "execution_count": null,
      "metadata": {
        "id": "sfZMdgbP9m-k",
        "outputId": "4727c72d-1aab-4608-ff26-aad5bf445b28"
      },
      "outputs": [
        {
          "name": "stdout",
          "output_type": "stream",
          "text": [
            "1 99\n",
            "1 100\n",
            "1 101\n",
            "2 99\n",
            "2 100\n",
            "2 101\n"
          ]
        }
      ],
      "source": [
        "for i in range(1,3,1):\n",
        "    for j in range(99,102,1):\n",
        "        print(i,j)"
      ]
    },
    {
      "cell_type": "markdown",
      "metadata": {
        "id": "Y0f2vEzg3SvS"
      },
      "source": [
        "# Lists\n",
        "Lists are used to store multiple items in a single variable. Lists can be created using square brackets `[.]`."
      ]
    },
    {
      "cell_type": "markdown",
      "metadata": {
        "id": "S4hRkG2uOVVb"
      },
      "source": [
        "## Basics\n"
      ]
    },
    {
      "cell_type": "markdown",
      "metadata": {
        "id": "Iq10CrmFBoxh"
      },
      "source": [
        "Let's create some simple lists.\n"
      ]
    },
    {
      "cell_type": "code",
      "execution_count": null,
      "metadata": {
        "id": "T-UbUjpWNv-u"
      },
      "outputs": [],
      "source": [
        "# a list with integers, created with the brackets [ ]\n",
        "my_list = [1,2,3,4]"
      ]
    },
    {
      "cell_type": "markdown",
      "metadata": {
        "id": "cbpSdYMAYdiR"
      },
      "source": [
        "The data types contained in a list do not have to be the same and you can repeat the values several times"
      ]
    },
    {
      "cell_type": "code",
      "execution_count": null,
      "metadata": {
        "id": "Hi-2OhHoYnry",
        "outputId": "6b9654a7-761d-4d1f-bf88-b7a664cb5ce9"
      },
      "outputs": [
        {
          "name": "stdout",
          "output_type": "stream",
          "text": [
            "['a string', 4.75, [1, 2, 3, 4], 5, 5, 5]\n"
          ]
        }
      ],
      "source": [
        "# crazy list containing a string, a float, another list (!), and several 5s\n",
        "crazy_list = [\"a string\", 4.75, [1,2,3,4], 5, 5, 5]\n",
        "print(crazy_list)"
      ]
    },
    {
      "cell_type": "markdown",
      "metadata": {
        "id": "QDaCucC4Yyaq"
      },
      "source": [
        "The items in a list are ordered. You can access the first item using the index `[0]`, the second item using the index `[1]`, etc."
      ]
    },
    {
      "cell_type": "code",
      "execution_count": null,
      "metadata": {
        "id": "QGNSCW6wYxut",
        "outputId": "20270378-a9b3-481a-a637-a1405623e77b"
      },
      "outputs": [
        {
          "data": {
            "text/plain": [
              "'a string'"
            ]
          },
          "execution_count": 27,
          "metadata": {},
          "output_type": "execute_result"
        }
      ],
      "source": [
        "crazy_list[0]"
      ]
    },
    {
      "cell_type": "markdown",
      "metadata": {
        "id": "r7bpLcCyZlAw"
      },
      "source": [
        "You can also access several items in the list using a **range** of indices specified with `:`"
      ]
    },
    {
      "cell_type": "code",
      "execution_count": null,
      "metadata": {
        "id": "Gi_GiUrwZkZ0",
        "outputId": "8ea205b3-b1bb-4790-a544-f318284ce5da"
      },
      "outputs": [
        {
          "data": {
            "text/plain": [
              "[4.75, [1, 2, 3, 4]]"
            ]
          },
          "execution_count": 28,
          "metadata": {},
          "output_type": "execute_result"
        }
      ],
      "source": [
        "#  using i:j returns the elements at index i,i+1,...,j-1  (j is NOT included!)\n",
        "crazy_list[1:3]"
      ]
    },
    {
      "cell_type": "markdown",
      "metadata": {
        "id": "37osu_-Iap3I"
      },
      "source": [
        "You can change the value at a certain location in a list using the correct index"
      ]
    },
    {
      "cell_type": "code",
      "execution_count": null,
      "metadata": {
        "id": "3k89YtvZauSY",
        "outputId": "072f1297-a0c9-48cc-bfcc-206dd5a934e5"
      },
      "outputs": [
        {
          "name": "stdout",
          "output_type": "stream",
          "text": [
            "['a string', 4.75, 'take out the list from the list', 5, 5, 5]\n"
          ]
        }
      ],
      "source": [
        "crazy_list[2] = \"take out the list from the list\"\n",
        "print(crazy_list)"
      ]
    },
    {
      "cell_type": "markdown",
      "metadata": {
        "id": "wwi8L2rxa8tf"
      },
      "source": [
        "You can even change several items using the range again"
      ]
    },
    {
      "cell_type": "code",
      "execution_count": null,
      "metadata": {
        "id": "wHYmCGaUbBHe",
        "outputId": "e1d45fed-987c-46d7-c589-9f7b4db614fb"
      },
      "outputs": [
        {
          "name": "stdout",
          "output_type": "stream",
          "text": [
            "['Barcelona', 'Madrid', 'take out the list from the list', 5, 5, 5]\n"
          ]
        }
      ],
      "source": [
        "# note that the right-hand-side in this assignment is a list - elements will be matched location-wise\n",
        "crazy_list[0:2] = ['Barcelona','Madrid']\n",
        "print(crazy_list)"
      ]
    },
    {
      "cell_type": "markdown",
      "metadata": {
        "id": "rDQMbBdzczlA"
      },
      "source": [
        "If your range has fewer indices than the items you want to change, this will expand the list"
      ]
    },
    {
      "cell_type": "code",
      "execution_count": null,
      "metadata": {
        "id": "Ti3QZmELc5Ws",
        "outputId": "a047b858-9ee5-4d04-f81e-942bf97683e0"
      },
      "outputs": [
        {
          "name": "stdout",
          "output_type": "stream",
          "text": [
            "[1, 2, 3, 'take out the list from the list', 5, 5, 5]\n"
          ]
        }
      ],
      "source": [
        "crazy_list[0:2] = [1,2,3]\n",
        "print(crazy_list)"
      ]
    },
    {
      "cell_type": "markdown",
      "metadata": {
        "id": "OOKOAWDRe7Br"
      },
      "source": [
        "Conversely, if the range has more indices that the items you are inserting, this will shrink the list"
      ]
    },
    {
      "cell_type": "code",
      "execution_count": null,
      "metadata": {
        "id": "C40U_38ZgMy2",
        "outputId": "02d87b60-7a0a-49c7-e321-1b4137b9b3e8"
      },
      "outputs": [
        {
          "name": "stdout",
          "output_type": "stream",
          "text": [
            "['Hey', 3.3333, 5, 5]\n"
          ]
        }
      ],
      "source": [
        "crazy_list[0:5] = [\"Hey\", 3.3333]\n",
        "print(crazy_list)"
      ]
    },
    {
      "cell_type": "markdown",
      "metadata": {
        "id": "D3kDZqDHiYUV"
      },
      "source": [
        "You can concatenate two lists using the `+` operator (this is also an easy way to add more elements at the end of a given list)"
      ]
    },
    {
      "cell_type": "code",
      "execution_count": null,
      "metadata": {
        "id": "tj0oJYAjeboO",
        "outputId": "b58019e8-a5aa-4631-e533-fee0cccff001"
      },
      "outputs": [
        {
          "name": "stdout",
          "output_type": "stream",
          "text": [
            "['Hey', 3.3333, 5, 5, 'mango', 'kiwi']\n"
          ]
        }
      ],
      "source": [
        "crazy_list_with_plus = crazy_list + [\"mango\", \"kiwi\"]\n",
        "print(crazy_list_with_plus)"
      ]
    },
    {
      "cell_type": "markdown",
      "metadata": {
        "id": "ZM6RLT2IeXFo"
      },
      "source": [
        "You can also duplicate a list many times using the `*` operator"
      ]
    },
    {
      "cell_type": "code",
      "execution_count": null,
      "metadata": {
        "id": "3q5ZdGgtedjh",
        "outputId": "c7bd34f3-0886-438a-9511-1e0b58583f88"
      },
      "outputs": [
        {
          "name": "stdout",
          "output_type": "stream",
          "text": [
            "['We love OIT248!', 'We love OIT248!', 'We love OIT248!', 'We love OIT248!', 'We love OIT248!']\n"
          ]
        }
      ],
      "source": [
        "# create a list with the string \"We love OIT 248!\" repeated 5 times\n",
        "my_list = [\"We love OIT248!\"] * 5\n",
        "\n",
        "print(my_list)"
      ]
    },
    {
      "cell_type": "markdown",
      "metadata": {
        "id": "6WIS2Dmwiuje"
      },
      "source": [
        "**You should be careful with the _assignment_ operator `=` for a list!**<br>\n",
        "The assignment operator will **NOT** create a copy of a list; rather, it will create a new/alternative name for the list"
      ]
    },
    {
      "cell_type": "code",
      "execution_count": null,
      "metadata": {
        "id": "L_JUkcrHitxs",
        "outputId": "c59cad50-efe6-4467-c7af-0e370f730086"
      },
      "outputs": [
        {
          "name": "stdout",
          "output_type": "stream",
          "text": [
            "Here are the two lists\n",
            "['Hey', 3.3333, 5, 5]\n",
            "['Hey', 3.3333, 5, 5]\n",
            "Here are the two lists after changing\n",
            "['I am changing the start', 3.3333, 5, 5]\n",
            "['I am changing the start', 3.3333, 5, 5]\n"
          ]
        }
      ],
      "source": [
        "# are we creating a copy of `crazy_list` stored in the new variable `a_new_list`?\n",
        "new_list = crazy_list\n",
        "\n",
        "# print both lists\n",
        "print(\"Here are the two lists\")\n",
        "print(crazy_list)\n",
        "print(new_list)\n",
        "\n",
        "# let's change the first element in this \"new\" list\n",
        "new_list[0] = \"I am changing the start\"\n",
        "\n",
        "# print both lists\n",
        "print(\"Here are the two lists after changing\")\n",
        "print(crazy_list)\n",
        "print(new_list)\n",
        "# Note how BOTH lists are changing (because the new list just points to the old one)"
      ]
    },
    {
      "cell_type": "markdown",
      "metadata": {
        "id": "CEZuRoxvjyBh"
      },
      "source": [
        "If you want to create a genuine **copy** of a list, you can use the `copy` method. Details under the list methods section."
      ]
    },
    {
      "cell_type": "markdown",
      "metadata": {
        "id": "bTT1TQvuuT97"
      },
      "source": [
        "## The length, min, max of a list\n",
        "To calculate the length of a list or the minimum or maximum values in the list, use the `len(.)`, `min(.)` and `max(.)` functions."
      ]
    },
    {
      "cell_type": "code",
      "execution_count": null,
      "metadata": {
        "id": "owgRtmb_gvun",
        "outputId": "c7c50d65-7768-4026-ea9f-1412229e4dc4"
      },
      "outputs": [
        {
          "name": "stdout",
          "output_type": "stream",
          "text": [
            "8\n",
            "-5\n",
            "99\n"
          ]
        }
      ],
      "source": [
        "# create a list of numbers\n",
        "list_of_numbers = [3, 6, 9, 1, -5, 34, 23, 99]\n",
        "\n",
        "# print the length\n",
        "print(len(list_of_numbers))\n",
        "\n",
        "# print the smallest value\n",
        "print(min(list_of_numbers))\n",
        "\n",
        "# print the largest value\n",
        "print(max(list_of_numbers))"
      ]
    },
    {
      "cell_type": "markdown",
      "metadata": {
        "id": "eiNAtEd7kND7"
      },
      "source": [
        "## Fancy methods for a list\n",
        "The list data structure already has a couple of pre-defined useful `methods` that allow you to conduct specific manipulations."
      ]
    },
    {
      "cell_type": "markdown",
      "metadata": {
        "id": "2mzrDgPxulej"
      },
      "source": [
        "The full list of list (sic!) methods is:\n",
        "- `append()`\tAdds an element at the end of the list\n",
        "- `clear()`\tRemoves all the elements from the list\n",
        "- `copy()`\tReturns a copy of the list\n",
        "- `count()`\tReturns the number of elements with the specified value\n",
        "- `extend()`\tAdd the elements of a list (or any iterable), to the end of the current list\n",
        "- `index()`\tReturns the index of the first element with the specified value\n",
        "- `insert()`\tAdds an element at the specified position\n",
        "- `pop()`\tRemoves the element at the specified position\n",
        "- `remove()`\tRemoves the item with the specified value\n",
        "- `reverse()`\tReverses the order of the list\n",
        "- `sort()`\tSorts the list\n",
        "\n",
        "For our purposes, the most useful methods are `index` and `copy`, which we exemplify below.\n"
      ]
    },
    {
      "cell_type": "markdown",
      "metadata": {
        "id": "XE546gYJ4ro6"
      },
      "source": [
        "Index allows you to retrieve the location of a specific element. It returns the first location or `ValueError` if the element is not found."
      ]
    },
    {
      "cell_type": "code",
      "execution_count": null,
      "metadata": {
        "id": "LwAvdbPk41t9",
        "outputId": "ca0acf4f-3514-4018-a305-80dd248b9da6"
      },
      "outputs": [
        {
          "name": "stdout",
          "output_type": "stream",
          "text": [
            "The index where the string `apples` appears: 0\n"
          ]
        },
        {
          "ename": "ValueError",
          "evalue": "'The Wire Show' is not in list",
          "output_type": "error",
          "traceback": [
            "\u001b[1;31m---------------------------------------------------------------------------\u001b[0m",
            "\u001b[1;31mValueError\u001b[0m                                Traceback (most recent call last)",
            "Cell \u001b[1;32mIn[37], line 9\u001b[0m\n\u001b[0;32m      6\u001b[0m \u001b[38;5;28mprint\u001b[39m(\u001b[38;5;124mf\u001b[39m\u001b[38;5;124m\"\u001b[39m\u001b[38;5;124mThe index where the string `apples` appears: \u001b[39m\u001b[38;5;132;01m{\u001b[39;00mindex_for_apples\u001b[38;5;132;01m}\u001b[39;00m\u001b[38;5;124m\"\u001b[39m)\n\u001b[0;32m      8\u001b[0m \u001b[38;5;66;03m# now try to find some element that doesn't exist -- note the error!\u001b[39;00m\n\u001b[1;32m----> 9\u001b[0m index_for_smth_new \u001b[38;5;241m=\u001b[39m crazy_list\u001b[38;5;241m.\u001b[39mindex(\u001b[38;5;124m\"\u001b[39m\u001b[38;5;124mThe Wire Show\u001b[39m\u001b[38;5;124m\"\u001b[39m)\n\u001b[0;32m     10\u001b[0m \u001b[38;5;28mprint\u001b[39m(index_for_smth_new)\n",
            "\u001b[1;31mValueError\u001b[0m: 'The Wire Show' is not in list"
          ]
        }
      ],
      "source": [
        "# create another list to play with\n",
        "crazy_list = [\"apples\", \"oranges\", \"bananas\", \"OIT248\" ]\n",
        "\n",
        "# figure out the index where the element 'apples' appears\n",
        "index_for_apples = crazy_list.index(\"apples\")\n",
        "print(f\"The index where the string `apples` appears: {index_for_apples}\")\n",
        "\n",
        "# now try to find some element that doesn't exist -- note the error!\n",
        "index_for_smth_new = crazy_list.index(\"The Wire Show\")\n",
        "print(index_for_smth_new)"
      ]
    },
    {
      "cell_type": "markdown",
      "metadata": {
        "id": "1wV5JbF85zXI"
      },
      "source": [
        "The `copy` method does what the name suggests..."
      ]
    },
    {
      "cell_type": "code",
      "execution_count": null,
      "metadata": {
        "id": "UDm1Y50DkNEN",
        "outputId": "9439db32-afc7-4a87-a40d-0959bfcd61b3"
      },
      "outputs": [
        {
          "name": "stdout",
          "output_type": "stream",
          "text": [
            "Here are the two lists\n",
            "['apples', 'oranges', 'bananas', 'OIT248']\n",
            "['apples', 'oranges', 'bananas', 'OIT248']\n",
            "Here are the lists after changing\n",
            "['apples', 'oranges', 'bananas', 'OIT248']\n",
            "['Michael Jackson', 'oranges', 'bananas', 'OIT248']\n"
          ]
        }
      ],
      "source": [
        "# let's create an actual copy of `crazy_list` stored in a new variable `new_list`\n",
        "new_list = crazy_list.copy()\n",
        "\n",
        "# print both lists\n",
        "print(\"Here are the two lists\")\n",
        "print(crazy_list)\n",
        "print(new_list)\n",
        "\n",
        "# To see that this is a copy, let's change the first element in the \"new\" list and print both\n",
        "new_list[0] = \"Michael Jackson\"\n",
        "\n",
        "print(\"Here are the lists after changing\")\n",
        "print(crazy_list)\n",
        "print(new_list)"
      ]
    },
    {
      "cell_type": "markdown",
      "metadata": {
        "id": "mWu1F0dHvQ-0"
      },
      "source": [
        "We likely won't use a lot of these methods in OIT 248, but they are useful to know about. For a detailed coverage, you can check <a href=\"https://www.w3schools.com/python/python_lists_methods.asp\">this link</a>."
      ]
    },
    {
      "cell_type": "markdown",
      "metadata": {
        "id": "0jMi85dmoQoc"
      },
      "source": [
        "## Looping through lists\n",
        "There are several ways to loop through lists"
      ]
    },
    {
      "cell_type": "markdown",
      "metadata": {
        "id": "DWIrojd7pVKa"
      },
      "source": [
        "**Option 1.**<br>\n",
        "If you just care about the elements in the list **but not** their indices/locations, the most elegant way is to use a `for` loop through the elements themselves"
      ]
    },
    {
      "cell_type": "code",
      "execution_count": null,
      "metadata": {
        "id": "mU-I0CsdoQot",
        "outputId": "7f981ea3-bb8b-4acf-9462-d437cca72679"
      },
      "outputs": [
        {
          "name": "stdout",
          "output_type": "stream",
          "text": [
            "apples\n",
            "oranges\n",
            "bananas\n",
            "OIT248\n"
          ]
        }
      ],
      "source": [
        "# loop through the elements in `crazy_list` and store them in 'v'\n",
        "for v in crazy_list:\n",
        "    # 'v` now stores an element from the list; let's print 'v'\n",
        "    print(v)"
      ]
    },
    {
      "cell_type": "markdown",
      "metadata": {
        "id": "UkNuMDP2xiOO"
      },
      "source": [
        "**Option 2.**<br>\n",
        "An alternative, also useful when you just care about the elements, is to use a \"list comprehension\"."
      ]
    },
    {
      "cell_type": "code",
      "execution_count": null,
      "metadata": {
        "id": "5Pp-OVgBxiOk",
        "outputId": "135af5fa-def9-48e8-a13f-301049bf6b1c"
      },
      "outputs": [
        {
          "name": "stdout",
          "output_type": "stream",
          "text": [
            "apples\n",
            "oranges\n",
            "bananas\n",
            "OIT248\n"
          ]
        }
      ],
      "source": [
        "[print(v) for v in crazy_list];"
      ]
    },
    {
      "cell_type": "markdown",
      "metadata": {
        "id": "zXkChIuPzCtP"
      },
      "source": [
        "This is a very compact syntax, but it might confuse you a bit at first so don't worry if you don't fully get it on the first try!..."
      ]
    },
    {
      "cell_type": "markdown",
      "metadata": {
        "id": "r6jsyqZpp_U0"
      },
      "source": [
        "**Option 3.**<br>\n",
        "If you need the elements in the list **as well as** their indices, you can write classic\" for loop. Specifically, for a list, we actually know what the indices are: they are 0, 1, 2, ..., number of elements-1. So we can get these using the `range(.)` and `len(.)` functions:"
      ]
    },
    {
      "cell_type": "code",
      "execution_count": null,
      "metadata": {
        "id": "PFu_zvMxp_U1",
        "outputId": "f1f38e15-542d-4a05-ead9-3167470cda9f"
      },
      "outputs": [
        {
          "name": "stdout",
          "output_type": "stream",
          "text": [
            "At location 0 we can find: apples\n",
            "At location 1 we can find: oranges\n",
            "At location 2 we can find: bananas\n",
            "At location 3 we can find: OIT248\n"
          ]
        }
      ],
      "source": [
        "# calculate the number of elements in the list\n",
        "num_elements_in_list = len(crazy_list)\n",
        "\n",
        "# produce the range 0 .. num_elements_in_list - 1\n",
        "indices = range(num_elements_in_list)\n",
        "\n",
        "# and now let's loop through the elements, printing them as well as their index\n",
        "for i in indices:\n",
        "    print(\"At location\", i, \"we can find:\", crazy_list[i])"
      ]
    },
    {
      "cell_type": "markdown",
      "metadata": {
        "id": "JnjAUZXhxNFp"
      },
      "source": [
        "Normally, you would not define all of those variables above and instead use this compact form:"
      ]
    },
    {
      "cell_type": "code",
      "execution_count": null,
      "metadata": {
        "id": "VYpxEUOWxUrF",
        "outputId": "16a06a4f-2b37-49d4-e645-42e3a1b6649f"
      },
      "outputs": [
        {
          "name": "stdout",
          "output_type": "stream",
          "text": [
            "At location 0 we can find: apples\n",
            "At location 1 we can find: oranges\n",
            "At location 2 we can find: bananas\n",
            "At location 3 we can find: OIT248\n"
          ]
        }
      ],
      "source": [
        "# let's loop through the elements, printing them as well as their index\n",
        "for i in range(len(crazy_list)):\n",
        "    print(\"At location\", i, \"we can find:\", crazy_list[i])"
      ]
    },
    {
      "cell_type": "markdown",
      "metadata": {
        "id": "ZIS9QCArFFeh"
      },
      "source": [
        "## List comprehensions\n",
        "List comprehensions offer a very simple way to create a new list based on some existing lists. The syntax is:\n",
        "\n",
        "> `newlist = [`_expression_ `for` _item_ `in` _iterable_ `if` _condition_ `== True]`\n",
        "\n",
        "_iterable_ can be another list or a range (more broadly, any iterable type). The return value is a new list, leaving the old list unchanged."
      ]
    },
    {
      "cell_type": "code",
      "execution_count": null,
      "metadata": {
        "id": "NBrsiK7eFFei",
        "outputId": "36fe99c7-3c20-4479-9ec8-3bd42c6b22db"
      },
      "outputs": [
        {
          "name": "stdout",
          "output_type": "stream",
          "text": [
            "['banana', 'cherry', 'kiwi', 'mango']\n"
          ]
        }
      ],
      "source": [
        "# let's create a list with some fruits\n",
        "fruits = [\"apple\", \"banana\", \"cherry\", \"kiwi\", \"mango\"]\n",
        "\n",
        "# now suppose we want to create a list with all the fruit names *except apple*\n",
        "fruits_no_apple = [v for v in fruits if v!= \"apple\"]\n",
        "print(fruits_no_apple)"
      ]
    },
    {
      "cell_type": "markdown",
      "metadata": {
        "id": "LJzFVd4pGoyt"
      },
      "source": [
        "If you want to embed an `if-else` condition, you need to switch the order of the `if` and the `for` loop, as follows:"
      ]
    },
    {
      "cell_type": "code",
      "execution_count": null,
      "metadata": {
        "id": "7rKsDfgBHD8F",
        "outputId": "9975f97b-ba04-4754-db19-6fb8ac04bd45"
      },
      "outputs": [
        {
          "name": "stdout",
          "output_type": "stream",
          "text": [
            "['walnut', 'banana', 'cherry', 'kiwi', 'mango']\n"
          ]
        }
      ],
      "source": [
        "# a copy of the original list where every occurrence of *apple* is replaced with *walnut*\n",
        "fruits_apple_walnut = [v if v!= \"apple\" else \"walnut\" for v in fruits]\n",
        "print(fruits_apple_walnut)"
      ]
    },
    {
      "cell_type": "markdown",
      "metadata": {
        "id": "dvOlucWfcS7b"
      },
      "source": [
        "# Tuples\n",
        "Tuples allow storing several items in a single variable. They are defined using round brackets `(.)`."
      ]
    },
    {
      "cell_type": "code",
      "execution_count": null,
      "metadata": {
        "id": "SCi2rsqrcS7x",
        "outputId": "36e5c1fe-3054-4af4-d43c-c5941d350849"
      },
      "outputs": [
        {
          "name": "stdout",
          "output_type": "stream",
          "text": [
            "('apples', 3.14, [1, 2, 3])\n"
          ]
        }
      ],
      "source": [
        "# define a tuple with a string, a float, and a list\n",
        "my_tuple = (\"apples\", 3.14, [1, 2, 3])\n",
        "\n",
        "print(my_tuple)"
      ]
    },
    {
      "cell_type": "markdown",
      "metadata": {
        "id": "IifIhw1Rcsel"
      },
      "source": [
        "You might think that the tuple is quite similar to a list, but the fundamental difference is that tuples and **unchangeable**: once you created a tuple, you cannot change its contents.<br>\n",
        "\n",
        "We won't be using tuples directly but many functions in Python return tuples, so you should not be surprised to see them!"
      ]
    },
    {
      "cell_type": "markdown",
      "metadata": {
        "id": "DHe9-SVArwA_"
      },
      "source": [
        "# Printing\n",
        "We have already been printing messages and variables above. The typical syntax of the `print` command that we'll use most often in OIT 248 is:\n",
        "> `print`(_object(s)_, sep=_separator_)\n",
        " - _object(s)_ : one or more objects to print; each object will be converted to a string before printing\n",
        " - _sep_ : optional, specifies what separator to use between the objects"
      ]
    },
    {
      "cell_type": "markdown",
      "metadata": {
        "id": "vIYlvJYmrwBJ"
      },
      "source": [
        "Let's see a few simple examples"
      ]
    },
    {
      "cell_type": "code",
      "execution_count": null,
      "metadata": {
        "id": "j5gC36a2rwBJ",
        "outputId": "37e95b2f-8457-4096-85a3-48fbfbab64d6"
      },
      "outputs": [
        {
          "name": "stdout",
          "output_type": "stream",
          "text": [
            "5\n",
            "The value of the integer is: 5\n"
          ]
        }
      ],
      "source": [
        "# print an integer variable\n",
        "x = 5\n",
        "print(x)\n",
        "\n",
        "# print some text and an integer\n",
        "print(\"The value of the integer is:\", x)"
      ]
    },
    {
      "cell_type": "markdown",
      "metadata": {
        "id": "S9FR3W0e9aJd"
      },
      "source": [
        " The most important thing when printing is how to convert the objects into a string that satisfies the criteria you want.<br>\n",
        "\n",
        " There are many ways to do this in Python and all will be roughly equally good for our purposes!"
      ]
    },
    {
      "cell_type": "markdown",
      "metadata": {
        "id": "q0gsX1JorwBJ"
      },
      "source": [
        "## \"Old-style\" Formatting with %\n",
        "This uses the `%` operator and will look familiar to those of you with C coding experience!"
      ]
    },
    {
      "cell_type": "code",
      "execution_count": null,
      "metadata": {
        "id": "47i3jVnlrwBJ",
        "outputId": "525a8dab-9c33-4994-8998-2750efc9c0f8"
      },
      "outputs": [
        {
          "name": "stdout",
          "output_type": "stream",
          "text": [
            "The person named Linwei with age 32 has a GPA of 3.920000 and income of 2.458942e+05\n"
          ]
        }
      ],
      "source": [
        "# let's define a few different variables\n",
        "name = \"Linwei\"        # a string\n",
        "age = 32               # an integer\n",
        "gpa = 3.92             # a float\n",
        "income = 245894.242    # a large float\n",
        "\n",
        "print(\"The person named %s with age %d has a GPA of %f and income of %e\" \\\n",
        "      % (name, age, gpa, income))"
      ]
    },
    {
      "cell_type": "markdown",
      "metadata": {
        "id": "GHz_QRsorwBJ"
      },
      "source": [
        "The example above already shows the data types that we're most likely to print in OIT 248:\n",
        " - `'d'` for a signed integer (decimal, i.e., base 10)\n",
        " - `'f'` for a floating point (decimal)\n",
        " - `'e'` for a floating point in exponential format\n",
        " - `'s'` for a string\n",
        "\n",
        "In addition to these, you can also adjust the padding and how many digits of precision to print."
      ]
    },
    {
      "cell_type": "code",
      "execution_count": null,
      "metadata": {
        "id": "uBgZJRMVrwBK",
        "outputId": "d1204028-5100-4f21-db7b-479180bfa466"
      },
      "outputs": [
        {
          "name": "stdout",
          "output_type": "stream",
          "text": [
            "The person named               Linwei with age  32 has a GPA of 3.92.\n",
            "The person named           Jiawei Luo with age 104 has a GPA of 55242.43.\n"
          ]
        }
      ],
      "source": [
        "# allocate 20 characters to the name, 3 characters to the age, and print 2 digits of\n",
        "print(\"The person named %20s with age %3d has a GPA of %.2f.\" \\\n",
        "      % (name, age, gpa))\n",
        "\n",
        "# and print a more exotic example to see the difference\n",
        "print(\"The person named %20s with age %3d has a GPA of %.2f.\" \\\n",
        "      % (\"Jiawei Luo\", 104, 55242.435))"
      ]
    },
    {
      "cell_type": "markdown",
      "metadata": {
        "id": "9ror_RN5_Rti"
      },
      "source": [
        "Floating-point numbers use the format `%a.bf`. Here, `a` would be the minimum number of digits to be present in the string (padded with white space if the whole number does not have enough digits), and `b` represents how many digits to display after the decimal point.\n",
        "\n",
        "Unless you have very strong biases, **we encourage you to consider using one of the next two formatting options, which are more flexible and robust.**"
      ]
    },
    {
      "cell_type": "markdown",
      "metadata": {
        "id": "Oenoej-M_-LA"
      },
      "source": [
        "## The `format(.)` method\n",
        "The second option uses the string `format` method."
      ]
    },
    {
      "cell_type": "code",
      "execution_count": null,
      "metadata": {
        "id": "ORTfTWGn_-LB",
        "outputId": "00ccfc2d-0f74-44ab-d67b-f54ecf46911c"
      },
      "outputs": [
        {
          "name": "stdout",
          "output_type": "stream",
          "text": [
            "Linwei has age 32 and a GPA of 3.92\n"
          ]
        }
      ],
      "source": [
        "# let's again define a few different variables\n",
        "name = \"Linwei\"        # a string\n",
        "age = 32               # an integer\n",
        "gpa = 3.92             # a float\n",
        "\n",
        "print(\"{} has age {} and a GPA of {}\".format(name, age, gpa))"
      ]
    },
    {
      "cell_type": "markdown",
      "metadata": {
        "id": "g1L8Fhhm_-LB"
      },
      "source": [
        "So you just need to put braces `{}` for any object inside the string and then use `.format()` at the end of the string to include all the objects. Just as with the `%` method, you can specify a format for the strings inside the `{...}`, with the only distinction that you should use a colon `:` instead of `%`. See below."
      ]
    },
    {
      "cell_type": "code",
      "execution_count": null,
      "metadata": {
        "id": "KYBMJvmN_-LC",
        "outputId": "a9600132-4899-499d-98f7-385842b97d0b"
      },
      "outputs": [
        {
          "name": "stdout",
          "output_type": "stream",
          "text": [
            "Linwei               has age  32 and GPA of 3.92.\n",
            "Jiawei Luo           has age 104 and GPA of 55,242.43.\n"
          ]
        }
      ],
      "source": [
        "# allocate 20 characters to the name, 3 characters to the age, and print 2 digits of\n",
        "print(\"{:20s} has age {:3d} and GPA of {:.2f}.\".format(name, age, gpa))\n",
        "\n",
        "# and print a more exotic example to see the difference\n",
        "print(\"{:20s} has age {:3d} and GPA of {:,.2f}.\".format(\"Jiawei Luo\", 104, 55242.435))"
      ]
    },
    {
      "cell_type": "markdown",
      "metadata": {
        "id": "PWRTd2mGESne"
      },
      "source": [
        "Note that the second statement uses the format `,.2f` to print the nice comma-delimiter `,` for thousands, which is useful when printing large numbers. For more examples of formatting, check out <a href=\"https://www.pythoncheatsheet.org/cheatsheet/string-formatting\">this reference</a>."
      ]
    },
    {
      "cell_type": "markdown",
      "metadata": {
        "id": "dFZr9R2oCKAf"
      },
      "source": [
        "## The `f-string` method\n",
        "The last option uses \"formatted\" strings, a.k.a. f-strings. This is the most modern and most compact approach, so if you're learning Python for the first time, you might want to use this!"
      ]
    },
    {
      "cell_type": "code",
      "execution_count": null,
      "metadata": {
        "id": "1BJsYDqtCKAh",
        "outputId": "bcbad323-1fa0-4446-c953-16b43d088c83"
      },
      "outputs": [
        {
          "name": "stdout",
          "output_type": "stream",
          "text": [
            "Linwei has age 32 and a GPA of 3.92\n"
          ]
        }
      ],
      "source": [
        "# let's again define a few different variables\n",
        "name = \"Linwei\"        # a string\n",
        "age = 32               # an integer\n",
        "gpa = 3.92             # a float\n",
        "\n",
        "print(f\"{name} has age {age} and a GPA of {gpa}\")"
      ]
    },
    {
      "cell_type": "markdown",
      "metadata": {
        "id": "D3OUUWasCKAi"
      },
      "source": [
        "Here, you just need to put the character `f` before the string, and then enclose in braces `{}` the actual object. Formatting is done inside the `{...} ` in a similar way to the `.format()` method, using the colon `:`"
      ]
    },
    {
      "cell_type": "code",
      "execution_count": null,
      "metadata": {
        "id": "9KxSwA22CKAi",
        "outputId": "acdf11f0-9399-4f41-997e-010a99871d3c"
      },
      "outputs": [
        {
          "name": "stdout",
          "output_type": "stream",
          "text": [
            "Linwei               has age  32 and GPA of 3.92.\n",
            "Jiawei Luo           has age 104 and GPA of 55,242.43.\n"
          ]
        }
      ],
      "source": [
        "# allocate 20 characters to the name, 3 characters to the age, and print 2 digits of\n",
        "print(f\"{name:20s} has age {age:3d} and GPA of {gpa:.2f}.\")\n",
        "\n",
        "# and print a more exotic example to see the difference\n",
        "second_name = \"Jiawei Luo\"\n",
        "print(f\"{second_name:20s} has age {104:3d} and GPA of {55242.435:,.2f}.\")"
      ]
    },
    {
      "cell_type": "markdown",
      "metadata": {
        "id": "hO4pm0SC6OQx"
      },
      "source": [
        "# Dictionaries\n",
        "Dictionaries store data in pairs consisting of a lookup \"key\" and a corresponding \"value\". They are defined using curly brackets `{}`."
      ]
    },
    {
      "cell_type": "code",
      "execution_count": null,
      "metadata": {
        "id": "2zWfwndx6ORH",
        "outputId": "c1dc2114-408a-44b2-c21a-95ab8f434ccf"
      },
      "outputs": [
        {
          "name": "stdout",
          "output_type": "stream",
          "text": [
            "{'Federer': 20, 'Nadal': 22, 'Djokovic': 24}\n"
          ]
        }
      ],
      "source": [
        "GS_trophies = {}               # define an empty dictionary\n",
        "GS_trophies[\"Federer\"] = 20    # add entry with key \"Federer\" and value 20\n",
        "GS_trophies[\"Nadal\"] = 22      # at least as of 2023...\n",
        "GS_trophies[\"Djokovic\"] = 24   # at least as of 2023...\n",
        "\n",
        "print(GS_trophies)"
      ]
    },
    {
      "cell_type": "markdown",
      "metadata": {
        "id": "A5-gTxZVZmBJ"
      },
      "source": [
        "You can retrieve or change a value from a dictionary using the key"
      ]
    },
    {
      "cell_type": "code",
      "execution_count": null,
      "metadata": {
        "id": "JKAqtZmdZlJw",
        "outputId": "d80c7af5-f6e7-47f2-f326-c5b1ae2d0995"
      },
      "outputs": [
        {
          "name": "stdout",
          "output_type": "stream",
          "text": [
            "Nadal has: 22 trophies\n",
            "{'Federer': 20, 'Nadal': 23, 'Djokovic': 24}\n"
          ]
        }
      ],
      "source": [
        "# how many trophies does Nadal have now?\n",
        "print(f\"Nadal has: {GS_trophies['Nadal']} trophies\")\n",
        "\n",
        "# increase Nadal's trophy count by 1\n",
        "GS_trophies[\"Nadal\"] += 1\n",
        "print(GS_trophies)"
      ]
    },
    {
      "cell_type": "markdown",
      "metadata": {
        "id": "zh8JHUd0Zz6c"
      },
      "source": [
        "The keys and values do not have to have the same data type (just as with lists!)"
      ]
    },
    {
      "cell_type": "code",
      "execution_count": null,
      "metadata": {
        "id": "cVtElGNdZhLG",
        "outputId": "855b2124-1d06-4b74-d604-6e09bcdbc146"
      },
      "outputs": [
        {
          "name": "stdout",
          "output_type": "stream",
          "text": [
            "{'Federer': 20, 'Nadal': 23, 'Djokovic': 24, 3.14: 'Something'}\n"
          ]
        }
      ],
      "source": [
        "# add a new entry with a numeric key and a string value\n",
        "GS_trophies[3.14] = \"Something\"\n",
        "print(GS_trophies)"
      ]
    },
    {
      "cell_type": "markdown",
      "metadata": {
        "id": "Wa9Hws2cgkDX"
      },
      "source": [
        "The code above also shows how to add a new item in a dictionary. To remove an item based on its key, you can use the `pop(.)` method:"
      ]
    },
    {
      "cell_type": "code",
      "execution_count": null,
      "metadata": {
        "id": "wxFtfPz_hY3q",
        "outputId": "565b26b3-8a82-4493-fa62-c9bee93b8127"
      },
      "outputs": [
        {
          "name": "stdout",
          "output_type": "stream",
          "text": [
            "{'Federer': 20, 'Nadal': 23, 'Djokovic': 24}\n"
          ]
        }
      ],
      "source": [
        "# remove the weird item that we added above, with key 3.14\n",
        "GS_trophies.pop(3.14)\n",
        "print(GS_trophies)"
      ]
    },
    {
      "cell_type": "markdown",
      "metadata": {
        "id": "iBevUn4oiCB2"
      },
      "source": [
        "Loop through all the keys in the dictionary, one by one, with a `for` loop:"
      ]
    },
    {
      "cell_type": "code",
      "execution_count": null,
      "metadata": {
        "id": "ts1-NFX4iOBn",
        "outputId": "6fa6299e-7119-4858-ca17-36bb4f4d588b"
      },
      "outputs": [
        {
          "name": "stdout",
          "output_type": "stream",
          "text": [
            "Federer\n",
            "Nadal\n",
            "Djokovic\n"
          ]
        }
      ],
      "source": [
        "for key in GS_trophies:\n",
        "    print(key)"
      ]
    },
    {
      "cell_type": "markdown",
      "metadata": {
        "id": "q02rympyiXgA"
      },
      "source": [
        "To loop through the values, you can loop through the keys and get the values:"
      ]
    },
    {
      "cell_type": "code",
      "execution_count": null,
      "metadata": {
        "id": "Op5BOX3SieLX",
        "outputId": "cb6b91d0-25dd-4dc0-eaf6-ac0627386c27"
      },
      "outputs": [
        {
          "name": "stdout",
          "output_type": "stream",
          "text": [
            "Federer has 20 Grand Slam trophies.\n",
            "Nadal has 23 Grand Slam trophies.\n",
            "Djokovic has 24 Grand Slam trophies.\n"
          ]
        }
      ],
      "source": [
        "for key in GS_trophies:\n",
        "    print(f\"{key} has {GS_trophies[key]} Grand Slam trophies.\")"
      ]
    },
    {
      "cell_type": "markdown",
      "metadata": {
        "id": "LRkpeD1Vb7-k"
      },
      "source": [
        "To copy a dictionary, you need to use the `copy(.)` method, just like for a list. (Using `=` will **not** return a copy of the dictionary but will simply give the dictionary a second name...)"
      ]
    },
    {
      "cell_type": "code",
      "execution_count": null,
      "metadata": {
        "id": "uwTQw9MiaJUX",
        "outputId": "3f1e24fa-77a4-4afd-c360-27611f05a36f"
      },
      "outputs": [
        {
          "data": {
            "text/plain": [
              "dict_keys(['Federer', 'Nadal', 'Djokovic'])"
            ]
          },
          "execution_count": 59,
          "metadata": {},
          "output_type": "execute_result"
        }
      ],
      "source": [
        "GS_trophies.keys()"
      ]
    },
    {
      "cell_type": "markdown",
      "metadata": {
        "id": "kmmhNgpAjOLN"
      },
      "source": [
        "For more details on dictionaries (including the methods available), check <a\n",
        "href=\"https://www.w3schools.com/python/python_dictionaries.asp\">this</a>."
      ]
    },
    {
      "cell_type": "markdown",
      "metadata": {
        "id": "gOLtAzIak-SQ"
      },
      "source": [
        "# Functions\n",
        "Functions allow organizing the code in blocks that can be called separately (and many times). A function can take several arguments and can return data as a result. In Python, functions are defined using the `def` keyword."
      ]
    },
    {
      "cell_type": "markdown",
      "metadata": {
        "id": "N0RLciM8lRWy"
      },
      "source": [
        "Define a function with no arguments that prints a message."
      ]
    },
    {
      "cell_type": "code",
      "execution_count": null,
      "metadata": {
        "id": "IVtALsAalQXd",
        "outputId": "82d76936-8db7-44f1-b175-4a4b32cc2392"
      },
      "outputs": [
        {
          "name": "stdout",
          "output_type": "stream",
          "text": [
            "Hello again!\n",
            "7\n",
            "This is the smartest function.\n",
            "[7, -3]\n"
          ]
        }
      ],
      "source": [
        "# define a function without any arguments\n",
        "def hello():\n",
        "    print(\"Hello again!\")\n",
        "\n",
        "# now define another function that adds its two arguments\n",
        "def my_smart_addition(a,b):\n",
        "    return a+b\n",
        "\n",
        "# and an even smarter function that returns a+b and a-b as a list\n",
        "def my_smartest_function(a,b):\n",
        "    print(\"This is the smartest function.\")\n",
        "    a_plus_b = my_smart_addition(a,b)\n",
        "    a_minus_b = a-b\n",
        "    return [a_plus_b, a_minus_b]\n",
        "\n",
        "# let's test our functions\n",
        "hello()\n",
        "\n",
        "# this function returns something; let's store and print the result!\n",
        "result = my_smart_addition(2,5)\n",
        "print(result)\n",
        "\n",
        "# this function also returns something; let's store and print the result!\n",
        "result = my_smartest_function(2,5)\n",
        "print(result)\n",
        "\n",
        "# # the following would give an error if uncommented!\n",
        "# Hello()"
      ]
    },
    {
      "cell_type": "markdown",
      "metadata": {
        "id": "7Hl_vmKflsFm"
      },
      "source": [
        "A few things to note:\n",
        " - the colon `:` is critical in the syntax (just like with `if` and `for`)\n",
        " - functions can take arguments<br>\n",
        "   _For instance, the second function takes as arguments two things a, b. These could be any data type._\n",
        " - the keyword `return` tells the function what value to return <br>\n",
        "   _For instance, the second function returns the sum of its arguments, a + b_\n",
        " - you can call functions inside other functions<br>\n",
        "   _Like we did in the \"smart\" function, which calls the function that adds_\n",
        " - you can return several arguments<br>\n",
        "   _Just package them in a list and return that list, like in the third example_\n",
        " - function names are case-sensitive!"
      ]
    },
    {
      "cell_type": "markdown",
      "metadata": {
        "id": "FLPRZLmFkw5U"
      },
      "source": [
        "# Importing modules\n",
        "A module is essentially a library with lots of functions. By \"importing\" a module with the function `import`, you can use all the functions inside it."
      ]
    },
    {
      "cell_type": "markdown",
      "metadata": {
        "id": "kRRWbTUFtJ-l"
      },
      "source": [
        "For instance, in this class we will use the `pandas` module a lot (for some reasons, see the separate section covering it!) To import it, you could do any of the following:\n",
        "\n",
        "> ``import pandas``\n",
        "\n",
        "This imports the \"pandas\" module, and allows us to use the functions it contains; to use the function `read_csv()`, we would have to use the syntax ``pandas.read_csv()``.\n",
        "\n",
        "Because this requires typing the word `pandas` all the time, we can assign it a 'short name' as follows:\n",
        "\n",
        "> ``import pandas as pd``\n",
        "\n",
        "This also imports the full \"pandas\" module, but now we could call the `fname` function using ``pd.read_csv()``. Saving a few characters could mean a lot if you're typing this thousands of times :-)\n",
        "\n",
        "Lastly, there is one more option that we could use:\n",
        "\n",
        "> ``from pandas import *``\n",
        "\n",
        "This imports everything in the pandas module and makes it so that we can just refer to the function using ``read_csv()``. This is useful if the functions are specific enough that you don't think the same name might be defined/used elsewhere, but it could be dangerous if you think there might be overlap."
      ]
    },
    {
      "cell_type": "markdown",
      "metadata": {
        "id": "hMQ4xKVnjfMf"
      },
      "source": [
        "# Pandas module\n",
        "Pandas is a Python library used for working with data sets. It has very useful functions for analyzing, cleaning, exploring, and manipulating data, and we will be using it a lot throughout our class. (And in case you're wondering, the name is **not** about an animal, for a change.... It's actually short for \"panel data\"!) Over coverage here will be very brief, but if you want more, see, e.g., <a href=\"https://www.w3schools.com/python/pandas/default.asp\">this resource.</a>"
      ]
    },
    {
      "cell_type": "code",
      "execution_count": null,
      "metadata": {
        "id": "96K3U_YezCUL"
      },
      "outputs": [],
      "source": [
        "# let's first import the module\n",
        "import pandas as pd"
      ]
    },
    {
      "cell_type": "markdown",
      "metadata": {
        "id": "fm9cFukfzPq3"
      },
      "source": [
        "## Series\n",
        "The most basic object in `pandas` is a `Series`, which can be created with the `Series(.)` function. You can think of it as a column in a table (think of a column in Excel!)"
      ]
    },
    {
      "cell_type": "code",
      "execution_count": null,
      "metadata": {
        "id": "R7vXKP0Rzfyh",
        "outputId": "ed33a31b-1a74-4d2c-8384-b865be49ae10"
      },
      "outputs": [
        {
          "name": "stdout",
          "output_type": "stream",
          "text": [
            "0    24\n",
            "1    56\n",
            "2    99\n",
            "dtype: int64\n"
          ]
        }
      ],
      "source": [
        "my_list = [24, 56, 99]            # create a simple list\n",
        "my_series = pd.Series(my_list)    # now create a series from the list\n",
        "\n",
        "print(my_series)                  # print the series"
      ]
    },
    {
      "cell_type": "markdown",
      "metadata": {
        "id": "kvSkMHTDzRyR"
      },
      "source": [
        "Note that `pandas` assigns a label (called an **index**) to each element in the series. If you don't specify anything, these labels/indices will be the integers 0, 1, 2, ... You can also specify your own custom labels with the `index` argument, as below."
      ]
    },
    {
      "cell_type": "code",
      "execution_count": null,
      "metadata": {
        "id": "-XVQZh0nzPVi",
        "outputId": "7b2c2695-1903-4a8c-c4c0-dff0d52c1969"
      },
      "outputs": [
        {
          "name": "stdout",
          "output_type": "stream",
          "text": [
            "a    24\n",
            "b    56\n",
            "c    99\n",
            "dtype: int64\n"
          ]
        }
      ],
      "source": [
        "# create a series with a given index\n",
        "my_series = pd.Series(my_list, index = [\"a\", \"b\", \"c\"])\n",
        "print(my_series)                  # print the series"
      ]
    },
    {
      "cell_type": "markdown",
      "metadata": {
        "id": "vEat5DDIy_y1"
      },
      "source": [
        "By themselves, the Series are not terribly useful, but they form the basis of DataFrames, so it's good to understand them separately."
      ]
    },
    {
      "cell_type": "markdown",
      "metadata": {
        "id": "96o22Bao-biJ"
      },
      "source": [
        "## DataFrames\n",
        "DataFrames are the fundamental way in which data is organized in `pandas.` You can think of a DataFrame in close analogy with a table in Excel: it is a two-dimensional table that has Series as its columns."
      ]
    },
    {
      "cell_type": "markdown",
      "metadata": {
        "id": "oHeCtjNMBanP"
      },
      "source": [
        "### Basics"
      ]
    },
    {
      "cell_type": "markdown",
      "metadata": {
        "id": "p2rM0JsYC30r"
      },
      "source": [
        "Normally we read DataFrames from files, but here, we will show you two ways to create a DataFrame, either from a list of lists or from a dictionary. These might be useful in their own right.\n",
        "\n",
        "First, this is how to create a DataFrame from a dictionary. The keys correspond to the column names, and the values correspond to the values of the column (for every row)."
      ]
    },
    {
      "cell_type": "code",
      "execution_count": null,
      "metadata": {
        "id": "ywB2WTFj-bif",
        "outputId": "4ca6ef2b-5c62-4052-f262-996d998958d2"
      },
      "outputs": [
        {
          "data": {
            "text/html": [
              "<div>\n",
              "<style scoped>\n",
              "    .dataframe tbody tr th:only-of-type {\n",
              "        vertical-align: middle;\n",
              "    }\n",
              "\n",
              "    .dataframe tbody tr th {\n",
              "        vertical-align: top;\n",
              "    }\n",
              "\n",
              "    .dataframe thead th {\n",
              "        text-align: right;\n",
              "    }\n",
              "</style>\n",
              "<table border=\"1\" class=\"dataframe\">\n",
              "  <thead>\n",
              "    <tr style=\"text-align: right;\">\n",
              "      <th></th>\n",
              "      <th>Name</th>\n",
              "      <th>Age</th>\n",
              "      <th>Id</th>\n",
              "      <th>City</th>\n",
              "    </tr>\n",
              "  </thead>\n",
              "  <tbody>\n",
              "    <tr>\n",
              "      <th>0</th>\n",
              "      <td>Alice</td>\n",
              "      <td>25</td>\n",
              "      <td>10001</td>\n",
              "      <td>New York</td>\n",
              "    </tr>\n",
              "    <tr>\n",
              "      <th>1</th>\n",
              "      <td>Bob</td>\n",
              "      <td>30</td>\n",
              "      <td>10002</td>\n",
              "      <td>San Francisco</td>\n",
              "    </tr>\n",
              "    <tr>\n",
              "      <th>2</th>\n",
              "      <td>Charlie</td>\n",
              "      <td>22</td>\n",
              "      <td>10003</td>\n",
              "      <td>Los Angeles</td>\n",
              "    </tr>\n",
              "    <tr>\n",
              "      <th>3</th>\n",
              "      <td>David</td>\n",
              "      <td>28</td>\n",
              "      <td>10004</td>\n",
              "      <td>Chicago</td>\n",
              "    </tr>\n",
              "  </tbody>\n",
              "</table>\n",
              "</div>"
            ],
            "text/plain": [
              "      Name  Age     Id           City\n",
              "0    Alice   25  10001       New York\n",
              "1      Bob   30  10002  San Francisco\n",
              "2  Charlie   22  10003    Los Angeles\n",
              "3    David   28  10004        Chicago"
            ]
          },
          "metadata": {},
          "output_type": "display_data"
        }
      ],
      "source": [
        "# a dictionary that stores some data\n",
        "dictionary_with_data = {\n",
        "    'Name': ['Alice', 'Bob', 'Charlie', 'David'],\n",
        "    'Age': [25, 30, 22, 28],\n",
        "    'Id' : [10001, 10002, 10003, 10004],\n",
        "    'City': ['New York', 'San Francisco', 'Los Angeles', 'Chicago']\n",
        "}\n",
        "\n",
        "# create a DataFrame from the dictionary\n",
        "df = pd.DataFrame(dictionary_with_data)\n",
        "\n",
        "# display it\n",
        "display(df)"
      ]
    },
    {
      "cell_type": "markdown",
      "metadata": {
        "id": "NCl7wCTPCyjt"
      },
      "source": [
        "Next, you can create a DataFrame also from a list of lists. The outer list contains one element for each **row** of the dataframe; each element of the outer list is itself a list, that contains the values for each column (corresponding to a row). We use the same example as above for clarity."
      ]
    },
    {
      "cell_type": "code",
      "execution_count": null,
      "metadata": {
        "id": "9DNZ2v51DOho",
        "outputId": "9d881377-3674-4548-f833-d9ce1ccea46c"
      },
      "outputs": [
        {
          "data": {
            "text/html": [
              "<div>\n",
              "<style scoped>\n",
              "    .dataframe tbody tr th:only-of-type {\n",
              "        vertical-align: middle;\n",
              "    }\n",
              "\n",
              "    .dataframe tbody tr th {\n",
              "        vertical-align: top;\n",
              "    }\n",
              "\n",
              "    .dataframe thead th {\n",
              "        text-align: right;\n",
              "    }\n",
              "</style>\n",
              "<table border=\"1\" class=\"dataframe\">\n",
              "  <thead>\n",
              "    <tr style=\"text-align: right;\">\n",
              "      <th></th>\n",
              "      <th>Name</th>\n",
              "      <th>Age</th>\n",
              "      <th>Id</th>\n",
              "      <th>City</th>\n",
              "    </tr>\n",
              "  </thead>\n",
              "  <tbody>\n",
              "    <tr>\n",
              "      <th>0</th>\n",
              "      <td>Alice</td>\n",
              "      <td>25</td>\n",
              "      <td>10001</td>\n",
              "      <td>New York</td>\n",
              "    </tr>\n",
              "    <tr>\n",
              "      <th>1</th>\n",
              "      <td>Bob</td>\n",
              "      <td>30</td>\n",
              "      <td>10002</td>\n",
              "      <td>San Francisco</td>\n",
              "    </tr>\n",
              "    <tr>\n",
              "      <th>2</th>\n",
              "      <td>Charlie</td>\n",
              "      <td>22</td>\n",
              "      <td>10003</td>\n",
              "      <td>Los Angeles</td>\n",
              "    </tr>\n",
              "    <tr>\n",
              "      <th>3</th>\n",
              "      <td>David</td>\n",
              "      <td>28</td>\n",
              "      <td>10004</td>\n",
              "      <td>Chicago</td>\n",
              "    </tr>\n",
              "  </tbody>\n",
              "</table>\n",
              "</div>"
            ],
            "text/plain": [
              "      Name  Age     Id           City\n",
              "0    Alice   25  10001       New York\n",
              "1      Bob   30  10002  San Francisco\n",
              "2  Charlie   22  10003    Los Angeles\n",
              "3    David   28  10004        Chicago"
            ]
          },
          "metadata": {},
          "output_type": "display_data"
        }
      ],
      "source": [
        "# a list of lists (!) to store the data\n",
        "list_of_lists_of_data = [ ['Alice', 25, 10001, 'New York'], \\\n",
        " ['Bob', 30, 10002, 'San Francisco'], \\\n",
        " ['Charlie', 22, 10003, 'Los Angeles'], \\\n",
        " ['David', 28, 10004, 'Chicago'] ]\n",
        "\n",
        "# create a DataFrame from the dictionary\n",
        "df = pd.DataFrame(list_of_lists_of_data, columns = [\"Name\", \"Age\", \"Id\", \"City\"])\n",
        "\n",
        "# display it\n",
        "display(df)"
      ]
    },
    {
      "cell_type": "markdown",
      "metadata": {
        "id": "O429TrsX-big"
      },
      "source": [
        "As you can see, the DataFrame is basically a table with rows and columns. The column labels/names here are \"Name\", \"Age\", \"Id\", and \"City\". The rows are labeled with 0, 1, 2, 3, which you can see displayed in the first column (to be clear, that column is not really part of our DataFrame, so the first actual column is \"Name\"). Just like for a `Series`, `pandas` assigned these labels automatically when we created the DataFrame, and it used 0, 1, 2, 3 because we didn't specify custom ones (with the `index` argument).<br>\n",
        "\n",
        "The function `display(.)`, which we already used above, is great for visualizing DataFrames. In a large DataFrame, you may want to only display a few rows, which you can do with the `head(.)` method:"
      ]
    },
    {
      "cell_type": "code",
      "execution_count": null,
      "metadata": {
        "id": "xTpSyhKwJcRA",
        "outputId": "a2fa55da-2c77-45d3-d03a-bf7eda3e389a"
      },
      "outputs": [
        {
          "data": {
            "text/html": [
              "<div>\n",
              "<style scoped>\n",
              "    .dataframe tbody tr th:only-of-type {\n",
              "        vertical-align: middle;\n",
              "    }\n",
              "\n",
              "    .dataframe tbody tr th {\n",
              "        vertical-align: top;\n",
              "    }\n",
              "\n",
              "    .dataframe thead th {\n",
              "        text-align: right;\n",
              "    }\n",
              "</style>\n",
              "<table border=\"1\" class=\"dataframe\">\n",
              "  <thead>\n",
              "    <tr style=\"text-align: right;\">\n",
              "      <th></th>\n",
              "      <th>Name</th>\n",
              "      <th>Age</th>\n",
              "      <th>Id</th>\n",
              "      <th>City</th>\n",
              "    </tr>\n",
              "  </thead>\n",
              "  <tbody>\n",
              "    <tr>\n",
              "      <th>0</th>\n",
              "      <td>Alice</td>\n",
              "      <td>25</td>\n",
              "      <td>10001</td>\n",
              "      <td>New York</td>\n",
              "    </tr>\n",
              "    <tr>\n",
              "      <th>1</th>\n",
              "      <td>Bob</td>\n",
              "      <td>30</td>\n",
              "      <td>10002</td>\n",
              "      <td>San Francisco</td>\n",
              "    </tr>\n",
              "  </tbody>\n",
              "</table>\n",
              "</div>"
            ],
            "text/plain": [
              "    Name  Age     Id           City\n",
              "0  Alice   25  10001       New York\n",
              "1    Bob   30  10002  San Francisco"
            ]
          },
          "execution_count": 66,
          "metadata": {},
          "output_type": "execute_result"
        }
      ],
      "source": [
        "# display the first 2 rows\n",
        "df.head(2)"
      ]
    },
    {
      "cell_type": "markdown",
      "metadata": {
        "id": "fR9aYyAL8ncW"
      },
      "source": [
        "To find out the number of rows, use `len(.)`"
      ]
    },
    {
      "cell_type": "code",
      "execution_count": null,
      "metadata": {
        "id": "57EoI3C68qt8",
        "outputId": "ee71a3e2-4caa-47c6-e985-dc13fafabaad"
      },
      "outputs": [
        {
          "name": "stdout",
          "output_type": "stream",
          "text": [
            "4\n"
          ]
        }
      ],
      "source": [
        "# print the number of rows in the DataFrame\n",
        "print(len(df))"
      ]
    },
    {
      "cell_type": "markdown",
      "metadata": {
        "id": "kB_EjOT-BPO3"
      },
      "source": [
        "If you need both the number of rows and the number of columns, use `shape`"
      ]
    },
    {
      "cell_type": "code",
      "execution_count": null,
      "metadata": {
        "id": "Aow_V08DBT3Z",
        "outputId": "bee997c5-f9ef-4de0-ea5f-c7ab5f48820f"
      },
      "outputs": [
        {
          "data": {
            "text/plain": [
              "(4, 4)"
            ]
          },
          "execution_count": 68,
          "metadata": {},
          "output_type": "execute_result"
        }
      ],
      "source": [
        "df.shape"
      ]
    },
    {
      "cell_type": "markdown",
      "metadata": {
        "id": "usyuuaoqNHuf"
      },
      "source": [
        "### Column operations"
      ]
    },
    {
      "cell_type": "markdown",
      "metadata": {
        "id": "AczO9D9HI1Bv"
      },
      "source": [
        "You can see a specific column using the syntax `df[column_name]`:"
      ]
    },
    {
      "cell_type": "code",
      "execution_count": null,
      "metadata": {
        "id": "5vCUGSjwIkoE",
        "outputId": "07bf5de5-7956-4340-b0a7-e690e13e8c7d"
      },
      "outputs": [
        {
          "data": {
            "text/plain": [
              "0    25\n",
              "1    30\n",
              "2    22\n",
              "3    28\n",
              "Name: Age, dtype: int64"
            ]
          },
          "execution_count": 69,
          "metadata": {},
          "output_type": "execute_result"
        }
      ],
      "source": [
        "# check out the column \"Age\" : this is a Series, with integer values\n",
        "df[\"Age\"]"
      ]
    },
    {
      "cell_type": "markdown",
      "metadata": {
        "id": "y9eKtGSmNMMH"
      },
      "source": [
        "To rename a column, use the `rename(.)` DataFrame method"
      ]
    },
    {
      "cell_type": "code",
      "execution_count": null,
      "metadata": {
        "id": "m-fVwaYhNb6V",
        "outputId": "ce1c5764-2d1a-43b9-c9b2-1c37c95c4ae9"
      },
      "outputs": [
        {
          "data": {
            "text/html": [
              "<div>\n",
              "<style scoped>\n",
              "    .dataframe tbody tr th:only-of-type {\n",
              "        vertical-align: middle;\n",
              "    }\n",
              "\n",
              "    .dataframe tbody tr th {\n",
              "        vertical-align: top;\n",
              "    }\n",
              "\n",
              "    .dataframe thead th {\n",
              "        text-align: right;\n",
              "    }\n",
              "</style>\n",
              "<table border=\"1\" class=\"dataframe\">\n",
              "  <thead>\n",
              "    <tr style=\"text-align: right;\">\n",
              "      <th></th>\n",
              "      <th>Name</th>\n",
              "      <th>Years</th>\n",
              "      <th>Id</th>\n",
              "      <th>Location</th>\n",
              "    </tr>\n",
              "  </thead>\n",
              "  <tbody>\n",
              "    <tr>\n",
              "      <th>0</th>\n",
              "      <td>Alice</td>\n",
              "      <td>25</td>\n",
              "      <td>10001</td>\n",
              "      <td>New York</td>\n",
              "    </tr>\n",
              "    <tr>\n",
              "      <th>1</th>\n",
              "      <td>Bob</td>\n",
              "      <td>30</td>\n",
              "      <td>10002</td>\n",
              "      <td>San Francisco</td>\n",
              "    </tr>\n",
              "    <tr>\n",
              "      <th>2</th>\n",
              "      <td>Charlie</td>\n",
              "      <td>22</td>\n",
              "      <td>10003</td>\n",
              "      <td>Los Angeles</td>\n",
              "    </tr>\n",
              "    <tr>\n",
              "      <th>3</th>\n",
              "      <td>David</td>\n",
              "      <td>28</td>\n",
              "      <td>10004</td>\n",
              "      <td>Chicago</td>\n",
              "    </tr>\n",
              "  </tbody>\n",
              "</table>\n",
              "</div>"
            ],
            "text/plain": [
              "      Name  Years     Id       Location\n",
              "0    Alice     25  10001       New York\n",
              "1      Bob     30  10002  San Francisco\n",
              "2  Charlie     22  10003    Los Angeles\n",
              "3    David     28  10004        Chicago"
            ]
          },
          "metadata": {},
          "output_type": "display_data"
        }
      ],
      "source": [
        "# rename the \"City\" column as 'Location' and the 'Age' as 'Years'\n",
        "df.rename(columns={'City': 'Location', 'Age': 'Years'}, inplace=True)\n",
        "display(df)"
      ]
    },
    {
      "cell_type": "markdown",
      "metadata": {
        "id": "H_sqo-Q6NqLx"
      },
      "source": [
        "The argument `inplace`=True is needed to make sure that the DataFrame is actually changed (otherwise, the `rename` method just returns a new DataFrame, without changing the existing one)."
      ]
    },
    {
      "cell_type": "markdown",
      "metadata": {
        "id": "wfBLqTPPJT6Q"
      },
      "source": [
        "To obtain the names of all the columns, use the attribute `df.columns`."
      ]
    },
    {
      "cell_type": "code",
      "execution_count": null,
      "metadata": {
        "id": "EuAFJ_YeI0ng",
        "outputId": "7240c08e-cec8-4d53-b4c3-480e76ddb28b"
      },
      "outputs": [
        {
          "data": {
            "text/plain": [
              "Index(['Name', 'Years', 'Id', 'Location'], dtype='object')"
            ]
          },
          "execution_count": 71,
          "metadata": {},
          "output_type": "execute_result"
        }
      ],
      "source": [
        "# get all the column names\n",
        "df.columns"
      ]
    },
    {
      "cell_type": "markdown",
      "metadata": {
        "id": "r1X2VJ6TLdeq"
      },
      "source": [
        "As you can see, this returns an `Index` object (which we have not discussed), but you can iterate through it with a usual `for` loop or you can transform it into a regular Python List with the function `list`."
      ]
    },
    {
      "cell_type": "code",
      "execution_count": null,
      "metadata": {
        "id": "fOfUGtZdJyxI",
        "outputId": "29c53314-73d3-44d6-ebab-2440a9d259a5"
      },
      "outputs": [
        {
          "name": "stdout",
          "output_type": "stream",
          "text": [
            "Name\n",
            "Years\n",
            "Id\n",
            "Location\n",
            "['Name', 'Years', 'Id', 'Location']\n"
          ]
        }
      ],
      "source": [
        "# let's iterate through the names of the columns with a for loop\n",
        "for c in df.columns:\n",
        "     print(c)\n",
        "\n",
        "# let's store the columns in a list and display the list\n",
        "column_names = list(df.columns)\n",
        "print(column_names)"
      ]
    },
    {
      "cell_type": "markdown",
      "metadata": {
        "id": "-RrpCWyKJzKE"
      },
      "source": [
        "<font color=red>**Warning!**</font>`df.columns` **is not a method**! If you use round brackets, you will get an error:"
      ]
    },
    {
      "cell_type": "code",
      "execution_count": null,
      "metadata": {
        "id": "rfUATKyXLWKN"
      },
      "outputs": [],
      "source": [
        "# # the following would generate an error!\n",
        "# df.columns()"
      ]
    },
    {
      "cell_type": "markdown",
      "metadata": {
        "id": "9qmr877by_Lv"
      },
      "source": [
        "### Row operations"
      ]
    },
    {
      "cell_type": "markdown",
      "metadata": {
        "id": "wjd4n-X_KN4n"
      },
      "source": [
        "To get all the row labels, used `df.index`."
      ]
    },
    {
      "cell_type": "code",
      "execution_count": null,
      "metadata": {
        "id": "bBPGyTRBKaqA",
        "outputId": "e2372c31-74a0-4360-ea21-39f624eb5d97"
      },
      "outputs": [
        {
          "data": {
            "text/plain": [
              "RangeIndex(start=0, stop=4, step=1)"
            ]
          },
          "execution_count": 74,
          "metadata": {},
          "output_type": "execute_result"
        }
      ],
      "source": [
        "# get all the row labels\n",
        "df.index"
      ]
    },
    {
      "cell_type": "markdown",
      "metadata": {
        "id": "TbTZ1u5yKmWx"
      },
      "source": [
        "This also returns an object (a `RangeIndex`), but you can readily loop through it with a `for` or store it as a list."
      ]
    },
    {
      "cell_type": "code",
      "execution_count": null,
      "metadata": {
        "id": "5P-FGaHOKw7L",
        "outputId": "b4fa6032-ad72-4aef-9859-e917ad126140"
      },
      "outputs": [
        {
          "name": "stdout",
          "output_type": "stream",
          "text": [
            "0\n",
            "1\n",
            "2\n",
            "3\n",
            "[0, 1, 2, 3]\n"
          ]
        }
      ],
      "source": [
        "# let's iterate through the indices of all the rows\n",
        "for i in df.index:\n",
        "     print(i)\n",
        "\n",
        "# let's store the columns in a list and display the list\n",
        "row_idx = list(df.index)\n",
        "print(row_idx)"
      ]
    },
    {
      "cell_type": "markdown",
      "metadata": {
        "id": "2lxLso3rM5nN"
      },
      "source": [
        "To change the row labels used for the DataFrame:\n",
        " - to set these to the values of an existing column, use the `set_index` method\n",
        " - to set these to some Python list, assign the `index` attribute\n",
        "**Warning** To make sure you avoid ambiguities, the labels should always contain unique values."
      ]
    },
    {
      "cell_type": "code",
      "execution_count": null,
      "metadata": {
        "id": "WUqCEqPX7Tf6",
        "outputId": "b9f27037-feeb-40de-c2dd-1f8e88668e02"
      },
      "outputs": [
        {
          "data": {
            "text/html": [
              "<div>\n",
              "<style scoped>\n",
              "    .dataframe tbody tr th:only-of-type {\n",
              "        vertical-align: middle;\n",
              "    }\n",
              "\n",
              "    .dataframe tbody tr th {\n",
              "        vertical-align: top;\n",
              "    }\n",
              "\n",
              "    .dataframe thead th {\n",
              "        text-align: right;\n",
              "    }\n",
              "</style>\n",
              "<table border=\"1\" class=\"dataframe\">\n",
              "  <thead>\n",
              "    <tr style=\"text-align: right;\">\n",
              "      <th></th>\n",
              "      <th>Name</th>\n",
              "      <th>Years</th>\n",
              "      <th>Location</th>\n",
              "    </tr>\n",
              "    <tr>\n",
              "      <th>Id</th>\n",
              "      <th></th>\n",
              "      <th></th>\n",
              "      <th></th>\n",
              "    </tr>\n",
              "  </thead>\n",
              "  <tbody>\n",
              "    <tr>\n",
              "      <th>10001</th>\n",
              "      <td>Alice</td>\n",
              "      <td>25</td>\n",
              "      <td>New York</td>\n",
              "    </tr>\n",
              "    <tr>\n",
              "      <th>10002</th>\n",
              "      <td>Bob</td>\n",
              "      <td>30</td>\n",
              "      <td>San Francisco</td>\n",
              "    </tr>\n",
              "    <tr>\n",
              "      <th>10003</th>\n",
              "      <td>Charlie</td>\n",
              "      <td>22</td>\n",
              "      <td>Los Angeles</td>\n",
              "    </tr>\n",
              "    <tr>\n",
              "      <th>10004</th>\n",
              "      <td>David</td>\n",
              "      <td>28</td>\n",
              "      <td>Chicago</td>\n",
              "    </tr>\n",
              "  </tbody>\n",
              "</table>\n",
              "</div>"
            ],
            "text/plain": [
              "          Name  Years       Location\n",
              "Id                                  \n",
              "10001    Alice     25       New York\n",
              "10002      Bob     30  San Francisco\n",
              "10003  Charlie     22    Los Angeles\n",
              "10004    David     28        Chicago"
            ]
          },
          "metadata": {},
          "output_type": "display_data"
        }
      ],
      "source": [
        "# assign the index to the column 'Id', which in our case has unique id's\n",
        "df.set_index('Id', inplace=True)\n",
        "\n",
        "display(df)"
      ]
    },
    {
      "cell_type": "markdown",
      "metadata": {
        "id": "7YuFrNBLM5ci"
      },
      "source": [
        "As you can see, the row labels are now given by the \"Id\" column. Now let's set these to a, b, c, ..."
      ]
    },
    {
      "cell_type": "code",
      "execution_count": null,
      "metadata": {
        "id": "iG6WNZkA8RVd",
        "outputId": "d3c1d09e-1ba3-439a-e2e1-806161427fbe"
      },
      "outputs": [
        {
          "data": {
            "text/html": [
              "<div>\n",
              "<style scoped>\n",
              "    .dataframe tbody tr th:only-of-type {\n",
              "        vertical-align: middle;\n",
              "    }\n",
              "\n",
              "    .dataframe tbody tr th {\n",
              "        vertical-align: top;\n",
              "    }\n",
              "\n",
              "    .dataframe thead th {\n",
              "        text-align: right;\n",
              "    }\n",
              "</style>\n",
              "<table border=\"1\" class=\"dataframe\">\n",
              "  <thead>\n",
              "    <tr style=\"text-align: right;\">\n",
              "      <th></th>\n",
              "      <th>Name</th>\n",
              "      <th>Years</th>\n",
              "      <th>Location</th>\n",
              "    </tr>\n",
              "  </thead>\n",
              "  <tbody>\n",
              "    <tr>\n",
              "      <th>a</th>\n",
              "      <td>Alice</td>\n",
              "      <td>25</td>\n",
              "      <td>New York</td>\n",
              "    </tr>\n",
              "    <tr>\n",
              "      <th>b</th>\n",
              "      <td>Bob</td>\n",
              "      <td>30</td>\n",
              "      <td>San Francisco</td>\n",
              "    </tr>\n",
              "    <tr>\n",
              "      <th>c</th>\n",
              "      <td>Charlie</td>\n",
              "      <td>22</td>\n",
              "      <td>Los Angeles</td>\n",
              "    </tr>\n",
              "    <tr>\n",
              "      <th>d</th>\n",
              "      <td>David</td>\n",
              "      <td>28</td>\n",
              "      <td>Chicago</td>\n",
              "    </tr>\n",
              "  </tbody>\n",
              "</table>\n",
              "</div>"
            ],
            "text/plain": [
              "      Name  Years       Location\n",
              "a    Alice     25       New York\n",
              "b      Bob     30  San Francisco\n",
              "c  Charlie     22    Los Angeles\n",
              "d    David     28        Chicago"
            ]
          },
          "metadata": {},
          "output_type": "display_data"
        }
      ],
      "source": [
        "# change the index to 0, 1, ...\n",
        "df.index = list(['a','b','c','d'])\n",
        "\n",
        "display(df)"
      ]
    },
    {
      "cell_type": "markdown",
      "metadata": {
        "id": "GPQRmi7p9sHB"
      },
      "source": [
        "### Retrieve elements\n",
        "One of the most important operations with a DataFrame is to retrieve an element located at a certain row and column."
      ]
    },
    {
      "cell_type": "markdown",
      "metadata": {
        "id": "N1pTsjOS9RS4"
      },
      "source": [
        "If you know the row and column labels, there are two approaches:\n",
        " 1. use `df[column_label][row_label]`\n",
        " 2. use `df.loc[row_label, column_label]`\n",
        "\n",
        "First time you see this, it might look a bit confusing, especially because the order or rows/columns is switched! Recall that `df[column_label]` from approach (1) returns the `Series` corresponding to the column named `column_label`, so then, applying `[row_label]` to that simply returns the element at the `[row_label]` location. In contrast, (2) is the (arguably more natural) approach of indexing first with the row and then the column. Let's see them in action:"
      ]
    },
    {
      "cell_type": "code",
      "execution_count": null,
      "metadata": {
        "id": "cknhcMss-XzM",
        "outputId": "4febceb2-8e11-492d-f554-7e2e263dea93"
      },
      "outputs": [
        {
          "name": "stdout",
          "output_type": "stream",
          "text": [
            "22\n",
            "22\n"
          ]
        }
      ],
      "source": [
        "# let's get the element on row 'c' and column \"Years\"\n",
        "print(df[\"Years\"]['c'])   # approach 1\n",
        "print(df.loc['c',\"Years\"])    # approach 2"
      ]
    },
    {
      "cell_type": "markdown",
      "metadata": {
        "id": "VMhlBu5I_44a"
      },
      "source": [
        "`df.loc` actually allows you to recover several rows and columns (i.e., an entire sub-table) of the DataFrame"
      ]
    },
    {
      "cell_type": "code",
      "execution_count": null,
      "metadata": {
        "id": "V-1FWwCi_4IS",
        "outputId": "bbe84c43-c2a5-46ca-9778-1ada9659fa93"
      },
      "outputs": [
        {
          "data": {
            "text/html": [
              "<div>\n",
              "<style scoped>\n",
              "    .dataframe tbody tr th:only-of-type {\n",
              "        vertical-align: middle;\n",
              "    }\n",
              "\n",
              "    .dataframe tbody tr th {\n",
              "        vertical-align: top;\n",
              "    }\n",
              "\n",
              "    .dataframe thead th {\n",
              "        text-align: right;\n",
              "    }\n",
              "</style>\n",
              "<table border=\"1\" class=\"dataframe\">\n",
              "  <thead>\n",
              "    <tr style=\"text-align: right;\">\n",
              "      <th></th>\n",
              "      <th>Name</th>\n",
              "      <th>Location</th>\n",
              "    </tr>\n",
              "  </thead>\n",
              "  <tbody>\n",
              "    <tr>\n",
              "      <th>c</th>\n",
              "      <td>Charlie</td>\n",
              "      <td>Los Angeles</td>\n",
              "    </tr>\n",
              "    <tr>\n",
              "      <th>d</th>\n",
              "      <td>David</td>\n",
              "      <td>Chicago</td>\n",
              "    </tr>\n",
              "  </tbody>\n",
              "</table>\n",
              "</div>"
            ],
            "text/plain": [
              "      Name     Location\n",
              "c  Charlie  Los Angeles\n",
              "d    David      Chicago"
            ]
          },
          "execution_count": 79,
          "metadata": {},
          "output_type": "execute_result"
        }
      ],
      "source": [
        "df.loc['c':'e',[\"Name\", \"Location\"]]"
      ]
    },
    {
      "cell_type": "markdown",
      "metadata": {
        "id": "8XTlzm0MHOdW"
      },
      "source": [
        "Another option is to index into the DataFrame using entirely numeric indices, using `iloc`, with syntax:\n",
        "> `df.iloc[numeric_row_index, numeric_column_index]`\n",
        "\n",
        "To not get confused here, remember that Python uses 0-based indexing (and the very first column, which lists the row labels, does not count as a proper column)."
      ]
    },
    {
      "cell_type": "code",
      "execution_count": null,
      "metadata": {
        "id": "OYGcKwhwGeW1",
        "outputId": "efb9a91c-62e4-400b-c98b-3396b94e6e47"
      },
      "outputs": [
        {
          "data": {
            "text/plain": [
              "'Alice'"
            ]
          },
          "execution_count": 80,
          "metadata": {},
          "output_type": "execute_result"
        }
      ],
      "source": [
        "# let's retrieve the element in row 1 and column 1\n",
        "df.iloc[0, 0]"
      ]
    },
    {
      "cell_type": "markdown",
      "metadata": {
        "id": "NJ9Hg79qAWBX"
      },
      "source": [
        "### Looping\n",
        "To loop through the elements in a row or a column (or a sub-table), you can just use a regular `for` loop"
      ]
    },
    {
      "cell_type": "code",
      "execution_count": null,
      "metadata": {
        "id": "_R6RczF8Af-7",
        "outputId": "058ce875-0d21-4fb9-db70-4d66b80b285f"
      },
      "outputs": [
        {
          "name": "stdout",
          "output_type": "stream",
          "text": [
            "Alice\n",
            "Bob\n",
            "Charlie\n",
            "David\n",
            "25\n",
            "30\n",
            "22\n",
            "28\n",
            "New York\n",
            "San Francisco\n",
            "Los Angeles\n",
            "Chicago\n"
          ]
        }
      ],
      "source": [
        "# let's loop through the entire DataFrame on columns\n",
        "for c in list(df.columns):\n",
        "    # for every column\n",
        "    for r in list(df.index):\n",
        "        # for every row\n",
        "        print(df.loc[r,c])"
      ]
    },
    {
      "cell_type": "code",
      "execution_count": null,
      "metadata": {
        "id": "XlxPDhihA2hC",
        "outputId": "6f0eff3b-07a5-4747-abf9-3cac4d48398f"
      },
      "outputs": [
        {
          "name": "stdout",
          "output_type": "stream",
          "text": [
            "Alice\n",
            "25\n",
            "New York\n",
            "Bob\n",
            "30\n",
            "San Francisco\n",
            "Charlie\n",
            "22\n",
            "Los Angeles\n",
            "David\n",
            "28\n",
            "Chicago\n"
          ]
        }
      ],
      "source": [
        "# now let's loop on rows, and using numeric indexing\n",
        "(num_rows, num_cols) = df.shape\n",
        "for r in range(num_rows):\n",
        "    # for every row\n",
        "    for c in range(num_cols):\n",
        "        # for every column\n",
        "        print(df.iloc[r,c])"
      ]
    },
    {
      "cell_type": "markdown",
      "metadata": {
        "id": "KOQKLuBH6Ee9"
      },
      "source": [
        "Depending on what calculation you need, looping with `for` loops like above may not be the best approach; instead, we may want to use a list comprehension (something we will do often together) or one of the built-in DataFrame functions. `DataFrames` and more broadly the `pandas` module have a lot of powerful functionality built-in, and you will likely explore more of that in your D&D class. For now, if you want more details, you can check out one of the many tutorials available online (e.g., <a href=\"https://www.datacamp.com/tutorial/pandas-tutorial-dataframe-python\">the DataCamp one</a>) or <a href=\"https://pandas.pydata.org/docs/reference/frame.html\">the official Python manual</a>."
      ]
    },
    {
      "cell_type": "markdown",
      "metadata": {
        "id": "vhFaZvbvC0DZ"
      },
      "source": [
        "## Reading data files\n",
        "We will read data files using panda's `read_csv` or `read_excel` functions."
      ]
    },
    {
      "cell_type": "markdown",
      "metadata": {
        "id": "qXirwpViEOi0"
      },
      "source": [
        "This code assumes that you imported the pandas module with the command `import pandas as pd`. For reading CSV files, the most common syntax we use is:\n",
        "> `df = pd.read_csv(full_file_name, index_col)`<br>\n",
        "where:\n",
        " - `full_file_name`: complete filename, including path if needed\n",
        " - `index_col` : the name or numeric index of the column to use to construct the row labels (this is optional, and if you don't specify it, Python will use 0, 1, 2, ...)\n",
        "\n",
        "For reading CSV files, the most common syntax we use is:\n",
        "> `df = pd.read_excel(full_file_name, sheet_name, index_col)`<br>\n",
        "where:\n",
        " - `full_file_name`: complete filename, including path if needed\n",
        " - `sheet_name`: the name of the sheet\n",
        " - `index_col`: the name or numeric index of the column to use to construct the row labels; (optional, and if you don't specify it, Python will use 0, 1, 2, ...)"
      ]
    },
    {
      "cell_type": "markdown",
      "metadata": {
        "id": "5hE-vfJnCn3-"
      },
      "source": [
        "# Plotting\n",
        "We will do most of our plotting with the `pyplot` library, which is contained inside the `matplotlib` library."
      ]
    },
    {
      "cell_type": "code",
      "execution_count": null,
      "metadata": {
        "id": "6hRkRA_-HcYt"
      },
      "outputs": [],
      "source": [
        "# import pyplot library from the matplotlib library\n",
        "import matplotlib.pyplot as plt"
      ]
    },
    {
      "cell_type": "markdown",
      "metadata": {
        "id": "mBpq0oIiG5hf"
      },
      "source": [
        "For line plots, we use the `plot` function"
      ]
    },
    {
      "cell_type": "code",
      "execution_count": null,
      "metadata": {
        "id": "Y0NdPEFXG48w",
        "outputId": "098949d0-6d48-4530-a7cc-84e366e176a7"
      },
      "outputs": [
        {
          "data": {
            "image/png": "[encoded data removed]",
            "text/plain": [
              "<Figure size 640x480 with 1 Axes>"
            ]
          },
          "metadata": {},
          "output_type": "display_data"
        }
      ],
      "source": [
        "# let's plot the function 3*x+2 for x in 0, 1, ..., 10\n",
        "xpoints = list(range(11))               # the values of x\n",
        "ypoints = [3*x+2 for x in xpoints]      # a list with the values of y = 3x+2\n",
        "\n",
        "plt.plot(xpoints, ypoints)\n",
        "plt.show()"
      ]
    },
    {
      "cell_type": "markdown",
      "metadata": {
        "id": "2HGEHyU7J2Gh"
      },
      "source": [
        "For a scatter plot, use `scatter`"
      ]
    },
    {
      "cell_type": "code",
      "execution_count": null,
      "metadata": {
        "id": "a668mzrfJ1n5",
        "outputId": "565a86e9-1712-43bb-aedc-67df56d09816"
      },
      "outputs": [
        {
          "data": {
            "image/png": "[encoded data removed]",
            "text/plain": [
              "<Figure size 640x480 with 1 Axes>"
            ]
          },
          "metadata": {},
          "output_type": "display_data"
        }
      ],
      "source": [
        "# let's plot the same function as above\n",
        "plt.scatter(xpoints, ypoints)\n",
        "plt.show()"
      ]
    },
    {
      "cell_type": "markdown",
      "metadata": {
        "id": "eX7ORaTfH7dz"
      },
      "source": [
        "Many things could be adjusted in a plot. <a href=\"https://matplotlib.org/2.0.2/users/pyplot_tutorial.html\">This tutorial</a> could be a useful reference, but we also recommend leveraging AI bots for this: with some suitable prompting and a few iterations, they can typically get you pretty nice-looking plots!"
      ]
    },
    {
      "cell_type": "markdown",
      "metadata": {
        "id": "3E7XC0uIEj4S"
      },
      "source": [
        "# NumPy Basics\n",
        "NumPy is a powerful Python library used for numerical computations. It provides support for large multi-dimensional arrays and matrices, along with a collection of mathematical functions to operate on these arrays. Although numpy's functionality can be replicated in principle with lists of lists, numpy is **a lot** faster than lists (about 50 times faster) and should always be used instead of lists for large-scale computations."
      ]
    },
    {
      "cell_type": "markdown",
      "metadata": {
        "id": "IeYxXsImEj4S"
      },
      "source": [
        "### Creating Arrays\n",
        "NumPy arrays can be created using the `array` function. Here's a basic example of creating an array from a list:"
      ]
    },
    {
      "cell_type": "code",
      "execution_count": null,
      "metadata": {
        "id": "QbcCODT_Ej4S",
        "outputId": "0dee2e58-a651-46e2-f3a5-c861761e5fb9"
      },
      "outputs": [
        {
          "name": "stdout",
          "output_type": "stream",
          "text": [
            "[1 2 3 4 5]\n"
          ]
        }
      ],
      "source": [
        "import numpy as np\n",
        "# Creating an array\n",
        "arr = np.array([1, 2, 3, 4, 5])\n",
        "print(arr)"
      ]
    },
    {
      "cell_type": "markdown",
      "metadata": {
        "id": "7M2SlgU3Ej4S"
      },
      "source": [
        "### Indexing\n",
        "You can access elements of a NumPy array using indexing, similar to lists. Remember that indexing starts at 0."
      ]
    },
    {
      "cell_type": "code",
      "execution_count": null,
      "metadata": {
        "id": "5lUJ4YZNEj4S",
        "outputId": "36dad3b1-3145-4c2b-c20c-8b9e85b77de1"
      },
      "outputs": [
        {
          "name": "stdout",
          "output_type": "stream",
          "text": [
            "1\n",
            "3\n"
          ]
        }
      ],
      "source": [
        "# Accessing elements\n",
        "print(arr[0])  # First element\n",
        "print(arr[2])  # Third element"
      ]
    },
    {
      "cell_type": "code",
      "execution_count": null,
      "metadata": {
        "id": "RHde7-ANEj4T"
      },
      "outputs": [],
      "source": [
        "New_arr = np.zeros(100)"
      ]
    },
    {
      "cell_type": "markdown",
      "metadata": {
        "id": "yUydFVg7Ej4T"
      },
      "source": [
        "This creates a NumPy array called New_arr with a length of 100. All elements in this array are initialized to 0"
      ]
    },
    {
      "cell_type": "markdown",
      "metadata": {
        "id": "CFG-qpcpEj4T"
      },
      "source": [
        "### Slicing\n",
        "Slicing allows you to extract a portion of an array. The syntax is similar to Python lists: `arr[start:stop]`."
      ]
    },
    {
      "cell_type": "code",
      "execution_count": null,
      "metadata": {
        "id": "FvnHqx4CEj4T",
        "outputId": "f3068f0c-2bcf-452d-efe9-32311433667c"
      },
      "outputs": [
        {
          "name": "stdout",
          "output_type": "stream",
          "text": [
            "[2 3 4]\n"
          ]
        }
      ],
      "source": [
        "# Slicing an array\n",
        "print(arr[1:4])  # Elements from index 1 to 3"
      ]
    },
    {
      "cell_type": "markdown",
      "metadata": {
        "id": "gs_H9WVXEj4T"
      },
      "source": [
        "### Iterating\n",
        "You can iterate over NumPy arrays using standard loops."
      ]
    },
    {
      "cell_type": "code",
      "execution_count": null,
      "metadata": {
        "id": "uuLNBevnEj4T",
        "outputId": "641a8c8e-c099-4b49-e20c-953c2b52b9a1"
      },
      "outputs": [
        {
          "name": "stdout",
          "output_type": "stream",
          "text": [
            "1\n",
            "2\n",
            "3\n",
            "4\n",
            "5\n"
          ]
        }
      ],
      "source": [
        "# Iterating through an array\n",
        "for x in arr:\n",
        "    print(x)"
      ]
    },
    {
      "cell_type": "markdown",
      "metadata": {
        "id": "EiC0pWUWEj4T"
      },
      "source": [
        "### Sorting\n",
        "NumPy provides a simple way to sort arrays using the `sort` function."
      ]
    },
    {
      "cell_type": "code",
      "execution_count": null,
      "metadata": {
        "id": "6NVCBKfaEj4T",
        "outputId": "60d24f6e-c278-47a5-fa1f-ac3bd7ea494e"
      },
      "outputs": [
        {
          "name": "stdout",
          "output_type": "stream",
          "text": [
            "[1 1 3 4 5]\n"
          ]
        }
      ],
      "source": [
        "# Sorting an array\n",
        "unsorted_arr = np.array([3, 1, 4, 1, 5])\n",
        "sorted_arr = np.sort(unsorted_arr)\n",
        "print(sorted_arr)"
      ]
    },
    {
      "cell_type": "markdown",
      "metadata": {
        "id": "r_WxeY-kEj4T"
      },
      "source": [
        "### Max, Argmax, Min, and Argmin\n",
        "You can find the maximum and minimum values of an array using `max` and `min` functions. To find their positions, use `argmax` and `argmin`."
      ]
    },
    {
      "cell_type": "code",
      "execution_count": null,
      "metadata": {
        "id": "r4PEGaz1Ej4T",
        "outputId": "57d84d24-6c1c-49b7-d460-b8ea87fdbbdd"
      },
      "outputs": [
        {
          "name": "stdout",
          "output_type": "stream",
          "text": [
            "5\n",
            "4\n",
            "1\n",
            "0\n"
          ]
        }
      ],
      "source": [
        "# Finding the maximum and minimum values in an array, and their indices\n",
        "print(arr.max())       # Maximum value\n",
        "print(arr.argmax())    # Index of maximum value\n",
        "print(arr.min())       # Minimum value\n",
        "print(arr.argmin())    # Index of minimum value"
      ]
    },
    {
      "cell_type": "markdown",
      "metadata": {
        "id": "hkq9rYobEj4T"
      },
      "source": [
        "### Arange Function\n",
        "The `arange` function is used to create an array with evenly spaced values within a given range."
      ]
    },
    {
      "cell_type": "code",
      "execution_count": null,
      "metadata": {
        "id": "zReZZEpWEj4T",
        "outputId": "d395f109-96f0-4617-e434-89a94283108c"
      },
      "outputs": [
        {
          "name": "stdout",
          "output_type": "stream",
          "text": [
            "[0 2 4 6 8]\n"
          ]
        }
      ],
      "source": [
        "# Using arange\n",
        "start = 0\n",
        "stop = 10\n",
        "step = 2\n",
        "range_arr = np.arange(start, stop, step)\n",
        "print(range_arr)"
      ]
    },
    {
      "cell_type": "markdown",
      "metadata": {
        "id": "f9EN65sZEj4T"
      },
      "source": [
        "This creates a NumPy array called New_arr with a length of 100. All elements in this array are initialized to 0"
      ]
    },
    {
      "cell_type": "markdown",
      "metadata": {
        "id": "4RImJ4d1Ej4T"
      },
      "source": [
        "### Random Sub-module\n",
        "NumPy's `random` sub-module allows you to generate random numbers. We will be using this a lot when doing Monte-Carlo simulation!\n",
        "\n",
        "Here are some simple examples:"
      ]
    },
    {
      "cell_type": "code",
      "execution_count": null,
      "metadata": {
        "id": "a1_HS_liEj4T",
        "outputId": "03557bfc-43a0-4646-9ee3-86bd1cd1ca2c"
      },
      "outputs": [
        {
          "name": "stdout",
          "output_type": "stream",
          "text": [
            "Random uniform: [0.52158799 0.39401032 0.42956624]\n",
            "Random integers: [3 1 8]\n",
            "Random normal: [-0.01975866 -0.0383203   1.25377472]\n",
            "Random binomial: [5 6 6]\n"
          ]
        }
      ],
      "source": [
        "# Uniform distribution\n",
        "rand_uniform = np.random.rand(3)\n",
        "print('Random uniform:', rand_uniform)\n",
        "\n",
        "# Random integers in an interval\n",
        "rand_int = np.random.randint(1, 10, 3)\n",
        "print('Random integers:', rand_int)\n",
        "\n",
        "# Normal distribution\n",
        "rand_normal = np.random.randn(3)\n",
        "print('Random normal:', rand_normal)\n",
        "\n",
        "# Binomial distribution\n",
        "rand_binomial = np.random.binomial(10, 0.5, 3)\n",
        "print('Random binomial:', rand_binomial)"
      ]
    },
    {
      "cell_type": "markdown",
      "metadata": {
        "id": "9aHE7TMeEj4T"
      },
      "source": [
        "#### Uniform Continuous Distribution\n",
        "`np.random.rand(n)` generates an array of `n` random samples drawn from a uniform distribution over the interval [0, 1)"
      ]
    },
    {
      "cell_type": "code",
      "execution_count": null,
      "metadata": {
        "id": "sVaWFtKpEj4T",
        "outputId": "a3642336-8398-441a-d105-1d4691f3f109"
      },
      "outputs": [
        {
          "name": "stdout",
          "output_type": "stream",
          "text": [
            "Random uniform sample: [0.04115713 0.70063918 0.73749434]\n"
          ]
        }
      ],
      "source": [
        "# Random uniform between 0 and 1\n",
        "uniform_sample = np.random.rand(3)\n",
        "print('Random uniform sample:', uniform_sample)"
      ]
    },
    {
      "cell_type": "markdown",
      "metadata": {
        "id": "_o63Xyr1Ej4T"
      },
      "source": [
        "#### Random Integers In An Interval\n",
        "`np.random.randint(low, high, size)` generates an array of `size` random integers between `low` (inclusive) and `high` (exclusive)"
      ]
    },
    {
      "cell_type": "code",
      "execution_count": null,
      "metadata": {
        "id": "XhRucrdREj4T",
        "outputId": "58dd89c0-6e6a-4e6e-d604-f8cd95e1f75a"
      },
      "outputs": [
        {
          "name": "stdout",
          "output_type": "stream",
          "text": [
            "Random integer sample: [6 8 4]\n"
          ]
        }
      ],
      "source": [
        "# Random integers between 1 (inclusive) and 10 (exclusive)\n",
        "integer_sample = np.random.randint(1, 10, 3)\n",
        "print('Random integer sample:', integer_sample)"
      ]
    },
    {
      "cell_type": "markdown",
      "metadata": {
        "id": "4iyK_cCHEj4T"
      },
      "source": [
        "#### Normal Distribution\n",
        "`np.random.normal(loc, scale, size)` generates an array of `size` random samples drawn from a normal distribution with mean = `loc` and standard deviation = `scale`"
      ]
    },
    {
      "cell_type": "code",
      "execution_count": null,
      "metadata": {
        "id": "OZQlNl16Ej4T",
        "outputId": "e93f3622-d12f-409c-e6c1-6bcb08228c2b"
      },
      "outputs": [
        {
          "name": "stdout",
          "output_type": "stream",
          "text": [
            "Random normal sample: [7.21799224 6.19684762 5.26001419]\n"
          ]
        }
      ],
      "source": [
        "# Random normal with mean 5 and standard deviation 2\n",
        "normal_sample = np.random.normal(loc=5, scale=2, size=3)\n",
        "print('Random normal sample:', normal_sample)"
      ]
    },
    {
      "cell_type": "markdown",
      "metadata": {
        "id": "EGzcwMUdEj4T"
      },
      "source": [
        "#### Binomial Distribution\n",
        "`np.random.binomial(n, p, size)` generates an array of `size` random samples from a binomial distribution with `n` trials and a probability of success `p`"
      ]
    },
    {
      "cell_type": "code",
      "execution_count": null,
      "metadata": {
        "id": "qXGVwDVyEj4T",
        "outputId": "d7c6162d-c888-4b9a-9154-edf4894eb63c"
      },
      "outputs": [
        {
          "name": "stdout",
          "output_type": "stream",
          "text": [
            "Random binomial sample: [2 5 5]\n"
          ]
        }
      ],
      "source": [
        "# Random binomial with 10 trials and probability of success 0.5\n",
        "binomial_sample = np.random.binomial(10, 0.5, 3)\n",
        "print('Random binomial sample:', binomial_sample)"
      ]
    },
    {
      "cell_type": "code",
      "execution_count": null,
      "metadata": {
        "id": "LG5gfMTqEj4T"
      },
      "outputs": [],
      "source": []
    }
  ],
  "metadata": {
    "colab": {
      "collapsed_sections": [
        "4e2QzVgcEdPq",
        "SFSimwR-FtwC",
        "qZ3CRTSjK5S2",
        "AjTVm_8WPFSr",
        "oNQKp0XoaeFG",
        "tIMzHTcErHd7",
        "GyFY-Qk87Vq4",
        "Y0f2vEzg3SvS",
        "dvOlucWfcS7b",
        "DHe9-SVArwA_",
        "hO4pm0SC6OQx",
        "gOLtAzIak-SQ",
        "FLPRZLmFkw5U",
        "hMQ4xKVnjfMf",
        "5hE-vfJnCn3-"
      ],
      "provenance": [],
      "toc_visible": true,
      "include_colab_link": true
    },
    "kernelspec": {
      "display_name": "Python 3 (ipykernel)",
      "language": "python",
      "name": "python3"
    },
    "language_info": {
      "codemirror_mode": {
        "name": "ipython",
        "version": 3
      },
      "file_extension": ".py",
      "mimetype": "text/x-python",
      "name": "python",
      "nbconvert_exporter": "python",
      "pygments_lexer": "ipython3",
      "version": "3.11.8"
    }
  },
  "nbformat": 4,
  "nbformat_minor": 0
}