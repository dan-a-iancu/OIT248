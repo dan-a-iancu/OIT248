{
  "nbformat": 4,
  "nbformat_minor": 0,
  "metadata": {
    "colab": {
      "provenance": [],
      "toc_visible": true,
      "collapsed_sections": [
        "hMQ4xKVnjfMf",
        "fm9cFukfzPq3",
        "96o22Bao-biJ",
        "vhFaZvbvC0DZ",
        "5hE-vfJnCn3-"
      ]
    },
    "kernelspec": {
      "name": "python3",
      "display_name": "Python 3"
    },
    "language_info": {
      "name": "python"
    }
  },
  "cells": [
    {
      "cell_type": "markdown",
      "source": [
        "# What is this about?\n",
        "This document is intended as a Python “cheat-sheet” for all students participating in **OIT248**. You can reference a specific section using the Table of contents on the left. The document is organic and will grow as we keep adding more Python knowledge to our repertoire. If there is a specific thing that you found useful (e.g., a mnemonic rule, an idea, etc.), please consider adding a comment below!\n"
      ],
      "metadata": {
        "id": "caN7N4vBCaT2"
      }
    },
    {
      "cell_type": "markdown",
      "source": [
        "# Session 1\n",
        "Below is a collection of things to remember from Session 1:"
      ],
      "metadata": {
        "id": "dxR97iMJDVJg"
      }
    },
    {
      "cell_type": "markdown",
      "source": [
        "## Comments\n",
        "Comments in Python start with a `#` like directly below"
      ],
      "metadata": {
        "id": "4e2QzVgcEdPq"
      }
    },
    {
      "cell_type": "code",
      "source": [
        "# this and the line below it are comments and Python will ignore them\n",
        "# print(\"Something interesting\")\n",
        "\n",
        "# instead, the line below this will print a welcome message\n",
        "print(\"Welcome to OIT 248!\")"
      ],
      "metadata": {
        "colab": {
          "base_uri": "https://localhost:8080/"
        },
        "id": "dngXKf6QEctO",
        "outputId": "d8b0d6af-ab90-4924-b29b-98bb393d083b"
      },
      "execution_count": null,
      "outputs": [
        {
          "output_type": "stream",
          "name": "stdout",
          "text": [
            "Welcome to OIT 248!\n"
          ]
        }
      ]
    },
    {
      "cell_type": "markdown",
      "source": [
        "## Variables\n",
        "A **variable** in Python is a container for storing data. The variable is created the moment you first assign a value to it."
      ],
      "metadata": {
        "id": "SFSimwR-FtwC"
      }
    },
    {
      "cell_type": "code",
      "execution_count": null,
      "metadata": {
        "id": "GsMo2bXSCMIR"
      },
      "outputs": [],
      "source": [
        "# create a variable named 'x' that stores the value 10\n",
        "x = 10\n",
        "\n",
        "# another variable named 'y' that stores the string \"Mary\"\n",
        "y = \"Mary\""
      ]
    },
    {
      "cell_type": "markdown",
      "source": [
        "Once the variable is created, you can use it in code. For instance, let's calculate $x^2$ <br>"
      ],
      "metadata": {
        "id": "Olam8qV0Ij7J"
      }
    },
    {
      "cell_type": "code",
      "source": [
        "x**2"
      ],
      "metadata": {
        "colab": {
          "base_uri": "https://localhost:8080/"
        },
        "id": "CcfzF8WEIrjB",
        "outputId": "3bb66a83-b85c-4415-efd9-9b6ca99305e6"
      },
      "execution_count": null,
      "outputs": [
        {
          "output_type": "execute_result",
          "data": {
            "text/plain": [
              "100"
            ]
          },
          "metadata": {},
          "execution_count": 3
        }
      ]
    },
    {
      "cell_type": "markdown",
      "source": [
        "Variable names are case-sensitive"
      ],
      "metadata": {
        "id": "UidJXGRrI1gd"
      }
    },
    {
      "cell_type": "code",
      "source": [
        "little_john = 10\n",
        "\n",
        "# the next line would create an error if you uncomment and run it!\n",
        "# Little_john"
      ],
      "metadata": {
        "id": "wXgyHAiIKCvK"
      },
      "execution_count": null,
      "outputs": []
    },
    {
      "cell_type": "markdown",
      "source": [
        "## Data Types (int, float, bool, list, etc.)\n"
      ],
      "metadata": {
        "id": "qZ3CRTSjK5S2"
      }
    },
    {
      "cell_type": "markdown",
      "source": [
        "Each variable stores a certain type of data. You can read more about data types <a href=\"https://www.w3schools.com/python/python_datatypes.asp\">here</a>. The data types that we'll encounter most often in OIT 248 are: integers, floats, strings, booleans, lists, tuples, dictionaries."
      ],
      "metadata": {
        "id": "ZQ0GAOIFGP9g"
      }
    },
    {
      "cell_type": "code",
      "source": [
        "# integers (int)\n",
        "x = 10\n",
        "\n",
        "# floating point numbers (float)\n",
        "z = 4.5\n",
        "\n",
        "# strings (str) - can be created with either ` or \"\"\n",
        "one_string = \"Why does Arbuckle not have salmon today?\"\n",
        "another_string = 'I LOVE THE GSB!'\n",
        "\n",
        "# boolean (bool)\n",
        "is_OIT248_amazing = True\n",
        "\n",
        "# list - can be declared in several ways:\n",
        "my_list = list((\"apples\",\"oranges\",\"bananas\"))   # a list with strings\n",
        "another_list = [1,2,3,4]    # a list with integers\n",
        "\n",
        "# dictionary (dict)\n",
        "tennis_trophies = {}\n",
        "tennis_trophies[\"Federer\"] = 20\n",
        "tennis_trophies[\"Nadal\"] = 22          # at least as of 2023...\n",
        "tennis_trophies[\"Djokovic\"] = 24       # at least as of 2023..."
      ],
      "metadata": {
        "id": "epVGfPhJG7Ck"
      },
      "execution_count": null,
      "outputs": []
    },
    {
      "cell_type": "markdown",
      "source": [
        "If you ever need to (unlikely), you can find out the type of a variable with the command `type(.)`"
      ],
      "metadata": {
        "id": "hMAiPPCEIgg7"
      }
    },
    {
      "cell_type": "code",
      "source": [
        "type(z)"
      ],
      "metadata": {
        "colab": {
          "base_uri": "https://localhost:8080/"
        },
        "id": "Aft5wmIvLL0c",
        "outputId": "c989059c-f74b-4b2f-c337-ca4a6b46de2b"
      },
      "execution_count": null,
      "outputs": [
        {
          "output_type": "execute_result",
          "data": {
            "text/plain": [
              "float"
            ]
          },
          "metadata": {},
          "execution_count": 8
        }
      ]
    },
    {
      "cell_type": "markdown",
      "source": [
        "If needed, you can convert a data type into another type by casting it as below"
      ],
      "metadata": {
        "id": "qIQKMyeHTC7P"
      }
    },
    {
      "cell_type": "code",
      "source": [
        "int(z)"
      ],
      "metadata": {
        "colab": {
          "base_uri": "https://localhost:8080/"
        },
        "id": "JYYljxPySdKv",
        "outputId": "a45d6b49-baa6-4f20-8ced-d8de90f2995e"
      },
      "execution_count": null,
      "outputs": [
        {
          "output_type": "execute_result",
          "data": {
            "text/plain": [
              "4"
            ]
          },
          "metadata": {},
          "execution_count": 9
        }
      ]
    },
    {
      "cell_type": "markdown",
      "source": [
        "We will cover the more complex data types (lists, dictionaries) separately.  <br>"
      ],
      "metadata": {
        "id": "qRvUJ7zrSehw"
      }
    },
    {
      "cell_type": "markdown",
      "source": [
        "## Operators\n",
        "We have already been using several operators above. The most common ones you will see in OIT 248 are:"
      ],
      "metadata": {
        "id": "AjTVm_8WPFSr"
      }
    },
    {
      "cell_type": "markdown",
      "source": [
        "#### Arithmetic (+,-,*, etc.)"
      ],
      "metadata": {
        "id": "3g7mhPSFTXnC"
      }
    },
    {
      "cell_type": "code",
      "source": [
        "print(2 + 2)       # addition\n",
        "print(3 - 2)       # subtraction\n",
        "print(2 * 6)       # multiplication\n",
        "print(66 / 2)      # division\n",
        "print(8 % 3)       # modulus\n",
        "print(2**4)        # exponentiation\n",
        "print(10 // 3)     # floor division"
      ],
      "metadata": {
        "colab": {
          "base_uri": "https://localhost:8080/"
        },
        "id": "g1wgWCnEPN_k",
        "outputId": "645761e0-bac2-4071-824d-ac471bce86d9"
      },
      "execution_count": null,
      "outputs": [
        {
          "output_type": "stream",
          "name": "stdout",
          "text": [
            "4\n",
            "1\n",
            "12\n",
            "33.0\n",
            "2\n",
            "16\n",
            "3\n"
          ]
        }
      ]
    },
    {
      "cell_type": "markdown",
      "source": [
        "#### Assignment (=, +=, -+, etc.)\n"
      ],
      "metadata": {
        "id": "E9kagT2cTaNi"
      }
    },
    {
      "cell_type": "code",
      "source": [
        "x = 5               # simple assignment\n",
        "x += 3              # this is the same as x = x + 3\n",
        "x -= 3              # this is the same as x = x - 3\n",
        "x *= 3              # this is the same as x = x * 3\n",
        "x /= 3              # this is the same as x = x / 3\n",
        "x **= 3             # this is the same as x = x**3"
      ],
      "metadata": {
        "id": "lobmJN3cTeHm"
      },
      "execution_count": null,
      "outputs": []
    },
    {
      "cell_type": "markdown",
      "source": [
        "#### Comparison (==, !=, >=, etc.)"
      ],
      "metadata": {
        "id": "REAspWUQT9nl"
      }
    },
    {
      "cell_type": "code",
      "source": [
        "print(5 == 6)        #  a==b checks if a is equal to b\n",
        "print(5 != 6)        #  a!=b checks if a is different from b\n",
        "print(5 > 5)         #  a > b checks if a is strictly bigger than b\n",
        "print(5 < 9)         #  a < b checks if a is strictly less than b\n",
        "print(5 >= 5)        #  a >= b checks if a is at least as large as b\n",
        "print(5 <= 6)        #  a <= b checks if a is at least as large as b"
      ],
      "metadata": {
        "colab": {
          "base_uri": "https://localhost:8080/"
        },
        "id": "kZIs_d-nUAG5",
        "outputId": "72ee31d0-7b4d-4436-9ea4-29aa33d29a86"
      },
      "execution_count": null,
      "outputs": [
        {
          "output_type": "stream",
          "name": "stdout",
          "text": [
            "False\n",
            "True\n",
            "False\n",
            "True\n",
            "True\n",
            "True\n"
          ]
        }
      ]
    },
    {
      "cell_type": "markdown",
      "source": [
        "### Logical (and, or, not)"
      ],
      "metadata": {
        "id": "TYU2bJtwWFM0"
      }
    },
    {
      "cell_type": "code",
      "source": [
        "print((5 < 6) and (7 < 5))  #  'a and b' returns True is both 'a' and 'b' are true\n",
        "print((5 < 6) or (7 < 5))   #  'a or b' returns True is at least one of 'a','b' is true\n",
        "print(not (5 < 6))          #  'not a' reverses 'a'"
      ],
      "metadata": {
        "colab": {
          "base_uri": "https://localhost:8080/"
        },
        "id": "qbvwmNxSWHJ7",
        "outputId": "7033a6d8-119f-4876-c40d-bf5bad2a12a3"
      },
      "execution_count": null,
      "outputs": [
        {
          "output_type": "stream",
          "name": "stdout",
          "text": [
            "False\n",
            "True\n",
            "False\n"
          ]
        }
      ]
    },
    {
      "cell_type": "markdown",
      "source": [
        "### Membership"
      ],
      "metadata": {
        "id": "E2qtjD3UXT9t"
      }
    },
    {
      "cell_type": "code",
      "source": [
        "print(5 in [3,4,5])        #  'a in b' returns True if 'a' is contained in 'b'\n",
        "print(5 not in [3,4,5])    #  'a not in b' returns True if 'a' is not contained in 'b'"
      ],
      "metadata": {
        "colab": {
          "base_uri": "https://localhost:8080/"
        },
        "id": "OKrhUjdfXTIa",
        "outputId": "65b42f90-270b-4b3f-e124-8926c2554639"
      },
      "execution_count": null,
      "outputs": [
        {
          "output_type": "stream",
          "name": "stdout",
          "text": [
            "True\n",
            "False\n"
          ]
        }
      ]
    },
    {
      "cell_type": "markdown",
      "source": [
        "## Ranges\n",
        "The `range` function in Python returns a sequence of numbers. It syntax is:\n",
        ">  `range(start,stop,step)`\n",
        "\n",
        "- `start` is optional and is an integer that specifies at which position to start. If you omit this, the default value is 0.\n",
        "- `stop` is required and is an integer that specifies at which position to end.  This value will not be included, so the range will actually end with the value `stop-1`.\n",
        "- `step` is optional and specifies the increment. If you omit it, the default is 1.\n",
        "\n",
        "This function will be quite useful, so it would be good to familiarize yourself with the examples below."
      ],
      "metadata": {
        "id": "oNQKp0XoaeFG"
      }
    },
    {
      "cell_type": "markdown",
      "source": [
        "Create a range with a single argument."
      ],
      "metadata": {
        "id": "URwa6nI4skiv"
      }
    },
    {
      "cell_type": "code",
      "source": [
        "range(5)"
      ],
      "metadata": {
        "id": "rbIko_OgYcJd",
        "colab": {
          "base_uri": "https://localhost:8080/"
        },
        "outputId": "4cd88de4-06db-49a1-9d67-9c441ae95b5e"
      },
      "execution_count": null,
      "outputs": [
        {
          "output_type": "execute_result",
          "data": {
            "text/plain": [
              "range(0, 5)"
            ]
          },
          "metadata": {},
          "execution_count": 15
        }
      ]
    },
    {
      "cell_type": "markdown",
      "source": [
        "By itself, this is not terribly useful. But we can loop through it using a `for` statement (if you're unfamiliar with `for` loops, check the later section)"
      ],
      "metadata": {
        "id": "SuQ_t2PusvUv"
      }
    },
    {
      "cell_type": "code",
      "source": [
        "for i in range(5):\n",
        "    print(i)"
      ],
      "metadata": {
        "colab": {
          "base_uri": "https://localhost:8080/"
        },
        "id": "o0-lAa-HsuZD",
        "outputId": "17b080ab-1871-4031-ba67-7ee47b49f665"
      },
      "execution_count": null,
      "outputs": [
        {
          "output_type": "stream",
          "name": "stdout",
          "text": [
            "0\n",
            "1\n",
            "2\n",
            "3\n",
            "4\n"
          ]
        }
      ]
    },
    {
      "cell_type": "markdown",
      "source": [
        "Now to play with the other versions of `range`"
      ],
      "metadata": {
        "id": "kVMz6XGStNCt"
      }
    },
    {
      "cell_type": "code",
      "source": [
        "print(\"Here are all the integers from 5 to 10, INCLUDING 10\")\n",
        "for i in range(5,11):\n",
        "     print(i)\n",
        "\n",
        "print(\"\\nAnd here are all the even numbers less than 10\")\n",
        "for i in range(0,10,2):\n",
        "     print(i)"
      ],
      "metadata": {
        "colab": {
          "base_uri": "https://localhost:8080/"
        },
        "id": "afbHALrctQ_6",
        "outputId": "b37cf919-3aea-43ba-cf38-23bab4b4c431"
      },
      "execution_count": null,
      "outputs": [
        {
          "output_type": "stream",
          "name": "stdout",
          "text": [
            "Here are all the integers from 5 to 10, INCLUDING 10\n",
            "5\n",
            "6\n",
            "7\n",
            "8\n",
            "9\n",
            "10\n",
            "\n",
            "And here are all the even numbers less than 10\n",
            "0\n",
            "2\n",
            "4\n",
            "6\n",
            "8\n"
          ]
        }
      ]
    },
    {
      "cell_type": "markdown",
      "source": [
        "## For Loops\n",
        "A `for` loop is used to iterate over a sequence (that could be a range, a list, a dictionary, etc.). Syntax:\n",
        "> for `variable` in `sequence`:<br>\n",
        "> $ \\qquad$ instructions line 1<br>\n",
        "> $ \\qquad$ instructions line 2"
      ],
      "metadata": {
        "id": "tIMzHTcErHd7"
      }
    },
    {
      "cell_type": "code",
      "source": [
        "# use a for loop to iterate through a numeric range\n",
        "for i in range(5):\n",
        "    print(i)"
      ],
      "metadata": {
        "colab": {
          "base_uri": "https://localhost:8080/"
        },
        "id": "FB3iWNr2rHd8",
        "outputId": "bd4749d3-dd46-4df8-916e-2c67f214484c"
      },
      "execution_count": null,
      "outputs": [
        {
          "output_type": "stream",
          "name": "stdout",
          "text": [
            "0\n",
            "1\n",
            "2\n",
            "3\n",
            "4\n"
          ]
        }
      ]
    },
    {
      "cell_type": "markdown",
      "source": [
        "<font color=red>**Two elements are worth emphasizing in the syntax above:**</red>\n",
        "- the colon `:` is critical on the first line\n",
        "- the intendation is also critical, and must come on the second line (you can use as many spaces as you like!)\n",
        "\n",
        "For instance, the following code would generate errors if you uncomment and run it!"
      ],
      "metadata": {
        "id": "iH3LMEgO8e1x"
      }
    },
    {
      "cell_type": "code",
      "source": [
        "# # forgetting the colon :\n",
        "#for i in range(5)\n",
        "#    print(i)"
      ],
      "metadata": {
        "id": "25sKvJto8xHJ"
      },
      "execution_count": null,
      "outputs": []
    },
    {
      "cell_type": "code",
      "source": [
        "# # forgetting the indentation :\n",
        "#for i in range(5):\n",
        "#print(i)"
      ],
      "metadata": {
        "id": "t4W6zCcG82LN"
      },
      "execution_count": null,
      "outputs": []
    },
    {
      "cell_type": "code",
      "source": [
        "# you can, however, put everything on one line! (this looks ugly and is NOT advised!)\n",
        "for i in range(5): print(i)"
      ],
      "metadata": {
        "id": "OZJnMJe79R0K",
        "colab": {
          "base_uri": "https://localhost:8080/"
        },
        "outputId": "697f482b-dc7f-473a-bb11-03bf809ffd5d"
      },
      "execution_count": null,
      "outputs": [
        {
          "output_type": "stream",
          "name": "stdout",
          "text": [
            "0\n",
            "1\n",
            "2\n",
            "3\n",
            "4\n"
          ]
        }
      ]
    },
    {
      "cell_type": "markdown",
      "source": [
        "Nested for loops are quite straightforward:"
      ],
      "metadata": {
        "id": "BY4ZcTkW9jmB"
      }
    },
    {
      "cell_type": "code",
      "source": [
        "for i in range(1,3,1):\n",
        "    for j in range(99,102,1):\n",
        "        print(i,j)"
      ],
      "metadata": {
        "colab": {
          "base_uri": "https://localhost:8080/"
        },
        "id": "sfZMdgbP9m-k",
        "outputId": "02dde37b-283a-4f00-d91e-881a905eb15e"
      },
      "execution_count": null,
      "outputs": [
        {
          "output_type": "stream",
          "name": "stdout",
          "text": [
            "1 99\n",
            "1 100\n",
            "1 101\n",
            "2 99\n",
            "2 100\n",
            "2 101\n"
          ]
        }
      ]
    },
    {
      "cell_type": "markdown",
      "source": [
        "## If-Else Statements\n",
        "An \"if statement\" allows implementing a logical condition. Syntax:\n",
        "> if `logical_condition_1`:<br>\n",
        "> $ \\qquad$ instructions if logical_condition_1 is True<br>\n",
        "> elif `logical_condition_2`:<br>\n",
        "> $ \\qquad$ instructions if logical_condition_1 is False and logical_condition_2 is True <br>\n",
        "> ...<br>\n",
        "> else:<br>\n",
        "> $ \\qquad$ instructions if all logical conditions above are False"
      ],
      "metadata": {
        "id": "GyFY-Qk87Vq4"
      }
    },
    {
      "cell_type": "code",
      "source": [
        "a = 15\n",
        "b = 17\n",
        "if (a > b):\n",
        "    print(\"a is bigger than b\")\n",
        "elif (a == b):\n",
        "    print(\"a is equal to b\")\n",
        "else:\n",
        "    print(\"a is smaller than b\")"
      ],
      "metadata": {
        "colab": {
          "base_uri": "https://localhost:8080/"
        },
        "outputId": "c0079428-8452-4057-a208-00fcd252314e",
        "id": "XKgLbe1r7Vq5"
      },
      "execution_count": null,
      "outputs": [
        {
          "output_type": "stream",
          "name": "stdout",
          "text": [
            "a is smaller than b\n"
          ]
        }
      ]
    },
    {
      "cell_type": "markdown",
      "source": [
        "<font color=red>**As with \"for\" loops, the colon ':` and the indentation are critical.**</font><br>\n",
        "The following code would lead to errors if uncommented:"
      ],
      "metadata": {
        "id": "IJHqBu-H8PYB"
      }
    },
    {
      "cell_type": "code",
      "source": [
        "# # forgetting the colon - this would create an error if uncommented!\n",
        "#if (a > b)\n",
        "#   print(\"a\")"
      ],
      "metadata": {
        "id": "j_IOOPiN-OGu"
      },
      "execution_count": null,
      "outputs": []
    },
    {
      "cell_type": "code",
      "source": [
        "# # forgetting the indentation\n",
        "#if (a>b) :\n",
        "#print(\"a\")"
      ],
      "metadata": {
        "id": "XQ21xoir-acC"
      },
      "execution_count": null,
      "outputs": []
    },
    {
      "cell_type": "code",
      "source": [
        "# the parenthesis around the logical condition is not critical but it's highly recommended\n",
        "if a > b :\n",
        "    print(\"a\")\n",
        "else:\n",
        "    print(\"b\")"
      ],
      "metadata": {
        "id": "iiBSNB5B-gxX",
        "colab": {
          "base_uri": "https://localhost:8080/"
        },
        "outputId": "231e7677-5e9c-464b-ca5b-53614634565d"
      },
      "execution_count": null,
      "outputs": [
        {
          "output_type": "stream",
          "name": "stdout",
          "text": [
            "b\n"
          ]
        }
      ]
    },
    {
      "cell_type": "markdown",
      "source": [
        "## Lists\n",
        "Lists are used to store multiple items in a single variable. Lists can be created using square brackets `[.]`."
      ],
      "metadata": {
        "id": "Y0f2vEzg3SvS"
      }
    },
    {
      "cell_type": "markdown",
      "source": [
        "### Basics\n"
      ],
      "metadata": {
        "id": "S4hRkG2uOVVb"
      }
    },
    {
      "cell_type": "markdown",
      "source": [
        "Let's create some simple lists.\n"
      ],
      "metadata": {
        "id": "Iq10CrmFBoxh"
      }
    },
    {
      "cell_type": "code",
      "source": [
        "# a list with integers, created with the brackets [ ]\n",
        "my_list = [1,2,3,4]"
      ],
      "metadata": {
        "id": "T-UbUjpWNv-u"
      },
      "execution_count": null,
      "outputs": []
    },
    {
      "cell_type": "markdown",
      "source": [
        "The data types contained in a list do not have to be the same and you can repeat the values several times"
      ],
      "metadata": {
        "id": "cbpSdYMAYdiR"
      }
    },
    {
      "cell_type": "code",
      "source": [
        "# crazy list containing a string, a float, another list (!), and several 5s\n",
        "crazy_list = [\"a string\", 4.75, [1,2,3,4], 5, 5, 5]\n",
        "print(crazy_list)"
      ],
      "metadata": {
        "colab": {
          "base_uri": "https://localhost:8080/"
        },
        "id": "Hi-2OhHoYnry",
        "outputId": "f5975459-5d18-46a1-da05-e13291a549f1"
      },
      "execution_count": null,
      "outputs": [
        {
          "output_type": "stream",
          "name": "stdout",
          "text": [
            "['a string', 4.75, [1, 2, 3, 4], 5, 5, 5]\n"
          ]
        }
      ]
    },
    {
      "cell_type": "markdown",
      "source": [
        "The items in a list are ordered. You can access the first item using the index `[0]`, the second item using the index `[1]`, etc."
      ],
      "metadata": {
        "id": "QDaCucC4Yyaq"
      }
    },
    {
      "cell_type": "code",
      "source": [
        "crazy_list[0]"
      ],
      "metadata": {
        "colab": {
          "base_uri": "https://localhost:8080/",
          "height": 35
        },
        "id": "QGNSCW6wYxut",
        "outputId": "0ff2fa0f-3d80-44fb-aa35-29910aac7f48"
      },
      "execution_count": null,
      "outputs": [
        {
          "output_type": "execute_result",
          "data": {
            "text/plain": [
              "'a string'"
            ],
            "application/vnd.google.colaboratory.intrinsic+json": {
              "type": "string"
            }
          },
          "metadata": {},
          "execution_count": 38
        }
      ]
    },
    {
      "cell_type": "markdown",
      "source": [
        "You can also access several items in the list using a **range** of indices specified with `:`"
      ],
      "metadata": {
        "id": "r7bpLcCyZlAw"
      }
    },
    {
      "cell_type": "code",
      "source": [
        "#  using i:j returns the elements at index i,i+1,...,j-1  (j is NOT included!)\n",
        "crazy_list[1:3]"
      ],
      "metadata": {
        "colab": {
          "base_uri": "https://localhost:8080/"
        },
        "id": "Gi_GiUrwZkZ0",
        "outputId": "ff432600-0492-4a67-86e1-5cb45def5202"
      },
      "execution_count": null,
      "outputs": [
        {
          "output_type": "execute_result",
          "data": {
            "text/plain": [
              "[4.75, [1, 2, 3, 4]]"
            ]
          },
          "metadata": {},
          "execution_count": 39
        }
      ]
    },
    {
      "cell_type": "markdown",
      "source": [
        "You can change the value at a certain location in a list using the correct index"
      ],
      "metadata": {
        "id": "37osu_-Iap3I"
      }
    },
    {
      "cell_type": "code",
      "source": [
        "crazy_list[2] = \"take out the list from the list\"\n",
        "print(crazy_list)"
      ],
      "metadata": {
        "colab": {
          "base_uri": "https://localhost:8080/"
        },
        "id": "3k89YtvZauSY",
        "outputId": "c4d5cada-c912-4572-fbe5-9980d7f2ccc0"
      },
      "execution_count": null,
      "outputs": [
        {
          "output_type": "stream",
          "name": "stdout",
          "text": [
            "['a string', 4.75, 'take out the list from the list', 5, 5, 5]\n"
          ]
        }
      ]
    },
    {
      "cell_type": "markdown",
      "source": [
        "You can even change several items using the range again"
      ],
      "metadata": {
        "id": "wwi8L2rxa8tf"
      }
    },
    {
      "cell_type": "code",
      "source": [
        "# note that the right-hand-side in this assignment is a list - elements will be matched location-wise\n",
        "crazy_list[0:2] = ['Barcelona','Madrid']\n",
        "print(crazy_list)"
      ],
      "metadata": {
        "colab": {
          "base_uri": "https://localhost:8080/"
        },
        "id": "wHYmCGaUbBHe",
        "outputId": "9cfbd8ee-be94-45ce-e898-df7d9f487aaf"
      },
      "execution_count": null,
      "outputs": [
        {
          "output_type": "stream",
          "name": "stdout",
          "text": [
            "['Barcelona', 'Madrid', 'take out the list from the list', 5, 5, 5]\n"
          ]
        }
      ]
    },
    {
      "cell_type": "markdown",
      "source": [
        "If your range has fewer indices than the items you want to change, this will expand the list"
      ],
      "metadata": {
        "id": "rDQMbBdzczlA"
      }
    },
    {
      "cell_type": "code",
      "source": [
        "crazy_list[0:2] = [1,2,3]\n",
        "print(crazy_list)"
      ],
      "metadata": {
        "colab": {
          "base_uri": "https://localhost:8080/"
        },
        "id": "Ti3QZmELc5Ws",
        "outputId": "4c5d28a5-4f5c-4812-ed30-20928b42fe14"
      },
      "execution_count": null,
      "outputs": [
        {
          "output_type": "stream",
          "name": "stdout",
          "text": [
            "[1, 2, 3, 'take out the list from the list', 5, 5, 5]\n"
          ]
        }
      ]
    },
    {
      "cell_type": "markdown",
      "source": [
        "Conversely, if the range has more indices that the items you are inserting, this will shrink the list"
      ],
      "metadata": {
        "id": "OOKOAWDRe7Br"
      }
    },
    {
      "cell_type": "code",
      "source": [
        "crazy_list[0:5] = [\"Hey\", 3.3333]\n",
        "print(crazy_list)"
      ],
      "metadata": {
        "colab": {
          "base_uri": "https://localhost:8080/"
        },
        "id": "C40U_38ZgMy2",
        "outputId": "0be362d9-a275-48b2-9274-3a3eeb86061d"
      },
      "execution_count": null,
      "outputs": [
        {
          "output_type": "stream",
          "name": "stdout",
          "text": [
            "['Hey', 3.3333, 5, 5]\n"
          ]
        }
      ]
    },
    {
      "cell_type": "markdown",
      "source": [
        "You can concatenate two lists using the `+` operator (this is also an easy way to add more elements at the end of a given list)"
      ],
      "metadata": {
        "id": "D3kDZqDHiYUV"
      }
    },
    {
      "cell_type": "code",
      "source": [
        "crazy_list_with_plus = crazy_list + [\"mango\", \"kiwi\"]\n",
        "print(crazy_list_with_plus)"
      ],
      "metadata": {
        "colab": {
          "base_uri": "https://localhost:8080/"
        },
        "id": "tj0oJYAjeboO",
        "outputId": "f16d91cb-4226-4aca-fbe6-42edfc1215c7"
      },
      "execution_count": null,
      "outputs": [
        {
          "output_type": "stream",
          "name": "stdout",
          "text": [
            "['Hey', 3.3333, 5, 5, 'mango', 'kiwi']\n"
          ]
        }
      ]
    },
    {
      "cell_type": "markdown",
      "source": [
        "You can also duplicate a list many times using the `*` operator"
      ],
      "metadata": {
        "id": "ZM6RLT2IeXFo"
      }
    },
    {
      "cell_type": "code",
      "source": [
        "# create a list with the string \"We love Dan!\" repeated 5 times\n",
        "my_list = [\"We love Dan!\"] * 5\n",
        "\n",
        "print(my_list)"
      ],
      "metadata": {
        "colab": {
          "base_uri": "https://localhost:8080/"
        },
        "id": "3q5ZdGgtedjh",
        "outputId": "9da635c3-7161-45d4-8eda-491444635276"
      },
      "execution_count": null,
      "outputs": [
        {
          "output_type": "stream",
          "name": "stdout",
          "text": [
            "['We love Dan!', 'We love Dan!', 'We love Dan!', 'We love Dan!', 'We love Dan!']\n"
          ]
        }
      ]
    },
    {
      "cell_type": "markdown",
      "source": [
        "**You should be careful with the _assignment_ operator `=` for a list!**<br>\n",
        "The assignment operator will **NOT** create a copy of a list; rather, it will create a new/alternative name for the list"
      ],
      "metadata": {
        "id": "6WIS2Dmwiuje"
      }
    },
    {
      "cell_type": "code",
      "source": [
        "# are we creating a copy of `crazy_list` stored in the new variable `a_new_list`?\n",
        "new_list = crazy_list\n",
        "\n",
        "# print both lists\n",
        "print(\"Here are the two lists\")\n",
        "print(crazy_list)\n",
        "print(new_list)\n",
        "\n",
        "# let's change the first element in this \"new\" list\n",
        "new_list[0] = \"I am changing the start\"\n",
        "\n",
        "# print both lists\n",
        "print(\"Here are the two lists after changing\")\n",
        "print(crazy_list)\n",
        "print(new_list)\n",
        "# Note how BOTH lists are changing (because the new list just points to the old one)"
      ],
      "metadata": {
        "colab": {
          "base_uri": "https://localhost:8080/"
        },
        "id": "L_JUkcrHitxs",
        "outputId": "c9c4820f-40e4-4aef-bbe6-04589d1a5e2c"
      },
      "execution_count": null,
      "outputs": [
        {
          "output_type": "stream",
          "name": "stdout",
          "text": [
            "Here are the two lists\n",
            "['Hey', 3.3333, 5, 5]\n",
            "['Hey', 3.3333, 5, 5]\n",
            "Here are the two lists after changing\n",
            "['I am changing the start', 3.3333, 5, 5]\n",
            "['I am changing the start', 3.3333, 5, 5]\n"
          ]
        }
      ]
    },
    {
      "cell_type": "markdown",
      "source": [
        "If you want to create a genuine **copy** of a list, you can use the `copy` method. Details under the list methods section."
      ],
      "metadata": {
        "id": "CEZuRoxvjyBh"
      }
    },
    {
      "cell_type": "markdown",
      "source": [
        "### The length, min, max of a list\n",
        "To calculate the length of a list or the minimum or maximum values in the list, use the `len(.)`, `min(.)` and `max(.)` functions."
      ],
      "metadata": {
        "id": "bTT1TQvuuT97"
      }
    },
    {
      "cell_type": "code",
      "source": [
        "# create a list of numbers\n",
        "list_of_numbers = [3, 6, 9, 1, -5, 34, 23, 99]\n",
        "\n",
        "# print the length\n",
        "print(len(list_of_numbers))\n",
        "\n",
        "# print the smallest value\n",
        "print(min(list_of_numbers))\n",
        "\n",
        "# print the largest value\n",
        "print(max(list_of_numbers))"
      ],
      "metadata": {
        "colab": {
          "base_uri": "https://localhost:8080/"
        },
        "id": "owgRtmb_gvun",
        "outputId": "03b54c87-9c78-4258-93ef-a13b4888088e"
      },
      "execution_count": null,
      "outputs": [
        {
          "output_type": "stream",
          "name": "stdout",
          "text": [
            "8\n",
            "-5\n",
            "99\n"
          ]
        }
      ]
    },
    {
      "cell_type": "markdown",
      "source": [
        "### Fancy methods for a list\n",
        "The list data structure already has a couple of pre-defined useful `methods` that allow you to conduct specific manipulations."
      ],
      "metadata": {
        "id": "eiNAtEd7kND7"
      }
    },
    {
      "cell_type": "markdown",
      "source": [
        "The full list of list (sic!) methods is:\n",
        "- `append()`\tAdds an element at the end of the list\n",
        "- `clear()`\tRemoves all the elements from the list\n",
        "- `copy()`\tReturns a copy of the list\n",
        "- `count()`\tReturns the number of elements with the specified value\n",
        "- `extend()`\tAdd the elements of a list (or any iterable), to the end of the current list\n",
        "- `index()`\tReturns the index of the first element with the specified value\n",
        "- `insert()`\tAdds an element at the specified position\n",
        "- `pop()`\tRemoves the element at the specified position\n",
        "- `remove()`\tRemoves the item with the specified value\n",
        "- `reverse()`\tReverses the order of the list\n",
        "- `sort()`\tSorts the list\n",
        "\n",
        "For our purposes, the most useful methods are `index` and `copy`, which we exemplify below.\n"
      ],
      "metadata": {
        "id": "2mzrDgPxulej"
      }
    },
    {
      "cell_type": "markdown",
      "source": [
        "Index allows you to retrieve the location of a specific element. It returns the first location or `ValueError` if the element is not found."
      ],
      "metadata": {
        "id": "XE546gYJ4ro6"
      }
    },
    {
      "cell_type": "code",
      "source": [
        "# create another list to play with\n",
        "crazy_list = [\"apples\", \"oranges\", \"bananas\", \"OIT248\" ]\n",
        "\n",
        "# figure out the index where the element 'apples' appears\n",
        "index_for_apples = crazy_list.index(\"apples\")\n",
        "print(f\"The index where the string `apples` appears: {index_for_apples}\")\n",
        "\n",
        "# now try to find some element that doesn't exist -- note the error!\n",
        "index_for_smth_new = crazy_list.index(\"The Wire Show\")\n",
        "print(index_for_smth_new)"
      ],
      "metadata": {
        "colab": {
          "base_uri": "https://localhost:8080/",
          "height": 245
        },
        "id": "LwAvdbPk41t9",
        "outputId": "b7895848-737b-4c65-8968-cd2358a04b28"
      },
      "execution_count": null,
      "outputs": [
        {
          "output_type": "stream",
          "name": "stdout",
          "text": [
            "The index where the string `apples` appears: 0\n"
          ]
        },
        {
          "output_type": "error",
          "ename": "ValueError",
          "evalue": "ignored",
          "traceback": [
            "\u001b[0;31m---------------------------------------------------------------------------\u001b[0m",
            "\u001b[0;31mValueError\u001b[0m                                Traceback (most recent call last)",
            "\u001b[0;32m<ipython-input-48-6d1c13b9fae9>\u001b[0m in \u001b[0;36m<cell line: 9>\u001b[0;34m()\u001b[0m\n\u001b[1;32m      7\u001b[0m \u001b[0;34m\u001b[0m\u001b[0m\n\u001b[1;32m      8\u001b[0m \u001b[0;31m# now try to find some element that doesn't exist -- note the error!\u001b[0m\u001b[0;34m\u001b[0m\u001b[0;34m\u001b[0m\u001b[0m\n\u001b[0;32m----> 9\u001b[0;31m \u001b[0mindex_for_smth_new\u001b[0m \u001b[0;34m=\u001b[0m \u001b[0mcrazy_list\u001b[0m\u001b[0;34m.\u001b[0m\u001b[0mindex\u001b[0m\u001b[0;34m(\u001b[0m\u001b[0;34m\"The Wire Show\"\u001b[0m\u001b[0;34m)\u001b[0m\u001b[0;34m\u001b[0m\u001b[0;34m\u001b[0m\u001b[0m\n\u001b[0m\u001b[1;32m     10\u001b[0m \u001b[0mprint\u001b[0m\u001b[0;34m(\u001b[0m\u001b[0mindex_for_smth_new\u001b[0m\u001b[0;34m)\u001b[0m\u001b[0;34m\u001b[0m\u001b[0;34m\u001b[0m\u001b[0m\n",
            "\u001b[0;31mValueError\u001b[0m: 'The Wire Show' is not in list"
          ]
        }
      ]
    },
    {
      "cell_type": "markdown",
      "source": [
        "The `copy` method does what the name suggests..."
      ],
      "metadata": {
        "id": "1wV5JbF85zXI"
      }
    },
    {
      "cell_type": "code",
      "source": [
        "# let's create an actual copy of `crazy_list` stored in a new variable `new_list`\n",
        "new_list = crazy_list.copy()\n",
        "\n",
        "# print both lists\n",
        "print(\"Here are the two lists\")\n",
        "print(crazy_list)\n",
        "print(new_list)\n",
        "\n",
        "# To see that this is a copy, let's change the first element in the \"new\" list and print both\n",
        "new_list[0] = \"Michael Jackson\"\n",
        "\n",
        "print(\"Here are the lists after changing\")\n",
        "print(crazy_list)\n",
        "print(new_list)"
      ],
      "metadata": {
        "colab": {
          "base_uri": "https://localhost:8080/"
        },
        "id": "UDm1Y50DkNEN",
        "outputId": "5b02738a-f7ea-40f8-b61b-93986e08676b"
      },
      "execution_count": null,
      "outputs": [
        {
          "output_type": "stream",
          "name": "stdout",
          "text": [
            "Here are the two lists\n",
            "['apples', 'oranges', 'bananas', 'OIT248']\n",
            "['apples', 'oranges', 'bananas', 'OIT248']\n",
            "Here are the lists after changing\n",
            "['apples', 'oranges', 'bananas', 'OIT248']\n",
            "['Michael Jackson', 'oranges', 'bananas', 'OIT248']\n"
          ]
        }
      ]
    },
    {
      "cell_type": "markdown",
      "source": [
        "We likely won't use a lot of these methods in OIT 248, but they are useful to know about. For a detailed coverage, you can check <a href=\"https://www.w3schools.com/python/python_lists_methods.asp\">this link</a>."
      ],
      "metadata": {
        "id": "mWu1F0dHvQ-0"
      }
    },
    {
      "cell_type": "markdown",
      "source": [
        "### Looping through lists\n",
        "There are several ways to loop through lists"
      ],
      "metadata": {
        "id": "0jMi85dmoQoc"
      }
    },
    {
      "cell_type": "markdown",
      "source": [
        "**Option 1.**<br>\n",
        "If you just care about the elements in the list **but not** their indices/locations, the most elegant way is to use a `for` loop through the elements themselves"
      ],
      "metadata": {
        "id": "DWIrojd7pVKa"
      }
    },
    {
      "cell_type": "code",
      "source": [
        "# loop through the elements in `crazy_list` and store them in 'v'\n",
        "for v in crazy_list:\n",
        "    # 'v` now stores an element from the list; let's print 'v'\n",
        "    print(v)"
      ],
      "metadata": {
        "colab": {
          "base_uri": "https://localhost:8080/"
        },
        "outputId": "ea988f28-6038-4432-c5dc-d01269ae52f5",
        "id": "mU-I0CsdoQot"
      },
      "execution_count": null,
      "outputs": [
        {
          "output_type": "stream",
          "name": "stdout",
          "text": [
            "apples\n",
            "oranges\n",
            "bananas\n",
            "OIT248\n"
          ]
        }
      ]
    },
    {
      "cell_type": "markdown",
      "source": [
        "**Option 2.**<br>\n",
        "An alternative, also useful when you just care about the elements, is to use a \"list comprehension\"."
      ],
      "metadata": {
        "id": "UkNuMDP2xiOO"
      }
    },
    {
      "cell_type": "code",
      "source": [
        "[print(v) for v in crazy_list];"
      ],
      "metadata": {
        "colab": {
          "base_uri": "https://localhost:8080/"
        },
        "outputId": "c970c74f-6583-4942-a94c-f827a2e68944",
        "id": "5Pp-OVgBxiOk"
      },
      "execution_count": null,
      "outputs": [
        {
          "output_type": "stream",
          "name": "stdout",
          "text": [
            "apples\n",
            "oranges\n",
            "bananas\n",
            "OIT248\n"
          ]
        }
      ]
    },
    {
      "cell_type": "markdown",
      "source": [
        "This is a very compact syntax, but it might confuse you a bit at first so don't worry if you don't fully get it on the first try!..."
      ],
      "metadata": {
        "id": "zXkChIuPzCtP"
      }
    },
    {
      "cell_type": "markdown",
      "source": [
        "**Option 3.**<br>\n",
        "If you need the elements in the list **as well as** their indices, you can write classic\" for loop. Specifically, for a list, we actually know what the indices are: they are 0, 1, 2, ..., number of elements-1. So we can get these using the `range(.)` and `len(.)` functions:"
      ],
      "metadata": {
        "id": "r6jsyqZpp_U0"
      }
    },
    {
      "cell_type": "code",
      "source": [
        "# calculate the number of elements in the list\n",
        "num_elements_in_list = len(crazy_list)\n",
        "\n",
        "# produce the range 0 .. num_elements_in_list - 1\n",
        "indices = range(num_elements_in_list)\n",
        "\n",
        "# and now let's loop through the elements, printing them as well as their index\n",
        "for i in indices:\n",
        "    print(\"At location\", i, \"we can find:\", crazy_list[i])"
      ],
      "metadata": {
        "colab": {
          "base_uri": "https://localhost:8080/"
        },
        "outputId": "b34a8754-bbc9-45e6-c4f0-a5d6d5da804c",
        "id": "PFu_zvMxp_U1"
      },
      "execution_count": null,
      "outputs": [
        {
          "output_type": "stream",
          "name": "stdout",
          "text": [
            "At location 0 we can find: apples\n",
            "At location 1 we can find: oranges\n",
            "At location 2 we can find: bananas\n",
            "At location 3 we can find: OIT248\n"
          ]
        }
      ]
    },
    {
      "cell_type": "markdown",
      "source": [
        "Normally, you would not define all of those variables above and instead use this compact form:"
      ],
      "metadata": {
        "id": "JnjAUZXhxNFp"
      }
    },
    {
      "cell_type": "code",
      "source": [
        "# let's loop through the elements, printing them as well as their index\n",
        "for i in range(len(crazy_list)):\n",
        "    print(\"At location\", i, \"we can find:\", crazy_list[i])"
      ],
      "metadata": {
        "id": "VYpxEUOWxUrF",
        "colab": {
          "base_uri": "https://localhost:8080/"
        },
        "outputId": "c1448d16-7174-4066-c315-a6aec9515b56"
      },
      "execution_count": null,
      "outputs": [
        {
          "output_type": "stream",
          "name": "stdout",
          "text": [
            "At location 0 we can find: apples\n",
            "At location 1 we can find: oranges\n",
            "At location 2 we can find: bananas\n",
            "At location 3 we can find: OIT248\n"
          ]
        }
      ]
    },
    {
      "cell_type": "markdown",
      "source": [
        "### List comprehensions\n",
        "List comprehensions offer a very simple way to create a new list based on some existing lists. The syntax is:\n",
        "\n",
        "> `newlist = [`_expression_ `for` _item_ `in` _iterable_ `if` _condition_ `== True]`\n",
        "\n",
        "_iterable_ can be another list or a range (more broadly, any iterable type). The return value is a new list, leaving the old list unchanged."
      ],
      "metadata": {
        "id": "ZIS9QCArFFeh"
      }
    },
    {
      "cell_type": "code",
      "source": [
        "# let's create a list with some fruits\n",
        "fruits = [\"apple\", \"banana\", \"cherry\", \"kiwi\", \"mango\"]\n",
        "\n",
        "# now suppose we want to create a list with all the fruit names *except apple*\n",
        "fruits_no_apple = [v for v in fruits if v!= \"apple\"]\n",
        "print(fruits_no_apple)"
      ],
      "metadata": {
        "colab": {
          "base_uri": "https://localhost:8080/"
        },
        "outputId": "9222e7f6-105e-48a6-abf0-02f7d8c491f5",
        "id": "NBrsiK7eFFei"
      },
      "execution_count": null,
      "outputs": [
        {
          "output_type": "stream",
          "name": "stdout",
          "text": [
            "['banana', 'cherry', 'kiwi', 'mango']\n"
          ]
        }
      ]
    },
    {
      "cell_type": "markdown",
      "source": [
        "If you want to embed an `if-else` condition, you need to switch the order of the `if` and the `for` loop, as follows:"
      ],
      "metadata": {
        "id": "LJzFVd4pGoyt"
      }
    },
    {
      "cell_type": "code",
      "source": [
        "# a copy of the original list where every occurrence of *apple* is replaced with *walnut*\n",
        "fruits_apple_walnut = [v if v!= \"apple\" else \"walnut\" for v in fruits]\n",
        "print(fruits_apple_walnut)"
      ],
      "metadata": {
        "colab": {
          "base_uri": "https://localhost:8080/"
        },
        "id": "7rKsDfgBHD8F",
        "outputId": "b573e673-5231-4a58-cdbf-def484bd2469"
      },
      "execution_count": null,
      "outputs": [
        {
          "output_type": "stream",
          "name": "stdout",
          "text": [
            "['walnut', 'banana', 'cherry', 'kiwi', 'mango']\n"
          ]
        }
      ]
    },
    {
      "cell_type": "markdown",
      "source": [
        "## Tuples\n",
        "Tuples allow storing several items in a single variable. They are defined using round brackets `(.)`."
      ],
      "metadata": {
        "id": "dvOlucWfcS7b"
      }
    },
    {
      "cell_type": "code",
      "source": [
        "# define a tuple with a string, a float, and a list\n",
        "my_tuple = (\"apples\", 3.14, [1, 2, 3])\n",
        "\n",
        "print(my_tuple)"
      ],
      "metadata": {
        "id": "SCi2rsqrcS7x",
        "colab": {
          "base_uri": "https://localhost:8080/"
        },
        "outputId": "fd2c02d5-04aa-401c-dbe2-de1754de6ef1"
      },
      "execution_count": null,
      "outputs": [
        {
          "output_type": "stream",
          "name": "stdout",
          "text": [
            "('apples', 3.14, [1, 2, 3])\n"
          ]
        }
      ]
    },
    {
      "cell_type": "markdown",
      "source": [
        "You might think that the tuple is quite similar to a list, but the fundamental difference is that tuples and **unchangeable**: once you created a tuple, you cannot change its contents.<br>\n",
        "\n",
        "We won't be using tuples directly but many functions in Python return tuples, so you should not be surprised to see them!"
      ],
      "metadata": {
        "id": "IifIhw1Rcsel"
      }
    },
    {
      "cell_type": "markdown",
      "source": [
        "## Printing\n",
        "We have already been printing messages and variables above. The typical syntax of the `print` command that we'll use most often in OIT 248 is:\n",
        "> `print`(_object(s)_, sep=_separator_)\n",
        " - _object(s)_ : one or more objects to print; each object will be converted to a string before printing\n",
        " - _sep_ : optional, specifies what separator to use between the objects"
      ],
      "metadata": {
        "id": "DHe9-SVArwA_"
      }
    },
    {
      "cell_type": "markdown",
      "source": [
        "Let's see a few simple examples"
      ],
      "metadata": {
        "id": "vIYlvJYmrwBJ"
      }
    },
    {
      "cell_type": "code",
      "source": [
        "# print an integer variable\n",
        "x = 5\n",
        "print(x)\n",
        "\n",
        "# print some text and an integer\n",
        "print(\"The value of the integer is:\", x)"
      ],
      "metadata": {
        "id": "j5gC36a2rwBJ",
        "colab": {
          "base_uri": "https://localhost:8080/"
        },
        "outputId": "4e005978-ae19-48d6-a146-553facac3f9d"
      },
      "execution_count": null,
      "outputs": [
        {
          "output_type": "stream",
          "name": "stdout",
          "text": [
            "5\n",
            "The value of the integer is: 5\n"
          ]
        }
      ]
    },
    {
      "cell_type": "markdown",
      "source": [
        " The most important thing when printing is how to convert the objects into a string that satisfies the criteria you want.<br>\n",
        "\n",
        " There are many ways to do this in Python and all will be roughly equally good for our purposes!"
      ],
      "metadata": {
        "id": "S9FR3W0e9aJd"
      }
    },
    {
      "cell_type": "markdown",
      "source": [
        "#### \"Old-style\" Formatting with %\n",
        "This uses the `%` operator and will look familiar to those of you with C coding experience!"
      ],
      "metadata": {
        "id": "q0gsX1JorwBJ"
      }
    },
    {
      "cell_type": "code",
      "source": [
        "# let's define a few different variables\n",
        "name = \"Linwei\"        # a string\n",
        "age = 32               # an integer\n",
        "gpa = 3.92             # a float\n",
        "income = 245894.242    # a large float\n",
        "\n",
        "print(\"The person named %s with age %d has a GPA of %f and income of %e\" \\\n",
        "      % (name, age, gpa, income))"
      ],
      "metadata": {
        "colab": {
          "base_uri": "https://localhost:8080/"
        },
        "outputId": "813e60ec-9934-495f-b2f0-ae076efc29a4",
        "id": "47i3jVnlrwBJ"
      },
      "execution_count": null,
      "outputs": [
        {
          "output_type": "stream",
          "name": "stdout",
          "text": [
            "The person named Linwei with age 32 has a GPA of 3.920000 and income of 2.458942e+05\n"
          ]
        }
      ]
    },
    {
      "cell_type": "markdown",
      "source": [
        "The example above already shows the data types that we're most likely to print in OIT 248:\n",
        " - `'d'` for a signed integer (decimal, i.e., base 10)\n",
        " - `'f'` for a floating point (decimal)\n",
        " - `'e'` for a floating point in exponential format\n",
        " - `'s'` for a string\n",
        "\n",
        "In addition to these, you can also adjust the padding and how many digits of precision to print."
      ],
      "metadata": {
        "id": "GHz_QRsorwBJ"
      }
    },
    {
      "cell_type": "code",
      "source": [
        "# allocate 20 characters to the name, 3 characters to the age, and print 2 digits of\n",
        "print(\"The person named %20s with age %3d has a GPA of %.2f.\" \\\n",
        "      % (name, age, gpa))\n",
        "\n",
        "# and print a more exotic example to see the difference\n",
        "print(\"The person named %20s with age %3d has a GPA of %.2f.\" \\\n",
        "      % (\"Jiawei Luo\", 104, 55242.435))"
      ],
      "metadata": {
        "colab": {
          "base_uri": "https://localhost:8080/"
        },
        "outputId": "12322464-55f3-45ae-dd81-52bad08ff6c3",
        "id": "uBgZJRMVrwBK"
      },
      "execution_count": null,
      "outputs": [
        {
          "output_type": "stream",
          "name": "stdout",
          "text": [
            "The person named               Linwei with age  32 has a GPA of 3.92.\n",
            "The person named           Jiawei Luo with age 104 has a GPA of 55242.43.\n"
          ]
        }
      ]
    },
    {
      "cell_type": "markdown",
      "source": [
        "Floating-point numbers use the format `%a.bf`. Here, `a` would be the minimum number of digits to be present in the string (padded with white space if the whole number does not have enough digits), and `b` represents how many digits to display after the decimal point.\n",
        "\n",
        "Unless you have very strong biases, **we encourage you to consider using one of the next two formatting options, which are more flexible and robust.**"
      ],
      "metadata": {
        "id": "9ror_RN5_Rti"
      }
    },
    {
      "cell_type": "markdown",
      "source": [
        "#### The `format(.)` method\n",
        "The second option uses the string `format` method."
      ],
      "metadata": {
        "id": "Oenoej-M_-LA"
      }
    },
    {
      "cell_type": "code",
      "source": [
        "# let's again define a few different variables\n",
        "name = \"Linwei\"        # a string\n",
        "age = 32               # an integer\n",
        "gpa = 3.92             # a float\n",
        "\n",
        "print(\"{} has age {} and a GPA of {}\".format(name, age, gpa))"
      ],
      "metadata": {
        "colab": {
          "base_uri": "https://localhost:8080/"
        },
        "outputId": "d345e038-1643-434c-e062-57fc1f479db5",
        "id": "ORTfTWGn_-LB"
      },
      "execution_count": null,
      "outputs": [
        {
          "output_type": "stream",
          "name": "stdout",
          "text": [
            "Linwei has age 32 and a GPA of 3.92\n"
          ]
        }
      ]
    },
    {
      "cell_type": "markdown",
      "source": [
        "So you just need to put braces `{}` for any object inside the string and then use `.format()` at the end of the string to include all the objects. Just as with the `%` method, you can specify a format for the strings inside the `{...}`, with the only distinction that you should use a colon `:` instead of `%`. See below."
      ],
      "metadata": {
        "id": "g1L8Fhhm_-LB"
      }
    },
    {
      "cell_type": "code",
      "source": [
        "# allocate 20 characters to the name, 3 characters to the age, and print 2 digits of\n",
        "print(\"{:20s} has age {:3d} and GPA of {:.2f}.\".format(name, age, gpa))\n",
        "\n",
        "# and print a more exotic example to see the difference\n",
        "print(\"{:20s} has age {:3d} and GPA of {:,.2f}.\".format(\"Jiawei Luo\", 104, 55242.435))"
      ],
      "metadata": {
        "colab": {
          "base_uri": "https://localhost:8080/"
        },
        "outputId": "b017ed0f-b06b-4e7d-b4f8-422e62e927be",
        "id": "KYBMJvmN_-LC"
      },
      "execution_count": null,
      "outputs": [
        {
          "output_type": "stream",
          "name": "stdout",
          "text": [
            "Linwei               has age  32 and GPA of 3.92.\n",
            "Jiawei Luo           has age 104 and GPA of 55,242.43.\n"
          ]
        }
      ]
    },
    {
      "cell_type": "markdown",
      "source": [
        "Note that the second statement uses the format `,.2f` to print the nice comma-delimiter `,` for thousands, which is useful when printing large numbers. For more examples of formatting, check out <a href=\"https://www.pythoncheatsheet.org/cheatsheet/string-formatting\">this reference</a>."
      ],
      "metadata": {
        "id": "PWRTd2mGESne"
      }
    },
    {
      "cell_type": "markdown",
      "source": [
        "#### The `f-string` method\n",
        "The last option uses \"formatted\" strings, a.k.a. f-strings. This is the most modern and most compact approach, so if you're learning Python for the first time, you might want to use this!"
      ],
      "metadata": {
        "id": "dFZr9R2oCKAf"
      }
    },
    {
      "cell_type": "code",
      "source": [
        "# let's again define a few different variables\n",
        "name = \"Linwei\"        # a string\n",
        "age = 32               # an integer\n",
        "gpa = 3.92             # a float\n",
        "\n",
        "print(f\"{name} has age {age} and a GPA of {gpa}\")"
      ],
      "metadata": {
        "colab": {
          "base_uri": "https://localhost:8080/"
        },
        "outputId": "2af7fdfb-b142-49f8-b47c-43057a0f3b21",
        "id": "1BJsYDqtCKAh"
      },
      "execution_count": null,
      "outputs": [
        {
          "output_type": "stream",
          "name": "stdout",
          "text": [
            "Linwei has age 32 and a GPA of 3.92\n"
          ]
        }
      ]
    },
    {
      "cell_type": "markdown",
      "source": [
        "Here, you just need to put the character `f` before the string, and then enclose in braces `{}` the actual object. Formatting is done inside the `{...} ` in a similar way to the `.format()` method, using the colon `:`"
      ],
      "metadata": {
        "id": "D3OUUWasCKAi"
      }
    },
    {
      "cell_type": "code",
      "source": [
        "# allocate 20 characters to the name, 3 characters to the age, and print 2 digits of\n",
        "print(f\"{name:20s} has age {age:3d} and GPA of {gpa:.2f}.\")\n",
        "\n",
        "# and print a more exotic example to see the difference\n",
        "second_name = \"Jiawei Luo\"\n",
        "print(f\"{second_name:20s} has age {104:3d} and GPA of {55242.435:,.2f}.\")"
      ],
      "metadata": {
        "colab": {
          "base_uri": "https://localhost:8080/"
        },
        "outputId": "5089aabd-1583-4060-deaa-ae3ec849e82d",
        "id": "9KxSwA22CKAi"
      },
      "execution_count": null,
      "outputs": [
        {
          "output_type": "stream",
          "name": "stdout",
          "text": [
            "Linwei               has age  32 and GPA of 3.92.\n",
            "Jiawei Luo           has age 104 and GPA of 55,242.43.\n"
          ]
        }
      ]
    },
    {
      "cell_type": "markdown",
      "source": [
        "# Session 2"
      ],
      "metadata": {
        "id": "JxPOKcvu-ypd"
      }
    },
    {
      "cell_type": "markdown",
      "source": [
        "## Dictionaries\n",
        "Dictionaries store data in pairs consisting of a lookup \"key\" and a corresponding \"value\". They are defined using curly brackets `{}`."
      ],
      "metadata": {
        "id": "hO4pm0SC6OQx"
      }
    },
    {
      "cell_type": "code",
      "source": [
        "GS_trophies = {}               # define an empty dictionary\n",
        "GS_trophies[\"Federer\"] = 20    # add entry with key \"Federer\" and value 20\n",
        "GS_trophies[\"Nadal\"] = 22      # at least as of 2023...\n",
        "GS_trophies[\"Djokovic\"] = 24   # at least as of 2023...\n",
        "\n",
        "print(GS_trophies)"
      ],
      "metadata": {
        "id": "2zWfwndx6ORH",
        "colab": {
          "base_uri": "https://localhost:8080/"
        },
        "outputId": "e91ea023-ad5f-432b-9b13-f0038198b0cb"
      },
      "execution_count": null,
      "outputs": [
        {
          "output_type": "stream",
          "name": "stdout",
          "text": [
            "{'Federer': 20, 'Nadal': 22, 'Djokovic': 24}\n"
          ]
        }
      ]
    },
    {
      "cell_type": "markdown",
      "source": [
        "You can retrieve or change a value from a dictionary using the key"
      ],
      "metadata": {
        "id": "A5-gTxZVZmBJ"
      }
    },
    {
      "cell_type": "code",
      "source": [
        "# how many trophies does Nadal have now?\n",
        "print(f\"Nadal has: {GS_trophies['Nadal']} trophies\")\n",
        "\n",
        "# increase Nadal's trophy count by 1\n",
        "GS_trophies[\"Nadal\"] += 1\n",
        "print(GS_trophies)"
      ],
      "metadata": {
        "colab": {
          "base_uri": "https://localhost:8080/"
        },
        "id": "JKAqtZmdZlJw",
        "outputId": "38b676f5-b5d8-4dc8-f04b-543fc2931c30"
      },
      "execution_count": null,
      "outputs": [
        {
          "output_type": "stream",
          "name": "stdout",
          "text": [
            "Nadal has: 22 trophies\n",
            "{'Federer': 20, 'Nadal': 23, 'Djokovic': 24}\n"
          ]
        }
      ]
    },
    {
      "cell_type": "markdown",
      "source": [
        "The keys and values do not have to have the same data type (just as with lists!)"
      ],
      "metadata": {
        "id": "zh8JHUd0Zz6c"
      }
    },
    {
      "cell_type": "code",
      "source": [
        "# add a new entry with a numeric key and a string value\n",
        "GS_trophies[3.14] = \"Something\"\n",
        "print(GS_trophies)"
      ],
      "metadata": {
        "colab": {
          "base_uri": "https://localhost:8080/"
        },
        "id": "cVtElGNdZhLG",
        "outputId": "ab8b92a4-a81b-4f41-e115-eef4e9309d4b"
      },
      "execution_count": null,
      "outputs": [
        {
          "output_type": "stream",
          "name": "stdout",
          "text": [
            "{'Federer': 20, 'Nadal': 23, 'Djokovic': 24, 3.14: 'Something'}\n"
          ]
        }
      ]
    },
    {
      "cell_type": "markdown",
      "source": [
        "The code above also shows how to add a new item in a dictionary. To remove an item based on its key, you can use the `pop(.)` method:"
      ],
      "metadata": {
        "id": "Wa9Hws2cgkDX"
      }
    },
    {
      "cell_type": "code",
      "source": [
        "# remove the weird item that we added above, with key 3.14\n",
        "GS_trophies.pop(3.14)\n",
        "print(GS_trophies)"
      ],
      "metadata": {
        "colab": {
          "base_uri": "https://localhost:8080/"
        },
        "id": "wxFtfPz_hY3q",
        "outputId": "5cc117e1-6cda-4c2c-ce59-b5b95bb805d8"
      },
      "execution_count": null,
      "outputs": [
        {
          "output_type": "stream",
          "name": "stdout",
          "text": [
            "{'Federer': 20, 'Nadal': 23, 'Djokovic': 24}\n"
          ]
        }
      ]
    },
    {
      "cell_type": "markdown",
      "source": [
        "Loop through all the keys in the dictionary, one by one, with a `for` loop:"
      ],
      "metadata": {
        "id": "iBevUn4oiCB2"
      }
    },
    {
      "cell_type": "code",
      "source": [
        "for key in GS_trophies:\n",
        "    print(key)"
      ],
      "metadata": {
        "colab": {
          "base_uri": "https://localhost:8080/"
        },
        "id": "ts1-NFX4iOBn",
        "outputId": "af955b09-1c6a-497c-aa4d-78a7f8ab72e0"
      },
      "execution_count": null,
      "outputs": [
        {
          "output_type": "stream",
          "name": "stdout",
          "text": [
            "Federer\n",
            "Nadal\n",
            "Djokovic\n"
          ]
        }
      ]
    },
    {
      "cell_type": "markdown",
      "source": [
        "To loop through the values, you can loop through the keys and get the values:"
      ],
      "metadata": {
        "id": "q02rympyiXgA"
      }
    },
    {
      "cell_type": "code",
      "source": [
        "for key in GS_trophies:\n",
        "    print(f\"{key} has {GS_trophies[key]} Grand Slam trophies.\")"
      ],
      "metadata": {
        "colab": {
          "base_uri": "https://localhost:8080/"
        },
        "id": "Op5BOX3SieLX",
        "outputId": "5fcd102d-a112-48ae-df7a-dd993fee5026"
      },
      "execution_count": null,
      "outputs": [
        {
          "output_type": "stream",
          "name": "stdout",
          "text": [
            "Federer has 20 Grand Slam trophies.\n",
            "Nadal has 23 Grand Slam trophies.\n",
            "Djokovic has 24 Grand Slam trophies.\n"
          ]
        }
      ]
    },
    {
      "cell_type": "markdown",
      "source": [
        "To copy a dictionary, you need to use the `copy(.)` method, just like for a list. (Using `=` will **not** return a copy of the dictionary but will simply give the dictionary a second name...)"
      ],
      "metadata": {
        "id": "LRkpeD1Vb7-k"
      }
    },
    {
      "cell_type": "code",
      "source": [
        "GS_trophies.keys()"
      ],
      "metadata": {
        "colab": {
          "base_uri": "https://localhost:8080/"
        },
        "id": "uwTQw9MiaJUX",
        "outputId": "7db7147e-d299-4119-8998-4be6236b9ac9"
      },
      "execution_count": null,
      "outputs": [
        {
          "output_type": "execute_result",
          "data": {
            "text/plain": [
              "dict_keys(['Federer', 'Nadal', 'Djokovic'])"
            ]
          },
          "metadata": {},
          "execution_count": 70
        }
      ]
    },
    {
      "cell_type": "markdown",
      "source": [
        "For more details on dictionaries (including the methods available), check <a\n",
        "href=\"https://www.w3schools.com/python/python_dictionaries.asp\">this</a>."
      ],
      "metadata": {
        "id": "kmmhNgpAjOLN"
      }
    },
    {
      "cell_type": "markdown",
      "source": [
        "## Functions\n",
        "Functions allow organizing the code in blocks that can be called separately (and many times). A function can take several arguments and can return data as a result. In Python, functions are defined using the `def` keyword."
      ],
      "metadata": {
        "id": "gOLtAzIak-SQ"
      }
    },
    {
      "cell_type": "markdown",
      "source": [
        "Define a function with no arguments that prints a message."
      ],
      "metadata": {
        "id": "N0RLciM8lRWy"
      }
    },
    {
      "cell_type": "code",
      "source": [
        "# define a function without any arguments\n",
        "def hello():\n",
        "    print(\"Hello again!\")\n",
        "\n",
        "# now define another function that adds its two arguments\n",
        "def my_smart_addition(a,b):\n",
        "    return a+b\n",
        "\n",
        "# and an even smarter function that returns a+b and a-b as a list\n",
        "def my_smartest_function(a,b):\n",
        "    print(\"This is the smartest function.\")\n",
        "    a_plus_b = my_smart_addition(a,b)\n",
        "    a_minus_b = a-b\n",
        "    return [a_plus_b, a_minus_b]\n",
        "\n",
        "# let's test our functions\n",
        "hello()\n",
        "\n",
        "# this function returns something; let's store and print the result!\n",
        "result = my_smart_addition(2,5)\n",
        "print(result)\n",
        "\n",
        "# this function also returns something; let's store and print the result!\n",
        "result = my_smartest_function(2,5)\n",
        "print(result)\n",
        "\n",
        "# # the following would give an error if uncommented!\n",
        "# Hello()"
      ],
      "metadata": {
        "colab": {
          "base_uri": "https://localhost:8080/"
        },
        "id": "IVtALsAalQXd",
        "outputId": "e3de6d9a-d5b4-43b7-8e2b-2e9dab4bdd31"
      },
      "execution_count": null,
      "outputs": [
        {
          "output_type": "stream",
          "name": "stdout",
          "text": [
            "Hello again!\n",
            "7\n",
            "This is the smartest function.\n",
            "[7, -3]\n"
          ]
        }
      ]
    },
    {
      "cell_type": "markdown",
      "source": [
        "A few things to note:\n",
        " - the colon `:` is critical in the syntax (just like with `if` and `for`)\n",
        " - functions can take arguments<br>\n",
        "   _For instance, the second function takes as arguments two things a, b. These could be any data type._\n",
        " - the keyword `return` tells the function what value to return <br>\n",
        "   _For instance, the second function returns the sum of its arguments, a + b_\n",
        " - you can call functions inside other functions<br>\n",
        "   _Like we did in the \"smart\" function, which calls the function that adds_\n",
        " - you can return several arguments<br>\n",
        "   _Just package them in a list and return that list, like in the third example_\n",
        " - function names are case-sensitive!"
      ],
      "metadata": {
        "id": "7Hl_vmKflsFm"
      }
    },
    {
      "cell_type": "markdown",
      "source": [
        "## Importing modules\n",
        "A module is essentially a library with lots of functions. By \"importing\" a module with the function `import`, you can use all the functions inside it."
      ],
      "metadata": {
        "id": "FLPRZLmFkw5U"
      }
    },
    {
      "cell_type": "markdown",
      "source": [
        "For instance, in this class we will use the `pandas` module a lot (for some reasons, see the separate section covering it!) To import it, you could do any of the following:\n",
        "\n",
        "> ``import pandas``\n",
        "\n",
        "This imports the \"pandas\" module, and allows us to use the functions it contains; to use the function `read_csv()`, we would have to use the syntax ``pandas.read_csv()``.\n",
        "\n",
        "Because this requires typing the word `pandas` all the time, we can assign it a 'short name' as follows:\n",
        "\n",
        "> ``import pandas as pd``\n",
        "\n",
        "This also imports the full \"pandas\" module, but now we could call the `fname` function using ``pd.read_csv()``. Saving a few characters could mean a lot if you're typing this thousands of times :-)\n",
        "\n",
        "Lastly, there is one more option that we could use:\n",
        "\n",
        "> ``from pandas import *``\n",
        "\n",
        "This imports everything in the pandas module and makes it so that we can just refer to the function using ``read_csv()``. This is useful if the functions are specific enough that you don't think the same name might be defined/used elsewhere, but it could be dangerous if you think there might be overlap."
      ],
      "metadata": {
        "id": "kRRWbTUFtJ-l"
      }
    },
    {
      "cell_type": "markdown",
      "source": [
        "## Pandas module\n",
        "Pandas is a Python library used for working with data sets. It has very useful functions for analyzing, cleaning, exploring, and manipulating data, and we will be using it a lot throughout our class. (And in case you're wondering, the name is **not** about an animal, for a change.... It's actually short for \"panel data\"!) Over coverage here will be very brief, but if you want more, see, e.g., <a href=\"https://www.w3schools.com/python/pandas/default.asp\">this resource.</a>"
      ],
      "metadata": {
        "id": "hMQ4xKVnjfMf"
      }
    },
    {
      "cell_type": "code",
      "source": [
        "# let's first import the module\n",
        "import pandas as pd"
      ],
      "metadata": {
        "id": "96K3U_YezCUL"
      },
      "execution_count": null,
      "outputs": []
    },
    {
      "cell_type": "markdown",
      "source": [
        "#### Series\n",
        "The most basic object in `pandas` is a `Series`, which can be created with the `Series(.)` function. You can think of as a column in a table (think of a column in Excel!)"
      ],
      "metadata": {
        "id": "fm9cFukfzPq3"
      }
    },
    {
      "cell_type": "code",
      "source": [
        "my_list = [24, 56, 99]            # create a simple list\n",
        "my_series = pd.Series(my_list)    # now create a series from the list\n",
        "\n",
        "print(my_series)                  # print the series"
      ],
      "metadata": {
        "colab": {
          "base_uri": "https://localhost:8080/"
        },
        "id": "R7vXKP0Rzfyh",
        "outputId": "8a02831d-8bf7-47a2-f9fb-e4c5b7ebd7af"
      },
      "execution_count": null,
      "outputs": [
        {
          "output_type": "stream",
          "name": "stdout",
          "text": [
            "0    24\n",
            "1    56\n",
            "2    99\n",
            "dtype: int64\n"
          ]
        }
      ]
    },
    {
      "cell_type": "markdown",
      "source": [
        "Note that `pandas` assigns a label (called an **index**) to each element in the series. If you don't specify anything, these labels/indices will be the integers 0, 1, 2, ... You can also specify your own custom labels with the `index` argument, as below."
      ],
      "metadata": {
        "id": "kvSkMHTDzRyR"
      }
    },
    {
      "cell_type": "code",
      "source": [
        "# create a series with a given index\n",
        "my_series = pd.Series(my_list, index = [\"a\", \"b\", \"c\"])\n",
        "print(my_series)                  # print the series"
      ],
      "metadata": {
        "colab": {
          "base_uri": "https://localhost:8080/"
        },
        "id": "-XVQZh0nzPVi",
        "outputId": "ac30a709-63b3-4e9c-df49-71b686ec30a6"
      },
      "execution_count": null,
      "outputs": [
        {
          "output_type": "stream",
          "name": "stdout",
          "text": [
            "a    24\n",
            "b    56\n",
            "c    99\n",
            "dtype: int64\n"
          ]
        }
      ]
    },
    {
      "cell_type": "markdown",
      "source": [
        "By themselves, the Series are not terribly useful, but they form the basis of DataFrames, so it's good to understand them separately."
      ],
      "metadata": {
        "id": "vEat5DDIy_y1"
      }
    },
    {
      "cell_type": "markdown",
      "source": [
        "#### DataFrames\n",
        "DataFrames are the fundamental way in which data is organized in `pandas.` You can think of a DataFrame in close analogy with a table in Excel: it is a two-dimensional table that has Series as its columns."
      ],
      "metadata": {
        "id": "96o22Bao-biJ"
      }
    },
    {
      "cell_type": "markdown",
      "source": [
        "##### Basics"
      ],
      "metadata": {
        "id": "oHeCtjNMBanP"
      }
    },
    {
      "cell_type": "markdown",
      "source": [
        "Normally we read DataFrames from files, but here, we will show you two ways to create a DataFrame, either from a list of lists or from a dictionary. These might be useful in their own right.\n",
        "\n",
        "First, this is how to create a DataFrame from a dictionary. The keys correspond to the column names, and the values correspond to the values of the column (for every row)."
      ],
      "metadata": {
        "id": "p2rM0JsYC30r"
      }
    },
    {
      "cell_type": "code",
      "source": [
        "# a dictionary that stores some data\n",
        "dictionary_with_data = {\n",
        "    'Name': ['Alice', 'Bob', 'Charlie', 'David'],\n",
        "    'Age': [25, 30, 22, 28],\n",
        "    'Id' : [10001, 10002, 10003, 10004],\n",
        "    'City': ['New York', 'San Francisco', 'Los Angeles', 'Chicago']\n",
        "}\n",
        "\n",
        "# create a DataFrame from the dictionary\n",
        "df = pd.DataFrame(dictionary_with_data)\n",
        "\n",
        "# display it\n",
        "display(df)"
      ],
      "metadata": {
        "colab": {
          "base_uri": "https://localhost:8080/",
          "height": 175
        },
        "outputId": "ade4c0c9-709a-4419-842d-5bb586ba7df8",
        "id": "ywB2WTFj-bif"
      },
      "execution_count": null,
      "outputs": [
        {
          "output_type": "display_data",
          "data": {
            "text/plain": [
              "      Name  Age     Id           City\n",
              "0    Alice   25  10001       New York\n",
              "1      Bob   30  10002  San Francisco\n",
              "2  Charlie   22  10003    Los Angeles\n",
              "3    David   28  10004        Chicago"
            ],
            "text/html": [
              "\n",
              "  <div id=\"df-9d47a768-38b2-4047-bb59-4a83e6ef6430\" class=\"colab-df-container\">\n",
              "    <div>\n",
              "<style scoped>\n",
              "    .dataframe tbody tr th:only-of-type {\n",
              "        vertical-align: middle;\n",
              "    }\n",
              "\n",
              "    .dataframe tbody tr th {\n",
              "        vertical-align: top;\n",
              "    }\n",
              "\n",
              "    .dataframe thead th {\n",
              "        text-align: right;\n",
              "    }\n",
              "</style>\n",
              "<table border=\"1\" class=\"dataframe\">\n",
              "  <thead>\n",
              "    <tr style=\"text-align: right;\">\n",
              "      <th></th>\n",
              "      <th>Name</th>\n",
              "      <th>Age</th>\n",
              "      <th>Id</th>\n",
              "      <th>City</th>\n",
              "    </tr>\n",
              "  </thead>\n",
              "  <tbody>\n",
              "    <tr>\n",
              "      <th>0</th>\n",
              "      <td>Alice</td>\n",
              "      <td>25</td>\n",
              "      <td>10001</td>\n",
              "      <td>New York</td>\n",
              "    </tr>\n",
              "    <tr>\n",
              "      <th>1</th>\n",
              "      <td>Bob</td>\n",
              "      <td>30</td>\n",
              "      <td>10002</td>\n",
              "      <td>San Francisco</td>\n",
              "    </tr>\n",
              "    <tr>\n",
              "      <th>2</th>\n",
              "      <td>Charlie</td>\n",
              "      <td>22</td>\n",
              "      <td>10003</td>\n",
              "      <td>Los Angeles</td>\n",
              "    </tr>\n",
              "    <tr>\n",
              "      <th>3</th>\n",
              "      <td>David</td>\n",
              "      <td>28</td>\n",
              "      <td>10004</td>\n",
              "      <td>Chicago</td>\n",
              "    </tr>\n",
              "  </tbody>\n",
              "</table>\n",
              "</div>\n",
              "    <div class=\"colab-df-buttons\">\n",
              "\n",
              "  <div class=\"colab-df-container\">\n",
              "    <button class=\"colab-df-convert\" onclick=\"convertToInteractive('df-9d47a768-38b2-4047-bb59-4a83e6ef6430')\"\n",
              "            title=\"Convert this dataframe to an interactive table.\"\n",
              "            style=\"display:none;\">\n",
              "\n",
              "  <svg xmlns=\"http://www.w3.org/2000/svg\" height=\"24px\" viewBox=\"0 -960 960 960\">\n",
              "    <path d=\"M120-120v-720h720v720H120Zm60-500h600v-160H180v160Zm220 220h160v-160H400v160Zm0 220h160v-160H400v160ZM180-400h160v-160H180v160Zm440 0h160v-160H620v160ZM180-180h160v-160H180v160Zm440 0h160v-160H620v160Z\"/>\n",
              "  </svg>\n",
              "    </button>\n",
              "\n",
              "  <style>\n",
              "    .colab-df-container {\n",
              "      display:flex;\n",
              "      gap: 12px;\n",
              "    }\n",
              "\n",
              "    .colab-df-convert {\n",
              "      background-color: #E8F0FE;\n",
              "      border: none;\n",
              "      border-radius: 50%;\n",
              "      cursor: pointer;\n",
              "      display: none;\n",
              "      fill: #1967D2;\n",
              "      height: 32px;\n",
              "      padding: 0 0 0 0;\n",
              "      width: 32px;\n",
              "    }\n",
              "\n",
              "    .colab-df-convert:hover {\n",
              "      background-color: #E2EBFA;\n",
              "      box-shadow: 0px 1px 2px rgba(60, 64, 67, 0.3), 0px 1px 3px 1px rgba(60, 64, 67, 0.15);\n",
              "      fill: #174EA6;\n",
              "    }\n",
              "\n",
              "    .colab-df-buttons div {\n",
              "      margin-bottom: 4px;\n",
              "    }\n",
              "\n",
              "    [theme=dark] .colab-df-convert {\n",
              "      background-color: #3B4455;\n",
              "      fill: #D2E3FC;\n",
              "    }\n",
              "\n",
              "    [theme=dark] .colab-df-convert:hover {\n",
              "      background-color: #434B5C;\n",
              "      box-shadow: 0px 1px 3px 1px rgba(0, 0, 0, 0.15);\n",
              "      filter: drop-shadow(0px 1px 2px rgba(0, 0, 0, 0.3));\n",
              "      fill: #FFFFFF;\n",
              "    }\n",
              "  </style>\n",
              "\n",
              "    <script>\n",
              "      const buttonEl =\n",
              "        document.querySelector('#df-9d47a768-38b2-4047-bb59-4a83e6ef6430 button.colab-df-convert');\n",
              "      buttonEl.style.display =\n",
              "        google.colab.kernel.accessAllowed ? 'block' : 'none';\n",
              "\n",
              "      async function convertToInteractive(key) {\n",
              "        const element = document.querySelector('#df-9d47a768-38b2-4047-bb59-4a83e6ef6430');\n",
              "        const dataTable =\n",
              "          await google.colab.kernel.invokeFunction('convertToInteractive',\n",
              "                                                    [key], {});\n",
              "        if (!dataTable) return;\n",
              "\n",
              "        const docLinkHtml = 'Like what you see? Visit the ' +\n",
              "          '<a target=\"_blank\" href=https://colab.research.google.com/notebooks/data_table.ipynb>data table notebook</a>'\n",
              "          + ' to learn more about interactive tables.';\n",
              "        element.innerHTML = '';\n",
              "        dataTable['output_type'] = 'display_data';\n",
              "        await google.colab.output.renderOutput(dataTable, element);\n",
              "        const docLink = document.createElement('div');\n",
              "        docLink.innerHTML = docLinkHtml;\n",
              "        element.appendChild(docLink);\n",
              "      }\n",
              "    </script>\n",
              "  </div>\n",
              "\n",
              "\n",
              "<div id=\"df-f6429c67-c912-411c-9a1b-395e6fb271ec\">\n",
              "  <button class=\"colab-df-quickchart\" onclick=\"quickchart('df-f6429c67-c912-411c-9a1b-395e6fb271ec')\"\n",
              "            title=\"Suggest charts.\"\n",
              "            style=\"display:none;\">\n",
              "\n",
              "<svg xmlns=\"http://www.w3.org/2000/svg\" height=\"24px\"viewBox=\"0 0 24 24\"\n",
              "     width=\"24px\">\n",
              "    <g>\n",
              "        <path d=\"M19 3H5c-1.1 0-2 .9-2 2v14c0 1.1.9 2 2 2h14c1.1 0 2-.9 2-2V5c0-1.1-.9-2-2-2zM9 17H7v-7h2v7zm4 0h-2V7h2v10zm4 0h-2v-4h2v4z\"/>\n",
              "    </g>\n",
              "</svg>\n",
              "  </button>\n",
              "\n",
              "<style>\n",
              "  .colab-df-quickchart {\n",
              "      --bg-color: #E8F0FE;\n",
              "      --fill-color: #1967D2;\n",
              "      --hover-bg-color: #E2EBFA;\n",
              "      --hover-fill-color: #174EA6;\n",
              "      --disabled-fill-color: #AAA;\n",
              "      --disabled-bg-color: #DDD;\n",
              "  }\n",
              "\n",
              "  [theme=dark] .colab-df-quickchart {\n",
              "      --bg-color: #3B4455;\n",
              "      --fill-color: #D2E3FC;\n",
              "      --hover-bg-color: #434B5C;\n",
              "      --hover-fill-color: #FFFFFF;\n",
              "      --disabled-bg-color: #3B4455;\n",
              "      --disabled-fill-color: #666;\n",
              "  }\n",
              "\n",
              "  .colab-df-quickchart {\n",
              "    background-color: var(--bg-color);\n",
              "    border: none;\n",
              "    border-radius: 50%;\n",
              "    cursor: pointer;\n",
              "    display: none;\n",
              "    fill: var(--fill-color);\n",
              "    height: 32px;\n",
              "    padding: 0;\n",
              "    width: 32px;\n",
              "  }\n",
              "\n",
              "  .colab-df-quickchart:hover {\n",
              "    background-color: var(--hover-bg-color);\n",
              "    box-shadow: 0 1px 2px rgba(60, 64, 67, 0.3), 0 1px 3px 1px rgba(60, 64, 67, 0.15);\n",
              "    fill: var(--button-hover-fill-color);\n",
              "  }\n",
              "\n",
              "  .colab-df-quickchart-complete:disabled,\n",
              "  .colab-df-quickchart-complete:disabled:hover {\n",
              "    background-color: var(--disabled-bg-color);\n",
              "    fill: var(--disabled-fill-color);\n",
              "    box-shadow: none;\n",
              "  }\n",
              "\n",
              "  .colab-df-spinner {\n",
              "    border: 2px solid var(--fill-color);\n",
              "    border-color: transparent;\n",
              "    border-bottom-color: var(--fill-color);\n",
              "    animation:\n",
              "      spin 1s steps(1) infinite;\n",
              "  }\n",
              "\n",
              "  @keyframes spin {\n",
              "    0% {\n",
              "      border-color: transparent;\n",
              "      border-bottom-color: var(--fill-color);\n",
              "      border-left-color: var(--fill-color);\n",
              "    }\n",
              "    20% {\n",
              "      border-color: transparent;\n",
              "      border-left-color: var(--fill-color);\n",
              "      border-top-color: var(--fill-color);\n",
              "    }\n",
              "    30% {\n",
              "      border-color: transparent;\n",
              "      border-left-color: var(--fill-color);\n",
              "      border-top-color: var(--fill-color);\n",
              "      border-right-color: var(--fill-color);\n",
              "    }\n",
              "    40% {\n",
              "      border-color: transparent;\n",
              "      border-right-color: var(--fill-color);\n",
              "      border-top-color: var(--fill-color);\n",
              "    }\n",
              "    60% {\n",
              "      border-color: transparent;\n",
              "      border-right-color: var(--fill-color);\n",
              "    }\n",
              "    80% {\n",
              "      border-color: transparent;\n",
              "      border-right-color: var(--fill-color);\n",
              "      border-bottom-color: var(--fill-color);\n",
              "    }\n",
              "    90% {\n",
              "      border-color: transparent;\n",
              "      border-bottom-color: var(--fill-color);\n",
              "    }\n",
              "  }\n",
              "</style>\n",
              "\n",
              "  <script>\n",
              "    async function quickchart(key) {\n",
              "      const quickchartButtonEl =\n",
              "        document.querySelector('#' + key + ' button');\n",
              "      quickchartButtonEl.disabled = true;  // To prevent multiple clicks.\n",
              "      quickchartButtonEl.classList.add('colab-df-spinner');\n",
              "      try {\n",
              "        const charts = await google.colab.kernel.invokeFunction(\n",
              "            'suggestCharts', [key], {});\n",
              "      } catch (error) {\n",
              "        console.error('Error during call to suggestCharts:', error);\n",
              "      }\n",
              "      quickchartButtonEl.classList.remove('colab-df-spinner');\n",
              "      quickchartButtonEl.classList.add('colab-df-quickchart-complete');\n",
              "    }\n",
              "    (() => {\n",
              "      let quickchartButtonEl =\n",
              "        document.querySelector('#df-f6429c67-c912-411c-9a1b-395e6fb271ec button');\n",
              "      quickchartButtonEl.style.display =\n",
              "        google.colab.kernel.accessAllowed ? 'block' : 'none';\n",
              "    })();\n",
              "  </script>\n",
              "</div>\n",
              "    </div>\n",
              "  </div>\n"
            ]
          },
          "metadata": {}
        }
      ]
    },
    {
      "cell_type": "markdown",
      "source": [
        "Next, you can create a DataFrame also from a list of lists. The outer list contains one element for each **row** of the dataframe; each element of the outer list is itself a list, that contains the values for each column (corresponding to a row). We use the same example as above for clarity."
      ],
      "metadata": {
        "id": "NCl7wCTPCyjt"
      }
    },
    {
      "cell_type": "code",
      "source": [
        "# a list of lists (!) to store the data\n",
        "list_of_lists_of_data = [ ['Alice', 25, 10001, 'New York'], \\\n",
        " ['Bob', 30, 10002, 'San Francisco'], \\\n",
        " ['Charlie', 22, 10003, 'Los Angeles'], \\\n",
        " ['David', 28, 10004, 'Chicago'] ]\n",
        "\n",
        "# create a DataFrame from the dictionary\n",
        "df = pd.DataFrame(list_of_lists_of_data, columns = [\"Name\", \"Age\", \"Id\", \"City\"])\n",
        "\n",
        "# display it\n",
        "display(df)"
      ],
      "metadata": {
        "colab": {
          "base_uri": "https://localhost:8080/",
          "height": 175
        },
        "id": "9DNZ2v51DOho",
        "outputId": "b73e6d7f-f3c7-48b5-8bde-e3dd00fc1e3e"
      },
      "execution_count": null,
      "outputs": [
        {
          "output_type": "display_data",
          "data": {
            "text/plain": [
              "      Name  Age     Id           City\n",
              "0    Alice   25  10001       New York\n",
              "1      Bob   30  10002  San Francisco\n",
              "2  Charlie   22  10003    Los Angeles\n",
              "3    David   28  10004        Chicago"
            ],
            "text/html": [
              "\n",
              "  <div id=\"df-897c0ece-ac8a-4972-be46-5bd2afc100cc\" class=\"colab-df-container\">\n",
              "    <div>\n",
              "<style scoped>\n",
              "    .dataframe tbody tr th:only-of-type {\n",
              "        vertical-align: middle;\n",
              "    }\n",
              "\n",
              "    .dataframe tbody tr th {\n",
              "        vertical-align: top;\n",
              "    }\n",
              "\n",
              "    .dataframe thead th {\n",
              "        text-align: right;\n",
              "    }\n",
              "</style>\n",
              "<table border=\"1\" class=\"dataframe\">\n",
              "  <thead>\n",
              "    <tr style=\"text-align: right;\">\n",
              "      <th></th>\n",
              "      <th>Name</th>\n",
              "      <th>Age</th>\n",
              "      <th>Id</th>\n",
              "      <th>City</th>\n",
              "    </tr>\n",
              "  </thead>\n",
              "  <tbody>\n",
              "    <tr>\n",
              "      <th>0</th>\n",
              "      <td>Alice</td>\n",
              "      <td>25</td>\n",
              "      <td>10001</td>\n",
              "      <td>New York</td>\n",
              "    </tr>\n",
              "    <tr>\n",
              "      <th>1</th>\n",
              "      <td>Bob</td>\n",
              "      <td>30</td>\n",
              "      <td>10002</td>\n",
              "      <td>San Francisco</td>\n",
              "    </tr>\n",
              "    <tr>\n",
              "      <th>2</th>\n",
              "      <td>Charlie</td>\n",
              "      <td>22</td>\n",
              "      <td>10003</td>\n",
              "      <td>Los Angeles</td>\n",
              "    </tr>\n",
              "    <tr>\n",
              "      <th>3</th>\n",
              "      <td>David</td>\n",
              "      <td>28</td>\n",
              "      <td>10004</td>\n",
              "      <td>Chicago</td>\n",
              "    </tr>\n",
              "  </tbody>\n",
              "</table>\n",
              "</div>\n",
              "    <div class=\"colab-df-buttons\">\n",
              "\n",
              "  <div class=\"colab-df-container\">\n",
              "    <button class=\"colab-df-convert\" onclick=\"convertToInteractive('df-897c0ece-ac8a-4972-be46-5bd2afc100cc')\"\n",
              "            title=\"Convert this dataframe to an interactive table.\"\n",
              "            style=\"display:none;\">\n",
              "\n",
              "  <svg xmlns=\"http://www.w3.org/2000/svg\" height=\"24px\" viewBox=\"0 -960 960 960\">\n",
              "    <path d=\"M120-120v-720h720v720H120Zm60-500h600v-160H180v160Zm220 220h160v-160H400v160Zm0 220h160v-160H400v160ZM180-400h160v-160H180v160Zm440 0h160v-160H620v160ZM180-180h160v-160H180v160Zm440 0h160v-160H620v160Z\"/>\n",
              "  </svg>\n",
              "    </button>\n",
              "\n",
              "  <style>\n",
              "    .colab-df-container {\n",
              "      display:flex;\n",
              "      gap: 12px;\n",
              "    }\n",
              "\n",
              "    .colab-df-convert {\n",
              "      background-color: #E8F0FE;\n",
              "      border: none;\n",
              "      border-radius: 50%;\n",
              "      cursor: pointer;\n",
              "      display: none;\n",
              "      fill: #1967D2;\n",
              "      height: 32px;\n",
              "      padding: 0 0 0 0;\n",
              "      width: 32px;\n",
              "    }\n",
              "\n",
              "    .colab-df-convert:hover {\n",
              "      background-color: #E2EBFA;\n",
              "      box-shadow: 0px 1px 2px rgba(60, 64, 67, 0.3), 0px 1px 3px 1px rgba(60, 64, 67, 0.15);\n",
              "      fill: #174EA6;\n",
              "    }\n",
              "\n",
              "    .colab-df-buttons div {\n",
              "      margin-bottom: 4px;\n",
              "    }\n",
              "\n",
              "    [theme=dark] .colab-df-convert {\n",
              "      background-color: #3B4455;\n",
              "      fill: #D2E3FC;\n",
              "    }\n",
              "\n",
              "    [theme=dark] .colab-df-convert:hover {\n",
              "      background-color: #434B5C;\n",
              "      box-shadow: 0px 1px 3px 1px rgba(0, 0, 0, 0.15);\n",
              "      filter: drop-shadow(0px 1px 2px rgba(0, 0, 0, 0.3));\n",
              "      fill: #FFFFFF;\n",
              "    }\n",
              "  </style>\n",
              "\n",
              "    <script>\n",
              "      const buttonEl =\n",
              "        document.querySelector('#df-897c0ece-ac8a-4972-be46-5bd2afc100cc button.colab-df-convert');\n",
              "      buttonEl.style.display =\n",
              "        google.colab.kernel.accessAllowed ? 'block' : 'none';\n",
              "\n",
              "      async function convertToInteractive(key) {\n",
              "        const element = document.querySelector('#df-897c0ece-ac8a-4972-be46-5bd2afc100cc');\n",
              "        const dataTable =\n",
              "          await google.colab.kernel.invokeFunction('convertToInteractive',\n",
              "                                                    [key], {});\n",
              "        if (!dataTable) return;\n",
              "\n",
              "        const docLinkHtml = 'Like what you see? Visit the ' +\n",
              "          '<a target=\"_blank\" href=https://colab.research.google.com/notebooks/data_table.ipynb>data table notebook</a>'\n",
              "          + ' to learn more about interactive tables.';\n",
              "        element.innerHTML = '';\n",
              "        dataTable['output_type'] = 'display_data';\n",
              "        await google.colab.output.renderOutput(dataTable, element);\n",
              "        const docLink = document.createElement('div');\n",
              "        docLink.innerHTML = docLinkHtml;\n",
              "        element.appendChild(docLink);\n",
              "      }\n",
              "    </script>\n",
              "  </div>\n",
              "\n",
              "\n",
              "<div id=\"df-1b5ee4bc-a5e5-48e4-916b-fe9dab9a3c74\">\n",
              "  <button class=\"colab-df-quickchart\" onclick=\"quickchart('df-1b5ee4bc-a5e5-48e4-916b-fe9dab9a3c74')\"\n",
              "            title=\"Suggest charts.\"\n",
              "            style=\"display:none;\">\n",
              "\n",
              "<svg xmlns=\"http://www.w3.org/2000/svg\" height=\"24px\"viewBox=\"0 0 24 24\"\n",
              "     width=\"24px\">\n",
              "    <g>\n",
              "        <path d=\"M19 3H5c-1.1 0-2 .9-2 2v14c0 1.1.9 2 2 2h14c1.1 0 2-.9 2-2V5c0-1.1-.9-2-2-2zM9 17H7v-7h2v7zm4 0h-2V7h2v10zm4 0h-2v-4h2v4z\"/>\n",
              "    </g>\n",
              "</svg>\n",
              "  </button>\n",
              "\n",
              "<style>\n",
              "  .colab-df-quickchart {\n",
              "      --bg-color: #E8F0FE;\n",
              "      --fill-color: #1967D2;\n",
              "      --hover-bg-color: #E2EBFA;\n",
              "      --hover-fill-color: #174EA6;\n",
              "      --disabled-fill-color: #AAA;\n",
              "      --disabled-bg-color: #DDD;\n",
              "  }\n",
              "\n",
              "  [theme=dark] .colab-df-quickchart {\n",
              "      --bg-color: #3B4455;\n",
              "      --fill-color: #D2E3FC;\n",
              "      --hover-bg-color: #434B5C;\n",
              "      --hover-fill-color: #FFFFFF;\n",
              "      --disabled-bg-color: #3B4455;\n",
              "      --disabled-fill-color: #666;\n",
              "  }\n",
              "\n",
              "  .colab-df-quickchart {\n",
              "    background-color: var(--bg-color);\n",
              "    border: none;\n",
              "    border-radius: 50%;\n",
              "    cursor: pointer;\n",
              "    display: none;\n",
              "    fill: var(--fill-color);\n",
              "    height: 32px;\n",
              "    padding: 0;\n",
              "    width: 32px;\n",
              "  }\n",
              "\n",
              "  .colab-df-quickchart:hover {\n",
              "    background-color: var(--hover-bg-color);\n",
              "    box-shadow: 0 1px 2px rgba(60, 64, 67, 0.3), 0 1px 3px 1px rgba(60, 64, 67, 0.15);\n",
              "    fill: var(--button-hover-fill-color);\n",
              "  }\n",
              "\n",
              "  .colab-df-quickchart-complete:disabled,\n",
              "  .colab-df-quickchart-complete:disabled:hover {\n",
              "    background-color: var(--disabled-bg-color);\n",
              "    fill: var(--disabled-fill-color);\n",
              "    box-shadow: none;\n",
              "  }\n",
              "\n",
              "  .colab-df-spinner {\n",
              "    border: 2px solid var(--fill-color);\n",
              "    border-color: transparent;\n",
              "    border-bottom-color: var(--fill-color);\n",
              "    animation:\n",
              "      spin 1s steps(1) infinite;\n",
              "  }\n",
              "\n",
              "  @keyframes spin {\n",
              "    0% {\n",
              "      border-color: transparent;\n",
              "      border-bottom-color: var(--fill-color);\n",
              "      border-left-color: var(--fill-color);\n",
              "    }\n",
              "    20% {\n",
              "      border-color: transparent;\n",
              "      border-left-color: var(--fill-color);\n",
              "      border-top-color: var(--fill-color);\n",
              "    }\n",
              "    30% {\n",
              "      border-color: transparent;\n",
              "      border-left-color: var(--fill-color);\n",
              "      border-top-color: var(--fill-color);\n",
              "      border-right-color: var(--fill-color);\n",
              "    }\n",
              "    40% {\n",
              "      border-color: transparent;\n",
              "      border-right-color: var(--fill-color);\n",
              "      border-top-color: var(--fill-color);\n",
              "    }\n",
              "    60% {\n",
              "      border-color: transparent;\n",
              "      border-right-color: var(--fill-color);\n",
              "    }\n",
              "    80% {\n",
              "      border-color: transparent;\n",
              "      border-right-color: var(--fill-color);\n",
              "      border-bottom-color: var(--fill-color);\n",
              "    }\n",
              "    90% {\n",
              "      border-color: transparent;\n",
              "      border-bottom-color: var(--fill-color);\n",
              "    }\n",
              "  }\n",
              "</style>\n",
              "\n",
              "  <script>\n",
              "    async function quickchart(key) {\n",
              "      const quickchartButtonEl =\n",
              "        document.querySelector('#' + key + ' button');\n",
              "      quickchartButtonEl.disabled = true;  // To prevent multiple clicks.\n",
              "      quickchartButtonEl.classList.add('colab-df-spinner');\n",
              "      try {\n",
              "        const charts = await google.colab.kernel.invokeFunction(\n",
              "            'suggestCharts', [key], {});\n",
              "      } catch (error) {\n",
              "        console.error('Error during call to suggestCharts:', error);\n",
              "      }\n",
              "      quickchartButtonEl.classList.remove('colab-df-spinner');\n",
              "      quickchartButtonEl.classList.add('colab-df-quickchart-complete');\n",
              "    }\n",
              "    (() => {\n",
              "      let quickchartButtonEl =\n",
              "        document.querySelector('#df-1b5ee4bc-a5e5-48e4-916b-fe9dab9a3c74 button');\n",
              "      quickchartButtonEl.style.display =\n",
              "        google.colab.kernel.accessAllowed ? 'block' : 'none';\n",
              "    })();\n",
              "  </script>\n",
              "</div>\n",
              "    </div>\n",
              "  </div>\n"
            ]
          },
          "metadata": {}
        }
      ]
    },
    {
      "cell_type": "markdown",
      "source": [
        "As you can see, the DataFrame is basically a table with rows and columns. The column labels/names here are \"Name\", \"Age\", \"Id\", and \"City\". The rows are labeled with 0, 1, 2, 3, which you can see displayed in the first column (to be clear, that column is not really part of our DataFrame, so the first actual column is \"Name\"). Just like for a `Series`, `pandas` assigned these labels automatically when we created the DataFrame, and it used 0, 1, 2, 3 because we didn't specify custom ones (with the `index` argument).<br>\n",
        "\n",
        "The function `display(.)`, which we already used above, is great for visualizing DataFrames. In a large DataFrame, you may want to only display a few rows, which you can do with the `head(.)` method:"
      ],
      "metadata": {
        "id": "O429TrsX-big"
      }
    },
    {
      "cell_type": "code",
      "source": [
        "# display the first 2 rows\n",
        "df.head(2)"
      ],
      "metadata": {
        "colab": {
          "base_uri": "https://localhost:8080/",
          "height": 112
        },
        "id": "xTpSyhKwJcRA",
        "outputId": "7b6370bb-7a56-445e-cffc-b2467bbafa45"
      },
      "execution_count": null,
      "outputs": [
        {
          "output_type": "execute_result",
          "data": {
            "text/plain": [
              "    Name  Age     Id           City\n",
              "0  Alice   25  10001       New York\n",
              "1    Bob   30  10002  San Francisco"
            ],
            "text/html": [
              "\n",
              "  <div id=\"df-b5149bc7-af25-442e-bde1-f38d4c6f978f\" class=\"colab-df-container\">\n",
              "    <div>\n",
              "<style scoped>\n",
              "    .dataframe tbody tr th:only-of-type {\n",
              "        vertical-align: middle;\n",
              "    }\n",
              "\n",
              "    .dataframe tbody tr th {\n",
              "        vertical-align: top;\n",
              "    }\n",
              "\n",
              "    .dataframe thead th {\n",
              "        text-align: right;\n",
              "    }\n",
              "</style>\n",
              "<table border=\"1\" class=\"dataframe\">\n",
              "  <thead>\n",
              "    <tr style=\"text-align: right;\">\n",
              "      <th></th>\n",
              "      <th>Name</th>\n",
              "      <th>Age</th>\n",
              "      <th>Id</th>\n",
              "      <th>City</th>\n",
              "    </tr>\n",
              "  </thead>\n",
              "  <tbody>\n",
              "    <tr>\n",
              "      <th>0</th>\n",
              "      <td>Alice</td>\n",
              "      <td>25</td>\n",
              "      <td>10001</td>\n",
              "      <td>New York</td>\n",
              "    </tr>\n",
              "    <tr>\n",
              "      <th>1</th>\n",
              "      <td>Bob</td>\n",
              "      <td>30</td>\n",
              "      <td>10002</td>\n",
              "      <td>San Francisco</td>\n",
              "    </tr>\n",
              "  </tbody>\n",
              "</table>\n",
              "</div>\n",
              "    <div class=\"colab-df-buttons\">\n",
              "\n",
              "  <div class=\"colab-df-container\">\n",
              "    <button class=\"colab-df-convert\" onclick=\"convertToInteractive('df-b5149bc7-af25-442e-bde1-f38d4c6f978f')\"\n",
              "            title=\"Convert this dataframe to an interactive table.\"\n",
              "            style=\"display:none;\">\n",
              "\n",
              "  <svg xmlns=\"http://www.w3.org/2000/svg\" height=\"24px\" viewBox=\"0 -960 960 960\">\n",
              "    <path d=\"M120-120v-720h720v720H120Zm60-500h600v-160H180v160Zm220 220h160v-160H400v160Zm0 220h160v-160H400v160ZM180-400h160v-160H180v160Zm440 0h160v-160H620v160ZM180-180h160v-160H180v160Zm440 0h160v-160H620v160Z\"/>\n",
              "  </svg>\n",
              "    </button>\n",
              "\n",
              "  <style>\n",
              "    .colab-df-container {\n",
              "      display:flex;\n",
              "      gap: 12px;\n",
              "    }\n",
              "\n",
              "    .colab-df-convert {\n",
              "      background-color: #E8F0FE;\n",
              "      border: none;\n",
              "      border-radius: 50%;\n",
              "      cursor: pointer;\n",
              "      display: none;\n",
              "      fill: #1967D2;\n",
              "      height: 32px;\n",
              "      padding: 0 0 0 0;\n",
              "      width: 32px;\n",
              "    }\n",
              "\n",
              "    .colab-df-convert:hover {\n",
              "      background-color: #E2EBFA;\n",
              "      box-shadow: 0px 1px 2px rgba(60, 64, 67, 0.3), 0px 1px 3px 1px rgba(60, 64, 67, 0.15);\n",
              "      fill: #174EA6;\n",
              "    }\n",
              "\n",
              "    .colab-df-buttons div {\n",
              "      margin-bottom: 4px;\n",
              "    }\n",
              "\n",
              "    [theme=dark] .colab-df-convert {\n",
              "      background-color: #3B4455;\n",
              "      fill: #D2E3FC;\n",
              "    }\n",
              "\n",
              "    [theme=dark] .colab-df-convert:hover {\n",
              "      background-color: #434B5C;\n",
              "      box-shadow: 0px 1px 3px 1px rgba(0, 0, 0, 0.15);\n",
              "      filter: drop-shadow(0px 1px 2px rgba(0, 0, 0, 0.3));\n",
              "      fill: #FFFFFF;\n",
              "    }\n",
              "  </style>\n",
              "\n",
              "    <script>\n",
              "      const buttonEl =\n",
              "        document.querySelector('#df-b5149bc7-af25-442e-bde1-f38d4c6f978f button.colab-df-convert');\n",
              "      buttonEl.style.display =\n",
              "        google.colab.kernel.accessAllowed ? 'block' : 'none';\n",
              "\n",
              "      async function convertToInteractive(key) {\n",
              "        const element = document.querySelector('#df-b5149bc7-af25-442e-bde1-f38d4c6f978f');\n",
              "        const dataTable =\n",
              "          await google.colab.kernel.invokeFunction('convertToInteractive',\n",
              "                                                    [key], {});\n",
              "        if (!dataTable) return;\n",
              "\n",
              "        const docLinkHtml = 'Like what you see? Visit the ' +\n",
              "          '<a target=\"_blank\" href=https://colab.research.google.com/notebooks/data_table.ipynb>data table notebook</a>'\n",
              "          + ' to learn more about interactive tables.';\n",
              "        element.innerHTML = '';\n",
              "        dataTable['output_type'] = 'display_data';\n",
              "        await google.colab.output.renderOutput(dataTable, element);\n",
              "        const docLink = document.createElement('div');\n",
              "        docLink.innerHTML = docLinkHtml;\n",
              "        element.appendChild(docLink);\n",
              "      }\n",
              "    </script>\n",
              "  </div>\n",
              "\n",
              "\n",
              "<div id=\"df-eca009ad-592d-4c2b-8a8c-718a032aaf21\">\n",
              "  <button class=\"colab-df-quickchart\" onclick=\"quickchart('df-eca009ad-592d-4c2b-8a8c-718a032aaf21')\"\n",
              "            title=\"Suggest charts.\"\n",
              "            style=\"display:none;\">\n",
              "\n",
              "<svg xmlns=\"http://www.w3.org/2000/svg\" height=\"24px\"viewBox=\"0 0 24 24\"\n",
              "     width=\"24px\">\n",
              "    <g>\n",
              "        <path d=\"M19 3H5c-1.1 0-2 .9-2 2v14c0 1.1.9 2 2 2h14c1.1 0 2-.9 2-2V5c0-1.1-.9-2-2-2zM9 17H7v-7h2v7zm4 0h-2V7h2v10zm4 0h-2v-4h2v4z\"/>\n",
              "    </g>\n",
              "</svg>\n",
              "  </button>\n",
              "\n",
              "<style>\n",
              "  .colab-df-quickchart {\n",
              "      --bg-color: #E8F0FE;\n",
              "      --fill-color: #1967D2;\n",
              "      --hover-bg-color: #E2EBFA;\n",
              "      --hover-fill-color: #174EA6;\n",
              "      --disabled-fill-color: #AAA;\n",
              "      --disabled-bg-color: #DDD;\n",
              "  }\n",
              "\n",
              "  [theme=dark] .colab-df-quickchart {\n",
              "      --bg-color: #3B4455;\n",
              "      --fill-color: #D2E3FC;\n",
              "      --hover-bg-color: #434B5C;\n",
              "      --hover-fill-color: #FFFFFF;\n",
              "      --disabled-bg-color: #3B4455;\n",
              "      --disabled-fill-color: #666;\n",
              "  }\n",
              "\n",
              "  .colab-df-quickchart {\n",
              "    background-color: var(--bg-color);\n",
              "    border: none;\n",
              "    border-radius: 50%;\n",
              "    cursor: pointer;\n",
              "    display: none;\n",
              "    fill: var(--fill-color);\n",
              "    height: 32px;\n",
              "    padding: 0;\n",
              "    width: 32px;\n",
              "  }\n",
              "\n",
              "  .colab-df-quickchart:hover {\n",
              "    background-color: var(--hover-bg-color);\n",
              "    box-shadow: 0 1px 2px rgba(60, 64, 67, 0.3), 0 1px 3px 1px rgba(60, 64, 67, 0.15);\n",
              "    fill: var(--button-hover-fill-color);\n",
              "  }\n",
              "\n",
              "  .colab-df-quickchart-complete:disabled,\n",
              "  .colab-df-quickchart-complete:disabled:hover {\n",
              "    background-color: var(--disabled-bg-color);\n",
              "    fill: var(--disabled-fill-color);\n",
              "    box-shadow: none;\n",
              "  }\n",
              "\n",
              "  .colab-df-spinner {\n",
              "    border: 2px solid var(--fill-color);\n",
              "    border-color: transparent;\n",
              "    border-bottom-color: var(--fill-color);\n",
              "    animation:\n",
              "      spin 1s steps(1) infinite;\n",
              "  }\n",
              "\n",
              "  @keyframes spin {\n",
              "    0% {\n",
              "      border-color: transparent;\n",
              "      border-bottom-color: var(--fill-color);\n",
              "      border-left-color: var(--fill-color);\n",
              "    }\n",
              "    20% {\n",
              "      border-color: transparent;\n",
              "      border-left-color: var(--fill-color);\n",
              "      border-top-color: var(--fill-color);\n",
              "    }\n",
              "    30% {\n",
              "      border-color: transparent;\n",
              "      border-left-color: var(--fill-color);\n",
              "      border-top-color: var(--fill-color);\n",
              "      border-right-color: var(--fill-color);\n",
              "    }\n",
              "    40% {\n",
              "      border-color: transparent;\n",
              "      border-right-color: var(--fill-color);\n",
              "      border-top-color: var(--fill-color);\n",
              "    }\n",
              "    60% {\n",
              "      border-color: transparent;\n",
              "      border-right-color: var(--fill-color);\n",
              "    }\n",
              "    80% {\n",
              "      border-color: transparent;\n",
              "      border-right-color: var(--fill-color);\n",
              "      border-bottom-color: var(--fill-color);\n",
              "    }\n",
              "    90% {\n",
              "      border-color: transparent;\n",
              "      border-bottom-color: var(--fill-color);\n",
              "    }\n",
              "  }\n",
              "</style>\n",
              "\n",
              "  <script>\n",
              "    async function quickchart(key) {\n",
              "      const quickchartButtonEl =\n",
              "        document.querySelector('#' + key + ' button');\n",
              "      quickchartButtonEl.disabled = true;  // To prevent multiple clicks.\n",
              "      quickchartButtonEl.classList.add('colab-df-spinner');\n",
              "      try {\n",
              "        const charts = await google.colab.kernel.invokeFunction(\n",
              "            'suggestCharts', [key], {});\n",
              "      } catch (error) {\n",
              "        console.error('Error during call to suggestCharts:', error);\n",
              "      }\n",
              "      quickchartButtonEl.classList.remove('colab-df-spinner');\n",
              "      quickchartButtonEl.classList.add('colab-df-quickchart-complete');\n",
              "    }\n",
              "    (() => {\n",
              "      let quickchartButtonEl =\n",
              "        document.querySelector('#df-eca009ad-592d-4c2b-8a8c-718a032aaf21 button');\n",
              "      quickchartButtonEl.style.display =\n",
              "        google.colab.kernel.accessAllowed ? 'block' : 'none';\n",
              "    })();\n",
              "  </script>\n",
              "</div>\n",
              "    </div>\n",
              "  </div>\n"
            ]
          },
          "metadata": {},
          "execution_count": 80
        }
      ]
    },
    {
      "cell_type": "markdown",
      "source": [
        "To find out the number of rows, use `len(.)`"
      ],
      "metadata": {
        "id": "fR9aYyAL8ncW"
      }
    },
    {
      "cell_type": "code",
      "source": [
        "# print the number of rows in the DataFrame\n",
        "print(len(df))"
      ],
      "metadata": {
        "colab": {
          "base_uri": "https://localhost:8080/"
        },
        "id": "57EoI3C68qt8",
        "outputId": "699208b5-b130-41fe-df1a-6f5553ccdeb7"
      },
      "execution_count": null,
      "outputs": [
        {
          "output_type": "stream",
          "name": "stdout",
          "text": [
            "4\n"
          ]
        }
      ]
    },
    {
      "cell_type": "markdown",
      "source": [
        "If you need both the number of rows and the number of columns, use `shape`"
      ],
      "metadata": {
        "id": "kB_EjOT-BPO3"
      }
    },
    {
      "cell_type": "code",
      "source": [
        "df.shape"
      ],
      "metadata": {
        "colab": {
          "base_uri": "https://localhost:8080/"
        },
        "id": "Aow_V08DBT3Z",
        "outputId": "c58b40cf-142d-4a9c-d0fd-a8d74c1dff17"
      },
      "execution_count": null,
      "outputs": [
        {
          "output_type": "execute_result",
          "data": {
            "text/plain": [
              "(4, 4)"
            ]
          },
          "metadata": {},
          "execution_count": 82
        }
      ]
    },
    {
      "cell_type": "markdown",
      "source": [
        "##### Column operations"
      ],
      "metadata": {
        "id": "usyuuaoqNHuf"
      }
    },
    {
      "cell_type": "markdown",
      "source": [
        "You can see a specific column using the syntax `df[column_name]`:"
      ],
      "metadata": {
        "id": "AczO9D9HI1Bv"
      }
    },
    {
      "cell_type": "code",
      "source": [
        "# check out the column \"Age\" : this is a Series, with integer values\n",
        "df[\"Age\"]"
      ],
      "metadata": {
        "colab": {
          "base_uri": "https://localhost:8080/"
        },
        "id": "5vCUGSjwIkoE",
        "outputId": "f5fcaeee-ef06-4068-99e6-c69bdce5d3e6"
      },
      "execution_count": null,
      "outputs": [
        {
          "output_type": "execute_result",
          "data": {
            "text/plain": [
              "0    25\n",
              "1    30\n",
              "2    22\n",
              "3    28\n",
              "Name: Age, dtype: int64"
            ]
          },
          "metadata": {},
          "execution_count": 83
        }
      ]
    },
    {
      "cell_type": "markdown",
      "source": [
        "To rename a column, use the `rename(.)` DataFrame method"
      ],
      "metadata": {
        "id": "y9eKtGSmNMMH"
      }
    },
    {
      "cell_type": "code",
      "source": [
        "# rename the \"City\" column as 'Location' and the 'Age' as 'Years'\n",
        "df.rename(columns={'City': 'Location', 'Age': 'Years'}, inplace=True)\n",
        "display(df)"
      ],
      "metadata": {
        "colab": {
          "base_uri": "https://localhost:8080/",
          "height": 175
        },
        "id": "m-fVwaYhNb6V",
        "outputId": "8653347e-2ff5-4e9a-e107-8a52afd7859c"
      },
      "execution_count": null,
      "outputs": [
        {
          "output_type": "display_data",
          "data": {
            "text/plain": [
              "      Name  Years     Id       Location\n",
              "0    Alice     25  10001       New York\n",
              "1      Bob     30  10002  San Francisco\n",
              "2  Charlie     22  10003    Los Angeles\n",
              "3    David     28  10004        Chicago"
            ],
            "text/html": [
              "\n",
              "  <div id=\"df-16d4b5ce-c173-475b-9c29-1bffc6396c9d\" class=\"colab-df-container\">\n",
              "    <div>\n",
              "<style scoped>\n",
              "    .dataframe tbody tr th:only-of-type {\n",
              "        vertical-align: middle;\n",
              "    }\n",
              "\n",
              "    .dataframe tbody tr th {\n",
              "        vertical-align: top;\n",
              "    }\n",
              "\n",
              "    .dataframe thead th {\n",
              "        text-align: right;\n",
              "    }\n",
              "</style>\n",
              "<table border=\"1\" class=\"dataframe\">\n",
              "  <thead>\n",
              "    <tr style=\"text-align: right;\">\n",
              "      <th></th>\n",
              "      <th>Name</th>\n",
              "      <th>Years</th>\n",
              "      <th>Id</th>\n",
              "      <th>Location</th>\n",
              "    </tr>\n",
              "  </thead>\n",
              "  <tbody>\n",
              "    <tr>\n",
              "      <th>0</th>\n",
              "      <td>Alice</td>\n",
              "      <td>25</td>\n",
              "      <td>10001</td>\n",
              "      <td>New York</td>\n",
              "    </tr>\n",
              "    <tr>\n",
              "      <th>1</th>\n",
              "      <td>Bob</td>\n",
              "      <td>30</td>\n",
              "      <td>10002</td>\n",
              "      <td>San Francisco</td>\n",
              "    </tr>\n",
              "    <tr>\n",
              "      <th>2</th>\n",
              "      <td>Charlie</td>\n",
              "      <td>22</td>\n",
              "      <td>10003</td>\n",
              "      <td>Los Angeles</td>\n",
              "    </tr>\n",
              "    <tr>\n",
              "      <th>3</th>\n",
              "      <td>David</td>\n",
              "      <td>28</td>\n",
              "      <td>10004</td>\n",
              "      <td>Chicago</td>\n",
              "    </tr>\n",
              "  </tbody>\n",
              "</table>\n",
              "</div>\n",
              "    <div class=\"colab-df-buttons\">\n",
              "\n",
              "  <div class=\"colab-df-container\">\n",
              "    <button class=\"colab-df-convert\" onclick=\"convertToInteractive('df-16d4b5ce-c173-475b-9c29-1bffc6396c9d')\"\n",
              "            title=\"Convert this dataframe to an interactive table.\"\n",
              "            style=\"display:none;\">\n",
              "\n",
              "  <svg xmlns=\"http://www.w3.org/2000/svg\" height=\"24px\" viewBox=\"0 -960 960 960\">\n",
              "    <path d=\"M120-120v-720h720v720H120Zm60-500h600v-160H180v160Zm220 220h160v-160H400v160Zm0 220h160v-160H400v160ZM180-400h160v-160H180v160Zm440 0h160v-160H620v160ZM180-180h160v-160H180v160Zm440 0h160v-160H620v160Z\"/>\n",
              "  </svg>\n",
              "    </button>\n",
              "\n",
              "  <style>\n",
              "    .colab-df-container {\n",
              "      display:flex;\n",
              "      gap: 12px;\n",
              "    }\n",
              "\n",
              "    .colab-df-convert {\n",
              "      background-color: #E8F0FE;\n",
              "      border: none;\n",
              "      border-radius: 50%;\n",
              "      cursor: pointer;\n",
              "      display: none;\n",
              "      fill: #1967D2;\n",
              "      height: 32px;\n",
              "      padding: 0 0 0 0;\n",
              "      width: 32px;\n",
              "    }\n",
              "\n",
              "    .colab-df-convert:hover {\n",
              "      background-color: #E2EBFA;\n",
              "      box-shadow: 0px 1px 2px rgba(60, 64, 67, 0.3), 0px 1px 3px 1px rgba(60, 64, 67, 0.15);\n",
              "      fill: #174EA6;\n",
              "    }\n",
              "\n",
              "    .colab-df-buttons div {\n",
              "      margin-bottom: 4px;\n",
              "    }\n",
              "\n",
              "    [theme=dark] .colab-df-convert {\n",
              "      background-color: #3B4455;\n",
              "      fill: #D2E3FC;\n",
              "    }\n",
              "\n",
              "    [theme=dark] .colab-df-convert:hover {\n",
              "      background-color: #434B5C;\n",
              "      box-shadow: 0px 1px 3px 1px rgba(0, 0, 0, 0.15);\n",
              "      filter: drop-shadow(0px 1px 2px rgba(0, 0, 0, 0.3));\n",
              "      fill: #FFFFFF;\n",
              "    }\n",
              "  </style>\n",
              "\n",
              "    <script>\n",
              "      const buttonEl =\n",
              "        document.querySelector('#df-16d4b5ce-c173-475b-9c29-1bffc6396c9d button.colab-df-convert');\n",
              "      buttonEl.style.display =\n",
              "        google.colab.kernel.accessAllowed ? 'block' : 'none';\n",
              "\n",
              "      async function convertToInteractive(key) {\n",
              "        const element = document.querySelector('#df-16d4b5ce-c173-475b-9c29-1bffc6396c9d');\n",
              "        const dataTable =\n",
              "          await google.colab.kernel.invokeFunction('convertToInteractive',\n",
              "                                                    [key], {});\n",
              "        if (!dataTable) return;\n",
              "\n",
              "        const docLinkHtml = 'Like what you see? Visit the ' +\n",
              "          '<a target=\"_blank\" href=https://colab.research.google.com/notebooks/data_table.ipynb>data table notebook</a>'\n",
              "          + ' to learn more about interactive tables.';\n",
              "        element.innerHTML = '';\n",
              "        dataTable['output_type'] = 'display_data';\n",
              "        await google.colab.output.renderOutput(dataTable, element);\n",
              "        const docLink = document.createElement('div');\n",
              "        docLink.innerHTML = docLinkHtml;\n",
              "        element.appendChild(docLink);\n",
              "      }\n",
              "    </script>\n",
              "  </div>\n",
              "\n",
              "\n",
              "<div id=\"df-ddeb1141-9b11-4b0b-9fe6-1a773cdd214d\">\n",
              "  <button class=\"colab-df-quickchart\" onclick=\"quickchart('df-ddeb1141-9b11-4b0b-9fe6-1a773cdd214d')\"\n",
              "            title=\"Suggest charts.\"\n",
              "            style=\"display:none;\">\n",
              "\n",
              "<svg xmlns=\"http://www.w3.org/2000/svg\" height=\"24px\"viewBox=\"0 0 24 24\"\n",
              "     width=\"24px\">\n",
              "    <g>\n",
              "        <path d=\"M19 3H5c-1.1 0-2 .9-2 2v14c0 1.1.9 2 2 2h14c1.1 0 2-.9 2-2V5c0-1.1-.9-2-2-2zM9 17H7v-7h2v7zm4 0h-2V7h2v10zm4 0h-2v-4h2v4z\"/>\n",
              "    </g>\n",
              "</svg>\n",
              "  </button>\n",
              "\n",
              "<style>\n",
              "  .colab-df-quickchart {\n",
              "      --bg-color: #E8F0FE;\n",
              "      --fill-color: #1967D2;\n",
              "      --hover-bg-color: #E2EBFA;\n",
              "      --hover-fill-color: #174EA6;\n",
              "      --disabled-fill-color: #AAA;\n",
              "      --disabled-bg-color: #DDD;\n",
              "  }\n",
              "\n",
              "  [theme=dark] .colab-df-quickchart {\n",
              "      --bg-color: #3B4455;\n",
              "      --fill-color: #D2E3FC;\n",
              "      --hover-bg-color: #434B5C;\n",
              "      --hover-fill-color: #FFFFFF;\n",
              "      --disabled-bg-color: #3B4455;\n",
              "      --disabled-fill-color: #666;\n",
              "  }\n",
              "\n",
              "  .colab-df-quickchart {\n",
              "    background-color: var(--bg-color);\n",
              "    border: none;\n",
              "    border-radius: 50%;\n",
              "    cursor: pointer;\n",
              "    display: none;\n",
              "    fill: var(--fill-color);\n",
              "    height: 32px;\n",
              "    padding: 0;\n",
              "    width: 32px;\n",
              "  }\n",
              "\n",
              "  .colab-df-quickchart:hover {\n",
              "    background-color: var(--hover-bg-color);\n",
              "    box-shadow: 0 1px 2px rgba(60, 64, 67, 0.3), 0 1px 3px 1px rgba(60, 64, 67, 0.15);\n",
              "    fill: var(--button-hover-fill-color);\n",
              "  }\n",
              "\n",
              "  .colab-df-quickchart-complete:disabled,\n",
              "  .colab-df-quickchart-complete:disabled:hover {\n",
              "    background-color: var(--disabled-bg-color);\n",
              "    fill: var(--disabled-fill-color);\n",
              "    box-shadow: none;\n",
              "  }\n",
              "\n",
              "  .colab-df-spinner {\n",
              "    border: 2px solid var(--fill-color);\n",
              "    border-color: transparent;\n",
              "    border-bottom-color: var(--fill-color);\n",
              "    animation:\n",
              "      spin 1s steps(1) infinite;\n",
              "  }\n",
              "\n",
              "  @keyframes spin {\n",
              "    0% {\n",
              "      border-color: transparent;\n",
              "      border-bottom-color: var(--fill-color);\n",
              "      border-left-color: var(--fill-color);\n",
              "    }\n",
              "    20% {\n",
              "      border-color: transparent;\n",
              "      border-left-color: var(--fill-color);\n",
              "      border-top-color: var(--fill-color);\n",
              "    }\n",
              "    30% {\n",
              "      border-color: transparent;\n",
              "      border-left-color: var(--fill-color);\n",
              "      border-top-color: var(--fill-color);\n",
              "      border-right-color: var(--fill-color);\n",
              "    }\n",
              "    40% {\n",
              "      border-color: transparent;\n",
              "      border-right-color: var(--fill-color);\n",
              "      border-top-color: var(--fill-color);\n",
              "    }\n",
              "    60% {\n",
              "      border-color: transparent;\n",
              "      border-right-color: var(--fill-color);\n",
              "    }\n",
              "    80% {\n",
              "      border-color: transparent;\n",
              "      border-right-color: var(--fill-color);\n",
              "      border-bottom-color: var(--fill-color);\n",
              "    }\n",
              "    90% {\n",
              "      border-color: transparent;\n",
              "      border-bottom-color: var(--fill-color);\n",
              "    }\n",
              "  }\n",
              "</style>\n",
              "\n",
              "  <script>\n",
              "    async function quickchart(key) {\n",
              "      const quickchartButtonEl =\n",
              "        document.querySelector('#' + key + ' button');\n",
              "      quickchartButtonEl.disabled = true;  // To prevent multiple clicks.\n",
              "      quickchartButtonEl.classList.add('colab-df-spinner');\n",
              "      try {\n",
              "        const charts = await google.colab.kernel.invokeFunction(\n",
              "            'suggestCharts', [key], {});\n",
              "      } catch (error) {\n",
              "        console.error('Error during call to suggestCharts:', error);\n",
              "      }\n",
              "      quickchartButtonEl.classList.remove('colab-df-spinner');\n",
              "      quickchartButtonEl.classList.add('colab-df-quickchart-complete');\n",
              "    }\n",
              "    (() => {\n",
              "      let quickchartButtonEl =\n",
              "        document.querySelector('#df-ddeb1141-9b11-4b0b-9fe6-1a773cdd214d button');\n",
              "      quickchartButtonEl.style.display =\n",
              "        google.colab.kernel.accessAllowed ? 'block' : 'none';\n",
              "    })();\n",
              "  </script>\n",
              "</div>\n",
              "    </div>\n",
              "  </div>\n"
            ]
          },
          "metadata": {}
        }
      ]
    },
    {
      "cell_type": "markdown",
      "source": [
        "The argument `inplace`=True is needed to make sure that the DataFrame is actually changed (otherwise, the `rename` method just returns a new DataFrame, without changing the existing one)."
      ],
      "metadata": {
        "id": "H_sqo-Q6NqLx"
      }
    },
    {
      "cell_type": "markdown",
      "source": [
        "To obtain the names of all the columns, use the attribute `df.columns`."
      ],
      "metadata": {
        "id": "wfBLqTPPJT6Q"
      }
    },
    {
      "cell_type": "code",
      "source": [
        "# get all the column names\n",
        "df.columns"
      ],
      "metadata": {
        "colab": {
          "base_uri": "https://localhost:8080/"
        },
        "id": "EuAFJ_YeI0ng",
        "outputId": "8c196c76-8116-4a59-ec4f-1c608413bee1"
      },
      "execution_count": null,
      "outputs": [
        {
          "output_type": "execute_result",
          "data": {
            "text/plain": [
              "Index(['Name', 'Years', 'Id', 'Location'], dtype='object')"
            ]
          },
          "metadata": {},
          "execution_count": 85
        }
      ]
    },
    {
      "cell_type": "markdown",
      "source": [
        "As you can see, this returns an `Index` object (which we have not discussed), but you can iterate through it with a usual `for` loop or you can transform it into a regular Python List with the function `list`."
      ],
      "metadata": {
        "id": "r1X2VJ6TLdeq"
      }
    },
    {
      "cell_type": "code",
      "source": [
        "# let's iterate through the names of the columns with a for loop\n",
        "for c in df.columns:\n",
        "     print(c)\n",
        "\n",
        "# let's store the columns in a list and display the list\n",
        "column_names = list(df.columns)\n",
        "print(column_names)"
      ],
      "metadata": {
        "colab": {
          "base_uri": "https://localhost:8080/"
        },
        "id": "fOfUGtZdJyxI",
        "outputId": "97233bd8-bc62-4048-be3c-78cdd4973239"
      },
      "execution_count": null,
      "outputs": [
        {
          "output_type": "stream",
          "name": "stdout",
          "text": [
            "Name\n",
            "Years\n",
            "Id\n",
            "Location\n",
            "['Name', 'Years', 'Id', 'Location']\n"
          ]
        }
      ]
    },
    {
      "cell_type": "markdown",
      "source": [
        "<font color=red>**Warning!**</font>`df.columns` **is not a method**! If you use round brackets, you will get an error:"
      ],
      "metadata": {
        "id": "-RrpCWyKJzKE"
      }
    },
    {
      "cell_type": "code",
      "source": [
        "# # the following would generate an error!\n",
        "# df.columns()"
      ],
      "metadata": {
        "id": "rfUATKyXLWKN"
      },
      "execution_count": null,
      "outputs": []
    },
    {
      "cell_type": "markdown",
      "source": [
        "##### Row operations"
      ],
      "metadata": {
        "id": "9qmr877by_Lv"
      }
    },
    {
      "cell_type": "markdown",
      "source": [
        "To get all the row labels, used `df.index`."
      ],
      "metadata": {
        "id": "wjd4n-X_KN4n"
      }
    },
    {
      "cell_type": "code",
      "source": [
        "# get all the row labels\n",
        "df.index"
      ],
      "metadata": {
        "id": "bBPGyTRBKaqA",
        "colab": {
          "base_uri": "https://localhost:8080/"
        },
        "outputId": "f43174b9-8692-48f7-f198-ebd1b3cbd4e8"
      },
      "execution_count": null,
      "outputs": [
        {
          "output_type": "execute_result",
          "data": {
            "text/plain": [
              "RangeIndex(start=0, stop=4, step=1)"
            ]
          },
          "metadata": {},
          "execution_count": 89
        }
      ]
    },
    {
      "cell_type": "markdown",
      "source": [
        "This also returns an object (a `RangeIndex`), but you can readily loop through it with a `for` or store it as a list."
      ],
      "metadata": {
        "id": "TbTZ1u5yKmWx"
      }
    },
    {
      "cell_type": "code",
      "source": [
        "# let's iterate through the indices of all the rows\n",
        "for i in df.index:\n",
        "     print(i)\n",
        "\n",
        "# let's store the columns in a list and display the list\n",
        "row_idx = list(df.index)\n",
        "print(row_idx)"
      ],
      "metadata": {
        "id": "5P-FGaHOKw7L",
        "colab": {
          "base_uri": "https://localhost:8080/"
        },
        "outputId": "fb640e09-40de-4015-963f-42b039b79b41"
      },
      "execution_count": null,
      "outputs": [
        {
          "output_type": "stream",
          "name": "stdout",
          "text": [
            "0\n",
            "1\n",
            "2\n",
            "3\n",
            "[0, 1, 2, 3]\n"
          ]
        }
      ]
    },
    {
      "cell_type": "markdown",
      "source": [
        "To change the row labels used for the DataFrame:\n",
        " - to set these to the values of an existing column, use the `set_index` method\n",
        " - to set these to some Python list, assign the `index` attribute\n",
        "**Warning** To make sure you avoid ambiguities, the labels should always contain unique values."
      ],
      "metadata": {
        "id": "2lxLso3rM5nN"
      }
    },
    {
      "cell_type": "code",
      "source": [
        "# assign the index to the column 'Id', which in our case has unique id's\n",
        "df.set_index('Id', inplace=True)\n",
        "\n",
        "display(df)"
      ],
      "metadata": {
        "id": "WUqCEqPX7Tf6",
        "colab": {
          "base_uri": "https://localhost:8080/",
          "height": 206
        },
        "outputId": "bb049954-6787-47ed-ce56-5465452319b3"
      },
      "execution_count": null,
      "outputs": [
        {
          "output_type": "display_data",
          "data": {
            "text/plain": [
              "          Name  Years       Location\n",
              "Id                                  \n",
              "10001    Alice     25       New York\n",
              "10002      Bob     30  San Francisco\n",
              "10003  Charlie     22    Los Angeles\n",
              "10004    David     28        Chicago"
            ],
            "text/html": [
              "\n",
              "  <div id=\"df-0dd59084-b862-4f9a-91c6-7a09823c8115\" class=\"colab-df-container\">\n",
              "    <div>\n",
              "<style scoped>\n",
              "    .dataframe tbody tr th:only-of-type {\n",
              "        vertical-align: middle;\n",
              "    }\n",
              "\n",
              "    .dataframe tbody tr th {\n",
              "        vertical-align: top;\n",
              "    }\n",
              "\n",
              "    .dataframe thead th {\n",
              "        text-align: right;\n",
              "    }\n",
              "</style>\n",
              "<table border=\"1\" class=\"dataframe\">\n",
              "  <thead>\n",
              "    <tr style=\"text-align: right;\">\n",
              "      <th></th>\n",
              "      <th>Name</th>\n",
              "      <th>Years</th>\n",
              "      <th>Location</th>\n",
              "    </tr>\n",
              "    <tr>\n",
              "      <th>Id</th>\n",
              "      <th></th>\n",
              "      <th></th>\n",
              "      <th></th>\n",
              "    </tr>\n",
              "  </thead>\n",
              "  <tbody>\n",
              "    <tr>\n",
              "      <th>10001</th>\n",
              "      <td>Alice</td>\n",
              "      <td>25</td>\n",
              "      <td>New York</td>\n",
              "    </tr>\n",
              "    <tr>\n",
              "      <th>10002</th>\n",
              "      <td>Bob</td>\n",
              "      <td>30</td>\n",
              "      <td>San Francisco</td>\n",
              "    </tr>\n",
              "    <tr>\n",
              "      <th>10003</th>\n",
              "      <td>Charlie</td>\n",
              "      <td>22</td>\n",
              "      <td>Los Angeles</td>\n",
              "    </tr>\n",
              "    <tr>\n",
              "      <th>10004</th>\n",
              "      <td>David</td>\n",
              "      <td>28</td>\n",
              "      <td>Chicago</td>\n",
              "    </tr>\n",
              "  </tbody>\n",
              "</table>\n",
              "</div>\n",
              "    <div class=\"colab-df-buttons\">\n",
              "\n",
              "  <div class=\"colab-df-container\">\n",
              "    <button class=\"colab-df-convert\" onclick=\"convertToInteractive('df-0dd59084-b862-4f9a-91c6-7a09823c8115')\"\n",
              "            title=\"Convert this dataframe to an interactive table.\"\n",
              "            style=\"display:none;\">\n",
              "\n",
              "  <svg xmlns=\"http://www.w3.org/2000/svg\" height=\"24px\" viewBox=\"0 -960 960 960\">\n",
              "    <path d=\"M120-120v-720h720v720H120Zm60-500h600v-160H180v160Zm220 220h160v-160H400v160Zm0 220h160v-160H400v160ZM180-400h160v-160H180v160Zm440 0h160v-160H620v160ZM180-180h160v-160H180v160Zm440 0h160v-160H620v160Z\"/>\n",
              "  </svg>\n",
              "    </button>\n",
              "\n",
              "  <style>\n",
              "    .colab-df-container {\n",
              "      display:flex;\n",
              "      gap: 12px;\n",
              "    }\n",
              "\n",
              "    .colab-df-convert {\n",
              "      background-color: #E8F0FE;\n",
              "      border: none;\n",
              "      border-radius: 50%;\n",
              "      cursor: pointer;\n",
              "      display: none;\n",
              "      fill: #1967D2;\n",
              "      height: 32px;\n",
              "      padding: 0 0 0 0;\n",
              "      width: 32px;\n",
              "    }\n",
              "\n",
              "    .colab-df-convert:hover {\n",
              "      background-color: #E2EBFA;\n",
              "      box-shadow: 0px 1px 2px rgba(60, 64, 67, 0.3), 0px 1px 3px 1px rgba(60, 64, 67, 0.15);\n",
              "      fill: #174EA6;\n",
              "    }\n",
              "\n",
              "    .colab-df-buttons div {\n",
              "      margin-bottom: 4px;\n",
              "    }\n",
              "\n",
              "    [theme=dark] .colab-df-convert {\n",
              "      background-color: #3B4455;\n",
              "      fill: #D2E3FC;\n",
              "    }\n",
              "\n",
              "    [theme=dark] .colab-df-convert:hover {\n",
              "      background-color: #434B5C;\n",
              "      box-shadow: 0px 1px 3px 1px rgba(0, 0, 0, 0.15);\n",
              "      filter: drop-shadow(0px 1px 2px rgba(0, 0, 0, 0.3));\n",
              "      fill: #FFFFFF;\n",
              "    }\n",
              "  </style>\n",
              "\n",
              "    <script>\n",
              "      const buttonEl =\n",
              "        document.querySelector('#df-0dd59084-b862-4f9a-91c6-7a09823c8115 button.colab-df-convert');\n",
              "      buttonEl.style.display =\n",
              "        google.colab.kernel.accessAllowed ? 'block' : 'none';\n",
              "\n",
              "      async function convertToInteractive(key) {\n",
              "        const element = document.querySelector('#df-0dd59084-b862-4f9a-91c6-7a09823c8115');\n",
              "        const dataTable =\n",
              "          await google.colab.kernel.invokeFunction('convertToInteractive',\n",
              "                                                    [key], {});\n",
              "        if (!dataTable) return;\n",
              "\n",
              "        const docLinkHtml = 'Like what you see? Visit the ' +\n",
              "          '<a target=\"_blank\" href=https://colab.research.google.com/notebooks/data_table.ipynb>data table notebook</a>'\n",
              "          + ' to learn more about interactive tables.';\n",
              "        element.innerHTML = '';\n",
              "        dataTable['output_type'] = 'display_data';\n",
              "        await google.colab.output.renderOutput(dataTable, element);\n",
              "        const docLink = document.createElement('div');\n",
              "        docLink.innerHTML = docLinkHtml;\n",
              "        element.appendChild(docLink);\n",
              "      }\n",
              "    </script>\n",
              "  </div>\n",
              "\n",
              "\n",
              "<div id=\"df-1ed7094e-a2c5-4de0-b39b-6586a9691992\">\n",
              "  <button class=\"colab-df-quickchart\" onclick=\"quickchart('df-1ed7094e-a2c5-4de0-b39b-6586a9691992')\"\n",
              "            title=\"Suggest charts.\"\n",
              "            style=\"display:none;\">\n",
              "\n",
              "<svg xmlns=\"http://www.w3.org/2000/svg\" height=\"24px\"viewBox=\"0 0 24 24\"\n",
              "     width=\"24px\">\n",
              "    <g>\n",
              "        <path d=\"M19 3H5c-1.1 0-2 .9-2 2v14c0 1.1.9 2 2 2h14c1.1 0 2-.9 2-2V5c0-1.1-.9-2-2-2zM9 17H7v-7h2v7zm4 0h-2V7h2v10zm4 0h-2v-4h2v4z\"/>\n",
              "    </g>\n",
              "</svg>\n",
              "  </button>\n",
              "\n",
              "<style>\n",
              "  .colab-df-quickchart {\n",
              "      --bg-color: #E8F0FE;\n",
              "      --fill-color: #1967D2;\n",
              "      --hover-bg-color: #E2EBFA;\n",
              "      --hover-fill-color: #174EA6;\n",
              "      --disabled-fill-color: #AAA;\n",
              "      --disabled-bg-color: #DDD;\n",
              "  }\n",
              "\n",
              "  [theme=dark] .colab-df-quickchart {\n",
              "      --bg-color: #3B4455;\n",
              "      --fill-color: #D2E3FC;\n",
              "      --hover-bg-color: #434B5C;\n",
              "      --hover-fill-color: #FFFFFF;\n",
              "      --disabled-bg-color: #3B4455;\n",
              "      --disabled-fill-color: #666;\n",
              "  }\n",
              "\n",
              "  .colab-df-quickchart {\n",
              "    background-color: var(--bg-color);\n",
              "    border: none;\n",
              "    border-radius: 50%;\n",
              "    cursor: pointer;\n",
              "    display: none;\n",
              "    fill: var(--fill-color);\n",
              "    height: 32px;\n",
              "    padding: 0;\n",
              "    width: 32px;\n",
              "  }\n",
              "\n",
              "  .colab-df-quickchart:hover {\n",
              "    background-color: var(--hover-bg-color);\n",
              "    box-shadow: 0 1px 2px rgba(60, 64, 67, 0.3), 0 1px 3px 1px rgba(60, 64, 67, 0.15);\n",
              "    fill: var(--button-hover-fill-color);\n",
              "  }\n",
              "\n",
              "  .colab-df-quickchart-complete:disabled,\n",
              "  .colab-df-quickchart-complete:disabled:hover {\n",
              "    background-color: var(--disabled-bg-color);\n",
              "    fill: var(--disabled-fill-color);\n",
              "    box-shadow: none;\n",
              "  }\n",
              "\n",
              "  .colab-df-spinner {\n",
              "    border: 2px solid var(--fill-color);\n",
              "    border-color: transparent;\n",
              "    border-bottom-color: var(--fill-color);\n",
              "    animation:\n",
              "      spin 1s steps(1) infinite;\n",
              "  }\n",
              "\n",
              "  @keyframes spin {\n",
              "    0% {\n",
              "      border-color: transparent;\n",
              "      border-bottom-color: var(--fill-color);\n",
              "      border-left-color: var(--fill-color);\n",
              "    }\n",
              "    20% {\n",
              "      border-color: transparent;\n",
              "      border-left-color: var(--fill-color);\n",
              "      border-top-color: var(--fill-color);\n",
              "    }\n",
              "    30% {\n",
              "      border-color: transparent;\n",
              "      border-left-color: var(--fill-color);\n",
              "      border-top-color: var(--fill-color);\n",
              "      border-right-color: var(--fill-color);\n",
              "    }\n",
              "    40% {\n",
              "      border-color: transparent;\n",
              "      border-right-color: var(--fill-color);\n",
              "      border-top-color: var(--fill-color);\n",
              "    }\n",
              "    60% {\n",
              "      border-color: transparent;\n",
              "      border-right-color: var(--fill-color);\n",
              "    }\n",
              "    80% {\n",
              "      border-color: transparent;\n",
              "      border-right-color: var(--fill-color);\n",
              "      border-bottom-color: var(--fill-color);\n",
              "    }\n",
              "    90% {\n",
              "      border-color: transparent;\n",
              "      border-bottom-color: var(--fill-color);\n",
              "    }\n",
              "  }\n",
              "</style>\n",
              "\n",
              "  <script>\n",
              "    async function quickchart(key) {\n",
              "      const quickchartButtonEl =\n",
              "        document.querySelector('#' + key + ' button');\n",
              "      quickchartButtonEl.disabled = true;  // To prevent multiple clicks.\n",
              "      quickchartButtonEl.classList.add('colab-df-spinner');\n",
              "      try {\n",
              "        const charts = await google.colab.kernel.invokeFunction(\n",
              "            'suggestCharts', [key], {});\n",
              "      } catch (error) {\n",
              "        console.error('Error during call to suggestCharts:', error);\n",
              "      }\n",
              "      quickchartButtonEl.classList.remove('colab-df-spinner');\n",
              "      quickchartButtonEl.classList.add('colab-df-quickchart-complete');\n",
              "    }\n",
              "    (() => {\n",
              "      let quickchartButtonEl =\n",
              "        document.querySelector('#df-1ed7094e-a2c5-4de0-b39b-6586a9691992 button');\n",
              "      quickchartButtonEl.style.display =\n",
              "        google.colab.kernel.accessAllowed ? 'block' : 'none';\n",
              "    })();\n",
              "  </script>\n",
              "</div>\n",
              "    </div>\n",
              "  </div>\n"
            ]
          },
          "metadata": {}
        }
      ]
    },
    {
      "cell_type": "markdown",
      "source": [
        "As you can see, the row labels are now given by the \"Id\" column. Now let's set these to a, b, c, ..."
      ],
      "metadata": {
        "id": "7YuFrNBLM5ci"
      }
    },
    {
      "cell_type": "code",
      "source": [
        "# change the index to 0, 1, ...\n",
        "df.index = list(['a','b','c','d'])\n",
        "\n",
        "display(df)"
      ],
      "metadata": {
        "id": "iG6WNZkA8RVd",
        "colab": {
          "base_uri": "https://localhost:8080/",
          "height": 175
        },
        "outputId": "5df98734-9a5b-48ce-bbbc-83a09e4d69ab"
      },
      "execution_count": null,
      "outputs": [
        {
          "output_type": "display_data",
          "data": {
            "text/plain": [
              "      Name  Years       Location\n",
              "a    Alice     25       New York\n",
              "b      Bob     30  San Francisco\n",
              "c  Charlie     22    Los Angeles\n",
              "d    David     28        Chicago"
            ],
            "text/html": [
              "\n",
              "  <div id=\"df-7d849a46-9e0e-493b-8e53-42370c6dc171\" class=\"colab-df-container\">\n",
              "    <div>\n",
              "<style scoped>\n",
              "    .dataframe tbody tr th:only-of-type {\n",
              "        vertical-align: middle;\n",
              "    }\n",
              "\n",
              "    .dataframe tbody tr th {\n",
              "        vertical-align: top;\n",
              "    }\n",
              "\n",
              "    .dataframe thead th {\n",
              "        text-align: right;\n",
              "    }\n",
              "</style>\n",
              "<table border=\"1\" class=\"dataframe\">\n",
              "  <thead>\n",
              "    <tr style=\"text-align: right;\">\n",
              "      <th></th>\n",
              "      <th>Name</th>\n",
              "      <th>Years</th>\n",
              "      <th>Location</th>\n",
              "    </tr>\n",
              "  </thead>\n",
              "  <tbody>\n",
              "    <tr>\n",
              "      <th>a</th>\n",
              "      <td>Alice</td>\n",
              "      <td>25</td>\n",
              "      <td>New York</td>\n",
              "    </tr>\n",
              "    <tr>\n",
              "      <th>b</th>\n",
              "      <td>Bob</td>\n",
              "      <td>30</td>\n",
              "      <td>San Francisco</td>\n",
              "    </tr>\n",
              "    <tr>\n",
              "      <th>c</th>\n",
              "      <td>Charlie</td>\n",
              "      <td>22</td>\n",
              "      <td>Los Angeles</td>\n",
              "    </tr>\n",
              "    <tr>\n",
              "      <th>d</th>\n",
              "      <td>David</td>\n",
              "      <td>28</td>\n",
              "      <td>Chicago</td>\n",
              "    </tr>\n",
              "  </tbody>\n",
              "</table>\n",
              "</div>\n",
              "    <div class=\"colab-df-buttons\">\n",
              "\n",
              "  <div class=\"colab-df-container\">\n",
              "    <button class=\"colab-df-convert\" onclick=\"convertToInteractive('df-7d849a46-9e0e-493b-8e53-42370c6dc171')\"\n",
              "            title=\"Convert this dataframe to an interactive table.\"\n",
              "            style=\"display:none;\">\n",
              "\n",
              "  <svg xmlns=\"http://www.w3.org/2000/svg\" height=\"24px\" viewBox=\"0 -960 960 960\">\n",
              "    <path d=\"M120-120v-720h720v720H120Zm60-500h600v-160H180v160Zm220 220h160v-160H400v160Zm0 220h160v-160H400v160ZM180-400h160v-160H180v160Zm440 0h160v-160H620v160ZM180-180h160v-160H180v160Zm440 0h160v-160H620v160Z\"/>\n",
              "  </svg>\n",
              "    </button>\n",
              "\n",
              "  <style>\n",
              "    .colab-df-container {\n",
              "      display:flex;\n",
              "      gap: 12px;\n",
              "    }\n",
              "\n",
              "    .colab-df-convert {\n",
              "      background-color: #E8F0FE;\n",
              "      border: none;\n",
              "      border-radius: 50%;\n",
              "      cursor: pointer;\n",
              "      display: none;\n",
              "      fill: #1967D2;\n",
              "      height: 32px;\n",
              "      padding: 0 0 0 0;\n",
              "      width: 32px;\n",
              "    }\n",
              "\n",
              "    .colab-df-convert:hover {\n",
              "      background-color: #E2EBFA;\n",
              "      box-shadow: 0px 1px 2px rgba(60, 64, 67, 0.3), 0px 1px 3px 1px rgba(60, 64, 67, 0.15);\n",
              "      fill: #174EA6;\n",
              "    }\n",
              "\n",
              "    .colab-df-buttons div {\n",
              "      margin-bottom: 4px;\n",
              "    }\n",
              "\n",
              "    [theme=dark] .colab-df-convert {\n",
              "      background-color: #3B4455;\n",
              "      fill: #D2E3FC;\n",
              "    }\n",
              "\n",
              "    [theme=dark] .colab-df-convert:hover {\n",
              "      background-color: #434B5C;\n",
              "      box-shadow: 0px 1px 3px 1px rgba(0, 0, 0, 0.15);\n",
              "      filter: drop-shadow(0px 1px 2px rgba(0, 0, 0, 0.3));\n",
              "      fill: #FFFFFF;\n",
              "    }\n",
              "  </style>\n",
              "\n",
              "    <script>\n",
              "      const buttonEl =\n",
              "        document.querySelector('#df-7d849a46-9e0e-493b-8e53-42370c6dc171 button.colab-df-convert');\n",
              "      buttonEl.style.display =\n",
              "        google.colab.kernel.accessAllowed ? 'block' : 'none';\n",
              "\n",
              "      async function convertToInteractive(key) {\n",
              "        const element = document.querySelector('#df-7d849a46-9e0e-493b-8e53-42370c6dc171');\n",
              "        const dataTable =\n",
              "          await google.colab.kernel.invokeFunction('convertToInteractive',\n",
              "                                                    [key], {});\n",
              "        if (!dataTable) return;\n",
              "\n",
              "        const docLinkHtml = 'Like what you see? Visit the ' +\n",
              "          '<a target=\"_blank\" href=https://colab.research.google.com/notebooks/data_table.ipynb>data table notebook</a>'\n",
              "          + ' to learn more about interactive tables.';\n",
              "        element.innerHTML = '';\n",
              "        dataTable['output_type'] = 'display_data';\n",
              "        await google.colab.output.renderOutput(dataTable, element);\n",
              "        const docLink = document.createElement('div');\n",
              "        docLink.innerHTML = docLinkHtml;\n",
              "        element.appendChild(docLink);\n",
              "      }\n",
              "    </script>\n",
              "  </div>\n",
              "\n",
              "\n",
              "<div id=\"df-d7e7166c-ff85-4878-b7ac-85f6a3f29346\">\n",
              "  <button class=\"colab-df-quickchart\" onclick=\"quickchart('df-d7e7166c-ff85-4878-b7ac-85f6a3f29346')\"\n",
              "            title=\"Suggest charts.\"\n",
              "            style=\"display:none;\">\n",
              "\n",
              "<svg xmlns=\"http://www.w3.org/2000/svg\" height=\"24px\"viewBox=\"0 0 24 24\"\n",
              "     width=\"24px\">\n",
              "    <g>\n",
              "        <path d=\"M19 3H5c-1.1 0-2 .9-2 2v14c0 1.1.9 2 2 2h14c1.1 0 2-.9 2-2V5c0-1.1-.9-2-2-2zM9 17H7v-7h2v7zm4 0h-2V7h2v10zm4 0h-2v-4h2v4z\"/>\n",
              "    </g>\n",
              "</svg>\n",
              "  </button>\n",
              "\n",
              "<style>\n",
              "  .colab-df-quickchart {\n",
              "      --bg-color: #E8F0FE;\n",
              "      --fill-color: #1967D2;\n",
              "      --hover-bg-color: #E2EBFA;\n",
              "      --hover-fill-color: #174EA6;\n",
              "      --disabled-fill-color: #AAA;\n",
              "      --disabled-bg-color: #DDD;\n",
              "  }\n",
              "\n",
              "  [theme=dark] .colab-df-quickchart {\n",
              "      --bg-color: #3B4455;\n",
              "      --fill-color: #D2E3FC;\n",
              "      --hover-bg-color: #434B5C;\n",
              "      --hover-fill-color: #FFFFFF;\n",
              "      --disabled-bg-color: #3B4455;\n",
              "      --disabled-fill-color: #666;\n",
              "  }\n",
              "\n",
              "  .colab-df-quickchart {\n",
              "    background-color: var(--bg-color);\n",
              "    border: none;\n",
              "    border-radius: 50%;\n",
              "    cursor: pointer;\n",
              "    display: none;\n",
              "    fill: var(--fill-color);\n",
              "    height: 32px;\n",
              "    padding: 0;\n",
              "    width: 32px;\n",
              "  }\n",
              "\n",
              "  .colab-df-quickchart:hover {\n",
              "    background-color: var(--hover-bg-color);\n",
              "    box-shadow: 0 1px 2px rgba(60, 64, 67, 0.3), 0 1px 3px 1px rgba(60, 64, 67, 0.15);\n",
              "    fill: var(--button-hover-fill-color);\n",
              "  }\n",
              "\n",
              "  .colab-df-quickchart-complete:disabled,\n",
              "  .colab-df-quickchart-complete:disabled:hover {\n",
              "    background-color: var(--disabled-bg-color);\n",
              "    fill: var(--disabled-fill-color);\n",
              "    box-shadow: none;\n",
              "  }\n",
              "\n",
              "  .colab-df-spinner {\n",
              "    border: 2px solid var(--fill-color);\n",
              "    border-color: transparent;\n",
              "    border-bottom-color: var(--fill-color);\n",
              "    animation:\n",
              "      spin 1s steps(1) infinite;\n",
              "  }\n",
              "\n",
              "  @keyframes spin {\n",
              "    0% {\n",
              "      border-color: transparent;\n",
              "      border-bottom-color: var(--fill-color);\n",
              "      border-left-color: var(--fill-color);\n",
              "    }\n",
              "    20% {\n",
              "      border-color: transparent;\n",
              "      border-left-color: var(--fill-color);\n",
              "      border-top-color: var(--fill-color);\n",
              "    }\n",
              "    30% {\n",
              "      border-color: transparent;\n",
              "      border-left-color: var(--fill-color);\n",
              "      border-top-color: var(--fill-color);\n",
              "      border-right-color: var(--fill-color);\n",
              "    }\n",
              "    40% {\n",
              "      border-color: transparent;\n",
              "      border-right-color: var(--fill-color);\n",
              "      border-top-color: var(--fill-color);\n",
              "    }\n",
              "    60% {\n",
              "      border-color: transparent;\n",
              "      border-right-color: var(--fill-color);\n",
              "    }\n",
              "    80% {\n",
              "      border-color: transparent;\n",
              "      border-right-color: var(--fill-color);\n",
              "      border-bottom-color: var(--fill-color);\n",
              "    }\n",
              "    90% {\n",
              "      border-color: transparent;\n",
              "      border-bottom-color: var(--fill-color);\n",
              "    }\n",
              "  }\n",
              "</style>\n",
              "\n",
              "  <script>\n",
              "    async function quickchart(key) {\n",
              "      const quickchartButtonEl =\n",
              "        document.querySelector('#' + key + ' button');\n",
              "      quickchartButtonEl.disabled = true;  // To prevent multiple clicks.\n",
              "      quickchartButtonEl.classList.add('colab-df-spinner');\n",
              "      try {\n",
              "        const charts = await google.colab.kernel.invokeFunction(\n",
              "            'suggestCharts', [key], {});\n",
              "      } catch (error) {\n",
              "        console.error('Error during call to suggestCharts:', error);\n",
              "      }\n",
              "      quickchartButtonEl.classList.remove('colab-df-spinner');\n",
              "      quickchartButtonEl.classList.add('colab-df-quickchart-complete');\n",
              "    }\n",
              "    (() => {\n",
              "      let quickchartButtonEl =\n",
              "        document.querySelector('#df-d7e7166c-ff85-4878-b7ac-85f6a3f29346 button');\n",
              "      quickchartButtonEl.style.display =\n",
              "        google.colab.kernel.accessAllowed ? 'block' : 'none';\n",
              "    })();\n",
              "  </script>\n",
              "</div>\n",
              "    </div>\n",
              "  </div>\n"
            ]
          },
          "metadata": {}
        }
      ]
    },
    {
      "cell_type": "markdown",
      "source": [
        "##### Retrieve elements\n",
        "One of the most important operations with a DataFrame is to retrieve an element located at a certain row and column."
      ],
      "metadata": {
        "id": "GPQRmi7p9sHB"
      }
    },
    {
      "cell_type": "markdown",
      "source": [
        "If you know the row and column labels, there are two approaches:\n",
        " 1. use `df[column_label][row_label]`\n",
        " 2. use `df.loc[row_label, column_label]`\n",
        "\n",
        "First time you see this, it might look a bit confusing, especially because the order or rows/columns is switched! Recall that `df[column_label]` from approach (1) returns the `Series` corresponding to the column named `column_label`, so then, applying `[row_label]` to that simply returns the element at the `[row_label]` location. In contrast, (2) is the (arguably more natural) approach of indexing first with the row and then the column. Let's see them in action:"
      ],
      "metadata": {
        "id": "N1pTsjOS9RS4"
      }
    },
    {
      "cell_type": "code",
      "source": [
        "# let's get the element on row 'c' and column \"Years\"\n",
        "print(df[\"Years\"]['c'])   # approach 1\n",
        "print(df.loc['c',\"Years\"])    # approach 2"
      ],
      "metadata": {
        "id": "cknhcMss-XzM",
        "colab": {
          "base_uri": "https://localhost:8080/"
        },
        "outputId": "5ae5f1b5-caf9-4683-9aec-5cac781effa2"
      },
      "execution_count": null,
      "outputs": [
        {
          "output_type": "stream",
          "name": "stdout",
          "text": [
            "22\n",
            "22\n"
          ]
        }
      ]
    },
    {
      "cell_type": "markdown",
      "source": [
        "`df.loc` actually allows you to recover several rows and columns (i.e., an entire sub-table) of the DataFrame"
      ],
      "metadata": {
        "id": "VMhlBu5I_44a"
      }
    },
    {
      "cell_type": "code",
      "source": [
        "df.loc['c':'e',[\"Name\", \"Location\"]]"
      ],
      "metadata": {
        "id": "V-1FWwCi_4IS",
        "colab": {
          "base_uri": "https://localhost:8080/",
          "height": 112
        },
        "outputId": "bf9c45ac-1667-4ab4-cad2-ecbe67b668e0"
      },
      "execution_count": null,
      "outputs": [
        {
          "output_type": "execute_result",
          "data": {
            "text/plain": [
              "      Name     Location\n",
              "c  Charlie  Los Angeles\n",
              "d    David      Chicago"
            ],
            "text/html": [
              "\n",
              "  <div id=\"df-4ed02e88-3cae-4d09-900a-f2160304c2c7\" class=\"colab-df-container\">\n",
              "    <div>\n",
              "<style scoped>\n",
              "    .dataframe tbody tr th:only-of-type {\n",
              "        vertical-align: middle;\n",
              "    }\n",
              "\n",
              "    .dataframe tbody tr th {\n",
              "        vertical-align: top;\n",
              "    }\n",
              "\n",
              "    .dataframe thead th {\n",
              "        text-align: right;\n",
              "    }\n",
              "</style>\n",
              "<table border=\"1\" class=\"dataframe\">\n",
              "  <thead>\n",
              "    <tr style=\"text-align: right;\">\n",
              "      <th></th>\n",
              "      <th>Name</th>\n",
              "      <th>Location</th>\n",
              "    </tr>\n",
              "  </thead>\n",
              "  <tbody>\n",
              "    <tr>\n",
              "      <th>c</th>\n",
              "      <td>Charlie</td>\n",
              "      <td>Los Angeles</td>\n",
              "    </tr>\n",
              "    <tr>\n",
              "      <th>d</th>\n",
              "      <td>David</td>\n",
              "      <td>Chicago</td>\n",
              "    </tr>\n",
              "  </tbody>\n",
              "</table>\n",
              "</div>\n",
              "    <div class=\"colab-df-buttons\">\n",
              "\n",
              "  <div class=\"colab-df-container\">\n",
              "    <button class=\"colab-df-convert\" onclick=\"convertToInteractive('df-4ed02e88-3cae-4d09-900a-f2160304c2c7')\"\n",
              "            title=\"Convert this dataframe to an interactive table.\"\n",
              "            style=\"display:none;\">\n",
              "\n",
              "  <svg xmlns=\"http://www.w3.org/2000/svg\" height=\"24px\" viewBox=\"0 -960 960 960\">\n",
              "    <path d=\"M120-120v-720h720v720H120Zm60-500h600v-160H180v160Zm220 220h160v-160H400v160Zm0 220h160v-160H400v160ZM180-400h160v-160H180v160Zm440 0h160v-160H620v160ZM180-180h160v-160H180v160Zm440 0h160v-160H620v160Z\"/>\n",
              "  </svg>\n",
              "    </button>\n",
              "\n",
              "  <style>\n",
              "    .colab-df-container {\n",
              "      display:flex;\n",
              "      gap: 12px;\n",
              "    }\n",
              "\n",
              "    .colab-df-convert {\n",
              "      background-color: #E8F0FE;\n",
              "      border: none;\n",
              "      border-radius: 50%;\n",
              "      cursor: pointer;\n",
              "      display: none;\n",
              "      fill: #1967D2;\n",
              "      height: 32px;\n",
              "      padding: 0 0 0 0;\n",
              "      width: 32px;\n",
              "    }\n",
              "\n",
              "    .colab-df-convert:hover {\n",
              "      background-color: #E2EBFA;\n",
              "      box-shadow: 0px 1px 2px rgba(60, 64, 67, 0.3), 0px 1px 3px 1px rgba(60, 64, 67, 0.15);\n",
              "      fill: #174EA6;\n",
              "    }\n",
              "\n",
              "    .colab-df-buttons div {\n",
              "      margin-bottom: 4px;\n",
              "    }\n",
              "\n",
              "    [theme=dark] .colab-df-convert {\n",
              "      background-color: #3B4455;\n",
              "      fill: #D2E3FC;\n",
              "    }\n",
              "\n",
              "    [theme=dark] .colab-df-convert:hover {\n",
              "      background-color: #434B5C;\n",
              "      box-shadow: 0px 1px 3px 1px rgba(0, 0, 0, 0.15);\n",
              "      filter: drop-shadow(0px 1px 2px rgba(0, 0, 0, 0.3));\n",
              "      fill: #FFFFFF;\n",
              "    }\n",
              "  </style>\n",
              "\n",
              "    <script>\n",
              "      const buttonEl =\n",
              "        document.querySelector('#df-4ed02e88-3cae-4d09-900a-f2160304c2c7 button.colab-df-convert');\n",
              "      buttonEl.style.display =\n",
              "        google.colab.kernel.accessAllowed ? 'block' : 'none';\n",
              "\n",
              "      async function convertToInteractive(key) {\n",
              "        const element = document.querySelector('#df-4ed02e88-3cae-4d09-900a-f2160304c2c7');\n",
              "        const dataTable =\n",
              "          await google.colab.kernel.invokeFunction('convertToInteractive',\n",
              "                                                    [key], {});\n",
              "        if (!dataTable) return;\n",
              "\n",
              "        const docLinkHtml = 'Like what you see? Visit the ' +\n",
              "          '<a target=\"_blank\" href=https://colab.research.google.com/notebooks/data_table.ipynb>data table notebook</a>'\n",
              "          + ' to learn more about interactive tables.';\n",
              "        element.innerHTML = '';\n",
              "        dataTable['output_type'] = 'display_data';\n",
              "        await google.colab.output.renderOutput(dataTable, element);\n",
              "        const docLink = document.createElement('div');\n",
              "        docLink.innerHTML = docLinkHtml;\n",
              "        element.appendChild(docLink);\n",
              "      }\n",
              "    </script>\n",
              "  </div>\n",
              "\n",
              "\n",
              "<div id=\"df-0f89b1b7-9127-4bf3-94e6-6039a4ba4670\">\n",
              "  <button class=\"colab-df-quickchart\" onclick=\"quickchart('df-0f89b1b7-9127-4bf3-94e6-6039a4ba4670')\"\n",
              "            title=\"Suggest charts.\"\n",
              "            style=\"display:none;\">\n",
              "\n",
              "<svg xmlns=\"http://www.w3.org/2000/svg\" height=\"24px\"viewBox=\"0 0 24 24\"\n",
              "     width=\"24px\">\n",
              "    <g>\n",
              "        <path d=\"M19 3H5c-1.1 0-2 .9-2 2v14c0 1.1.9 2 2 2h14c1.1 0 2-.9 2-2V5c0-1.1-.9-2-2-2zM9 17H7v-7h2v7zm4 0h-2V7h2v10zm4 0h-2v-4h2v4z\"/>\n",
              "    </g>\n",
              "</svg>\n",
              "  </button>\n",
              "\n",
              "<style>\n",
              "  .colab-df-quickchart {\n",
              "      --bg-color: #E8F0FE;\n",
              "      --fill-color: #1967D2;\n",
              "      --hover-bg-color: #E2EBFA;\n",
              "      --hover-fill-color: #174EA6;\n",
              "      --disabled-fill-color: #AAA;\n",
              "      --disabled-bg-color: #DDD;\n",
              "  }\n",
              "\n",
              "  [theme=dark] .colab-df-quickchart {\n",
              "      --bg-color: #3B4455;\n",
              "      --fill-color: #D2E3FC;\n",
              "      --hover-bg-color: #434B5C;\n",
              "      --hover-fill-color: #FFFFFF;\n",
              "      --disabled-bg-color: #3B4455;\n",
              "      --disabled-fill-color: #666;\n",
              "  }\n",
              "\n",
              "  .colab-df-quickchart {\n",
              "    background-color: var(--bg-color);\n",
              "    border: none;\n",
              "    border-radius: 50%;\n",
              "    cursor: pointer;\n",
              "    display: none;\n",
              "    fill: var(--fill-color);\n",
              "    height: 32px;\n",
              "    padding: 0;\n",
              "    width: 32px;\n",
              "  }\n",
              "\n",
              "  .colab-df-quickchart:hover {\n",
              "    background-color: var(--hover-bg-color);\n",
              "    box-shadow: 0 1px 2px rgba(60, 64, 67, 0.3), 0 1px 3px 1px rgba(60, 64, 67, 0.15);\n",
              "    fill: var(--button-hover-fill-color);\n",
              "  }\n",
              "\n",
              "  .colab-df-quickchart-complete:disabled,\n",
              "  .colab-df-quickchart-complete:disabled:hover {\n",
              "    background-color: var(--disabled-bg-color);\n",
              "    fill: var(--disabled-fill-color);\n",
              "    box-shadow: none;\n",
              "  }\n",
              "\n",
              "  .colab-df-spinner {\n",
              "    border: 2px solid var(--fill-color);\n",
              "    border-color: transparent;\n",
              "    border-bottom-color: var(--fill-color);\n",
              "    animation:\n",
              "      spin 1s steps(1) infinite;\n",
              "  }\n",
              "\n",
              "  @keyframes spin {\n",
              "    0% {\n",
              "      border-color: transparent;\n",
              "      border-bottom-color: var(--fill-color);\n",
              "      border-left-color: var(--fill-color);\n",
              "    }\n",
              "    20% {\n",
              "      border-color: transparent;\n",
              "      border-left-color: var(--fill-color);\n",
              "      border-top-color: var(--fill-color);\n",
              "    }\n",
              "    30% {\n",
              "      border-color: transparent;\n",
              "      border-left-color: var(--fill-color);\n",
              "      border-top-color: var(--fill-color);\n",
              "      border-right-color: var(--fill-color);\n",
              "    }\n",
              "    40% {\n",
              "      border-color: transparent;\n",
              "      border-right-color: var(--fill-color);\n",
              "      border-top-color: var(--fill-color);\n",
              "    }\n",
              "    60% {\n",
              "      border-color: transparent;\n",
              "      border-right-color: var(--fill-color);\n",
              "    }\n",
              "    80% {\n",
              "      border-color: transparent;\n",
              "      border-right-color: var(--fill-color);\n",
              "      border-bottom-color: var(--fill-color);\n",
              "    }\n",
              "    90% {\n",
              "      border-color: transparent;\n",
              "      border-bottom-color: var(--fill-color);\n",
              "    }\n",
              "  }\n",
              "</style>\n",
              "\n",
              "  <script>\n",
              "    async function quickchart(key) {\n",
              "      const quickchartButtonEl =\n",
              "        document.querySelector('#' + key + ' button');\n",
              "      quickchartButtonEl.disabled = true;  // To prevent multiple clicks.\n",
              "      quickchartButtonEl.classList.add('colab-df-spinner');\n",
              "      try {\n",
              "        const charts = await google.colab.kernel.invokeFunction(\n",
              "            'suggestCharts', [key], {});\n",
              "      } catch (error) {\n",
              "        console.error('Error during call to suggestCharts:', error);\n",
              "      }\n",
              "      quickchartButtonEl.classList.remove('colab-df-spinner');\n",
              "      quickchartButtonEl.classList.add('colab-df-quickchart-complete');\n",
              "    }\n",
              "    (() => {\n",
              "      let quickchartButtonEl =\n",
              "        document.querySelector('#df-0f89b1b7-9127-4bf3-94e6-6039a4ba4670 button');\n",
              "      quickchartButtonEl.style.display =\n",
              "        google.colab.kernel.accessAllowed ? 'block' : 'none';\n",
              "    })();\n",
              "  </script>\n",
              "</div>\n",
              "    </div>\n",
              "  </div>\n"
            ]
          },
          "metadata": {},
          "execution_count": 94
        }
      ]
    },
    {
      "cell_type": "markdown",
      "source": [
        "Another option is to index into the DataFrame using entirely numeric indices, using `iloc`, with syntax:\n",
        "> `df.iloc[numeric_row_index, numeric_column_index]`\n",
        "\n",
        "To not get confused here, remember that Python uses 0-based indexing (and the very first column, which lists the row labels, does not count as a proper column)."
      ],
      "metadata": {
        "id": "8XTlzm0MHOdW"
      }
    },
    {
      "cell_type": "code",
      "source": [
        "# let's retrieve the element in row 1 and column 1\n",
        "df.iloc[0, 0]"
      ],
      "metadata": {
        "id": "OYGcKwhwGeW1",
        "colab": {
          "base_uri": "https://localhost:8080/",
          "height": 35
        },
        "outputId": "60c60f9a-2fef-4df5-e146-629a0b67de42"
      },
      "execution_count": null,
      "outputs": [
        {
          "output_type": "execute_result",
          "data": {
            "text/plain": [
              "'Alice'"
            ],
            "application/vnd.google.colaboratory.intrinsic+json": {
              "type": "string"
            }
          },
          "metadata": {},
          "execution_count": 95
        }
      ]
    },
    {
      "cell_type": "markdown",
      "source": [
        "##### Looping\n",
        "To loop through the elements in a row or a column (or a sub-table), you can just use a regular `for` loop"
      ],
      "metadata": {
        "id": "NJ9Hg79qAWBX"
      }
    },
    {
      "cell_type": "code",
      "source": [
        "# let's loop through the entire DataFrame on columns\n",
        "for c in list(df.columns):\n",
        "    # for every column\n",
        "    for r in list(df.index):\n",
        "        # for every row\n",
        "        print(df.loc[r,c])"
      ],
      "metadata": {
        "id": "_R6RczF8Af-7",
        "colab": {
          "base_uri": "https://localhost:8080/"
        },
        "outputId": "6d7f1577-3464-4966-d4fb-4b2a04b968ea"
      },
      "execution_count": null,
      "outputs": [
        {
          "output_type": "stream",
          "name": "stdout",
          "text": [
            "Alice\n",
            "Bob\n",
            "Charlie\n",
            "David\n",
            "25\n",
            "30\n",
            "22\n",
            "28\n",
            "New York\n",
            "San Francisco\n",
            "Los Angeles\n",
            "Chicago\n"
          ]
        }
      ]
    },
    {
      "cell_type": "code",
      "source": [
        "# now let's loop on rows, and using numeric indexing\n",
        "(num_rows, num_cols) = df.shape\n",
        "for r in range(num_rows):\n",
        "    # for every row\n",
        "    for c in range(num_cols):\n",
        "        # for every column\n",
        "        print(df.iloc[r,c])"
      ],
      "metadata": {
        "id": "XlxPDhihA2hC",
        "colab": {
          "base_uri": "https://localhost:8080/"
        },
        "outputId": "be500f90-93ea-4aa9-e875-4aed3c408785"
      },
      "execution_count": null,
      "outputs": [
        {
          "output_type": "stream",
          "name": "stdout",
          "text": [
            "Alice\n",
            "25\n",
            "New York\n",
            "Bob\n",
            "30\n",
            "San Francisco\n",
            "Charlie\n",
            "22\n",
            "Los Angeles\n",
            "David\n",
            "28\n",
            "Chicago\n"
          ]
        }
      ]
    },
    {
      "cell_type": "markdown",
      "source": [
        "Depending on what calculation you need, looping with `for` loops like above may not be the best approach; instead, we may want to use a list comprehension (something we will do often together) or one of the built-in DataFrame functions. `DataFrames` and more broadly the `pandas` module have a lot of powerful functionality built-in, and you will likely explore more of that in your D&D class. For now, if you want more details, you can check out one of the many tutorials available online (e.g., <a href=\"https://www.datacamp.com/tutorial/pandas-tutorial-dataframe-python\">the DataCamp one</a>) or <a href=\"https://pandas.pydata.org/docs/reference/frame.html\">the official Python manual</a>."
      ],
      "metadata": {
        "id": "KOQKLuBH6Ee9"
      }
    },
    {
      "cell_type": "markdown",
      "source": [
        "### Reading data files\n",
        "We will read data files using panda's `read_csv` or `read_excel` functions."
      ],
      "metadata": {
        "id": "vhFaZvbvC0DZ"
      }
    },
    {
      "cell_type": "markdown",
      "source": [
        "This code assumes that you important the pandas module with the command `import pandas as pd`. For reading CSV files, the most common syntax we use is:\n",
        "> `df = pd.read_csv(full_file_name, index_col)`<br>\n",
        "where:\n",
        " - `full_file_name`: complete filename, including path if needed\n",
        " - `index_col` : the name or numeric index of the column to use to construct the row labels (this is optional, and if you don't specify it, Python will use 0, 1, 2, ...)\n",
        "\n",
        "For reading CSV files, the most common syntax we use is:\n",
        "> `df = pd.read_excel(full_file_name, sheet_name, index_col)`<br>\n",
        "where:\n",
        " - `full_file_name`: complete filename, including path if needed\n",
        " - `sheet_name`: the name of the sheet\n",
        " - `index_col`: the name or numeric index of the column to use to construct the row labels; (optional, and if you don't specify it, Python will use 0, 1, 2, ...)"
      ],
      "metadata": {
        "id": "qXirwpViEOi0"
      }
    },
    {
      "cell_type": "markdown",
      "source": [
        "## Plotting\n",
        "We will do most of our plotting with the `pyplot` library, which is contained inside the `matplotlib` library."
      ],
      "metadata": {
        "id": "5hE-vfJnCn3-"
      }
    },
    {
      "cell_type": "code",
      "source": [
        "# import pyplot library from the matplotlib library\n",
        "import matplotlib.pyplot as plt"
      ],
      "metadata": {
        "id": "6hRkRA_-HcYt"
      },
      "execution_count": null,
      "outputs": []
    },
    {
      "cell_type": "markdown",
      "source": [
        "For line plots, we use the `plot` function"
      ],
      "metadata": {
        "id": "mBpq0oIiG5hf"
      }
    },
    {
      "cell_type": "code",
      "source": [
        "# let's plot the function 3*x+2 for x in 0, 1, ..., 10\n",
        "xpoints = list(range(11))               # the values of x\n",
        "ypoints = [3*x+2 for x in xpoints]      # a list with the values of y = 3x+2\n",
        "\n",
        "plt.plot(xpoints, ypoints)\n",
        "plt.show()"
      ],
      "metadata": {
        "colab": {
          "base_uri": "https://localhost:8080/",
          "height": 430
        },
        "id": "Y0NdPEFXG48w",
        "outputId": "1e8d21ae-8991-4d20-84dc-68910a970c9f"
      },
      "execution_count": null,
      "outputs": [
        {
          "output_type": "display_data",
          "data": {
            "text/plain": [
              "<Figure size 640x480 with 1 Axes>"
            ],
            "image/png": "[encoded data removed]"
          },
          "metadata": {}
        }
      ]
    },
    {
      "cell_type": "markdown",
      "source": [
        "For a scatter plot, use `scatter`"
      ],
      "metadata": {
        "id": "2HGEHyU7J2Gh"
      }
    },
    {
      "cell_type": "code",
      "source": [
        "# let's plot the same function as above\n",
        "plt.scatter(xpoints, ypoints)\n",
        "plt.show()"
      ],
      "metadata": {
        "colab": {
          "base_uri": "https://localhost:8080/",
          "height": 430
        },
        "id": "a668mzrfJ1n5",
        "outputId": "4bdf4c72-35a8-484e-f9de-630928579f14"
      },
      "execution_count": null,
      "outputs": [
        {
          "output_type": "display_data",
          "data": {
            "text/plain": [
              "<Figure size 640x480 with 1 Axes>"
            ],
            "image/png": "[encoded data removed]"
          },
          "metadata": {}
        }
      ]
    },
    {
      "cell_type": "markdown",
      "source": [
        "Many things could be adjusted in a plot. <a href=\"https://matplotlib.org/2.0.2/users/pyplot_tutorial.html\">This tutorial</a> could be a useful reference, but we also recommend leveraging AI bots for this: with some suitable prompting and a few iterations, they can typically get you pretty nice-looking plots!"
      ],
      "metadata": {
        "id": "eX7ORaTfH7dz"
      }
    }
  ]
}