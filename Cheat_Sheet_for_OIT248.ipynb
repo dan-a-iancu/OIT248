{
  "nbformat": 4,
  "nbformat_minor": 0,
  "metadata": {
    "colab": {
      "provenance": [],
      "toc_visible": true,
      "collapsed_sections": [
        "4e2QzVgcEdPq",
        "SFSimwR-FtwC",
        "qZ3CRTSjK5S2",
        "AjTVm_8WPFSr",
        "oNQKp0XoaeFG",
        "tIMzHTcErHd7",
        "GyFY-Qk87Vq4",
        "Y0f2vEzg3SvS",
        "dvOlucWfcS7b",
        "DHe9-SVArwA_",
        "hO4pm0SC6OQx",
        "gOLtAzIak-SQ",
        "FLPRZLmFkw5U",
        "hMQ4xKVnjfMf",
        "5hE-vfJnCn3-"
      ],
      "include_colab_link": true
    },
    "kernelspec": {
      "name": "python3",
      "display_name": "Python 3"
    },
    "language_info": {
      "name": "python"
    }
  },
  "cells": [
    {
      "cell_type": "markdown",
      "metadata": {
        "id": "view-in-github",
        "colab_type": "text"
      },
      "source": [
        "<a href=\"https://colab.research.google.com/github/dan-a-iancu/OIT248/blob/main/Cheat_Sheet_for_OIT248.ipynb\" target=\"_parent\"><img src=\"https://colab.research.google.com/assets/colab-badge.svg\" alt=\"Open In Colab\"/></a>"
      ]
    },
    {
      "cell_type": "markdown",
      "source": [
        "# What is this about?\n",
        "This document is intended as a Python “cheat-sheet” for all students participating in **OIT248**. You can reference a specific section using the Table of contents on the left. The document is organic and will grow as we keep adding more Python knowledge to our repertoire. If there is a specific thing that you found useful (e.g., a mnemonic rule, an idea, etc.), please let us know and we would be happy to add it below!\n",
        "\n"
      ],
      "metadata": {
        "id": "caN7N4vBCaT2"
      }
    },
    {
      "cell_type": "markdown",
      "source": [
        "To start, try running the code cell in the **Comments** section below. Specifically:\n",
        "\n",
        " 1. Because the cell is \"hidden\", let's first open it. You can do this either by clicking the \" > \" immediately to the left of the section title (**Comments**) or by clicking the grey bar with the text _\"1 cell hidden\"_  \n",
        "\n",
        " 2. Let's now run the code inside the cell. You can do this by:\n",
        "    \n",
        "  (i) hovering with your mouse on top of the code cell and clicking the little \"Play button\" that will appear on the left or <br>\n",
        "  (ii) clicking inside the code cell and hitting `Shift`+`Enter` on your keyboard.\n",
        "\n",
        "If everything works properly, you should see the message `Welcome to OIT 248!` displayed immediately below the code cell."
      ],
      "metadata": {
        "id": "cIhtwtjVYRO1"
      }
    },
    {
      "cell_type": "markdown",
      "source": [
        "# Comments\n",
        "Comments in Python start with a `#` like directly below"
      ],
      "metadata": {
        "id": "4e2QzVgcEdPq"
      }
    },
    {
      "cell_type": "code",
      "source": [
        "# this and the line below it are comments and Python will ignore them\n",
        "# print(\"Something interesting\")\n",
        "\n",
        "# instead, the line below this will print a welcome message\n",
        "print(\"Welcome to OIT 248! The number of minutes in a non-leap year is:\", 365*24*60)"
      ],
      "metadata": {
        "id": "dngXKf6QEctO"
      },
      "execution_count": null,
      "outputs": []
    },
    {
      "cell_type": "markdown",
      "source": [
        "# Variables\n",
        "A **variable** in Python is a container for storing data. The variable is created the moment you first assign a value to it."
      ],
      "metadata": {
        "id": "SFSimwR-FtwC"
      }
    },
    {
      "cell_type": "code",
      "execution_count": null,
      "metadata": {
        "id": "GsMo2bXSCMIR"
      },
      "outputs": [],
      "source": [
        "# create a variable named 'x' that stores the value 10\n",
        "x = 10\n",
        "\n",
        "# another variable named 'y' that stores the string \"Mary\"\n",
        "y = \"Mary\""
      ]
    },
    {
      "cell_type": "markdown",
      "source": [
        "Once the variable is created, you can use it in code. For instance, let's calculate $x^2$ <br>"
      ],
      "metadata": {
        "id": "Olam8qV0Ij7J"
      }
    },
    {
      "cell_type": "code",
      "source": [
        "x**2"
      ],
      "metadata": {
        "id": "CcfzF8WEIrjB"
      },
      "execution_count": null,
      "outputs": []
    },
    {
      "cell_type": "markdown",
      "source": [
        "Variable names are case-sensitive"
      ],
      "metadata": {
        "id": "UidJXGRrI1gd"
      }
    },
    {
      "cell_type": "code",
      "source": [
        "little_john = 10\n",
        "\n",
        "# the next line would create an error if you uncomment and run it!\n",
        "# Little_john"
      ],
      "metadata": {
        "id": "wXgyHAiIKCvK"
      },
      "execution_count": null,
      "outputs": []
    },
    {
      "cell_type": "markdown",
      "source": [
        "# Data Types (int, float, bool, list, etc.)\n"
      ],
      "metadata": {
        "id": "qZ3CRTSjK5S2"
      }
    },
    {
      "cell_type": "markdown",
      "source": [
        "Each variable stores a certain type of data. You can read more about data types <a href=\"https://www.w3schools.com/python/python_datatypes.asp\">here</a>. The data types that we'll encounter most often in OIT 248 are: integers, floats, strings, booleans, lists, tuples, dictionaries."
      ],
      "metadata": {
        "id": "ZQ0GAOIFGP9g"
      }
    },
    {
      "cell_type": "code",
      "source": [
        "# integers (int)\n",
        "x = 10\n",
        "\n",
        "# floating point numbers (float)\n",
        "z = 4.5\n",
        "\n",
        "# strings (str) - can be created with either ` or \"\"\n",
        "one_string = \"Why does Arbuckle not have salmon today?\"\n",
        "another_string = 'I LOVE THE GSB!'\n",
        "\n",
        "# boolean (bool)\n",
        "is_OIT248_amazing = True\n",
        "\n",
        "# list - can be declared in several ways:\n",
        "my_list = list((\"apples\",\"oranges\",\"bananas\"))   # a list with strings\n",
        "another_list = [1,2,3,4]    # a list with integers\n",
        "\n",
        "# dictionary (dict)\n",
        "tennis_trophies = {}\n",
        "tennis_trophies[\"Federer\"] = 20\n",
        "tennis_trophies[\"Nadal\"] = 22          # at least as of 2023...\n",
        "tennis_trophies[\"Djokovic\"] = 24       # at least as of 2023..."
      ],
      "metadata": {
        "id": "epVGfPhJG7Ck"
      },
      "execution_count": null,
      "outputs": []
    },
    {
      "cell_type": "markdown",
      "source": [
        "If you ever need to (unlikely), you can find out the type of a variable with the command `type(.)`"
      ],
      "metadata": {
        "id": "hMAiPPCEIgg7"
      }
    },
    {
      "cell_type": "code",
      "source": [
        "type(z)"
      ],
      "metadata": {
        "id": "Aft5wmIvLL0c"
      },
      "execution_count": null,
      "outputs": []
    },
    {
      "cell_type": "markdown",
      "source": [
        "If needed, you can convert a data type into another type by casting it as below"
      ],
      "metadata": {
        "id": "qIQKMyeHTC7P"
      }
    },
    {
      "cell_type": "code",
      "source": [
        "int(z)"
      ],
      "metadata": {
        "id": "JYYljxPySdKv"
      },
      "execution_count": null,
      "outputs": []
    },
    {
      "cell_type": "markdown",
      "source": [
        "We will cover the more complex data types (lists, dictionaries) separately.  <br>"
      ],
      "metadata": {
        "id": "qRvUJ7zrSehw"
      }
    },
    {
      "cell_type": "markdown",
      "source": [
        "# Operators\n",
        "We have already been using several operators above. The most common ones you will see in OIT 248 are:"
      ],
      "metadata": {
        "id": "AjTVm_8WPFSr"
      }
    },
    {
      "cell_type": "markdown",
      "source": [
        "## Arithmetic (+,-,*, etc.)"
      ],
      "metadata": {
        "id": "3g7mhPSFTXnC"
      }
    },
    {
      "cell_type": "code",
      "source": [
        "print(2 + 2)       # addition\n",
        "print(3 - 2)       # subtraction\n",
        "print(2 * 6)       # multiplication\n",
        "print(66 / 2)      # division\n",
        "print(8 % 3)       # modulus\n",
        "print(2**4)        # exponentiation\n",
        "print(10 // 3)     # floor division"
      ],
      "metadata": {
        "id": "g1wgWCnEPN_k"
      },
      "execution_count": null,
      "outputs": []
    },
    {
      "cell_type": "markdown",
      "source": [
        "## Assignment (=, +=, -+, etc.)\n"
      ],
      "metadata": {
        "id": "E9kagT2cTaNi"
      }
    },
    {
      "cell_type": "code",
      "source": [
        "x = 5               # simple assignment\n",
        "x += 3              # this is the same as x = x + 3\n",
        "x -= 3              # this is the same as x = x - 3\n",
        "x *= 3              # this is the same as x = x * 3\n",
        "x /= 3              # this is the same as x = x / 3\n",
        "x **= 3             # this is the same as x = x**3"
      ],
      "metadata": {
        "id": "lobmJN3cTeHm"
      },
      "execution_count": null,
      "outputs": []
    },
    {
      "cell_type": "markdown",
      "source": [
        "## Comparison (==, !=, >=, etc.)"
      ],
      "metadata": {
        "id": "REAspWUQT9nl"
      }
    },
    {
      "cell_type": "code",
      "source": [
        "print(5 == 6)        #  a==b checks if a is equal to b\n",
        "print(5 != 6)        #  a!=b checks if a is different from b\n",
        "print(5 > 5)         #  a > b checks if a is strictly bigger than b\n",
        "print(5 < 9)         #  a < b checks if a is strictly less than b\n",
        "print(5 >= 5)        #  a >= b checks if a is at least as large as b\n",
        "print(5 <= 6)        #  a <= b checks if a is at least as large as b"
      ],
      "metadata": {
        "id": "kZIs_d-nUAG5"
      },
      "execution_count": null,
      "outputs": []
    },
    {
      "cell_type": "markdown",
      "source": [
        "## Logical (and, or, not)"
      ],
      "metadata": {
        "id": "TYU2bJtwWFM0"
      }
    },
    {
      "cell_type": "code",
      "source": [
        "print((5 < 6) and (7 < 5))  #  'a and b' returns True is both 'a' and 'b' are true\n",
        "print((5 < 6) or (7 < 5))   #  'a or b' returns True is at least one of 'a','b' is true\n",
        "print(not (5 < 6))          #  'not a' reverses 'a'"
      ],
      "metadata": {
        "id": "qbvwmNxSWHJ7"
      },
      "execution_count": null,
      "outputs": []
    },
    {
      "cell_type": "markdown",
      "source": [
        "## Membership"
      ],
      "metadata": {
        "id": "E2qtjD3UXT9t"
      }
    },
    {
      "cell_type": "code",
      "source": [
        "print(5 in [3,4,5])        #  'a in b' returns True if 'a' is contained in 'b'\n",
        "print(5 not in [3,4,5])    #  'a not in b' returns True if 'a' is not contained in 'b'"
      ],
      "metadata": {
        "id": "OKrhUjdfXTIa"
      },
      "execution_count": null,
      "outputs": []
    },
    {
      "cell_type": "markdown",
      "source": [
        "# Ranges\n",
        "The `range` function in Python returns a sequence of numbers. It syntax is:\n",
        ">  `range(start,stop,step)`\n",
        "\n",
        "- `start` is optional and is an integer that specifies at which position to start. If you omit this, the default value is 0.\n",
        "- `stop` is required and is an integer that specifies at which position to end.  This value will not be included, so the range will actually end with the value `stop-1`.\n",
        "- `step` is optional and specifies the increment. If you omit it, the default is 1.\n",
        "\n",
        "This function will be quite useful, so it would be good to familiarize yourself with the examples below."
      ],
      "metadata": {
        "id": "oNQKp0XoaeFG"
      }
    },
    {
      "cell_type": "markdown",
      "source": [
        "Create a range with a single argument."
      ],
      "metadata": {
        "id": "URwa6nI4skiv"
      }
    },
    {
      "cell_type": "code",
      "source": [
        "range(5)"
      ],
      "metadata": {
        "id": "rbIko_OgYcJd"
      },
      "execution_count": null,
      "outputs": []
    },
    {
      "cell_type": "markdown",
      "source": [
        "By itself, this is not terribly useful. But we can loop through it using a `for` statement (if you're unfamiliar with `for` loops, check the later section)"
      ],
      "metadata": {
        "id": "SuQ_t2PusvUv"
      }
    },
    {
      "cell_type": "code",
      "source": [
        "for i in range(5):\n",
        "    print(i)"
      ],
      "metadata": {
        "id": "o0-lAa-HsuZD"
      },
      "execution_count": null,
      "outputs": []
    },
    {
      "cell_type": "markdown",
      "source": [
        "Now to play with the other versions of `range`"
      ],
      "metadata": {
        "id": "kVMz6XGStNCt"
      }
    },
    {
      "cell_type": "code",
      "source": [
        "print(\"Here are all the integers from 5 to 10, INCLUDING 10\")\n",
        "for i in range(5,11):\n",
        "     print(i)\n",
        "\n",
        "print(\"\\nAnd here are all the even numbers less than 10\")\n",
        "for i in range(0,10,2):\n",
        "     print(i)"
      ],
      "metadata": {
        "id": "afbHALrctQ_6"
      },
      "execution_count": null,
      "outputs": []
    },
    {
      "cell_type": "markdown",
      "source": [
        "# For Loops\n",
        "A `for` loop is used to iterate over a sequence (that could be a range, a list, a dictionary, etc.). Syntax:\n",
        "> for `variable` in `sequence`:<br>\n",
        "> $ \\qquad$ instructions line 1<br>\n",
        "> $ \\qquad$ instructions line 2"
      ],
      "metadata": {
        "id": "tIMzHTcErHd7"
      }
    },
    {
      "cell_type": "code",
      "source": [
        "# use a for loop to iterate through a numeric range\n",
        "for i in range(5):\n",
        "    print(i)"
      ],
      "metadata": {
        "id": "FB3iWNr2rHd8"
      },
      "execution_count": null,
      "outputs": []
    },
    {
      "cell_type": "markdown",
      "source": [
        "<font color=red>**Two elements are worth emphasizing in the syntax above:**</red>\n",
        "- the colon `:` is critical on the first line\n",
        "- the intendation is also critical, and must come on the second line (you can use as many spaces as you like!)\n",
        "\n",
        "For instance, the following code would generate errors if you uncomment and run it!"
      ],
      "metadata": {
        "id": "iH3LMEgO8e1x"
      }
    },
    {
      "cell_type": "code",
      "source": [
        "# # forgetting the colon :\n",
        "#for i in range(5)\n",
        "#    print(i)"
      ],
      "metadata": {
        "id": "25sKvJto8xHJ"
      },
      "execution_count": null,
      "outputs": []
    },
    {
      "cell_type": "code",
      "source": [
        "# # forgetting the indentation :\n",
        "#for i in range(5):\n",
        "#print(i)"
      ],
      "metadata": {
        "id": "t4W6zCcG82LN"
      },
      "execution_count": null,
      "outputs": []
    },
    {
      "cell_type": "code",
      "source": [
        "# you can, however, put everything on one line! (this looks ugly and is NOT advised!)\n",
        "for i in range(5): print(i)"
      ],
      "metadata": {
        "id": "OZJnMJe79R0K"
      },
      "execution_count": null,
      "outputs": []
    },
    {
      "cell_type": "markdown",
      "source": [
        "Nested for loops are quite straightforward:"
      ],
      "metadata": {
        "id": "BY4ZcTkW9jmB"
      }
    },
    {
      "cell_type": "code",
      "source": [
        "for i in range(1,3,1):\n",
        "    for j in range(99,102,1):\n",
        "        print(i,j)"
      ],
      "metadata": {
        "id": "sfZMdgbP9m-k"
      },
      "execution_count": null,
      "outputs": []
    },
    {
      "cell_type": "markdown",
      "source": [
        "# If-Else Statements\n",
        "An \"if statement\" allows implementing a logical condition. Syntax:\n",
        "> if `logical_condition_1`:<br>\n",
        "> $ \\qquad$ instructions if logical_condition_1 is True<br>\n",
        "> elif `logical_condition_2`:<br>\n",
        "> $ \\qquad$ instructions if logical_condition_1 is False and logical_condition_2 is True <br>\n",
        "> ...<br>\n",
        "> else:<br>\n",
        "> $ \\qquad$ instructions if all logical conditions above are False"
      ],
      "metadata": {
        "id": "GyFY-Qk87Vq4"
      }
    },
    {
      "cell_type": "code",
      "source": [
        "a = 15\n",
        "b = 17\n",
        "if (a > b):\n",
        "    print(\"a is bigger than b\")\n",
        "elif (a == b):\n",
        "    print(\"a is equal to b\")\n",
        "else:\n",
        "    print(\"a is smaller than b\")"
      ],
      "metadata": {
        "id": "XKgLbe1r7Vq5"
      },
      "execution_count": null,
      "outputs": []
    },
    {
      "cell_type": "markdown",
      "source": [
        "<font color=red>**As with \"for\" loops, the colon ':` and the indentation are critical.**</font><br>\n",
        "The following code would lead to errors if uncommented:"
      ],
      "metadata": {
        "id": "IJHqBu-H8PYB"
      }
    },
    {
      "cell_type": "code",
      "source": [
        "# # forgetting the colon - this would create an error if uncommented!\n",
        "#if (a > b)\n",
        "#   print(\"a\")"
      ],
      "metadata": {
        "id": "j_IOOPiN-OGu"
      },
      "execution_count": null,
      "outputs": []
    },
    {
      "cell_type": "code",
      "source": [
        "# # forgetting the indentation\n",
        "#if (a>b) :\n",
        "#print(\"a\")"
      ],
      "metadata": {
        "id": "XQ21xoir-acC"
      },
      "execution_count": null,
      "outputs": []
    },
    {
      "cell_type": "code",
      "source": [
        "# the parenthesis around the logical condition is not critical but it's highly recommended\n",
        "if a > b :\n",
        "    print(\"a\")\n",
        "else:\n",
        "    print(\"b\")"
      ],
      "metadata": {
        "id": "iiBSNB5B-gxX"
      },
      "execution_count": null,
      "outputs": []
    },
    {
      "cell_type": "markdown",
      "source": [
        "# Lists\n",
        "Lists are used to store multiple items in a single variable. Lists can be created using square brackets `[.]`."
      ],
      "metadata": {
        "id": "Y0f2vEzg3SvS"
      }
    },
    {
      "cell_type": "markdown",
      "source": [
        "## Basics\n"
      ],
      "metadata": {
        "id": "S4hRkG2uOVVb"
      }
    },
    {
      "cell_type": "markdown",
      "source": [
        "Let's create some simple lists.\n"
      ],
      "metadata": {
        "id": "Iq10CrmFBoxh"
      }
    },
    {
      "cell_type": "code",
      "source": [
        "# a list with integers, created with the brackets [ ]\n",
        "my_list = [1,2,3,4]"
      ],
      "metadata": {
        "id": "T-UbUjpWNv-u"
      },
      "execution_count": null,
      "outputs": []
    },
    {
      "cell_type": "markdown",
      "source": [
        "The data types contained in a list do not have to be the same and you can repeat the values several times"
      ],
      "metadata": {
        "id": "cbpSdYMAYdiR"
      }
    },
    {
      "cell_type": "code",
      "source": [
        "# crazy list containing a string, a float, another list (!), and several 5s\n",
        "crazy_list = [\"a string\", 4.75, [1,2,3,4], 5, 5, 5]\n",
        "print(crazy_list)"
      ],
      "metadata": {
        "id": "Hi-2OhHoYnry"
      },
      "execution_count": null,
      "outputs": []
    },
    {
      "cell_type": "markdown",
      "source": [
        "The items in a list are ordered. You can access the first item using the index `[0]`, the second item using the index `[1]`, etc."
      ],
      "metadata": {
        "id": "QDaCucC4Yyaq"
      }
    },
    {
      "cell_type": "code",
      "source": [
        "crazy_list[0]"
      ],
      "metadata": {
        "id": "QGNSCW6wYxut"
      },
      "execution_count": null,
      "outputs": []
    },
    {
      "cell_type": "markdown",
      "source": [
        "You can also access several items in the list using a **range** of indices specified with `:`"
      ],
      "metadata": {
        "id": "r7bpLcCyZlAw"
      }
    },
    {
      "cell_type": "code",
      "source": [
        "#  using i:j returns the elements at index i,i+1,...,j-1  (j is NOT included!)\n",
        "crazy_list[1:3]"
      ],
      "metadata": {
        "id": "Gi_GiUrwZkZ0"
      },
      "execution_count": null,
      "outputs": []
    },
    {
      "cell_type": "markdown",
      "source": [
        "You can change the value at a certain location in a list using the correct index"
      ],
      "metadata": {
        "id": "37osu_-Iap3I"
      }
    },
    {
      "cell_type": "code",
      "source": [
        "crazy_list[2] = \"take out the list from the list\"\n",
        "print(crazy_list)"
      ],
      "metadata": {
        "id": "3k89YtvZauSY"
      },
      "execution_count": null,
      "outputs": []
    },
    {
      "cell_type": "markdown",
      "source": [
        "You can even change several items using the range again"
      ],
      "metadata": {
        "id": "wwi8L2rxa8tf"
      }
    },
    {
      "cell_type": "code",
      "source": [
        "# note that the right-hand-side in this assignment is a list - elements will be matched location-wise\n",
        "crazy_list[0:2] = ['Barcelona','Madrid']\n",
        "print(crazy_list)"
      ],
      "metadata": {
        "id": "wHYmCGaUbBHe"
      },
      "execution_count": null,
      "outputs": []
    },
    {
      "cell_type": "markdown",
      "source": [
        "If your range has fewer indices than the items you want to change, this will expand the list"
      ],
      "metadata": {
        "id": "rDQMbBdzczlA"
      }
    },
    {
      "cell_type": "code",
      "source": [
        "crazy_list[0:2] = [1,2,3]\n",
        "print(crazy_list)"
      ],
      "metadata": {
        "id": "Ti3QZmELc5Ws"
      },
      "execution_count": null,
      "outputs": []
    },
    {
      "cell_type": "markdown",
      "source": [
        "Conversely, if the range has more indices that the items you are inserting, this will shrink the list"
      ],
      "metadata": {
        "id": "OOKOAWDRe7Br"
      }
    },
    {
      "cell_type": "code",
      "source": [
        "crazy_list[0:5] = [\"Hey\", 3.3333]\n",
        "print(crazy_list)"
      ],
      "metadata": {
        "id": "C40U_38ZgMy2"
      },
      "execution_count": null,
      "outputs": []
    },
    {
      "cell_type": "markdown",
      "source": [
        "You can concatenate two lists using the `+` operator (this is also an easy way to add more elements at the end of a given list)"
      ],
      "metadata": {
        "id": "D3kDZqDHiYUV"
      }
    },
    {
      "cell_type": "code",
      "source": [
        "crazy_list_with_plus = crazy_list + [\"mango\", \"kiwi\"]\n",
        "print(crazy_list_with_plus)"
      ],
      "metadata": {
        "id": "tj0oJYAjeboO"
      },
      "execution_count": null,
      "outputs": []
    },
    {
      "cell_type": "markdown",
      "source": [
        "You can also duplicate a list many times using the `*` operator"
      ],
      "metadata": {
        "id": "ZM6RLT2IeXFo"
      }
    },
    {
      "cell_type": "code",
      "source": [
        "# create a list with the string \"We love Dan!\" repeated 5 times\n",
        "my_list = [\"We love Dan!\"] * 5\n",
        "\n",
        "print(my_list)"
      ],
      "metadata": {
        "id": "3q5ZdGgtedjh"
      },
      "execution_count": null,
      "outputs": []
    },
    {
      "cell_type": "markdown",
      "source": [
        "**You should be careful with the _assignment_ operator `=` for a list!**<br>\n",
        "The assignment operator will **NOT** create a copy of a list; rather, it will create a new/alternative name for the list"
      ],
      "metadata": {
        "id": "6WIS2Dmwiuje"
      }
    },
    {
      "cell_type": "code",
      "source": [
        "# are we creating a copy of `crazy_list` stored in the new variable `a_new_list`?\n",
        "new_list = crazy_list\n",
        "\n",
        "# print both lists\n",
        "print(\"Here are the two lists\")\n",
        "print(crazy_list)\n",
        "print(new_list)\n",
        "\n",
        "# let's change the first element in this \"new\" list\n",
        "new_list[0] = \"I am changing the start\"\n",
        "\n",
        "# print both lists\n",
        "print(\"Here are the two lists after changing\")\n",
        "print(crazy_list)\n",
        "print(new_list)\n",
        "# Note how BOTH lists are changing (because the new list just points to the old one)"
      ],
      "metadata": {
        "id": "L_JUkcrHitxs"
      },
      "execution_count": null,
      "outputs": []
    },
    {
      "cell_type": "markdown",
      "source": [
        "If you want to create a genuine **copy** of a list, you can use the `copy` method. Details under the list methods section."
      ],
      "metadata": {
        "id": "CEZuRoxvjyBh"
      }
    },
    {
      "cell_type": "markdown",
      "source": [
        "## The length, min, max of a list\n",
        "To calculate the length of a list or the minimum or maximum values in the list, use the `len(.)`, `min(.)` and `max(.)` functions."
      ],
      "metadata": {
        "id": "bTT1TQvuuT97"
      }
    },
    {
      "cell_type": "code",
      "source": [
        "# create a list of numbers\n",
        "list_of_numbers = [3, 6, 9, 1, -5, 34, 23, 99]\n",
        "\n",
        "# print the length\n",
        "print(len(list_of_numbers))\n",
        "\n",
        "# print the smallest value\n",
        "print(min(list_of_numbers))\n",
        "\n",
        "# print the largest value\n",
        "print(max(list_of_numbers))"
      ],
      "metadata": {
        "id": "owgRtmb_gvun"
      },
      "execution_count": null,
      "outputs": []
    },
    {
      "cell_type": "markdown",
      "source": [
        "## Fancy methods for a list\n",
        "The list data structure already has a couple of pre-defined useful `methods` that allow you to conduct specific manipulations."
      ],
      "metadata": {
        "id": "eiNAtEd7kND7"
      }
    },
    {
      "cell_type": "markdown",
      "source": [
        "The full list of list (sic!) methods is:\n",
        "- `append()`\tAdds an element at the end of the list\n",
        "- `clear()`\tRemoves all the elements from the list\n",
        "- `copy()`\tReturns a copy of the list\n",
        "- `count()`\tReturns the number of elements with the specified value\n",
        "- `extend()`\tAdd the elements of a list (or any iterable), to the end of the current list\n",
        "- `index()`\tReturns the index of the first element with the specified value\n",
        "- `insert()`\tAdds an element at the specified position\n",
        "- `pop()`\tRemoves the element at the specified position\n",
        "- `remove()`\tRemoves the item with the specified value\n",
        "- `reverse()`\tReverses the order of the list\n",
        "- `sort()`\tSorts the list\n",
        "\n",
        "For our purposes, the most useful methods are `index` and `copy`, which we exemplify below.\n"
      ],
      "metadata": {
        "id": "2mzrDgPxulej"
      }
    },
    {
      "cell_type": "markdown",
      "source": [
        "Index allows you to retrieve the location of a specific element. It returns the first location or `ValueError` if the element is not found."
      ],
      "metadata": {
        "id": "XE546gYJ4ro6"
      }
    },
    {
      "cell_type": "code",
      "source": [
        "# create another list to play with\n",
        "crazy_list = [\"apples\", \"oranges\", \"bananas\", \"OIT248\" ]\n",
        "\n",
        "# figure out the index where the element 'apples' appears\n",
        "index_for_apples = crazy_list.index(\"apples\")\n",
        "print(f\"The index where the string `apples` appears: {index_for_apples}\")\n",
        "\n",
        "# now try to find some element that doesn't exist -- note the error!\n",
        "index_for_smth_new = crazy_list.index(\"The Wire Show\")\n",
        "print(index_for_smth_new)"
      ],
      "metadata": {
        "id": "LwAvdbPk41t9"
      },
      "execution_count": null,
      "outputs": []
    },
    {
      "cell_type": "markdown",
      "source": [
        "The `copy` method does what the name suggests..."
      ],
      "metadata": {
        "id": "1wV5JbF85zXI"
      }
    },
    {
      "cell_type": "code",
      "source": [
        "# let's create an actual copy of `crazy_list` stored in a new variable `new_list`\n",
        "new_list = crazy_list.copy()\n",
        "\n",
        "# print both lists\n",
        "print(\"Here are the two lists\")\n",
        "print(crazy_list)\n",
        "print(new_list)\n",
        "\n",
        "# To see that this is a copy, let's change the first element in the \"new\" list and print both\n",
        "new_list[0] = \"Michael Jackson\"\n",
        "\n",
        "print(\"Here are the lists after changing\")\n",
        "print(crazy_list)\n",
        "print(new_list)"
      ],
      "metadata": {
        "id": "UDm1Y50DkNEN"
      },
      "execution_count": null,
      "outputs": []
    },
    {
      "cell_type": "markdown",
      "source": [
        "We likely won't use a lot of these methods in OIT 248, but they are useful to know about. For a detailed coverage, you can check <a href=\"https://www.w3schools.com/python/python_lists_methods.asp\">this link</a>."
      ],
      "metadata": {
        "id": "mWu1F0dHvQ-0"
      }
    },
    {
      "cell_type": "markdown",
      "source": [
        "## Looping through lists\n",
        "There are several ways to loop through lists"
      ],
      "metadata": {
        "id": "0jMi85dmoQoc"
      }
    },
    {
      "cell_type": "markdown",
      "source": [
        "**Option 1.**<br>\n",
        "If you just care about the elements in the list **but not** their indices/locations, the most elegant way is to use a `for` loop through the elements themselves"
      ],
      "metadata": {
        "id": "DWIrojd7pVKa"
      }
    },
    {
      "cell_type": "code",
      "source": [
        "# loop through the elements in `crazy_list` and store them in 'v'\n",
        "for v in crazy_list:\n",
        "    # 'v` now stores an element from the list; let's print 'v'\n",
        "    print(v)"
      ],
      "metadata": {
        "id": "mU-I0CsdoQot"
      },
      "execution_count": null,
      "outputs": []
    },
    {
      "cell_type": "markdown",
      "source": [
        "**Option 2.**<br>\n",
        "An alternative, also useful when you just care about the elements, is to use a \"list comprehension\"."
      ],
      "metadata": {
        "id": "UkNuMDP2xiOO"
      }
    },
    {
      "cell_type": "code",
      "source": [
        "[print(v) for v in crazy_list];"
      ],
      "metadata": {
        "id": "5Pp-OVgBxiOk"
      },
      "execution_count": null,
      "outputs": []
    },
    {
      "cell_type": "markdown",
      "source": [
        "This is a very compact syntax, but it might confuse you a bit at first so don't worry if you don't fully get it on the first try!..."
      ],
      "metadata": {
        "id": "zXkChIuPzCtP"
      }
    },
    {
      "cell_type": "markdown",
      "source": [
        "**Option 3.**<br>\n",
        "If you need the elements in the list **as well as** their indices, you can write classic\" for loop. Specifically, for a list, we actually know what the indices are: they are 0, 1, 2, ..., number of elements-1. So we can get these using the `range(.)` and `len(.)` functions:"
      ],
      "metadata": {
        "id": "r6jsyqZpp_U0"
      }
    },
    {
      "cell_type": "code",
      "source": [
        "# calculate the number of elements in the list\n",
        "num_elements_in_list = len(crazy_list)\n",
        "\n",
        "# produce the range 0 .. num_elements_in_list - 1\n",
        "indices = range(num_elements_in_list)\n",
        "\n",
        "# and now let's loop through the elements, printing them as well as their index\n",
        "for i in indices:\n",
        "    print(\"At location\", i, \"we can find:\", crazy_list[i])"
      ],
      "metadata": {
        "id": "PFu_zvMxp_U1"
      },
      "execution_count": null,
      "outputs": []
    },
    {
      "cell_type": "markdown",
      "source": [
        "Normally, you would not define all of those variables above and instead use this compact form:"
      ],
      "metadata": {
        "id": "JnjAUZXhxNFp"
      }
    },
    {
      "cell_type": "code",
      "source": [
        "# let's loop through the elements, printing them as well as their index\n",
        "for i in range(len(crazy_list)):\n",
        "    print(\"At location\", i, \"we can find:\", crazy_list[i])"
      ],
      "metadata": {
        "id": "VYpxEUOWxUrF"
      },
      "execution_count": null,
      "outputs": []
    },
    {
      "cell_type": "markdown",
      "source": [
        "## List comprehensions\n",
        "List comprehensions offer a very simple way to create a new list based on some existing lists. The syntax is:\n",
        "\n",
        "> `newlist = [`_expression_ `for` _item_ `in` _iterable_ `if` _condition_ `== True]`\n",
        "\n",
        "_iterable_ can be another list or a range (more broadly, any iterable type). The return value is a new list, leaving the old list unchanged."
      ],
      "metadata": {
        "id": "ZIS9QCArFFeh"
      }
    },
    {
      "cell_type": "code",
      "source": [
        "# let's create a list with some fruits\n",
        "fruits = [\"apple\", \"banana\", \"cherry\", \"kiwi\", \"mango\"]\n",
        "\n",
        "# now suppose we want to create a list with all the fruit names *except apple*\n",
        "fruits_no_apple = [v for v in fruits if v!= \"apple\"]\n",
        "print(fruits_no_apple)"
      ],
      "metadata": {
        "id": "NBrsiK7eFFei"
      },
      "execution_count": null,
      "outputs": []
    },
    {
      "cell_type": "markdown",
      "source": [
        "If you want to embed an `if-else` condition, you need to switch the order of the `if` and the `for` loop, as follows:"
      ],
      "metadata": {
        "id": "LJzFVd4pGoyt"
      }
    },
    {
      "cell_type": "code",
      "source": [
        "# a copy of the original list where every occurrence of *apple* is replaced with *walnut*\n",
        "fruits_apple_walnut = [v if v!= \"apple\" else \"walnut\" for v in fruits]\n",
        "print(fruits_apple_walnut)"
      ],
      "metadata": {
        "id": "7rKsDfgBHD8F"
      },
      "execution_count": null,
      "outputs": []
    },
    {
      "cell_type": "markdown",
      "source": [
        "# Tuples\n",
        "Tuples allow storing several items in a single variable. They are defined using round brackets `(.)`."
      ],
      "metadata": {
        "id": "dvOlucWfcS7b"
      }
    },
    {
      "cell_type": "code",
      "source": [
        "# define a tuple with a string, a float, and a list\n",
        "my_tuple = (\"apples\", 3.14, [1, 2, 3])\n",
        "\n",
        "print(my_tuple)"
      ],
      "metadata": {
        "id": "SCi2rsqrcS7x"
      },
      "execution_count": null,
      "outputs": []
    },
    {
      "cell_type": "markdown",
      "source": [
        "You might think that the tuple is quite similar to a list, but the fundamental difference is that tuples and **unchangeable**: once you created a tuple, you cannot change its contents.<br>\n",
        "\n",
        "We won't be using tuples directly but many functions in Python return tuples, so you should not be surprised to see them!"
      ],
      "metadata": {
        "id": "IifIhw1Rcsel"
      }
    },
    {
      "cell_type": "markdown",
      "source": [
        "# Printing\n",
        "We have already been printing messages and variables above. The typical syntax of the `print` command that we'll use most often in OIT 248 is:\n",
        "> `print`(_object(s)_, sep=_separator_)\n",
        " - _object(s)_ : one or more objects to print; each object will be converted to a string before printing\n",
        " - _sep_ : optional, specifies what separator to use between the objects"
      ],
      "metadata": {
        "id": "DHe9-SVArwA_"
      }
    },
    {
      "cell_type": "markdown",
      "source": [
        "Let's see a few simple examples"
      ],
      "metadata": {
        "id": "vIYlvJYmrwBJ"
      }
    },
    {
      "cell_type": "code",
      "source": [
        "# print an integer variable\n",
        "x = 5\n",
        "print(x)\n",
        "\n",
        "# print some text and an integer\n",
        "print(\"The value of the integer is:\", x)"
      ],
      "metadata": {
        "id": "j5gC36a2rwBJ"
      },
      "execution_count": null,
      "outputs": []
    },
    {
      "cell_type": "markdown",
      "source": [
        " The most important thing when printing is how to convert the objects into a string that satisfies the criteria you want.<br>\n",
        "\n",
        " There are many ways to do this in Python and all will be roughly equally good for our purposes!"
      ],
      "metadata": {
        "id": "S9FR3W0e9aJd"
      }
    },
    {
      "cell_type": "markdown",
      "source": [
        "## \"Old-style\" Formatting with %\n",
        "This uses the `%` operator and will look familiar to those of you with C coding experience!"
      ],
      "metadata": {
        "id": "q0gsX1JorwBJ"
      }
    },
    {
      "cell_type": "code",
      "source": [
        "# let's define a few different variables\n",
        "name = \"Linwei\"        # a string\n",
        "age = 32               # an integer\n",
        "gpa = 3.92             # a float\n",
        "income = 245894.242    # a large float\n",
        "\n",
        "print(\"The person named %s with age %d has a GPA of %f and income of %e\" \\\n",
        "      % (name, age, gpa, income))"
      ],
      "metadata": {
        "id": "47i3jVnlrwBJ"
      },
      "execution_count": null,
      "outputs": []
    },
    {
      "cell_type": "markdown",
      "source": [
        "The example above already shows the data types that we're most likely to print in OIT 248:\n",
        " - `'d'` for a signed integer (decimal, i.e., base 10)\n",
        " - `'f'` for a floating point (decimal)\n",
        " - `'e'` for a floating point in exponential format\n",
        " - `'s'` for a string\n",
        "\n",
        "In addition to these, you can also adjust the padding and how many digits of precision to print."
      ],
      "metadata": {
        "id": "GHz_QRsorwBJ"
      }
    },
    {
      "cell_type": "code",
      "source": [
        "# allocate 20 characters to the name, 3 characters to the age, and print 2 digits of\n",
        "print(\"The person named %20s with age %3d has a GPA of %.2f.\" \\\n",
        "      % (name, age, gpa))\n",
        "\n",
        "# and print a more exotic example to see the difference\n",
        "print(\"The person named %20s with age %3d has a GPA of %.2f.\" \\\n",
        "      % (\"Jiawei Luo\", 104, 55242.435))"
      ],
      "metadata": {
        "id": "uBgZJRMVrwBK"
      },
      "execution_count": null,
      "outputs": []
    },
    {
      "cell_type": "markdown",
      "source": [
        "Floating-point numbers use the format `%a.bf`. Here, `a` would be the minimum number of digits to be present in the string (padded with white space if the whole number does not have enough digits), and `b` represents how many digits to display after the decimal point.\n",
        "\n",
        "Unless you have very strong biases, **we encourage you to consider using one of the next two formatting options, which are more flexible and robust.**"
      ],
      "metadata": {
        "id": "9ror_RN5_Rti"
      }
    },
    {
      "cell_type": "markdown",
      "source": [
        "## The `format(.)` method\n",
        "The second option uses the string `format` method."
      ],
      "metadata": {
        "id": "Oenoej-M_-LA"
      }
    },
    {
      "cell_type": "code",
      "source": [
        "# let's again define a few different variables\n",
        "name = \"Linwei\"        # a string\n",
        "age = 32               # an integer\n",
        "gpa = 3.92             # a float\n",
        "\n",
        "print(\"{} has age {} and a GPA of {}\".format(name, age, gpa))"
      ],
      "metadata": {
        "id": "ORTfTWGn_-LB"
      },
      "execution_count": null,
      "outputs": []
    },
    {
      "cell_type": "markdown",
      "source": [
        "So you just need to put braces `{}` for any object inside the string and then use `.format()` at the end of the string to include all the objects. Just as with the `%` method, you can specify a format for the strings inside the `{...}`, with the only distinction that you should use a colon `:` instead of `%`. See below."
      ],
      "metadata": {
        "id": "g1L8Fhhm_-LB"
      }
    },
    {
      "cell_type": "code",
      "source": [
        "# allocate 20 characters to the name, 3 characters to the age, and print 2 digits of\n",
        "print(\"{:20s} has age {:3d} and GPA of {:.2f}.\".format(name, age, gpa))\n",
        "\n",
        "# and print a more exotic example to see the difference\n",
        "print(\"{:20s} has age {:3d} and GPA of {:,.2f}.\".format(\"Jiawei Luo\", 104, 55242.435))"
      ],
      "metadata": {
        "id": "KYBMJvmN_-LC"
      },
      "execution_count": null,
      "outputs": []
    },
    {
      "cell_type": "markdown",
      "source": [
        "Note that the second statement uses the format `,.2f` to print the nice comma-delimiter `,` for thousands, which is useful when printing large numbers. For more examples of formatting, check out <a href=\"https://www.pythoncheatsheet.org/cheatsheet/string-formatting\">this reference</a>."
      ],
      "metadata": {
        "id": "PWRTd2mGESne"
      }
    },
    {
      "cell_type": "markdown",
      "source": [
        "## The `f-string` method\n",
        "The last option uses \"formatted\" strings, a.k.a. f-strings. This is the most modern and most compact approach, so if you're learning Python for the first time, you might want to use this!"
      ],
      "metadata": {
        "id": "dFZr9R2oCKAf"
      }
    },
    {
      "cell_type": "code",
      "source": [
        "# let's again define a few different variables\n",
        "name = \"Linwei\"        # a string\n",
        "age = 32               # an integer\n",
        "gpa = 3.92             # a float\n",
        "\n",
        "print(f\"{name} has age {age} and a GPA of {gpa}\")"
      ],
      "metadata": {
        "id": "1BJsYDqtCKAh"
      },
      "execution_count": null,
      "outputs": []
    },
    {
      "cell_type": "markdown",
      "source": [
        "Here, you just need to put the character `f` before the string, and then enclose in braces `{}` the actual object. Formatting is done inside the `{...} ` in a similar way to the `.format()` method, using the colon `:`"
      ],
      "metadata": {
        "id": "D3OUUWasCKAi"
      }
    },
    {
      "cell_type": "code",
      "source": [
        "# allocate 20 characters to the name, 3 characters to the age, and print 2 digits of\n",
        "print(f\"{name:20s} has age {age:3d} and GPA of {gpa:.2f}.\")\n",
        "\n",
        "# and print a more exotic example to see the difference\n",
        "second_name = \"Jiawei Luo\"\n",
        "print(f\"{second_name:20s} has age {104:3d} and GPA of {55242.435:,.2f}.\")"
      ],
      "metadata": {
        "id": "9KxSwA22CKAi"
      },
      "execution_count": null,
      "outputs": []
    },
    {
      "cell_type": "markdown",
      "source": [
        "# Dictionaries\n",
        "Dictionaries store data in pairs consisting of a lookup \"key\" and a corresponding \"value\". They are defined using curly brackets `{}`."
      ],
      "metadata": {
        "id": "hO4pm0SC6OQx"
      }
    },
    {
      "cell_type": "code",
      "source": [
        "GS_trophies = {}               # define an empty dictionary\n",
        "GS_trophies[\"Federer\"] = 20    # add entry with key \"Federer\" and value 20\n",
        "GS_trophies[\"Nadal\"] = 22      # at least as of 2023...\n",
        "GS_trophies[\"Djokovic\"] = 24   # at least as of 2023...\n",
        "\n",
        "print(GS_trophies)"
      ],
      "metadata": {
        "id": "2zWfwndx6ORH"
      },
      "execution_count": null,
      "outputs": []
    },
    {
      "cell_type": "markdown",
      "source": [
        "You can retrieve or change a value from a dictionary using the key"
      ],
      "metadata": {
        "id": "A5-gTxZVZmBJ"
      }
    },
    {
      "cell_type": "code",
      "source": [
        "# how many trophies does Nadal have now?\n",
        "print(f\"Nadal has: {GS_trophies['Nadal']} trophies\")\n",
        "\n",
        "# increase Nadal's trophy count by 1\n",
        "GS_trophies[\"Nadal\"] += 1\n",
        "print(GS_trophies)"
      ],
      "metadata": {
        "id": "JKAqtZmdZlJw"
      },
      "execution_count": null,
      "outputs": []
    },
    {
      "cell_type": "markdown",
      "source": [
        "The keys and values do not have to have the same data type (just as with lists!)"
      ],
      "metadata": {
        "id": "zh8JHUd0Zz6c"
      }
    },
    {
      "cell_type": "code",
      "source": [
        "# add a new entry with a numeric key and a string value\n",
        "GS_trophies[3.14] = \"Something\"\n",
        "print(GS_trophies)"
      ],
      "metadata": {
        "id": "cVtElGNdZhLG"
      },
      "execution_count": null,
      "outputs": []
    },
    {
      "cell_type": "markdown",
      "source": [
        "The code above also shows how to add a new item in a dictionary. To remove an item based on its key, you can use the `pop(.)` method:"
      ],
      "metadata": {
        "id": "Wa9Hws2cgkDX"
      }
    },
    {
      "cell_type": "code",
      "source": [
        "# remove the weird item that we added above, with key 3.14\n",
        "GS_trophies.pop(3.14)\n",
        "print(GS_trophies)"
      ],
      "metadata": {
        "id": "wxFtfPz_hY3q"
      },
      "execution_count": null,
      "outputs": []
    },
    {
      "cell_type": "markdown",
      "source": [
        "Loop through all the keys in the dictionary, one by one, with a `for` loop:"
      ],
      "metadata": {
        "id": "iBevUn4oiCB2"
      }
    },
    {
      "cell_type": "code",
      "source": [
        "for key in GS_trophies:\n",
        "    print(key)"
      ],
      "metadata": {
        "id": "ts1-NFX4iOBn"
      },
      "execution_count": null,
      "outputs": []
    },
    {
      "cell_type": "markdown",
      "source": [
        "To loop through the values, you can loop through the keys and get the values:"
      ],
      "metadata": {
        "id": "q02rympyiXgA"
      }
    },
    {
      "cell_type": "code",
      "source": [
        "for key in GS_trophies:\n",
        "    print(f\"{key} has {GS_trophies[key]} Grand Slam trophies.\")"
      ],
      "metadata": {
        "id": "Op5BOX3SieLX"
      },
      "execution_count": null,
      "outputs": []
    },
    {
      "cell_type": "markdown",
      "source": [
        "To copy a dictionary, you need to use the `copy(.)` method, just like for a list. (Using `=` will **not** return a copy of the dictionary but will simply give the dictionary a second name...)"
      ],
      "metadata": {
        "id": "LRkpeD1Vb7-k"
      }
    },
    {
      "cell_type": "code",
      "source": [
        "GS_trophies.keys()"
      ],
      "metadata": {
        "id": "uwTQw9MiaJUX"
      },
      "execution_count": null,
      "outputs": []
    },
    {
      "cell_type": "markdown",
      "source": [
        "For more details on dictionaries (including the methods available), check <a\n",
        "href=\"https://www.w3schools.com/python/python_dictionaries.asp\">this</a>."
      ],
      "metadata": {
        "id": "kmmhNgpAjOLN"
      }
    },
    {
      "cell_type": "markdown",
      "source": [
        "# Functions\n",
        "Functions allow organizing the code in blocks that can be called separately (and many times). A function can take several arguments and can return data as a result. In Python, functions are defined using the `def` keyword."
      ],
      "metadata": {
        "id": "gOLtAzIak-SQ"
      }
    },
    {
      "cell_type": "markdown",
      "source": [
        "Define a function with no arguments that prints a message."
      ],
      "metadata": {
        "id": "N0RLciM8lRWy"
      }
    },
    {
      "cell_type": "code",
      "source": [
        "# define a function without any arguments\n",
        "def hello():\n",
        "    print(\"Hello again!\")\n",
        "\n",
        "# now define another function that adds its two arguments\n",
        "def my_smart_addition(a,b):\n",
        "    return a+b\n",
        "\n",
        "# and an even smarter function that returns a+b and a-b as a list\n",
        "def my_smartest_function(a,b):\n",
        "    print(\"This is the smartest function.\")\n",
        "    a_plus_b = my_smart_addition(a,b)\n",
        "    a_minus_b = a-b\n",
        "    return [a_plus_b, a_minus_b]\n",
        "\n",
        "# let's test our functions\n",
        "hello()\n",
        "\n",
        "# this function returns something; let's store and print the result!\n",
        "result = my_smart_addition(2,5)\n",
        "print(result)\n",
        "\n",
        "# this function also returns something; let's store and print the result!\n",
        "result = my_smartest_function(2,5)\n",
        "print(result)\n",
        "\n",
        "# # the following would give an error if uncommented!\n",
        "# Hello()"
      ],
      "metadata": {
        "id": "IVtALsAalQXd"
      },
      "execution_count": null,
      "outputs": []
    },
    {
      "cell_type": "markdown",
      "source": [
        "A few things to note:\n",
        " - the colon `:` is critical in the syntax (just like with `if` and `for`)\n",
        " - functions can take arguments<br>\n",
        "   _For instance, the second function takes as arguments two things a, b. These could be any data type._\n",
        " - the keyword `return` tells the function what value to return <br>\n",
        "   _For instance, the second function returns the sum of its arguments, a + b_\n",
        " - you can call functions inside other functions<br>\n",
        "   _Like we did in the \"smart\" function, which calls the function that adds_\n",
        " - you can return several arguments<br>\n",
        "   _Just package them in a list and return that list, like in the third example_\n",
        " - function names are case-sensitive!"
      ],
      "metadata": {
        "id": "7Hl_vmKflsFm"
      }
    },
    {
      "cell_type": "markdown",
      "source": [
        "# Importing modules\n",
        "A module is essentially a library with lots of functions. By \"importing\" a module with the function `import`, you can use all the functions inside it."
      ],
      "metadata": {
        "id": "FLPRZLmFkw5U"
      }
    },
    {
      "cell_type": "markdown",
      "source": [
        "For instance, in this class we will use the `pandas` module a lot (for some reasons, see the separate section covering it!) To import it, you could do any of the following:\n",
        "\n",
        "> ``import pandas``\n",
        "\n",
        "This imports the \"pandas\" module, and allows us to use the functions it contains; to use the function `read_csv()`, we would have to use the syntax ``pandas.read_csv()``.\n",
        "\n",
        "Because this requires typing the word `pandas` all the time, we can assign it a 'short name' as follows:\n",
        "\n",
        "> ``import pandas as pd``\n",
        "\n",
        "This also imports the full \"pandas\" module, but now we could call the `fname` function using ``pd.read_csv()``. Saving a few characters could mean a lot if you're typing this thousands of times :-)\n",
        "\n",
        "Lastly, there is one more option that we could use:\n",
        "\n",
        "> ``from pandas import *``\n",
        "\n",
        "This imports everything in the pandas module and makes it so that we can just refer to the function using ``read_csv()``. This is useful if the functions are specific enough that you don't think the same name might be defined/used elsewhere, but it could be dangerous if you think there might be overlap."
      ],
      "metadata": {
        "id": "kRRWbTUFtJ-l"
      }
    },
    {
      "cell_type": "markdown",
      "source": [
        "# Pandas module\n",
        "Pandas is a Python library used for working with data sets. It has very useful functions for analyzing, cleaning, exploring, and manipulating data, and we will be using it a lot throughout our class. (And in case you're wondering, the name is **not** about an animal, for a change.... It's actually short for \"panel data\"!) Over coverage here will be very brief, but if you want more, see, e.g., <a href=\"https://www.w3schools.com/python/pandas/default.asp\">this resource.</a>"
      ],
      "metadata": {
        "id": "hMQ4xKVnjfMf"
      }
    },
    {
      "cell_type": "code",
      "source": [
        "# let's first import the module\n",
        "import pandas as pd"
      ],
      "metadata": {
        "id": "96K3U_YezCUL"
      },
      "execution_count": null,
      "outputs": []
    },
    {
      "cell_type": "markdown",
      "source": [
        "## Series\n",
        "The most basic object in `pandas` is a `Series`, which can be created with the `Series(.)` function. You can think of as a column in a table (think of a column in Excel!)"
      ],
      "metadata": {
        "id": "fm9cFukfzPq3"
      }
    },
    {
      "cell_type": "code",
      "source": [
        "my_list = [24, 56, 99]            # create a simple list\n",
        "my_series = pd.Series(my_list)    # now create a series from the list\n",
        "\n",
        "print(my_series)                  # print the series"
      ],
      "metadata": {
        "id": "R7vXKP0Rzfyh"
      },
      "execution_count": null,
      "outputs": []
    },
    {
      "cell_type": "markdown",
      "source": [
        "Note that `pandas` assigns a label (called an **index**) to each element in the series. If you don't specify anything, these labels/indices will be the integers 0, 1, 2, ... You can also specify your own custom labels with the `index` argument, as below."
      ],
      "metadata": {
        "id": "kvSkMHTDzRyR"
      }
    },
    {
      "cell_type": "code",
      "source": [
        "# create a series with a given index\n",
        "my_series = pd.Series(my_list, index = [\"a\", \"b\", \"c\"])\n",
        "print(my_series)                  # print the series"
      ],
      "metadata": {
        "id": "-XVQZh0nzPVi"
      },
      "execution_count": null,
      "outputs": []
    },
    {
      "cell_type": "markdown",
      "source": [
        "By themselves, the Series are not terribly useful, but they form the basis of DataFrames, so it's good to understand them separately."
      ],
      "metadata": {
        "id": "vEat5DDIy_y1"
      }
    },
    {
      "cell_type": "markdown",
      "source": [
        "## DataFrames\n",
        "DataFrames are the fundamental way in which data is organized in `pandas.` You can think of a DataFrame in close analogy with a table in Excel: it is a two-dimensional table that has Series as its columns."
      ],
      "metadata": {
        "id": "96o22Bao-biJ"
      }
    },
    {
      "cell_type": "markdown",
      "source": [
        "### Basics"
      ],
      "metadata": {
        "id": "oHeCtjNMBanP"
      }
    },
    {
      "cell_type": "markdown",
      "source": [
        "Normally we read DataFrames from files, but here, we will show you two ways to create a DataFrame, either from a list of lists or from a dictionary. These might be useful in their own right.\n",
        "\n",
        "First, this is how to create a DataFrame from a dictionary. The keys correspond to the column names, and the values correspond to the values of the column (for every row)."
      ],
      "metadata": {
        "id": "p2rM0JsYC30r"
      }
    },
    {
      "cell_type": "code",
      "source": [
        "# a dictionary that stores some data\n",
        "dictionary_with_data = {\n",
        "    'Name': ['Alice', 'Bob', 'Charlie', 'David'],\n",
        "    'Age': [25, 30, 22, 28],\n",
        "    'Id' : [10001, 10002, 10003, 10004],\n",
        "    'City': ['New York', 'San Francisco', 'Los Angeles', 'Chicago']\n",
        "}\n",
        "\n",
        "# create a DataFrame from the dictionary\n",
        "df = pd.DataFrame(dictionary_with_data)\n",
        "\n",
        "# display it\n",
        "display(df)"
      ],
      "metadata": {
        "id": "ywB2WTFj-bif"
      },
      "execution_count": null,
      "outputs": []
    },
    {
      "cell_type": "markdown",
      "source": [
        "Next, you can create a DataFrame also from a list of lists. The outer list contains one element for each **row** of the dataframe; each element of the outer list is itself a list, that contains the values for each column (corresponding to a row). We use the same example as above for clarity."
      ],
      "metadata": {
        "id": "NCl7wCTPCyjt"
      }
    },
    {
      "cell_type": "code",
      "source": [
        "# a list of lists (!) to store the data\n",
        "list_of_lists_of_data = [ ['Alice', 25, 10001, 'New York'], \\\n",
        " ['Bob', 30, 10002, 'San Francisco'], \\\n",
        " ['Charlie', 22, 10003, 'Los Angeles'], \\\n",
        " ['David', 28, 10004, 'Chicago'] ]\n",
        "\n",
        "# create a DataFrame from the dictionary\n",
        "df = pd.DataFrame(list_of_lists_of_data, columns = [\"Name\", \"Age\", \"Id\", \"City\"])\n",
        "\n",
        "# display it\n",
        "display(df)"
      ],
      "metadata": {
        "id": "9DNZ2v51DOho"
      },
      "execution_count": null,
      "outputs": []
    },
    {
      "cell_type": "markdown",
      "source": [
        "As you can see, the DataFrame is basically a table with rows and columns. The column labels/names here are \"Name\", \"Age\", \"Id\", and \"City\". The rows are labeled with 0, 1, 2, 3, which you can see displayed in the first column (to be clear, that column is not really part of our DataFrame, so the first actual column is \"Name\"). Just like for a `Series`, `pandas` assigned these labels automatically when we created the DataFrame, and it used 0, 1, 2, 3 because we didn't specify custom ones (with the `index` argument).<br>\n",
        "\n",
        "The function `display(.)`, which we already used above, is great for visualizing DataFrames. In a large DataFrame, you may want to only display a few rows, which you can do with the `head(.)` method:"
      ],
      "metadata": {
        "id": "O429TrsX-big"
      }
    },
    {
      "cell_type": "code",
      "source": [
        "# display the first 2 rows\n",
        "df.head(2)"
      ],
      "metadata": {
        "id": "xTpSyhKwJcRA"
      },
      "execution_count": null,
      "outputs": []
    },
    {
      "cell_type": "markdown",
      "source": [
        "To find out the number of rows, use `len(.)`"
      ],
      "metadata": {
        "id": "fR9aYyAL8ncW"
      }
    },
    {
      "cell_type": "code",
      "source": [
        "# print the number of rows in the DataFrame\n",
        "print(len(df))"
      ],
      "metadata": {
        "id": "57EoI3C68qt8"
      },
      "execution_count": null,
      "outputs": []
    },
    {
      "cell_type": "markdown",
      "source": [
        "If you need both the number of rows and the number of columns, use `shape`"
      ],
      "metadata": {
        "id": "kB_EjOT-BPO3"
      }
    },
    {
      "cell_type": "code",
      "source": [
        "df.shape"
      ],
      "metadata": {
        "id": "Aow_V08DBT3Z"
      },
      "execution_count": null,
      "outputs": []
    },
    {
      "cell_type": "markdown",
      "source": [
        "### Column operations"
      ],
      "metadata": {
        "id": "usyuuaoqNHuf"
      }
    },
    {
      "cell_type": "markdown",
      "source": [
        "You can see a specific column using the syntax `df[column_name]`:"
      ],
      "metadata": {
        "id": "AczO9D9HI1Bv"
      }
    },
    {
      "cell_type": "code",
      "source": [
        "# check out the column \"Age\" : this is a Series, with integer values\n",
        "df[\"Age\"]"
      ],
      "metadata": {
        "id": "5vCUGSjwIkoE"
      },
      "execution_count": null,
      "outputs": []
    },
    {
      "cell_type": "markdown",
      "source": [
        "To rename a column, use the `rename(.)` DataFrame method"
      ],
      "metadata": {
        "id": "y9eKtGSmNMMH"
      }
    },
    {
      "cell_type": "code",
      "source": [
        "# rename the \"City\" column as 'Location' and the 'Age' as 'Years'\n",
        "df.rename(columns={'City': 'Location', 'Age': 'Years'}, inplace=True)\n",
        "display(df)"
      ],
      "metadata": {
        "id": "m-fVwaYhNb6V"
      },
      "execution_count": null,
      "outputs": []
    },
    {
      "cell_type": "markdown",
      "source": [
        "The argument `inplace`=True is needed to make sure that the DataFrame is actually changed (otherwise, the `rename` method just returns a new DataFrame, without changing the existing one)."
      ],
      "metadata": {
        "id": "H_sqo-Q6NqLx"
      }
    },
    {
      "cell_type": "markdown",
      "source": [
        "To obtain the names of all the columns, use the attribute `df.columns`."
      ],
      "metadata": {
        "id": "wfBLqTPPJT6Q"
      }
    },
    {
      "cell_type": "code",
      "source": [
        "# get all the column names\n",
        "df.columns"
      ],
      "metadata": {
        "id": "EuAFJ_YeI0ng"
      },
      "execution_count": null,
      "outputs": []
    },
    {
      "cell_type": "markdown",
      "source": [
        "As you can see, this returns an `Index` object (which we have not discussed), but you can iterate through it with a usual `for` loop or you can transform it into a regular Python List with the function `list`."
      ],
      "metadata": {
        "id": "r1X2VJ6TLdeq"
      }
    },
    {
      "cell_type": "code",
      "source": [
        "# let's iterate through the names of the columns with a for loop\n",
        "for c in df.columns:\n",
        "     print(c)\n",
        "\n",
        "# let's store the columns in a list and display the list\n",
        "column_names = list(df.columns)\n",
        "print(column_names)"
      ],
      "metadata": {
        "id": "fOfUGtZdJyxI"
      },
      "execution_count": null,
      "outputs": []
    },
    {
      "cell_type": "markdown",
      "source": [
        "<font color=red>**Warning!**</font>`df.columns` **is not a method**! If you use round brackets, you will get an error:"
      ],
      "metadata": {
        "id": "-RrpCWyKJzKE"
      }
    },
    {
      "cell_type": "code",
      "source": [
        "# # the following would generate an error!\n",
        "# df.columns()"
      ],
      "metadata": {
        "id": "rfUATKyXLWKN"
      },
      "execution_count": null,
      "outputs": []
    },
    {
      "cell_type": "markdown",
      "source": [
        "### Row operations"
      ],
      "metadata": {
        "id": "9qmr877by_Lv"
      }
    },
    {
      "cell_type": "markdown",
      "source": [
        "To get all the row labels, used `df.index`."
      ],
      "metadata": {
        "id": "wjd4n-X_KN4n"
      }
    },
    {
      "cell_type": "code",
      "source": [
        "# get all the row labels\n",
        "df.index"
      ],
      "metadata": {
        "id": "bBPGyTRBKaqA"
      },
      "execution_count": null,
      "outputs": []
    },
    {
      "cell_type": "markdown",
      "source": [
        "This also returns an object (a `RangeIndex`), but you can readily loop through it with a `for` or store it as a list."
      ],
      "metadata": {
        "id": "TbTZ1u5yKmWx"
      }
    },
    {
      "cell_type": "code",
      "source": [
        "# let's iterate through the indices of all the rows\n",
        "for i in df.index:\n",
        "     print(i)\n",
        "\n",
        "# let's store the columns in a list and display the list\n",
        "row_idx = list(df.index)\n",
        "print(row_idx)"
      ],
      "metadata": {
        "id": "5P-FGaHOKw7L"
      },
      "execution_count": null,
      "outputs": []
    },
    {
      "cell_type": "markdown",
      "source": [
        "To change the row labels used for the DataFrame:\n",
        " - to set these to the values of an existing column, use the `set_index` method\n",
        " - to set these to some Python list, assign the `index` attribute\n",
        "**Warning** To make sure you avoid ambiguities, the labels should always contain unique values."
      ],
      "metadata": {
        "id": "2lxLso3rM5nN"
      }
    },
    {
      "cell_type": "code",
      "source": [
        "# assign the index to the column 'Id', which in our case has unique id's\n",
        "df.set_index('Id', inplace=True)\n",
        "\n",
        "display(df)"
      ],
      "metadata": {
        "id": "WUqCEqPX7Tf6"
      },
      "execution_count": null,
      "outputs": []
    },
    {
      "cell_type": "markdown",
      "source": [
        "As you can see, the row labels are now given by the \"Id\" column. Now let's set these to a, b, c, ..."
      ],
      "metadata": {
        "id": "7YuFrNBLM5ci"
      }
    },
    {
      "cell_type": "code",
      "source": [
        "# change the index to 0, 1, ...\n",
        "df.index = list(['a','b','c','d'])\n",
        "\n",
        "display(df)"
      ],
      "metadata": {
        "id": "iG6WNZkA8RVd"
      },
      "execution_count": null,
      "outputs": []
    },
    {
      "cell_type": "markdown",
      "source": [
        "### Retrieve elements\n",
        "One of the most important operations with a DataFrame is to retrieve an element located at a certain row and column."
      ],
      "metadata": {
        "id": "GPQRmi7p9sHB"
      }
    },
    {
      "cell_type": "markdown",
      "source": [
        "If you know the row and column labels, there are two approaches:\n",
        " 1. use `df[column_label][row_label]`\n",
        " 2. use `df.loc[row_label, column_label]`\n",
        "\n",
        "First time you see this, it might look a bit confusing, especially because the order or rows/columns is switched! Recall that `df[column_label]` from approach (1) returns the `Series` corresponding to the column named `column_label`, so then, applying `[row_label]` to that simply returns the element at the `[row_label]` location. In contrast, (2) is the (arguably more natural) approach of indexing first with the row and then the column. Let's see them in action:"
      ],
      "metadata": {
        "id": "N1pTsjOS9RS4"
      }
    },
    {
      "cell_type": "code",
      "source": [
        "# let's get the element on row 'c' and column \"Years\"\n",
        "print(df[\"Years\"]['c'])   # approach 1\n",
        "print(df.loc['c',\"Years\"])    # approach 2"
      ],
      "metadata": {
        "id": "cknhcMss-XzM"
      },
      "execution_count": null,
      "outputs": []
    },
    {
      "cell_type": "markdown",
      "source": [
        "`df.loc` actually allows you to recover several rows and columns (i.e., an entire sub-table) of the DataFrame"
      ],
      "metadata": {
        "id": "VMhlBu5I_44a"
      }
    },
    {
      "cell_type": "code",
      "source": [
        "df.loc['c':'e',[\"Name\", \"Location\"]]"
      ],
      "metadata": {
        "id": "V-1FWwCi_4IS"
      },
      "execution_count": null,
      "outputs": []
    },
    {
      "cell_type": "markdown",
      "source": [
        "Another option is to index into the DataFrame using entirely numeric indices, using `iloc`, with syntax:\n",
        "> `df.iloc[numeric_row_index, numeric_column_index]`\n",
        "\n",
        "To not get confused here, remember that Python uses 0-based indexing (and the very first column, which lists the row labels, does not count as a proper column)."
      ],
      "metadata": {
        "id": "8XTlzm0MHOdW"
      }
    },
    {
      "cell_type": "code",
      "source": [
        "# let's retrieve the element in row 1 and column 1\n",
        "df.iloc[0, 0]"
      ],
      "metadata": {
        "id": "OYGcKwhwGeW1"
      },
      "execution_count": null,
      "outputs": []
    },
    {
      "cell_type": "markdown",
      "source": [
        "### Looping\n",
        "To loop through the elements in a row or a column (or a sub-table), you can just use a regular `for` loop"
      ],
      "metadata": {
        "id": "NJ9Hg79qAWBX"
      }
    },
    {
      "cell_type": "code",
      "source": [
        "# let's loop through the entire DataFrame on columns\n",
        "for c in list(df.columns):\n",
        "    # for every column\n",
        "    for r in list(df.index):\n",
        "        # for every row\n",
        "        print(df.loc[r,c])"
      ],
      "metadata": {
        "id": "_R6RczF8Af-7"
      },
      "execution_count": null,
      "outputs": []
    },
    {
      "cell_type": "code",
      "source": [
        "# now let's loop on rows, and using numeric indexing\n",
        "(num_rows, num_cols) = df.shape\n",
        "for r in range(num_rows):\n",
        "    # for every row\n",
        "    for c in range(num_cols):\n",
        "        # for every column\n",
        "        print(df.iloc[r,c])"
      ],
      "metadata": {
        "id": "XlxPDhihA2hC"
      },
      "execution_count": null,
      "outputs": []
    },
    {
      "cell_type": "markdown",
      "source": [
        "Depending on what calculation you need, looping with `for` loops like above may not be the best approach; instead, we may want to use a list comprehension (something we will do often together) or one of the built-in DataFrame functions. `DataFrames` and more broadly the `pandas` module have a lot of powerful functionality built-in, and you will likely explore more of that in your D&D class. For now, if you want more details, you can check out one of the many tutorials available online (e.g., <a href=\"https://www.datacamp.com/tutorial/pandas-tutorial-dataframe-python\">the DataCamp one</a>) or <a href=\"https://pandas.pydata.org/docs/reference/frame.html\">the official Python manual</a>."
      ],
      "metadata": {
        "id": "KOQKLuBH6Ee9"
      }
    },
    {
      "cell_type": "markdown",
      "source": [
        "## Reading data files\n",
        "We will read data files using panda's `read_csv` or `read_excel` functions."
      ],
      "metadata": {
        "id": "vhFaZvbvC0DZ"
      }
    },
    {
      "cell_type": "markdown",
      "source": [
        "This code assumes that you important the pandas module with the command `import pandas as pd`. For reading CSV files, the most common syntax we use is:\n",
        "> `df = pd.read_csv(full_file_name, index_col)`<br>\n",
        "where:\n",
        " - `full_file_name`: complete filename, including path if needed\n",
        " - `index_col` : the name or numeric index of the column to use to construct the row labels (this is optional, and if you don't specify it, Python will use 0, 1, 2, ...)\n",
        "\n",
        "For reading CSV files, the most common syntax we use is:\n",
        "> `df = pd.read_excel(full_file_name, sheet_name, index_col)`<br>\n",
        "where:\n",
        " - `full_file_name`: complete filename, including path if needed\n",
        " - `sheet_name`: the name of the sheet\n",
        " - `index_col`: the name or numeric index of the column to use to construct the row labels; (optional, and if you don't specify it, Python will use 0, 1, 2, ...)"
      ],
      "metadata": {
        "id": "qXirwpViEOi0"
      }
    },
    {
      "cell_type": "markdown",
      "source": [
        "# Plotting\n",
        "We will do most of our plotting with the `pyplot` library, which is contained inside the `matplotlib` library."
      ],
      "metadata": {
        "id": "5hE-vfJnCn3-"
      }
    },
    {
      "cell_type": "code",
      "source": [
        "# import pyplot library from the matplotlib library\n",
        "import matplotlib.pyplot as plt"
      ],
      "metadata": {
        "id": "6hRkRA_-HcYt"
      },
      "execution_count": null,
      "outputs": []
    },
    {
      "cell_type": "markdown",
      "source": [
        "For line plots, we use the `plot` function"
      ],
      "metadata": {
        "id": "mBpq0oIiG5hf"
      }
    },
    {
      "cell_type": "code",
      "source": [
        "# let's plot the function 3*x+2 for x in 0, 1, ..., 10\n",
        "xpoints = list(range(11))               # the values of x\n",
        "ypoints = [3*x+2 for x in xpoints]      # a list with the values of y = 3x+2\n",
        "\n",
        "plt.plot(xpoints, ypoints)\n",
        "plt.show()"
      ],
      "metadata": {
        "id": "Y0NdPEFXG48w"
      },
      "execution_count": null,
      "outputs": []
    },
    {
      "cell_type": "markdown",
      "source": [
        "For a scatter plot, use `scatter`"
      ],
      "metadata": {
        "id": "2HGEHyU7J2Gh"
      }
    },
    {
      "cell_type": "code",
      "source": [
        "# let's plot the same function as above\n",
        "plt.scatter(xpoints, ypoints)\n",
        "plt.show()"
      ],
      "metadata": {
        "id": "a668mzrfJ1n5"
      },
      "execution_count": null,
      "outputs": []
    },
    {
      "cell_type": "markdown",
      "source": [
        "Many things could be adjusted in a plot. <a href=\"https://matplotlib.org/2.0.2/users/pyplot_tutorial.html\">This tutorial</a> could be a useful reference, but we also recommend leveraging AI bots for this: with some suitable prompting and a few iterations, they can typically get you pretty nice-looking plots!"
      ],
      "metadata": {
        "id": "eX7ORaTfH7dz"
      }
    }
  ]
}